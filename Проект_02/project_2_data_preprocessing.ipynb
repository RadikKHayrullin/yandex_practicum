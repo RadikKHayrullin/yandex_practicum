{
 "cells": [
  {
   "cell_type": "markdown",
   "id": "386f2ae7",
   "metadata": {
    "deletable": false,
    "editable": false,
    "id": "386f2ae7"
   },
   "source": [
    "# Исследование надежности заемщиков\n"
   ]
  },
  {
   "cell_type": "markdown",
   "id": "ffe86f65",
   "metadata": {
    "deletable": false,
    "editable": false,
    "id": "ffe86f65"
   },
   "source": [
    "Во второй части проекта вы выполните шаги 3 и 4. Их вручную проверит ревьюер.\n",
    "Чтобы вам не пришлось писать код заново для шагов 1 и 2, мы добавили авторские решения в ячейки с кодом. \n",
    "\n"
   ]
  },
  {
   "cell_type": "markdown",
   "id": "26613308",
   "metadata": {
    "deletable": false,
    "editable": false,
    "id": "26613308"
   },
   "source": [
    "## Откройте таблицу и изучите общую информацию о данных"
   ]
  },
  {
   "cell_type": "markdown",
   "id": "3c9f838e",
   "metadata": {
    "deletable": false,
    "editable": false,
    "id": "3c9f838e"
   },
   "source": [
    "**Задание 1. Импортируйте библиотеку pandas. Считайте данные из csv-файла в датафрейм и сохраните в переменную `data`. Путь к файлу:**\n",
    "\n",
    "`/datasets/data.csv`"
   ]
  },
  {
   "cell_type": "code",
   "execution_count": 1,
   "id": "77a68a90",
   "metadata": {
    "deletable": false,
    "id": "77a68a90"
   },
   "outputs": [],
   "source": [
    "import pandas as pd\n",
    "\n",
    "data = pd.read_csv(r\"C:\\Users\\Delta-Copm\\Documents\\Аналитик данных\\Проекты\\data_2_borrower_reliability_research.csv\")"
   ]
  },
  {
   "cell_type": "markdown",
   "id": "45365635",
   "metadata": {
    "deletable": false,
    "editable": false,
    "id": "45365635"
   },
   "source": [
    "**Задание 2. Выведите первые 20 строчек датафрейма `data` на экран.**"
   ]
  },
  {
   "cell_type": "code",
   "execution_count": 2,
   "id": "b0451a9a",
   "metadata": {
    "deletable": false,
    "id": "b0451a9a",
    "outputId": "1a8f3ef2-d323-4ec2-ddf7-89670b5944c4"
   },
   "outputs": [
    {
     "data": {
      "text/html": [
       "<div>\n",
       "<style scoped>\n",
       "    .dataframe tbody tr th:only-of-type {\n",
       "        vertical-align: middle;\n",
       "    }\n",
       "\n",
       "    .dataframe tbody tr th {\n",
       "        vertical-align: top;\n",
       "    }\n",
       "\n",
       "    .dataframe thead th {\n",
       "        text-align: right;\n",
       "    }\n",
       "</style>\n",
       "<table border=\"1\" class=\"dataframe\">\n",
       "  <thead>\n",
       "    <tr style=\"text-align: right;\">\n",
       "      <th></th>\n",
       "      <th>children</th>\n",
       "      <th>days_employed</th>\n",
       "      <th>dob_years</th>\n",
       "      <th>education</th>\n",
       "      <th>education_id</th>\n",
       "      <th>family_status</th>\n",
       "      <th>family_status_id</th>\n",
       "      <th>gender</th>\n",
       "      <th>income_type</th>\n",
       "      <th>debt</th>\n",
       "      <th>total_income</th>\n",
       "      <th>purpose</th>\n",
       "    </tr>\n",
       "  </thead>\n",
       "  <tbody>\n",
       "    <tr>\n",
       "      <th>0</th>\n",
       "      <td>1</td>\n",
       "      <td>-8437.673028</td>\n",
       "      <td>42</td>\n",
       "      <td>высшее</td>\n",
       "      <td>0</td>\n",
       "      <td>женат / замужем</td>\n",
       "      <td>0</td>\n",
       "      <td>F</td>\n",
       "      <td>сотрудник</td>\n",
       "      <td>0</td>\n",
       "      <td>253875.639453</td>\n",
       "      <td>покупка жилья</td>\n",
       "    </tr>\n",
       "    <tr>\n",
       "      <th>1</th>\n",
       "      <td>1</td>\n",
       "      <td>-4024.803754</td>\n",
       "      <td>36</td>\n",
       "      <td>среднее</td>\n",
       "      <td>1</td>\n",
       "      <td>женат / замужем</td>\n",
       "      <td>0</td>\n",
       "      <td>F</td>\n",
       "      <td>сотрудник</td>\n",
       "      <td>0</td>\n",
       "      <td>112080.014102</td>\n",
       "      <td>приобретение автомобиля</td>\n",
       "    </tr>\n",
       "    <tr>\n",
       "      <th>2</th>\n",
       "      <td>0</td>\n",
       "      <td>-5623.422610</td>\n",
       "      <td>33</td>\n",
       "      <td>Среднее</td>\n",
       "      <td>1</td>\n",
       "      <td>женат / замужем</td>\n",
       "      <td>0</td>\n",
       "      <td>M</td>\n",
       "      <td>сотрудник</td>\n",
       "      <td>0</td>\n",
       "      <td>145885.952297</td>\n",
       "      <td>покупка жилья</td>\n",
       "    </tr>\n",
       "    <tr>\n",
       "      <th>3</th>\n",
       "      <td>3</td>\n",
       "      <td>-4124.747207</td>\n",
       "      <td>32</td>\n",
       "      <td>среднее</td>\n",
       "      <td>1</td>\n",
       "      <td>женат / замужем</td>\n",
       "      <td>0</td>\n",
       "      <td>M</td>\n",
       "      <td>сотрудник</td>\n",
       "      <td>0</td>\n",
       "      <td>267628.550329</td>\n",
       "      <td>дополнительное образование</td>\n",
       "    </tr>\n",
       "    <tr>\n",
       "      <th>4</th>\n",
       "      <td>0</td>\n",
       "      <td>340266.072047</td>\n",
       "      <td>53</td>\n",
       "      <td>среднее</td>\n",
       "      <td>1</td>\n",
       "      <td>гражданский брак</td>\n",
       "      <td>1</td>\n",
       "      <td>F</td>\n",
       "      <td>пенсионер</td>\n",
       "      <td>0</td>\n",
       "      <td>158616.077870</td>\n",
       "      <td>сыграть свадьбу</td>\n",
       "    </tr>\n",
       "    <tr>\n",
       "      <th>5</th>\n",
       "      <td>0</td>\n",
       "      <td>-926.185831</td>\n",
       "      <td>27</td>\n",
       "      <td>высшее</td>\n",
       "      <td>0</td>\n",
       "      <td>гражданский брак</td>\n",
       "      <td>1</td>\n",
       "      <td>M</td>\n",
       "      <td>компаньон</td>\n",
       "      <td>0</td>\n",
       "      <td>255763.565419</td>\n",
       "      <td>покупка жилья</td>\n",
       "    </tr>\n",
       "    <tr>\n",
       "      <th>6</th>\n",
       "      <td>0</td>\n",
       "      <td>-2879.202052</td>\n",
       "      <td>43</td>\n",
       "      <td>высшее</td>\n",
       "      <td>0</td>\n",
       "      <td>женат / замужем</td>\n",
       "      <td>0</td>\n",
       "      <td>F</td>\n",
       "      <td>компаньон</td>\n",
       "      <td>0</td>\n",
       "      <td>240525.971920</td>\n",
       "      <td>операции с жильем</td>\n",
       "    </tr>\n",
       "    <tr>\n",
       "      <th>7</th>\n",
       "      <td>0</td>\n",
       "      <td>-152.779569</td>\n",
       "      <td>50</td>\n",
       "      <td>СРЕДНЕЕ</td>\n",
       "      <td>1</td>\n",
       "      <td>женат / замужем</td>\n",
       "      <td>0</td>\n",
       "      <td>M</td>\n",
       "      <td>сотрудник</td>\n",
       "      <td>0</td>\n",
       "      <td>135823.934197</td>\n",
       "      <td>образование</td>\n",
       "    </tr>\n",
       "    <tr>\n",
       "      <th>8</th>\n",
       "      <td>2</td>\n",
       "      <td>-6929.865299</td>\n",
       "      <td>35</td>\n",
       "      <td>ВЫСШЕЕ</td>\n",
       "      <td>0</td>\n",
       "      <td>гражданский брак</td>\n",
       "      <td>1</td>\n",
       "      <td>F</td>\n",
       "      <td>сотрудник</td>\n",
       "      <td>0</td>\n",
       "      <td>95856.832424</td>\n",
       "      <td>на проведение свадьбы</td>\n",
       "    </tr>\n",
       "    <tr>\n",
       "      <th>9</th>\n",
       "      <td>0</td>\n",
       "      <td>-2188.756445</td>\n",
       "      <td>41</td>\n",
       "      <td>среднее</td>\n",
       "      <td>1</td>\n",
       "      <td>женат / замужем</td>\n",
       "      <td>0</td>\n",
       "      <td>M</td>\n",
       "      <td>сотрудник</td>\n",
       "      <td>0</td>\n",
       "      <td>144425.938277</td>\n",
       "      <td>покупка жилья для семьи</td>\n",
       "    </tr>\n",
       "    <tr>\n",
       "      <th>10</th>\n",
       "      <td>2</td>\n",
       "      <td>-4171.483647</td>\n",
       "      <td>36</td>\n",
       "      <td>высшее</td>\n",
       "      <td>0</td>\n",
       "      <td>женат / замужем</td>\n",
       "      <td>0</td>\n",
       "      <td>M</td>\n",
       "      <td>компаньон</td>\n",
       "      <td>0</td>\n",
       "      <td>113943.491460</td>\n",
       "      <td>покупка недвижимости</td>\n",
       "    </tr>\n",
       "    <tr>\n",
       "      <th>11</th>\n",
       "      <td>0</td>\n",
       "      <td>-792.701887</td>\n",
       "      <td>40</td>\n",
       "      <td>среднее</td>\n",
       "      <td>1</td>\n",
       "      <td>женат / замужем</td>\n",
       "      <td>0</td>\n",
       "      <td>F</td>\n",
       "      <td>сотрудник</td>\n",
       "      <td>0</td>\n",
       "      <td>77069.234271</td>\n",
       "      <td>покупка коммерческой недвижимости</td>\n",
       "    </tr>\n",
       "    <tr>\n",
       "      <th>12</th>\n",
       "      <td>0</td>\n",
       "      <td>NaN</td>\n",
       "      <td>65</td>\n",
       "      <td>среднее</td>\n",
       "      <td>1</td>\n",
       "      <td>гражданский брак</td>\n",
       "      <td>1</td>\n",
       "      <td>M</td>\n",
       "      <td>пенсионер</td>\n",
       "      <td>0</td>\n",
       "      <td>NaN</td>\n",
       "      <td>сыграть свадьбу</td>\n",
       "    </tr>\n",
       "    <tr>\n",
       "      <th>13</th>\n",
       "      <td>0</td>\n",
       "      <td>-1846.641941</td>\n",
       "      <td>54</td>\n",
       "      <td>неоконченное высшее</td>\n",
       "      <td>2</td>\n",
       "      <td>женат / замужем</td>\n",
       "      <td>0</td>\n",
       "      <td>F</td>\n",
       "      <td>сотрудник</td>\n",
       "      <td>0</td>\n",
       "      <td>130458.228857</td>\n",
       "      <td>приобретение автомобиля</td>\n",
       "    </tr>\n",
       "    <tr>\n",
       "      <th>14</th>\n",
       "      <td>0</td>\n",
       "      <td>-1844.956182</td>\n",
       "      <td>56</td>\n",
       "      <td>высшее</td>\n",
       "      <td>0</td>\n",
       "      <td>гражданский брак</td>\n",
       "      <td>1</td>\n",
       "      <td>F</td>\n",
       "      <td>компаньон</td>\n",
       "      <td>1</td>\n",
       "      <td>165127.911772</td>\n",
       "      <td>покупка жилой недвижимости</td>\n",
       "    </tr>\n",
       "    <tr>\n",
       "      <th>15</th>\n",
       "      <td>1</td>\n",
       "      <td>-972.364419</td>\n",
       "      <td>26</td>\n",
       "      <td>среднее</td>\n",
       "      <td>1</td>\n",
       "      <td>женат / замужем</td>\n",
       "      <td>0</td>\n",
       "      <td>F</td>\n",
       "      <td>сотрудник</td>\n",
       "      <td>0</td>\n",
       "      <td>116820.904450</td>\n",
       "      <td>строительство собственной недвижимости</td>\n",
       "    </tr>\n",
       "    <tr>\n",
       "      <th>16</th>\n",
       "      <td>0</td>\n",
       "      <td>-1719.934226</td>\n",
       "      <td>35</td>\n",
       "      <td>среднее</td>\n",
       "      <td>1</td>\n",
       "      <td>женат / замужем</td>\n",
       "      <td>0</td>\n",
       "      <td>F</td>\n",
       "      <td>сотрудник</td>\n",
       "      <td>0</td>\n",
       "      <td>289202.704229</td>\n",
       "      <td>недвижимость</td>\n",
       "    </tr>\n",
       "    <tr>\n",
       "      <th>17</th>\n",
       "      <td>0</td>\n",
       "      <td>-2369.999720</td>\n",
       "      <td>33</td>\n",
       "      <td>высшее</td>\n",
       "      <td>0</td>\n",
       "      <td>гражданский брак</td>\n",
       "      <td>1</td>\n",
       "      <td>M</td>\n",
       "      <td>сотрудник</td>\n",
       "      <td>0</td>\n",
       "      <td>90410.586745</td>\n",
       "      <td>строительство недвижимости</td>\n",
       "    </tr>\n",
       "    <tr>\n",
       "      <th>18</th>\n",
       "      <td>0</td>\n",
       "      <td>400281.136913</td>\n",
       "      <td>53</td>\n",
       "      <td>среднее</td>\n",
       "      <td>1</td>\n",
       "      <td>вдовец / вдова</td>\n",
       "      <td>2</td>\n",
       "      <td>F</td>\n",
       "      <td>пенсионер</td>\n",
       "      <td>0</td>\n",
       "      <td>56823.777243</td>\n",
       "      <td>на покупку подержанного автомобиля</td>\n",
       "    </tr>\n",
       "    <tr>\n",
       "      <th>19</th>\n",
       "      <td>0</td>\n",
       "      <td>-10038.818549</td>\n",
       "      <td>48</td>\n",
       "      <td>СРЕДНЕЕ</td>\n",
       "      <td>1</td>\n",
       "      <td>в разводе</td>\n",
       "      <td>3</td>\n",
       "      <td>F</td>\n",
       "      <td>сотрудник</td>\n",
       "      <td>0</td>\n",
       "      <td>242831.107982</td>\n",
       "      <td>на покупку своего автомобиля</td>\n",
       "    </tr>\n",
       "  </tbody>\n",
       "</table>\n",
       "</div>"
      ],
      "text/plain": [
       "    children  days_employed  dob_years            education  education_id  \\\n",
       "0          1   -8437.673028         42               высшее             0   \n",
       "1          1   -4024.803754         36              среднее             1   \n",
       "2          0   -5623.422610         33              Среднее             1   \n",
       "3          3   -4124.747207         32              среднее             1   \n",
       "4          0  340266.072047         53              среднее             1   \n",
       "5          0    -926.185831         27               высшее             0   \n",
       "6          0   -2879.202052         43               высшее             0   \n",
       "7          0    -152.779569         50              СРЕДНЕЕ             1   \n",
       "8          2   -6929.865299         35               ВЫСШЕЕ             0   \n",
       "9          0   -2188.756445         41              среднее             1   \n",
       "10         2   -4171.483647         36               высшее             0   \n",
       "11         0    -792.701887         40              среднее             1   \n",
       "12         0            NaN         65              среднее             1   \n",
       "13         0   -1846.641941         54  неоконченное высшее             2   \n",
       "14         0   -1844.956182         56               высшее             0   \n",
       "15         1    -972.364419         26              среднее             1   \n",
       "16         0   -1719.934226         35              среднее             1   \n",
       "17         0   -2369.999720         33               высшее             0   \n",
       "18         0  400281.136913         53              среднее             1   \n",
       "19         0  -10038.818549         48              СРЕДНЕЕ             1   \n",
       "\n",
       "       family_status  family_status_id gender income_type  debt  \\\n",
       "0    женат / замужем                 0      F   сотрудник     0   \n",
       "1    женат / замужем                 0      F   сотрудник     0   \n",
       "2    женат / замужем                 0      M   сотрудник     0   \n",
       "3    женат / замужем                 0      M   сотрудник     0   \n",
       "4   гражданский брак                 1      F   пенсионер     0   \n",
       "5   гражданский брак                 1      M   компаньон     0   \n",
       "6    женат / замужем                 0      F   компаньон     0   \n",
       "7    женат / замужем                 0      M   сотрудник     0   \n",
       "8   гражданский брак                 1      F   сотрудник     0   \n",
       "9    женат / замужем                 0      M   сотрудник     0   \n",
       "10   женат / замужем                 0      M   компаньон     0   \n",
       "11   женат / замужем                 0      F   сотрудник     0   \n",
       "12  гражданский брак                 1      M   пенсионер     0   \n",
       "13   женат / замужем                 0      F   сотрудник     0   \n",
       "14  гражданский брак                 1      F   компаньон     1   \n",
       "15   женат / замужем                 0      F   сотрудник     0   \n",
       "16   женат / замужем                 0      F   сотрудник     0   \n",
       "17  гражданский брак                 1      M   сотрудник     0   \n",
       "18    вдовец / вдова                 2      F   пенсионер     0   \n",
       "19         в разводе                 3      F   сотрудник     0   \n",
       "\n",
       "     total_income                                 purpose  \n",
       "0   253875.639453                           покупка жилья  \n",
       "1   112080.014102                 приобретение автомобиля  \n",
       "2   145885.952297                           покупка жилья  \n",
       "3   267628.550329              дополнительное образование  \n",
       "4   158616.077870                         сыграть свадьбу  \n",
       "5   255763.565419                           покупка жилья  \n",
       "6   240525.971920                       операции с жильем  \n",
       "7   135823.934197                             образование  \n",
       "8    95856.832424                   на проведение свадьбы  \n",
       "9   144425.938277                 покупка жилья для семьи  \n",
       "10  113943.491460                    покупка недвижимости  \n",
       "11   77069.234271       покупка коммерческой недвижимости  \n",
       "12            NaN                         сыграть свадьбу  \n",
       "13  130458.228857                 приобретение автомобиля  \n",
       "14  165127.911772              покупка жилой недвижимости  \n",
       "15  116820.904450  строительство собственной недвижимости  \n",
       "16  289202.704229                            недвижимость  \n",
       "17   90410.586745              строительство недвижимости  \n",
       "18   56823.777243      на покупку подержанного автомобиля  \n",
       "19  242831.107982            на покупку своего автомобиля  "
      ]
     },
     "execution_count": 2,
     "metadata": {},
     "output_type": "execute_result"
    }
   ],
   "source": [
    "data.head(20)"
   ]
  },
  {
   "cell_type": "markdown",
   "id": "0ed8f27f",
   "metadata": {
    "deletable": false,
    "editable": false,
    "id": "0ed8f27f"
   },
   "source": [
    "**Задание 3. Выведите основную информацию о датафрейме с помощью метода `info()`.**"
   ]
  },
  {
   "cell_type": "code",
   "execution_count": 3,
   "id": "ab3f863b",
   "metadata": {
    "deletable": false,
    "id": "ab3f863b",
    "outputId": "15376089-8dad-46c9-b520-c05248d43158"
   },
   "outputs": [
    {
     "name": "stdout",
     "output_type": "stream",
     "text": [
      "<class 'pandas.core.frame.DataFrame'>\n",
      "RangeIndex: 21525 entries, 0 to 21524\n",
      "Data columns (total 12 columns):\n",
      " #   Column            Non-Null Count  Dtype  \n",
      "---  ------            --------------  -----  \n",
      " 0   children          21525 non-null  int64  \n",
      " 1   days_employed     19351 non-null  float64\n",
      " 2   dob_years         21525 non-null  int64  \n",
      " 3   education         21525 non-null  object \n",
      " 4   education_id      21525 non-null  int64  \n",
      " 5   family_status     21525 non-null  object \n",
      " 6   family_status_id  21525 non-null  int64  \n",
      " 7   gender            21525 non-null  object \n",
      " 8   income_type       21525 non-null  object \n",
      " 9   debt              21525 non-null  int64  \n",
      " 10  total_income      19351 non-null  float64\n",
      " 11  purpose           21525 non-null  object \n",
      "dtypes: float64(2), int64(5), object(5)\n",
      "memory usage: 2.0+ MB\n"
     ]
    }
   ],
   "source": [
    "data.info()"
   ]
  },
  {
   "cell_type": "markdown",
   "id": "60e3e22d",
   "metadata": {
    "deletable": false,
    "editable": false,
    "id": "60e3e22d"
   },
   "source": [
    "## Предобработка данных"
   ]
  },
  {
   "cell_type": "markdown",
   "id": "03dc170c",
   "metadata": {
    "deletable": false,
    "editable": false,
    "id": "03dc170c"
   },
   "source": [
    "### Удаление пропусков"
   ]
  },
  {
   "cell_type": "markdown",
   "id": "a4f54eef",
   "metadata": {
    "deletable": false,
    "editable": false,
    "id": "a4f54eef"
   },
   "source": [
    "**Задание 4. Выведите количество пропущенных значений для каждого столбца. Используйте комбинацию двух методов.**"
   ]
  },
  {
   "cell_type": "code",
   "execution_count": 4,
   "id": "2dc372b2",
   "metadata": {
    "deletable": false,
    "id": "2dc372b2",
    "outputId": "81f4d817-781c-465c-ed15-91ce4446810d"
   },
   "outputs": [
    {
     "data": {
      "text/plain": [
       "children               0\n",
       "days_employed       2174\n",
       "dob_years              0\n",
       "education              0\n",
       "education_id           0\n",
       "family_status          0\n",
       "family_status_id       0\n",
       "gender                 0\n",
       "income_type            0\n",
       "debt                   0\n",
       "total_income        2174\n",
       "purpose                0\n",
       "dtype: int64"
      ]
     },
     "execution_count": 4,
     "metadata": {},
     "output_type": "execute_result"
    }
   ],
   "source": [
    "data.isna().sum()"
   ]
  },
  {
   "cell_type": "markdown",
   "id": "14f011b1",
   "metadata": {
    "deletable": false,
    "editable": false,
    "id": "14f011b1"
   },
   "source": [
    "**Задание 5. В двух столбцах есть пропущенные значения. Один из них — `days_employed`. Пропуски в этом столбце вы обработаете на следующем этапе. Другой столбец с пропущенными значениями — `total_income` — хранит данные о доходах. На сумму дохода сильнее всего влияет тип занятости, поэтому заполнить пропуски в этом столбце нужно медианным значением по каждому типу из столбца `income_type`. Например, у человека с типом занятости `сотрудник` пропуск в столбце `total_income` должен быть заполнен медианным доходом среди всех записей с тем же типом.**"
   ]
  },
  {
   "cell_type": "code",
   "execution_count": 5,
   "id": "bdabfb6e",
   "metadata": {
    "deletable": false,
    "id": "bdabfb6e"
   },
   "outputs": [],
   "source": [
    "for t in data['income_type'].unique():\n",
    "    data.loc[(data['income_type'] == t) & (data['total_income'].isna()), 'total_income'] = \\\n",
    "    data.loc[(data['income_type'] == t), 'total_income'].median()"
   ]
  },
  {
   "cell_type": "markdown",
   "id": "5be34059",
   "metadata": {
    "deletable": false,
    "editable": false,
    "id": "5be34059"
   },
   "source": [
    "### Обработка аномальных значений"
   ]
  },
  {
   "cell_type": "markdown",
   "id": "a87606cb",
   "metadata": {
    "deletable": false,
    "editable": false,
    "id": "a87606cb"
   },
   "source": [
    "**Задание 6. В данных могут встречаться артефакты (аномалии) — значения, которые не отражают действительность и появились по какой-то ошибке. таким артефактом будет отрицательное количество дней трудового стажа в столбце `days_employed`. Для реальных данных это нормально. Обработайте значения в этом столбце: замените все отрицательные значения положительными с помощью метода `abs()`.**"
   ]
  },
  {
   "cell_type": "code",
   "execution_count": 6,
   "id": "020c46cc",
   "metadata": {
    "deletable": false,
    "id": "020c46cc"
   },
   "outputs": [],
   "source": [
    "data['days_employed'] = data['days_employed'].abs()"
   ]
  },
  {
   "cell_type": "markdown",
   "id": "45538a3a",
   "metadata": {
    "deletable": false,
    "editable": false,
    "id": "45538a3a"
   },
   "source": [
    "**Задание 7. Для каждого типа занятости выведите медианное значение трудового стажа `days_employed` в днях.**"
   ]
  },
  {
   "cell_type": "code",
   "execution_count": 7,
   "id": "cd3e6328",
   "metadata": {
    "deletable": false,
    "id": "cd3e6328",
    "outputId": "801ef80e-522b-4668-f34e-565af7432bcf"
   },
   "outputs": [
    {
     "data": {
      "text/plain": [
       "income_type\n",
       "безработный        366413.652744\n",
       "в декрете            3296.759962\n",
       "госслужащий          2689.368353\n",
       "компаньон            1547.382223\n",
       "пенсионер          365213.306266\n",
       "предприниматель       520.848083\n",
       "сотрудник            1574.202821\n",
       "студент               578.751554\n",
       "Name: days_employed, dtype: float64"
      ]
     },
     "execution_count": 7,
     "metadata": {},
     "output_type": "execute_result"
    }
   ],
   "source": [
    "data.groupby('income_type')['days_employed'].agg('median')"
   ]
  },
  {
   "cell_type": "markdown",
   "id": "90c5f058",
   "metadata": {
    "deletable": false,
    "editable": false,
    "id": "90c5f058"
   },
   "source": [
    "У двух типов (безработные и пенсионеры) получатся аномально большие значения. Исправить такие значения сложно, поэтому оставьте их как есть."
   ]
  },
  {
   "cell_type": "markdown",
   "id": "9652e50d",
   "metadata": {
    "deletable": false,
    "editable": false,
    "id": "9652e50d"
   },
   "source": [
    "**Задание 8. Выведите перечень уникальных значений столбца `children`.**"
   ]
  },
  {
   "cell_type": "code",
   "execution_count": 8,
   "id": "dbb37b8e",
   "metadata": {
    "deletable": false,
    "id": "dbb37b8e",
    "outputId": "6975b15c-7f95-4697-d16d-a0c79b657b03"
   },
   "outputs": [
    {
     "data": {
      "text/plain": [
       "array([ 1,  0,  3,  2, -1,  4, 20,  5], dtype=int64)"
      ]
     },
     "execution_count": 8,
     "metadata": {},
     "output_type": "execute_result"
    }
   ],
   "source": [
    "data['children'].unique()"
   ]
  },
  {
   "cell_type": "markdown",
   "id": "2b8b0715",
   "metadata": {
    "deletable": false,
    "editable": false,
    "id": "2b8b0715"
   },
   "source": [
    "**Задание 9. В столбце `children` есть два аномальных значения. Удалите строки, в которых встречаются такие аномальные значения из датафрейма `data`.**"
   ]
  },
  {
   "cell_type": "code",
   "execution_count": 9,
   "id": "20009df8",
   "metadata": {
    "deletable": false,
    "id": "20009df8"
   },
   "outputs": [],
   "source": [
    "data = data[(data['children'] != -1) & (data['children'] != 20)]"
   ]
  },
  {
   "cell_type": "markdown",
   "id": "8c6ac9f1",
   "metadata": {
    "deletable": false,
    "editable": false,
    "id": "8c6ac9f1"
   },
   "source": [
    "**Задание 10. Ещё раз выведите перечень уникальных значений столбца `children`, чтобы убедиться, что артефакты удалены.**"
   ]
  },
  {
   "cell_type": "code",
   "execution_count": 10,
   "id": "07337b81",
   "metadata": {
    "deletable": false,
    "id": "07337b81",
    "outputId": "b2097101-d49d-44d9-901b-32a65c9463d1"
   },
   "outputs": [
    {
     "data": {
      "text/plain": [
       "array([1, 0, 3, 2, 4, 5], dtype=int64)"
      ]
     },
     "execution_count": 10,
     "metadata": {},
     "output_type": "execute_result"
    }
   ],
   "source": [
    "data['children'].unique()"
   ]
  },
  {
   "cell_type": "markdown",
   "id": "ee3f52d4",
   "metadata": {
    "deletable": false,
    "editable": false,
    "id": "ee3f52d4"
   },
   "source": [
    "### Удаление пропусков (продолжение)"
   ]
  },
  {
   "cell_type": "markdown",
   "id": "a700b0e4",
   "metadata": {
    "deletable": false,
    "editable": false,
    "id": "a700b0e4"
   },
   "source": [
    "**Задание 11. Заполните пропуски в столбце `days_employed` медианными значениями по каждого типа занятости `income_type`.**"
   ]
  },
  {
   "cell_type": "code",
   "execution_count": 11,
   "id": "61946b83",
   "metadata": {
    "deletable": false,
    "id": "61946b83"
   },
   "outputs": [],
   "source": [
    "for t in data['income_type'].unique():\n",
    "    data.loc[(data['income_type'] == t) & (data['days_employed'].isna()), 'days_employed'] = \\\n",
    "    data.loc[(data['income_type'] == t), 'days_employed'].median()"
   ]
  },
  {
   "cell_type": "markdown",
   "id": "550dcd9b",
   "metadata": {
    "deletable": false,
    "editable": false,
    "id": "550dcd9b"
   },
   "source": [
    "**Задание 12. Убедитесь, что все пропуски заполнены. Проверьте себя и ещё раз выведите количество пропущенных значений для каждого столбца с помощью двух методов.**"
   ]
  },
  {
   "cell_type": "code",
   "execution_count": 12,
   "id": "937c7014",
   "metadata": {
    "deletable": false,
    "id": "937c7014",
    "outputId": "8da1e4e1-358e-4e87-98c9-f261bce0a7b2"
   },
   "outputs": [
    {
     "data": {
      "text/plain": [
       "children            0\n",
       "days_employed       0\n",
       "dob_years           0\n",
       "education           0\n",
       "education_id        0\n",
       "family_status       0\n",
       "family_status_id    0\n",
       "gender              0\n",
       "income_type         0\n",
       "debt                0\n",
       "total_income        0\n",
       "purpose             0\n",
       "dtype: int64"
      ]
     },
     "execution_count": 12,
     "metadata": {},
     "output_type": "execute_result"
    }
   ],
   "source": [
    "data.isna().sum()"
   ]
  },
  {
   "cell_type": "markdown",
   "id": "d522e295",
   "metadata": {
    "deletable": false,
    "editable": false,
    "id": "d522e295"
   },
   "source": [
    "### Изменение типов данных"
   ]
  },
  {
   "cell_type": "markdown",
   "id": "c229c581",
   "metadata": {
    "deletable": false,
    "editable": false,
    "id": "c229c581"
   },
   "source": [
    "**Задание 13. Замените вещественный тип данных в столбце `total_income` на целочисленный с помощью метода `astype()`.**"
   ]
  },
  {
   "cell_type": "code",
   "execution_count": 13,
   "id": "31036462",
   "metadata": {
    "deletable": false,
    "id": "31036462"
   },
   "outputs": [],
   "source": [
    "data['total_income'] = data['total_income'].astype(int)"
   ]
  },
  {
   "cell_type": "markdown",
   "id": "b8e3d1d9",
   "metadata": {
    "deletable": false,
    "editable": false,
    "id": "b8e3d1d9"
   },
   "source": [
    "### Обработка дубликатов"
   ]
  },
  {
   "cell_type": "markdown",
   "id": "9be53c49",
   "metadata": {
    "deletable": false,
    "editable": false,
    "id": "9be53c49"
   },
   "source": [
    "**Задание 14. Обработайте неявные дубликаты в столбце `education`. В этом столбце есть одни и те же значения, но записанные по-разному: с использованием заглавных и строчных букв. Приведите их к нижнему регистру.**"
   ]
  },
  {
   "cell_type": "code",
   "execution_count": 14,
   "id": "d89e73e1",
   "metadata": {
    "deletable": false,
    "id": "d89e73e1"
   },
   "outputs": [],
   "source": [
    "data['education'] = data['education'].str.lower()"
   ]
  },
  {
   "cell_type": "markdown",
   "id": "01d4500e",
   "metadata": {
    "deletable": false,
    "editable": false,
    "id": "01d4500e"
   },
   "source": [
    "**Задание 15. Выведите на экран количество строк-дубликатов в данных. Если такие строки присутствуют, удалите их.**"
   ]
  },
  {
   "cell_type": "code",
   "execution_count": 15,
   "id": "e10efb23",
   "metadata": {
    "deletable": false,
    "id": "e10efb23",
    "outputId": "9684deba-1934-42d1-99e1-cda61740f822"
   },
   "outputs": [
    {
     "data": {
      "text/plain": [
       "71"
      ]
     },
     "execution_count": 15,
     "metadata": {},
     "output_type": "execute_result"
    }
   ],
   "source": [
    "data.duplicated().sum()"
   ]
  },
  {
   "cell_type": "code",
   "execution_count": 16,
   "id": "df853f20",
   "metadata": {
    "deletable": false,
    "id": "df853f20"
   },
   "outputs": [],
   "source": [
    "data = data.drop_duplicates()"
   ]
  },
  {
   "cell_type": "markdown",
   "id": "627be38f",
   "metadata": {
    "deletable": false,
    "editable": false,
    "id": "627be38f"
   },
   "source": [
    "### Категоризация данных"
   ]
  },
  {
   "cell_type": "markdown",
   "id": "4684c3e0",
   "metadata": {
    "deletable": false,
    "editable": false,
    "id": "4684c3e0"
   },
   "source": [
    "**Задание 16. На основании диапазонов, указанных ниже, создайте в датафрейме `data` столбец `total_income_category` с категориями:**\n",
    "\n",
    "- 0–30000 — `'E'`;\n",
    "- 30001–50000 — `'D'`;\n",
    "- 50001–200000 — `'C'`;\n",
    "- 200001–1000000 — `'B'`;\n",
    "- 1000001 и выше — `'A'`.\n",
    "\n",
    "\n",
    "**Например, кредитополучателю с доходом 25000 нужно назначить категорию `'E'`, а клиенту, получающему 235000, — `'B'`. Используйте собственную функцию с именем `categorize_income()` и метод `apply()`.**"
   ]
  },
  {
   "cell_type": "code",
   "execution_count": 17,
   "id": "78965238",
   "metadata": {
    "deletable": false,
    "id": "78965238"
   },
   "outputs": [],
   "source": [
    "def categorize_income(row):\n",
    "    try:\n",
    "        if row <= 30000:\n",
    "            return 'E'\n",
    "        elif 30001 <= row <= 50000:\n",
    "            return 'D'\n",
    "        elif 50001 <= row <= 200000:\n",
    "            return 'C'\n",
    "        elif 200001 <= row <= 1000000:\n",
    "            return 'B'\n",
    "        else:\n",
    "            return 'A'\n",
    "    except TypeError:\n",
    "        return 'Unknown'\n"
   ]
  },
  {
   "cell_type": "code",
   "execution_count": 18,
   "id": "0980ada1",
   "metadata": {
    "deletable": false,
    "id": "0980ada1"
   },
   "outputs": [],
   "source": [
    "data['total_income_category'] = data['total_income'].apply(categorize_income)"
   ]
  },
  {
   "cell_type": "markdown",
   "id": "9917bba0",
   "metadata": {
    "deletable": false,
    "editable": false,
    "id": "9917bba0"
   },
   "source": [
    "**Задание 17. Выведите на экран перечень уникальных целей взятия кредита из столбца `purpose`.**"
   ]
  },
  {
   "cell_type": "code",
   "execution_count": 19,
   "id": "ee07b65e",
   "metadata": {
    "deletable": false,
    "id": "ee07b65e",
    "outputId": "673c12d9-7d7e-4ae0-9812-c622c89dd244"
   },
   "outputs": [
    {
     "data": {
      "text/plain": [
       "array(['покупка жилья', 'приобретение автомобиля',\n",
       "       'дополнительное образование', 'сыграть свадьбу',\n",
       "       'операции с жильем', 'образование', 'на проведение свадьбы',\n",
       "       'покупка жилья для семьи', 'покупка недвижимости',\n",
       "       'покупка коммерческой недвижимости', 'покупка жилой недвижимости',\n",
       "       'строительство собственной недвижимости', 'недвижимость',\n",
       "       'строительство недвижимости', 'на покупку подержанного автомобиля',\n",
       "       'на покупку своего автомобиля',\n",
       "       'операции с коммерческой недвижимостью',\n",
       "       'строительство жилой недвижимости', 'жилье',\n",
       "       'операции со своей недвижимостью', 'автомобили',\n",
       "       'заняться образованием', 'сделка с подержанным автомобилем',\n",
       "       'получение образования', 'автомобиль', 'свадьба',\n",
       "       'получение дополнительного образования', 'покупка своего жилья',\n",
       "       'операции с недвижимостью', 'получение высшего образования',\n",
       "       'свой автомобиль', 'сделка с автомобилем',\n",
       "       'профильное образование', 'высшее образование',\n",
       "       'покупка жилья для сдачи', 'на покупку автомобиля', 'ремонт жилью',\n",
       "       'заняться высшим образованием'], dtype=object)"
      ]
     },
     "execution_count": 19,
     "metadata": {},
     "output_type": "execute_result"
    }
   ],
   "source": [
    "data['purpose'].unique()"
   ]
  },
  {
   "cell_type": "markdown",
   "id": "52b79d56",
   "metadata": {
    "deletable": false,
    "editable": false,
    "id": "52b79d56"
   },
   "source": [
    "**Задание 18. Создайте функцию, которая на основании данных из столбца `purpose` сформирует новый столбец `purpose_category`, в который войдут следующие категории:**\n",
    "\n",
    "- `'операции с автомобилем'`,\n",
    "- `'операции с недвижимостью'`,\n",
    "- `'проведение свадьбы'`,\n",
    "- `'получение образования'`.\n",
    "\n",
    "**Например, если в столбце `purpose` находится подстрока `'на покупку автомобиля'`, то в столбце `purpose_category` должна появиться строка `'операции с автомобилем'`.**\n",
    "\n",
    "**Используйте собственную функцию с именем `categorize_purpose()` и метод `apply()`. Изучите данные в столбце `purpose` и определите, какие подстроки помогут вам правильно определить категорию.**"
   ]
  },
  {
   "cell_type": "code",
   "execution_count": 20,
   "id": "be41da5d",
   "metadata": {
    "deletable": false,
    "id": "be41da5d"
   },
   "outputs": [],
   "source": [
    "def categorize_purpose(row):\n",
    "    try:\n",
    "        if 'автом' in row:\n",
    "            return 'операции с автомобилем'\n",
    "        elif 'жил' in row or 'недвиж' in row:\n",
    "            return 'операции с недвижимостью'\n",
    "        elif 'свад' in row:\n",
    "            return 'проведение свадьбы'\n",
    "        elif 'образов' in row:\n",
    "            return 'получение образования'\n",
    "    except:\n",
    "        return 'нет категории'"
   ]
  },
  {
   "cell_type": "code",
   "execution_count": 21,
   "id": "94c4a19a",
   "metadata": {
    "deletable": false,
    "id": "94c4a19a"
   },
   "outputs": [],
   "source": [
    "data['purpose_category'] = data['purpose'].apply(categorize_purpose)"
   ]
  },
  {
   "cell_type": "markdown",
   "id": "3d596c34",
   "metadata": {
    "deletable": false,
    "editable": false,
    "id": "3d596c34"
   },
   "source": [
    "### Шаг 3. Исследуйте данные и ответьте на вопросы"
   ]
  },
  {
   "cell_type": "markdown",
   "id": "648db036",
   "metadata": {
    "deletable": false,
    "editable": false,
    "id": "648db036"
   },
   "source": [
    "#### 3.1 Есть ли зависимость между количеством детей и возвратом кредита в срок?"
   ]
  },
  {
   "cell_type": "code",
   "execution_count": 22,
   "id": "7fcff25e",
   "metadata": {
    "deletable": false,
    "id": "7fcff25e"
   },
   "outputs": [],
   "source": [
    "data_children = data.pivot_table(index=['children'], columns='debt', values='gender', aggfunc='count', fill_value=0 )"
   ]
  },
  {
   "cell_type": "code",
   "execution_count": 23,
   "id": "e8f7a402",
   "metadata": {},
   "outputs": [
    {
     "data": {
      "text/html": [
       "<div>\n",
       "<style scoped>\n",
       "    .dataframe tbody tr th:only-of-type {\n",
       "        vertical-align: middle;\n",
       "    }\n",
       "\n",
       "    .dataframe tbody tr th {\n",
       "        vertical-align: top;\n",
       "    }\n",
       "\n",
       "    .dataframe thead th {\n",
       "        text-align: right;\n",
       "    }\n",
       "</style>\n",
       "<table border=\"1\" class=\"dataframe\">\n",
       "  <thead>\n",
       "    <tr style=\"text-align: right;\">\n",
       "      <th>debt</th>\n",
       "      <th>0</th>\n",
       "      <th>1</th>\n",
       "    </tr>\n",
       "    <tr>\n",
       "      <th>children</th>\n",
       "      <th></th>\n",
       "      <th></th>\n",
       "    </tr>\n",
       "  </thead>\n",
       "  <tbody>\n",
       "    <tr>\n",
       "      <th>0</th>\n",
       "      <td>13028</td>\n",
       "      <td>1063</td>\n",
       "    </tr>\n",
       "    <tr>\n",
       "      <th>1</th>\n",
       "      <td>4364</td>\n",
       "      <td>444</td>\n",
       "    </tr>\n",
       "    <tr>\n",
       "      <th>2</th>\n",
       "      <td>1858</td>\n",
       "      <td>194</td>\n",
       "    </tr>\n",
       "    <tr>\n",
       "      <th>3</th>\n",
       "      <td>303</td>\n",
       "      <td>27</td>\n",
       "    </tr>\n",
       "    <tr>\n",
       "      <th>4</th>\n",
       "      <td>37</td>\n",
       "      <td>4</td>\n",
       "    </tr>\n",
       "    <tr>\n",
       "      <th>5</th>\n",
       "      <td>9</td>\n",
       "      <td>0</td>\n",
       "    </tr>\n",
       "  </tbody>\n",
       "</table>\n",
       "</div>"
      ],
      "text/plain": [
       "debt          0     1\n",
       "children             \n",
       "0         13028  1063\n",
       "1          4364   444\n",
       "2          1858   194\n",
       "3           303    27\n",
       "4            37     4\n",
       "5             9     0"
      ]
     },
     "execution_count": 23,
     "metadata": {},
     "output_type": "execute_result"
    }
   ],
   "source": [
    "data_children"
   ]
  },
  {
   "cell_type": "code",
   "execution_count": 24,
   "id": "1e8200d4",
   "metadata": {},
   "outputs": [],
   "source": [
    "data_children['total'] = data_children[0] + data_children[1]"
   ]
  },
  {
   "cell_type": "code",
   "execution_count": 25,
   "id": "e4193617",
   "metadata": {},
   "outputs": [],
   "source": [
    "data_children['percentage_of_non_return'] = data_children[1]/data_children['total']*100\n"
   ]
  },
  {
   "cell_type": "code",
   "execution_count": 26,
   "id": "7e10da5f",
   "metadata": {},
   "outputs": [],
   "source": [
    "data_children['percentage_of_non_return'] = data_children['percentage_of_non_return'].apply(lambda x: f\"{x:.2f}%\")"
   ]
  },
  {
   "cell_type": "code",
   "execution_count": 27,
   "id": "02ce7f5f",
   "metadata": {},
   "outputs": [],
   "source": [
    "data_children['borrowers_share'] = (data_children['total']/ data_children['total'].sum())*100"
   ]
  },
  {
   "cell_type": "code",
   "execution_count": 28,
   "id": "283a9cd2",
   "metadata": {},
   "outputs": [],
   "source": [
    "data_children['borrowers_share'] = data_children['borrowers_share'].apply(lambda x: f\"{x:.2f}%\")"
   ]
  },
  {
   "cell_type": "code",
   "execution_count": 29,
   "id": "8dfac690",
   "metadata": {},
   "outputs": [
    {
     "data": {
      "text/html": [
       "<div>\n",
       "<style scoped>\n",
       "    .dataframe tbody tr th:only-of-type {\n",
       "        vertical-align: middle;\n",
       "    }\n",
       "\n",
       "    .dataframe tbody tr th {\n",
       "        vertical-align: top;\n",
       "    }\n",
       "\n",
       "    .dataframe thead th {\n",
       "        text-align: right;\n",
       "    }\n",
       "</style>\n",
       "<table border=\"1\" class=\"dataframe\">\n",
       "  <thead>\n",
       "    <tr style=\"text-align: right;\">\n",
       "      <th>debt</th>\n",
       "      <th>0</th>\n",
       "      <th>1</th>\n",
       "      <th>total</th>\n",
       "      <th>percentage_of_non_return</th>\n",
       "      <th>borrowers_share</th>\n",
       "    </tr>\n",
       "    <tr>\n",
       "      <th>children</th>\n",
       "      <th></th>\n",
       "      <th></th>\n",
       "      <th></th>\n",
       "      <th></th>\n",
       "      <th></th>\n",
       "    </tr>\n",
       "  </thead>\n",
       "  <tbody>\n",
       "    <tr>\n",
       "      <th>5</th>\n",
       "      <td>9</td>\n",
       "      <td>0</td>\n",
       "      <td>9</td>\n",
       "      <td>0.00%</td>\n",
       "      <td>0.04%</td>\n",
       "    </tr>\n",
       "    <tr>\n",
       "      <th>0</th>\n",
       "      <td>13028</td>\n",
       "      <td>1063</td>\n",
       "      <td>14091</td>\n",
       "      <td>7.54%</td>\n",
       "      <td>66.06%</td>\n",
       "    </tr>\n",
       "    <tr>\n",
       "      <th>3</th>\n",
       "      <td>303</td>\n",
       "      <td>27</td>\n",
       "      <td>330</td>\n",
       "      <td>8.18%</td>\n",
       "      <td>1.55%</td>\n",
       "    </tr>\n",
       "    <tr>\n",
       "      <th>1</th>\n",
       "      <td>4364</td>\n",
       "      <td>444</td>\n",
       "      <td>4808</td>\n",
       "      <td>9.23%</td>\n",
       "      <td>22.54%</td>\n",
       "    </tr>\n",
       "    <tr>\n",
       "      <th>2</th>\n",
       "      <td>1858</td>\n",
       "      <td>194</td>\n",
       "      <td>2052</td>\n",
       "      <td>9.45%</td>\n",
       "      <td>9.62%</td>\n",
       "    </tr>\n",
       "    <tr>\n",
       "      <th>4</th>\n",
       "      <td>37</td>\n",
       "      <td>4</td>\n",
       "      <td>41</td>\n",
       "      <td>9.76%</td>\n",
       "      <td>0.19%</td>\n",
       "    </tr>\n",
       "  </tbody>\n",
       "</table>\n",
       "</div>"
      ],
      "text/plain": [
       "debt          0     1  total percentage_of_non_return borrowers_share\n",
       "children                                                             \n",
       "5             9     0      9                    0.00%           0.04%\n",
       "0         13028  1063  14091                    7.54%          66.06%\n",
       "3           303    27    330                    8.18%           1.55%\n",
       "1          4364   444   4808                    9.23%          22.54%\n",
       "2          1858   194   2052                    9.45%           9.62%\n",
       "4            37     4     41                    9.76%           0.19%"
      ]
     },
     "execution_count": 29,
     "metadata": {},
     "output_type": "execute_result"
    }
   ],
   "source": [
    "data_children.sort_values('percentage_of_non_return')"
   ]
  },
  {
   "cell_type": "markdown",
   "id": "2eb9088e",
   "metadata": {
    "deletable": false,
    "id": "2eb9088e"
   },
   "source": [
    "**Вывод:**\n",
    "Клиенты без детей представляют наименьший риск невозврата кредитов, несмотря на то, что составляют самую большую группу заемщиков\n",
    "\n",
    "Клиенты с одним и двумя детьми имеют значительно более высокий процент невозврата, что указывает на повышение финансового риска при увеличении количества детей.\n",
    "\n",
    "Клиенты с тремя и четырьмя детьми также показывают высокий процент невозврата, но их доля в общей массе заемщиков меньше, чем у клиентов с одним или двумя детьми.\n",
    "\n",
    "Клиенты с пятью детьми показывают идеальный результат с 0% невозврата, но их чрезвычайно малая численность не позволяет делать обоснованные выводы.\n",
    "\n",
    "Количество детей оказывает значительное влияние на вероятность возврата кредита. Чем больше детей в семье, тем выше процент невозврата. Это может быть связано с увеличением финансовых обязательств и расходов в семьях с большим количеством детей.\n"
   ]
  },
  {
   "cell_type": "markdown",
   "id": "74c9b3a7",
   "metadata": {
    "deletable": false,
    "editable": false,
    "id": "74c9b3a7"
   },
   "source": [
    "#### 3.2 Есть ли зависимость между семейным положением и возвратом кредита в срок?"
   ]
  },
  {
   "cell_type": "code",
   "execution_count": 30,
   "id": "8098ab3b",
   "metadata": {
    "deletable": false,
    "id": "8098ab3b"
   },
   "outputs": [],
   "source": [
    "data_family = data.pivot_table(index=['family_status'], columns='debt', values='gender', aggfunc='count' )"
   ]
  },
  {
   "cell_type": "code",
   "execution_count": 31,
   "id": "b1a0dc19",
   "metadata": {},
   "outputs": [
    {
     "data": {
      "text/html": [
       "<div>\n",
       "<style scoped>\n",
       "    .dataframe tbody tr th:only-of-type {\n",
       "        vertical-align: middle;\n",
       "    }\n",
       "\n",
       "    .dataframe tbody tr th {\n",
       "        vertical-align: top;\n",
       "    }\n",
       "\n",
       "    .dataframe thead th {\n",
       "        text-align: right;\n",
       "    }\n",
       "</style>\n",
       "<table border=\"1\" class=\"dataframe\">\n",
       "  <thead>\n",
       "    <tr style=\"text-align: right;\">\n",
       "      <th>debt</th>\n",
       "      <th>0</th>\n",
       "      <th>1</th>\n",
       "    </tr>\n",
       "    <tr>\n",
       "      <th>family_status</th>\n",
       "      <th></th>\n",
       "      <th></th>\n",
       "    </tr>\n",
       "  </thead>\n",
       "  <tbody>\n",
       "    <tr>\n",
       "      <th>Не женат / не замужем</th>\n",
       "      <td>2523</td>\n",
       "      <td>273</td>\n",
       "    </tr>\n",
       "    <tr>\n",
       "      <th>в разводе</th>\n",
       "      <td>1105</td>\n",
       "      <td>84</td>\n",
       "    </tr>\n",
       "    <tr>\n",
       "      <th>вдовец / вдова</th>\n",
       "      <td>888</td>\n",
       "      <td>63</td>\n",
       "    </tr>\n",
       "    <tr>\n",
       "      <th>гражданский брак</th>\n",
       "      <td>3749</td>\n",
       "      <td>385</td>\n",
       "    </tr>\n",
       "    <tr>\n",
       "      <th>женат / замужем</th>\n",
       "      <td>11334</td>\n",
       "      <td>927</td>\n",
       "    </tr>\n",
       "  </tbody>\n",
       "</table>\n",
       "</div>"
      ],
      "text/plain": [
       "debt                       0    1\n",
       "family_status                    \n",
       "Не женат / не замужем   2523  273\n",
       "в разводе               1105   84\n",
       "вдовец / вдова           888   63\n",
       "гражданский брак        3749  385\n",
       "женат / замужем        11334  927"
      ]
     },
     "execution_count": 31,
     "metadata": {},
     "output_type": "execute_result"
    }
   ],
   "source": [
    "data_family"
   ]
  },
  {
   "cell_type": "code",
   "execution_count": 32,
   "id": "5028a0a0",
   "metadata": {},
   "outputs": [],
   "source": [
    "data_family['total'] = data_family[0] + data_family[1]"
   ]
  },
  {
   "cell_type": "code",
   "execution_count": 33,
   "id": "001d7477",
   "metadata": {},
   "outputs": [],
   "source": [
    "data_family['percentage_of_non_return'] = data_family[1]/data_family['total']*100"
   ]
  },
  {
   "cell_type": "code",
   "execution_count": 34,
   "id": "4388c4c4",
   "metadata": {},
   "outputs": [],
   "source": [
    "data_family['percentage_of_non_return'] = data_family['percentage_of_non_return'].apply(lambda x: f\"{x:.2f}%\")"
   ]
  },
  {
   "cell_type": "code",
   "execution_count": 35,
   "id": "5f4a052b",
   "metadata": {},
   "outputs": [],
   "source": [
    "data_family['borrowers_share'] = (data_family['total']/ data_family['total'].sum())*100"
   ]
  },
  {
   "cell_type": "code",
   "execution_count": 36,
   "id": "f3140b03",
   "metadata": {},
   "outputs": [],
   "source": [
    "data_family['borrowers_share'] = data_family['borrowers_share'].apply(lambda x: f\"{x:.2f}%\")"
   ]
  },
  {
   "cell_type": "code",
   "execution_count": 37,
   "id": "175c7951",
   "metadata": {},
   "outputs": [
    {
     "data": {
      "text/html": [
       "<div>\n",
       "<style scoped>\n",
       "    .dataframe tbody tr th:only-of-type {\n",
       "        vertical-align: middle;\n",
       "    }\n",
       "\n",
       "    .dataframe tbody tr th {\n",
       "        vertical-align: top;\n",
       "    }\n",
       "\n",
       "    .dataframe thead th {\n",
       "        text-align: right;\n",
       "    }\n",
       "</style>\n",
       "<table border=\"1\" class=\"dataframe\">\n",
       "  <thead>\n",
       "    <tr style=\"text-align: right;\">\n",
       "      <th>debt</th>\n",
       "      <th>0</th>\n",
       "      <th>1</th>\n",
       "      <th>total</th>\n",
       "      <th>percentage_of_non_return</th>\n",
       "      <th>borrowers_share</th>\n",
       "    </tr>\n",
       "    <tr>\n",
       "      <th>family_status</th>\n",
       "      <th></th>\n",
       "      <th></th>\n",
       "      <th></th>\n",
       "      <th></th>\n",
       "      <th></th>\n",
       "    </tr>\n",
       "  </thead>\n",
       "  <tbody>\n",
       "    <tr>\n",
       "      <th>вдовец / вдова</th>\n",
       "      <td>888</td>\n",
       "      <td>63</td>\n",
       "      <td>951</td>\n",
       "      <td>6.62%</td>\n",
       "      <td>4.46%</td>\n",
       "    </tr>\n",
       "    <tr>\n",
       "      <th>в разводе</th>\n",
       "      <td>1105</td>\n",
       "      <td>84</td>\n",
       "      <td>1189</td>\n",
       "      <td>7.06%</td>\n",
       "      <td>5.57%</td>\n",
       "    </tr>\n",
       "    <tr>\n",
       "      <th>женат / замужем</th>\n",
       "      <td>11334</td>\n",
       "      <td>927</td>\n",
       "      <td>12261</td>\n",
       "      <td>7.56%</td>\n",
       "      <td>57.48%</td>\n",
       "    </tr>\n",
       "    <tr>\n",
       "      <th>гражданский брак</th>\n",
       "      <td>3749</td>\n",
       "      <td>385</td>\n",
       "      <td>4134</td>\n",
       "      <td>9.31%</td>\n",
       "      <td>19.38%</td>\n",
       "    </tr>\n",
       "    <tr>\n",
       "      <th>Не женат / не замужем</th>\n",
       "      <td>2523</td>\n",
       "      <td>273</td>\n",
       "      <td>2796</td>\n",
       "      <td>9.76%</td>\n",
       "      <td>13.11%</td>\n",
       "    </tr>\n",
       "  </tbody>\n",
       "</table>\n",
       "</div>"
      ],
      "text/plain": [
       "debt                       0    1  total percentage_of_non_return  \\\n",
       "family_status                                                       \n",
       "вдовец / вдова           888   63    951                    6.62%   \n",
       "в разводе               1105   84   1189                    7.06%   \n",
       "женат / замужем        11334  927  12261                    7.56%   \n",
       "гражданский брак        3749  385   4134                    9.31%   \n",
       "Не женат / не замужем   2523  273   2796                    9.76%   \n",
       "\n",
       "debt                  borrowers_share  \n",
       "family_status                          \n",
       "вдовец / вдова                  4.46%  \n",
       "в разводе                       5.57%  \n",
       "женат / замужем                57.48%  \n",
       "гражданский брак               19.38%  \n",
       "Не женат / не замужем          13.11%  "
      ]
     },
     "execution_count": 37,
     "metadata": {},
     "output_type": "execute_result"
    }
   ],
   "source": [
    "data_family.sort_values('percentage_of_non_return')"
   ]
  },
  {
   "cell_type": "markdown",
   "id": "c389ca63",
   "metadata": {
    "deletable": false,
    "id": "c389ca63"
   },
   "source": [
    "**Вывод:** \n",
    "Анализ данных по семейному положению заемщиков показывает, что клиенты, состоящие в браке или ранее состоявшие в нём, имеют более низкий процент невозврата кредитов по сравнению с не женатыми/не замужними и клиентами в гражданском браке. Наиболее высокая доля невозврата наблюдается у клиентов, не состоящих в официальном браке. Это может быть связано с большей финансовой ответственностью и стабильностью у тех, кто состоит или состоял в браке."
   ]
  },
  {
   "cell_type": "markdown",
   "id": "9529de68",
   "metadata": {
    "deletable": false,
    "editable": false,
    "id": "9529de68"
   },
   "source": [
    "#### 3.3 Есть ли зависимость между уровнем дохода и возвратом кредита в срок?"
   ]
  },
  {
   "cell_type": "code",
   "execution_count": 38,
   "id": "8787f44a",
   "metadata": {
    "deletable": false,
    "id": "8787f44a"
   },
   "outputs": [],
   "source": [
    "data_income = data.pivot_table(index=['total_income_category'], columns='debt', values='total_income', aggfunc='count' )"
   ]
  },
  {
   "cell_type": "markdown",
   "id": "4e3cf399",
   "metadata": {},
   "source": [
    "Воспользуемся категоризацией доходов, которую сделали ранее где:\n",
    "- 0–30000 — `'E'`;\n",
    "- 30001–50000 — `'D'`;\n",
    "- 50001–200000 — `'C'`;\n",
    "- 200001–1000000 — `'B'`;\n",
    "- 1000001 и выше — `'A'`."
   ]
  },
  {
   "cell_type": "code",
   "execution_count": 39,
   "id": "1977a63a",
   "metadata": {},
   "outputs": [],
   "source": [
    "data_income['total'] = data_income[0] + data_income[1]"
   ]
  },
  {
   "cell_type": "code",
   "execution_count": 40,
   "id": "d07d00be",
   "metadata": {},
   "outputs": [],
   "source": [
    "data_income['percentage_of_non_return'] = data_income[1]/data_income['total']*100"
   ]
  },
  {
   "cell_type": "code",
   "execution_count": 41,
   "id": "2db20600",
   "metadata": {},
   "outputs": [],
   "source": [
    "data_income['percentage_of_non_return'] = data_income['percentage_of_non_return'].apply(lambda x: f\"{x:.2f}%\")"
   ]
  },
  {
   "cell_type": "code",
   "execution_count": 42,
   "id": "669ce1e7",
   "metadata": {},
   "outputs": [],
   "source": [
    "data_income['borrowers_share'] = (data_income['total']/ data_income['total'].sum())*100"
   ]
  },
  {
   "cell_type": "code",
   "execution_count": 43,
   "id": "09948c94",
   "metadata": {},
   "outputs": [],
   "source": [
    "data_income['borrowers_share'] = data_income['borrowers_share'].apply(lambda x: f\"{x:.2f}%\")"
   ]
  },
  {
   "cell_type": "code",
   "execution_count": 44,
   "id": "c94fedee",
   "metadata": {
    "scrolled": true
   },
   "outputs": [
    {
     "data": {
      "text/html": [
       "<div>\n",
       "<style scoped>\n",
       "    .dataframe tbody tr th:only-of-type {\n",
       "        vertical-align: middle;\n",
       "    }\n",
       "\n",
       "    .dataframe tbody tr th {\n",
       "        vertical-align: top;\n",
       "    }\n",
       "\n",
       "    .dataframe thead th {\n",
       "        text-align: right;\n",
       "    }\n",
       "</style>\n",
       "<table border=\"1\" class=\"dataframe\">\n",
       "  <thead>\n",
       "    <tr style=\"text-align: right;\">\n",
       "      <th>debt</th>\n",
       "      <th>0</th>\n",
       "      <th>1</th>\n",
       "      <th>total</th>\n",
       "      <th>percentage_of_non_return</th>\n",
       "      <th>borrowers_share</th>\n",
       "    </tr>\n",
       "    <tr>\n",
       "      <th>total_income_category</th>\n",
       "      <th></th>\n",
       "      <th></th>\n",
       "      <th></th>\n",
       "      <th></th>\n",
       "      <th></th>\n",
       "    </tr>\n",
       "  </thead>\n",
       "  <tbody>\n",
       "    <tr>\n",
       "      <th>D</th>\n",
       "      <td>328</td>\n",
       "      <td>21</td>\n",
       "      <td>349</td>\n",
       "      <td>6.02%</td>\n",
       "      <td>1.64%</td>\n",
       "    </tr>\n",
       "    <tr>\n",
       "      <th>B</th>\n",
       "      <td>4660</td>\n",
       "      <td>354</td>\n",
       "      <td>5014</td>\n",
       "      <td>7.06%</td>\n",
       "      <td>23.51%</td>\n",
       "    </tr>\n",
       "    <tr>\n",
       "      <th>A</th>\n",
       "      <td>23</td>\n",
       "      <td>2</td>\n",
       "      <td>25</td>\n",
       "      <td>8.00%</td>\n",
       "      <td>0.12%</td>\n",
       "    </tr>\n",
       "    <tr>\n",
       "      <th>C</th>\n",
       "      <td>14568</td>\n",
       "      <td>1353</td>\n",
       "      <td>15921</td>\n",
       "      <td>8.50%</td>\n",
       "      <td>74.64%</td>\n",
       "    </tr>\n",
       "    <tr>\n",
       "      <th>E</th>\n",
       "      <td>20</td>\n",
       "      <td>2</td>\n",
       "      <td>22</td>\n",
       "      <td>9.09%</td>\n",
       "      <td>0.10%</td>\n",
       "    </tr>\n",
       "  </tbody>\n",
       "</table>\n",
       "</div>"
      ],
      "text/plain": [
       "debt                       0     1  total percentage_of_non_return  \\\n",
       "total_income_category                                                \n",
       "D                        328    21    349                    6.02%   \n",
       "B                       4660   354   5014                    7.06%   \n",
       "A                         23     2     25                    8.00%   \n",
       "C                      14568  1353  15921                    8.50%   \n",
       "E                         20     2     22                    9.09%   \n",
       "\n",
       "debt                  borrowers_share  \n",
       "total_income_category                  \n",
       "D                               1.64%  \n",
       "B                              23.51%  \n",
       "A                               0.12%  \n",
       "C                              74.64%  \n",
       "E                               0.10%  "
      ]
     },
     "execution_count": 44,
     "metadata": {},
     "output_type": "execute_result"
    }
   ],
   "source": [
    "data_income.sort_values('percentage_of_non_return')"
   ]
  },
  {
   "cell_type": "code",
   "execution_count": 45,
   "id": "fe90f568",
   "metadata": {},
   "outputs": [
    {
     "data": {
      "text/html": [
       "<div>\n",
       "<style scoped>\n",
       "    .dataframe tbody tr th:only-of-type {\n",
       "        vertical-align: middle;\n",
       "    }\n",
       "\n",
       "    .dataframe tbody tr th {\n",
       "        vertical-align: top;\n",
       "    }\n",
       "\n",
       "    .dataframe thead th {\n",
       "        text-align: right;\n",
       "    }\n",
       "</style>\n",
       "<table border=\"1\" class=\"dataframe\">\n",
       "  <thead>\n",
       "    <tr style=\"text-align: right;\">\n",
       "      <th>debt</th>\n",
       "      <th>0</th>\n",
       "      <th>1</th>\n",
       "      <th>total</th>\n",
       "      <th>percentage_of_non_return</th>\n",
       "      <th>borrowers_share</th>\n",
       "    </tr>\n",
       "    <tr>\n",
       "      <th>total_income_category</th>\n",
       "      <th></th>\n",
       "      <th></th>\n",
       "      <th></th>\n",
       "      <th></th>\n",
       "      <th></th>\n",
       "    </tr>\n",
       "  </thead>\n",
       "  <tbody>\n",
       "    <tr>\n",
       "      <th>B</th>\n",
       "      <td>4660</td>\n",
       "      <td>354</td>\n",
       "      <td>5014</td>\n",
       "      <td>7.06%</td>\n",
       "      <td>23.51%</td>\n",
       "    </tr>\n",
       "    <tr>\n",
       "      <th>C</th>\n",
       "      <td>14568</td>\n",
       "      <td>1353</td>\n",
       "      <td>15921</td>\n",
       "      <td>8.50%</td>\n",
       "      <td>74.64%</td>\n",
       "    </tr>\n",
       "  </tbody>\n",
       "</table>\n",
       "</div>"
      ],
      "text/plain": [
       "debt                       0     1  total percentage_of_non_return  \\\n",
       "total_income_category                                                \n",
       "B                       4660   354   5014                    7.06%   \n",
       "C                      14568  1353  15921                    8.50%   \n",
       "\n",
       "debt                  borrowers_share  \n",
       "total_income_category                  \n",
       "B                              23.51%  \n",
       "C                              74.64%  "
      ]
     },
     "execution_count": 45,
     "metadata": {},
     "output_type": "execute_result"
    }
   ],
   "source": [
    "data_income.loc[['B', 'C']]"
   ]
  },
  {
   "cell_type": "markdown",
   "id": "6dd14b57",
   "metadata": {
    "deletable": false,
    "id": "6dd14b57"
   },
   "source": [
    "**Вывод:** \n",
    "Категория C охватывает значительно больше заемщиков по сравнению с категорией B (15921 против 5014). Это может указывать на то, что в диапазоне доходов категории C находится большее количество потенциальных заемщиков. Также возможно, что кредиты более доступны для людей с доходом в диапазоне C, что приводит к большему количеству кредитов, выданных этой группе.\n",
    "\n",
    "Процент невозвратов по кредитам в категории C составляет 8.50%, что выше по сравнению с категорией B, где этот показатель равен 7.06%. Это связано с большим количество выданных кредитов и соответсвенно большим количетсвом дополнительных факторов влияющих на оплату кредита.\n",
    "\n",
    "Остальные категории в расчет не брал в связи с малым объемом данных.\n",
    "\n",
    "Более высокий доход может способствовать лучшему управлению финансовыми обязательствами и более высокому уровню возвращаемости кредитов в срок. Это может быть связано с лучшими финансовыми ресурсами и планированием у клиентов с более высоким доходом."
   ]
  },
  {
   "cell_type": "markdown",
   "id": "1dcc9b12",
   "metadata": {
    "deletable": false,
    "editable": false,
    "id": "1dcc9b12"
   },
   "source": [
    "#### 3.4 Как разные цели кредита влияют на его возврат в срок?"
   ]
  },
  {
   "cell_type": "code",
   "execution_count": 46,
   "id": "c602bc8b",
   "metadata": {
    "deletable": false,
    "id": "c602bc8b"
   },
   "outputs": [],
   "source": [
    "data_purpose = data.pivot_table(index=['purpose_category'], columns='debt', values='total_income', aggfunc='count' )"
   ]
  },
  {
   "cell_type": "code",
   "execution_count": 47,
   "id": "cec15bf5",
   "metadata": {},
   "outputs": [],
   "source": [
    "data_purpose['total'] = data_purpose[0] + data_purpose[1]"
   ]
  },
  {
   "cell_type": "code",
   "execution_count": 48,
   "id": "bdb9c5ec",
   "metadata": {},
   "outputs": [],
   "source": [
    "data_purpose['percentage_of_non_return'] = data_purpose[1]/data_purpose['total']*100"
   ]
  },
  {
   "cell_type": "code",
   "execution_count": 49,
   "id": "a725f24f",
   "metadata": {},
   "outputs": [],
   "source": [
    "data_purpose['percentage_of_non_return'] = data_purpose['percentage_of_non_return'].apply(lambda x: f\"{x:.2f}%\")"
   ]
  },
  {
   "cell_type": "code",
   "execution_count": 50,
   "id": "f11a1bd1",
   "metadata": {},
   "outputs": [],
   "source": [
    "data_purpose['borrowers_share'] = (data_purpose['total']/ data_purpose['total'].sum())*100"
   ]
  },
  {
   "cell_type": "code",
   "execution_count": 51,
   "id": "03368669",
   "metadata": {},
   "outputs": [],
   "source": [
    "data_purpose['borrowers_share'] = data_purpose['borrowers_share'].apply(lambda x: f\"{x:.2f}%\")"
   ]
  },
  {
   "cell_type": "code",
   "execution_count": 52,
   "id": "c2525c61",
   "metadata": {},
   "outputs": [
    {
     "data": {
      "text/html": [
       "<div>\n",
       "<style scoped>\n",
       "    .dataframe tbody tr th:only-of-type {\n",
       "        vertical-align: middle;\n",
       "    }\n",
       "\n",
       "    .dataframe tbody tr th {\n",
       "        vertical-align: top;\n",
       "    }\n",
       "\n",
       "    .dataframe thead th {\n",
       "        text-align: right;\n",
       "    }\n",
       "</style>\n",
       "<table border=\"1\" class=\"dataframe\">\n",
       "  <thead>\n",
       "    <tr style=\"text-align: right;\">\n",
       "      <th>debt</th>\n",
       "      <th>0</th>\n",
       "      <th>1</th>\n",
       "      <th>total</th>\n",
       "      <th>percentage_of_non_return</th>\n",
       "      <th>borrowers_share</th>\n",
       "    </tr>\n",
       "    <tr>\n",
       "      <th>purpose_category</th>\n",
       "      <th></th>\n",
       "      <th></th>\n",
       "      <th></th>\n",
       "      <th></th>\n",
       "      <th></th>\n",
       "    </tr>\n",
       "  </thead>\n",
       "  <tbody>\n",
       "    <tr>\n",
       "      <th>операции с недвижимостью</th>\n",
       "      <td>9971</td>\n",
       "      <td>780</td>\n",
       "      <td>10751</td>\n",
       "      <td>7.26%</td>\n",
       "      <td>50.40%</td>\n",
       "    </tr>\n",
       "    <tr>\n",
       "      <th>проведение свадьбы</th>\n",
       "      <td>2130</td>\n",
       "      <td>183</td>\n",
       "      <td>2313</td>\n",
       "      <td>7.91%</td>\n",
       "      <td>10.84%</td>\n",
       "    </tr>\n",
       "    <tr>\n",
       "      <th>получение образования</th>\n",
       "      <td>3619</td>\n",
       "      <td>369</td>\n",
       "      <td>3988</td>\n",
       "      <td>9.25%</td>\n",
       "      <td>18.70%</td>\n",
       "    </tr>\n",
       "    <tr>\n",
       "      <th>операции с автомобилем</th>\n",
       "      <td>3879</td>\n",
       "      <td>400</td>\n",
       "      <td>4279</td>\n",
       "      <td>9.35%</td>\n",
       "      <td>20.06%</td>\n",
       "    </tr>\n",
       "  </tbody>\n",
       "</table>\n",
       "</div>"
      ],
      "text/plain": [
       "debt                         0    1  total percentage_of_non_return  \\\n",
       "purpose_category                                                      \n",
       "операции с недвижимостью  9971  780  10751                    7.26%   \n",
       "проведение свадьбы        2130  183   2313                    7.91%   \n",
       "получение образования     3619  369   3988                    9.25%   \n",
       "операции с автомобилем    3879  400   4279                    9.35%   \n",
       "\n",
       "debt                     borrowers_share  \n",
       "purpose_category                          \n",
       "операции с недвижимостью          50.40%  \n",
       "проведение свадьбы                10.84%  \n",
       "получение образования             18.70%  \n",
       "операции с автомобилем            20.06%  "
      ]
     },
     "execution_count": 52,
     "metadata": {},
     "output_type": "execute_result"
    }
   ],
   "source": [
    "data_purpose.sort_values('percentage_of_non_return')"
   ]
  },
  {
   "cell_type": "markdown",
   "id": "cf05ed63",
   "metadata": {
    "deletable": false,
    "id": "cf05ed63"
   },
   "source": [
    "**Вывод:** \n",
    "Цели кредитования влияют на вероятность возврата кредита в срок. Кредиты на операции с недвижимостью, хотя и составляют наибольшую долю, имеют самый низкий процент невозврата, что указывает на более осторожное отношение заемщиков. Напротив, кредиты на получение образования и операции с автомобилем показывают более высокий процент невозврата и могут потребовать дополнительных мер по управлению рисками.\n"
   ]
  },
  {
   "cell_type": "markdown",
   "id": "46c1f10b",
   "metadata": {
    "deletable": false,
    "editable": false,
    "id": "46c1f10b"
   },
   "source": [
    "#### 3.5 Приведите возможные причины появления пропусков в исходных данных."
   ]
  },
  {
   "cell_type": "markdown",
   "id": "3697d2a9",
   "metadata": {
    "deletable": false,
    "id": "3697d2a9"
   },
   "source": [
    "*Ответ:* \n",
    "Пропуски в столбцах days_employed (общий трудовой стаж в днях) и total_income (ежемесячный доход) могут возникать по разным причинам:\n",
    "\n",
    "Технический сбой при миграции данных: Проблемы при переносе данных из одной системы в другую могут привести к потере или неполному сохранению информации.\n",
    "\n",
    "Некорректное внесение данных сотрудником/клиентом: Ошибки при вводе данных, такие как неправильный формат или пропуск полей, могут привести к отсутствию информации.\n",
    "\n",
    "Непонимание клиента, как и куда вносить данные: Пользователи могут не понимать, какие данные нужно предоставить или как правильно их заполнить, что может привести к пропускам.\n",
    "\n",
    "Несоответствие официального и реального дохода; страх перед налоговой: Некоторые пользователи могут не предоставлять полные данные о доходе из-за опасений перед налоговыми органами или несоответствия между официальным и фактическим доходом.\n",
    "\n",
    "Принципиальное нежелание делиться конфиденциальной информацией: Некоторые пользователи могут сознательно избегать предоставления информации о доходе или трудовом стаже по соображениям конфиденциальности.\n"
   ]
  },
  {
   "cell_type": "markdown",
   "id": "3137d257",
   "metadata": {
    "deletable": false,
    "editable": false,
    "id": "3137d257"
   },
   "source": [
    "#### 3.6 Объясните, почему заполнить пропуски медианным значением — лучшее решение для количественных переменных."
   ]
  },
  {
   "cell_type": "markdown",
   "id": "cf40012a",
   "metadata": {
    "deletable": false,
    "id": "cf40012a"
   },
   "source": [
    "*Ответ:* \n",
    "\n",
    "Медиана менее чувствительна к выбросам, чем среднее значение. Если в данных есть экстремальные значения (очень большие или очень маленькие), они могут искажать среднее значение.\n",
    "Медиана помогает избежать ситуации, когда небольшое количество данных и выбросы могут значительно искажать результаты.\n",
    "Это делает медиану предпочтительным выбором в большинстве случаев для количественных переменных."
   ]
  },
  {
   "cell_type": "markdown",
   "id": "57bc304e",
   "metadata": {
    "deletable": false,
    "editable": false,
    "id": "57bc304e"
   },
   "source": [
    "### Шаг 4: общий вывод."
   ]
  },
  {
   "cell_type": "markdown",
   "id": "1ab75d1c",
   "metadata": {
    "deletable": false,
    "id": "1ab75d1c"
   },
   "source": []
  },
  {
   "cell_type": "markdown",
   "id": "0214fef8",
   "metadata": {},
   "source": [
    "Данные\n",
    "В рамках проекта была проведена работа с данными по задолженностям клиентов перед кредитной организацией. Данные включали следующие категории:\n",
    "\n",
    "Количество детей у заемщиков\n",
    "Семейное положение\n",
    "Доходы заемщиков\n",
    "Цели кредита\n",
    "Выполненные шаги\n",
    "Очистка данных\n",
    "\n",
    "Удаление пропусков и аномалий.\n",
    "Проверка данных на корректность и согласованность.\n",
    "Анализ данных\n",
    "\n",
    "Рассчет общего количества заемщиков в каждой категории.\n",
    "Определение доли невозвращенных кредитов в каждой подгруппе.\n",
    "Определение доли заемщиков в каждой категории от общего числа заемщиков.\n",
    "Анализ данных\n",
    "Анализ показывает, что количество детей, семейное положение, цель кредита и доходы заемщиков имеют значительное влияние на вероятность погашения кредита в срок.\n",
    "\n",
    "Семейное положение: Клиенты со стабильным семейным положением чаще погашают кредиты вовремя, в то время как те, кто имеет нестабильные семейные отношения, сталкиваются с более высокими рисками непогашения кредитов.\n",
    "Цель кредита: Кредиты на операции с недвижимостью показывают наименьший риск непогашения.\n",
    "Количество детей: Наличие детей негативно отражается на способности клиентов оплачивать обязательства в срок, возможно, из-за дополнительных расходов на содержание иждивенцев.\n",
    "Доходы заемщиков: Более высокий доход способствует лучшему управлению финансовыми обязательствами и более высокому уровню возвращаемости кредитов в срок.\n",
    "Выводы\n",
    "На основании анализа можно сделать вывод, что:\n",
    "\n",
    "Идеальный клиент: Находится в официальном браке, бездетный, с доходом 200,001–1,000,000 руб., берущий кредит для операций с недвижимостью.\n",
    "Нежелательный клиент: Холостой, имеющий двух и более детей, с доходом 50,001–200,000 руб., берущий кредит для операций с автомобилем.\n",
    "Итоговые рекомендации\n",
    "Улучшение сбора данных\n",
    "Разработать и внедрить более детализированные формы для сбора данных о заемщиках, учитывая их семейное положение, количество детей, уровень дохода и цель кредита.\n",
    "Обеспечить регулярное обновление и проверку актуальности данных.\n",
    "Система скоринга\n",
    "Включить в скоринг-модель переменные, показавшие высокую корреляцию с возвратом/невозвратом кредитов, такие как количество детей, семейное положение и цель кредита.\n",
    "Использовать результаты анализа для формирования более точных профилей риска заемщиков.\n",
    "Регулярно пересматривать и обновлять скоринг-модель на основе новых данных и аналитических выводов.\n"
   ]
  }
 ],
 "metadata": {
  "ExecuteTimeLog": [
   {
    "duration": 60,
    "start_time": "2024-07-20T14:53:24.057Z"
   },
   {
    "duration": 473,
    "start_time": "2024-07-20T14:53:49.069Z"
   },
   {
    "duration": 25,
    "start_time": "2024-07-20T14:53:49.544Z"
   },
   {
    "duration": 17,
    "start_time": "2024-07-20T14:53:49.571Z"
   },
   {
    "duration": 10,
    "start_time": "2024-07-20T14:53:49.590Z"
   },
   {
    "duration": 70,
    "start_time": "2024-07-20T14:53:49.601Z"
   },
   {
    "duration": 4,
    "start_time": "2024-07-20T14:53:49.673Z"
   },
   {
    "duration": 28,
    "start_time": "2024-07-20T14:53:49.679Z"
   },
   {
    "duration": 5,
    "start_time": "2024-07-20T14:53:49.709Z"
   },
   {
    "duration": 7,
    "start_time": "2024-07-20T14:53:49.716Z"
   },
   {
    "duration": 4,
    "start_time": "2024-07-20T14:53:49.727Z"
   },
   {
    "duration": 39,
    "start_time": "2024-07-20T14:53:49.745Z"
   },
   {
    "duration": 10,
    "start_time": "2024-07-20T14:53:49.786Z"
   },
   {
    "duration": 4,
    "start_time": "2024-07-20T14:53:49.798Z"
   },
   {
    "duration": 42,
    "start_time": "2024-07-20T14:53:49.804Z"
   },
   {
    "duration": 31,
    "start_time": "2024-07-20T14:53:49.848Z"
   },
   {
    "duration": 19,
    "start_time": "2024-07-20T14:53:49.881Z"
   },
   {
    "duration": 4,
    "start_time": "2024-07-20T14:53:49.901Z"
   },
   {
    "duration": 24,
    "start_time": "2024-07-20T14:53:49.906Z"
   },
   {
    "duration": 6,
    "start_time": "2024-07-20T14:53:49.945Z"
   },
   {
    "duration": 6,
    "start_time": "2024-07-20T14:53:49.953Z"
   },
   {
    "duration": 9,
    "start_time": "2024-07-20T14:53:49.961Z"
   },
   {
    "duration": 1224,
    "start_time": "2024-07-20T14:53:49.971Z"
   },
   {
    "duration": 0,
    "start_time": "2024-07-20T14:53:51.197Z"
   },
   {
    "duration": 0,
    "start_time": "2024-07-20T14:53:51.198Z"
   },
   {
    "duration": 0,
    "start_time": "2024-07-20T14:53:51.200Z"
   },
   {
    "duration": 4,
    "start_time": "2024-07-20T14:54:27.913Z"
   },
   {
    "duration": 39,
    "start_time": "2024-07-20T15:51:45.736Z"
   },
   {
    "duration": 5,
    "start_time": "2024-07-20T15:53:03.988Z"
   },
   {
    "duration": 5,
    "start_time": "2024-07-20T15:53:52.315Z"
   },
   {
    "duration": 6,
    "start_time": "2024-07-20T15:54:04.347Z"
   },
   {
    "duration": 4,
    "start_time": "2024-07-20T15:54:44.351Z"
   },
   {
    "duration": 7,
    "start_time": "2024-07-20T15:54:55.160Z"
   },
   {
    "duration": 4,
    "start_time": "2024-07-20T15:55:40.684Z"
   },
   {
    "duration": 6,
    "start_time": "2024-07-20T15:55:45.954Z"
   },
   {
    "duration": 6,
    "start_time": "2024-07-20T15:55:55.903Z"
   },
   {
    "duration": 10,
    "start_time": "2024-07-20T16:04:05.311Z"
   },
   {
    "duration": 8,
    "start_time": "2024-07-20T16:04:45.938Z"
   },
   {
    "duration": 13,
    "start_time": "2024-07-20T16:06:00.812Z"
   },
   {
    "duration": 12,
    "start_time": "2024-07-20T16:06:05.451Z"
   },
   {
    "duration": 11,
    "start_time": "2024-07-20T16:07:39.821Z"
   },
   {
    "duration": 10,
    "start_time": "2024-07-20T16:07:54.947Z"
   },
   {
    "duration": 6,
    "start_time": "2024-07-20T16:08:48.017Z"
   },
   {
    "duration": 6,
    "start_time": "2024-07-20T16:09:10.918Z"
   },
   {
    "duration": 9,
    "start_time": "2024-07-20T16:09:27.284Z"
   },
   {
    "duration": 7,
    "start_time": "2024-07-20T16:10:20.527Z"
   },
   {
    "duration": 12,
    "start_time": "2024-07-20T16:59:32.784Z"
   },
   {
    "duration": 45,
    "start_time": "2024-07-20T19:05:31.348Z"
   },
   {
    "duration": 508,
    "start_time": "2024-07-20T19:05:40.077Z"
   },
   {
    "duration": 20,
    "start_time": "2024-07-20T19:05:40.587Z"
   },
   {
    "duration": 15,
    "start_time": "2024-07-20T19:05:40.609Z"
   },
   {
    "duration": 12,
    "start_time": "2024-07-20T19:05:40.626Z"
   },
   {
    "duration": 33,
    "start_time": "2024-07-20T19:05:40.640Z"
   },
   {
    "duration": 3,
    "start_time": "2024-07-20T19:05:40.674Z"
   },
   {
    "duration": 11,
    "start_time": "2024-07-20T19:05:40.678Z"
   },
   {
    "duration": 4,
    "start_time": "2024-07-20T19:05:40.690Z"
   },
   {
    "duration": 91,
    "start_time": "2024-07-20T19:05:40.695Z"
   },
   {
    "duration": 4,
    "start_time": "2024-07-20T19:05:40.789Z"
   },
   {
    "duration": 36,
    "start_time": "2024-07-20T19:05:40.795Z"
   },
   {
    "duration": 10,
    "start_time": "2024-07-20T19:05:40.833Z"
   },
   {
    "duration": 8,
    "start_time": "2024-07-20T19:05:40.845Z"
   },
   {
    "duration": 20,
    "start_time": "2024-07-20T19:05:40.854Z"
   },
   {
    "duration": 19,
    "start_time": "2024-07-20T19:05:40.876Z"
   },
   {
    "duration": 17,
    "start_time": "2024-07-20T19:05:40.897Z"
   },
   {
    "duration": 4,
    "start_time": "2024-07-20T19:05:40.915Z"
   },
   {
    "duration": 26,
    "start_time": "2024-07-20T19:05:40.921Z"
   },
   {
    "duration": 6,
    "start_time": "2024-07-20T19:05:40.948Z"
   },
   {
    "duration": 7,
    "start_time": "2024-07-20T19:05:40.956Z"
   },
   {
    "duration": 15,
    "start_time": "2024-07-20T19:05:40.965Z"
   },
   {
    "duration": 12,
    "start_time": "2024-07-20T19:05:40.981Z"
   },
   {
    "duration": 2,
    "start_time": "2024-07-20T19:05:40.994Z"
   },
   {
    "duration": 5,
    "start_time": "2024-07-20T19:05:40.998Z"
   },
   {
    "duration": 21,
    "start_time": "2024-07-20T19:05:41.004Z"
   },
   {
    "duration": 6,
    "start_time": "2024-07-20T19:06:00.864Z"
   },
   {
    "duration": 63,
    "start_time": "2024-07-20T19:08:51.474Z"
   },
   {
    "duration": 7,
    "start_time": "2024-07-20T19:09:06.401Z"
   },
   {
    "duration": 5,
    "start_time": "2024-07-20T19:09:20.326Z"
   },
   {
    "duration": 5,
    "start_time": "2024-07-20T19:09:41.449Z"
   },
   {
    "duration": 5,
    "start_time": "2024-07-20T19:10:09.048Z"
   },
   {
    "duration": 59,
    "start_time": "2024-07-20T19:17:22.790Z"
   },
   {
    "duration": 62,
    "start_time": "2024-07-20T19:20:56.171Z"
   },
   {
    "duration": 76,
    "start_time": "2024-07-20T19:21:00.517Z"
   },
   {
    "duration": 9,
    "start_time": "2024-07-20T19:23:28.205Z"
   },
   {
    "duration": 2676,
    "start_time": "2024-07-20T19:26:46.450Z"
   },
   {
    "duration": 2692,
    "start_time": "2024-07-20T19:27:15.822Z"
   },
   {
    "duration": 17,
    "start_time": "2024-07-20T19:28:19.845Z"
   },
   {
    "duration": 8,
    "start_time": "2024-07-20T19:28:24.302Z"
   },
   {
    "duration": 8,
    "start_time": "2024-07-20T19:31:48.392Z"
   },
   {
    "duration": 5,
    "start_time": "2024-07-20T19:34:57.128Z"
   },
   {
    "duration": 207,
    "start_time": "2024-07-20T19:35:43.560Z"
   },
   {
    "duration": 205,
    "start_time": "2024-07-20T19:36:05.972Z"
   },
   {
    "duration": 227,
    "start_time": "2024-07-20T19:37:57.673Z"
   },
   {
    "duration": 210,
    "start_time": "2024-07-20T19:38:28.882Z"
   },
   {
    "duration": 63,
    "start_time": "2024-07-20T19:38:57.476Z"
   },
   {
    "duration": 9,
    "start_time": "2024-07-20T19:38:59.362Z"
   },
   {
    "duration": 5,
    "start_time": "2024-07-20T19:40:08.557Z"
   },
   {
    "duration": 5,
    "start_time": "2024-07-20T19:40:11.065Z"
   },
   {
    "duration": 66,
    "start_time": "2024-07-20T19:40:12.674Z"
   },
   {
    "duration": 70,
    "start_time": "2024-07-20T19:40:24.060Z"
   },
   {
    "duration": 231,
    "start_time": "2024-07-20T19:40:33.034Z"
   },
   {
    "duration": 3,
    "start_time": "2024-07-20T19:41:14.599Z"
   },
   {
    "duration": 3,
    "start_time": "2024-07-20T19:41:16.341Z"
   },
   {
    "duration": 8,
    "start_time": "2024-07-20T19:41:22.782Z"
   },
   {
    "duration": 221,
    "start_time": "2024-07-20T19:41:24.348Z"
   },
   {
    "duration": 8,
    "start_time": "2024-07-20T19:42:37.975Z"
   },
   {
    "duration": 5,
    "start_time": "2024-07-20T19:46:18.197Z"
   },
   {
    "duration": 180,
    "start_time": "2024-07-20T19:46:19.338Z"
   },
   {
    "duration": 7,
    "start_time": "2024-07-20T19:46:23.101Z"
   },
   {
    "duration": 6,
    "start_time": "2024-07-20T19:48:14.775Z"
   },
   {
    "duration": 7,
    "start_time": "2024-07-20T19:48:42.297Z"
   },
   {
    "duration": 6,
    "start_time": "2024-07-20T19:48:54.317Z"
   },
   {
    "duration": 7,
    "start_time": "2024-07-20T19:49:22.612Z"
   },
   {
    "duration": 5,
    "start_time": "2024-07-20T19:58:53.014Z"
   },
   {
    "duration": 6,
    "start_time": "2024-07-20T19:59:10.275Z"
   },
   {
    "duration": 10,
    "start_time": "2024-07-20T20:03:08.667Z"
   },
   {
    "duration": 9,
    "start_time": "2024-07-20T20:03:44.906Z"
   },
   {
    "duration": 9,
    "start_time": "2024-07-20T20:04:10.644Z"
   },
   {
    "duration": 6,
    "start_time": "2024-07-20T20:06:32.136Z"
   },
   {
    "duration": 4,
    "start_time": "2024-07-20T20:07:16.207Z"
   },
   {
    "duration": 5,
    "start_time": "2024-07-20T20:07:35.276Z"
   },
   {
    "duration": 9,
    "start_time": "2024-07-20T20:56:00.962Z"
   },
   {
    "duration": 7,
    "start_time": "2024-07-20T20:56:44.704Z"
   },
   {
    "duration": 6,
    "start_time": "2024-07-20T20:57:28.900Z"
   },
   {
    "duration": 9,
    "start_time": "2024-07-20T21:01:23.912Z"
   },
   {
    "duration": 5,
    "start_time": "2024-07-20T21:01:34.467Z"
   },
   {
    "duration": 5,
    "start_time": "2024-07-20T21:01:41.788Z"
   },
   {
    "duration": 8,
    "start_time": "2024-07-20T21:02:09.687Z"
   },
   {
    "duration": 4,
    "start_time": "2024-07-20T21:02:15.740Z"
   },
   {
    "duration": 8,
    "start_time": "2024-07-20T21:03:06.998Z"
   },
   {
    "duration": 5,
    "start_time": "2024-07-20T21:03:08.060Z"
   },
   {
    "duration": 6,
    "start_time": "2024-07-20T21:03:33.596Z"
   },
   {
    "duration": 5,
    "start_time": "2024-07-20T21:03:38.638Z"
   },
   {
    "duration": 7,
    "start_time": "2024-07-20T21:06:50.222Z"
   },
   {
    "duration": 8,
    "start_time": "2024-07-20T21:06:57.202Z"
   },
   {
    "duration": 6,
    "start_time": "2024-07-20T21:08:33.345Z"
   },
   {
    "duration": 6,
    "start_time": "2024-07-20T21:08:49.785Z"
   },
   {
    "duration": 16,
    "start_time": "2024-07-20T21:09:07.344Z"
   },
   {
    "duration": 17,
    "start_time": "2024-07-20T21:11:21.097Z"
   },
   {
    "duration": 16,
    "start_time": "2024-07-20T21:14:28.271Z"
   },
   {
    "duration": 4,
    "start_time": "2024-07-20T21:18:36.820Z"
   },
   {
    "duration": 10,
    "start_time": "2024-07-20T21:18:46.071Z"
   },
   {
    "duration": 11,
    "start_time": "2024-07-20T21:20:36.580Z"
   },
   {
    "duration": 11,
    "start_time": "2024-07-20T21:20:50.457Z"
   },
   {
    "duration": 16,
    "start_time": "2024-07-20T21:21:50.259Z"
   },
   {
    "duration": 10,
    "start_time": "2024-07-20T21:21:54.202Z"
   },
   {
    "duration": 9,
    "start_time": "2024-07-20T21:22:04.938Z"
   },
   {
    "duration": 10,
    "start_time": "2024-07-20T21:22:36.008Z"
   },
   {
    "duration": 25,
    "start_time": "2024-07-20T21:25:05.869Z"
   },
   {
    "duration": 16,
    "start_time": "2024-07-20T21:26:56.415Z"
   },
   {
    "duration": 10,
    "start_time": "2024-07-20T21:27:26.185Z"
   },
   {
    "duration": 15,
    "start_time": "2024-07-20T21:27:38.909Z"
   },
   {
    "duration": 6,
    "start_time": "2024-07-21T04:15:25.383Z"
   },
   {
    "duration": 5,
    "start_time": "2024-07-21T04:15:30.708Z"
   },
   {
    "duration": 159,
    "start_time": "2024-07-21T04:16:17.615Z"
   },
   {
    "duration": 24,
    "start_time": "2024-07-21T04:16:17.776Z"
   },
   {
    "duration": 13,
    "start_time": "2024-07-21T04:16:17.802Z"
   },
   {
    "duration": 7,
    "start_time": "2024-07-21T04:16:17.816Z"
   },
   {
    "duration": 27,
    "start_time": "2024-07-21T04:16:17.824Z"
   },
   {
    "duration": 3,
    "start_time": "2024-07-21T04:16:17.852Z"
   },
   {
    "duration": 11,
    "start_time": "2024-07-21T04:16:17.856Z"
   },
   {
    "duration": 6,
    "start_time": "2024-07-21T04:16:17.868Z"
   },
   {
    "duration": 14,
    "start_time": "2024-07-21T04:16:17.875Z"
   },
   {
    "duration": 4,
    "start_time": "2024-07-21T04:16:17.902Z"
   },
   {
    "duration": 28,
    "start_time": "2024-07-21T04:16:17.907Z"
   },
   {
    "duration": 7,
    "start_time": "2024-07-21T04:16:17.937Z"
   },
   {
    "duration": 9,
    "start_time": "2024-07-21T04:16:17.946Z"
   },
   {
    "duration": 85,
    "start_time": "2024-07-21T04:16:17.956Z"
   },
   {
    "duration": 51,
    "start_time": "2024-07-21T04:16:18.043Z"
   },
   {
    "duration": 15,
    "start_time": "2024-07-21T04:16:18.095Z"
   },
   {
    "duration": 3,
    "start_time": "2024-07-21T04:16:18.111Z"
   },
   {
    "duration": 10,
    "start_time": "2024-07-21T04:16:18.115Z"
   },
   {
    "duration": 18,
    "start_time": "2024-07-21T04:16:18.126Z"
   },
   {
    "duration": 3,
    "start_time": "2024-07-21T04:16:18.145Z"
   },
   {
    "duration": 20,
    "start_time": "2024-07-21T04:16:18.149Z"
   },
   {
    "duration": 6,
    "start_time": "2024-07-21T04:16:18.170Z"
   },
   {
    "duration": 12,
    "start_time": "2024-07-21T04:16:18.177Z"
   },
   {
    "duration": 28,
    "start_time": "2024-07-21T04:16:18.190Z"
   },
   {
    "duration": 14,
    "start_time": "2024-07-21T04:16:18.219Z"
   },
   {
    "duration": 7,
    "start_time": "2024-07-21T04:16:18.235Z"
   },
   {
    "duration": 8,
    "start_time": "2024-07-21T04:16:18.243Z"
   },
   {
    "duration": 9,
    "start_time": "2024-07-21T04:16:18.252Z"
   },
   {
    "duration": 4,
    "start_time": "2024-07-21T04:16:18.262Z"
   },
   {
    "duration": 56,
    "start_time": "2024-07-21T04:16:36.270Z"
   },
   {
    "duration": 6,
    "start_time": "2024-07-21T04:16:58.588Z"
   },
   {
    "duration": 65,
    "start_time": "2024-07-21T04:18:16.182Z"
   },
   {
    "duration": 12,
    "start_time": "2024-07-21T04:18:16.249Z"
   },
   {
    "duration": 12,
    "start_time": "2024-07-21T04:18:16.262Z"
   },
   {
    "duration": 8,
    "start_time": "2024-07-21T04:18:16.276Z"
   },
   {
    "duration": 43,
    "start_time": "2024-07-21T04:18:16.285Z"
   },
   {
    "duration": 3,
    "start_time": "2024-07-21T04:18:16.330Z"
   },
   {
    "duration": 9,
    "start_time": "2024-07-21T04:18:16.334Z"
   },
   {
    "duration": 3,
    "start_time": "2024-07-21T04:18:16.345Z"
   },
   {
    "duration": 5,
    "start_time": "2024-07-21T04:18:16.349Z"
   },
   {
    "duration": 4,
    "start_time": "2024-07-21T04:18:16.356Z"
   },
   {
    "duration": 74,
    "start_time": "2024-07-21T04:18:16.362Z"
   },
   {
    "duration": 10,
    "start_time": "2024-07-21T04:18:16.438Z"
   },
   {
    "duration": 3,
    "start_time": "2024-07-21T04:18:16.449Z"
   },
   {
    "duration": 21,
    "start_time": "2024-07-21T04:18:16.453Z"
   },
   {
    "duration": 38,
    "start_time": "2024-07-21T04:18:16.476Z"
   },
   {
    "duration": 20,
    "start_time": "2024-07-21T04:18:16.515Z"
   },
   {
    "duration": 3,
    "start_time": "2024-07-21T04:18:16.536Z"
   },
   {
    "duration": 9,
    "start_time": "2024-07-21T04:18:16.540Z"
   },
   {
    "duration": 5,
    "start_time": "2024-07-21T04:18:16.550Z"
   },
   {
    "duration": 7,
    "start_time": "2024-07-21T04:18:16.556Z"
   },
   {
    "duration": 8,
    "start_time": "2024-07-21T04:18:16.564Z"
   },
   {
    "duration": 10,
    "start_time": "2024-07-21T04:18:16.573Z"
   },
   {
    "duration": 4,
    "start_time": "2024-07-21T04:18:16.584Z"
   },
   {
    "duration": 5,
    "start_time": "2024-07-21T04:18:16.601Z"
   },
   {
    "duration": 18,
    "start_time": "2024-07-21T04:18:16.607Z"
   },
   {
    "duration": 9,
    "start_time": "2024-07-21T04:18:16.626Z"
   },
   {
    "duration": 9,
    "start_time": "2024-07-21T04:18:16.637Z"
   },
   {
    "duration": 5,
    "start_time": "2024-07-21T04:18:16.647Z"
   },
   {
    "duration": 6,
    "start_time": "2024-07-21T04:18:16.653Z"
   },
   {
    "duration": 54,
    "start_time": "2024-07-21T04:19:11.643Z"
   },
   {
    "duration": 5,
    "start_time": "2024-07-21T04:20:33.938Z"
   },
   {
    "duration": 6,
    "start_time": "2024-07-21T04:21:07.908Z"
   },
   {
    "duration": 6,
    "start_time": "2024-07-21T04:21:20.219Z"
   },
   {
    "duration": 5,
    "start_time": "2024-07-21T04:24:45.840Z"
   },
   {
    "duration": 5,
    "start_time": "2024-07-21T04:25:13.620Z"
   },
   {
    "duration": 5,
    "start_time": "2024-07-21T04:26:44.653Z"
   },
   {
    "duration": 6,
    "start_time": "2024-07-21T04:26:52.849Z"
   },
   {
    "duration": 8,
    "start_time": "2024-07-21T04:27:32.376Z"
   },
   {
    "duration": 5,
    "start_time": "2024-07-21T04:28:29.978Z"
   },
   {
    "duration": 64,
    "start_time": "2024-07-21T04:28:44.348Z"
   },
   {
    "duration": 12,
    "start_time": "2024-07-21T04:28:47.376Z"
   },
   {
    "duration": 12,
    "start_time": "2024-07-21T04:28:48.752Z"
   },
   {
    "duration": 8,
    "start_time": "2024-07-21T04:28:50.707Z"
   },
   {
    "duration": 27,
    "start_time": "2024-07-21T04:28:51.844Z"
   },
   {
    "duration": 3,
    "start_time": "2024-07-21T04:28:53.151Z"
   },
   {
    "duration": 6,
    "start_time": "2024-07-21T04:28:55.094Z"
   },
   {
    "duration": 4,
    "start_time": "2024-07-21T04:28:56.371Z"
   },
   {
    "duration": 5,
    "start_time": "2024-07-21T04:28:57.527Z"
   },
   {
    "duration": 3,
    "start_time": "2024-07-21T04:28:58.849Z"
   },
   {
    "duration": 26,
    "start_time": "2024-07-21T04:29:01.832Z"
   },
   {
    "duration": 8,
    "start_time": "2024-07-21T04:29:04.874Z"
   },
   {
    "duration": 3,
    "start_time": "2024-07-21T04:29:06.653Z"
   },
   {
    "duration": 9,
    "start_time": "2024-07-21T04:29:09.398Z"
   },
   {
    "duration": 17,
    "start_time": "2024-07-21T04:29:10.428Z"
   },
   {
    "duration": 15,
    "start_time": "2024-07-21T04:29:11.763Z"
   },
   {
    "duration": 3,
    "start_time": "2024-07-21T04:29:14.022Z"
   },
   {
    "duration": 8,
    "start_time": "2024-07-21T04:29:16.344Z"
   },
   {
    "duration": 5,
    "start_time": "2024-07-21T04:29:18.101Z"
   },
   {
    "duration": 3,
    "start_time": "2024-07-21T04:29:20.235Z"
   },
   {
    "duration": 8,
    "start_time": "2024-07-21T04:29:21.373Z"
   },
   {
    "duration": 6,
    "start_time": "2024-07-21T04:29:25.069Z"
   },
   {
    "duration": 24,
    "start_time": "2024-07-21T04:30:10.657Z"
   },
   {
    "duration": 3,
    "start_time": "2024-07-21T04:30:35.798Z"
   },
   {
    "duration": 18,
    "start_time": "2024-07-21T04:30:44.429Z"
   },
   {
    "duration": 7,
    "start_time": "2024-07-21T04:30:59.074Z"
   },
   {
    "duration": 46,
    "start_time": "2024-07-21T16:26:39.939Z"
   },
   {
    "duration": 491,
    "start_time": "2024-07-21T16:26:46.070Z"
   },
   {
    "duration": 19,
    "start_time": "2024-07-21T16:26:46.563Z"
   },
   {
    "duration": 14,
    "start_time": "2024-07-21T16:26:46.583Z"
   },
   {
    "duration": 15,
    "start_time": "2024-07-21T16:26:46.599Z"
   },
   {
    "duration": 37,
    "start_time": "2024-07-21T16:26:46.615Z"
   },
   {
    "duration": 3,
    "start_time": "2024-07-21T16:26:46.653Z"
   },
   {
    "duration": 16,
    "start_time": "2024-07-21T16:26:46.657Z"
   },
   {
    "duration": 19,
    "start_time": "2024-07-21T16:26:46.674Z"
   },
   {
    "duration": 41,
    "start_time": "2024-07-21T16:26:46.694Z"
   },
   {
    "duration": 32,
    "start_time": "2024-07-21T16:26:46.737Z"
   },
   {
    "duration": 43,
    "start_time": "2024-07-21T16:26:46.771Z"
   },
   {
    "duration": 10,
    "start_time": "2024-07-21T16:26:46.815Z"
   },
   {
    "duration": 18,
    "start_time": "2024-07-21T16:26:46.826Z"
   },
   {
    "duration": 38,
    "start_time": "2024-07-21T16:26:46.845Z"
   },
   {
    "duration": 37,
    "start_time": "2024-07-21T16:26:46.884Z"
   },
   {
    "duration": 24,
    "start_time": "2024-07-21T16:26:46.922Z"
   },
   {
    "duration": 6,
    "start_time": "2024-07-21T16:26:46.947Z"
   },
   {
    "duration": 20,
    "start_time": "2024-07-21T16:26:46.954Z"
   },
   {
    "duration": 9,
    "start_time": "2024-07-21T16:26:46.975Z"
   },
   {
    "duration": 21,
    "start_time": "2024-07-21T16:26:46.985Z"
   },
   {
    "duration": 45,
    "start_time": "2024-07-21T16:26:47.007Z"
   },
   {
    "duration": 20,
    "start_time": "2024-07-21T16:26:47.053Z"
   },
   {
    "duration": 18,
    "start_time": "2024-07-21T16:26:47.074Z"
   },
   {
    "duration": 26,
    "start_time": "2024-07-21T16:26:47.093Z"
   },
   {
    "duration": 42,
    "start_time": "2024-07-21T16:26:47.120Z"
   },
   {
    "duration": 3,
    "start_time": "2024-07-21T16:26:47.163Z"
   },
   {
    "duration": 23,
    "start_time": "2024-07-21T16:26:47.167Z"
   },
   {
    "duration": 21,
    "start_time": "2024-07-21T16:26:47.193Z"
   },
   {
    "duration": 8,
    "start_time": "2024-07-21T16:26:47.215Z"
   },
   {
    "duration": 19,
    "start_time": "2024-07-21T16:26:47.224Z"
   },
   {
    "duration": 4,
    "start_time": "2024-07-21T16:27:04.465Z"
   },
   {
    "duration": 9,
    "start_time": "2024-07-21T16:27:10.368Z"
   },
   {
    "duration": 12,
    "start_time": "2024-07-21T16:31:35.399Z"
   },
   {
    "duration": 7,
    "start_time": "2024-07-21T16:31:41.968Z"
   },
   {
    "duration": 72,
    "start_time": "2024-07-21T16:35:16.457Z"
   },
   {
    "duration": 9,
    "start_time": "2024-07-21T16:35:41.582Z"
   },
   {
    "duration": 474,
    "start_time": "2024-07-21T16:39:11.760Z"
   },
   {
    "duration": 22,
    "start_time": "2024-07-21T16:39:12.237Z"
   },
   {
    "duration": 15,
    "start_time": "2024-07-21T16:39:12.261Z"
   },
   {
    "duration": 31,
    "start_time": "2024-07-21T16:39:12.278Z"
   },
   {
    "duration": 46,
    "start_time": "2024-07-21T16:39:12.310Z"
   },
   {
    "duration": 2,
    "start_time": "2024-07-21T16:39:12.358Z"
   },
   {
    "duration": 10,
    "start_time": "2024-07-21T16:39:12.362Z"
   },
   {
    "duration": 25,
    "start_time": "2024-07-21T16:39:12.374Z"
   },
   {
    "duration": 10,
    "start_time": "2024-07-21T16:39:12.400Z"
   },
   {
    "duration": 4,
    "start_time": "2024-07-21T16:39:12.412Z"
   },
   {
    "duration": 40,
    "start_time": "2024-07-21T16:39:12.417Z"
   },
   {
    "duration": 9,
    "start_time": "2024-07-21T16:39:12.458Z"
   },
   {
    "duration": 16,
    "start_time": "2024-07-21T16:39:12.469Z"
   },
   {
    "duration": 12,
    "start_time": "2024-07-21T16:39:12.486Z"
   },
   {
    "duration": 22,
    "start_time": "2024-07-21T16:39:12.499Z"
   },
   {
    "duration": 19,
    "start_time": "2024-07-21T16:39:12.523Z"
   },
   {
    "duration": 3,
    "start_time": "2024-07-21T16:39:12.543Z"
   },
   {
    "duration": 25,
    "start_time": "2024-07-21T16:39:12.547Z"
   },
   {
    "duration": 17,
    "start_time": "2024-07-21T16:39:12.574Z"
   },
   {
    "duration": 10,
    "start_time": "2024-07-21T16:39:12.592Z"
   },
   {
    "duration": 12,
    "start_time": "2024-07-21T16:39:12.603Z"
   },
   {
    "duration": 6,
    "start_time": "2024-07-21T16:39:12.616Z"
   },
   {
    "duration": 4,
    "start_time": "2024-07-21T16:39:12.623Z"
   },
   {
    "duration": 9,
    "start_time": "2024-07-21T16:39:12.628Z"
   },
   {
    "duration": 14,
    "start_time": "2024-07-21T16:39:12.638Z"
   },
   {
    "duration": 5,
    "start_time": "2024-07-21T16:39:12.653Z"
   },
   {
    "duration": 4,
    "start_time": "2024-07-21T16:39:12.660Z"
   },
   {
    "duration": 3,
    "start_time": "2024-07-21T16:39:12.667Z"
   },
   {
    "duration": 9,
    "start_time": "2024-07-21T16:39:12.671Z"
   },
   {
    "duration": 90,
    "start_time": "2024-07-21T16:39:12.681Z"
   },
   {
    "duration": 0,
    "start_time": "2024-07-21T16:39:12.772Z"
   },
   {
    "duration": 0,
    "start_time": "2024-07-21T16:39:12.773Z"
   },
   {
    "duration": 13,
    "start_time": "2024-07-21T16:39:16.082Z"
   },
   {
    "duration": 13,
    "start_time": "2024-07-21T16:39:39.200Z"
   },
   {
    "duration": 14,
    "start_time": "2024-07-21T16:39:53.333Z"
   },
   {
    "duration": 17,
    "start_time": "2024-07-21T16:41:35.897Z"
   },
   {
    "duration": 10,
    "start_time": "2024-07-21T16:46:25.332Z"
   },
   {
    "duration": 10,
    "start_time": "2024-07-21T16:47:19.546Z"
   },
   {
    "duration": 22,
    "start_time": "2024-07-21T16:48:33.986Z"
   },
   {
    "duration": 9,
    "start_time": "2024-07-21T16:48:37.791Z"
   },
   {
    "duration": 5,
    "start_time": "2024-07-21T16:49:55.630Z"
   },
   {
    "duration": 3,
    "start_time": "2024-07-21T16:51:22.526Z"
   },
   {
    "duration": 8,
    "start_time": "2024-07-21T16:51:30.700Z"
   },
   {
    "duration": 4,
    "start_time": "2024-07-21T16:51:37.574Z"
   },
   {
    "duration": 8,
    "start_time": "2024-07-21T16:51:38.133Z"
   },
   {
    "duration": 61,
    "start_time": "2024-07-21T16:54:26.855Z"
   },
   {
    "duration": 3,
    "start_time": "2024-07-21T16:54:37.010Z"
   },
   {
    "duration": 8,
    "start_time": "2024-07-21T16:55:10.045Z"
   },
   {
    "duration": 3,
    "start_time": "2024-07-21T16:55:29.745Z"
   },
   {
    "duration": 4,
    "start_time": "2024-07-21T16:55:30.272Z"
   },
   {
    "duration": 9,
    "start_time": "2024-07-21T16:55:31.118Z"
   },
   {
    "duration": 9,
    "start_time": "2024-07-21T16:55:35.864Z"
   },
   {
    "duration": 8,
    "start_time": "2024-07-21T16:55:55.413Z"
   },
   {
    "duration": 8,
    "start_time": "2024-07-21T16:56:04.356Z"
   },
   {
    "duration": 14,
    "start_time": "2024-07-21T16:56:16.529Z"
   },
   {
    "duration": 5,
    "start_time": "2024-07-21T16:56:17.578Z"
   },
   {
    "duration": 4,
    "start_time": "2024-07-21T16:56:18.978Z"
   },
   {
    "duration": 4,
    "start_time": "2024-07-21T16:56:19.634Z"
   },
   {
    "duration": 7,
    "start_time": "2024-07-21T16:56:20.416Z"
   },
   {
    "duration": 9,
    "start_time": "2024-07-21T16:56:41.252Z"
   },
   {
    "duration": 27,
    "start_time": "2024-07-21T18:20:04.288Z"
   },
   {
    "duration": 9,
    "start_time": "2024-07-21T18:20:19.616Z"
   },
   {
    "duration": 472,
    "start_time": "2024-07-21T18:21:01.800Z"
   },
   {
    "duration": 20,
    "start_time": "2024-07-21T18:21:02.274Z"
   },
   {
    "duration": 22,
    "start_time": "2024-07-21T18:21:02.296Z"
   },
   {
    "duration": 18,
    "start_time": "2024-07-21T18:21:02.320Z"
   },
   {
    "duration": 44,
    "start_time": "2024-07-21T18:21:02.340Z"
   },
   {
    "duration": 3,
    "start_time": "2024-07-21T18:21:02.385Z"
   },
   {
    "duration": 17,
    "start_time": "2024-07-21T18:21:02.389Z"
   },
   {
    "duration": 4,
    "start_time": "2024-07-21T18:21:02.407Z"
   },
   {
    "duration": 33,
    "start_time": "2024-07-21T18:21:02.412Z"
   },
   {
    "duration": 20,
    "start_time": "2024-07-21T18:21:02.448Z"
   },
   {
    "duration": 65,
    "start_time": "2024-07-21T18:21:02.469Z"
   },
   {
    "duration": 10,
    "start_time": "2024-07-21T18:21:02.536Z"
   },
   {
    "duration": 5,
    "start_time": "2024-07-21T18:21:02.547Z"
   },
   {
    "duration": 17,
    "start_time": "2024-07-21T18:21:02.554Z"
   },
   {
    "duration": 35,
    "start_time": "2024-07-21T18:21:02.572Z"
   },
   {
    "duration": 15,
    "start_time": "2024-07-21T18:21:02.608Z"
   },
   {
    "duration": 5,
    "start_time": "2024-07-21T18:21:02.625Z"
   },
   {
    "duration": 21,
    "start_time": "2024-07-21T18:21:02.631Z"
   },
   {
    "duration": 19,
    "start_time": "2024-07-21T18:21:02.654Z"
   },
   {
    "duration": 31,
    "start_time": "2024-07-21T18:21:02.674Z"
   },
   {
    "duration": 292,
    "start_time": "2024-07-21T18:21:02.706Z"
   },
   {
    "duration": 49,
    "start_time": "2024-07-21T18:21:03.000Z"
   },
   {
    "duration": 13,
    "start_time": "2024-07-21T18:21:03.051Z"
   },
   {
    "duration": 13,
    "start_time": "2024-07-21T18:21:03.066Z"
   },
   {
    "duration": 25,
    "start_time": "2024-07-21T18:21:03.080Z"
   },
   {
    "duration": 33,
    "start_time": "2024-07-21T18:21:03.106Z"
   },
   {
    "duration": 13,
    "start_time": "2024-07-21T18:21:03.140Z"
   },
   {
    "duration": 14,
    "start_time": "2024-07-21T18:21:03.157Z"
   },
   {
    "duration": 24,
    "start_time": "2024-07-21T18:21:03.172Z"
   },
   {
    "duration": 24,
    "start_time": "2024-07-21T18:21:03.197Z"
   },
   {
    "duration": 7,
    "start_time": "2024-07-21T18:21:03.223Z"
   },
   {
    "duration": 27,
    "start_time": "2024-07-21T18:21:03.232Z"
   },
   {
    "duration": 4,
    "start_time": "2024-07-21T18:21:03.260Z"
   },
   {
    "duration": 11,
    "start_time": "2024-07-21T18:21:03.266Z"
   },
   {
    "duration": 24,
    "start_time": "2024-07-21T18:21:03.278Z"
   },
   {
    "duration": 9,
    "start_time": "2024-07-21T18:21:03.304Z"
   },
   {
    "duration": 13,
    "start_time": "2024-07-21T18:21:03.314Z"
   },
   {
    "duration": 50,
    "start_time": "2024-07-21T18:22:06.370Z"
   },
   {
    "duration": 19,
    "start_time": "2024-07-21T18:22:09.436Z"
   },
   {
    "duration": 14,
    "start_time": "2024-07-21T18:24:26.106Z"
   },
   {
    "duration": 7,
    "start_time": "2024-07-21T18:24:26.639Z"
   },
   {
    "duration": 4,
    "start_time": "2024-07-21T18:25:06.103Z"
   },
   {
    "duration": 4,
    "start_time": "2024-07-21T18:25:07.836Z"
   },
   {
    "duration": 7,
    "start_time": "2024-07-21T18:25:44.114Z"
   },
   {
    "duration": 5,
    "start_time": "2024-07-21T18:25:45.203Z"
   },
   {
    "duration": 3,
    "start_time": "2024-07-21T18:26:18.891Z"
   },
   {
    "duration": 4,
    "start_time": "2024-07-21T18:26:20.041Z"
   },
   {
    "duration": 5,
    "start_time": "2024-07-21T18:26:30.622Z"
   },
   {
    "duration": 5,
    "start_time": "2024-07-21T18:26:31.310Z"
   },
   {
    "duration": 2,
    "start_time": "2024-07-21T18:27:08.465Z"
   },
   {
    "duration": 5,
    "start_time": "2024-07-21T18:27:08.982Z"
   },
   {
    "duration": 4,
    "start_time": "2024-07-21T18:27:17.426Z"
   },
   {
    "duration": 4,
    "start_time": "2024-07-21T18:30:11.770Z"
   },
   {
    "duration": 5,
    "start_time": "2024-07-21T18:30:33.580Z"
   },
   {
    "duration": 4,
    "start_time": "2024-07-21T18:30:48.372Z"
   },
   {
    "duration": 11,
    "start_time": "2024-07-21T18:32:35.485Z"
   },
   {
    "duration": 14,
    "start_time": "2024-07-21T18:33:20.310Z"
   },
   {
    "duration": 6,
    "start_time": "2024-07-21T18:33:25.996Z"
   },
   {
    "duration": 6,
    "start_time": "2024-07-21T18:35:54.349Z"
   },
   {
    "duration": 3,
    "start_time": "2024-07-21T18:37:06.272Z"
   },
   {
    "duration": 4,
    "start_time": "2024-07-21T18:37:51.015Z"
   },
   {
    "duration": 4,
    "start_time": "2024-07-21T18:37:57.306Z"
   },
   {
    "duration": 1029,
    "start_time": "2024-07-21T18:38:21.001Z"
   },
   {
    "duration": 0,
    "start_time": "2024-07-21T18:38:22.032Z"
   },
   {
    "duration": 915,
    "start_time": "2024-07-21T18:38:25.827Z"
   },
   {
    "duration": 4,
    "start_time": "2024-07-21T18:38:35.410Z"
   },
   {
    "duration": 3,
    "start_time": "2024-07-21T18:38:38.311Z"
   },
   {
    "duration": 4,
    "start_time": "2024-07-21T18:38:39.655Z"
   },
   {
    "duration": 5,
    "start_time": "2024-07-21T18:38:43.667Z"
   },
   {
    "duration": 3,
    "start_time": "2024-07-21T18:38:47.651Z"
   },
   {
    "duration": 5,
    "start_time": "2024-07-21T18:38:48.293Z"
   },
   {
    "duration": 2,
    "start_time": "2024-07-21T18:39:01.847Z"
   },
   {
    "duration": 5,
    "start_time": "2024-07-21T18:39:02.692Z"
   },
   {
    "duration": 5,
    "start_time": "2024-07-21T18:39:14.794Z"
   },
   {
    "duration": 12,
    "start_time": "2024-07-21T18:39:21.001Z"
   },
   {
    "duration": 4,
    "start_time": "2024-07-21T18:39:22.278Z"
   },
   {
    "duration": 4,
    "start_time": "2024-07-21T18:39:22.757Z"
   },
   {
    "duration": 7,
    "start_time": "2024-07-21T18:39:23.208Z"
   },
   {
    "duration": 16,
    "start_time": "2024-07-21T18:41:21.339Z"
   },
   {
    "duration": 4,
    "start_time": "2024-07-21T22:35:37.277Z"
   },
   {
    "duration": 13,
    "start_time": "2024-07-21T22:35:38.061Z"
   },
   {
    "duration": 7,
    "start_time": "2024-07-21T22:36:22.173Z"
   },
   {
    "duration": 7,
    "start_time": "2024-07-21T22:36:37.995Z"
   },
   {
    "duration": 89,
    "start_time": "2024-07-21T22:36:46.535Z"
   },
   {
    "duration": 517,
    "start_time": "2024-07-21T22:36:52.178Z"
   },
   {
    "duration": 30,
    "start_time": "2024-07-21T22:36:52.697Z"
   },
   {
    "duration": 44,
    "start_time": "2024-07-21T22:36:52.729Z"
   },
   {
    "duration": 11,
    "start_time": "2024-07-21T22:36:52.776Z"
   },
   {
    "duration": 40,
    "start_time": "2024-07-21T22:36:52.788Z"
   },
   {
    "duration": 28,
    "start_time": "2024-07-21T22:36:52.829Z"
   },
   {
    "duration": 20,
    "start_time": "2024-07-21T22:36:52.859Z"
   },
   {
    "duration": 6,
    "start_time": "2024-07-21T22:36:52.881Z"
   },
   {
    "duration": 20,
    "start_time": "2024-07-21T22:36:52.888Z"
   },
   {
    "duration": 5,
    "start_time": "2024-07-21T22:36:52.911Z"
   },
   {
    "duration": 60,
    "start_time": "2024-07-21T22:36:52.917Z"
   },
   {
    "duration": 10,
    "start_time": "2024-07-21T22:36:52.979Z"
   },
   {
    "duration": 17,
    "start_time": "2024-07-21T22:36:52.991Z"
   },
   {
    "duration": 13,
    "start_time": "2024-07-21T22:36:53.010Z"
   },
   {
    "duration": 32,
    "start_time": "2024-07-21T22:36:53.025Z"
   },
   {
    "duration": 18,
    "start_time": "2024-07-21T22:36:53.060Z"
   },
   {
    "duration": 5,
    "start_time": "2024-07-21T22:36:53.080Z"
   },
   {
    "duration": 23,
    "start_time": "2024-07-21T22:36:53.086Z"
   },
   {
    "duration": 16,
    "start_time": "2024-07-21T22:36:53.111Z"
   },
   {
    "duration": 14,
    "start_time": "2024-07-21T22:36:53.129Z"
   },
   {
    "duration": 22,
    "start_time": "2024-07-21T22:36:53.145Z"
   },
   {
    "duration": 12,
    "start_time": "2024-07-21T22:36:53.168Z"
   },
   {
    "duration": 4,
    "start_time": "2024-07-21T22:36:53.182Z"
   },
   {
    "duration": 10,
    "start_time": "2024-07-21T22:36:53.188Z"
   },
   {
    "duration": 15,
    "start_time": "2024-07-21T22:36:53.199Z"
   },
   {
    "duration": 5,
    "start_time": "2024-07-21T22:36:53.216Z"
   },
   {
    "duration": 40,
    "start_time": "2024-07-21T22:36:53.223Z"
   },
   {
    "duration": 4,
    "start_time": "2024-07-21T22:36:53.267Z"
   },
   {
    "duration": 12,
    "start_time": "2024-07-21T22:36:53.272Z"
   },
   {
    "duration": 28,
    "start_time": "2024-07-21T22:36:53.285Z"
   },
   {
    "duration": 19,
    "start_time": "2024-07-21T22:36:53.315Z"
   },
   {
    "duration": 7,
    "start_time": "2024-07-21T22:36:53.336Z"
   },
   {
    "duration": 10,
    "start_time": "2024-07-21T22:36:53.344Z"
   },
   {
    "duration": 9,
    "start_time": "2024-07-21T22:36:53.356Z"
   },
   {
    "duration": 12,
    "start_time": "2024-07-21T22:36:53.366Z"
   },
   {
    "duration": 3,
    "start_time": "2024-07-21T22:36:53.380Z"
   },
   {
    "duration": 5,
    "start_time": "2024-07-21T22:36:53.384Z"
   },
   {
    "duration": 9,
    "start_time": "2024-07-21T22:36:53.390Z"
   },
   {
    "duration": 4,
    "start_time": "2024-07-21T22:36:53.401Z"
   },
   {
    "duration": 13,
    "start_time": "2024-07-21T22:39:53.183Z"
   },
   {
    "duration": 9,
    "start_time": "2024-07-21T22:40:20.420Z"
   },
   {
    "duration": 15,
    "start_time": "2024-07-21T22:40:59.498Z"
   },
   {
    "duration": 6,
    "start_time": "2024-07-21T22:41:00.784Z"
   },
   {
    "duration": 10,
    "start_time": "2024-07-21T22:41:39.645Z"
   },
   {
    "duration": 10,
    "start_time": "2024-07-21T22:42:08.653Z"
   },
   {
    "duration": 6,
    "start_time": "2024-07-21T22:44:35.189Z"
   },
   {
    "duration": 7,
    "start_time": "2024-07-21T22:44:42.187Z"
   },
   {
    "duration": 82,
    "start_time": "2024-07-21T22:45:07.535Z"
   },
   {
    "duration": 7,
    "start_time": "2024-07-21T22:45:12.742Z"
   },
   {
    "duration": 9,
    "start_time": "2024-07-21T22:45:26.020Z"
   },
   {
    "duration": 8,
    "start_time": "2024-07-21T22:54:10.256Z"
   },
   {
    "duration": 4,
    "start_time": "2024-07-21T22:54:10.860Z"
   },
   {
    "duration": 4,
    "start_time": "2024-07-21T22:55:44.641Z"
   },
   {
    "duration": 9,
    "start_time": "2024-07-21T22:55:46.820Z"
   },
   {
    "duration": 4,
    "start_time": "2024-07-21T22:56:22.078Z"
   },
   {
    "duration": 9,
    "start_time": "2024-07-21T22:56:23.234Z"
   },
   {
    "duration": 4,
    "start_time": "2024-07-21T23:03:30.814Z"
   },
   {
    "duration": 4,
    "start_time": "2024-07-21T23:03:31.358Z"
   },
   {
    "duration": 3,
    "start_time": "2024-07-21T23:03:31.906Z"
   },
   {
    "duration": 4,
    "start_time": "2024-07-21T23:03:32.426Z"
   },
   {
    "duration": 4,
    "start_time": "2024-07-21T23:03:32.957Z"
   },
   {
    "duration": 10,
    "start_time": "2024-07-21T23:03:33.832Z"
   },
   {
    "duration": 6,
    "start_time": "2024-07-21T23:06:20.913Z"
   },
   {
    "duration": 3,
    "start_time": "2024-07-21T23:06:21.423Z"
   },
   {
    "duration": 4,
    "start_time": "2024-07-21T23:06:21.923Z"
   },
   {
    "duration": 5,
    "start_time": "2024-07-21T23:06:22.403Z"
   },
   {
    "duration": 4,
    "start_time": "2024-07-21T23:06:22.897Z"
   },
   {
    "duration": 10,
    "start_time": "2024-07-21T23:06:23.471Z"
   },
   {
    "duration": 16,
    "start_time": "2024-07-21T23:13:52.275Z"
   },
   {
    "duration": 719,
    "start_time": "2024-07-21T23:13:53.509Z"
   },
   {
    "duration": 0,
    "start_time": "2024-07-21T23:13:54.230Z"
   },
   {
    "duration": 17,
    "start_time": "2024-07-21T23:14:34.995Z"
   },
   {
    "duration": 4,
    "start_time": "2024-07-21T23:14:35.678Z"
   },
   {
    "duration": 4,
    "start_time": "2024-07-21T23:14:37.964Z"
   },
   {
    "duration": 4,
    "start_time": "2024-07-21T23:14:38.870Z"
   },
   {
    "duration": 5,
    "start_time": "2024-07-21T23:14:39.573Z"
   },
   {
    "duration": 4,
    "start_time": "2024-07-21T23:14:40.138Z"
   },
   {
    "duration": 9,
    "start_time": "2024-07-21T23:14:40.669Z"
   },
   {
    "duration": 24,
    "start_time": "2024-07-21T23:47:00.984Z"
   },
   {
    "duration": 13,
    "start_time": "2024-07-21T23:47:09.156Z"
   },
   {
    "duration": 26,
    "start_time": "2024-07-21T23:48:33.685Z"
   },
   {
    "duration": 22,
    "start_time": "2024-07-21T23:51:18.266Z"
   },
   {
    "duration": 76,
    "start_time": "2024-07-22T00:15:23.592Z"
   },
   {
    "duration": 11,
    "start_time": "2024-07-22T00:15:27.981Z"
   },
   {
    "duration": 1015,
    "start_time": "2024-07-22T00:16:53.703Z"
   },
   {
    "duration": 8,
    "start_time": "2024-07-22T00:18:54.757Z"
   },
   {
    "duration": 481,
    "start_time": "2024-07-22T18:51:14.762Z"
   },
   {
    "duration": 19,
    "start_time": "2024-07-22T18:51:15.245Z"
   },
   {
    "duration": 22,
    "start_time": "2024-07-22T18:51:15.266Z"
   },
   {
    "duration": 27,
    "start_time": "2024-07-22T18:51:15.290Z"
   },
   {
    "duration": 43,
    "start_time": "2024-07-22T18:51:15.318Z"
   },
   {
    "duration": 4,
    "start_time": "2024-07-22T18:51:15.363Z"
   },
   {
    "duration": 18,
    "start_time": "2024-07-22T18:51:15.368Z"
   },
   {
    "duration": 11,
    "start_time": "2024-07-22T18:51:15.387Z"
   },
   {
    "duration": 15,
    "start_time": "2024-07-22T18:51:15.400Z"
   },
   {
    "duration": 12,
    "start_time": "2024-07-22T18:51:15.417Z"
   },
   {
    "duration": 30,
    "start_time": "2024-07-22T18:51:15.431Z"
   },
   {
    "duration": 9,
    "start_time": "2024-07-22T18:51:15.462Z"
   },
   {
    "duration": 18,
    "start_time": "2024-07-22T18:51:15.472Z"
   },
   {
    "duration": 16,
    "start_time": "2024-07-22T18:51:15.491Z"
   },
   {
    "duration": 24,
    "start_time": "2024-07-22T18:51:15.508Z"
   },
   {
    "duration": 15,
    "start_time": "2024-07-22T18:51:15.533Z"
   },
   {
    "duration": 3,
    "start_time": "2024-07-22T18:51:15.549Z"
   },
   {
    "duration": 20,
    "start_time": "2024-07-22T18:51:15.553Z"
   },
   {
    "duration": 58,
    "start_time": "2024-07-22T18:51:15.574Z"
   },
   {
    "duration": 3,
    "start_time": "2024-07-22T18:51:15.633Z"
   },
   {
    "duration": 30,
    "start_time": "2024-07-22T18:51:15.638Z"
   },
   {
    "duration": 32,
    "start_time": "2024-07-22T18:51:15.669Z"
   },
   {
    "duration": 5,
    "start_time": "2024-07-22T18:51:15.702Z"
   },
   {
    "duration": 6,
    "start_time": "2024-07-22T18:51:15.709Z"
   },
   {
    "duration": 12,
    "start_time": "2024-07-22T18:51:15.716Z"
   },
   {
    "duration": 4,
    "start_time": "2024-07-22T18:51:15.729Z"
   },
   {
    "duration": 14,
    "start_time": "2024-07-22T18:51:15.734Z"
   },
   {
    "duration": 10,
    "start_time": "2024-07-22T18:51:15.751Z"
   },
   {
    "duration": 18,
    "start_time": "2024-07-22T18:51:15.763Z"
   },
   {
    "duration": 16,
    "start_time": "2024-07-22T18:51:15.783Z"
   },
   {
    "duration": 5,
    "start_time": "2024-07-22T18:51:15.800Z"
   },
   {
    "duration": 4,
    "start_time": "2024-07-22T18:51:15.807Z"
   },
   {
    "duration": 3,
    "start_time": "2024-07-22T18:51:15.812Z"
   },
   {
    "duration": 3,
    "start_time": "2024-07-22T18:51:15.817Z"
   },
   {
    "duration": 4,
    "start_time": "2024-07-22T18:51:15.821Z"
   },
   {
    "duration": 4,
    "start_time": "2024-07-22T18:51:15.827Z"
   },
   {
    "duration": 8,
    "start_time": "2024-07-22T18:51:15.833Z"
   },
   {
    "duration": 20,
    "start_time": "2024-07-22T18:51:15.842Z"
   },
   {
    "duration": 4,
    "start_time": "2024-07-22T18:51:15.863Z"
   },
   {
    "duration": 9,
    "start_time": "2024-07-22T18:51:15.868Z"
   },
   {
    "duration": 4,
    "start_time": "2024-07-22T18:51:15.878Z"
   },
   {
    "duration": 13,
    "start_time": "2024-07-22T18:51:15.883Z"
   },
   {
    "duration": 14,
    "start_time": "2024-07-22T18:51:15.898Z"
   },
   {
    "duration": 8,
    "start_time": "2024-07-22T18:51:15.913Z"
   },
   {
    "duration": 10,
    "start_time": "2024-07-22T18:51:15.922Z"
   },
   {
    "duration": 13,
    "start_time": "2024-07-22T18:51:15.934Z"
   },
   {
    "duration": 23,
    "start_time": "2024-07-22T18:51:15.949Z"
   },
   {
    "duration": 4,
    "start_time": "2024-07-22T18:51:15.974Z"
   },
   {
    "duration": 5,
    "start_time": "2024-07-22T18:51:15.979Z"
   },
   {
    "duration": 30,
    "start_time": "2024-07-22T18:51:15.985Z"
   },
   {
    "duration": 5,
    "start_time": "2024-07-22T18:51:16.016Z"
   },
   {
    "duration": 13,
    "start_time": "2024-07-22T18:51:16.023Z"
   },
   {
    "duration": 85,
    "start_time": "2024-07-23T00:19:09.942Z"
   },
   {
    "duration": 448,
    "start_time": "2024-07-23T00:21:30.537Z"
   },
   {
    "duration": 56,
    "start_time": "2024-07-23T00:22:58.866Z"
   },
   {
    "duration": 4,
    "start_time": "2024-07-23T00:24:00.208Z"
   },
   {
    "duration": 40,
    "start_time": "2024-07-23T00:26:32.402Z"
   },
   {
    "duration": 5,
    "start_time": "2024-07-23T00:27:26.497Z"
   },
   {
    "duration": 494,
    "start_time": "2024-07-23T00:27:31.747Z"
   },
   {
    "duration": 19,
    "start_time": "2024-07-23T00:27:32.242Z"
   },
   {
    "duration": 11,
    "start_time": "2024-07-23T00:27:32.262Z"
   },
   {
    "duration": 7,
    "start_time": "2024-07-23T00:27:32.275Z"
   },
   {
    "duration": 31,
    "start_time": "2024-07-23T00:27:32.283Z"
   },
   {
    "duration": 3,
    "start_time": "2024-07-23T00:27:32.316Z"
   },
   {
    "duration": 10,
    "start_time": "2024-07-23T00:27:32.320Z"
   },
   {
    "duration": 4,
    "start_time": "2024-07-23T00:27:32.331Z"
   },
   {
    "duration": 7,
    "start_time": "2024-07-23T00:27:32.336Z"
   },
   {
    "duration": 3,
    "start_time": "2024-07-23T00:27:32.346Z"
   },
   {
    "duration": 50,
    "start_time": "2024-07-23T00:27:32.351Z"
   },
   {
    "duration": 9,
    "start_time": "2024-07-23T00:27:32.403Z"
   },
   {
    "duration": 3,
    "start_time": "2024-07-23T00:27:32.413Z"
   },
   {
    "duration": 24,
    "start_time": "2024-07-23T00:27:32.417Z"
   },
   {
    "duration": 18,
    "start_time": "2024-07-23T00:27:32.442Z"
   },
   {
    "duration": 15,
    "start_time": "2024-07-23T00:27:32.461Z"
   },
   {
    "duration": 3,
    "start_time": "2024-07-23T00:27:32.477Z"
   },
   {
    "duration": 21,
    "start_time": "2024-07-23T00:27:32.481Z"
   },
   {
    "duration": 5,
    "start_time": "2024-07-23T00:27:32.503Z"
   },
   {
    "duration": 19,
    "start_time": "2024-07-23T00:27:32.509Z"
   },
   {
    "duration": 9,
    "start_time": "2024-07-23T00:27:32.530Z"
   },
   {
    "duration": 16,
    "start_time": "2024-07-23T00:27:32.541Z"
   },
   {
    "duration": 7,
    "start_time": "2024-07-23T00:27:32.558Z"
   },
   {
    "duration": 5,
    "start_time": "2024-07-23T00:27:32.566Z"
   },
   {
    "duration": 14,
    "start_time": "2024-07-23T00:27:32.573Z"
   },
   {
    "duration": 11,
    "start_time": "2024-07-23T00:27:32.590Z"
   },
   {
    "duration": 7,
    "start_time": "2024-07-23T00:27:32.607Z"
   },
   {
    "duration": 15,
    "start_time": "2024-07-23T00:27:32.618Z"
   },
   {
    "duration": 17,
    "start_time": "2024-07-23T00:27:32.635Z"
   },
   {
    "duration": 11,
    "start_time": "2024-07-23T00:27:32.653Z"
   },
   {
    "duration": 21,
    "start_time": "2024-07-23T00:27:32.665Z"
   },
   {
    "duration": 25,
    "start_time": "2024-07-23T00:27:32.687Z"
   },
   {
    "duration": 5,
    "start_time": "2024-07-23T00:27:32.713Z"
   },
   {
    "duration": 5,
    "start_time": "2024-07-23T00:27:32.719Z"
   },
   {
    "duration": 6,
    "start_time": "2024-07-23T00:27:32.725Z"
   },
   {
    "duration": 5,
    "start_time": "2024-07-23T00:27:32.732Z"
   },
   {
    "duration": 17,
    "start_time": "2024-07-23T00:27:32.738Z"
   },
   {
    "duration": 13,
    "start_time": "2024-07-23T00:27:32.757Z"
   },
   {
    "duration": 3,
    "start_time": "2024-07-23T00:27:32.772Z"
   },
   {
    "duration": 6,
    "start_time": "2024-07-23T00:27:32.776Z"
   },
   {
    "duration": 9,
    "start_time": "2024-07-23T00:27:32.783Z"
   },
   {
    "duration": 16,
    "start_time": "2024-07-23T00:27:32.793Z"
   },
   {
    "duration": 4,
    "start_time": "2024-07-23T00:27:32.811Z"
   },
   {
    "duration": 9,
    "start_time": "2024-07-23T00:27:32.816Z"
   },
   {
    "duration": 8,
    "start_time": "2024-07-23T00:27:32.826Z"
   },
   {
    "duration": 13,
    "start_time": "2024-07-23T00:27:32.835Z"
   },
   {
    "duration": 3,
    "start_time": "2024-07-23T00:27:32.849Z"
   },
   {
    "duration": 4,
    "start_time": "2024-07-23T00:27:32.853Z"
   },
   {
    "duration": 24,
    "start_time": "2024-07-23T00:27:32.858Z"
   },
   {
    "duration": 4,
    "start_time": "2024-07-23T00:27:32.883Z"
   },
   {
    "duration": 7,
    "start_time": "2024-07-23T00:27:32.888Z"
   },
   {
    "duration": 10,
    "start_time": "2024-07-23T00:27:32.896Z"
   },
   {
    "duration": 7,
    "start_time": "2024-07-23T00:27:32.907Z"
   },
   {
    "duration": 7,
    "start_time": "2024-07-23T00:27:32.916Z"
   },
   {
    "duration": 7,
    "start_time": "2024-07-23T00:27:38.182Z"
   },
   {
    "duration": 17,
    "start_time": "2024-07-23T00:28:18.352Z"
   },
   {
    "duration": 3,
    "start_time": "2024-07-23T00:29:04.617Z"
   },
   {
    "duration": 7,
    "start_time": "2024-07-23T00:29:05.470Z"
   },
   {
    "duration": 16,
    "start_time": "2024-07-23T00:29:06.592Z"
   },
   {
    "duration": 3,
    "start_time": "2024-07-23T00:30:50.056Z"
   },
   {
    "duration": 6,
    "start_time": "2024-07-23T00:30:50.651Z"
   },
   {
    "duration": 18,
    "start_time": "2024-07-23T00:30:51.460Z"
   },
   {
    "duration": 25,
    "start_time": "2024-07-23T00:36:15.232Z"
   },
   {
    "duration": 9,
    "start_time": "2024-07-23T00:36:26.231Z"
   },
   {
    "duration": 23,
    "start_time": "2024-07-23T00:37:49.262Z"
   },
   {
    "duration": 9,
    "start_time": "2024-07-23T00:37:50.300Z"
   },
   {
    "duration": 507,
    "start_time": "2024-07-24T07:41:07.320Z"
   },
   {
    "duration": 23,
    "start_time": "2024-07-24T07:41:07.829Z"
   },
   {
    "duration": 18,
    "start_time": "2024-07-24T07:41:07.853Z"
   },
   {
    "duration": 11,
    "start_time": "2024-07-24T07:41:07.873Z"
   },
   {
    "duration": 58,
    "start_time": "2024-07-24T07:41:07.886Z"
   },
   {
    "duration": 3,
    "start_time": "2024-07-24T07:41:07.945Z"
   },
   {
    "duration": 13,
    "start_time": "2024-07-24T07:41:07.950Z"
   },
   {
    "duration": 4,
    "start_time": "2024-07-24T07:41:07.964Z"
   },
   {
    "duration": 11,
    "start_time": "2024-07-24T07:41:07.970Z"
   },
   {
    "duration": 4,
    "start_time": "2024-07-24T07:41:07.985Z"
   },
   {
    "duration": 37,
    "start_time": "2024-07-24T07:41:08.007Z"
   },
   {
    "duration": 11,
    "start_time": "2024-07-24T07:41:08.046Z"
   },
   {
    "duration": 7,
    "start_time": "2024-07-24T07:41:08.058Z"
   },
   {
    "duration": 12,
    "start_time": "2024-07-24T07:41:08.067Z"
   },
   {
    "duration": 43,
    "start_time": "2024-07-24T07:41:08.080Z"
   },
   {
    "duration": 17,
    "start_time": "2024-07-24T07:41:08.125Z"
   },
   {
    "duration": 4,
    "start_time": "2024-07-24T07:41:08.143Z"
   },
   {
    "duration": 16,
    "start_time": "2024-07-24T07:41:08.148Z"
   },
   {
    "duration": 5,
    "start_time": "2024-07-24T07:41:08.166Z"
   },
   {
    "duration": 4,
    "start_time": "2024-07-24T07:41:08.173Z"
   },
   {
    "duration": 9,
    "start_time": "2024-07-24T07:41:08.207Z"
   },
   {
    "duration": 20,
    "start_time": "2024-07-24T07:41:08.217Z"
   },
   {
    "duration": 6,
    "start_time": "2024-07-24T07:41:08.239Z"
   },
   {
    "duration": 5,
    "start_time": "2024-07-24T07:41:08.247Z"
   },
   {
    "duration": 8,
    "start_time": "2024-07-24T07:41:08.254Z"
   },
   {
    "duration": 4,
    "start_time": "2024-07-24T07:41:08.264Z"
   },
   {
    "duration": 38,
    "start_time": "2024-07-24T07:41:08.270Z"
   },
   {
    "duration": 17,
    "start_time": "2024-07-24T07:41:08.312Z"
   },
   {
    "duration": 9,
    "start_time": "2024-07-24T07:41:08.331Z"
   },
   {
    "duration": 18,
    "start_time": "2024-07-24T07:41:08.342Z"
   },
   {
    "duration": 7,
    "start_time": "2024-07-24T07:41:08.362Z"
   },
   {
    "duration": 4,
    "start_time": "2024-07-24T07:41:08.371Z"
   },
   {
    "duration": 4,
    "start_time": "2024-07-24T07:41:08.376Z"
   },
   {
    "duration": 26,
    "start_time": "2024-07-24T07:41:08.381Z"
   },
   {
    "duration": 4,
    "start_time": "2024-07-24T07:41:08.409Z"
   },
   {
    "duration": 4,
    "start_time": "2024-07-24T07:41:08.414Z"
   },
   {
    "duration": 9,
    "start_time": "2024-07-24T07:41:08.419Z"
   },
   {
    "duration": 18,
    "start_time": "2024-07-24T07:41:08.430Z"
   },
   {
    "duration": 9,
    "start_time": "2024-07-24T07:41:08.449Z"
   },
   {
    "duration": 4,
    "start_time": "2024-07-24T07:41:08.460Z"
   },
   {
    "duration": 11,
    "start_time": "2024-07-24T07:41:08.465Z"
   },
   {
    "duration": 17,
    "start_time": "2024-07-24T07:41:08.478Z"
   },
   {
    "duration": 15,
    "start_time": "2024-07-24T07:41:08.497Z"
   },
   {
    "duration": 10,
    "start_time": "2024-07-24T07:41:08.513Z"
   },
   {
    "duration": 28,
    "start_time": "2024-07-24T07:41:08.525Z"
   },
   {
    "duration": 35,
    "start_time": "2024-07-24T07:41:08.554Z"
   },
   {
    "duration": 14,
    "start_time": "2024-07-24T07:41:08.591Z"
   },
   {
    "duration": 13,
    "start_time": "2024-07-24T07:41:08.606Z"
   },
   {
    "duration": 21,
    "start_time": "2024-07-24T07:41:08.620Z"
   },
   {
    "duration": 28,
    "start_time": "2024-07-24T07:41:08.643Z"
   },
   {
    "duration": 28,
    "start_time": "2024-07-24T07:41:08.673Z"
   },
   {
    "duration": 33,
    "start_time": "2024-07-24T07:41:08.702Z"
   }
  ],
  "colab": {
   "provenance": []
  },
  "kernelspec": {
   "display_name": "base",
   "language": "python",
   "name": "python3"
  },
  "language_info": {
   "codemirror_mode": {
    "name": "ipython",
    "version": 3
   },
   "file_extension": ".py",
   "mimetype": "text/x-python",
   "name": "python",
   "nbconvert_exporter": "python",
   "pygments_lexer": "ipython3",
   "version": "3.12.3"
  },
  "toc": {
   "base_numbering": 1,
   "nav_menu": {},
   "number_sections": true,
   "sideBar": true,
   "skip_h1_title": true,
   "title_cell": "Table of Contents",
   "title_sidebar": "Contents",
   "toc_cell": false,
   "toc_position": {},
   "toc_section_display": true,
   "toc_window_display": false
  }
 },
 "nbformat": 4,
 "nbformat_minor": 5
}
