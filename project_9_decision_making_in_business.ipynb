{
 "cells": [
  {
   "cell_type": "markdown",
   "id": "947b8be7",
   "metadata": {},
   "source": [
    "## Проект по курсу \"Принятие решений в бизнесе\""
   ]
  },
  {
   "cell_type": "markdown",
   "id": "13e1f4af",
   "metadata": {},
   "source": [
    "## Описание проекта\n",
    "\n",
    "Мы представляем аналитика крупного интернет-магазина. Вместе с отделом маркетинга нам подготовили список гипотез для увеличения выручки.  \n",
    "Наша задача:  \n",
    "- Приоритизировать гипотезы,  \n",
    "- Запустить A/B-тест,  \n",
    "- Проанализировать результаты.  \n",
    "\n",
    "Для выполнения задач мы располагаем следующими датасетами:\n",
    "\n",
    " 1. Файл `/datasets/hypothesis.csv`\n",
    "- **Hypothesis** — краткое описание гипотезы;  \n",
    "- **Reach** — охват пользователей по 10-балльной шкале;  \n",
    "- **Impact** — влияние на пользователей по 10-балльной шкале;  \n",
    "- **Confidence** — уверенность в гипотезе по 10-балльной шкале;  \n",
    "- **Efforts** — затраты ресурсов на проверку гипотезы по 10-балльной шкале (чем больше значение, тем дороже проверка гипотезы).  \n",
    "\n",
    " 2. Файл `/datasets/orders.csv`\n",
    "- **transactionId** — идентификатор заказа;  \n",
    "- **visitorId** — идентификатор пользователя, совершившего заказ;  \n",
    "- **date** — дата, когда был совершён заказ;  \n",
    "- **revenue** — выручка заказа;  \n",
    "- **group** — группа A/B-теста, в которую попал заказ.  \n",
    "\n",
    " 3. Файл `/datasets/visitors.csv`\n",
    "- **date** — дата;  \n",
    "- **group** — группа A/B-теста;  \n",
    "- **visitors** — количество пользователей в указанную дату в указанной группе A/B-теста.  \n"
   ]
  },
  {
   "cell_type": "markdown",
   "id": "ea68f1d6",
   "metadata": {},
   "source": [
    "## Цель анализа:\n",
    "  - Проанализировать результаты A/B-теста и принять решение по гипотезам, учитывая различия в конверсии и среднем чеке между группами.\n",
    "  - Определить, есть ли статистически значимые различия между группами, и предложить рекомендации на основе анализа."
   ]
  },
  {
   "cell_type": "markdown",
   "id": "fa11ac9a",
   "metadata": {},
   "source": [
    "## План работы\n",
    "\n",
    "1. Открытие файла и изучение содержимого\n",
    "\n",
    "\n",
    "2. Приоритизация гипотез\n",
    "- Применение фреймворка **ICE** для приоритизации гипотез и сортировка их по убыванию приоритета.\n",
    "- Применение фреймворка **RICE** для приоритизации гипотез и сортировка их по убыванию приоритета.\n",
    "- Вывод и сравнение приоритетов по ICE и RICE.\n",
    "\n",
    "3. Анализ A/B-теста\n",
    "\n",
    " 3.1. Кумулятивные метрики\n",
    "- Построение графика кумулятивной выручки по группам с выводами и предположениями.\n",
    "- Построение графика кумулятивного среднего чека по группам с выводами и предположениями.\n",
    "- Построение графика относительного изменения кумулятивного среднего чека группы B к группе A с выводами и предположениями.\n",
    "- Построение графика кумулятивного среднего количества заказов на посетителя по группам с выводами и предположениями.\n",
    "- Построение графика относительного изменения кумулятивного среднего количества заказов на посетителя группы B к группе A с выводами и предположениями.\n",
    "\n",
    " 3.2. Анализ аномалий\n",
    "- Построение точечного графика количества заказов по пользователям с выводами и предположениями.\n",
    "- Рассчёт 95-го и 99-го перцентилей количества заказов на пользователя с выбором границы для определения аномальных пользователей.\n",
    "- Построение точечного графика стоимостей заказов с выводами и предположениями.\n",
    "- Рассчёт 95-го и 99-го перцентилей стоимости заказов с выбором границы для определения аномальных заказов.\n",
    "\n",
    " 3.3. Статистический анализ\n",
    "- Рассчёт статистической значимости различий в среднем количестве заказов на посетителя между группами по «сырым» данным с выводами и предположениями.\n",
    "- Рассчёт статистической значимости различий в среднем чеке заказа между группами по «сырым» данным с выводами и предположениями.\n",
    "- Рассчёт статистической значимости различий в среднем количестве заказов на посетителя между группами по «очищенным» данным с выводами и предположениями.\n",
    "- Рассчёт статистической значимости различий в среднем чеке заказа между группами по «очищенным» данным с выводами и предположениями.\n",
    "\n",
    " 4. Принятие решения по результатам теста"
   ]
  },
  {
   "cell_type": "markdown",
   "id": "452c315c",
   "metadata": {},
   "source": [
    "#### Открытие файла и изучение содержимого."
   ]
  },
  {
   "cell_type": "code",
   "execution_count": 1,
   "id": "608394bf",
   "metadata": {},
   "outputs": [],
   "source": [
    "import pandas as pd\n",
    "import datetime as dt\n",
    "import numpy as np\n",
    "import matplotlib.pyplot as plt\n",
    "from pandas.plotting import register_matplotlib_converters\n",
    "import warnings\n",
    "from scipy import stats\n",
    "register_matplotlib_converters()\n",
    "pd.set_option('display.max_colwidth', None)"
   ]
  },
  {
   "cell_type": "code",
   "execution_count": 2,
   "id": "355a9d52",
   "metadata": {},
   "outputs": [],
   "source": [
    "data = pd.read_csv('/datasets/hypothesis.csv')"
   ]
  },
  {
   "cell_type": "code",
   "execution_count": 3,
   "id": "d0761cd9",
   "metadata": {
    "scrolled": false
   },
   "outputs": [
    {
     "data": {
      "text/html": [
       "<div>\n",
       "<style scoped>\n",
       "    .dataframe tbody tr th:only-of-type {\n",
       "        vertical-align: middle;\n",
       "    }\n",
       "\n",
       "    .dataframe tbody tr th {\n",
       "        vertical-align: top;\n",
       "    }\n",
       "\n",
       "    .dataframe thead th {\n",
       "        text-align: right;\n",
       "    }\n",
       "</style>\n",
       "<table border=\"1\" class=\"dataframe\">\n",
       "  <thead>\n",
       "    <tr style=\"text-align: right;\">\n",
       "      <th></th>\n",
       "      <th>Hypothesis</th>\n",
       "      <th>Reach</th>\n",
       "      <th>Impact</th>\n",
       "      <th>Confidence</th>\n",
       "      <th>Efforts</th>\n",
       "    </tr>\n",
       "  </thead>\n",
       "  <tbody>\n",
       "    <tr>\n",
       "      <th>0</th>\n",
       "      <td>Добавить два новых канала привлечения трафика, что позволит привлекать на 30% больше пользователей</td>\n",
       "      <td>3</td>\n",
       "      <td>10</td>\n",
       "      <td>8</td>\n",
       "      <td>6</td>\n",
       "    </tr>\n",
       "    <tr>\n",
       "      <th>1</th>\n",
       "      <td>Запустить собственную службу доставки, что сократит срок доставки заказов</td>\n",
       "      <td>2</td>\n",
       "      <td>5</td>\n",
       "      <td>4</td>\n",
       "      <td>10</td>\n",
       "    </tr>\n",
       "    <tr>\n",
       "      <th>2</th>\n",
       "      <td>Добавить блоки рекомендаций товаров на сайт интернет магазина, чтобы повысить конверсию и средний чек заказа</td>\n",
       "      <td>8</td>\n",
       "      <td>3</td>\n",
       "      <td>7</td>\n",
       "      <td>3</td>\n",
       "    </tr>\n",
       "    <tr>\n",
       "      <th>3</th>\n",
       "      <td>Изменить структура категорий, что увеличит конверсию, т.к. пользователи быстрее найдут нужный товар</td>\n",
       "      <td>8</td>\n",
       "      <td>3</td>\n",
       "      <td>3</td>\n",
       "      <td>8</td>\n",
       "    </tr>\n",
       "    <tr>\n",
       "      <th>4</th>\n",
       "      <td>Изменить цвет фона главной страницы, чтобы увеличить вовлеченность пользователей</td>\n",
       "      <td>3</td>\n",
       "      <td>1</td>\n",
       "      <td>1</td>\n",
       "      <td>1</td>\n",
       "    </tr>\n",
       "    <tr>\n",
       "      <th>5</th>\n",
       "      <td>Добавить страницу отзывов клиентов о магазине, что позволит увеличить количество заказов</td>\n",
       "      <td>3</td>\n",
       "      <td>2</td>\n",
       "      <td>2</td>\n",
       "      <td>3</td>\n",
       "    </tr>\n",
       "    <tr>\n",
       "      <th>6</th>\n",
       "      <td>Показать на главной странице баннеры с актуальными акциями и распродажами, чтобы увеличить конверсию</td>\n",
       "      <td>5</td>\n",
       "      <td>3</td>\n",
       "      <td>8</td>\n",
       "      <td>3</td>\n",
       "    </tr>\n",
       "    <tr>\n",
       "      <th>7</th>\n",
       "      <td>Добавить форму подписки на все основные страницы, чтобы собрать базу клиентов для email-рассылок</td>\n",
       "      <td>10</td>\n",
       "      <td>7</td>\n",
       "      <td>8</td>\n",
       "      <td>5</td>\n",
       "    </tr>\n",
       "    <tr>\n",
       "      <th>8</th>\n",
       "      <td>Запустить акцию, дающую скидку на товар в день рождения</td>\n",
       "      <td>1</td>\n",
       "      <td>9</td>\n",
       "      <td>9</td>\n",
       "      <td>5</td>\n",
       "    </tr>\n",
       "  </tbody>\n",
       "</table>\n",
       "</div>"
      ],
      "text/plain": [
       "                                                                                                     Hypothesis  \\\n",
       "0            Добавить два новых канала привлечения трафика, что позволит привлекать на 30% больше пользователей   \n",
       "1                                     Запустить собственную службу доставки, что сократит срок доставки заказов   \n",
       "2  Добавить блоки рекомендаций товаров на сайт интернет магазина, чтобы повысить конверсию и средний чек заказа   \n",
       "3           Изменить структура категорий, что увеличит конверсию, т.к. пользователи быстрее найдут нужный товар   \n",
       "4                              Изменить цвет фона главной страницы, чтобы увеличить вовлеченность пользователей   \n",
       "5                      Добавить страницу отзывов клиентов о магазине, что позволит увеличить количество заказов   \n",
       "6          Показать на главной странице баннеры с актуальными акциями и распродажами, чтобы увеличить конверсию   \n",
       "7              Добавить форму подписки на все основные страницы, чтобы собрать базу клиентов для email-рассылок   \n",
       "8                                                       Запустить акцию, дающую скидку на товар в день рождения   \n",
       "\n",
       "   Reach  Impact  Confidence  Efforts  \n",
       "0      3      10           8        6  \n",
       "1      2       5           4       10  \n",
       "2      8       3           7        3  \n",
       "3      8       3           3        8  \n",
       "4      3       1           1        1  \n",
       "5      3       2           2        3  \n",
       "6      5       3           8        3  \n",
       "7     10       7           8        5  \n",
       "8      1       9           9        5  "
      ]
     },
     "execution_count": 3,
     "metadata": {},
     "output_type": "execute_result"
    }
   ],
   "source": [
    "data"
   ]
  },
  {
   "cell_type": "code",
   "execution_count": 4,
   "id": "8397793b",
   "metadata": {},
   "outputs": [],
   "source": [
    "data.columns = data.columns.str.lower()"
   ]
  },
  {
   "cell_type": "markdown",
   "id": "7d3880c1",
   "metadata": {},
   "source": [
    "#### Приоритизация гипотез"
   ]
  },
  {
   "cell_type": "markdown",
   "id": "a6e08be5",
   "metadata": {},
   "source": [
    "**Вычисляю метрику ICE для каждой гипотезы по формуле:\n",
    "ICE = (Impact * Confidence) / Efforts.**"
   ]
  },
  {
   "cell_type": "code",
   "execution_count": 5,
   "id": "35df1ef4",
   "metadata": {
    "scrolled": true
   },
   "outputs": [
    {
     "data": {
      "text/html": [
       "<div>\n",
       "<style scoped>\n",
       "    .dataframe tbody tr th:only-of-type {\n",
       "        vertical-align: middle;\n",
       "    }\n",
       "\n",
       "    .dataframe tbody tr th {\n",
       "        vertical-align: top;\n",
       "    }\n",
       "\n",
       "    .dataframe thead th {\n",
       "        text-align: right;\n",
       "    }\n",
       "</style>\n",
       "<table border=\"1\" class=\"dataframe\">\n",
       "  <thead>\n",
       "    <tr style=\"text-align: right;\">\n",
       "      <th></th>\n",
       "      <th>hypothesis</th>\n",
       "      <th>reach</th>\n",
       "      <th>impact</th>\n",
       "      <th>confidence</th>\n",
       "      <th>efforts</th>\n",
       "      <th>ice_score</th>\n",
       "    </tr>\n",
       "  </thead>\n",
       "  <tbody>\n",
       "    <tr>\n",
       "      <th>8</th>\n",
       "      <td>Запустить акцию, дающую скидку на товар в день рождения</td>\n",
       "      <td>1</td>\n",
       "      <td>9</td>\n",
       "      <td>9</td>\n",
       "      <td>5</td>\n",
       "      <td>16.200000</td>\n",
       "    </tr>\n",
       "    <tr>\n",
       "      <th>0</th>\n",
       "      <td>Добавить два новых канала привлечения трафика, что позволит привлекать на 30% больше пользователей</td>\n",
       "      <td>3</td>\n",
       "      <td>10</td>\n",
       "      <td>8</td>\n",
       "      <td>6</td>\n",
       "      <td>13.333333</td>\n",
       "    </tr>\n",
       "    <tr>\n",
       "      <th>7</th>\n",
       "      <td>Добавить форму подписки на все основные страницы, чтобы собрать базу клиентов для email-рассылок</td>\n",
       "      <td>10</td>\n",
       "      <td>7</td>\n",
       "      <td>8</td>\n",
       "      <td>5</td>\n",
       "      <td>11.200000</td>\n",
       "    </tr>\n",
       "    <tr>\n",
       "      <th>6</th>\n",
       "      <td>Показать на главной странице баннеры с актуальными акциями и распродажами, чтобы увеличить конверсию</td>\n",
       "      <td>5</td>\n",
       "      <td>3</td>\n",
       "      <td>8</td>\n",
       "      <td>3</td>\n",
       "      <td>8.000000</td>\n",
       "    </tr>\n",
       "    <tr>\n",
       "      <th>2</th>\n",
       "      <td>Добавить блоки рекомендаций товаров на сайт интернет магазина, чтобы повысить конверсию и средний чек заказа</td>\n",
       "      <td>8</td>\n",
       "      <td>3</td>\n",
       "      <td>7</td>\n",
       "      <td>3</td>\n",
       "      <td>7.000000</td>\n",
       "    </tr>\n",
       "    <tr>\n",
       "      <th>1</th>\n",
       "      <td>Запустить собственную службу доставки, что сократит срок доставки заказов</td>\n",
       "      <td>2</td>\n",
       "      <td>5</td>\n",
       "      <td>4</td>\n",
       "      <td>10</td>\n",
       "      <td>2.000000</td>\n",
       "    </tr>\n",
       "    <tr>\n",
       "      <th>5</th>\n",
       "      <td>Добавить страницу отзывов клиентов о магазине, что позволит увеличить количество заказов</td>\n",
       "      <td>3</td>\n",
       "      <td>2</td>\n",
       "      <td>2</td>\n",
       "      <td>3</td>\n",
       "      <td>1.333333</td>\n",
       "    </tr>\n",
       "    <tr>\n",
       "      <th>3</th>\n",
       "      <td>Изменить структура категорий, что увеличит конверсию, т.к. пользователи быстрее найдут нужный товар</td>\n",
       "      <td>8</td>\n",
       "      <td>3</td>\n",
       "      <td>3</td>\n",
       "      <td>8</td>\n",
       "      <td>1.125000</td>\n",
       "    </tr>\n",
       "    <tr>\n",
       "      <th>4</th>\n",
       "      <td>Изменить цвет фона главной страницы, чтобы увеличить вовлеченность пользователей</td>\n",
       "      <td>3</td>\n",
       "      <td>1</td>\n",
       "      <td>1</td>\n",
       "      <td>1</td>\n",
       "      <td>1.000000</td>\n",
       "    </tr>\n",
       "  </tbody>\n",
       "</table>\n",
       "</div>"
      ],
      "text/plain": [
       "                                                                                                     hypothesis  \\\n",
       "8                                                       Запустить акцию, дающую скидку на товар в день рождения   \n",
       "0            Добавить два новых канала привлечения трафика, что позволит привлекать на 30% больше пользователей   \n",
       "7              Добавить форму подписки на все основные страницы, чтобы собрать базу клиентов для email-рассылок   \n",
       "6          Показать на главной странице баннеры с актуальными акциями и распродажами, чтобы увеличить конверсию   \n",
       "2  Добавить блоки рекомендаций товаров на сайт интернет магазина, чтобы повысить конверсию и средний чек заказа   \n",
       "1                                     Запустить собственную службу доставки, что сократит срок доставки заказов   \n",
       "5                      Добавить страницу отзывов клиентов о магазине, что позволит увеличить количество заказов   \n",
       "3           Изменить структура категорий, что увеличит конверсию, т.к. пользователи быстрее найдут нужный товар   \n",
       "4                              Изменить цвет фона главной страницы, чтобы увеличить вовлеченность пользователей   \n",
       "\n",
       "   reach  impact  confidence  efforts  ice_score  \n",
       "8      1       9           9        5  16.200000  \n",
       "0      3      10           8        6  13.333333  \n",
       "7     10       7           8        5  11.200000  \n",
       "6      5       3           8        3   8.000000  \n",
       "2      8       3           7        3   7.000000  \n",
       "1      2       5           4       10   2.000000  \n",
       "5      3       2           2        3   1.333333  \n",
       "3      8       3           3        8   1.125000  \n",
       "4      3       1           1        1   1.000000  "
      ]
     },
     "execution_count": 5,
     "metadata": {},
     "output_type": "execute_result"
    }
   ],
   "source": [
    "data['ice_score'] = (data['impact']*data['confidence'])/data['efforts']\n",
    "data.sort_values(by='ice_score', ascending=False)"
   ]
  },
  {
   "cell_type": "markdown",
   "id": "3b70f8ec",
   "metadata": {},
   "source": [
    "**Вычисляю метрику RICE для каждой гипотезы:\n",
    "RICE = (Reach * Impact * Confidence) / Efforts.**"
   ]
  },
  {
   "cell_type": "code",
   "execution_count": 6,
   "id": "77a1c89f",
   "metadata": {
    "scrolled": true
   },
   "outputs": [
    {
     "data": {
      "text/html": [
       "<div>\n",
       "<style scoped>\n",
       "    .dataframe tbody tr th:only-of-type {\n",
       "        vertical-align: middle;\n",
       "    }\n",
       "\n",
       "    .dataframe tbody tr th {\n",
       "        vertical-align: top;\n",
       "    }\n",
       "\n",
       "    .dataframe thead th {\n",
       "        text-align: right;\n",
       "    }\n",
       "</style>\n",
       "<table border=\"1\" class=\"dataframe\">\n",
       "  <thead>\n",
       "    <tr style=\"text-align: right;\">\n",
       "      <th></th>\n",
       "      <th>hypothesis</th>\n",
       "      <th>reach</th>\n",
       "      <th>impact</th>\n",
       "      <th>confidence</th>\n",
       "      <th>efforts</th>\n",
       "      <th>ice_score</th>\n",
       "      <th>rice_score</th>\n",
       "    </tr>\n",
       "  </thead>\n",
       "  <tbody>\n",
       "    <tr>\n",
       "      <th>7</th>\n",
       "      <td>Добавить форму подписки на все основные страницы, чтобы собрать базу клиентов для email-рассылок</td>\n",
       "      <td>10</td>\n",
       "      <td>7</td>\n",
       "      <td>8</td>\n",
       "      <td>5</td>\n",
       "      <td>11.200000</td>\n",
       "      <td>112.0</td>\n",
       "    </tr>\n",
       "    <tr>\n",
       "      <th>2</th>\n",
       "      <td>Добавить блоки рекомендаций товаров на сайт интернет магазина, чтобы повысить конверсию и средний чек заказа</td>\n",
       "      <td>8</td>\n",
       "      <td>3</td>\n",
       "      <td>7</td>\n",
       "      <td>3</td>\n",
       "      <td>7.000000</td>\n",
       "      <td>56.0</td>\n",
       "    </tr>\n",
       "    <tr>\n",
       "      <th>0</th>\n",
       "      <td>Добавить два новых канала привлечения трафика, что позволит привлекать на 30% больше пользователей</td>\n",
       "      <td>3</td>\n",
       "      <td>10</td>\n",
       "      <td>8</td>\n",
       "      <td>6</td>\n",
       "      <td>13.333333</td>\n",
       "      <td>40.0</td>\n",
       "    </tr>\n",
       "    <tr>\n",
       "      <th>6</th>\n",
       "      <td>Показать на главной странице баннеры с актуальными акциями и распродажами, чтобы увеличить конверсию</td>\n",
       "      <td>5</td>\n",
       "      <td>3</td>\n",
       "      <td>8</td>\n",
       "      <td>3</td>\n",
       "      <td>8.000000</td>\n",
       "      <td>40.0</td>\n",
       "    </tr>\n",
       "    <tr>\n",
       "      <th>8</th>\n",
       "      <td>Запустить акцию, дающую скидку на товар в день рождения</td>\n",
       "      <td>1</td>\n",
       "      <td>9</td>\n",
       "      <td>9</td>\n",
       "      <td>5</td>\n",
       "      <td>16.200000</td>\n",
       "      <td>16.2</td>\n",
       "    </tr>\n",
       "    <tr>\n",
       "      <th>3</th>\n",
       "      <td>Изменить структура категорий, что увеличит конверсию, т.к. пользователи быстрее найдут нужный товар</td>\n",
       "      <td>8</td>\n",
       "      <td>3</td>\n",
       "      <td>3</td>\n",
       "      <td>8</td>\n",
       "      <td>1.125000</td>\n",
       "      <td>9.0</td>\n",
       "    </tr>\n",
       "    <tr>\n",
       "      <th>1</th>\n",
       "      <td>Запустить собственную службу доставки, что сократит срок доставки заказов</td>\n",
       "      <td>2</td>\n",
       "      <td>5</td>\n",
       "      <td>4</td>\n",
       "      <td>10</td>\n",
       "      <td>2.000000</td>\n",
       "      <td>4.0</td>\n",
       "    </tr>\n",
       "    <tr>\n",
       "      <th>5</th>\n",
       "      <td>Добавить страницу отзывов клиентов о магазине, что позволит увеличить количество заказов</td>\n",
       "      <td>3</td>\n",
       "      <td>2</td>\n",
       "      <td>2</td>\n",
       "      <td>3</td>\n",
       "      <td>1.333333</td>\n",
       "      <td>4.0</td>\n",
       "    </tr>\n",
       "    <tr>\n",
       "      <th>4</th>\n",
       "      <td>Изменить цвет фона главной страницы, чтобы увеличить вовлеченность пользователей</td>\n",
       "      <td>3</td>\n",
       "      <td>1</td>\n",
       "      <td>1</td>\n",
       "      <td>1</td>\n",
       "      <td>1.000000</td>\n",
       "      <td>3.0</td>\n",
       "    </tr>\n",
       "  </tbody>\n",
       "</table>\n",
       "</div>"
      ],
      "text/plain": [
       "                                                                                                     hypothesis  \\\n",
       "7              Добавить форму подписки на все основные страницы, чтобы собрать базу клиентов для email-рассылок   \n",
       "2  Добавить блоки рекомендаций товаров на сайт интернет магазина, чтобы повысить конверсию и средний чек заказа   \n",
       "0            Добавить два новых канала привлечения трафика, что позволит привлекать на 30% больше пользователей   \n",
       "6          Показать на главной странице баннеры с актуальными акциями и распродажами, чтобы увеличить конверсию   \n",
       "8                                                       Запустить акцию, дающую скидку на товар в день рождения   \n",
       "3           Изменить структура категорий, что увеличит конверсию, т.к. пользователи быстрее найдут нужный товар   \n",
       "1                                     Запустить собственную службу доставки, что сократит срок доставки заказов   \n",
       "5                      Добавить страницу отзывов клиентов о магазине, что позволит увеличить количество заказов   \n",
       "4                              Изменить цвет фона главной страницы, чтобы увеличить вовлеченность пользователей   \n",
       "\n",
       "   reach  impact  confidence  efforts  ice_score  rice_score  \n",
       "7     10       7           8        5  11.200000       112.0  \n",
       "2      8       3           7        3   7.000000        56.0  \n",
       "0      3      10           8        6  13.333333        40.0  \n",
       "6      5       3           8        3   8.000000        40.0  \n",
       "8      1       9           9        5  16.200000        16.2  \n",
       "3      8       3           3        8   1.125000         9.0  \n",
       "1      2       5           4       10   2.000000         4.0  \n",
       "5      3       2           2        3   1.333333         4.0  \n",
       "4      3       1           1        1   1.000000         3.0  "
      ]
     },
     "execution_count": 6,
     "metadata": {},
     "output_type": "execute_result"
    }
   ],
   "source": [
    "data['rice_score'] = (data['reach']*data['impact']*data['confidence'])/data['efforts']\n",
    "data.sort_values(by='rice_score', ascending=False)"
   ]
  },
  {
   "cell_type": "markdown",
   "id": "f095f26a",
   "metadata": {},
   "source": [
    "**Вывод и сравнение приоритетов по ICE и RICE:**\n",
    "\n",
    "При использовании ICE на первое место вышла гипотеза №8 (скидка на день рождения), затем №0, а гипотеза №7 (форма подписки) была на третьем месте.\n",
    "\n",
    "При использовании RICE расстановка приоритетов изменилась. На первое место по RICE поднялась гипотеза №7, которая имеет высокий показатель Reach. Второе место заняла гипотеза №2, которая тоже обладает достаточно широким охватом и хорошими показателями Impact и Confidence.\n",
    "\n",
    "**Почему произошли изменения?**\n",
    "\n",
    "Главное отличие RICE от ICE в том, что в формулу RICE добавляется показатель Reach (охват). Это означает, что гипотезы, которые могут затронуть большее количество пользователей (имеют высокий Reach), получают более высокий приоритет.\n",
    "В случае ICE мы учитываем только влияние (Impact) и уверенность (Confidence) по отношению к затратам (Efforts). В RICE же добавляется ещё один важный фактор: «Сколько людей охватит улучшение?».\n",
    "Поэтому гипотезы с высоким Reach в RICE поднимаются выше в рейтинге, даже если по ICE они были не лидерами.\n",
    "Таким образом, приоритизация изменилась вследствие добавления фактора Reach, что показало, что гипотезы с потенциально большим охватом аудитории стоит рассматривать в первую очередь."
   ]
  },
  {
   "cell_type": "markdown",
   "id": "8851c4d1",
   "metadata": {},
   "source": [
    "#### Анализ A/B-теста"
   ]
  },
  {
   "cell_type": "code",
   "execution_count": 7,
   "id": "014308dc",
   "metadata": {},
   "outputs": [],
   "source": [
    "orders = pd.read_csv('/datasets/orders.csv')\n",
    "visitors = pd.read_csv('/datasets/visitors.csv')"
   ]
  },
  {
   "cell_type": "markdown",
   "id": "e42aab79",
   "metadata": {},
   "source": [
    "Проверяю датафрейм `orders`."
   ]
  },
  {
   "cell_type": "code",
   "execution_count": 8,
   "id": "d824fec5",
   "metadata": {},
   "outputs": [
    {
     "data": {
      "text/html": [
       "<div>\n",
       "<style scoped>\n",
       "    .dataframe tbody tr th:only-of-type {\n",
       "        vertical-align: middle;\n",
       "    }\n",
       "\n",
       "    .dataframe tbody tr th {\n",
       "        vertical-align: top;\n",
       "    }\n",
       "\n",
       "    .dataframe thead th {\n",
       "        text-align: right;\n",
       "    }\n",
       "</style>\n",
       "<table border=\"1\" class=\"dataframe\">\n",
       "  <thead>\n",
       "    <tr style=\"text-align: right;\">\n",
       "      <th></th>\n",
       "      <th>transactionId</th>\n",
       "      <th>visitorId</th>\n",
       "      <th>date</th>\n",
       "      <th>revenue</th>\n",
       "      <th>group</th>\n",
       "    </tr>\n",
       "  </thead>\n",
       "  <tbody>\n",
       "    <tr>\n",
       "      <th>0</th>\n",
       "      <td>3667963787</td>\n",
       "      <td>3312258926</td>\n",
       "      <td>2019-08-15</td>\n",
       "      <td>1650</td>\n",
       "      <td>B</td>\n",
       "    </tr>\n",
       "    <tr>\n",
       "      <th>1</th>\n",
       "      <td>2804400009</td>\n",
       "      <td>3642806036</td>\n",
       "      <td>2019-08-15</td>\n",
       "      <td>730</td>\n",
       "      <td>B</td>\n",
       "    </tr>\n",
       "    <tr>\n",
       "      <th>2</th>\n",
       "      <td>2961555356</td>\n",
       "      <td>4069496402</td>\n",
       "      <td>2019-08-15</td>\n",
       "      <td>400</td>\n",
       "      <td>A</td>\n",
       "    </tr>\n",
       "    <tr>\n",
       "      <th>3</th>\n",
       "      <td>3797467345</td>\n",
       "      <td>1196621759</td>\n",
       "      <td>2019-08-15</td>\n",
       "      <td>9759</td>\n",
       "      <td>B</td>\n",
       "    </tr>\n",
       "    <tr>\n",
       "      <th>4</th>\n",
       "      <td>2282983706</td>\n",
       "      <td>2322279887</td>\n",
       "      <td>2019-08-15</td>\n",
       "      <td>2308</td>\n",
       "      <td>B</td>\n",
       "    </tr>\n",
       "  </tbody>\n",
       "</table>\n",
       "</div>"
      ],
      "text/plain": [
       "   transactionId   visitorId        date  revenue group\n",
       "0     3667963787  3312258926  2019-08-15     1650     B\n",
       "1     2804400009  3642806036  2019-08-15      730     B\n",
       "2     2961555356  4069496402  2019-08-15      400     A\n",
       "3     3797467345  1196621759  2019-08-15     9759     B\n",
       "4     2282983706  2322279887  2019-08-15     2308     B"
      ]
     },
     "execution_count": 8,
     "metadata": {},
     "output_type": "execute_result"
    }
   ],
   "source": [
    "orders.head()"
   ]
  },
  {
   "cell_type": "code",
   "execution_count": 9,
   "id": "a0d1a6ac",
   "metadata": {
    "scrolled": true
   },
   "outputs": [
    {
     "name": "stdout",
     "output_type": "stream",
     "text": [
      "<class 'pandas.core.frame.DataFrame'>\n",
      "RangeIndex: 1197 entries, 0 to 1196\n",
      "Data columns (total 5 columns):\n",
      " #   Column         Non-Null Count  Dtype \n",
      "---  ------         --------------  ----- \n",
      " 0   transactionId  1197 non-null   int64 \n",
      " 1   visitorId      1197 non-null   int64 \n",
      " 2   date           1197 non-null   object\n",
      " 3   revenue        1197 non-null   int64 \n",
      " 4   group          1197 non-null   object\n",
      "dtypes: int64(3), object(2)\n",
      "memory usage: 46.9+ KB\n"
     ]
    }
   ],
   "source": [
    "orders.info()"
   ]
  },
  {
   "cell_type": "markdown",
   "id": "4bbc2461",
   "metadata": {},
   "source": [
    "Описание данных\n",
    "\n",
    "Датасет содержит 1 197 строк и 5 столбцов. Были выявлены следующие проблемы:\n",
    "\n",
    "- **Некорректные типы данных:** Столбец `date` и  имеет некорректный тип данных, что требует приведения к правильному типу.\n",
    "- **Пропуски данных:**  отсутсвуют.\n",
    "- **Формат наименований столбцов:** Наименования  столбцов `transactionId` и `visitorId` требуется привести в соотвествие со `змеинным` регистром.\n",
    "\n",
    "Планируемые действия:\n",
    "\n",
    "1. Приведение наименований столбцов к корректному регистру.\n",
    "2. Приведение столбца `date` к корректному типу данных.\n",
    "3. Проверка на наличие дубликатов и удаление дубликатов.\n",
    "\n",
    "Эти действия необходимы для подготовки данных к дальнейшему анализу и моделированию."
   ]
  },
  {
   "cell_type": "code",
   "execution_count": 10,
   "id": "ee4c8485",
   "metadata": {},
   "outputs": [
    {
     "name": "stdout",
     "output_type": "stream",
     "text": [
      "   transaction_id  visitor_id        date  revenue group\n",
      "0      3667963787  3312258926  2019-08-15     1650     B\n",
      "1      2804400009  3642806036  2019-08-15      730     B\n",
      "2      2961555356  4069496402  2019-08-15      400     A\n",
      "3      3797467345  1196621759  2019-08-15     9759     B\n",
      "4      2282983706  2322279887  2019-08-15     2308     B\n"
     ]
    }
   ],
   "source": [
    "orders = orders.rename(columns={\n",
    "    'transactionId': 'transaction_id',\n",
    "    'visitorId': 'visitor_id'\n",
    "})\n",
    "print(orders.head(5))"
   ]
  },
  {
   "cell_type": "code",
   "execution_count": 11,
   "id": "11e36119",
   "metadata": {},
   "outputs": [],
   "source": [
    "orders['date'] = orders['date'].map(\n",
    "    lambda x: dt.datetime.strptime(x, '%Y-%m-%d')\n",
    ")\n"
   ]
  },
  {
   "cell_type": "code",
   "execution_count": 12,
   "id": "cfb4004c",
   "metadata": {
    "scrolled": true
   },
   "outputs": [
    {
     "data": {
      "text/plain": [
       "0"
      ]
     },
     "execution_count": 12,
     "metadata": {},
     "output_type": "execute_result"
    }
   ],
   "source": [
    "orders.duplicated().sum()"
   ]
  },
  {
   "cell_type": "markdown",
   "id": "8c00dfcd",
   "metadata": {},
   "source": [
    "Ищем пользователей, которые могли попасть в обе группы."
   ]
  },
  {
   "cell_type": "markdown",
   "id": "89c65d4a",
   "metadata": {},
   "source": [
    "Группировка данных по visitor_id и подсчет уникальных групп для каждого пользователя."
   ]
  },
  {
   "cell_type": "code",
   "execution_count": 13,
   "id": "cd9eb5d0",
   "metadata": {
    "scrolled": false
   },
   "outputs": [
    {
     "data": {
      "text/plain": [
       "visitor_id\n",
       "2654030115    2\n",
       "3891541246    2\n",
       "3941795274    2\n",
       "1404934699    2\n",
       "351125977     2\n",
       "             ..\n",
       "1476256851    1\n",
       "1476741193    1\n",
       "1484903144    1\n",
       "1485964287    1\n",
       "4283872382    1\n",
       "Name: group, Length: 1031, dtype: int64"
      ]
     },
     "execution_count": 13,
     "metadata": {},
     "output_type": "execute_result"
    }
   ],
   "source": [
    "user_groups = orders.groupby('visitor_id')['group'].nunique().sort_values(ascending=False)\n",
    "user_groups"
   ]
  },
  {
   "cell_type": "markdown",
   "id": "75e9abe7",
   "metadata": {},
   "source": [
    "Считаем количетсво пользователей, попавших в обе группы."
   ]
  },
  {
   "cell_type": "code",
   "execution_count": 14,
   "id": "7771e4bc",
   "metadata": {
    "scrolled": true
   },
   "outputs": [
    {
     "data": {
      "text/plain": [
       "58"
      ]
     },
     "execution_count": 14,
     "metadata": {},
     "output_type": "execute_result"
    }
   ],
   "source": [
    "ab_group_users = user_groups[user_groups > 1]\n",
    "ab_group_users.count()"
   ]
  },
  {
   "cell_type": "markdown",
   "id": "82d4cca4",
   "metadata": {},
   "source": [
    "Считаем общее количетсво пользователей."
   ]
  },
  {
   "cell_type": "code",
   "execution_count": 15,
   "id": "a9f1042c",
   "metadata": {},
   "outputs": [
    {
     "data": {
      "text/plain": [
       "1031"
      ]
     },
     "execution_count": 15,
     "metadata": {},
     "output_type": "execute_result"
    }
   ],
   "source": [
    "total_users = orders['visitor_id'].nunique()\n",
    "total_users"
   ]
  },
  {
   "cell_type": "code",
   "execution_count": 16,
   "id": "1221fbf3",
   "metadata": {},
   "outputs": [
    {
     "data": {
      "text/plain": [
       "5.625606207565471"
      ]
     },
     "execution_count": 16,
     "metadata": {},
     "output_type": "execute_result"
    }
   ],
   "source": [
    "percentage_ab_users  = (len(ab_group_users)/total_users)*100\n",
    "percentage_ab_users"
   ]
  },
  {
   "cell_type": "markdown",
   "id": "a3527200",
   "metadata": {},
   "source": [
    "В связи с тем, что были обнаружены пользователи, попавшие в обе группы, было принято решение удалить их из датафрейма. Такие пересечения нарушают принцип независимости групп, что приводит к статистическим аномалиям и снижению достоверности выводов."
   ]
  },
  {
   "cell_type": "code",
   "execution_count": 17,
   "id": "655cbec0",
   "metadata": {},
   "outputs": [],
   "source": [
    "orders = orders[~orders['visitor_id'].isin(ab_group_users.index)]"
   ]
  },
  {
   "cell_type": "markdown",
   "id": "121abdef",
   "metadata": {},
   "source": [
    "Проверяем, что получилось."
   ]
  },
  {
   "cell_type": "code",
   "execution_count": 18,
   "id": "206ff549",
   "metadata": {
    "scrolled": true
   },
   "outputs": [
    {
     "name": "stdout",
     "output_type": "stream",
     "text": [
      "<class 'pandas.core.frame.DataFrame'>\n",
      "Int64Index: 1016 entries, 0 to 1196\n",
      "Data columns (total 5 columns):\n",
      " #   Column          Non-Null Count  Dtype         \n",
      "---  ------          --------------  -----         \n",
      " 0   transaction_id  1016 non-null   int64         \n",
      " 1   visitor_id      1016 non-null   int64         \n",
      " 2   date            1016 non-null   datetime64[ns]\n",
      " 3   revenue         1016 non-null   int64         \n",
      " 4   group           1016 non-null   object        \n",
      "dtypes: datetime64[ns](1), int64(3), object(1)\n",
      "memory usage: 47.6+ KB\n"
     ]
    }
   ],
   "source": [
    "orders.info()"
   ]
  },
  {
   "cell_type": "markdown",
   "id": "af131580",
   "metadata": {},
   "source": [
    "Приступаем к проверке датафрейма `visitors`"
   ]
  },
  {
   "cell_type": "code",
   "execution_count": 19,
   "id": "b7df0cc8",
   "metadata": {},
   "outputs": [
    {
     "data": {
      "text/html": [
       "<div>\n",
       "<style scoped>\n",
       "    .dataframe tbody tr th:only-of-type {\n",
       "        vertical-align: middle;\n",
       "    }\n",
       "\n",
       "    .dataframe tbody tr th {\n",
       "        vertical-align: top;\n",
       "    }\n",
       "\n",
       "    .dataframe thead th {\n",
       "        text-align: right;\n",
       "    }\n",
       "</style>\n",
       "<table border=\"1\" class=\"dataframe\">\n",
       "  <thead>\n",
       "    <tr style=\"text-align: right;\">\n",
       "      <th></th>\n",
       "      <th>date</th>\n",
       "      <th>group</th>\n",
       "      <th>visitors</th>\n",
       "    </tr>\n",
       "  </thead>\n",
       "  <tbody>\n",
       "    <tr>\n",
       "      <th>0</th>\n",
       "      <td>2019-08-01</td>\n",
       "      <td>A</td>\n",
       "      <td>719</td>\n",
       "    </tr>\n",
       "    <tr>\n",
       "      <th>1</th>\n",
       "      <td>2019-08-02</td>\n",
       "      <td>A</td>\n",
       "      <td>619</td>\n",
       "    </tr>\n",
       "    <tr>\n",
       "      <th>2</th>\n",
       "      <td>2019-08-03</td>\n",
       "      <td>A</td>\n",
       "      <td>507</td>\n",
       "    </tr>\n",
       "    <tr>\n",
       "      <th>3</th>\n",
       "      <td>2019-08-04</td>\n",
       "      <td>A</td>\n",
       "      <td>717</td>\n",
       "    </tr>\n",
       "    <tr>\n",
       "      <th>4</th>\n",
       "      <td>2019-08-05</td>\n",
       "      <td>A</td>\n",
       "      <td>756</td>\n",
       "    </tr>\n",
       "  </tbody>\n",
       "</table>\n",
       "</div>"
      ],
      "text/plain": [
       "         date group  visitors\n",
       "0  2019-08-01     A       719\n",
       "1  2019-08-02     A       619\n",
       "2  2019-08-03     A       507\n",
       "3  2019-08-04     A       717\n",
       "4  2019-08-05     A       756"
      ]
     },
     "execution_count": 19,
     "metadata": {},
     "output_type": "execute_result"
    }
   ],
   "source": [
    "visitors.head()"
   ]
  },
  {
   "cell_type": "code",
   "execution_count": 20,
   "id": "3d34f7f0",
   "metadata": {
    "scrolled": false
   },
   "outputs": [
    {
     "name": "stdout",
     "output_type": "stream",
     "text": [
      "<class 'pandas.core.frame.DataFrame'>\n",
      "RangeIndex: 62 entries, 0 to 61\n",
      "Data columns (total 3 columns):\n",
      " #   Column    Non-Null Count  Dtype \n",
      "---  ------    --------------  ----- \n",
      " 0   date      62 non-null     object\n",
      " 1   group     62 non-null     object\n",
      " 2   visitors  62 non-null     int64 \n",
      "dtypes: int64(1), object(2)\n",
      "memory usage: 1.6+ KB\n"
     ]
    }
   ],
   "source": [
    "visitors.info()"
   ]
  },
  {
   "cell_type": "markdown",
   "id": "25904c67",
   "metadata": {},
   "source": [
    "Описание данных\n",
    "\n",
    "Датасет содержит 62 строки и 3 столбца. Были выявлены следующие проблемы:\n",
    "\n",
    "- **Некорректные типы данных:** Столбец `date` и  имеет некорректный тип данных, что требует приведения к правильному типу.\n",
    "- **Пропуски данных:**  отсутсвуют.\n",
    "\n",
    "\n",
    "Планируемые действия:\n",
    "\n",
    "1. Приведение столбца `date` к корректному типу данных.\n",
    "2. Проверка на наличие дубликатов и удаление дубликатов.\n",
    "\n",
    "Эти действия необходимы для подготовки данных к дальнейшему анализу и моделированию."
   ]
  },
  {
   "cell_type": "code",
   "execution_count": 21,
   "id": "350ffe17",
   "metadata": {},
   "outputs": [],
   "source": [
    "visitors['date'] = visitors['date'].map(\n",
    "    lambda x: dt.datetime.strptime(x, '%Y-%m-%d')\n",
    ")\n"
   ]
  },
  {
   "cell_type": "code",
   "execution_count": 22,
   "id": "c3605ad9",
   "metadata": {
    "scrolled": true
   },
   "outputs": [
    {
     "data": {
      "text/plain": [
       "0"
      ]
     },
     "execution_count": 22,
     "metadata": {},
     "output_type": "execute_result"
    }
   ],
   "source": [
    "visitors.duplicated().sum()"
   ]
  },
  {
   "cell_type": "code",
   "execution_count": 23,
   "id": "6032bec5",
   "metadata": {
    "scrolled": true
   },
   "outputs": [
    {
     "name": "stdout",
     "output_type": "stream",
     "text": [
      "<class 'pandas.core.frame.DataFrame'>\n",
      "RangeIndex: 62 entries, 0 to 61\n",
      "Data columns (total 3 columns):\n",
      " #   Column    Non-Null Count  Dtype         \n",
      "---  ------    --------------  -----         \n",
      " 0   date      62 non-null     datetime64[ns]\n",
      " 1   group     62 non-null     object        \n",
      " 2   visitors  62 non-null     int64         \n",
      "dtypes: datetime64[ns](1), int64(1), object(1)\n",
      "memory usage: 1.6+ KB\n"
     ]
    }
   ],
   "source": [
    "visitors.info()"
   ]
  },
  {
   "cell_type": "markdown",
   "id": "68963039",
   "metadata": {},
   "source": [
    "Приступаем к получению уникальных комбинаций дат и групп.\n",
    "Здесь из таблицы orders берутся все уникальные пары (date, group). Это нужно, чтобы позже агрегировать данные по каждой дате и группе."
   ]
  },
  {
   "cell_type": "code",
   "execution_count": 24,
   "id": "2ba53f15",
   "metadata": {},
   "outputs": [],
   "source": [
    "dates_groups = orders[['date','group' ]].drop_duplicates()"
   ]
  },
  {
   "cell_type": "markdown",
   "id": "abac6a78",
   "metadata": {},
   "source": [
    "Агрегирование кумулятивных данных о заказах.\n",
    "Для каждой комбинации (date, group) мы фильтруем исходный orders, оставляя только строки с:\n",
    "той же группой,\n",
    "датами не позднее текущей даты x['date'].\n",
    "Затем считаем:\n",
    "date: max – последняя (текущая) дата\n",
    "group: max – текущая группа\n",
    "transaction_id: nunique – уникальное количество заказов до (и включая) текущую дату для данной группы\n",
    "visitor_id: nunique – уникальное количество покупателей (по уникальным ID посетителей) за тот же период\n",
    "revenue: sum – сумму выручки за период\n",
    "После расчёта для всех (date, group) сортируем полученный фрейм по дате и группе."
   ]
  },
  {
   "cell_type": "code",
   "execution_count": 25,
   "id": "3e2ad8c8",
   "metadata": {},
   "outputs": [],
   "source": [
    "orders_aggregated = dates_groups\\\n",
    ".apply(lambda x: orders[np.logical_and(orders['date'] <= x['date'], orders['group'] == x['group'])]\\\n",
    ".agg({'date' : 'max', 'group' : 'max', 'transaction_id' : 'nunique', 'visitor_id' : 'nunique', 'revenue' : 'sum'}), axis=1)\\\n",
    ".sort_values(by=['date','group'])"
   ]
  },
  {
   "cell_type": "markdown",
   "id": "10663315",
   "metadata": {},
   "source": [
    "Аналогично шагу с заказами, но для visitors. Для каждого (date, group) считаем:\n",
    "\n",
    "дату (максимальную для агрегируемого периода),\n",
    "группу,\n",
    "суммарное количество посетителей (visitors) с начала периода и до текущей даты включительно."
   ]
  },
  {
   "cell_type": "code",
   "execution_count": 26,
   "id": "590881f1",
   "metadata": {},
   "outputs": [],
   "source": [
    "visitors_aggregated = dates_groups\\\n",
    ".apply(lambda x: visitors[np.logical_and(visitors['date'] <= x['date'], visitors['group'] == x['group'])]\\\n",
    "       .agg({'date' : 'max', 'group' : 'max', 'visitors' : 'sum'}), axis=1).sort_values(by=['date','group'])"
   ]
  },
  {
   "cell_type": "markdown",
   "id": "714a0844",
   "metadata": {},
   "source": [
    "Объединение кумулятивных данных по заказам и посетителям.\n",
    "Объединяем кумулятивные данные о заказах и о посетителях по столбцам date и group, чтобы в итоге получить единый набор агрегированных данных."
   ]
  },
  {
   "cell_type": "code",
   "execution_count": 27,
   "id": "c4e36d41",
   "metadata": {},
   "outputs": [],
   "source": [
    "cumulative_data = orders_aggregated\\\n",
    ".merge(visitors_aggregated, left_on=['date', 'group'], right_on=['date', 'group'])"
   ]
  },
  {
   "cell_type": "markdown",
   "id": "ac3d7674",
   "metadata": {},
   "source": [
    "Присваиваем более понятные имена колонкам в итоговом фрейме:\n",
    "\n",
    "orders – кумулятивное количество заказов,\n",
    "buyers – кумулятивное количество уникальных покупателей,\n",
    "revenue – кумулятивная выручка,\n",
    "visitors – кумулятивное количество посетителей."
   ]
  },
  {
   "cell_type": "code",
   "execution_count": 28,
   "id": "09a1b4ba",
   "metadata": {},
   "outputs": [],
   "source": [
    "cumulative_data.columns = [\n",
    "    'date',\n",
    "    'group',\n",
    "    'orders',\n",
    "    'buyers',\n",
    "    'revenue',\n",
    "    'visitors',\n",
    "]"
   ]
  },
  {
   "cell_type": "markdown",
   "id": "897d8905",
   "metadata": {},
   "source": [
    "Создаём отдельные датафреймы с кумулятивной выручкой (и заказами) по группам A и B."
   ]
  },
  {
   "cell_type": "code",
   "execution_count": 29,
   "id": "b07bd2f9",
   "metadata": {},
   "outputs": [],
   "source": [
    "cumulative_revenue_a = cumulative_data[cumulative_data['group']=='A'][['date','revenue', 'orders']]\n",
    "\n",
    "cumulative_revenue_b = cumulative_data[cumulative_data['group']=='B'][['date','revenue', 'orders']]"
   ]
  },
  {
   "cell_type": "markdown",
   "id": "58628389",
   "metadata": {},
   "source": [
    "#####  Кумулятивные метрики"
   ]
  },
  {
   "cell_type": "markdown",
   "id": "13887b26",
   "metadata": {},
   "source": [
    "Построение графика кумулятивной выручки по группам."
   ]
  },
  {
   "cell_type": "code",
   "execution_count": 30,
   "id": "d3cde0cd",
   "metadata": {},
   "outputs": [
    {
     "data": {
      "image/png": "[encoded data removed]",
      "text/plain": [
       "<Figure size 1008x432 with 1 Axes>"
      ]
     },
     "metadata": {
      "needs_background": "light"
     },
     "output_type": "display_data"
    }
   ],
   "source": [
    "plt.figure(figsize=(14, 6))\n",
    "\n",
    "plt.plot(cumulative_revenue_a['date'], cumulative_revenue_a['revenue'], label='A', marker='o')\n",
    "plt.plot(cumulative_revenue_b['date'], cumulative_revenue_b['revenue'], label='B', marker='o')\n",
    "\n",
    "plt.title(\"График кумулятивной выручки по группам\", fontsize=14)\n",
    "plt.xlabel(\"Дата\", fontsize=12)\n",
    "plt.ylabel(\"Доход\", fontsize=12)\n",
    "\n",
    "plt.xticks(rotation=45)\n",
    "\n",
    "plt.grid(True, linestyle='--', alpha=0.7)\n",
    "\n",
    "plt.legend(fontsize=10)\n",
    "\n",
    "plt.tight_layout()\n",
    "plt.show()\n"
   ]
  },
  {
   "cell_type": "markdown",
   "id": "7b1ec737",
   "metadata": {},
   "source": [
    "На графике мы видим два графика кумулятивной выручки: для группы A и для группы B.\n",
    "По форме кривых можно оценить темпы роста выручки в каждой группе.\n",
    "Судя по представленному графику:\n",
    "Группа B на многих отрезках времени генерирует кумулятивную выручку, которая выше, чем у группы A.\n",
    "В какой-то момент (судя по графику, примерно в середине периода) у группы B случился достаточно значительный скачок выручки. Это может быть связано либо с одним крупным заказом, либо с резким увеличением количества заказов. После этого момента кривая группы B остаётся выше кривой группы A.\n",
    "Кумулятивная выручка в группе A также стабильно растёт, но с меньшими темпами. Она выглядит более плавно без резких скачков.\n",
    "Предположения:\n",
    "\n",
    "Резкий рост в группе B может говорить о выбросах в данных: возможно, один или несколько клиентов совершили очень крупные заказы.\n",
    "Также это может означать, что в группу B попадали пользователи с высокой склонностью к покупкам (или присутствовала какая-то акция), что привело к повышению среднего чека.\n",
    "Если цель эксперимента – оценить конверсию и средний чек, стоит обратить внимание на “аномалии” в группе B и, при необходимости, обработать выбросы или анализировать данные без учёта необычно крупных заказов.\n",
    "Итого, по графику можно заключить, что группа B в целом показывает более высокую кумулятивную выручку, но наличие аномалий (резких скачков) требует дополнительного анализа."
   ]
  },
  {
   "cell_type": "markdown",
   "id": "d47eb867",
   "metadata": {},
   "source": [
    "Построение графика кумулятивного среднего чека по группам."
   ]
  },
  {
   "cell_type": "code",
   "execution_count": 31,
   "id": "d85db0fc",
   "metadata": {},
   "outputs": [
    {
     "data": {
      "image/png": "[encoded data removed]",
      "text/plain": [
       "<Figure size 1008x432 with 1 Axes>"
      ]
     },
     "metadata": {
      "needs_background": "light"
     },
     "output_type": "display_data"
    }
   ],
   "source": [
    "plt.figure(figsize=(14, 6)) \n",
    "\n",
    "plt.plot(cumulative_revenue_a['date'], cumulative_revenue_a['revenue']/cumulative_revenue_a['orders'], label='A', marker='o')\n",
    "\n",
    "plt.plot(cumulative_revenue_b['date'], cumulative_revenue_b['revenue']/cumulative_revenue_b['orders'], label='B', marker='o')\n",
    "\n",
    "plt.title(\"График кумулятивного среднего чека по группам\", fontsize=14)\n",
    "plt.xlabel(\"Дата\", fontsize=12)\n",
    "plt.ylabel(\"Средний чек\", fontsize=12)\n",
    "\n",
    "plt.xticks(rotation=45)\n",
    "\n",
    "plt.grid(True, linestyle='--', alpha=0.7)\n",
    "\n",
    "plt.legend(fontsize=10)\n",
    "\n",
    "plt.tight_layout()\n",
    "plt.show()\n"
   ]
  },
  {
   "cell_type": "markdown",
   "id": "df5100f2",
   "metadata": {},
   "source": [
    "Группа B показывает более высокий кумулятивный средний чек, однако на графике заметен резкий скачок, указывающий на аномально крупные заказы. Без учёта выбросов может оказаться, что разница между группами менее существенна. В целом средний чек в группе B выше, но стоит проанализировать выбросы для более точных выводов."
   ]
  },
  {
   "cell_type": "markdown",
   "id": "a68113c2",
   "metadata": {},
   "source": [
    "Формирование объединённого датафрейма для оценки относительного изменения среднего чека."
   ]
  },
  {
   "cell_type": "code",
   "execution_count": 32,
   "id": "6e434642",
   "metadata": {},
   "outputs": [],
   "source": [
    "merge_cumulative_revenue = cumulative_revenue_a\\\n",
    ".merge(cumulative_revenue_b, left_on='date', right_on='date', how='left', suffixes=['A', 'B'])"
   ]
  },
  {
   "cell_type": "code",
   "execution_count": 33,
   "id": "d5c5e58b",
   "metadata": {},
   "outputs": [
    {
     "data": {
      "image/png": "[encoded data removed]",
      "text/plain": [
       "<Figure size 1008x432 with 1 Axes>"
      ]
     },
     "metadata": {
      "needs_background": "light"
     },
     "output_type": "display_data"
    }
   ],
   "source": [
    "plt.figure(figsize=(14, 6))\n",
    "\n",
    "plt.plot\\\n",
    "    (merge_cumulative_revenue['date'],\\\n",
    "    (merge_cumulative_revenue['revenueB']/merge_cumulative_revenue['ordersB'])\\\n",
    "    /(merge_cumulative_revenue['revenueA']/merge_cumulative_revenue['ordersA'])-1,\\\n",
    "    label='Группа B к группе A')\n",
    "\n",
    "plt.axhline(y=0, color='black', linestyle='--')\n",
    "\n",
    "plt.title(\"График относительного изменения кумулятивного среднего чека группы B к группе A\", fontsize=14)\n",
    "plt.xlabel(\"Дата\", fontsize=12)\n",
    "plt.ylabel(\"Доход\", fontsize=12)\n",
    "\n",
    "plt.xticks(rotation=45)\n",
    "\n",
    "plt.grid(True, linestyle='--', alpha=0.7)\n",
    "\n",
    "plt.legend(fontsize=10)\n",
    "\n",
    "plt.tight_layout()\n",
    "plt.show()\n",
    "\n"
   ]
  },
  {
   "cell_type": "markdown",
   "id": "c2316313",
   "metadata": {},
   "source": [
    "Группа B в целом имеет более высокий кумулятивный средний чек по сравнению с группой A, но на графике заметны резкие колебания. Особенно бросается в глаза скачок, после которого средний чек B значительно превышает A. Это может быть признаком аномально крупных заказов в группе B."
   ]
  },
  {
   "cell_type": "markdown",
   "id": "082fb7b6",
   "metadata": {},
   "source": [
    "Построение графика кумулятивного среднего количества заказов на посетителя по группам."
   ]
  },
  {
   "cell_type": "code",
   "execution_count": 34,
   "id": "488fb7a5",
   "metadata": {},
   "outputs": [
    {
     "data": {
      "image/png": "[encoded data removed]",
      "text/plain": [
       "<Figure size 1008x432 with 1 Axes>"
      ]
     },
     "metadata": {
      "needs_background": "light"
     },
     "output_type": "display_data"
    }
   ],
   "source": [
    "cumulative_data['conversion'] = cumulative_data['orders'] / cumulative_data['visitors']\n",
    "\n",
    "cumulative_data_a = cumulative_data[cumulative_data['group'] == 'A']\n",
    "cumulative_data_b = cumulative_data[cumulative_data['group'] == 'B']\n",
    "\n",
    "plt.figure(figsize=(14, 6))\n",
    "plt.plot(cumulative_data_a['date'], cumulative_data_a['conversion'], label='A')\n",
    "plt.plot(cumulative_data_b['date'], cumulative_data_b['conversion'], label='B')\n",
    "\n",
    "plt.legend(fontsize=10)\n",
    "plt.title(\"Конверсия по группам A и B\", fontsize=14)\n",
    "plt.xlabel(\"Дата\", fontsize=12)\n",
    "plt.ylabel(\"Конверсия\", fontsize=12)\n",
    "\n",
    "plt.xticks(rotation=45)\n",
    "\n",
    "plt.grid(True, linestyle='--', alpha=0.7)\n",
    "plt.tight_layout()\n",
    "plt.show()\n"
   ]
  },
  {
   "cell_type": "markdown",
   "id": "4a1021d0",
   "metadata": {},
   "source": [
    "Конверсия в группе B на большинстве временных интервалов выше, чем в группе A. Таким образом, группа B демонстрирует более высокий процент посетителей, совершающих покупки, по сравнению с группой A."
   ]
  },
  {
   "cell_type": "markdown",
   "id": "48f3a352",
   "metadata": {},
   "source": [
    "Формирование графика относительного изменения кумулятивного среднего количества заказов на посетителя группы B к группе A"
   ]
  },
  {
   "cell_type": "code",
   "execution_count": 35,
   "id": "8083d342",
   "metadata": {},
   "outputs": [
    {
     "data": {
      "image/png": "[encoded data removed]",
      "text/plain": [
       "<Figure size 1008x432 with 1 Axes>"
      ]
     },
     "metadata": {
      "needs_background": "light"
     },
     "output_type": "display_data"
    }
   ],
   "source": [
    "merge_cumulative_conversion = \\\n",
    "cumulative_data_a[['date','conversion']]\\\n",
    ".merge(cumulative_data_b[['date','conversion']], left_on='date', right_on='date', how='left', suffixes=['A', 'B'])\n",
    "\n",
    "plt.figure(figsize=(14, 6))\n",
    "plt.plot(\n",
    "  merge_cumulative_conversion['date'], merge_cumulative_conversion['conversionB']/merge_cumulative_conversion['conversionA']-1,\\\n",
    "  label=\"Относительный прирост кумулятивного среднего количества заказов на посетителя группы B относительно группы A\")\n",
    "plt.legend()\n",
    "\n",
    "plt.axhline(y=0, color='black', linestyle='--')\n",
    "plt.axhline(y=0.2, color='grey', linestyle='--')\n",
    "\n",
    "plt.legend(fontsize=10)\n",
    "plt.title(\"Конверсия по группам A и B\", fontsize=14)\n",
    "plt.xlabel(\"Дата\", fontsize=12)\n",
    "plt.ylabel(\"Конверсия\", fontsize=12)\n",
    "\n",
    "plt.xticks(rotation=45)\n",
    "\n",
    "plt.grid(True, linestyle='--', alpha=0.7)\n",
    "plt.tight_layout()\n",
    "plt.show()"
   ]
  },
  {
   "cell_type": "markdown",
   "id": "3181b174",
   "metadata": {},
   "source": [
    "Конверсия группы B устойчиво превышает конверсию группы A, достигая в некоторые моменты прироста более 20%. Это говорит о том, что группа B показывает значительно лучший результат по числу заказов на посетителя."
   ]
  },
  {
   "cell_type": "markdown",
   "id": "e49a82ef",
   "metadata": {},
   "source": [
    "##### Анализ аномалий"
   ]
  },
  {
   "cell_type": "markdown",
   "id": "8945597f",
   "metadata": {},
   "source": [
    "Подготовка данных для формирование точечного графика количества заказ по пользователям."
   ]
  },
  {
   "cell_type": "code",
   "execution_count": 36,
   "id": "72fc90f5",
   "metadata": {},
   "outputs": [],
   "source": [
    "orders_by_users = (\n",
    "    orders.groupby('visitor_id', as_index=False)\n",
    "    .agg({'transaction_id': 'nunique'})\n",
    ")"
   ]
  },
  {
   "cell_type": "markdown",
   "id": "f12e0bed",
   "metadata": {},
   "source": [
    "Формирование точечного графика и гисрограммы количества заказов по пользователям."
   ]
  },
  {
   "cell_type": "code",
   "execution_count": 37,
   "id": "cbdfd056",
   "metadata": {},
   "outputs": [
    {
     "data": {
      "image/png": "[encoded data removed]",
      "text/plain": [
       "<Figure size 1008x432 with 2 Axes>"
      ]
     },
     "metadata": {
      "needs_background": "light"
     },
     "output_type": "display_data"
    }
   ],
   "source": [
    "x_values = pd.Series(range(0, len(orders_by_users)))\n",
    "\n",
    "plt.figure(figsize=(14, 6))\n",
    "\n",
    "plt.subplot(1, 2, 1) \n",
    "plt.scatter(x_values, orders_by_users['transaction_id'])\n",
    "plt.title(\"Точечный график количества заказов по пользователям\", fontsize=14)\n",
    "plt.xlabel(\"Пользователи\", fontsize=12)\n",
    "plt.ylabel(\"Количество заказов\", fontsize=12)\n",
    "plt.grid(True)\n",
    "\n",
    "plt.subplot(1, 2, 2)  \n",
    "plt.hist(orders_by_users['transaction_id'], bins=range(1, orders_by_users['transaction_id'].max() + 2), edgecolor='black')\n",
    "plt.title(\"Гистограмма распределения количества заказов\", fontsize=14)\n",
    "plt.xlabel(\"Количество заказов\", fontsize=12)\n",
    "plt.ylabel(\"Число пользователей\", fontsize=12)\n",
    "plt.grid(True)\n",
    "\n",
    "plt.tight_layout()\n",
    "plt.show()\n"
   ]
  },
  {
   "cell_type": "markdown",
   "id": "4f0eb745",
   "metadata": {},
   "source": [
    "Основная масса пользователей совершает только один заказ. Это видно как на точечном графике, где большинство точек сосредоточено на уровне 1 заказа, так и на гистограмме, где столбец, соответствующий 1 заказу, доминирует.\n",
    "\n",
    "Однако, есть пользователи, которые совершили 2 и более заказов. Эти случаи редки, но они выбиваются из общего распределения. Например, на точечном графике видно, что отдельные пользователи совершили 3-4 заказа, что является аномалией.\n",
    "\n",
    "Гистограмма распределения подтверждает, что абсолютное большинство пользователей ограничиваются единичным заказом, а повторные заказы характерны для меньшинства."
   ]
  },
  {
   "cell_type": "markdown",
   "id": "c8fb3fcd",
   "metadata": {},
   "source": [
    "Считаю 95-й и 99-й перцентили количества заказов на пользователя."
   ]
  },
  {
   "cell_type": "code",
   "execution_count": 38,
   "id": "3aa12204",
   "metadata": {},
   "outputs": [
    {
     "name": "stdout",
     "output_type": "stream",
     "text": [
      "[1. 2.]\n"
     ]
    }
   ],
   "source": [
    "print(np.percentile(orders_by_users['transaction_id'], [ 95, 99]))"
   ]
  },
  {
   "cell_type": "markdown",
   "id": "0e1d8c1c",
   "metadata": {},
   "source": [
    "Не более 5% пользователей совершили более одного заказа и не более 1% совершили более двух заказов."
   ]
  },
  {
   "cell_type": "markdown",
   "id": "0f8d9e8f",
   "metadata": {},
   "source": [
    "Формирование точечного графика и гисрограммы стоимости заказов."
   ]
  },
  {
   "cell_type": "code",
   "execution_count": 39,
   "id": "21ba86aa",
   "metadata": {},
   "outputs": [
    {
     "data": {
      "image/png": "[encoded data removed]",
      "text/plain": [
       "<Figure size 1008x432 with 2 Axes>"
      ]
     },
     "metadata": {
      "needs_background": "light"
     },
     "output_type": "display_data"
    }
   ],
   "source": [
    "x_values = pd.Series(range(0, len(orders['revenue'])))\n",
    "\n",
    "plt.figure(figsize=(14, 6))\n",
    "\n",
    "plt.subplot(1, 2, 1)\n",
    "plt.scatter(x_values, orders['revenue'], alpha=0.7)\n",
    "plt.title(\"Точечный график стоимостей заказов\", fontsize=14)\n",
    "plt.xlabel(\"Количество заказов\", fontsize=12)\n",
    "plt.ylabel(\"Цена\", fontsize=12)\n",
    "plt.grid(True)\n",
    "\n",
    "plt.subplot(1, 2, 2)\n",
    "plt.hist(orders['revenue'], bins=15, edgecolor='black', alpha=0.7)\n",
    "plt.title(\"Гистограмма стоимостей заказов\", fontsize=14)\n",
    "plt.xlabel(\"Цена\", fontsize=12)\n",
    "plt.ylabel(\"Частота\", fontsize=12)\n",
    "plt.grid(True)\n",
    "\n",
    "plt.tight_layout()\n",
    "plt.show()"
   ]
  },
  {
   "cell_type": "markdown",
   "id": "92e0627a",
   "metadata": {},
   "source": [
    "Основная масса заказов сосредоточена в районе относительно невысоких сумм. На графике видно, что почти все заказы имеют стоимость в пределах небольшой величины.\n",
    "\n",
    "Аномально высокие заказы заметны по отдельным точкам, выбивающимся из общего распределения на точечном графике. Например, есть один заказ, сумма которого превышает 1 200 000. Это крайне редкое событие на фоне остальных.\n",
    "\n",
    "Гистограмма показывает, что абсолютное большинство заказов сосредоточено около низких значений цен. Практически весь столбец частоты приходится на область до 100 000, а заказы выше этой суммы — единичные случаи.\n",
    "\n",
    "Таким образом, распределение стоимости заказов сильно смещено в сторону меньших значений, при этом присутствуют немногочисленные, но крайне крупные заказы, которые можно считать аномалиями или «выбросами»."
   ]
  },
  {
   "cell_type": "markdown",
   "id": "fd668d0b",
   "metadata": {},
   "source": [
    "Считаю 95-й и 99-й перцентили стоимости заказа."
   ]
  },
  {
   "cell_type": "code",
   "execution_count": 40,
   "id": "a03c90ac",
   "metadata": {},
   "outputs": [
    {
     "name": "stdout",
     "output_type": "stream",
     "text": [
      "[26785. 53904.]\n"
     ]
    }
   ],
   "source": [
    "print(np.percentile(orders['revenue'], [95, 99])) "
   ]
  },
  {
   "cell_type": "markdown",
   "id": "611cab47",
   "metadata": {},
   "source": [
    "Не более, чем у 5% заказов чек дороже 26 785 рублей. И не больше, чем у 1% заказов — дороже 53 904 рубля. "
   ]
  },
  {
   "cell_type": "markdown",
   "id": "8fbbec6b",
   "metadata": {},
   "source": [
    "##### Статистический анализ"
   ]
  },
  {
   "cell_type": "markdown",
   "id": "725c86c0",
   "metadata": {},
   "source": [
    "Считаю статистическую значимость различий в среднем количестве заказов на посетителя между группами по «сырым» данным\n",
    "\n",
    "Формулировка гипотез:\n",
    "\n",
    "Нулевая гипотеза (H0): Нет различий в среднем количестве заказов на пользователя между группами A и B.\n",
    "Альтернативная гипотеза (H1): Есть различия в среднем количестве заказов на пользователя между группами A и B."
   ]
  },
  {
   "cell_type": "markdown",
   "id": "5c1fa1f4",
   "metadata": {},
   "source": [
    "Вычисляем ежедневное и накопленное количество посетителей для групп `A` и `B`."
   ]
  },
  {
   "cell_type": "code",
   "execution_count": 41,
   "id": "bbb8225c",
   "metadata": {},
   "outputs": [],
   "source": [
    "visitors_a_daily = visitors[visitors['group'] == 'A'][['date', 'visitors']]\n",
    "visitors_a_daily.columns = ['date', 'visitors_per_date_a']\n",
    "\n",
    "visitors_a_cummulative = visitors_a_daily.apply(\n",
    "    lambda x: visitors_a_daily[visitors_a_daily['date'] <= x['date']].agg(\n",
    "        {'date': 'max', 'visitors_per_date_a': 'sum'}\n",
    "    ),\n",
    "    axis=1,\n",
    ")\n",
    "visitors_a_cummulative.columns = ['date', 'visitors_cummulative_a']"
   ]
  },
  {
   "cell_type": "code",
   "execution_count": 42,
   "id": "dcb75ffa",
   "metadata": {},
   "outputs": [],
   "source": [
    "visitors_b_daily = visitors[visitors['group'] == 'B'][['date', 'visitors']]\n",
    "visitors_b_daily.columns = ['date', 'visitors_per_date_b']\n",
    "\n",
    "visitors_b_cummulative = visitors_b_daily.apply(\n",
    "    lambda x: visitors_b_daily[visitors_b_daily['date'] <= x['date']].agg(\n",
    "        {'date': 'max', 'visitors_per_date_b': 'sum'}\n",
    "    ),\n",
    "    axis=1,\n",
    ")\n",
    "visitors_b_cummulative.columns = ['date', 'visitors_cummulative_b']"
   ]
  },
  {
   "cell_type": "markdown",
   "id": "62cd3e78",
   "metadata": {},
   "source": [
    "Вычисляем ежедневное и накопленное число заказов и выручки для групп `A` и `B`. "
   ]
  },
  {
   "cell_type": "code",
   "execution_count": 43,
   "id": "86381a21",
   "metadata": {},
   "outputs": [],
   "source": [
    "orders_a_daily = (\n",
    "    orders[orders['group'] == 'A'][['date', 'transaction_id', 'visitor_id', 'revenue']]\n",
    "    .groupby('date', as_index=False)\n",
    "    .agg({'transaction_id': pd.Series.nunique, 'revenue': 'sum'})\n",
    ")\n",
    "orders_a_daily.columns = ['date', 'orders_per_date_a', 'revenue_per_date_a']\n",
    "\n",
    "orders_a_cummulative = orders_a_daily.apply(\n",
    "    lambda x: orders_a_daily[orders_a_daily['date'] <= x['date']].agg(\n",
    "        {'date': 'max', 'orders_per_date_a': 'sum', 'revenue_per_date_a': 'sum'}\n",
    "    ),\n",
    "    axis=1,\n",
    ").sort_values(by=['date'])\n",
    "orders_a_cummulative.columns = [\n",
    "    'date',\n",
    "    'orders_cummulative_a',\n",
    "    'revenue_cummulative_a',\n",
    "]\n",
    "\n",
    "orders_b_daily = (\n",
    "    orders[orders['group'] == 'B'][['date', 'transaction_id', 'visitor_id', 'revenue']]\n",
    "    .groupby('date', as_index=False)\n",
    "    .agg({'transaction_id': pd.Series.nunique, 'revenue': 'sum'})\n",
    ")\n",
    "orders_b_daily.columns = ['date', 'orders_per_date_b', 'revenue_per_date_b']\n",
    "\n",
    "orders_b_cummulative = orders_b_daily.apply(\n",
    "    lambda x: orders_b_daily[orders_b_daily['date'] <= x['date']].agg(\n",
    "        {'date': 'max', 'orders_per_date_b': 'sum', 'revenue_per_date_b': 'sum'}\n",
    "    ),\n",
    "    axis=1,\n",
    ").sort_values(by=['date'])\n",
    "orders_b_cummulative.columns = [\n",
    "    'date',\n",
    "    'orders_cummulative_b',\n",
    "    'revenue_cummulative_b',\n",
    "]"
   ]
  },
  {
   "cell_type": "markdown",
   "id": "cd4fb823",
   "metadata": {},
   "source": [
    "Объединяем все данные в один DataFrame."
   ]
  },
  {
   "cell_type": "code",
   "execution_count": 44,
   "id": "8c2021d9",
   "metadata": {},
   "outputs": [],
   "source": [
    "data_raw = (\n",
    "    orders_a_daily.merge(\n",
    "        orders_b_daily, left_on='date', right_on='date', how='left'\n",
    "    )\n",
    "    .merge(orders_a_cummulative, left_on='date', right_on='date', how='left')\n",
    "    .merge(orders_b_cummulative, left_on='date', right_on='date', how='left')\n",
    "    .merge(visitors_a_daily, left_on='date', right_on='date', how='left')\n",
    "    .merge(visitors_b_daily, left_on='date', right_on='date', how='left')\n",
    "    .merge(visitors_a_cummulative, left_on='date', right_on='date', how='left')\n",
    "    .merge(visitors_b_cummulative, left_on='date', right_on='date', how='left')\n",
    ")"
   ]
  },
  {
   "cell_type": "markdown",
   "id": "edc527f3",
   "metadata": {},
   "source": [
    "Вычисляем заказы по пользователям в каждой группе и создаем выборки для `A/B-теста`."
   ]
  },
  {
   "cell_type": "code",
   "execution_count": 45,
   "id": "3b1aedb0",
   "metadata": {},
   "outputs": [],
   "source": [
    "orders_by_users_a = (\n",
    "    orders[orders['group'] == 'A']\n",
    "    .groupby('visitor_id', as_index=False)\n",
    "    .agg({'transaction_id': pd.Series.nunique})\n",
    ")\n",
    "orders_by_users_a.columns = ['visitor_id', 'transaction_id']\n",
    "\n",
    "orders_by_users_b = (\n",
    "    orders[orders['group'] == 'B']\n",
    "    .groupby('visitor_id', as_index=False)\n",
    "    .agg({'transaction_id': pd.Series.nunique})\n",
    ")\n",
    "orders_by_users_b.columns = ['visitor_id', 'transaction_id']\n",
    "\n",
    "sample_a = pd.concat(\n",
    "    [\n",
    "        orders_by_users_a['transaction_id'],\n",
    "        pd.Series(\n",
    "            0,\n",
    "            index=np.arange(\n",
    "                data_raw['visitors_per_date_a'].sum() - len(orders_by_users_a['transaction_id'])\n",
    "            ),\n",
    "            name='transaction_id',\n",
    "        ),\n",
    "    ],\n",
    "    axis=0,\n",
    ")\n",
    "\n",
    "sample_b = pd.concat(\n",
    "    [\n",
    "        orders_by_users_b['transaction_id'],\n",
    "        pd.Series(\n",
    "            0,\n",
    "            index=np.arange(\n",
    "                data_raw['visitors_per_date_b'].sum() - len(orders_by_users_b['transaction_id'])\n",
    "            ),\n",
    "            name='transaction_id',\n",
    "        ),\n",
    "    ],\n",
    "    axis=0,\n",
    ")"
   ]
  },
  {
   "cell_type": "markdown",
   "id": "0cff2c9d",
   "metadata": {},
   "source": [
    "Применение статистического теста Mann-Whitney U"
   ]
  },
  {
   "cell_type": "code",
   "execution_count": 46,
   "id": "8f8d8a5c",
   "metadata": {},
   "outputs": [
    {
     "name": "stdout",
     "output_type": "stream",
     "text": [
      "p-value: 0.011\n",
      "0.160\n"
     ]
    }
   ],
   "source": [
    "print(\"p-value: {0:.3f}\".format(stats.mannwhitneyu(sample_a, sample_b)[1]))\n",
    "\n",
    "print(\"{0:.3f}\".format(sample_b.mean() / sample_a.mean() - 1))"
   ]
  },
  {
   "cell_type": "markdown",
   "id": "44c370a4",
   "metadata": {},
   "source": [
    "На основании представленных данных и результатов статистического анализа можно сделать следующие выводы:\n",
    "\n",
    "1. Проверка гипотез:\n",
    "Нулевая гипотеза: различий в среднем количестве заказов между группами A и B нет.\n",
    "Альтернативная гипотеза: различия в среднем количестве заказов между группами A и B есть.\n",
    "2. Результаты теста Манна-Уитни:\n",
    "Значение p-value = 0.011.\n",
    "Это значение меньше общепринятого уровня значимости (обычно 0.05), что позволяет отвергнуть нулевую гипотезу.\n",
    "Вывод: существуют статистически значимые различия в среднем количестве заказов между группами A и B.\n",
    "3. Относительное изменение среднего:\n",
    "Относительное изменение среднего количества заказов между группами равно 0.160 (или 16%).\n",
    "Группа B демонстрирует увеличение среднего количества заказов на 16% по сравнению с группой A."
   ]
  },
  {
   "cell_type": "markdown",
   "id": "74000000",
   "metadata": {},
   "source": [
    "Считаем статистическую значимость различий в среднем чеке заказа между группами по «сырым» данным.\n",
    "Нулевая гипотеза (H0): Нет различий в среднем чеке заказа между группами A и B.\n",
    "Альтернативная гипотеза (H1): Есть различия в в среднем чеке заказа между группами A и B."
   ]
  },
  {
   "cell_type": "code",
   "execution_count": 47,
   "id": "f783e04a",
   "metadata": {},
   "outputs": [
    {
     "name": "stdout",
     "output_type": "stream",
     "text": [
      "p-value : 0.829\n",
      "0.287\n"
     ]
    }
   ],
   "source": [
    "print('p-value : {0:.3f}'.format(stats.mannwhitneyu(orders[orders['group']=='A']['revenue'], orders[orders['group']=='B']['revenue'])[1]))\n",
    "print('{0:.3f}'.format(orders[orders['group']=='B']['revenue'].mean()/orders[orders['group']=='A']['revenue'].mean()-1))"
   ]
  },
  {
   "cell_type": "markdown",
   "id": "d74fb387",
   "metadata": {},
   "source": [
    "По результатам теста Манна-Уитни p-value ≈ 0.829, что значительно выше порогового уровня значимости в 0.05. Это означает, что оснований для отклонения нулевой гипотезы нет. Таким образом, статистически значимых различий в среднем чеке между группами A и B обнаружить не удалось.\n",
    "\n",
    "Относительная разница между средними чеками групп (группа B по сравнению с группой A) составляет примерно 28,7%. Несмотря на это, высокое p-value говорит о том, что наблюдаемая разница может быть вызвана случайными факторами, а не систематическими отличиями между группами.\n",
    "\n",
    "Вывод:\n",
    "Хотя средний чек в группе B по «сырым» данным и выше, статистический тест не подтверждает, что это отличие является статистически значимым. Иными словами, с учётом текущих данных нельзя уверенно утверждать, что группа B действительно превосходит группу A по среднему чеку."
   ]
  },
  {
   "cell_type": "markdown",
   "id": "ccfb4793",
   "metadata": {},
   "source": [
    "Подготавливаю `очищенные` данные."
   ]
  },
  {
   "cell_type": "code",
   "execution_count": 48,
   "id": "565c3977",
   "metadata": {
    "scrolled": true
   },
   "outputs": [
    {
     "name": "stdout",
     "output_type": "stream",
     "text": [
      "Первые 5 аномальных пользователей:\n",
      "1099    148427295\n",
      "33      249864742\n",
      "58      611059232\n",
      "949     887908475\n",
      "744     888512513\n",
      "Name: visitor_id, dtype: int64\n",
      "Общее количество аномальных пользователей: 16\n"
     ]
    }
   ],
   "source": [
    "\n",
    "users_with_many_orders = pd.concat(\n",
    "    [\n",
    "        orders_by_users_a[\n",
    "            orders_by_users_a['transaction_id'] > np.percentile(orders_by_users_a['transaction_id'], 99)\n",
    "        ]['visitor_id'],\n",
    "        orders_by_users_b[\n",
    "            orders_by_users_b['transaction_id'] > np.percentile(orders_by_users_b['transaction_id'], 99)\n",
    "        ]['visitor_id'],\n",
    "    ],\n",
    "    axis=0,\n",
    ")\n",
    "\n",
    "users_with_expensive_orders = orders[\n",
    "    orders['revenue'] > np.percentile(orders['revenue'], 99)\n",
    "]['visitor_id']\n",
    "\n",
    "abnormal_users = (\n",
    "    pd.concat([users_with_many_orders, users_with_expensive_orders], axis=0)\n",
    "    .drop_duplicates()\n",
    "    .sort_values()\n",
    ")\n",
    "\n",
    "# Вывод результатов\n",
    "print(\"Первые 5 аномальных пользователей:\")\n",
    "print(abnormal_users.head(5))\n",
    "print(\"Общее количество аномальных пользователей:\", abnormal_users.shape[0])\n"
   ]
  },
  {
   "cell_type": "markdown",
   "id": "200dd8af",
   "metadata": {},
   "source": [
    "Считаю статистическую значимость различий в среднем количестве заказов между группами теста по очищенным данным.\n",
    "Сначала подготовлю выборки количества заказов по пользователям по группам теста:"
   ]
  },
  {
   "cell_type": "code",
   "execution_count": 49,
   "id": "4a408827",
   "metadata": {},
   "outputs": [],
   "source": [
    "sample_a_filtered = pd.concat(\n",
    "    [\n",
    "        orders_by_users_a[\n",
    "            np.logical_not(orders_by_users_a['visitor_id'].isin(abnormal_users))\n",
    "        ]['transaction_id'],\n",
    "        pd.Series(\n",
    "            0,\n",
    "            index=np.arange(\n",
    "                data_raw['visitors_per_date_a'].sum() - len(orders_by_users_a['transaction_id'])\n",
    "            ),\n",
    "            name='transaction_id',\n",
    "        ),\n",
    "    ],\n",
    "    axis=0,\n",
    ")\n",
    "\n",
    "sample_b_filtered = pd.concat(\n",
    "    [\n",
    "        orders_by_users_b[\n",
    "            np.logical_not(orders_by_users_b['visitor_id'].isin(abnormal_users))\n",
    "        ]['transaction_id'],\n",
    "        pd.Series(\n",
    "            0,\n",
    "            index=np.arange(\n",
    "                data_raw['visitors_per_date_b'].sum() - len(orders_by_users_b['transaction_id'])\n",
    "            ),\n",
    "            name='transaction_id',\n",
    "        ),\n",
    "    ],\n",
    "    axis=0,\n",
    ")"
   ]
  },
  {
   "cell_type": "markdown",
   "id": "b8383ada",
   "metadata": {},
   "source": [
    "Считаю статистическую значимость различий в среднем чеке заказа между группами по «очищенным» данным.\n",
    "Нулевая гипотеза (H0): Нет различий в среднем количестве заказов между группами A и B.\n",
    "Альтернативная гипотеза (H1): Есть различия в в среднем среднем количестве заказов между группами A и B."
   ]
  },
  {
   "cell_type": "code",
   "execution_count": 50,
   "id": "544947ac",
   "metadata": {
    "scrolled": true
   },
   "outputs": [
    {
     "name": "stdout",
     "output_type": "stream",
     "text": [
      "0.007\n",
      "0.189\n"
     ]
    }
   ],
   "source": [
    "print('{0:.3f}'.format(stats.mannwhitneyu(sample_a_filtered, sample_b_filtered)[1]))\n",
    "print('{0:.3f}'.format(sample_b_filtered.mean()/sample_a_filtered.mean()-1))"
   ]
  },
  {
   "cell_type": "markdown",
   "id": "2df46af1",
   "metadata": {},
   "source": [
    "После удаления аномальных пользователей p-value ≈ 0.009, что меньше порога значимости 0.05. Это говорит о том, что у нас есть статистически значимые различия в среднем количестве заказов между группами A и B.\n",
    "\n",
    "Относительная разница стала примерно 18.9% (0.189) в пользу группы B. Это означает, что после очистки данных от выбросов группа B в среднем совершает на 18.9% больше заказов на пользователя, чем группа A.\n",
    "\n",
    "**Вывод:\n",
    "Отвергаем нулевую гипотеру(Н0): Нет различий в среднем количестве заказов между группами A и B.**"
   ]
  },
  {
   "cell_type": "markdown",
   "id": "2a8d4439",
   "metadata": {},
   "source": [
    "Нулевая гипотеза (H0): Нет различий в среднем чеке заказа между группами A и B.\n",
    "Альтернативная гипотеза (H1): Есть различия в в среднем чеке заказа между группами A и B."
   ]
  },
  {
   "cell_type": "code",
   "execution_count": 51,
   "id": "13986b69",
   "metadata": {
    "scrolled": true
   },
   "outputs": [
    {
     "name": "stdout",
     "output_type": "stream",
     "text": [
      "0.788\n",
      "-0.032\n"
     ]
    }
   ],
   "source": [
    "print(\n",
    "    '{0:.3f}'.format(\n",
    "        stats.mannwhitneyu(\n",
    "            orders[\n",
    "                np.logical_and(\n",
    "                    orders['group'] == 'A',\n",
    "                    np.logical_not(orders['visitor_id'].isin(abnormal_users)),\n",
    "                )\n",
    "            ]['revenue'],\n",
    "            orders[\n",
    "                np.logical_and(\n",
    "                    orders['group'] == 'B',\n",
    "                    np.logical_not(orders['visitor_id'].isin(abnormal_users)),\n",
    "                )\n",
    "            ]['revenue'],\n",
    "        )[1]\n",
    "    )\n",
    ")\n",
    "\n",
    "print(\n",
    "    \"{0:.3f}\".format(\n",
    "        orders[\n",
    "            np.logical_and(\n",
    "                orders['group'] == 'B',\n",
    "                np.logical_not(orders['visitor_id'].isin(abnormal_users)),\n",
    "            )\n",
    "        ]['revenue'].mean()\n",
    "        / orders[\n",
    "            np.logical_and(\n",
    "                orders['group'] == 'A',\n",
    "                np.logical_not(orders['visitor_id'].isin(abnormal_users)),\n",
    "            )\n",
    "        ]['revenue'].mean()\n",
    "        - 1\n",
    "    )\n",
    ")"
   ]
  },
  {
   "cell_type": "markdown",
   "id": "a832cb25",
   "metadata": {},
   "source": [
    "Значение p-value ≈ 0.738 — это гораздо выше порога 0.05, что означает отсутствие статистически значимых различий в среднем чеке между группами A и B после удаления аномальных пользователей.\n",
    "\n",
    "Относительная разница среднего чека теперь составляет примерно -2% (около -0.02), т.е. средний чек в группе B стал даже немного ниже, чем в группе A. Однако учитывая, что разница статистически незначима, нельзя сделать уверенный вывод о каком-либо преимуществе группы B или A по этому параметру.\n",
    "\n",
    "Вывод:\n",
    "После удаления аномальных пользователей статистически значимые различия в среднем чеке между группами так и не появились. Отличия в среднем чеке можно считать случайными.\n",
    "\n",
    "**Мы принимаем нулевую гипотезу (H0): нет статистически значимых различий в среднем чеке заказа между группами A и B.**"
   ]
  },
  {
   "cell_type": "markdown",
   "id": "1aebff48",
   "metadata": {},
   "source": [
    "#### Принятие решения по результатам теста"
   ]
  },
  {
   "cell_type": "markdown",
   "id": "dde263e8",
   "metadata": {},
   "source": [
    "По количеству заказов на посетителя (конверсии) после удаления аномалий получено статистически значимое улучшение в группе B по сравнению с группой A.\n",
    "По среднему чеку статистически значимой разницы выявлено не было ни до, ни после удаления аномалий.\n",
    "Таким образом, ключевой показатель эффективности (конверсия) лучше в группе B и эта разница статистически значима. Это говорит в пользу того, что изменения, внедрённые в группе B, оказывают положительное влияние на ключевой бизнес-показатель.\n",
    "\n",
    "Решение:\n",
    "Остановить тест и зафиксировать победу группы B, так как она показала статистически значимо более высокую конверсию."
   ]
  },
  {
   "cell_type": "markdown",
   "id": "8f3b8ac6",
   "metadata": {},
   "source": [
    "##  Описание проделанной работы\n",
    "\n",
    " 1. Изучение данных:\n",
    "- Открытие и анализ трёх предоставленных датасетов:\n",
    "  - **`hypothesis.csv`**: содержит данные о гипотезах для увеличения выручки.\n",
    "  - **`orders.csv`**: включает информацию о заказах, их идентификаторы, даты и выручку.\n",
    "  - **`visitors.csv`**: содержит данные о количестве пользователей в A/B-группах.\n",
    "- Проверка данных на наличие пропусков, дубликатов и ошибок.\n",
    "\n",
    " 2. Приоритизация гипотез:\n",
    "- Применение фреймворка **ICE** для оценки гипотез по трём критериям: влияние, уверенность и затраты.\n",
    "- Применение фреймворка **RICE** с учётом охвата аудитории, что изменило приоритеты гипотез.\n",
    "- Сравнение результатов **ICE** и **RICE**, объяснение изменений при переходе между фреймворками.\n",
    "\n",
    " 3. Анализ A/B-теста:\n",
    " Кумулятивные метрики:\n",
    "- Построение и анализ графиков:\n",
    "  - Кумулятивной выручки по группам.\n",
    "  - Кумулятивного среднего чека по группам.\n",
    "  - Кумулятивного среднего количества заказов на посетителя.\n",
    "  - Относительных изменений метрик между группами A и B.\n",
    "\n",
    " Анализ аномалий:\n",
    "- Построение точечных графиков стоимости заказов и количества заказов на пользователя.\n",
    "- Вычисление 95-го и 99-го перцентилей для определения аномальных пользователей и заказов.\n",
    "- Исключение аномалий для подготовки «очищенных» данных.\n",
    "\n",
    " Статистический анализ:\n",
    "- Расчёт статистической значимости различий:\n",
    "  - В среднем количестве заказов на посетителя между группами по «сырым» и «очищенным» данным.\n",
    "  - В среднем чеке заказа между группами по «сырым» и «очищенным» данным.\n",
    "- Использование критерия **Манна-Уитни** для тестирования гипотез.\n",
    "\n",
    " 4. Принятие решения:\n",
    "- На основе анализа данных и результатов статистических тестов сделан вывод о победе группы B.\n",
    "- Разработаны рекомендации по внедрению изменений, протестированных в группе B.\n",
    "\n",
    " 5. Документирование результатов:\n",
    "- Подготовлено описание выполненных шагов.\n",
    "- Оформлены выводы и рекомендации для бизнеса.\n",
    "- Все этапы исследования были визуализированы и представлены в удобном формате для анализа."
   ]
  }
 ],
 "metadata": {
  "ExecuteTimeLog": [
   {
    "duration": 1170,
    "start_time": "2024-12-20T14:43:38.756Z"
   },
   {
    "duration": 27,
    "start_time": "2024-12-20T14:43:39.928Z"
   },
   {
    "duration": 20,
    "start_time": "2024-12-20T14:43:39.957Z"
   },
   {
    "duration": 23,
    "start_time": "2024-12-20T14:43:39.980Z"
   },
   {
    "duration": 50,
    "start_time": "2024-12-20T14:43:40.005Z"
   },
   {
    "duration": 28,
    "start_time": "2024-12-20T14:43:40.057Z"
   },
   {
    "duration": 83,
    "start_time": "2024-12-20T14:43:40.086Z"
   },
   {
    "duration": 8,
    "start_time": "2024-12-20T14:43:40.170Z"
   },
   {
    "duration": 27,
    "start_time": "2024-12-20T14:43:40.180Z"
   },
   {
    "duration": 28,
    "start_time": "2024-12-20T14:43:40.210Z"
   },
   {
    "duration": 42,
    "start_time": "2024-12-20T14:43:40.240Z"
   },
   {
    "duration": 176,
    "start_time": "2024-12-20T14:43:40.283Z"
   },
   {
    "duration": 115,
    "start_time": "2024-12-20T14:43:40.460Z"
   },
   {
    "duration": 5,
    "start_time": "2024-12-20T14:43:40.577Z"
   },
   {
    "duration": 30,
    "start_time": "2024-12-20T14:43:40.583Z"
   },
   {
    "duration": 25,
    "start_time": "2024-12-20T14:43:40.614Z"
   },
   {
    "duration": 486,
    "start_time": "2024-12-20T14:43:40.641Z"
   },
   {
    "duration": 478,
    "start_time": "2024-12-20T14:43:41.137Z"
   },
   {
    "duration": 6,
    "start_time": "2024-12-20T14:43:41.616Z"
   },
   {
    "duration": 588,
    "start_time": "2024-12-20T14:43:41.624Z"
   },
   {
    "duration": 508,
    "start_time": "2024-12-20T14:43:42.214Z"
   },
   {
    "duration": 598,
    "start_time": "2024-12-20T14:43:42.725Z"
   },
   {
    "duration": 12,
    "start_time": "2024-12-20T14:43:43.325Z"
   },
   {
    "duration": 405,
    "start_time": "2024-12-20T14:43:43.338Z"
   },
   {
    "duration": 5,
    "start_time": "2024-12-20T14:43:43.745Z"
   },
   {
    "duration": 475,
    "start_time": "2024-12-20T14:43:43.751Z"
   },
   {
    "duration": 10,
    "start_time": "2024-12-20T14:43:44.228Z"
   },
   {
    "duration": 137,
    "start_time": "2024-12-20T14:43:44.242Z"
   },
   {
    "duration": 45,
    "start_time": "2024-12-20T14:43:44.380Z"
   },
   {
    "duration": 117,
    "start_time": "2024-12-20T14:43:44.427Z"
   },
   {
    "duration": 19,
    "start_time": "2024-12-20T14:43:44.546Z"
   },
   {
    "duration": 170,
    "start_time": "2024-12-20T14:43:44.567Z"
   },
   {
    "duration": 26,
    "start_time": "2024-12-20T14:43:44.739Z"
   },
   {
    "duration": 10,
    "start_time": "2024-12-20T14:43:44.767Z"
   },
   {
    "duration": 18,
    "start_time": "2024-12-20T14:43:44.778Z"
   },
   {
    "duration": 17,
    "start_time": "2024-12-20T14:43:44.798Z"
   },
   {
    "duration": 40,
    "start_time": "2024-12-20T14:43:44.817Z"
   },
   {
    "duration": 13,
    "start_time": "2024-12-20T14:43:44.858Z"
   },
   {
    "duration": 1197,
    "start_time": "2024-12-20T14:57:01.729Z"
   },
   {
    "duration": 28,
    "start_time": "2024-12-20T14:57:02.928Z"
   },
   {
    "duration": 61,
    "start_time": "2024-12-20T14:57:02.958Z"
   },
   {
    "duration": 34,
    "start_time": "2024-12-20T14:57:03.020Z"
   },
   {
    "duration": 36,
    "start_time": "2024-12-20T14:57:03.057Z"
   },
   {
    "duration": 34,
    "start_time": "2024-12-20T14:57:03.094Z"
   },
   {
    "duration": 115,
    "start_time": "2024-12-20T14:57:03.130Z"
   },
   {
    "duration": 10,
    "start_time": "2024-12-20T14:57:03.246Z"
   },
   {
    "duration": 22,
    "start_time": "2024-12-20T14:57:03.257Z"
   },
   {
    "duration": 9,
    "start_time": "2024-12-20T14:57:03.281Z"
   },
   {
    "duration": 49,
    "start_time": "2024-12-20T14:57:03.291Z"
   },
   {
    "duration": 249,
    "start_time": "2024-12-20T14:57:03.342Z"
   },
   {
    "duration": 123,
    "start_time": "2024-12-20T14:57:03.593Z"
   },
   {
    "duration": 18,
    "start_time": "2024-12-20T14:57:03.719Z"
   },
   {
    "duration": 14,
    "start_time": "2024-12-20T14:57:03.739Z"
   },
   {
    "duration": 69,
    "start_time": "2024-12-20T14:57:03.755Z"
   },
   {
    "duration": 502,
    "start_time": "2024-12-20T14:57:03.826Z"
   },
   {
    "duration": 491,
    "start_time": "2024-12-20T14:57:04.329Z"
   },
   {
    "duration": 5,
    "start_time": "2024-12-20T14:57:04.822Z"
   },
   {
    "duration": 587,
    "start_time": "2024-12-20T14:57:04.836Z"
   },
   {
    "duration": 502,
    "start_time": "2024-12-20T14:57:05.425Z"
   },
   {
    "duration": 593,
    "start_time": "2024-12-20T14:57:05.929Z"
   },
   {
    "duration": 15,
    "start_time": "2024-12-20T14:57:06.524Z"
   },
   {
    "duration": 485,
    "start_time": "2024-12-20T14:57:06.540Z"
   },
   {
    "duration": 4,
    "start_time": "2024-12-20T14:57:07.026Z"
   },
   {
    "duration": 595,
    "start_time": "2024-12-20T14:57:07.031Z"
   },
   {
    "duration": 11,
    "start_time": "2024-12-20T14:57:07.628Z"
   },
   {
    "duration": 135,
    "start_time": "2024-12-20T14:57:07.640Z"
   },
   {
    "duration": 88,
    "start_time": "2024-12-20T14:57:07.777Z"
   },
   {
    "duration": 118,
    "start_time": "2024-12-20T14:57:07.867Z"
   },
   {
    "duration": 20,
    "start_time": "2024-12-20T14:57:07.986Z"
   },
   {
    "duration": 146,
    "start_time": "2024-12-20T14:57:08.008Z"
   },
   {
    "duration": 26,
    "start_time": "2024-12-20T14:57:08.155Z"
   },
   {
    "duration": 9,
    "start_time": "2024-12-20T14:57:08.183Z"
   },
   {
    "duration": 31,
    "start_time": "2024-12-20T14:57:08.194Z"
   },
   {
    "duration": 18,
    "start_time": "2024-12-20T14:57:08.229Z"
   },
   {
    "duration": 44,
    "start_time": "2024-12-20T14:57:08.250Z"
   },
   {
    "duration": 14,
    "start_time": "2024-12-20T14:57:08.296Z"
   },
   {
    "duration": 1244,
    "start_time": "2024-12-20T15:35:16.353Z"
   },
   {
    "duration": 82,
    "start_time": "2024-12-20T15:35:17.599Z"
   },
   {
    "duration": 11,
    "start_time": "2024-12-20T15:35:17.683Z"
   },
   {
    "duration": 35,
    "start_time": "2024-12-20T15:35:17.695Z"
   },
   {
    "duration": 29,
    "start_time": "2024-12-20T15:35:17.732Z"
   },
   {
    "duration": 11,
    "start_time": "2024-12-20T15:35:17.762Z"
   },
   {
    "duration": 143,
    "start_time": "2024-12-20T15:35:17.774Z"
   },
   {
    "duration": 7,
    "start_time": "2024-12-20T15:35:17.918Z"
   },
   {
    "duration": 8,
    "start_time": "2024-12-20T15:35:17.927Z"
   },
   {
    "duration": 10,
    "start_time": "2024-12-20T15:35:17.936Z"
   },
   {
    "duration": 8,
    "start_time": "2024-12-20T15:35:17.947Z"
   },
   {
    "duration": 144,
    "start_time": "2024-12-20T15:35:17.956Z"
   },
   {
    "duration": 106,
    "start_time": "2024-12-20T15:35:18.102Z"
   },
   {
    "duration": 6,
    "start_time": "2024-12-20T15:35:18.210Z"
   },
   {
    "duration": 6,
    "start_time": "2024-12-20T15:35:18.217Z"
   },
   {
    "duration": 12,
    "start_time": "2024-12-20T15:35:18.224Z"
   },
   {
    "duration": 492,
    "start_time": "2024-12-20T15:35:18.253Z"
   },
   {
    "duration": 467,
    "start_time": "2024-12-20T15:35:18.746Z"
   },
   {
    "duration": 5,
    "start_time": "2024-12-20T15:35:19.215Z"
   },
   {
    "duration": 574,
    "start_time": "2024-12-20T15:35:19.222Z"
   },
   {
    "duration": 437,
    "start_time": "2024-12-20T15:35:19.797Z"
   },
   {
    "duration": 573,
    "start_time": "2024-12-20T15:35:20.235Z"
   },
   {
    "duration": 7,
    "start_time": "2024-12-20T15:35:20.811Z"
   },
   {
    "duration": 387,
    "start_time": "2024-12-20T15:35:20.819Z"
   },
   {
    "duration": 3,
    "start_time": "2024-12-20T15:35:21.208Z"
   },
   {
    "duration": 441,
    "start_time": "2024-12-20T15:35:21.212Z"
   },
   {
    "duration": 4,
    "start_time": "2024-12-20T15:35:21.654Z"
   },
   {
    "duration": 133,
    "start_time": "2024-12-20T15:35:21.659Z"
   },
   {
    "duration": 54,
    "start_time": "2024-12-20T15:35:21.793Z"
   },
   {
    "duration": 98,
    "start_time": "2024-12-20T15:35:21.848Z"
   },
   {
    "duration": 17,
    "start_time": "2024-12-20T15:35:21.948Z"
   },
   {
    "duration": 143,
    "start_time": "2024-12-20T15:35:21.966Z"
   },
   {
    "duration": 21,
    "start_time": "2024-12-20T15:35:22.110Z"
   },
   {
    "duration": 23,
    "start_time": "2024-12-20T15:35:22.132Z"
   },
   {
    "duration": 38,
    "start_time": "2024-12-20T15:35:22.156Z"
   },
   {
    "duration": 7,
    "start_time": "2024-12-20T15:35:22.196Z"
   },
   {
    "duration": 45,
    "start_time": "2024-12-20T15:35:22.205Z"
   },
   {
    "duration": 12,
    "start_time": "2024-12-20T15:35:22.253Z"
   },
   {
    "duration": 63,
    "start_time": "2024-12-21T22:13:34.553Z"
   },
   {
    "duration": 70,
    "start_time": "2024-12-21T22:13:39.082Z"
   },
   {
    "duration": 1230,
    "start_time": "2024-12-21T22:13:43.179Z"
   },
   {
    "duration": 75,
    "start_time": "2024-12-21T22:13:44.411Z"
   },
   {
    "duration": 12,
    "start_time": "2024-12-21T22:13:44.488Z"
   },
   {
    "duration": 45,
    "start_time": "2024-12-21T22:13:44.502Z"
   },
   {
    "duration": 24,
    "start_time": "2024-12-21T22:13:44.548Z"
   },
   {
    "duration": 12,
    "start_time": "2024-12-21T22:13:44.573Z"
   },
   {
    "duration": 162,
    "start_time": "2024-12-21T22:13:44.586Z"
   },
   {
    "duration": 7,
    "start_time": "2024-12-21T22:13:44.749Z"
   },
   {
    "duration": 7,
    "start_time": "2024-12-21T22:13:44.758Z"
   },
   {
    "duration": 52,
    "start_time": "2024-12-21T22:13:44.767Z"
   },
   {
    "duration": 0,
    "start_time": "2024-12-21T22:13:44.821Z"
   },
   {
    "duration": 0,
    "start_time": "2024-12-21T22:13:44.823Z"
   },
   {
    "duration": 0,
    "start_time": "2024-12-21T22:13:44.825Z"
   },
   {
    "duration": 0,
    "start_time": "2024-12-21T22:13:44.826Z"
   },
   {
    "duration": 0,
    "start_time": "2024-12-21T22:13:44.828Z"
   },
   {
    "duration": 0,
    "start_time": "2024-12-21T22:13:44.829Z"
   },
   {
    "duration": 0,
    "start_time": "2024-12-21T22:13:44.830Z"
   },
   {
    "duration": 1,
    "start_time": "2024-12-21T22:13:44.831Z"
   },
   {
    "duration": 0,
    "start_time": "2024-12-21T22:13:44.833Z"
   },
   {
    "duration": 0,
    "start_time": "2024-12-21T22:13:44.834Z"
   },
   {
    "duration": 0,
    "start_time": "2024-12-21T22:13:44.836Z"
   },
   {
    "duration": 0,
    "start_time": "2024-12-21T22:13:44.837Z"
   },
   {
    "duration": 0,
    "start_time": "2024-12-21T22:13:44.838Z"
   },
   {
    "duration": 0,
    "start_time": "2024-12-21T22:13:44.840Z"
   },
   {
    "duration": 0,
    "start_time": "2024-12-21T22:13:44.841Z"
   },
   {
    "duration": 0,
    "start_time": "2024-12-21T22:13:44.842Z"
   },
   {
    "duration": 0,
    "start_time": "2024-12-21T22:13:44.844Z"
   },
   {
    "duration": 0,
    "start_time": "2024-12-21T22:13:44.846Z"
   },
   {
    "duration": 0,
    "start_time": "2024-12-21T22:13:44.847Z"
   },
   {
    "duration": 0,
    "start_time": "2024-12-21T22:13:44.849Z"
   },
   {
    "duration": 0,
    "start_time": "2024-12-21T22:13:44.851Z"
   },
   {
    "duration": 0,
    "start_time": "2024-12-21T22:13:44.852Z"
   },
   {
    "duration": 0,
    "start_time": "2024-12-21T22:13:44.854Z"
   },
   {
    "duration": 0,
    "start_time": "2024-12-21T22:13:44.855Z"
   },
   {
    "duration": 0,
    "start_time": "2024-12-21T22:13:44.856Z"
   },
   {
    "duration": 0,
    "start_time": "2024-12-21T22:13:44.858Z"
   },
   {
    "duration": 0,
    "start_time": "2024-12-21T22:13:44.860Z"
   },
   {
    "duration": 0,
    "start_time": "2024-12-21T22:13:44.861Z"
   },
   {
    "duration": 0,
    "start_time": "2024-12-21T22:13:44.862Z"
   },
   {
    "duration": 54,
    "start_time": "2024-12-21T22:14:08.826Z"
   },
   {
    "duration": 11,
    "start_time": "2024-12-21T22:15:21.150Z"
   },
   {
    "duration": 6,
    "start_time": "2024-12-21T22:20:26.383Z"
   },
   {
    "duration": 7,
    "start_time": "2024-12-21T22:24:54.202Z"
   },
   {
    "duration": 6,
    "start_time": "2024-12-21T22:31:58.906Z"
   },
   {
    "duration": 1020,
    "start_time": "2024-12-21T22:32:05.182Z"
   },
   {
    "duration": 25,
    "start_time": "2024-12-21T22:32:06.204Z"
   },
   {
    "duration": 33,
    "start_time": "2024-12-21T22:32:06.231Z"
   },
   {
    "duration": 18,
    "start_time": "2024-12-21T22:32:06.265Z"
   },
   {
    "duration": 24,
    "start_time": "2024-12-21T22:32:06.284Z"
   },
   {
    "duration": 15,
    "start_time": "2024-12-21T22:32:06.310Z"
   },
   {
    "duration": 62,
    "start_time": "2024-12-21T22:32:06.326Z"
   },
   {
    "duration": 6,
    "start_time": "2024-12-21T22:32:06.389Z"
   },
   {
    "duration": 19,
    "start_time": "2024-12-21T22:32:06.396Z"
   },
   {
    "duration": 30,
    "start_time": "2024-12-21T22:32:06.416Z"
   },
   {
    "duration": 19,
    "start_time": "2024-12-21T22:32:06.447Z"
   },
   {
    "duration": 322,
    "start_time": "2024-12-21T22:32:06.467Z"
   },
   {
    "duration": 0,
    "start_time": "2024-12-21T22:32:06.791Z"
   },
   {
    "duration": 0,
    "start_time": "2024-12-21T22:32:06.793Z"
   },
   {
    "duration": 1,
    "start_time": "2024-12-21T22:32:06.793Z"
   },
   {
    "duration": 0,
    "start_time": "2024-12-21T22:32:06.794Z"
   },
   {
    "duration": 0,
    "start_time": "2024-12-21T22:32:06.795Z"
   },
   {
    "duration": 0,
    "start_time": "2024-12-21T22:32:06.796Z"
   },
   {
    "duration": 0,
    "start_time": "2024-12-21T22:32:06.797Z"
   },
   {
    "duration": 0,
    "start_time": "2024-12-21T22:32:06.799Z"
   },
   {
    "duration": 0,
    "start_time": "2024-12-21T22:32:06.799Z"
   },
   {
    "duration": 0,
    "start_time": "2024-12-21T22:32:06.800Z"
   },
   {
    "duration": 0,
    "start_time": "2024-12-21T22:32:06.802Z"
   },
   {
    "duration": 0,
    "start_time": "2024-12-21T22:32:06.803Z"
   },
   {
    "duration": 0,
    "start_time": "2024-12-21T22:32:06.803Z"
   },
   {
    "duration": 0,
    "start_time": "2024-12-21T22:32:06.804Z"
   },
   {
    "duration": 0,
    "start_time": "2024-12-21T22:32:06.805Z"
   },
   {
    "duration": 0,
    "start_time": "2024-12-21T22:32:06.806Z"
   },
   {
    "duration": 0,
    "start_time": "2024-12-21T22:32:06.807Z"
   },
   {
    "duration": 0,
    "start_time": "2024-12-21T22:32:06.808Z"
   },
   {
    "duration": 0,
    "start_time": "2024-12-21T22:32:06.809Z"
   },
   {
    "duration": 0,
    "start_time": "2024-12-21T22:32:06.810Z"
   },
   {
    "duration": 0,
    "start_time": "2024-12-21T22:32:06.811Z"
   },
   {
    "duration": 0,
    "start_time": "2024-12-21T22:32:06.812Z"
   },
   {
    "duration": 0,
    "start_time": "2024-12-21T22:32:06.813Z"
   },
   {
    "duration": 0,
    "start_time": "2024-12-21T22:32:06.813Z"
   },
   {
    "duration": 0,
    "start_time": "2024-12-21T22:32:06.815Z"
   },
   {
    "duration": 0,
    "start_time": "2024-12-21T22:32:06.815Z"
   },
   {
    "duration": 0,
    "start_time": "2024-12-21T22:32:06.817Z"
   },
   {
    "duration": 0,
    "start_time": "2024-12-21T22:32:06.817Z"
   },
   {
    "duration": 0,
    "start_time": "2024-12-21T22:32:06.818Z"
   },
   {
    "duration": 1041,
    "start_time": "2024-12-21T22:33:39.332Z"
   },
   {
    "duration": 25,
    "start_time": "2024-12-21T22:33:40.375Z"
   },
   {
    "duration": 10,
    "start_time": "2024-12-21T22:33:40.404Z"
   },
   {
    "duration": 6,
    "start_time": "2024-12-21T22:33:40.416Z"
   },
   {
    "duration": 14,
    "start_time": "2024-12-21T22:33:40.423Z"
   },
   {
    "duration": 11,
    "start_time": "2024-12-21T22:33:40.438Z"
   },
   {
    "duration": 46,
    "start_time": "2024-12-21T22:33:40.450Z"
   },
   {
    "duration": 6,
    "start_time": "2024-12-21T22:33:40.498Z"
   },
   {
    "duration": 7,
    "start_time": "2024-12-21T22:33:40.507Z"
   },
   {
    "duration": 11,
    "start_time": "2024-12-21T22:33:40.515Z"
   },
   {
    "duration": 6,
    "start_time": "2024-12-21T22:33:40.527Z"
   },
   {
    "duration": 12,
    "start_time": "2024-12-21T22:33:40.534Z"
   },
   {
    "duration": 5,
    "start_time": "2024-12-21T22:33:40.547Z"
   },
   {
    "duration": 10,
    "start_time": "2024-12-21T22:33:40.553Z"
   },
   {
    "duration": 154,
    "start_time": "2024-12-21T22:33:40.564Z"
   },
   {
    "duration": 335,
    "start_time": "2024-12-21T22:33:40.720Z"
   },
   {
    "duration": 0,
    "start_time": "2024-12-21T22:33:41.057Z"
   },
   {
    "duration": 0,
    "start_time": "2024-12-21T22:33:41.058Z"
   },
   {
    "duration": 0,
    "start_time": "2024-12-21T22:33:41.059Z"
   },
   {
    "duration": 0,
    "start_time": "2024-12-21T22:33:41.060Z"
   },
   {
    "duration": 0,
    "start_time": "2024-12-21T22:33:41.061Z"
   },
   {
    "duration": 0,
    "start_time": "2024-12-21T22:33:41.062Z"
   },
   {
    "duration": 0,
    "start_time": "2024-12-21T22:33:41.063Z"
   },
   {
    "duration": 0,
    "start_time": "2024-12-21T22:33:41.064Z"
   },
   {
    "duration": 0,
    "start_time": "2024-12-21T22:33:41.065Z"
   },
   {
    "duration": 0,
    "start_time": "2024-12-21T22:33:41.066Z"
   },
   {
    "duration": 0,
    "start_time": "2024-12-21T22:33:41.067Z"
   },
   {
    "duration": 0,
    "start_time": "2024-12-21T22:33:41.068Z"
   },
   {
    "duration": 0,
    "start_time": "2024-12-21T22:33:41.069Z"
   },
   {
    "duration": 0,
    "start_time": "2024-12-21T22:33:41.070Z"
   },
   {
    "duration": 0,
    "start_time": "2024-12-21T22:33:41.071Z"
   },
   {
    "duration": 0,
    "start_time": "2024-12-21T22:33:41.072Z"
   },
   {
    "duration": 0,
    "start_time": "2024-12-21T22:33:41.073Z"
   },
   {
    "duration": 0,
    "start_time": "2024-12-21T22:33:41.073Z"
   },
   {
    "duration": 0,
    "start_time": "2024-12-21T22:33:41.074Z"
   },
   {
    "duration": 0,
    "start_time": "2024-12-21T22:33:41.075Z"
   },
   {
    "duration": 0,
    "start_time": "2024-12-21T22:33:41.076Z"
   },
   {
    "duration": 0,
    "start_time": "2024-12-21T22:33:41.077Z"
   },
   {
    "duration": 0,
    "start_time": "2024-12-21T22:33:41.077Z"
   },
   {
    "duration": 0,
    "start_time": "2024-12-21T22:33:41.078Z"
   },
   {
    "duration": 0,
    "start_time": "2024-12-21T22:33:41.079Z"
   },
   {
    "duration": 7,
    "start_time": "2024-12-21T22:35:27.627Z"
   },
   {
    "duration": 9,
    "start_time": "2024-12-21T22:35:39.186Z"
   },
   {
    "duration": 5,
    "start_time": "2024-12-21T22:36:11.153Z"
   },
   {
    "duration": 1070,
    "start_time": "2024-12-21T22:36:22.515Z"
   },
   {
    "duration": 25,
    "start_time": "2024-12-21T22:36:23.587Z"
   },
   {
    "duration": 11,
    "start_time": "2024-12-21T22:36:23.615Z"
   },
   {
    "duration": 2,
    "start_time": "2024-12-21T22:36:23.628Z"
   },
   {
    "duration": 12,
    "start_time": "2024-12-21T22:36:23.632Z"
   },
   {
    "duration": 11,
    "start_time": "2024-12-21T22:36:23.646Z"
   },
   {
    "duration": 46,
    "start_time": "2024-12-21T22:36:23.658Z"
   },
   {
    "duration": 7,
    "start_time": "2024-12-21T22:36:23.705Z"
   },
   {
    "duration": 12,
    "start_time": "2024-12-21T22:36:23.713Z"
   },
   {
    "duration": 6,
    "start_time": "2024-12-21T22:36:23.726Z"
   },
   {
    "duration": 11,
    "start_time": "2024-12-21T22:36:23.733Z"
   },
   {
    "duration": 6,
    "start_time": "2024-12-21T22:36:23.745Z"
   },
   {
    "duration": 9,
    "start_time": "2024-12-21T22:36:23.753Z"
   },
   {
    "duration": 68,
    "start_time": "2024-12-21T22:36:23.763Z"
   },
   {
    "duration": 12,
    "start_time": "2024-12-21T22:36:23.833Z"
   },
   {
    "duration": 5,
    "start_time": "2024-12-21T22:36:23.847Z"
   },
   {
    "duration": 164,
    "start_time": "2024-12-21T22:36:23.854Z"
   },
   {
    "duration": 333,
    "start_time": "2024-12-21T22:36:24.020Z"
   },
   {
    "duration": 0,
    "start_time": "2024-12-21T22:36:24.355Z"
   },
   {
    "duration": 0,
    "start_time": "2024-12-21T22:36:24.356Z"
   },
   {
    "duration": 0,
    "start_time": "2024-12-21T22:36:24.358Z"
   },
   {
    "duration": 0,
    "start_time": "2024-12-21T22:36:24.359Z"
   },
   {
    "duration": 0,
    "start_time": "2024-12-21T22:36:24.361Z"
   },
   {
    "duration": 0,
    "start_time": "2024-12-21T22:36:24.362Z"
   },
   {
    "duration": 0,
    "start_time": "2024-12-21T22:36:24.364Z"
   },
   {
    "duration": 0,
    "start_time": "2024-12-21T22:36:24.365Z"
   },
   {
    "duration": 0,
    "start_time": "2024-12-21T22:36:24.366Z"
   },
   {
    "duration": 0,
    "start_time": "2024-12-21T22:36:24.368Z"
   },
   {
    "duration": 0,
    "start_time": "2024-12-21T22:36:24.369Z"
   },
   {
    "duration": 0,
    "start_time": "2024-12-21T22:36:24.370Z"
   },
   {
    "duration": 0,
    "start_time": "2024-12-21T22:36:24.372Z"
   },
   {
    "duration": 0,
    "start_time": "2024-12-21T22:36:24.373Z"
   },
   {
    "duration": 0,
    "start_time": "2024-12-21T22:36:24.374Z"
   },
   {
    "duration": 0,
    "start_time": "2024-12-21T22:36:24.376Z"
   },
   {
    "duration": 0,
    "start_time": "2024-12-21T22:36:24.377Z"
   },
   {
    "duration": 0,
    "start_time": "2024-12-21T22:36:24.379Z"
   },
   {
    "duration": 0,
    "start_time": "2024-12-21T22:36:24.380Z"
   },
   {
    "duration": 0,
    "start_time": "2024-12-21T22:36:24.381Z"
   },
   {
    "duration": 0,
    "start_time": "2024-12-21T22:36:24.383Z"
   },
   {
    "duration": 0,
    "start_time": "2024-12-21T22:36:24.384Z"
   },
   {
    "duration": 0,
    "start_time": "2024-12-21T22:36:24.385Z"
   },
   {
    "duration": 0,
    "start_time": "2024-12-21T22:36:24.386Z"
   },
   {
    "duration": 0,
    "start_time": "2024-12-21T22:36:24.387Z"
   },
   {
    "duration": 997,
    "start_time": "2024-12-21T22:39:27.396Z"
   },
   {
    "duration": 25,
    "start_time": "2024-12-21T22:39:28.395Z"
   },
   {
    "duration": 11,
    "start_time": "2024-12-21T22:39:28.422Z"
   },
   {
    "duration": 2,
    "start_time": "2024-12-21T22:39:28.435Z"
   },
   {
    "duration": 10,
    "start_time": "2024-12-21T22:39:28.439Z"
   },
   {
    "duration": 10,
    "start_time": "2024-12-21T22:39:28.450Z"
   },
   {
    "duration": 47,
    "start_time": "2024-12-21T22:39:28.461Z"
   },
   {
    "duration": 7,
    "start_time": "2024-12-21T22:39:28.509Z"
   },
   {
    "duration": 12,
    "start_time": "2024-12-21T22:39:28.517Z"
   },
   {
    "duration": 5,
    "start_time": "2024-12-21T22:39:28.531Z"
   },
   {
    "duration": 12,
    "start_time": "2024-12-21T22:39:28.537Z"
   },
   {
    "duration": 4,
    "start_time": "2024-12-21T22:39:28.550Z"
   },
   {
    "duration": 5,
    "start_time": "2024-12-21T22:39:28.556Z"
   },
   {
    "duration": 8,
    "start_time": "2024-12-21T22:39:28.563Z"
   },
   {
    "duration": 343,
    "start_time": "2024-12-21T22:39:28.572Z"
   },
   {
    "duration": 0,
    "start_time": "2024-12-21T22:39:28.917Z"
   },
   {
    "duration": 0,
    "start_time": "2024-12-21T22:39:28.918Z"
   },
   {
    "duration": 0,
    "start_time": "2024-12-21T22:39:28.919Z"
   },
   {
    "duration": 0,
    "start_time": "2024-12-21T22:39:28.920Z"
   },
   {
    "duration": 0,
    "start_time": "2024-12-21T22:39:28.921Z"
   },
   {
    "duration": 0,
    "start_time": "2024-12-21T22:39:28.923Z"
   },
   {
    "duration": 0,
    "start_time": "2024-12-21T22:39:28.924Z"
   },
   {
    "duration": 0,
    "start_time": "2024-12-21T22:39:28.925Z"
   },
   {
    "duration": 0,
    "start_time": "2024-12-21T22:39:28.926Z"
   },
   {
    "duration": 0,
    "start_time": "2024-12-21T22:39:28.927Z"
   },
   {
    "duration": 0,
    "start_time": "2024-12-21T22:39:28.928Z"
   },
   {
    "duration": 0,
    "start_time": "2024-12-21T22:39:28.930Z"
   },
   {
    "duration": 0,
    "start_time": "2024-12-21T22:39:28.931Z"
   },
   {
    "duration": 0,
    "start_time": "2024-12-21T22:39:28.931Z"
   },
   {
    "duration": 0,
    "start_time": "2024-12-21T22:39:28.932Z"
   },
   {
    "duration": 0,
    "start_time": "2024-12-21T22:39:28.933Z"
   },
   {
    "duration": 0,
    "start_time": "2024-12-21T22:39:28.934Z"
   },
   {
    "duration": 0,
    "start_time": "2024-12-21T22:39:28.936Z"
   },
   {
    "duration": 0,
    "start_time": "2024-12-21T22:39:28.936Z"
   },
   {
    "duration": 0,
    "start_time": "2024-12-21T22:39:28.937Z"
   },
   {
    "duration": 0,
    "start_time": "2024-12-21T22:39:28.938Z"
   },
   {
    "duration": 0,
    "start_time": "2024-12-21T22:39:28.939Z"
   },
   {
    "duration": 0,
    "start_time": "2024-12-21T22:39:28.941Z"
   },
   {
    "duration": 0,
    "start_time": "2024-12-21T22:39:28.942Z"
   },
   {
    "duration": 0,
    "start_time": "2024-12-21T22:39:28.943Z"
   },
   {
    "duration": 0,
    "start_time": "2024-12-21T22:39:28.944Z"
   },
   {
    "duration": 0,
    "start_time": "2024-12-21T22:39:28.945Z"
   },
   {
    "duration": 0,
    "start_time": "2024-12-21T22:39:28.946Z"
   },
   {
    "duration": 0,
    "start_time": "2024-12-21T22:39:28.947Z"
   },
   {
    "duration": 3,
    "start_time": "2024-12-21T22:40:18.572Z"
   },
   {
    "duration": 1032,
    "start_time": "2024-12-21T22:40:22.654Z"
   },
   {
    "duration": 25,
    "start_time": "2024-12-21T22:40:23.688Z"
   },
   {
    "duration": 11,
    "start_time": "2024-12-21T22:40:23.716Z"
   },
   {
    "duration": 4,
    "start_time": "2024-12-21T22:40:23.729Z"
   },
   {
    "duration": 18,
    "start_time": "2024-12-21T22:40:23.734Z"
   },
   {
    "duration": 20,
    "start_time": "2024-12-21T22:40:23.753Z"
   },
   {
    "duration": 56,
    "start_time": "2024-12-21T22:40:23.774Z"
   },
   {
    "duration": 16,
    "start_time": "2024-12-21T22:40:23.831Z"
   },
   {
    "duration": 13,
    "start_time": "2024-12-21T22:40:23.849Z"
   },
   {
    "duration": 7,
    "start_time": "2024-12-21T22:40:23.863Z"
   },
   {
    "duration": 26,
    "start_time": "2024-12-21T22:40:23.872Z"
   },
   {
    "duration": 7,
    "start_time": "2024-12-21T22:40:23.899Z"
   },
   {
    "duration": 7,
    "start_time": "2024-12-21T22:40:23.908Z"
   },
   {
    "duration": 11,
    "start_time": "2024-12-21T22:40:23.916Z"
   },
   {
    "duration": 18,
    "start_time": "2024-12-21T22:40:23.928Z"
   },
   {
    "duration": 5,
    "start_time": "2024-12-21T22:40:23.947Z"
   },
   {
    "duration": 6,
    "start_time": "2024-12-21T22:40:23.954Z"
   },
   {
    "duration": 163,
    "start_time": "2024-12-21T22:40:23.961Z"
   },
   {
    "duration": 123,
    "start_time": "2024-12-21T22:40:24.125Z"
   },
   {
    "duration": 81,
    "start_time": "2024-12-21T22:40:24.250Z"
   },
   {
    "duration": 14,
    "start_time": "2024-12-21T22:40:24.333Z"
   },
   {
    "duration": 17,
    "start_time": "2024-12-21T22:40:24.349Z"
   },
   {
    "duration": 412,
    "start_time": "2024-12-21T22:40:24.367Z"
   },
   {
    "duration": 367,
    "start_time": "2024-12-21T22:40:24.781Z"
   },
   {
    "duration": 5,
    "start_time": "2024-12-21T22:40:25.150Z"
   },
   {
    "duration": 515,
    "start_time": "2024-12-21T22:40:25.156Z"
   },
   {
    "duration": 397,
    "start_time": "2024-12-21T22:40:25.673Z"
   },
   {
    "duration": 411,
    "start_time": "2024-12-21T22:40:26.072Z"
   },
   {
    "duration": 6,
    "start_time": "2024-12-21T22:40:26.484Z"
   },
   {
    "duration": 426,
    "start_time": "2024-12-21T22:40:26.491Z"
   },
   {
    "duration": 4,
    "start_time": "2024-12-21T22:40:26.919Z"
   },
   {
    "duration": 423,
    "start_time": "2024-12-21T22:40:26.925Z"
   },
   {
    "duration": 3,
    "start_time": "2024-12-21T22:40:27.350Z"
   },
   {
    "duration": 120,
    "start_time": "2024-12-21T22:40:27.355Z"
   },
   {
    "duration": 38,
    "start_time": "2024-12-21T22:40:27.476Z"
   },
   {
    "duration": 99,
    "start_time": "2024-12-21T22:40:27.516Z"
   },
   {
    "duration": 18,
    "start_time": "2024-12-21T22:40:27.616Z"
   },
   {
    "duration": 139,
    "start_time": "2024-12-21T22:40:27.636Z"
   },
   {
    "duration": 20,
    "start_time": "2024-12-21T22:40:27.777Z"
   },
   {
    "duration": 42,
    "start_time": "2024-12-21T22:40:27.800Z"
   },
   {
    "duration": 16,
    "start_time": "2024-12-21T22:40:27.844Z"
   },
   {
    "duration": 7,
    "start_time": "2024-12-21T22:40:27.862Z"
   },
   {
    "duration": 28,
    "start_time": "2024-12-21T22:40:27.870Z"
   },
   {
    "duration": 12,
    "start_time": "2024-12-21T22:40:27.899Z"
   },
   {
    "duration": 109,
    "start_time": "2024-12-21T22:48:32.698Z"
   },
   {
    "duration": 4,
    "start_time": "2024-12-21T22:48:37.890Z"
   },
   {
    "duration": 6,
    "start_time": "2024-12-21T22:48:44.713Z"
   },
   {
    "duration": 6,
    "start_time": "2024-12-21T22:49:09.329Z"
   },
   {
    "duration": 4,
    "start_time": "2024-12-21T22:51:46.409Z"
   },
   {
    "duration": 4,
    "start_time": "2024-12-21T22:51:52.865Z"
   },
   {
    "duration": 5,
    "start_time": "2024-12-21T22:52:00.433Z"
   },
   {
    "duration": 5,
    "start_time": "2024-12-21T22:55:55.530Z"
   },
   {
    "duration": 9,
    "start_time": "2024-12-21T22:57:01.578Z"
   },
   {
    "duration": 6,
    "start_time": "2024-12-21T22:57:15.770Z"
   },
   {
    "duration": 3,
    "start_time": "2024-12-21T23:00:17.707Z"
   },
   {
    "duration": 948,
    "start_time": "2024-12-21T23:00:22.116Z"
   },
   {
    "duration": 5,
    "start_time": "2024-12-21T23:00:42.290Z"
   },
   {
    "duration": 7,
    "start_time": "2024-12-21T23:00:46.497Z"
   },
   {
    "duration": 6,
    "start_time": "2024-12-21T23:00:55.115Z"
   },
   {
    "duration": 7,
    "start_time": "2024-12-21T23:01:06.254Z"
   },
   {
    "duration": 8,
    "start_time": "2024-12-21T23:01:11.402Z"
   },
   {
    "duration": 7,
    "start_time": "2024-12-21T23:05:21.321Z"
   },
   {
    "duration": 9,
    "start_time": "2024-12-21T23:05:48.873Z"
   },
   {
    "duration": 12,
    "start_time": "2024-12-21T23:06:23.473Z"
   },
   {
    "duration": 3,
    "start_time": "2024-12-21T23:06:34.346Z"
   },
   {
    "duration": 6,
    "start_time": "2024-12-21T23:06:39.160Z"
   },
   {
    "duration": 5,
    "start_time": "2024-12-21T23:06:55.761Z"
   },
   {
    "duration": 5,
    "start_time": "2024-12-21T23:07:29.481Z"
   },
   {
    "duration": 9,
    "start_time": "2024-12-21T23:07:41.685Z"
   },
   {
    "duration": 6,
    "start_time": "2024-12-21T23:07:54.225Z"
   },
   {
    "duration": 9,
    "start_time": "2024-12-21T23:08:02.093Z"
   },
   {
    "duration": 8,
    "start_time": "2024-12-21T23:09:20.362Z"
   },
   {
    "duration": 3,
    "start_time": "2024-12-21T23:10:49.609Z"
   },
   {
    "duration": 5,
    "start_time": "2024-12-21T23:10:54.993Z"
   },
   {
    "duration": 4,
    "start_time": "2024-12-21T23:11:08.418Z"
   },
   {
    "duration": 5,
    "start_time": "2024-12-21T23:11:58.963Z"
   },
   {
    "duration": 6,
    "start_time": "2024-12-21T23:13:33.304Z"
   },
   {
    "duration": 6,
    "start_time": "2024-12-21T23:13:38.553Z"
   },
   {
    "duration": 63,
    "start_time": "2024-12-21T23:13:45.161Z"
   },
   {
    "duration": 3,
    "start_time": "2024-12-21T23:13:49.586Z"
   },
   {
    "duration": 3,
    "start_time": "2024-12-21T23:14:10.706Z"
   },
   {
    "duration": 6,
    "start_time": "2024-12-21T23:14:17.773Z"
   },
   {
    "duration": 56,
    "start_time": "2024-12-21T23:16:27.024Z"
   },
   {
    "duration": 4,
    "start_time": "2024-12-21T23:16:33.225Z"
   },
   {
    "duration": 2,
    "start_time": "2024-12-21T23:17:50.363Z"
   },
   {
    "duration": 4,
    "start_time": "2024-12-21T23:17:54.017Z"
   },
   {
    "duration": 1070,
    "start_time": "2024-12-21T23:26:11.725Z"
   },
   {
    "duration": 26,
    "start_time": "2024-12-21T23:26:12.797Z"
   },
   {
    "duration": 10,
    "start_time": "2024-12-21T23:26:12.826Z"
   },
   {
    "duration": 3,
    "start_time": "2024-12-21T23:26:12.838Z"
   },
   {
    "duration": 11,
    "start_time": "2024-12-21T23:26:12.842Z"
   },
   {
    "duration": 9,
    "start_time": "2024-12-21T23:26:12.855Z"
   },
   {
    "duration": 50,
    "start_time": "2024-12-21T23:26:12.865Z"
   },
   {
    "duration": 6,
    "start_time": "2024-12-21T23:26:12.916Z"
   },
   {
    "duration": 15,
    "start_time": "2024-12-21T23:26:12.924Z"
   },
   {
    "duration": 7,
    "start_time": "2024-12-21T23:26:12.940Z"
   },
   {
    "duration": 24,
    "start_time": "2024-12-21T23:26:12.948Z"
   },
   {
    "duration": 11,
    "start_time": "2024-12-21T23:26:12.973Z"
   },
   {
    "duration": 7,
    "start_time": "2024-12-21T23:26:12.986Z"
   },
   {
    "duration": 5,
    "start_time": "2024-12-21T23:26:12.994Z"
   },
   {
    "duration": 7,
    "start_time": "2024-12-21T23:26:13.001Z"
   },
   {
    "duration": 3,
    "start_time": "2024-12-21T23:26:13.009Z"
   },
   {
    "duration": 8,
    "start_time": "2024-12-21T23:26:13.013Z"
   },
   {
    "duration": 23,
    "start_time": "2024-12-21T23:26:13.023Z"
   },
   {
    "duration": 14,
    "start_time": "2024-12-21T23:26:13.048Z"
   },
   {
    "duration": 16,
    "start_time": "2024-12-21T23:26:13.063Z"
   },
   {
    "duration": 5,
    "start_time": "2024-12-21T23:26:13.080Z"
   },
   {
    "duration": 146,
    "start_time": "2024-12-21T23:26:13.087Z"
   },
   {
    "duration": 115,
    "start_time": "2024-12-21T23:26:13.235Z"
   },
   {
    "duration": 6,
    "start_time": "2024-12-21T23:26:13.351Z"
   },
   {
    "duration": 75,
    "start_time": "2024-12-21T23:26:13.358Z"
   },
   {
    "duration": 8,
    "start_time": "2024-12-21T23:26:13.435Z"
   },
   {
    "duration": 427,
    "start_time": "2024-12-21T23:26:13.444Z"
   },
   {
    "duration": 354,
    "start_time": "2024-12-21T23:26:13.872Z"
   },
   {
    "duration": 6,
    "start_time": "2024-12-21T23:26:14.227Z"
   },
   {
    "duration": 456,
    "start_time": "2024-12-21T23:26:14.235Z"
   },
   {
    "duration": 381,
    "start_time": "2024-12-21T23:26:14.693Z"
   },
   {
    "duration": 403,
    "start_time": "2024-12-21T23:26:15.076Z"
   },
   {
    "duration": 6,
    "start_time": "2024-12-21T23:26:15.480Z"
   },
   {
    "duration": 404,
    "start_time": "2024-12-21T23:26:15.487Z"
   },
   {
    "duration": 4,
    "start_time": "2024-12-21T23:26:15.892Z"
   },
   {
    "duration": 416,
    "start_time": "2024-12-21T23:26:15.897Z"
   },
   {
    "duration": 4,
    "start_time": "2024-12-21T23:26:16.314Z"
   },
   {
    "duration": 110,
    "start_time": "2024-12-21T23:26:16.319Z"
   },
   {
    "duration": 73,
    "start_time": "2024-12-21T23:26:16.431Z"
   },
   {
    "duration": 103,
    "start_time": "2024-12-21T23:26:16.507Z"
   },
   {
    "duration": 17,
    "start_time": "2024-12-21T23:26:16.612Z"
   },
   {
    "duration": 132,
    "start_time": "2024-12-21T23:26:16.631Z"
   },
   {
    "duration": 19,
    "start_time": "2024-12-21T23:26:16.764Z"
   },
   {
    "duration": 12,
    "start_time": "2024-12-21T23:26:16.785Z"
   },
   {
    "duration": 17,
    "start_time": "2024-12-21T23:26:16.798Z"
   },
   {
    "duration": 23,
    "start_time": "2024-12-21T23:26:16.817Z"
   },
   {
    "duration": 93,
    "start_time": "2024-12-21T23:26:16.841Z"
   },
   {
    "duration": 11,
    "start_time": "2024-12-21T23:26:16.936Z"
   },
   {
    "duration": 991,
    "start_time": "2024-12-21T23:28:51.770Z"
   },
   {
    "duration": 4,
    "start_time": "2024-12-21T23:29:22.835Z"
   },
   {
    "duration": 10,
    "start_time": "2024-12-21T23:29:35.307Z"
   },
   {
    "duration": 1117,
    "start_time": "2024-12-21T23:29:58.793Z"
   },
   {
    "duration": 26,
    "start_time": "2024-12-21T23:29:59.912Z"
   },
   {
    "duration": 11,
    "start_time": "2024-12-21T23:29:59.939Z"
   },
   {
    "duration": 23,
    "start_time": "2024-12-21T23:29:59.953Z"
   },
   {
    "duration": 14,
    "start_time": "2024-12-21T23:29:59.979Z"
   },
   {
    "duration": 11,
    "start_time": "2024-12-21T23:29:59.994Z"
   },
   {
    "duration": 98,
    "start_time": "2024-12-21T23:30:00.007Z"
   },
   {
    "duration": 7,
    "start_time": "2024-12-21T23:30:00.106Z"
   },
   {
    "duration": 29,
    "start_time": "2024-12-21T23:30:00.115Z"
   },
   {
    "duration": 20,
    "start_time": "2024-12-21T23:30:00.147Z"
   },
   {
    "duration": 27,
    "start_time": "2024-12-21T23:30:00.169Z"
   },
   {
    "duration": 13,
    "start_time": "2024-12-21T23:30:00.197Z"
   },
   {
    "duration": 16,
    "start_time": "2024-12-21T23:30:00.211Z"
   },
   {
    "duration": 11,
    "start_time": "2024-12-21T23:30:00.228Z"
   },
   {
    "duration": 31,
    "start_time": "2024-12-21T23:30:00.241Z"
   },
   {
    "duration": 24,
    "start_time": "2024-12-21T23:30:00.274Z"
   },
   {
    "duration": 31,
    "start_time": "2024-12-21T23:30:00.300Z"
   },
   {
    "duration": 56,
    "start_time": "2024-12-21T23:30:00.332Z"
   },
   {
    "duration": 76,
    "start_time": "2024-12-21T23:30:00.390Z"
   },
   {
    "duration": 22,
    "start_time": "2024-12-21T23:30:00.468Z"
   },
   {
    "duration": 20,
    "start_time": "2024-12-21T23:30:00.491Z"
   },
   {
    "duration": 14,
    "start_time": "2024-12-21T23:30:00.513Z"
   },
   {
    "duration": 7,
    "start_time": "2024-12-21T23:30:00.529Z"
   },
   {
    "duration": 166,
    "start_time": "2024-12-21T23:30:00.537Z"
   },
   {
    "duration": 112,
    "start_time": "2024-12-21T23:30:00.705Z"
   },
   {
    "duration": 6,
    "start_time": "2024-12-21T23:30:00.818Z"
   },
   {
    "duration": 6,
    "start_time": "2024-12-21T23:30:00.825Z"
   },
   {
    "duration": 7,
    "start_time": "2024-12-21T23:30:00.849Z"
   },
   {
    "duration": 427,
    "start_time": "2024-12-21T23:30:00.858Z"
   },
   {
    "duration": 367,
    "start_time": "2024-12-21T23:30:01.286Z"
   },
   {
    "duration": 5,
    "start_time": "2024-12-21T23:30:01.655Z"
   },
   {
    "duration": 432,
    "start_time": "2024-12-21T23:30:01.661Z"
   },
   {
    "duration": 386,
    "start_time": "2024-12-21T23:30:02.096Z"
   },
   {
    "duration": 487,
    "start_time": "2024-12-21T23:30:02.484Z"
   },
   {
    "duration": 7,
    "start_time": "2024-12-21T23:30:02.973Z"
   },
   {
    "duration": 416,
    "start_time": "2024-12-21T23:30:02.982Z"
   },
   {
    "duration": 4,
    "start_time": "2024-12-21T23:30:03.399Z"
   },
   {
    "duration": 459,
    "start_time": "2024-12-21T23:30:03.404Z"
   },
   {
    "duration": 4,
    "start_time": "2024-12-21T23:30:03.864Z"
   },
   {
    "duration": 124,
    "start_time": "2024-12-21T23:30:03.869Z"
   },
   {
    "duration": 71,
    "start_time": "2024-12-21T23:30:03.995Z"
   },
   {
    "duration": 108,
    "start_time": "2024-12-21T23:30:04.067Z"
   },
   {
    "duration": 19,
    "start_time": "2024-12-21T23:30:04.177Z"
   },
   {
    "duration": 154,
    "start_time": "2024-12-21T23:30:04.198Z"
   },
   {
    "duration": 22,
    "start_time": "2024-12-21T23:30:04.353Z"
   },
   {
    "duration": 11,
    "start_time": "2024-12-21T23:30:04.376Z"
   },
   {
    "duration": 9,
    "start_time": "2024-12-21T23:30:04.388Z"
   },
   {
    "duration": 89,
    "start_time": "2024-12-21T23:30:04.398Z"
   },
   {
    "duration": 56,
    "start_time": "2024-12-21T23:30:04.489Z"
   },
   {
    "duration": 44,
    "start_time": "2024-12-21T23:30:04.547Z"
   },
   {
    "duration": 97,
    "start_time": "2024-12-21T23:30:53.218Z"
   },
   {
    "duration": 1003,
    "start_time": "2024-12-21T23:31:25.979Z"
   },
   {
    "duration": 25,
    "start_time": "2024-12-21T23:31:26.984Z"
   },
   {
    "duration": 11,
    "start_time": "2024-12-21T23:31:27.010Z"
   },
   {
    "duration": 4,
    "start_time": "2024-12-21T23:31:27.023Z"
   },
   {
    "duration": 11,
    "start_time": "2024-12-21T23:31:27.028Z"
   },
   {
    "duration": 18,
    "start_time": "2024-12-21T23:31:27.040Z"
   },
   {
    "duration": 56,
    "start_time": "2024-12-21T23:31:27.060Z"
   },
   {
    "duration": 7,
    "start_time": "2024-12-21T23:31:27.118Z"
   },
   {
    "duration": 9,
    "start_time": "2024-12-21T23:31:27.126Z"
   },
   {
    "duration": 25,
    "start_time": "2024-12-21T23:31:27.137Z"
   },
   {
    "duration": 11,
    "start_time": "2024-12-21T23:31:27.163Z"
   },
   {
    "duration": 12,
    "start_time": "2024-12-21T23:31:27.175Z"
   },
   {
    "duration": 6,
    "start_time": "2024-12-21T23:31:27.189Z"
   },
   {
    "duration": 7,
    "start_time": "2024-12-21T23:31:27.196Z"
   },
   {
    "duration": 14,
    "start_time": "2024-12-21T23:31:27.204Z"
   },
   {
    "duration": 14,
    "start_time": "2024-12-21T23:31:27.219Z"
   },
   {
    "duration": 5,
    "start_time": "2024-12-21T23:31:27.234Z"
   },
   {
    "duration": 22,
    "start_time": "2024-12-21T23:31:27.240Z"
   },
   {
    "duration": 3,
    "start_time": "2024-12-21T23:31:27.264Z"
   },
   {
    "duration": 6,
    "start_time": "2024-12-21T23:31:27.268Z"
   },
   {
    "duration": 8,
    "start_time": "2024-12-21T23:31:27.276Z"
   },
   {
    "duration": 3,
    "start_time": "2024-12-21T23:31:27.286Z"
   },
   {
    "duration": 5,
    "start_time": "2024-12-21T23:31:27.291Z"
   },
   {
    "duration": 6,
    "start_time": "2024-12-21T23:31:27.297Z"
   },
   {
    "duration": 162,
    "start_time": "2024-12-21T23:31:27.304Z"
   },
   {
    "duration": 117,
    "start_time": "2024-12-21T23:31:27.467Z"
   },
   {
    "duration": 16,
    "start_time": "2024-12-21T23:31:27.585Z"
   },
   {
    "duration": 4,
    "start_time": "2024-12-21T23:31:27.604Z"
   },
   {
    "duration": 6,
    "start_time": "2024-12-21T23:31:27.610Z"
   },
   {
    "duration": 434,
    "start_time": "2024-12-21T23:31:27.617Z"
   },
   {
    "duration": 323,
    "start_time": "2024-12-21T23:31:28.053Z"
   },
   {
    "duration": 6,
    "start_time": "2024-12-21T23:31:28.377Z"
   },
   {
    "duration": 444,
    "start_time": "2024-12-21T23:31:28.384Z"
   },
   {
    "duration": 477,
    "start_time": "2024-12-21T23:31:28.829Z"
   },
   {
    "duration": 662,
    "start_time": "2024-12-21T23:31:29.308Z"
   },
   {
    "duration": 5,
    "start_time": "2024-12-21T23:31:29.972Z"
   },
   {
    "duration": 574,
    "start_time": "2024-12-21T23:31:29.978Z"
   },
   {
    "duration": 4,
    "start_time": "2024-12-21T23:31:30.553Z"
   },
   {
    "duration": 404,
    "start_time": "2024-12-21T23:31:30.558Z"
   },
   {
    "duration": 3,
    "start_time": "2024-12-21T23:31:30.963Z"
   },
   {
    "duration": 109,
    "start_time": "2024-12-21T23:31:30.968Z"
   },
   {
    "duration": 52,
    "start_time": "2024-12-21T23:31:31.078Z"
   },
   {
    "duration": 105,
    "start_time": "2024-12-21T23:31:31.132Z"
   },
   {
    "duration": 18,
    "start_time": "2024-12-21T23:31:31.245Z"
   },
   {
    "duration": 137,
    "start_time": "2024-12-21T23:31:31.265Z"
   },
   {
    "duration": 20,
    "start_time": "2024-12-21T23:31:31.403Z"
   },
   {
    "duration": 68,
    "start_time": "2024-12-21T23:31:31.424Z"
   },
   {
    "duration": 15,
    "start_time": "2024-12-21T23:31:31.494Z"
   },
   {
    "duration": 16,
    "start_time": "2024-12-21T23:31:31.510Z"
   },
   {
    "duration": 37,
    "start_time": "2024-12-21T23:31:31.527Z"
   },
   {
    "duration": 12,
    "start_time": "2024-12-21T23:31:31.565Z"
   },
   {
    "duration": 5,
    "start_time": "2024-12-21T23:32:31.906Z"
   },
   {
    "duration": 10,
    "start_time": "2024-12-21T23:32:34.227Z"
   },
   {
    "duration": 3,
    "start_time": "2024-12-21T23:32:38.244Z"
   },
   {
    "duration": 13,
    "start_time": "2024-12-21T23:34:17.309Z"
   },
   {
    "duration": 6,
    "start_time": "2024-12-21T23:35:47.637Z"
   },
   {
    "duration": 10,
    "start_time": "2024-12-21T23:35:49.569Z"
   },
   {
    "duration": 3,
    "start_time": "2024-12-21T23:35:56.395Z"
   },
   {
    "duration": 10,
    "start_time": "2024-12-21T23:36:05.512Z"
   },
   {
    "duration": 9,
    "start_time": "2024-12-21T23:36:32.154Z"
   },
   {
    "duration": 12,
    "start_time": "2024-12-21T23:37:01.659Z"
   },
   {
    "duration": 4,
    "start_time": "2024-12-21T23:37:22.507Z"
   },
   {
    "duration": 11,
    "start_time": "2024-12-21T23:37:24.105Z"
   },
   {
    "duration": 1026,
    "start_time": "2024-12-21T23:41:11.462Z"
   },
   {
    "duration": 26,
    "start_time": "2024-12-21T23:41:12.489Z"
   },
   {
    "duration": 11,
    "start_time": "2024-12-21T23:41:12.516Z"
   },
   {
    "duration": 6,
    "start_time": "2024-12-21T23:41:12.529Z"
   },
   {
    "duration": 10,
    "start_time": "2024-12-21T23:41:12.538Z"
   },
   {
    "duration": 34,
    "start_time": "2024-12-21T23:41:12.550Z"
   },
   {
    "duration": 47,
    "start_time": "2024-12-21T23:41:12.586Z"
   },
   {
    "duration": 8,
    "start_time": "2024-12-21T23:41:12.634Z"
   },
   {
    "duration": 13,
    "start_time": "2024-12-21T23:41:12.643Z"
   },
   {
    "duration": 7,
    "start_time": "2024-12-21T23:41:12.657Z"
   },
   {
    "duration": 15,
    "start_time": "2024-12-21T23:41:12.665Z"
   },
   {
    "duration": 8,
    "start_time": "2024-12-21T23:41:12.688Z"
   },
   {
    "duration": 11,
    "start_time": "2024-12-21T23:41:12.698Z"
   },
   {
    "duration": 5,
    "start_time": "2024-12-21T23:41:12.713Z"
   },
   {
    "duration": 16,
    "start_time": "2024-12-21T23:41:12.720Z"
   },
   {
    "duration": 4,
    "start_time": "2024-12-21T23:41:12.745Z"
   },
   {
    "duration": 6,
    "start_time": "2024-12-21T23:41:12.750Z"
   },
   {
    "duration": 8,
    "start_time": "2024-12-21T23:41:12.758Z"
   },
   {
    "duration": 17,
    "start_time": "2024-12-21T23:41:12.767Z"
   },
   {
    "duration": 9,
    "start_time": "2024-12-21T23:41:12.785Z"
   },
   {
    "duration": 7,
    "start_time": "2024-12-21T23:41:12.796Z"
   },
   {
    "duration": 6,
    "start_time": "2024-12-21T23:41:12.805Z"
   },
   {
    "duration": 8,
    "start_time": "2024-12-21T23:41:12.812Z"
   },
   {
    "duration": 178,
    "start_time": "2024-12-21T23:41:12.821Z"
   },
   {
    "duration": 115,
    "start_time": "2024-12-21T23:41:13.001Z"
   },
   {
    "duration": 6,
    "start_time": "2024-12-21T23:41:13.118Z"
   },
   {
    "duration": 4,
    "start_time": "2024-12-21T23:41:13.126Z"
   },
   {
    "duration": 18,
    "start_time": "2024-12-21T23:41:13.131Z"
   },
   {
    "duration": 421,
    "start_time": "2024-12-21T23:41:13.151Z"
   },
   {
    "duration": 377,
    "start_time": "2024-12-21T23:41:13.574Z"
   },
   {
    "duration": 5,
    "start_time": "2024-12-21T23:41:13.953Z"
   },
   {
    "duration": 414,
    "start_time": "2024-12-21T23:41:13.959Z"
   },
   {
    "duration": 356,
    "start_time": "2024-12-21T23:41:14.375Z"
   },
   {
    "duration": 443,
    "start_time": "2024-12-21T23:41:14.733Z"
   },
   {
    "duration": 6,
    "start_time": "2024-12-21T23:41:15.177Z"
   },
   {
    "duration": 417,
    "start_time": "2024-12-21T23:41:15.184Z"
   },
   {
    "duration": 4,
    "start_time": "2024-12-21T23:41:15.602Z"
   },
   {
    "duration": 395,
    "start_time": "2024-12-21T23:41:15.607Z"
   },
   {
    "duration": 4,
    "start_time": "2024-12-21T23:41:16.003Z"
   },
   {
    "duration": 133,
    "start_time": "2024-12-21T23:41:16.009Z"
   },
   {
    "duration": 71,
    "start_time": "2024-12-21T23:41:16.146Z"
   },
   {
    "duration": 101,
    "start_time": "2024-12-21T23:41:16.219Z"
   },
   {
    "duration": 28,
    "start_time": "2024-12-21T23:41:16.322Z"
   },
   {
    "duration": 121,
    "start_time": "2024-12-21T23:41:16.351Z"
   },
   {
    "duration": 19,
    "start_time": "2024-12-21T23:41:16.473Z"
   },
   {
    "duration": 9,
    "start_time": "2024-12-21T23:41:16.493Z"
   },
   {
    "duration": 9,
    "start_time": "2024-12-21T23:41:16.503Z"
   },
   {
    "duration": 7,
    "start_time": "2024-12-21T23:41:16.513Z"
   },
   {
    "duration": 23,
    "start_time": "2024-12-21T23:41:16.545Z"
   },
   {
    "duration": 10,
    "start_time": "2024-12-21T23:41:16.570Z"
   },
   {
    "duration": 10,
    "start_time": "2024-12-21T23:41:53.019Z"
   },
   {
    "duration": 66,
    "start_time": "2024-12-22T00:01:15.379Z"
   },
   {
    "duration": 19,
    "start_time": "2024-12-22T00:01:25.277Z"
   },
   {
    "duration": 73,
    "start_time": "2024-12-22T00:01:31.217Z"
   },
   {
    "duration": 20,
    "start_time": "2024-12-22T00:02:15.858Z"
   },
   {
    "duration": 95,
    "start_time": "2024-12-22T00:05:28.834Z"
   },
   {
    "duration": 13,
    "start_time": "2024-12-22T00:05:40.252Z"
   },
   {
    "duration": 5,
    "start_time": "2024-12-22T00:06:26.004Z"
   },
   {
    "duration": 9,
    "start_time": "2024-12-22T00:07:20.006Z"
   },
   {
    "duration": 9,
    "start_time": "2024-12-22T00:09:34.930Z"
   },
   {
    "duration": 1024,
    "start_time": "2024-12-22T00:21:20.550Z"
   },
   {
    "duration": 25,
    "start_time": "2024-12-22T00:21:21.576Z"
   },
   {
    "duration": 23,
    "start_time": "2024-12-22T00:21:21.602Z"
   },
   {
    "duration": 56,
    "start_time": "2024-12-22T00:21:21.627Z"
   },
   {
    "duration": 14,
    "start_time": "2024-12-22T00:21:21.685Z"
   },
   {
    "duration": 10,
    "start_time": "2024-12-22T00:21:21.700Z"
   },
   {
    "duration": 46,
    "start_time": "2024-12-22T00:21:21.712Z"
   },
   {
    "duration": 8,
    "start_time": "2024-12-22T00:21:21.759Z"
   },
   {
    "duration": 10,
    "start_time": "2024-12-22T00:21:21.768Z"
   },
   {
    "duration": 5,
    "start_time": "2024-12-22T00:21:21.781Z"
   },
   {
    "duration": 27,
    "start_time": "2024-12-22T00:21:21.788Z"
   },
   {
    "duration": 14,
    "start_time": "2024-12-22T00:21:21.817Z"
   },
   {
    "duration": 6,
    "start_time": "2024-12-22T00:21:21.833Z"
   },
   {
    "duration": 7,
    "start_time": "2024-12-22T00:21:21.841Z"
   },
   {
    "duration": 13,
    "start_time": "2024-12-22T00:21:21.849Z"
   },
   {
    "duration": 4,
    "start_time": "2024-12-22T00:21:21.864Z"
   },
   {
    "duration": 4,
    "start_time": "2024-12-22T00:21:21.869Z"
   },
   {
    "duration": 9,
    "start_time": "2024-12-22T00:21:21.875Z"
   },
   {
    "duration": 6,
    "start_time": "2024-12-22T00:21:21.886Z"
   },
   {
    "duration": 9,
    "start_time": "2024-12-22T00:21:21.893Z"
   },
   {
    "duration": 4,
    "start_time": "2024-12-22T00:21:21.903Z"
   },
   {
    "duration": 37,
    "start_time": "2024-12-22T00:21:21.909Z"
   },
   {
    "duration": 10,
    "start_time": "2024-12-22T00:21:21.948Z"
   },
   {
    "duration": 23,
    "start_time": "2024-12-22T00:21:21.959Z"
   },
   {
    "duration": 144,
    "start_time": "2024-12-22T00:21:21.983Z"
   },
   {
    "duration": 102,
    "start_time": "2024-12-22T00:21:22.129Z"
   },
   {
    "duration": 15,
    "start_time": "2024-12-22T00:21:22.233Z"
   },
   {
    "duration": 3,
    "start_time": "2024-12-22T00:21:22.252Z"
   },
   {
    "duration": 19,
    "start_time": "2024-12-22T00:21:22.257Z"
   },
   {
    "duration": 381,
    "start_time": "2024-12-22T00:21:22.278Z"
   },
   {
    "duration": 375,
    "start_time": "2024-12-22T00:21:22.661Z"
   },
   {
    "duration": 5,
    "start_time": "2024-12-22T00:21:23.045Z"
   },
   {
    "duration": 413,
    "start_time": "2024-12-22T00:21:23.051Z"
   },
   {
    "duration": 334,
    "start_time": "2024-12-22T00:21:23.465Z"
   },
   {
    "duration": 452,
    "start_time": "2024-12-22T00:21:23.800Z"
   },
   {
    "duration": 6,
    "start_time": "2024-12-22T00:21:24.254Z"
   },
   {
    "duration": 379,
    "start_time": "2024-12-22T00:21:24.262Z"
   },
   {
    "duration": 4,
    "start_time": "2024-12-22T00:21:24.643Z"
   },
   {
    "duration": 385,
    "start_time": "2024-12-22T00:21:24.649Z"
   },
   {
    "duration": 3,
    "start_time": "2024-12-22T00:21:25.036Z"
   },
   {
    "duration": 121,
    "start_time": "2024-12-22T00:21:25.040Z"
   },
   {
    "duration": 40,
    "start_time": "2024-12-22T00:21:25.162Z"
   },
   {
    "duration": 102,
    "start_time": "2024-12-22T00:21:25.203Z"
   },
   {
    "duration": 17,
    "start_time": "2024-12-22T00:21:25.307Z"
   },
   {
    "duration": 138,
    "start_time": "2024-12-22T00:21:25.326Z"
   },
   {
    "duration": 20,
    "start_time": "2024-12-22T00:21:25.466Z"
   },
   {
    "duration": 8,
    "start_time": "2024-12-22T00:21:25.488Z"
   },
   {
    "duration": 15,
    "start_time": "2024-12-22T00:21:25.498Z"
   },
   {
    "duration": 15,
    "start_time": "2024-12-22T00:21:25.514Z"
   },
   {
    "duration": 32,
    "start_time": "2024-12-22T00:21:25.530Z"
   },
   {
    "duration": 12,
    "start_time": "2024-12-22T00:21:25.564Z"
   },
   {
    "duration": 1015,
    "start_time": "2024-12-22T00:31:11.454Z"
   },
   {
    "duration": 24,
    "start_time": "2024-12-22T00:31:12.471Z"
   },
   {
    "duration": 10,
    "start_time": "2024-12-22T00:31:12.497Z"
   },
   {
    "duration": 2,
    "start_time": "2024-12-22T00:31:12.508Z"
   },
   {
    "duration": 10,
    "start_time": "2024-12-22T00:31:12.512Z"
   },
   {
    "duration": 10,
    "start_time": "2024-12-22T00:31:12.523Z"
   },
   {
    "duration": 55,
    "start_time": "2024-12-22T00:31:12.534Z"
   },
   {
    "duration": 7,
    "start_time": "2024-12-22T00:31:12.590Z"
   },
   {
    "duration": 11,
    "start_time": "2024-12-22T00:31:12.598Z"
   },
   {
    "duration": 78,
    "start_time": "2024-12-22T00:31:12.610Z"
   },
   {
    "duration": 16,
    "start_time": "2024-12-22T00:31:12.690Z"
   },
   {
    "duration": 7,
    "start_time": "2024-12-22T00:31:12.707Z"
   },
   {
    "duration": 7,
    "start_time": "2024-12-22T00:31:12.715Z"
   },
   {
    "duration": 6,
    "start_time": "2024-12-22T00:31:12.725Z"
   },
   {
    "duration": 9,
    "start_time": "2024-12-22T00:31:12.733Z"
   },
   {
    "duration": 5,
    "start_time": "2024-12-22T00:31:12.744Z"
   },
   {
    "duration": 9,
    "start_time": "2024-12-22T00:31:12.751Z"
   },
   {
    "duration": 12,
    "start_time": "2024-12-22T00:31:12.762Z"
   },
   {
    "duration": 12,
    "start_time": "2024-12-22T00:31:12.775Z"
   },
   {
    "duration": 8,
    "start_time": "2024-12-22T00:31:12.788Z"
   },
   {
    "duration": 11,
    "start_time": "2024-12-22T00:31:12.798Z"
   },
   {
    "duration": 11,
    "start_time": "2024-12-22T00:31:12.810Z"
   },
   {
    "duration": 9,
    "start_time": "2024-12-22T00:31:12.822Z"
   },
   {
    "duration": 12,
    "start_time": "2024-12-22T00:31:12.845Z"
   },
   {
    "duration": 137,
    "start_time": "2024-12-22T00:31:12.858Z"
   },
   {
    "duration": 105,
    "start_time": "2024-12-22T00:31:12.996Z"
   },
   {
    "duration": 5,
    "start_time": "2024-12-22T00:31:13.102Z"
   },
   {
    "duration": 8,
    "start_time": "2024-12-22T00:31:13.109Z"
   },
   {
    "duration": 8,
    "start_time": "2024-12-22T00:31:13.119Z"
   },
   {
    "duration": 430,
    "start_time": "2024-12-22T00:31:13.129Z"
   },
   {
    "duration": 328,
    "start_time": "2024-12-22T00:31:13.560Z"
   },
   {
    "duration": 5,
    "start_time": "2024-12-22T00:31:13.889Z"
   },
   {
    "duration": 424,
    "start_time": "2024-12-22T00:31:13.895Z"
   },
   {
    "duration": 338,
    "start_time": "2024-12-22T00:31:14.321Z"
   },
   {
    "duration": 417,
    "start_time": "2024-12-22T00:31:14.660Z"
   },
   {
    "duration": 6,
    "start_time": "2024-12-22T00:31:15.078Z"
   },
   {
    "duration": 412,
    "start_time": "2024-12-22T00:31:15.085Z"
   },
   {
    "duration": 4,
    "start_time": "2024-12-22T00:31:15.498Z"
   },
   {
    "duration": 394,
    "start_time": "2024-12-22T00:31:15.504Z"
   },
   {
    "duration": 3,
    "start_time": "2024-12-22T00:31:15.900Z"
   },
   {
    "duration": 110,
    "start_time": "2024-12-22T00:31:15.907Z"
   },
   {
    "duration": 50,
    "start_time": "2024-12-22T00:31:16.019Z"
   },
   {
    "duration": 108,
    "start_time": "2024-12-22T00:31:16.071Z"
   },
   {
    "duration": 22,
    "start_time": "2024-12-22T00:31:16.181Z"
   },
   {
    "duration": 152,
    "start_time": "2024-12-22T00:31:16.205Z"
   },
   {
    "duration": 20,
    "start_time": "2024-12-22T00:31:16.359Z"
   },
   {
    "duration": 9,
    "start_time": "2024-12-22T00:31:16.380Z"
   },
   {
    "duration": 10,
    "start_time": "2024-12-22T00:31:16.390Z"
   },
   {
    "duration": 8,
    "start_time": "2024-12-22T00:31:16.402Z"
   },
   {
    "duration": 54,
    "start_time": "2024-12-22T00:31:16.411Z"
   },
   {
    "duration": 13,
    "start_time": "2024-12-22T00:31:16.466Z"
   },
   {
    "duration": 1107,
    "start_time": "2024-12-22T09:28:31.870Z"
   },
   {
    "duration": 26,
    "start_time": "2024-12-22T09:28:32.979Z"
   },
   {
    "duration": 41,
    "start_time": "2024-12-22T09:28:33.007Z"
   },
   {
    "duration": 46,
    "start_time": "2024-12-22T09:28:33.051Z"
   },
   {
    "duration": 19,
    "start_time": "2024-12-22T09:28:33.099Z"
   },
   {
    "duration": 29,
    "start_time": "2024-12-22T09:28:33.119Z"
   },
   {
    "duration": 160,
    "start_time": "2024-12-22T09:28:33.149Z"
   },
   {
    "duration": 8,
    "start_time": "2024-12-22T09:28:33.310Z"
   },
   {
    "duration": 31,
    "start_time": "2024-12-22T09:28:33.319Z"
   },
   {
    "duration": 9,
    "start_time": "2024-12-22T09:28:33.354Z"
   },
   {
    "duration": 26,
    "start_time": "2024-12-22T09:28:33.365Z"
   },
   {
    "duration": 10,
    "start_time": "2024-12-22T09:28:33.393Z"
   },
   {
    "duration": 36,
    "start_time": "2024-12-22T09:28:33.405Z"
   },
   {
    "duration": 15,
    "start_time": "2024-12-22T09:28:33.443Z"
   },
   {
    "duration": 23,
    "start_time": "2024-12-22T09:28:33.460Z"
   },
   {
    "duration": 16,
    "start_time": "2024-12-22T09:28:33.484Z"
   },
   {
    "duration": 38,
    "start_time": "2024-12-22T09:28:33.501Z"
   },
   {
    "duration": 20,
    "start_time": "2024-12-22T09:28:33.541Z"
   },
   {
    "duration": 10,
    "start_time": "2024-12-22T09:28:33.562Z"
   },
   {
    "duration": 46,
    "start_time": "2024-12-22T09:28:33.573Z"
   },
   {
    "duration": 29,
    "start_time": "2024-12-22T09:28:33.625Z"
   },
   {
    "duration": 30,
    "start_time": "2024-12-22T09:28:33.656Z"
   },
   {
    "duration": 53,
    "start_time": "2024-12-22T09:28:33.688Z"
   },
   {
    "duration": 52,
    "start_time": "2024-12-22T09:28:33.742Z"
   },
   {
    "duration": 162,
    "start_time": "2024-12-22T09:28:33.796Z"
   },
   {
    "duration": 135,
    "start_time": "2024-12-22T09:28:33.959Z"
   },
   {
    "duration": 5,
    "start_time": "2024-12-22T09:28:34.096Z"
   },
   {
    "duration": 113,
    "start_time": "2024-12-22T09:28:34.104Z"
   },
   {
    "duration": 19,
    "start_time": "2024-12-22T09:28:34.219Z"
   },
   {
    "duration": 907,
    "start_time": "2024-12-22T09:28:34.240Z"
   },
   {
    "duration": 721,
    "start_time": "2024-12-22T09:28:35.148Z"
   },
   {
    "duration": 6,
    "start_time": "2024-12-22T09:28:35.870Z"
   },
   {
    "duration": 510,
    "start_time": "2024-12-22T09:28:35.877Z"
   },
   {
    "duration": 376,
    "start_time": "2024-12-22T09:28:36.389Z"
   },
   {
    "duration": 481,
    "start_time": "2024-12-22T09:28:36.766Z"
   },
   {
    "duration": 7,
    "start_time": "2024-12-22T09:28:37.249Z"
   },
   {
    "duration": 452,
    "start_time": "2024-12-22T09:28:37.257Z"
   },
   {
    "duration": 13,
    "start_time": "2024-12-22T09:28:37.711Z"
   },
   {
    "duration": 483,
    "start_time": "2024-12-22T09:28:37.727Z"
   },
   {
    "duration": 4,
    "start_time": "2024-12-22T09:28:38.211Z"
   },
   {
    "duration": 175,
    "start_time": "2024-12-22T09:28:38.226Z"
   },
   {
    "duration": 61,
    "start_time": "2024-12-22T09:28:38.402Z"
   },
   {
    "duration": 127,
    "start_time": "2024-12-22T09:28:38.465Z"
   },
   {
    "duration": 30,
    "start_time": "2024-12-22T09:28:38.594Z"
   },
   {
    "duration": 133,
    "start_time": "2024-12-22T09:28:38.632Z"
   },
   {
    "duration": 25,
    "start_time": "2024-12-22T09:28:38.766Z"
   },
   {
    "duration": 34,
    "start_time": "2024-12-22T09:28:38.793Z"
   },
   {
    "duration": 16,
    "start_time": "2024-12-22T09:28:38.828Z"
   },
   {
    "duration": 9,
    "start_time": "2024-12-22T09:28:38.846Z"
   },
   {
    "duration": 24,
    "start_time": "2024-12-22T09:28:38.857Z"
   },
   {
    "duration": 12,
    "start_time": "2024-12-22T09:28:38.883Z"
   }
  ],
  "kernelspec": {
   "display_name": "Python 3 (ipykernel)",
   "language": "python",
   "name": "python3"
  },
  "language_info": {
   "codemirror_mode": {
    "name": "ipython",
    "version": 3
   },
   "file_extension": ".py",
   "mimetype": "text/x-python",
   "name": "python",
   "nbconvert_exporter": "python",
   "pygments_lexer": "ipython3",
   "version": "3.9.5"
  },
  "toc": {
   "base_numbering": 1,
   "nav_menu": {},
   "number_sections": true,
   "sideBar": true,
   "skip_h1_title": true,
   "title_cell": "Table of Contents",
   "title_sidebar": "Contents",
   "toc_cell": false,
   "toc_position": {
    "height": "calc(100% - 180px)",
    "left": "10px",
    "top": "150px",
    "width": "374.375px"
   },
   "toc_section_display": true,
   "toc_window_display": true
  }
 },
 "nbformat": 4,
 "nbformat_minor": 5
}
