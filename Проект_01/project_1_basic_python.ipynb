{
  "cells": [
    {
      "cell_type": "markdown",
      "metadata": {
        "deletable": false,
        "editable": false,
        "id": "E0vqbgi9ay0H"
      },
      "source": [
        "# Яндекс Музыка"
      ]
    },
    {
      "cell_type": "markdown",
      "metadata": {
        "deletable": false,
        "editable": false,
        "id": "VUC88oWjTJw2"
      },
      "source": [
        "Сравнение Москвы и Петербурга окружено мифами. Например:\n",
        " * Москва — мегаполис, подчинённый жёсткому ритму рабочей недели;\n",
        " * Петербург — культурная столица, со своими вкусами.\n",
        "\n",
        "На данных Яндекс Музыки вы сравните поведение пользователей двух столиц.\n",
        "\n",
        "**Цель исследования** — проверьте три гипотезы:\n",
        "1. Активность пользователей зависит от дня недели. Причём в Москве и Петербурге это проявляется по-разному.\n",
        "2. В понедельник утром в Москве преобладают одни жанры, а в Петербурге — другие. Так же и вечером пятницы преобладают разные жанры — в зависимости от города.\n",
        "3. Москва и Петербург предпочитают разные жанры музыки. В Москве чаще слушают поп-музыку, в Петербурге — русский рэп.\n",
        "\n",
        "**Ход исследования**\n",
        "\n",
        "Данные о поведении пользователей вы получите из файла `yandex_music_project.csv`. О качестве данных ничего не известно. Поэтому перед проверкой гипотез понадобится обзор данных.\n",
        "\n",
        "Вы проверите данные на ошибки и оцените их влияние на исследование. Затем, на этапе предобработки вы поищете возможность исправить самые критичные ошибки данных.\n",
        "\n",
        "Таким образом, исследование пройдёт в три этапа:\n",
        " 1. Обзор данных.\n",
        " 2. Предобработка данных.\n",
        " 3. Проверка гипотез.\n",
        "\n"
      ]
    },
    {
      "cell_type": "markdown",
      "metadata": {
        "deletable": false,
        "editable": false,
        "id": "Ml1hmfXC_Zcs"
      },
      "source": [
        "## Обзор данных\n",
        "\n",
        "Составьте первое представление о данных Яндекс Музыки.\n",
        "\n",
        "\n"
      ]
    },
    {
      "cell_type": "markdown",
      "metadata": {
        "deletable": false,
        "editable": false,
        "id": "57eAOGIz_Zcs",
        "tags": [
          "start_task"
        ]
      },
      "source": [
        "**Задание 1**"
      ]
    },
    {
      "cell_type": "code",
      "execution_count": 1,
      "metadata": {
        "deletable": false,
        "id": "AXN7PHPN_Zcs"
      },
      "outputs": [],
      "source": [
        "# импорт библиотеки pandas\n",
        "import pandas as pd"
      ]
    },
    {
      "cell_type": "markdown",
      "metadata": {
        "deletable": false,
        "editable": false,
        "id": "SG23P8tt_Zcs",
        "tags": [
          "start_task"
        ]
      },
      "source": [
        "**Задание 2**"
      ]
    },
    {
      "cell_type": "code",
      "execution_count": 2,
      "metadata": {
        "deletable": false,
        "id": "fFVu7vqh_Zct"
      },
      "outputs": [],
      "source": [
        "# чтение файла с данными и сохранение в df\n",
        "df = pd.read_csv('/content/yandex_music_project.csv')"
      ]
    },
    {
      "cell_type": "markdown",
      "metadata": {
        "deletable": false,
        "editable": false,
        "id": "rDoOMd3uTqnZ",
        "tags": [
          "start_task"
        ]
      },
      "source": [
        "**Задание 3**"
      ]
    },
    {
      "cell_type": "code",
      "execution_count": 3,
      "metadata": {
        "deletable": false,
        "id": "oWTVX3gW_Zct",
        "colab": {
          "base_uri": "https://localhost:8080/",
          "height": 363
        },
        "outputId": "f60527b1-7964-4c81-8ed6-51369e1a8e9c"
      },
      "outputs": [
        {
          "output_type": "execute_result",
          "data": {
            "text/plain": [
              "     userID                        Track            artist   genre  \\\n",
              "0  FFB692EC            Kamigata To Boots  The Mass Missile    rock   \n",
              "1  55204538  Delayed Because of Accident  Andreas Rönnberg    rock   \n",
              "2    20EC38            Funiculì funiculà       Mario Lanza     pop   \n",
              "3  A3DD03C9        Dragons in the Sunset        Fire + Ice    folk   \n",
              "4  E2DC1FAE                  Soul People        Space Echo   dance   \n",
              "5  842029A1                    Преданная         IMPERVTOR  rusrap   \n",
              "6  4CB90AA5                         True      Roman Messer   dance   \n",
              "7  F03E1C1F             Feeling This Way   Polina Griffith   dance   \n",
              "8  8FA1D3BE     И вновь продолжается бой               NaN  ruspop   \n",
              "9  E772D5C0                    Pessimist               NaN   dance   \n",
              "\n",
              "             City        time        Day  \n",
              "0  Saint-Petersburg  20:28:33  Wednesday  \n",
              "1            Moscow  14:07:09     Friday  \n",
              "2  Saint-Petersburg  20:58:07  Wednesday  \n",
              "3  Saint-Petersburg  08:37:09     Monday  \n",
              "4            Moscow  08:34:34     Monday  \n",
              "5  Saint-Petersburg  13:09:41     Friday  \n",
              "6            Moscow  13:00:07  Wednesday  \n",
              "7            Moscow  20:47:49  Wednesday  \n",
              "8            Moscow  09:17:40     Friday  \n",
              "9  Saint-Petersburg  21:20:49  Wednesday  "
            ],
            "text/html": [
              "\n",
              "  <div id=\"df-bf902d87-8d76-473a-9a05-3061aefe28cc\" class=\"colab-df-container\">\n",
              "    <div>\n",
              "<style scoped>\n",
              "    .dataframe tbody tr th:only-of-type {\n",
              "        vertical-align: middle;\n",
              "    }\n",
              "\n",
              "    .dataframe tbody tr th {\n",
              "        vertical-align: top;\n",
              "    }\n",
              "\n",
              "    .dataframe thead th {\n",
              "        text-align: right;\n",
              "    }\n",
              "</style>\n",
              "<table border=\"1\" class=\"dataframe\">\n",
              "  <thead>\n",
              "    <tr style=\"text-align: right;\">\n",
              "      <th></th>\n",
              "      <th>userID</th>\n",
              "      <th>Track</th>\n",
              "      <th>artist</th>\n",
              "      <th>genre</th>\n",
              "      <th>City</th>\n",
              "      <th>time</th>\n",
              "      <th>Day</th>\n",
              "    </tr>\n",
              "  </thead>\n",
              "  <tbody>\n",
              "    <tr>\n",
              "      <th>0</th>\n",
              "      <td>FFB692EC</td>\n",
              "      <td>Kamigata To Boots</td>\n",
              "      <td>The Mass Missile</td>\n",
              "      <td>rock</td>\n",
              "      <td>Saint-Petersburg</td>\n",
              "      <td>20:28:33</td>\n",
              "      <td>Wednesday</td>\n",
              "    </tr>\n",
              "    <tr>\n",
              "      <th>1</th>\n",
              "      <td>55204538</td>\n",
              "      <td>Delayed Because of Accident</td>\n",
              "      <td>Andreas Rönnberg</td>\n",
              "      <td>rock</td>\n",
              "      <td>Moscow</td>\n",
              "      <td>14:07:09</td>\n",
              "      <td>Friday</td>\n",
              "    </tr>\n",
              "    <tr>\n",
              "      <th>2</th>\n",
              "      <td>20EC38</td>\n",
              "      <td>Funiculì funiculà</td>\n",
              "      <td>Mario Lanza</td>\n",
              "      <td>pop</td>\n",
              "      <td>Saint-Petersburg</td>\n",
              "      <td>20:58:07</td>\n",
              "      <td>Wednesday</td>\n",
              "    </tr>\n",
              "    <tr>\n",
              "      <th>3</th>\n",
              "      <td>A3DD03C9</td>\n",
              "      <td>Dragons in the Sunset</td>\n",
              "      <td>Fire + Ice</td>\n",
              "      <td>folk</td>\n",
              "      <td>Saint-Petersburg</td>\n",
              "      <td>08:37:09</td>\n",
              "      <td>Monday</td>\n",
              "    </tr>\n",
              "    <tr>\n",
              "      <th>4</th>\n",
              "      <td>E2DC1FAE</td>\n",
              "      <td>Soul People</td>\n",
              "      <td>Space Echo</td>\n",
              "      <td>dance</td>\n",
              "      <td>Moscow</td>\n",
              "      <td>08:34:34</td>\n",
              "      <td>Monday</td>\n",
              "    </tr>\n",
              "    <tr>\n",
              "      <th>5</th>\n",
              "      <td>842029A1</td>\n",
              "      <td>Преданная</td>\n",
              "      <td>IMPERVTOR</td>\n",
              "      <td>rusrap</td>\n",
              "      <td>Saint-Petersburg</td>\n",
              "      <td>13:09:41</td>\n",
              "      <td>Friday</td>\n",
              "    </tr>\n",
              "    <tr>\n",
              "      <th>6</th>\n",
              "      <td>4CB90AA5</td>\n",
              "      <td>True</td>\n",
              "      <td>Roman Messer</td>\n",
              "      <td>dance</td>\n",
              "      <td>Moscow</td>\n",
              "      <td>13:00:07</td>\n",
              "      <td>Wednesday</td>\n",
              "    </tr>\n",
              "    <tr>\n",
              "      <th>7</th>\n",
              "      <td>F03E1C1F</td>\n",
              "      <td>Feeling This Way</td>\n",
              "      <td>Polina Griffith</td>\n",
              "      <td>dance</td>\n",
              "      <td>Moscow</td>\n",
              "      <td>20:47:49</td>\n",
              "      <td>Wednesday</td>\n",
              "    </tr>\n",
              "    <tr>\n",
              "      <th>8</th>\n",
              "      <td>8FA1D3BE</td>\n",
              "      <td>И вновь продолжается бой</td>\n",
              "      <td>NaN</td>\n",
              "      <td>ruspop</td>\n",
              "      <td>Moscow</td>\n",
              "      <td>09:17:40</td>\n",
              "      <td>Friday</td>\n",
              "    </tr>\n",
              "    <tr>\n",
              "      <th>9</th>\n",
              "      <td>E772D5C0</td>\n",
              "      <td>Pessimist</td>\n",
              "      <td>NaN</td>\n",
              "      <td>dance</td>\n",
              "      <td>Saint-Petersburg</td>\n",
              "      <td>21:20:49</td>\n",
              "      <td>Wednesday</td>\n",
              "    </tr>\n",
              "  </tbody>\n",
              "</table>\n",
              "</div>\n",
              "    <div class=\"colab-df-buttons\">\n",
              "\n",
              "  <div class=\"colab-df-container\">\n",
              "    <button class=\"colab-df-convert\" onclick=\"convertToInteractive('df-bf902d87-8d76-473a-9a05-3061aefe28cc')\"\n",
              "            title=\"Convert this dataframe to an interactive table.\"\n",
              "            style=\"display:none;\">\n",
              "\n",
              "  <svg xmlns=\"http://www.w3.org/2000/svg\" height=\"24px\" viewBox=\"0 -960 960 960\">\n",
              "    <path d=\"M120-120v-720h720v720H120Zm60-500h600v-160H180v160Zm220 220h160v-160H400v160Zm0 220h160v-160H400v160ZM180-400h160v-160H180v160Zm440 0h160v-160H620v160ZM180-180h160v-160H180v160Zm440 0h160v-160H620v160Z\"/>\n",
              "  </svg>\n",
              "    </button>\n",
              "\n",
              "  <style>\n",
              "    .colab-df-container {\n",
              "      display:flex;\n",
              "      gap: 12px;\n",
              "    }\n",
              "\n",
              "    .colab-df-convert {\n",
              "      background-color: #E8F0FE;\n",
              "      border: none;\n",
              "      border-radius: 50%;\n",
              "      cursor: pointer;\n",
              "      display: none;\n",
              "      fill: #1967D2;\n",
              "      height: 32px;\n",
              "      padding: 0 0 0 0;\n",
              "      width: 32px;\n",
              "    }\n",
              "\n",
              "    .colab-df-convert:hover {\n",
              "      background-color: #E2EBFA;\n",
              "      box-shadow: 0px 1px 2px rgba(60, 64, 67, 0.3), 0px 1px 3px 1px rgba(60, 64, 67, 0.15);\n",
              "      fill: #174EA6;\n",
              "    }\n",
              "\n",
              "    .colab-df-buttons div {\n",
              "      margin-bottom: 4px;\n",
              "    }\n",
              "\n",
              "    [theme=dark] .colab-df-convert {\n",
              "      background-color: #3B4455;\n",
              "      fill: #D2E3FC;\n",
              "    }\n",
              "\n",
              "    [theme=dark] .colab-df-convert:hover {\n",
              "      background-color: #434B5C;\n",
              "      box-shadow: 0px 1px 3px 1px rgba(0, 0, 0, 0.15);\n",
              "      filter: drop-shadow(0px 1px 2px rgba(0, 0, 0, 0.3));\n",
              "      fill: #FFFFFF;\n",
              "    }\n",
              "  </style>\n",
              "\n",
              "    <script>\n",
              "      const buttonEl =\n",
              "        document.querySelector('#df-bf902d87-8d76-473a-9a05-3061aefe28cc button.colab-df-convert');\n",
              "      buttonEl.style.display =\n",
              "        google.colab.kernel.accessAllowed ? 'block' : 'none';\n",
              "\n",
              "      async function convertToInteractive(key) {\n",
              "        const element = document.querySelector('#df-bf902d87-8d76-473a-9a05-3061aefe28cc');\n",
              "        const dataTable =\n",
              "          await google.colab.kernel.invokeFunction('convertToInteractive',\n",
              "                                                    [key], {});\n",
              "        if (!dataTable) return;\n",
              "\n",
              "        const docLinkHtml = 'Like what you see? Visit the ' +\n",
              "          '<a target=\"_blank\" href=https://colab.research.google.com/notebooks/data_table.ipynb>data table notebook</a>'\n",
              "          + ' to learn more about interactive tables.';\n",
              "        element.innerHTML = '';\n",
              "        dataTable['output_type'] = 'display_data';\n",
              "        await google.colab.output.renderOutput(dataTable, element);\n",
              "        const docLink = document.createElement('div');\n",
              "        docLink.innerHTML = docLinkHtml;\n",
              "        element.appendChild(docLink);\n",
              "      }\n",
              "    </script>\n",
              "  </div>\n",
              "\n",
              "\n",
              "<div id=\"df-45b8a896-3f81-4eec-82b8-7b7020863dd1\">\n",
              "  <button class=\"colab-df-quickchart\" onclick=\"quickchart('df-45b8a896-3f81-4eec-82b8-7b7020863dd1')\"\n",
              "            title=\"Suggest charts\"\n",
              "            style=\"display:none;\">\n",
              "\n",
              "<svg xmlns=\"http://www.w3.org/2000/svg\" height=\"24px\"viewBox=\"0 0 24 24\"\n",
              "     width=\"24px\">\n",
              "    <g>\n",
              "        <path d=\"M19 3H5c-1.1 0-2 .9-2 2v14c0 1.1.9 2 2 2h14c1.1 0 2-.9 2-2V5c0-1.1-.9-2-2-2zM9 17H7v-7h2v7zm4 0h-2V7h2v10zm4 0h-2v-4h2v4z\"/>\n",
              "    </g>\n",
              "</svg>\n",
              "  </button>\n",
              "\n",
              "<style>\n",
              "  .colab-df-quickchart {\n",
              "      --bg-color: #E8F0FE;\n",
              "      --fill-color: #1967D2;\n",
              "      --hover-bg-color: #E2EBFA;\n",
              "      --hover-fill-color: #174EA6;\n",
              "      --disabled-fill-color: #AAA;\n",
              "      --disabled-bg-color: #DDD;\n",
              "  }\n",
              "\n",
              "  [theme=dark] .colab-df-quickchart {\n",
              "      --bg-color: #3B4455;\n",
              "      --fill-color: #D2E3FC;\n",
              "      --hover-bg-color: #434B5C;\n",
              "      --hover-fill-color: #FFFFFF;\n",
              "      --disabled-bg-color: #3B4455;\n",
              "      --disabled-fill-color: #666;\n",
              "  }\n",
              "\n",
              "  .colab-df-quickchart {\n",
              "    background-color: var(--bg-color);\n",
              "    border: none;\n",
              "    border-radius: 50%;\n",
              "    cursor: pointer;\n",
              "    display: none;\n",
              "    fill: var(--fill-color);\n",
              "    height: 32px;\n",
              "    padding: 0;\n",
              "    width: 32px;\n",
              "  }\n",
              "\n",
              "  .colab-df-quickchart:hover {\n",
              "    background-color: var(--hover-bg-color);\n",
              "    box-shadow: 0 1px 2px rgba(60, 64, 67, 0.3), 0 1px 3px 1px rgba(60, 64, 67, 0.15);\n",
              "    fill: var(--button-hover-fill-color);\n",
              "  }\n",
              "\n",
              "  .colab-df-quickchart-complete:disabled,\n",
              "  .colab-df-quickchart-complete:disabled:hover {\n",
              "    background-color: var(--disabled-bg-color);\n",
              "    fill: var(--disabled-fill-color);\n",
              "    box-shadow: none;\n",
              "  }\n",
              "\n",
              "  .colab-df-spinner {\n",
              "    border: 2px solid var(--fill-color);\n",
              "    border-color: transparent;\n",
              "    border-bottom-color: var(--fill-color);\n",
              "    animation:\n",
              "      spin 1s steps(1) infinite;\n",
              "  }\n",
              "\n",
              "  @keyframes spin {\n",
              "    0% {\n",
              "      border-color: transparent;\n",
              "      border-bottom-color: var(--fill-color);\n",
              "      border-left-color: var(--fill-color);\n",
              "    }\n",
              "    20% {\n",
              "      border-color: transparent;\n",
              "      border-left-color: var(--fill-color);\n",
              "      border-top-color: var(--fill-color);\n",
              "    }\n",
              "    30% {\n",
              "      border-color: transparent;\n",
              "      border-left-color: var(--fill-color);\n",
              "      border-top-color: var(--fill-color);\n",
              "      border-right-color: var(--fill-color);\n",
              "    }\n",
              "    40% {\n",
              "      border-color: transparent;\n",
              "      border-right-color: var(--fill-color);\n",
              "      border-top-color: var(--fill-color);\n",
              "    }\n",
              "    60% {\n",
              "      border-color: transparent;\n",
              "      border-right-color: var(--fill-color);\n",
              "    }\n",
              "    80% {\n",
              "      border-color: transparent;\n",
              "      border-right-color: var(--fill-color);\n",
              "      border-bottom-color: var(--fill-color);\n",
              "    }\n",
              "    90% {\n",
              "      border-color: transparent;\n",
              "      border-bottom-color: var(--fill-color);\n",
              "    }\n",
              "  }\n",
              "</style>\n",
              "\n",
              "  <script>\n",
              "    async function quickchart(key) {\n",
              "      const quickchartButtonEl =\n",
              "        document.querySelector('#' + key + ' button');\n",
              "      quickchartButtonEl.disabled = true;  // To prevent multiple clicks.\n",
              "      quickchartButtonEl.classList.add('colab-df-spinner');\n",
              "      try {\n",
              "        const charts = await google.colab.kernel.invokeFunction(\n",
              "            'suggestCharts', [key], {});\n",
              "      } catch (error) {\n",
              "        console.error('Error during call to suggestCharts:', error);\n",
              "      }\n",
              "      quickchartButtonEl.classList.remove('colab-df-spinner');\n",
              "      quickchartButtonEl.classList.add('colab-df-quickchart-complete');\n",
              "    }\n",
              "    (() => {\n",
              "      let quickchartButtonEl =\n",
              "        document.querySelector('#df-45b8a896-3f81-4eec-82b8-7b7020863dd1 button');\n",
              "      quickchartButtonEl.style.display =\n",
              "        google.colab.kernel.accessAllowed ? 'block' : 'none';\n",
              "    })();\n",
              "  </script>\n",
              "</div>\n",
              "    </div>\n",
              "  </div>\n"
            ],
            "application/vnd.google.colaboratory.intrinsic+json": {
              "type": "dataframe",
              "variable_name": "df",
              "summary": "{\n  \"name\": \"df\",\n  \"rows\": 65079,\n  \"fields\": [\n    {\n      \"column\": \"  userID\",\n      \"properties\": {\n        \"dtype\": \"string\",\n        \"num_unique_values\": 41748,\n        \"samples\": [\n          \"8ECFAD5A\",\n          \"64C7383F\",\n          \"4179A5A2\"\n        ],\n        \"semantic_type\": \"\",\n        \"description\": \"\"\n      }\n    },\n    {\n      \"column\": \"Track\",\n      \"properties\": {\n        \"dtype\": \"string\",\n        \"num_unique_values\": 47245,\n        \"samples\": [\n          \"\\u0421\\u0435\\u043d\\u044c\\u0439\\u043e\\u0440\\u0430\",\n          \"Vivaldi: Gloria in D R.589 - Qui tollis\",\n          \"Satellite Of Love\"\n        ],\n        \"semantic_type\": \"\",\n        \"description\": \"\"\n      }\n    },\n    {\n      \"column\": \"artist\",\n      \"properties\": {\n        \"dtype\": \"string\",\n        \"num_unique_values\": 43605,\n        \"samples\": [\n          \"John Cale\",\n          \"Kube\",\n          \"Headcornerstone feat. Uwe Banton\"\n        ],\n        \"semantic_type\": \"\",\n        \"description\": \"\"\n      }\n    },\n    {\n      \"column\": \"genre\",\n      \"properties\": {\n        \"dtype\": \"category\",\n        \"num_unique_values\": 289,\n        \"samples\": [\n          \"film\",\n          \"electropop\",\n          \"neue\"\n        ],\n        \"semantic_type\": \"\",\n        \"description\": \"\"\n      }\n    },\n    {\n      \"column\": \"  City  \",\n      \"properties\": {\n        \"dtype\": \"category\",\n        \"num_unique_values\": 2,\n        \"samples\": [\n          \"Moscow\",\n          \"Saint-Petersburg\"\n        ],\n        \"semantic_type\": \"\",\n        \"description\": \"\"\n      }\n    },\n    {\n      \"column\": \"time\",\n      \"properties\": {\n        \"dtype\": \"object\",\n        \"num_unique_values\": 20392,\n        \"samples\": [\n          \"20:48:00\",\n          \"09:55:02\"\n        ],\n        \"semantic_type\": \"\",\n        \"description\": \"\"\n      }\n    },\n    {\n      \"column\": \"Day\",\n      \"properties\": {\n        \"dtype\": \"category\",\n        \"num_unique_values\": 3,\n        \"samples\": [\n          \"Wednesday\",\n          \"Friday\"\n        ],\n        \"semantic_type\": \"\",\n        \"description\": \"\"\n      }\n    }\n  ]\n}"
            }
          },
          "metadata": {},
          "execution_count": 3
        }
      ],
      "source": [
        "# получение первых 10 строк таблицы df\n",
        "df.head(10)"
      ]
    },
    {
      "cell_type": "markdown",
      "metadata": {
        "deletable": false,
        "editable": false,
        "id": "EO73Kwic_Zct",
        "tags": [
          "start_task"
        ]
      },
      "source": [
        "**Задание 4**"
      ]
    },
    {
      "cell_type": "code",
      "execution_count": 4,
      "metadata": {
        "deletable": false,
        "id": "DSf2kIb-_Zct",
        "colab": {
          "base_uri": "https://localhost:8080/"
        },
        "outputId": "b0a263fe-0b0b-4a14-b0a1-66807829fce0"
      },
      "outputs": [
        {
          "output_type": "stream",
          "name": "stdout",
          "text": [
            "<class 'pandas.core.frame.DataFrame'>\n",
            "RangeIndex: 65079 entries, 0 to 65078\n",
            "Data columns (total 7 columns):\n",
            " #   Column    Non-Null Count  Dtype \n",
            "---  ------    --------------  ----- \n",
            " 0     userID  65079 non-null  object\n",
            " 1   Track     63848 non-null  object\n",
            " 2   artist    57876 non-null  object\n",
            " 3   genre     63881 non-null  object\n",
            " 4     City    65079 non-null  object\n",
            " 5   time      65079 non-null  object\n",
            " 6   Day       65079 non-null  object\n",
            "dtypes: object(7)\n",
            "memory usage: 3.5+ MB\n"
          ]
        }
      ],
      "source": [
        "# получение общей информации о данных в таблице df\n",
        "df.info()"
      ]
    },
    {
      "cell_type": "markdown",
      "metadata": {
        "deletable": false,
        "editable": false,
        "id": "TaQ2Iwbr_Zct"
      },
      "source": [
        "Количество значений в столбцах различается. Значит, в данных есть пропущенные значения."
      ]
    },
    {
      "cell_type": "markdown",
      "metadata": {
        "deletable": false,
        "editable": false,
        "id": "4P0UCWzswgEm",
        "tags": [
          "start_task"
        ]
      },
      "source": [
        "**Задание 5**"
      ]
    },
    {
      "cell_type": "code",
      "execution_count": 5,
      "metadata": {
        "id": "c137-ZstwgEm"
      },
      "outputs": [],
      "source": [
        "# Для исследования потребуется информация из столбцов day,time,city,genre.\n",
        "# При предобработке нельзя терять данные из этих столбцов. В столбце genre имеются пропуски, что может некорректно отразиться на исследовании.\n",
        "# Некорректно указаны наименования столбцов - необходимо переименовать."
      ]
    },
    {
      "cell_type": "markdown",
      "metadata": {
        "deletable": false,
        "editable": false,
        "id": "MCB6-dXG_Zct"
      },
      "source": [
        "**Выводы**\n",
        "\n",
        "В каждой строке таблицы — данные о прослушанном треке. Часть колонок описывает саму композицию: название, исполнителя и жанр. Остальные данные рассказывают о пользователе: из какого он города, когда он слушал музыку.\n",
        "\n",
        "Предварительно можно утверждать, что данных достаточно для проверки гипотез. Но встречаются пропуски в данных, а в названиях колонок — расхождения с хорошим стилем.\n",
        "\n",
        "Чтобы двигаться дальше, нужно устранить проблемы в данных."
      ]
    },
    {
      "cell_type": "markdown",
      "metadata": {
        "deletable": false,
        "editable": false,
        "id": "SjYF6Ub9_Zct"
      },
      "source": [
        "## Предобработка данных"
      ]
    },
    {
      "cell_type": "markdown",
      "metadata": {
        "deletable": false,
        "editable": false,
        "id": "dIaKXr29_Zct",
        "tags": [
          "start_task"
        ]
      },
      "source": [
        "### Переименование столбцов\n",
        "\n",
        "**Задание 6**"
      ]
    },
    {
      "cell_type": "code",
      "execution_count": 6,
      "metadata": {
        "deletable": false,
        "id": "oKOTdF_Q_Zct",
        "colab": {
          "base_uri": "https://localhost:8080/"
        },
        "outputId": "aaa5a4fc-ea17-41b2-cf06-86498c139bae"
      },
      "outputs": [
        {
          "output_type": "execute_result",
          "data": {
            "text/plain": [
              "Index(['  userID', 'Track', 'artist', 'genre', '  City  ', 'time', 'Day'], dtype='object')"
            ]
          },
          "metadata": {},
          "execution_count": 6
        }
      ],
      "source": [
        "# перечень названий столбцов таблицы df\n",
        "df.columns"
      ]
    },
    {
      "cell_type": "markdown",
      "metadata": {
        "deletable": false,
        "editable": false,
        "id": "zj5534cv_Zct",
        "tags": [
          "start_task"
        ]
      },
      "source": [
        "**Задание 7**"
      ]
    },
    {
      "cell_type": "code",
      "execution_count": 7,
      "metadata": {
        "deletable": false,
        "id": "ISlFqs5y_Zct"
      },
      "outputs": [],
      "source": [
        " # переименование столбцов\n",
        "df = df.rename(\n",
        "    columns={\n",
        "        '  userID': 'user_id',\n",
        "        'Track':'track',\n",
        "        '  City  ': 'city',\n",
        "        'Day': 'day',\n",
        "    }\n",
        ")\n"
      ]
    },
    {
      "cell_type": "markdown",
      "metadata": {
        "deletable": false,
        "editable": false,
        "id": "1dqbh00J_Zct",
        "tags": [
          "start_task"
        ]
      },
      "source": [
        "**Задание 8**"
      ]
    },
    {
      "cell_type": "code",
      "execution_count": 8,
      "metadata": {
        "deletable": false,
        "id": "d4NOAmTW_Zct",
        "colab": {
          "base_uri": "https://localhost:8080/"
        },
        "outputId": "a15ba339-5142-4717-ae37-8a57d7f48ef8"
      },
      "outputs": [
        {
          "output_type": "execute_result",
          "data": {
            "text/plain": [
              "Index(['user_id', 'track', 'artist', 'genre', 'city', 'time', 'day'], dtype='object')"
            ]
          },
          "metadata": {},
          "execution_count": 8
        }
      ],
      "source": [
        "# проверка результатов - перечень названий столбцов\n",
        "df.columns"
      ]
    },
    {
      "cell_type": "markdown",
      "metadata": {
        "deletable": false,
        "editable": false,
        "id": "5ISfbcfY_Zct",
        "tags": [
          "start_task"
        ]
      },
      "source": [
        "### Обработка пропущенных значений\n",
        "\n",
        "**Задание 9**"
      ]
    },
    {
      "cell_type": "code",
      "execution_count": 9,
      "metadata": {
        "deletable": false,
        "id": "RskX29qr_Zct",
        "colab": {
          "base_uri": "https://localhost:8080/",
          "height": 304
        },
        "outputId": "e14f6c42-0f21-4971-c41c-8376367e18ce"
      },
      "outputs": [
        {
          "output_type": "execute_result",
          "data": {
            "text/plain": [
              "user_id       0\n",
              "track      1231\n",
              "artist     7203\n",
              "genre      1198\n",
              "city          0\n",
              "time          0\n",
              "day           0\n",
              "dtype: int64"
            ],
            "text/html": [
              "<div>\n",
              "<style scoped>\n",
              "    .dataframe tbody tr th:only-of-type {\n",
              "        vertical-align: middle;\n",
              "    }\n",
              "\n",
              "    .dataframe tbody tr th {\n",
              "        vertical-align: top;\n",
              "    }\n",
              "\n",
              "    .dataframe thead th {\n",
              "        text-align: right;\n",
              "    }\n",
              "</style>\n",
              "<table border=\"1\" class=\"dataframe\">\n",
              "  <thead>\n",
              "    <tr style=\"text-align: right;\">\n",
              "      <th></th>\n",
              "      <th>0</th>\n",
              "    </tr>\n",
              "  </thead>\n",
              "  <tbody>\n",
              "    <tr>\n",
              "      <th>user_id</th>\n",
              "      <td>0</td>\n",
              "    </tr>\n",
              "    <tr>\n",
              "      <th>track</th>\n",
              "      <td>1231</td>\n",
              "    </tr>\n",
              "    <tr>\n",
              "      <th>artist</th>\n",
              "      <td>7203</td>\n",
              "    </tr>\n",
              "    <tr>\n",
              "      <th>genre</th>\n",
              "      <td>1198</td>\n",
              "    </tr>\n",
              "    <tr>\n",
              "      <th>city</th>\n",
              "      <td>0</td>\n",
              "    </tr>\n",
              "    <tr>\n",
              "      <th>time</th>\n",
              "      <td>0</td>\n",
              "    </tr>\n",
              "    <tr>\n",
              "      <th>day</th>\n",
              "      <td>0</td>\n",
              "    </tr>\n",
              "  </tbody>\n",
              "</table>\n",
              "</div><br><label><b>dtype:</b> int64</label>"
            ]
          },
          "metadata": {},
          "execution_count": 9
        }
      ],
      "source": [
        "# подсчёт пропусков\n",
        "df.isna().sum()"
      ]
    },
    {
      "cell_type": "markdown",
      "metadata": {
        "deletable": false,
        "editable": false,
        "id": "fSv2laPA_Zct",
        "tags": [
          "start_task"
        ]
      },
      "source": [
        "**Задание 10**"
      ]
    },
    {
      "cell_type": "code",
      "execution_count": 10,
      "metadata": {
        "deletable": false,
        "id": "KplB5qWs_Zct"
      },
      "outputs": [],
      "source": [
        "# замена пропущенных значений на 'unknown'\n",
        "columns_to_replace = ['track','artist','genre']\n",
        "for column in columns_to_replace:\n",
        "    df[column] = df[column].fillna('unknown')\n"
      ]
    },
    {
      "cell_type": "markdown",
      "metadata": {
        "deletable": false,
        "editable": false,
        "id": "Ilsm-MZo_Zct",
        "tags": [
          "start_task"
        ]
      },
      "source": [
        "**Задание 11**"
      ]
    },
    {
      "cell_type": "code",
      "execution_count": 11,
      "metadata": {
        "deletable": false,
        "id": "Tq4nYRX4_Zct",
        "colab": {
          "base_uri": "https://localhost:8080/",
          "height": 304
        },
        "outputId": "84bf2014-8965-44e0-d099-5c775bfdbb79"
      },
      "outputs": [
        {
          "output_type": "execute_result",
          "data": {
            "text/plain": [
              "user_id    0\n",
              "track      0\n",
              "artist     0\n",
              "genre      0\n",
              "city       0\n",
              "time       0\n",
              "day        0\n",
              "dtype: int64"
            ],
            "text/html": [
              "<div>\n",
              "<style scoped>\n",
              "    .dataframe tbody tr th:only-of-type {\n",
              "        vertical-align: middle;\n",
              "    }\n",
              "\n",
              "    .dataframe tbody tr th {\n",
              "        vertical-align: top;\n",
              "    }\n",
              "\n",
              "    .dataframe thead th {\n",
              "        text-align: right;\n",
              "    }\n",
              "</style>\n",
              "<table border=\"1\" class=\"dataframe\">\n",
              "  <thead>\n",
              "    <tr style=\"text-align: right;\">\n",
              "      <th></th>\n",
              "      <th>0</th>\n",
              "    </tr>\n",
              "  </thead>\n",
              "  <tbody>\n",
              "    <tr>\n",
              "      <th>user_id</th>\n",
              "      <td>0</td>\n",
              "    </tr>\n",
              "    <tr>\n",
              "      <th>track</th>\n",
              "      <td>0</td>\n",
              "    </tr>\n",
              "    <tr>\n",
              "      <th>artist</th>\n",
              "      <td>0</td>\n",
              "    </tr>\n",
              "    <tr>\n",
              "      <th>genre</th>\n",
              "      <td>0</td>\n",
              "    </tr>\n",
              "    <tr>\n",
              "      <th>city</th>\n",
              "      <td>0</td>\n",
              "    </tr>\n",
              "    <tr>\n",
              "      <th>time</th>\n",
              "      <td>0</td>\n",
              "    </tr>\n",
              "    <tr>\n",
              "      <th>day</th>\n",
              "      <td>0</td>\n",
              "    </tr>\n",
              "  </tbody>\n",
              "</table>\n",
              "</div><br><label><b>dtype:</b> int64</label>"
            ]
          },
          "metadata": {},
          "execution_count": 11
        }
      ],
      "source": [
        "# проверка на отсутствие пропусков\n",
        "df.isna().sum()"
      ]
    },
    {
      "cell_type": "markdown",
      "metadata": {
        "deletable": false,
        "editable": false,
        "id": "BWKRtBJ3_Zct",
        "tags": [
          "start_task"
        ]
      },
      "source": [
        "### Обработка дубликатов\n",
        "\n",
        "**Задание 12**"
      ]
    },
    {
      "cell_type": "code",
      "execution_count": 12,
      "metadata": {
        "deletable": false,
        "id": "36eES_S0_Zct",
        "colab": {
          "base_uri": "https://localhost:8080/"
        },
        "outputId": "91b4e687-80d7-45e9-c263-4f686afdab54"
      },
      "outputs": [
        {
          "output_type": "execute_result",
          "data": {
            "text/plain": [
              "3826"
            ]
          },
          "metadata": {},
          "execution_count": 12
        }
      ],
      "source": [
        "# подсчёт явных дубликатов\n",
        "df.duplicated().sum()"
      ]
    },
    {
      "cell_type": "markdown",
      "metadata": {
        "deletable": false,
        "editable": false,
        "id": "Ot25h6XR_Zct",
        "tags": [
          "start_task"
        ]
      },
      "source": [
        "**Задание 13**"
      ]
    },
    {
      "cell_type": "code",
      "execution_count": 13,
      "metadata": {
        "deletable": false,
        "id": "exFHq6tt_Zct"
      },
      "outputs": [],
      "source": [
        "# удаление явных дубликатов, создание новых индексов и удаление старых\n",
        "df = df.drop_duplicates().reset_index(drop=True)"
      ]
    },
    {
      "cell_type": "markdown",
      "metadata": {
        "deletable": false,
        "editable": false,
        "id": "Im2YwBEG_Zct",
        "tags": [
          "start_task"
        ]
      },
      "source": [
        "**Задание 14**"
      ]
    },
    {
      "cell_type": "code",
      "execution_count": 14,
      "metadata": {
        "deletable": false,
        "id": "-8PuNWQ0_Zct",
        "colab": {
          "base_uri": "https://localhost:8080/"
        },
        "outputId": "dd62efdf-fbaa-4e3c-a9ee-a7b5189245aa"
      },
      "outputs": [
        {
          "output_type": "execute_result",
          "data": {
            "text/plain": [
              "0"
            ]
          },
          "metadata": {},
          "execution_count": 14
        }
      ],
      "source": [
        "# проверка на отсутствие явных дубликатов\n",
        "df.duplicated().sum()"
      ]
    },
    {
      "cell_type": "markdown",
      "metadata": {
        "deletable": false,
        "editable": false,
        "id": "eSjWwsOh_Zct",
        "tags": [
          "start_task"
        ]
      },
      "source": [
        "**Задание 15**"
      ]
    },
    {
      "cell_type": "code",
      "execution_count": 15,
      "metadata": {
        "deletable": false,
        "id": "JIUcqzZN_Zct",
        "colab": {
          "base_uri": "https://localhost:8080/"
        },
        "outputId": "7b6d4d03-f8ef-4691-af09-d65adf792ff4"
      },
      "outputs": [
        {
          "output_type": "execute_result",
          "data": {
            "text/plain": [
              "['acid',\n",
              " 'acoustic',\n",
              " 'action',\n",
              " 'adult',\n",
              " 'africa',\n",
              " 'afrikaans',\n",
              " 'alternative',\n",
              " 'alternativepunk',\n",
              " 'ambient',\n",
              " 'americana',\n",
              " 'animated',\n",
              " 'anime',\n",
              " 'arabesk',\n",
              " 'arabic',\n",
              " 'arena',\n",
              " 'argentinetango',\n",
              " 'art',\n",
              " 'audiobook',\n",
              " 'author',\n",
              " 'avantgarde',\n",
              " 'axé',\n",
              " 'baile',\n",
              " 'balkan',\n",
              " 'beats',\n",
              " 'bigroom',\n",
              " 'black',\n",
              " 'bluegrass',\n",
              " 'blues',\n",
              " 'bollywood',\n",
              " 'bossa',\n",
              " 'brazilian',\n",
              " 'breakbeat',\n",
              " 'breaks',\n",
              " 'broadway',\n",
              " 'cantautori',\n",
              " 'cantopop',\n",
              " 'canzone',\n",
              " 'caribbean',\n",
              " 'caucasian',\n",
              " 'celtic',\n",
              " 'chamber',\n",
              " 'chanson',\n",
              " 'children',\n",
              " 'chill',\n",
              " 'chinese',\n",
              " 'choral',\n",
              " 'christian',\n",
              " 'christmas',\n",
              " 'classical',\n",
              " 'classicmetal',\n",
              " 'club',\n",
              " 'colombian',\n",
              " 'comedy',\n",
              " 'conjazz',\n",
              " 'contemporary',\n",
              " 'country',\n",
              " 'cuban',\n",
              " 'dance',\n",
              " 'dancehall',\n",
              " 'dancepop',\n",
              " 'dark',\n",
              " 'death',\n",
              " 'deep',\n",
              " 'deutschrock',\n",
              " 'deutschspr',\n",
              " 'dirty',\n",
              " 'disco',\n",
              " 'dnb',\n",
              " 'documentary',\n",
              " 'downbeat',\n",
              " 'downtempo',\n",
              " 'drum',\n",
              " 'dub',\n",
              " 'dubstep',\n",
              " 'eastern',\n",
              " 'easy',\n",
              " 'electronic',\n",
              " 'electropop',\n",
              " 'emo',\n",
              " 'entehno',\n",
              " 'epicmetal',\n",
              " 'estrada',\n",
              " 'ethnic',\n",
              " 'eurofolk',\n",
              " 'european',\n",
              " 'experimental',\n",
              " 'extrememetal',\n",
              " 'fado',\n",
              " 'fairytail',\n",
              " 'film',\n",
              " 'fitness',\n",
              " 'flamenco',\n",
              " 'folk',\n",
              " 'folklore',\n",
              " 'folkmetal',\n",
              " 'folkrock',\n",
              " 'folktronica',\n",
              " 'forró',\n",
              " 'frankreich',\n",
              " 'französisch',\n",
              " 'french',\n",
              " 'funk',\n",
              " 'future',\n",
              " 'gangsta',\n",
              " 'garage',\n",
              " 'german',\n",
              " 'ghazal',\n",
              " 'gitarre',\n",
              " 'glitch',\n",
              " 'gospel',\n",
              " 'gothic',\n",
              " 'grime',\n",
              " 'grunge',\n",
              " 'gypsy',\n",
              " 'handsup',\n",
              " \"hard'n'heavy\",\n",
              " 'hardcore',\n",
              " 'hardstyle',\n",
              " 'hardtechno',\n",
              " 'hip',\n",
              " 'hip-hop',\n",
              " 'hiphop',\n",
              " 'historisch',\n",
              " 'holiday',\n",
              " 'hop',\n",
              " 'horror',\n",
              " 'house',\n",
              " 'hymn',\n",
              " 'idm',\n",
              " 'independent',\n",
              " 'indian',\n",
              " 'indie',\n",
              " 'indipop',\n",
              " 'industrial',\n",
              " 'inspirational',\n",
              " 'instrumental',\n",
              " 'international',\n",
              " 'irish',\n",
              " 'jam',\n",
              " 'japanese',\n",
              " 'jazz',\n",
              " 'jewish',\n",
              " 'jpop',\n",
              " 'jungle',\n",
              " 'k-pop',\n",
              " 'karadeniz',\n",
              " 'karaoke',\n",
              " 'kayokyoku',\n",
              " 'korean',\n",
              " 'laiko',\n",
              " 'latin',\n",
              " 'latino',\n",
              " 'leftfield',\n",
              " 'local',\n",
              " 'lounge',\n",
              " 'loungeelectronic',\n",
              " 'lovers',\n",
              " 'malaysian',\n",
              " 'mandopop',\n",
              " 'marschmusik',\n",
              " 'meditative',\n",
              " 'mediterranean',\n",
              " 'melodic',\n",
              " 'metal',\n",
              " 'metalcore',\n",
              " 'mexican',\n",
              " 'middle',\n",
              " 'minimal',\n",
              " 'miscellaneous',\n",
              " 'modern',\n",
              " 'mood',\n",
              " 'mpb',\n",
              " 'muslim',\n",
              " 'native',\n",
              " 'neoklassik',\n",
              " 'neue',\n",
              " 'new',\n",
              " 'newage',\n",
              " 'newwave',\n",
              " 'nu',\n",
              " 'nujazz',\n",
              " 'numetal',\n",
              " 'oceania',\n",
              " 'old',\n",
              " 'opera',\n",
              " 'orchestral',\n",
              " 'other',\n",
              " 'piano',\n",
              " 'podcasts',\n",
              " 'pop',\n",
              " 'popdance',\n",
              " 'popelectronic',\n",
              " 'popeurodance',\n",
              " 'poprussian',\n",
              " 'post',\n",
              " 'posthardcore',\n",
              " 'postrock',\n",
              " 'power',\n",
              " 'progmetal',\n",
              " 'progressive',\n",
              " 'psychedelic',\n",
              " 'punjabi',\n",
              " 'punk',\n",
              " 'quebecois',\n",
              " 'ragga',\n",
              " 'ram',\n",
              " 'rancheras',\n",
              " 'rap',\n",
              " 'rave',\n",
              " 'reggae',\n",
              " 'reggaeton',\n",
              " 'regional',\n",
              " 'relax',\n",
              " 'religious',\n",
              " 'retro',\n",
              " 'rhythm',\n",
              " 'rnb',\n",
              " 'rnr',\n",
              " 'rock',\n",
              " 'rockabilly',\n",
              " 'rockalternative',\n",
              " 'rockindie',\n",
              " 'rockother',\n",
              " 'romance',\n",
              " 'roots',\n",
              " 'ruspop',\n",
              " 'rusrap',\n",
              " 'rusrock',\n",
              " 'russian',\n",
              " 'salsa',\n",
              " 'samba',\n",
              " 'scenic',\n",
              " 'schlager',\n",
              " 'self',\n",
              " 'sertanejo',\n",
              " 'shanson',\n",
              " 'shoegazing',\n",
              " 'showtunes',\n",
              " 'singer',\n",
              " 'ska',\n",
              " 'skarock',\n",
              " 'slow',\n",
              " 'smooth',\n",
              " 'soft',\n",
              " 'soul',\n",
              " 'soulful',\n",
              " 'sound',\n",
              " 'soundtrack',\n",
              " 'southern',\n",
              " 'specialty',\n",
              " 'speech',\n",
              " 'spiritual',\n",
              " 'sport',\n",
              " 'stonerrock',\n",
              " 'surf',\n",
              " 'swing',\n",
              " 'synthpop',\n",
              " 'synthrock',\n",
              " 'sängerportrait',\n",
              " 'tango',\n",
              " 'tanzorchester',\n",
              " 'taraftar',\n",
              " 'tatar',\n",
              " 'tech',\n",
              " 'techno',\n",
              " 'teen',\n",
              " 'thrash',\n",
              " 'top',\n",
              " 'traditional',\n",
              " 'tradjazz',\n",
              " 'trance',\n",
              " 'tribal',\n",
              " 'trip',\n",
              " 'triphop',\n",
              " 'tropical',\n",
              " 'türk',\n",
              " 'türkçe',\n",
              " 'ukrrock',\n",
              " 'unknown',\n",
              " 'urban',\n",
              " 'uzbek',\n",
              " 'variété',\n",
              " 'vi',\n",
              " 'videogame',\n",
              " 'vocal',\n",
              " 'western',\n",
              " 'world',\n",
              " 'worldbeat',\n",
              " 'ïîï',\n",
              " 'электроника']"
            ]
          },
          "metadata": {},
          "execution_count": 15
        }
      ],
      "source": [
        "# просмотр уникальных отсортированных названий жанров\n",
        "sorted(df['genre'].unique())"
      ]
    },
    {
      "cell_type": "markdown",
      "metadata": {
        "deletable": false,
        "editable": false,
        "id": "qej-Qmuo_Zct",
        "tags": [
          "start_task"
        ]
      },
      "source": [
        "**Задание 16**"
      ]
    },
    {
      "cell_type": "code",
      "execution_count": 16,
      "metadata": {
        "deletable": false,
        "id": "ErNDkmns_Zct"
      },
      "outputs": [],
      "source": [
        "# устранение неявных дубликатов\n",
        "duplicates_map = {\n",
        "    'hip': 'hiphop',\n",
        "    'hip-hop': 'hiphop',\n",
        "    'hop': 'hiphop',\n",
        "    'электроника': 'electronic'\n",
        "}\n",
        "\n",
        "df['genre'] = df['genre'].replace(duplicates_map)\n"
      ]
    },
    {
      "cell_type": "markdown",
      "metadata": {
        "deletable": false,
        "editable": false,
        "id": "zQKF16_RG15m",
        "tags": [
          "start_task"
        ]
      },
      "source": [
        "**Задание 17**"
      ]
    },
    {
      "cell_type": "code",
      "execution_count": 17,
      "metadata": {
        "deletable": false,
        "id": "wvixALnFG15m",
        "colab": {
          "base_uri": "https://localhost:8080/"
        },
        "outputId": "a542994e-6d2b-4c5b-8faa-c6c0c506ca9a"
      },
      "outputs": [
        {
          "output_type": "execute_result",
          "data": {
            "text/plain": [
              "['acid',\n",
              " 'acoustic',\n",
              " 'action',\n",
              " 'adult',\n",
              " 'africa',\n",
              " 'afrikaans',\n",
              " 'alternative',\n",
              " 'alternativepunk',\n",
              " 'ambient',\n",
              " 'americana',\n",
              " 'animated',\n",
              " 'anime',\n",
              " 'arabesk',\n",
              " 'arabic',\n",
              " 'arena',\n",
              " 'argentinetango',\n",
              " 'art',\n",
              " 'audiobook',\n",
              " 'author',\n",
              " 'avantgarde',\n",
              " 'axé',\n",
              " 'baile',\n",
              " 'balkan',\n",
              " 'beats',\n",
              " 'bigroom',\n",
              " 'black',\n",
              " 'bluegrass',\n",
              " 'blues',\n",
              " 'bollywood',\n",
              " 'bossa',\n",
              " 'brazilian',\n",
              " 'breakbeat',\n",
              " 'breaks',\n",
              " 'broadway',\n",
              " 'cantautori',\n",
              " 'cantopop',\n",
              " 'canzone',\n",
              " 'caribbean',\n",
              " 'caucasian',\n",
              " 'celtic',\n",
              " 'chamber',\n",
              " 'chanson',\n",
              " 'children',\n",
              " 'chill',\n",
              " 'chinese',\n",
              " 'choral',\n",
              " 'christian',\n",
              " 'christmas',\n",
              " 'classical',\n",
              " 'classicmetal',\n",
              " 'club',\n",
              " 'colombian',\n",
              " 'comedy',\n",
              " 'conjazz',\n",
              " 'contemporary',\n",
              " 'country',\n",
              " 'cuban',\n",
              " 'dance',\n",
              " 'dancehall',\n",
              " 'dancepop',\n",
              " 'dark',\n",
              " 'death',\n",
              " 'deep',\n",
              " 'deutschrock',\n",
              " 'deutschspr',\n",
              " 'dirty',\n",
              " 'disco',\n",
              " 'dnb',\n",
              " 'documentary',\n",
              " 'downbeat',\n",
              " 'downtempo',\n",
              " 'drum',\n",
              " 'dub',\n",
              " 'dubstep',\n",
              " 'eastern',\n",
              " 'easy',\n",
              " 'electronic',\n",
              " 'electropop',\n",
              " 'emo',\n",
              " 'entehno',\n",
              " 'epicmetal',\n",
              " 'estrada',\n",
              " 'ethnic',\n",
              " 'eurofolk',\n",
              " 'european',\n",
              " 'experimental',\n",
              " 'extrememetal',\n",
              " 'fado',\n",
              " 'fairytail',\n",
              " 'film',\n",
              " 'fitness',\n",
              " 'flamenco',\n",
              " 'folk',\n",
              " 'folklore',\n",
              " 'folkmetal',\n",
              " 'folkrock',\n",
              " 'folktronica',\n",
              " 'forró',\n",
              " 'frankreich',\n",
              " 'französisch',\n",
              " 'french',\n",
              " 'funk',\n",
              " 'future',\n",
              " 'gangsta',\n",
              " 'garage',\n",
              " 'german',\n",
              " 'ghazal',\n",
              " 'gitarre',\n",
              " 'glitch',\n",
              " 'gospel',\n",
              " 'gothic',\n",
              " 'grime',\n",
              " 'grunge',\n",
              " 'gypsy',\n",
              " 'handsup',\n",
              " \"hard'n'heavy\",\n",
              " 'hardcore',\n",
              " 'hardstyle',\n",
              " 'hardtechno',\n",
              " 'hiphop',\n",
              " 'historisch',\n",
              " 'holiday',\n",
              " 'horror',\n",
              " 'house',\n",
              " 'hymn',\n",
              " 'idm',\n",
              " 'independent',\n",
              " 'indian',\n",
              " 'indie',\n",
              " 'indipop',\n",
              " 'industrial',\n",
              " 'inspirational',\n",
              " 'instrumental',\n",
              " 'international',\n",
              " 'irish',\n",
              " 'jam',\n",
              " 'japanese',\n",
              " 'jazz',\n",
              " 'jewish',\n",
              " 'jpop',\n",
              " 'jungle',\n",
              " 'k-pop',\n",
              " 'karadeniz',\n",
              " 'karaoke',\n",
              " 'kayokyoku',\n",
              " 'korean',\n",
              " 'laiko',\n",
              " 'latin',\n",
              " 'latino',\n",
              " 'leftfield',\n",
              " 'local',\n",
              " 'lounge',\n",
              " 'loungeelectronic',\n",
              " 'lovers',\n",
              " 'malaysian',\n",
              " 'mandopop',\n",
              " 'marschmusik',\n",
              " 'meditative',\n",
              " 'mediterranean',\n",
              " 'melodic',\n",
              " 'metal',\n",
              " 'metalcore',\n",
              " 'mexican',\n",
              " 'middle',\n",
              " 'minimal',\n",
              " 'miscellaneous',\n",
              " 'modern',\n",
              " 'mood',\n",
              " 'mpb',\n",
              " 'muslim',\n",
              " 'native',\n",
              " 'neoklassik',\n",
              " 'neue',\n",
              " 'new',\n",
              " 'newage',\n",
              " 'newwave',\n",
              " 'nu',\n",
              " 'nujazz',\n",
              " 'numetal',\n",
              " 'oceania',\n",
              " 'old',\n",
              " 'opera',\n",
              " 'orchestral',\n",
              " 'other',\n",
              " 'piano',\n",
              " 'podcasts',\n",
              " 'pop',\n",
              " 'popdance',\n",
              " 'popelectronic',\n",
              " 'popeurodance',\n",
              " 'poprussian',\n",
              " 'post',\n",
              " 'posthardcore',\n",
              " 'postrock',\n",
              " 'power',\n",
              " 'progmetal',\n",
              " 'progressive',\n",
              " 'psychedelic',\n",
              " 'punjabi',\n",
              " 'punk',\n",
              " 'quebecois',\n",
              " 'ragga',\n",
              " 'ram',\n",
              " 'rancheras',\n",
              " 'rap',\n",
              " 'rave',\n",
              " 'reggae',\n",
              " 'reggaeton',\n",
              " 'regional',\n",
              " 'relax',\n",
              " 'religious',\n",
              " 'retro',\n",
              " 'rhythm',\n",
              " 'rnb',\n",
              " 'rnr',\n",
              " 'rock',\n",
              " 'rockabilly',\n",
              " 'rockalternative',\n",
              " 'rockindie',\n",
              " 'rockother',\n",
              " 'romance',\n",
              " 'roots',\n",
              " 'ruspop',\n",
              " 'rusrap',\n",
              " 'rusrock',\n",
              " 'russian',\n",
              " 'salsa',\n",
              " 'samba',\n",
              " 'scenic',\n",
              " 'schlager',\n",
              " 'self',\n",
              " 'sertanejo',\n",
              " 'shanson',\n",
              " 'shoegazing',\n",
              " 'showtunes',\n",
              " 'singer',\n",
              " 'ska',\n",
              " 'skarock',\n",
              " 'slow',\n",
              " 'smooth',\n",
              " 'soft',\n",
              " 'soul',\n",
              " 'soulful',\n",
              " 'sound',\n",
              " 'soundtrack',\n",
              " 'southern',\n",
              " 'specialty',\n",
              " 'speech',\n",
              " 'spiritual',\n",
              " 'sport',\n",
              " 'stonerrock',\n",
              " 'surf',\n",
              " 'swing',\n",
              " 'synthpop',\n",
              " 'synthrock',\n",
              " 'sängerportrait',\n",
              " 'tango',\n",
              " 'tanzorchester',\n",
              " 'taraftar',\n",
              " 'tatar',\n",
              " 'tech',\n",
              " 'techno',\n",
              " 'teen',\n",
              " 'thrash',\n",
              " 'top',\n",
              " 'traditional',\n",
              " 'tradjazz',\n",
              " 'trance',\n",
              " 'tribal',\n",
              " 'trip',\n",
              " 'triphop',\n",
              " 'tropical',\n",
              " 'türk',\n",
              " 'türkçe',\n",
              " 'ukrrock',\n",
              " 'unknown',\n",
              " 'urban',\n",
              " 'uzbek',\n",
              " 'variété',\n",
              " 'vi',\n",
              " 'videogame',\n",
              " 'vocal',\n",
              " 'western',\n",
              " 'world',\n",
              " 'worldbeat',\n",
              " 'ïîï']"
            ]
          },
          "metadata": {},
          "execution_count": 17
        }
      ],
      "source": [
        "# проверка на отсутствие неявных дубликатов\n",
        "sorted(df['genre'].unique())"
      ]
    },
    {
      "cell_type": "markdown",
      "metadata": {
        "deletable": false,
        "editable": false,
        "id": "jz6a9-7HQUDd"
      },
      "source": [
        "**Выводы**\n",
        "\n",
        "Предобработка обнаружила три проблемы в данных:\n",
        "\n",
        "- нарушения в стиле заголовков,\n",
        "- пропущенные значения,\n",
        "- дубликаты — явные и неявные.\n",
        "\n",
        "Вы исправили заголовки, чтобы упростить работу с таблицей. Без дубликатов исследование станет более точным.\n",
        "\n",
        "Пропущенные значения вы заменили на `'unknown'`. Ещё предстоит увидеть, не повредят ли исследованию пропуски в колонке `genre`.\n",
        "\n",
        "Теперь можно перейти к проверке гипотез."
      ]
    },
    {
      "cell_type": "markdown",
      "metadata": {
        "deletable": false,
        "editable": false,
        "id": "WttZHXH0SqKk"
      },
      "source": [
        "## Проверка гипотез"
      ]
    },
    {
      "cell_type": "markdown",
      "metadata": {
        "deletable": false,
        "editable": false,
        "id": "Im936VVi_Zcu"
      },
      "source": [
        "### Сравнение поведения пользователей двух столиц"
      ]
    },
    {
      "cell_type": "markdown",
      "metadata": {
        "deletable": false,
        "editable": false,
        "id": "nwt_MuaL_Zcu"
      },
      "source": [
        "Первая гипотеза утверждает, что пользователи по-разному слушают музыку в Москве и Санкт-Петербурге. Проверим это предположение по данным о трёх днях недели — понедельнике, среде и пятнице. Для этого:\n",
        "\n",
        "* Разделим пользователей Москвы и Санкт-Петербурга.\n",
        "* Сравним, сколько треков послушала каждая группа пользователей в понедельник, среду и пятницу.\n"
      ]
    },
    {
      "cell_type": "markdown",
      "metadata": {
        "deletable": false,
        "id": "8Dw_YMmT_Zcu",
        "tags": [
          "start_task"
        ]
      },
      "source": [
        "**Задание 18**\n",
        "\n"
      ]
    },
    {
      "cell_type": "code",
      "execution_count": 18,
      "metadata": {
        "deletable": false,
        "id": "0_Qs96oh_Zcu",
        "colab": {
          "base_uri": "https://localhost:8080/",
          "height": 178
        },
        "outputId": "d5f84be7-4d8d-446d-d2b4-80893989ea4c"
      },
      "outputs": [
        {
          "output_type": "execute_result",
          "data": {
            "text/plain": [
              "city\n",
              "Moscow              42741\n",
              "Saint-Petersburg    18512\n",
              "Name: day, dtype: int64"
            ],
            "text/html": [
              "<div>\n",
              "<style scoped>\n",
              "    .dataframe tbody tr th:only-of-type {\n",
              "        vertical-align: middle;\n",
              "    }\n",
              "\n",
              "    .dataframe tbody tr th {\n",
              "        vertical-align: top;\n",
              "    }\n",
              "\n",
              "    .dataframe thead th {\n",
              "        text-align: right;\n",
              "    }\n",
              "</style>\n",
              "<table border=\"1\" class=\"dataframe\">\n",
              "  <thead>\n",
              "    <tr style=\"text-align: right;\">\n",
              "      <th></th>\n",
              "      <th>day</th>\n",
              "    </tr>\n",
              "    <tr>\n",
              "      <th>city</th>\n",
              "      <th></th>\n",
              "    </tr>\n",
              "  </thead>\n",
              "  <tbody>\n",
              "    <tr>\n",
              "      <th>Moscow</th>\n",
              "      <td>42741</td>\n",
              "    </tr>\n",
              "    <tr>\n",
              "      <th>Saint-Petersburg</th>\n",
              "      <td>18512</td>\n",
              "    </tr>\n",
              "  </tbody>\n",
              "</table>\n",
              "</div><br><label><b>dtype:</b> int64</label>"
            ]
          },
          "metadata": {},
          "execution_count": 18
        }
      ],
      "source": [
        "# подсчёт прослушиваний в каждом городе\n",
        "df_city = df.groupby('city')['day'].count()\n",
        "df_city"
      ]
    },
    {
      "cell_type": "markdown",
      "metadata": {
        "id": "dzli3w8o_Zcu",
        "tags": [
          "start_task"
        ]
      },
      "source": [
        "**Задание 19**\n"
      ]
    },
    {
      "cell_type": "code",
      "execution_count": 19,
      "metadata": {
        "deletable": false,
        "id": "uZMKjiJz_Zcu",
        "colab": {
          "base_uri": "https://localhost:8080/",
          "height": 143
        },
        "outputId": "2844f251-7a70-460b-e3aa-3341cff053f4"
      },
      "outputs": [
        {
          "output_type": "execute_result",
          "data": {
            "text/plain": [
              "         day  user_id\n",
              "0     Friday    21840\n",
              "1     Monday    21354\n",
              "2  Wednesday    18059"
            ],
            "text/html": [
              "\n",
              "  <div id=\"df-fba2c7ca-c4c7-4bb9-8de5-d32abd885f4c\" class=\"colab-df-container\">\n",
              "    <div>\n",
              "<style scoped>\n",
              "    .dataframe tbody tr th:only-of-type {\n",
              "        vertical-align: middle;\n",
              "    }\n",
              "\n",
              "    .dataframe tbody tr th {\n",
              "        vertical-align: top;\n",
              "    }\n",
              "\n",
              "    .dataframe thead th {\n",
              "        text-align: right;\n",
              "    }\n",
              "</style>\n",
              "<table border=\"1\" class=\"dataframe\">\n",
              "  <thead>\n",
              "    <tr style=\"text-align: right;\">\n",
              "      <th></th>\n",
              "      <th>day</th>\n",
              "      <th>user_id</th>\n",
              "    </tr>\n",
              "  </thead>\n",
              "  <tbody>\n",
              "    <tr>\n",
              "      <th>0</th>\n",
              "      <td>Friday</td>\n",
              "      <td>21840</td>\n",
              "    </tr>\n",
              "    <tr>\n",
              "      <th>1</th>\n",
              "      <td>Monday</td>\n",
              "      <td>21354</td>\n",
              "    </tr>\n",
              "    <tr>\n",
              "      <th>2</th>\n",
              "      <td>Wednesday</td>\n",
              "      <td>18059</td>\n",
              "    </tr>\n",
              "  </tbody>\n",
              "</table>\n",
              "</div>\n",
              "    <div class=\"colab-df-buttons\">\n",
              "\n",
              "  <div class=\"colab-df-container\">\n",
              "    <button class=\"colab-df-convert\" onclick=\"convertToInteractive('df-fba2c7ca-c4c7-4bb9-8de5-d32abd885f4c')\"\n",
              "            title=\"Convert this dataframe to an interactive table.\"\n",
              "            style=\"display:none;\">\n",
              "\n",
              "  <svg xmlns=\"http://www.w3.org/2000/svg\" height=\"24px\" viewBox=\"0 -960 960 960\">\n",
              "    <path d=\"M120-120v-720h720v720H120Zm60-500h600v-160H180v160Zm220 220h160v-160H400v160Zm0 220h160v-160H400v160ZM180-400h160v-160H180v160Zm440 0h160v-160H620v160ZM180-180h160v-160H180v160Zm440 0h160v-160H620v160Z\"/>\n",
              "  </svg>\n",
              "    </button>\n",
              "\n",
              "  <style>\n",
              "    .colab-df-container {\n",
              "      display:flex;\n",
              "      gap: 12px;\n",
              "    }\n",
              "\n",
              "    .colab-df-convert {\n",
              "      background-color: #E8F0FE;\n",
              "      border: none;\n",
              "      border-radius: 50%;\n",
              "      cursor: pointer;\n",
              "      display: none;\n",
              "      fill: #1967D2;\n",
              "      height: 32px;\n",
              "      padding: 0 0 0 0;\n",
              "      width: 32px;\n",
              "    }\n",
              "\n",
              "    .colab-df-convert:hover {\n",
              "      background-color: #E2EBFA;\n",
              "      box-shadow: 0px 1px 2px rgba(60, 64, 67, 0.3), 0px 1px 3px 1px rgba(60, 64, 67, 0.15);\n",
              "      fill: #174EA6;\n",
              "    }\n",
              "\n",
              "    .colab-df-buttons div {\n",
              "      margin-bottom: 4px;\n",
              "    }\n",
              "\n",
              "    [theme=dark] .colab-df-convert {\n",
              "      background-color: #3B4455;\n",
              "      fill: #D2E3FC;\n",
              "    }\n",
              "\n",
              "    [theme=dark] .colab-df-convert:hover {\n",
              "      background-color: #434B5C;\n",
              "      box-shadow: 0px 1px 3px 1px rgba(0, 0, 0, 0.15);\n",
              "      filter: drop-shadow(0px 1px 2px rgba(0, 0, 0, 0.3));\n",
              "      fill: #FFFFFF;\n",
              "    }\n",
              "  </style>\n",
              "\n",
              "    <script>\n",
              "      const buttonEl =\n",
              "        document.querySelector('#df-fba2c7ca-c4c7-4bb9-8de5-d32abd885f4c button.colab-df-convert');\n",
              "      buttonEl.style.display =\n",
              "        google.colab.kernel.accessAllowed ? 'block' : 'none';\n",
              "\n",
              "      async function convertToInteractive(key) {\n",
              "        const element = document.querySelector('#df-fba2c7ca-c4c7-4bb9-8de5-d32abd885f4c');\n",
              "        const dataTable =\n",
              "          await google.colab.kernel.invokeFunction('convertToInteractive',\n",
              "                                                    [key], {});\n",
              "        if (!dataTable) return;\n",
              "\n",
              "        const docLinkHtml = 'Like what you see? Visit the ' +\n",
              "          '<a target=\"_blank\" href=https://colab.research.google.com/notebooks/data_table.ipynb>data table notebook</a>'\n",
              "          + ' to learn more about interactive tables.';\n",
              "        element.innerHTML = '';\n",
              "        dataTable['output_type'] = 'display_data';\n",
              "        await google.colab.output.renderOutput(dataTable, element);\n",
              "        const docLink = document.createElement('div');\n",
              "        docLink.innerHTML = docLinkHtml;\n",
              "        element.appendChild(docLink);\n",
              "      }\n",
              "    </script>\n",
              "  </div>\n",
              "\n",
              "\n",
              "<div id=\"df-4d1f4360-36db-42ac-aad0-889aca1620e0\">\n",
              "  <button class=\"colab-df-quickchart\" onclick=\"quickchart('df-4d1f4360-36db-42ac-aad0-889aca1620e0')\"\n",
              "            title=\"Suggest charts\"\n",
              "            style=\"display:none;\">\n",
              "\n",
              "<svg xmlns=\"http://www.w3.org/2000/svg\" height=\"24px\"viewBox=\"0 0 24 24\"\n",
              "     width=\"24px\">\n",
              "    <g>\n",
              "        <path d=\"M19 3H5c-1.1 0-2 .9-2 2v14c0 1.1.9 2 2 2h14c1.1 0 2-.9 2-2V5c0-1.1-.9-2-2-2zM9 17H7v-7h2v7zm4 0h-2V7h2v10zm4 0h-2v-4h2v4z\"/>\n",
              "    </g>\n",
              "</svg>\n",
              "  </button>\n",
              "\n",
              "<style>\n",
              "  .colab-df-quickchart {\n",
              "      --bg-color: #E8F0FE;\n",
              "      --fill-color: #1967D2;\n",
              "      --hover-bg-color: #E2EBFA;\n",
              "      --hover-fill-color: #174EA6;\n",
              "      --disabled-fill-color: #AAA;\n",
              "      --disabled-bg-color: #DDD;\n",
              "  }\n",
              "\n",
              "  [theme=dark] .colab-df-quickchart {\n",
              "      --bg-color: #3B4455;\n",
              "      --fill-color: #D2E3FC;\n",
              "      --hover-bg-color: #434B5C;\n",
              "      --hover-fill-color: #FFFFFF;\n",
              "      --disabled-bg-color: #3B4455;\n",
              "      --disabled-fill-color: #666;\n",
              "  }\n",
              "\n",
              "  .colab-df-quickchart {\n",
              "    background-color: var(--bg-color);\n",
              "    border: none;\n",
              "    border-radius: 50%;\n",
              "    cursor: pointer;\n",
              "    display: none;\n",
              "    fill: var(--fill-color);\n",
              "    height: 32px;\n",
              "    padding: 0;\n",
              "    width: 32px;\n",
              "  }\n",
              "\n",
              "  .colab-df-quickchart:hover {\n",
              "    background-color: var(--hover-bg-color);\n",
              "    box-shadow: 0 1px 2px rgba(60, 64, 67, 0.3), 0 1px 3px 1px rgba(60, 64, 67, 0.15);\n",
              "    fill: var(--button-hover-fill-color);\n",
              "  }\n",
              "\n",
              "  .colab-df-quickchart-complete:disabled,\n",
              "  .colab-df-quickchart-complete:disabled:hover {\n",
              "    background-color: var(--disabled-bg-color);\n",
              "    fill: var(--disabled-fill-color);\n",
              "    box-shadow: none;\n",
              "  }\n",
              "\n",
              "  .colab-df-spinner {\n",
              "    border: 2px solid var(--fill-color);\n",
              "    border-color: transparent;\n",
              "    border-bottom-color: var(--fill-color);\n",
              "    animation:\n",
              "      spin 1s steps(1) infinite;\n",
              "  }\n",
              "\n",
              "  @keyframes spin {\n",
              "    0% {\n",
              "      border-color: transparent;\n",
              "      border-bottom-color: var(--fill-color);\n",
              "      border-left-color: var(--fill-color);\n",
              "    }\n",
              "    20% {\n",
              "      border-color: transparent;\n",
              "      border-left-color: var(--fill-color);\n",
              "      border-top-color: var(--fill-color);\n",
              "    }\n",
              "    30% {\n",
              "      border-color: transparent;\n",
              "      border-left-color: var(--fill-color);\n",
              "      border-top-color: var(--fill-color);\n",
              "      border-right-color: var(--fill-color);\n",
              "    }\n",
              "    40% {\n",
              "      border-color: transparent;\n",
              "      border-right-color: var(--fill-color);\n",
              "      border-top-color: var(--fill-color);\n",
              "    }\n",
              "    60% {\n",
              "      border-color: transparent;\n",
              "      border-right-color: var(--fill-color);\n",
              "    }\n",
              "    80% {\n",
              "      border-color: transparent;\n",
              "      border-right-color: var(--fill-color);\n",
              "      border-bottom-color: var(--fill-color);\n",
              "    }\n",
              "    90% {\n",
              "      border-color: transparent;\n",
              "      border-bottom-color: var(--fill-color);\n",
              "    }\n",
              "  }\n",
              "</style>\n",
              "\n",
              "  <script>\n",
              "    async function quickchart(key) {\n",
              "      const quickchartButtonEl =\n",
              "        document.querySelector('#' + key + ' button');\n",
              "      quickchartButtonEl.disabled = true;  // To prevent multiple clicks.\n",
              "      quickchartButtonEl.classList.add('colab-df-spinner');\n",
              "      try {\n",
              "        const charts = await google.colab.kernel.invokeFunction(\n",
              "            'suggestCharts', [key], {});\n",
              "      } catch (error) {\n",
              "        console.error('Error during call to suggestCharts:', error);\n",
              "      }\n",
              "      quickchartButtonEl.classList.remove('colab-df-spinner');\n",
              "      quickchartButtonEl.classList.add('colab-df-quickchart-complete');\n",
              "    }\n",
              "    (() => {\n",
              "      let quickchartButtonEl =\n",
              "        document.querySelector('#df-4d1f4360-36db-42ac-aad0-889aca1620e0 button');\n",
              "      quickchartButtonEl.style.display =\n",
              "        google.colab.kernel.accessAllowed ? 'block' : 'none';\n",
              "    })();\n",
              "  </script>\n",
              "</div>\n",
              "    </div>\n",
              "  </div>\n"
            ],
            "application/vnd.google.colaboratory.intrinsic+json": {
              "type": "dataframe",
              "summary": "{\n  \"name\": \"df\",\n  \"rows\": 3,\n  \"fields\": [\n    {\n      \"column\": \"day\",\n      \"properties\": {\n        \"dtype\": \"string\",\n        \"num_unique_values\": 3,\n        \"samples\": [\n          \"Friday\",\n          \"Monday\",\n          \"Wednesday\"\n        ],\n        \"semantic_type\": \"\",\n        \"description\": \"\"\n      }\n    },\n    {\n      \"column\": \"user_id\",\n      \"properties\": {\n        \"dtype\": \"number\",\n        \"std\": 2057,\n        \"min\": 18059,\n        \"max\": 21840,\n        \"num_unique_values\": 3,\n        \"samples\": [\n          21840,\n          21354,\n          18059\n        ],\n        \"semantic_type\": \"\",\n        \"description\": \"\"\n      }\n    }\n  ]\n}"
            }
          },
          "metadata": {},
          "execution_count": 19
        }
      ],
      "source": [
        "# подсчёт прослушиваний в каждый из трёх дней\n",
        "\n",
        "df.groupby('day').agg({'user_id' : 'count'}).reset_index()"
      ]
    },
    {
      "cell_type": "markdown",
      "metadata": {
        "deletable": false,
        "editable": false,
        "id": "POzs8bGa_Zcu",
        "tags": [
          "start_task"
        ]
      },
      "source": [
        "**Задание 20**"
      ]
    },
    {
      "cell_type": "code",
      "execution_count": 20,
      "metadata": {
        "deletable": false,
        "id": "Nz3GdQB1_Zcu"
      },
      "outputs": [],
      "source": [
        "def number_tracks(day, city):\n",
        "    track_list = df[df['day'] == day] # выберите только строки df со значением переменной day в столбце day\n",
        "    track_list = track_list[track_list['city'] == city] # выберите только строки track_list со значением переменной city в столбце city\n",
        "    track_list_count = track_list['user_id'].count() # вызовите метод подсчета строк для track_list и выберите столбец user_id\n",
        "    return track_list_count # верните значение track_list_count из функции"
      ]
    },
    {
      "cell_type": "markdown",
      "metadata": {
        "deletable": false,
        "editable": false,
        "id": "ytf7xFrFJQ2r",
        "tags": [
          "start_task"
        ]
      },
      "source": [
        "**Задание 21**"
      ]
    },
    {
      "cell_type": "code",
      "execution_count": 21,
      "metadata": {
        "deletable": false,
        "id": "rJcRATNQ_Zcu",
        "colab": {
          "base_uri": "https://localhost:8080/"
        },
        "outputId": "29d6420f-aaaa-4082-8d49-0a5a1a2c12db"
      },
      "outputs": [
        {
          "output_type": "execute_result",
          "data": {
            "text/plain": [
              "15740"
            ]
          },
          "metadata": {},
          "execution_count": 21
        }
      ],
      "source": [
        "number_tracks('Monday', 'Moscow') # количество прослушиваний в Москве по понедельникам"
      ]
    },
    {
      "cell_type": "code",
      "execution_count": 22,
      "metadata": {
        "deletable": false,
        "id": "hq_ncZ5T_Zcu",
        "colab": {
          "base_uri": "https://localhost:8080/"
        },
        "outputId": "6f05e1e7-8678-40bb-b6d6-55f3493e7c54"
      },
      "outputs": [
        {
          "output_type": "execute_result",
          "data": {
            "text/plain": [
              "5614"
            ]
          },
          "metadata": {},
          "execution_count": 22
        }
      ],
      "source": [
        "number_tracks('Monday', 'Saint-Petersburg') # количество прослушиваний в Санкт-Петербурге по понедельникам"
      ]
    },
    {
      "cell_type": "code",
      "execution_count": 23,
      "metadata": {
        "deletable": false,
        "id": "_NTy2VPU_Zcu",
        "colab": {
          "base_uri": "https://localhost:8080/"
        },
        "outputId": "0efc3d37-dd99-493d-c95f-d4e41c24e22d"
      },
      "outputs": [
        {
          "output_type": "execute_result",
          "data": {
            "text/plain": [
              "11056"
            ]
          },
          "metadata": {},
          "execution_count": 23
        }
      ],
      "source": [
        "number_tracks('Wednesday','Moscow') # количество прослушиваний в Москве по средам"
      ]
    },
    {
      "cell_type": "code",
      "execution_count": 24,
      "metadata": {
        "deletable": false,
        "id": "j2y3TAwo_Zcu",
        "colab": {
          "base_uri": "https://localhost:8080/"
        },
        "outputId": "4a3e3f87-669a-4e59-e8a8-48ad77e8f892"
      },
      "outputs": [
        {
          "output_type": "execute_result",
          "data": {
            "text/plain": [
              "7003"
            ]
          },
          "metadata": {},
          "execution_count": 24
        }
      ],
      "source": [
        "number_tracks('Wednesday','Saint-Petersburg') # количество прослушиваний в Санкт-Петербурге по средам"
      ]
    },
    {
      "cell_type": "code",
      "execution_count": 25,
      "metadata": {
        "deletable": false,
        "id": "vYDw5u_K_Zcu",
        "colab": {
          "base_uri": "https://localhost:8080/"
        },
        "outputId": "aedc3182-77e1-4de2-b5e3-fd208004eb08"
      },
      "outputs": [
        {
          "output_type": "execute_result",
          "data": {
            "text/plain": [
              "15945"
            ]
          },
          "metadata": {},
          "execution_count": 25
        }
      ],
      "source": [
        "number_tracks('Friday','Moscow') # количество прослушиваний в Москве по пятницам"
      ]
    },
    {
      "cell_type": "code",
      "execution_count": 26,
      "metadata": {
        "deletable": false,
        "id": "8_yzFtW3_Zcu",
        "colab": {
          "base_uri": "https://localhost:8080/"
        },
        "outputId": "023afc74-8148-49ed-a591-10ffc6d3eb4a"
      },
      "outputs": [
        {
          "output_type": "execute_result",
          "data": {
            "text/plain": [
              "5895"
            ]
          },
          "metadata": {},
          "execution_count": 26
        }
      ],
      "source": [
        "number_tracks('Friday','Saint-Petersburg') # количество прослушиваний в Санкт-Петербурге по пятницам"
      ]
    },
    {
      "cell_type": "markdown",
      "metadata": {
        "deletable": false,
        "editable": false,
        "id": "7QXffbO-_Zcu",
        "tags": [
          "start_task"
        ]
      },
      "source": [
        "**Задание 22**"
      ]
    },
    {
      "cell_type": "code",
      "execution_count": 27,
      "metadata": {
        "deletable": false,
        "id": "APAcLpOr_Zcu"
      },
      "outputs": [],
      "source": [
        "# создание таблицы info с результатами\n",
        "# вывод таблицы на экран\n",
        "\n",
        "data = [\n",
        "    ['Moscow', 15740, 11056, 15945],\n",
        "    ['Saint-Petersburg', 5614, 7003, 5895],]\n",
        "\n",
        "columns = ['city', 'monday', 'wednesday', 'friday']\n",
        "\n",
        "info = pd.DataFrame(data=data, columns=columns)\n",
        "\n"
      ]
    },
    {
      "cell_type": "markdown",
      "metadata": {
        "deletable": false,
        "editable": false,
        "id": "-EgPIHYu_Zcu"
      },
      "source": [
        "**Выводы**\n",
        "\n",
        "Данные показывают разницу поведения пользователей:\n",
        "\n",
        "- В Москве пик прослушиваний приходится на понедельник и пятницу, а в среду заметен спад.\n",
        "- В Петербурге, наоборот, больше слушают музыку по средам. Активность в понедельник и пятницу здесь почти в равной мере уступает среде.\n",
        "\n",
        "Значит, данные говорят в пользу первой гипотезы."
      ]
    },
    {
      "cell_type": "markdown",
      "metadata": {
        "deletable": false,
        "editable": false,
        "id": "atZAxtq4_Zcu"
      },
      "source": [
        "### Музыка в начале и в конце недели"
      ]
    },
    {
      "cell_type": "markdown",
      "metadata": {
        "deletable": false,
        "editable": false,
        "id": "eXrQqXFH_Zcu"
      },
      "source": [
        "Согласно второй гипотезе, утром в понедельник в Москве преобладают одни жанры, а в Петербурге — другие. Так же и вечером пятницы преобладают разные жанры — в зависимости от города."
      ]
    },
    {
      "cell_type": "markdown",
      "metadata": {
        "deletable": false,
        "editable": false,
        "id": "S8UcW6Hw_Zcu",
        "tags": [
          "start_task"
        ]
      },
      "source": [
        "**Задание 23**"
      ]
    },
    {
      "cell_type": "code",
      "execution_count": 28,
      "metadata": {
        "deletable": false,
        "id": "qeaFfM_P_Zcu"
      },
      "outputs": [],
      "source": [
        "# получение таблицы moscow_general из тех строк таблицы df, для которых значение в столбце 'city' равно 'Moscow'\n",
        "\n",
        "moscow_general = df[df['city'] == 'Moscow']\n"
      ]
    },
    {
      "cell_type": "code",
      "execution_count": 29,
      "metadata": {
        "deletable": false,
        "id": "ORaVRKto_Zcu"
      },
      "outputs": [],
      "source": [
        "# получение таблицы spb_general из тех строк таблицы df, для которых значение в столбце 'city' равно 'Saint-Petersburg'\n",
        "\n",
        "spb_general = df[df['city'] == 'Saint-Petersburg']"
      ]
    },
    {
      "cell_type": "markdown",
      "metadata": {
        "deletable": false,
        "editable": false,
        "id": "MEJV-CX2_Zcu",
        "tags": [
          "start_task"
        ]
      },
      "source": [
        "**Задание 24**"
      ]
    },
    {
      "cell_type": "code",
      "execution_count": 30,
      "metadata": {
        "deletable": false,
        "id": "laJT9BYl_Zcu"
      },
      "outputs": [],
      "source": [
        "def genre_weekday(df, day, time1, time2):\n",
        "    # последовательная фильтрация\n",
        "    # оставляем в genre_df только те строки df, у которых день равен day\n",
        "    genre_df = df[df['day'] == day]# ваш код здесь\n",
        "    # оставляем в genre_df только те строки genre_df, у которых время меньше time2\n",
        "    genre_df = genre_df[genre_df['time'] < time2]# ваш код здесь\n",
        "    # оставляем в genre_df только те строки genre_df, у которых время больше time1\n",
        "    genre_df = genre_df[genre_df['time'] > time1]# ваш код здесь\n",
        "    # сгруппируем отфильтрованный датафрейм по столбцу с названиями жанров, возьмём столбец genre и посчитаем кол-во строк для каждого жанра методом count()\n",
        "    genre_df_grouped = genre_df.groupby('genre')['genre'].count()# ваш код здесь\n",
        "    # отсортируем результат по убыванию (чтобы в начале Series оказались самые популярные жанры)\n",
        "    genre_df_sorted = genre_df_grouped.sort_values(ascending=False)# ваш код здесь\n",
        "    # вернём Series с 10 самыми популярными жанрами в указанный отрезок времени заданного дня\n",
        "    return genre_df_sorted[:10]"
      ]
    },
    {
      "cell_type": "markdown",
      "metadata": {
        "deletable": false,
        "editable": false,
        "id": "la2s2_PF_Zcu",
        "tags": [
          "start_task"
        ]
      },
      "source": [
        "**Задание 25**"
      ]
    },
    {
      "cell_type": "code",
      "execution_count": 31,
      "metadata": {
        "deletable": false,
        "id": "yz7itPUQ_Zcu",
        "colab": {
          "base_uri": "https://localhost:8080/",
          "height": 429
        },
        "outputId": "69ea1179-5987-41a9-9b66-f8c25a9797d5"
      },
      "outputs": [
        {
          "output_type": "execute_result",
          "data": {
            "text/plain": [
              "genre\n",
              "pop            781\n",
              "dance          549\n",
              "electronic     480\n",
              "rock           474\n",
              "hiphop         286\n",
              "ruspop         186\n",
              "world          181\n",
              "rusrap         175\n",
              "alternative    164\n",
              "unknown        161\n",
              "Name: genre, dtype: int64"
            ],
            "text/html": [
              "<div>\n",
              "<style scoped>\n",
              "    .dataframe tbody tr th:only-of-type {\n",
              "        vertical-align: middle;\n",
              "    }\n",
              "\n",
              "    .dataframe tbody tr th {\n",
              "        vertical-align: top;\n",
              "    }\n",
              "\n",
              "    .dataframe thead th {\n",
              "        text-align: right;\n",
              "    }\n",
              "</style>\n",
              "<table border=\"1\" class=\"dataframe\">\n",
              "  <thead>\n",
              "    <tr style=\"text-align: right;\">\n",
              "      <th></th>\n",
              "      <th>genre</th>\n",
              "    </tr>\n",
              "    <tr>\n",
              "      <th>genre</th>\n",
              "      <th></th>\n",
              "    </tr>\n",
              "  </thead>\n",
              "  <tbody>\n",
              "    <tr>\n",
              "      <th>pop</th>\n",
              "      <td>781</td>\n",
              "    </tr>\n",
              "    <tr>\n",
              "      <th>dance</th>\n",
              "      <td>549</td>\n",
              "    </tr>\n",
              "    <tr>\n",
              "      <th>electronic</th>\n",
              "      <td>480</td>\n",
              "    </tr>\n",
              "    <tr>\n",
              "      <th>rock</th>\n",
              "      <td>474</td>\n",
              "    </tr>\n",
              "    <tr>\n",
              "      <th>hiphop</th>\n",
              "      <td>286</td>\n",
              "    </tr>\n",
              "    <tr>\n",
              "      <th>ruspop</th>\n",
              "      <td>186</td>\n",
              "    </tr>\n",
              "    <tr>\n",
              "      <th>world</th>\n",
              "      <td>181</td>\n",
              "    </tr>\n",
              "    <tr>\n",
              "      <th>rusrap</th>\n",
              "      <td>175</td>\n",
              "    </tr>\n",
              "    <tr>\n",
              "      <th>alternative</th>\n",
              "      <td>164</td>\n",
              "    </tr>\n",
              "    <tr>\n",
              "      <th>unknown</th>\n",
              "      <td>161</td>\n",
              "    </tr>\n",
              "  </tbody>\n",
              "</table>\n",
              "</div><br><label><b>dtype:</b> int64</label>"
            ]
          },
          "metadata": {},
          "execution_count": 31
        }
      ],
      "source": [
        "# вызов функции для утра понедельника в Москве (вместо df — таблица moscow_general)\n",
        "\n",
        "genre_weekday(moscow_general,'Monday','07:00','11:00')"
      ]
    },
    {
      "cell_type": "code",
      "execution_count": 32,
      "metadata": {
        "deletable": false,
        "id": "kwUcHPdy_Zcu",
        "colab": {
          "base_uri": "https://localhost:8080/",
          "height": 429
        },
        "outputId": "f4ed6945-dcc7-4ab7-b4df-5680e54b4119"
      },
      "outputs": [
        {
          "output_type": "execute_result",
          "data": {
            "text/plain": [
              "genre\n",
              "pop            218\n",
              "dance          182\n",
              "rock           162\n",
              "electronic     147\n",
              "hiphop          80\n",
              "ruspop          64\n",
              "alternative     58\n",
              "rusrap          55\n",
              "jazz            44\n",
              "classical       40\n",
              "Name: genre, dtype: int64"
            ],
            "text/html": [
              "<div>\n",
              "<style scoped>\n",
              "    .dataframe tbody tr th:only-of-type {\n",
              "        vertical-align: middle;\n",
              "    }\n",
              "\n",
              "    .dataframe tbody tr th {\n",
              "        vertical-align: top;\n",
              "    }\n",
              "\n",
              "    .dataframe thead th {\n",
              "        text-align: right;\n",
              "    }\n",
              "</style>\n",
              "<table border=\"1\" class=\"dataframe\">\n",
              "  <thead>\n",
              "    <tr style=\"text-align: right;\">\n",
              "      <th></th>\n",
              "      <th>genre</th>\n",
              "    </tr>\n",
              "    <tr>\n",
              "      <th>genre</th>\n",
              "      <th></th>\n",
              "    </tr>\n",
              "  </thead>\n",
              "  <tbody>\n",
              "    <tr>\n",
              "      <th>pop</th>\n",
              "      <td>218</td>\n",
              "    </tr>\n",
              "    <tr>\n",
              "      <th>dance</th>\n",
              "      <td>182</td>\n",
              "    </tr>\n",
              "    <tr>\n",
              "      <th>rock</th>\n",
              "      <td>162</td>\n",
              "    </tr>\n",
              "    <tr>\n",
              "      <th>electronic</th>\n",
              "      <td>147</td>\n",
              "    </tr>\n",
              "    <tr>\n",
              "      <th>hiphop</th>\n",
              "      <td>80</td>\n",
              "    </tr>\n",
              "    <tr>\n",
              "      <th>ruspop</th>\n",
              "      <td>64</td>\n",
              "    </tr>\n",
              "    <tr>\n",
              "      <th>alternative</th>\n",
              "      <td>58</td>\n",
              "    </tr>\n",
              "    <tr>\n",
              "      <th>rusrap</th>\n",
              "      <td>55</td>\n",
              "    </tr>\n",
              "    <tr>\n",
              "      <th>jazz</th>\n",
              "      <td>44</td>\n",
              "    </tr>\n",
              "    <tr>\n",
              "      <th>classical</th>\n",
              "      <td>40</td>\n",
              "    </tr>\n",
              "  </tbody>\n",
              "</table>\n",
              "</div><br><label><b>dtype:</b> int64</label>"
            ]
          },
          "metadata": {},
          "execution_count": 32
        }
      ],
      "source": [
        "# вызов функции для утра понедельника в Петербурге (вместо df — таблица spb_general)\n",
        "\n",
        "genre_weekday(spb_general,'Monday','07:00','11:00')"
      ]
    },
    {
      "cell_type": "code",
      "execution_count": 33,
      "metadata": {
        "deletable": false,
        "id": "EzXVRE1o_Zcu",
        "colab": {
          "base_uri": "https://localhost:8080/",
          "height": 429
        },
        "outputId": "575b2f24-5781-4255-9066-10ea0829a55f"
      },
      "outputs": [
        {
          "output_type": "execute_result",
          "data": {
            "text/plain": [
              "genre\n",
              "pop            713\n",
              "rock           517\n",
              "dance          495\n",
              "electronic     482\n",
              "hiphop         273\n",
              "world          208\n",
              "ruspop         170\n",
              "alternative    163\n",
              "classical      163\n",
              "rusrap         142\n",
              "Name: genre, dtype: int64"
            ],
            "text/html": [
              "<div>\n",
              "<style scoped>\n",
              "    .dataframe tbody tr th:only-of-type {\n",
              "        vertical-align: middle;\n",
              "    }\n",
              "\n",
              "    .dataframe tbody tr th {\n",
              "        vertical-align: top;\n",
              "    }\n",
              "\n",
              "    .dataframe thead th {\n",
              "        text-align: right;\n",
              "    }\n",
              "</style>\n",
              "<table border=\"1\" class=\"dataframe\">\n",
              "  <thead>\n",
              "    <tr style=\"text-align: right;\">\n",
              "      <th></th>\n",
              "      <th>genre</th>\n",
              "    </tr>\n",
              "    <tr>\n",
              "      <th>genre</th>\n",
              "      <th></th>\n",
              "    </tr>\n",
              "  </thead>\n",
              "  <tbody>\n",
              "    <tr>\n",
              "      <th>pop</th>\n",
              "      <td>713</td>\n",
              "    </tr>\n",
              "    <tr>\n",
              "      <th>rock</th>\n",
              "      <td>517</td>\n",
              "    </tr>\n",
              "    <tr>\n",
              "      <th>dance</th>\n",
              "      <td>495</td>\n",
              "    </tr>\n",
              "    <tr>\n",
              "      <th>electronic</th>\n",
              "      <td>482</td>\n",
              "    </tr>\n",
              "    <tr>\n",
              "      <th>hiphop</th>\n",
              "      <td>273</td>\n",
              "    </tr>\n",
              "    <tr>\n",
              "      <th>world</th>\n",
              "      <td>208</td>\n",
              "    </tr>\n",
              "    <tr>\n",
              "      <th>ruspop</th>\n",
              "      <td>170</td>\n",
              "    </tr>\n",
              "    <tr>\n",
              "      <th>alternative</th>\n",
              "      <td>163</td>\n",
              "    </tr>\n",
              "    <tr>\n",
              "      <th>classical</th>\n",
              "      <td>163</td>\n",
              "    </tr>\n",
              "    <tr>\n",
              "      <th>rusrap</th>\n",
              "      <td>142</td>\n",
              "    </tr>\n",
              "  </tbody>\n",
              "</table>\n",
              "</div><br><label><b>dtype:</b> int64</label>"
            ]
          },
          "metadata": {},
          "execution_count": 33
        }
      ],
      "source": [
        "# вызов функции для вечера пятницы в Москве\n",
        "\n",
        "genre_weekday(moscow_general,'Friday','17:00','23:00')"
      ]
    },
    {
      "cell_type": "code",
      "execution_count": 34,
      "metadata": {
        "deletable": false,
        "id": "JZaEKu5v_Zcu",
        "colab": {
          "base_uri": "https://localhost:8080/",
          "height": 429
        },
        "outputId": "494128f2-09d3-4247-d158-3587fca2c2a7"
      },
      "outputs": [
        {
          "output_type": "execute_result",
          "data": {
            "text/plain": [
              "genre\n",
              "pop            256\n",
              "electronic     216\n",
              "rock           216\n",
              "dance          210\n",
              "hiphop          97\n",
              "alternative     63\n",
              "jazz            61\n",
              "classical       60\n",
              "rusrap          59\n",
              "world           54\n",
              "Name: genre, dtype: int64"
            ],
            "text/html": [
              "<div>\n",
              "<style scoped>\n",
              "    .dataframe tbody tr th:only-of-type {\n",
              "        vertical-align: middle;\n",
              "    }\n",
              "\n",
              "    .dataframe tbody tr th {\n",
              "        vertical-align: top;\n",
              "    }\n",
              "\n",
              "    .dataframe thead th {\n",
              "        text-align: right;\n",
              "    }\n",
              "</style>\n",
              "<table border=\"1\" class=\"dataframe\">\n",
              "  <thead>\n",
              "    <tr style=\"text-align: right;\">\n",
              "      <th></th>\n",
              "      <th>genre</th>\n",
              "    </tr>\n",
              "    <tr>\n",
              "      <th>genre</th>\n",
              "      <th></th>\n",
              "    </tr>\n",
              "  </thead>\n",
              "  <tbody>\n",
              "    <tr>\n",
              "      <th>pop</th>\n",
              "      <td>256</td>\n",
              "    </tr>\n",
              "    <tr>\n",
              "      <th>electronic</th>\n",
              "      <td>216</td>\n",
              "    </tr>\n",
              "    <tr>\n",
              "      <th>rock</th>\n",
              "      <td>216</td>\n",
              "    </tr>\n",
              "    <tr>\n",
              "      <th>dance</th>\n",
              "      <td>210</td>\n",
              "    </tr>\n",
              "    <tr>\n",
              "      <th>hiphop</th>\n",
              "      <td>97</td>\n",
              "    </tr>\n",
              "    <tr>\n",
              "      <th>alternative</th>\n",
              "      <td>63</td>\n",
              "    </tr>\n",
              "    <tr>\n",
              "      <th>jazz</th>\n",
              "      <td>61</td>\n",
              "    </tr>\n",
              "    <tr>\n",
              "      <th>classical</th>\n",
              "      <td>60</td>\n",
              "    </tr>\n",
              "    <tr>\n",
              "      <th>rusrap</th>\n",
              "      <td>59</td>\n",
              "    </tr>\n",
              "    <tr>\n",
              "      <th>world</th>\n",
              "      <td>54</td>\n",
              "    </tr>\n",
              "  </tbody>\n",
              "</table>\n",
              "</div><br><label><b>dtype:</b> int64</label>"
            ]
          },
          "metadata": {},
          "execution_count": 34
        }
      ],
      "source": [
        "# вызов функции для вечера пятницы в Петербурге\n",
        "\n",
        "genre_weekday(spb_general,'Friday','17:00','23:00')"
      ]
    },
    {
      "cell_type": "markdown",
      "metadata": {
        "deletable": false,
        "editable": false,
        "id": "wrCe4MNX_Zcu"
      },
      "source": [
        "**Выводы**\n",
        "\n",
        "Если сравнить топ-10 жанров в понедельник утром, можно сделать такие выводы:\n",
        "\n",
        "1. В Москве и Петербурге слушают похожую музыку. Единственное различие — в московский рейтинг вошёл жанр “world”, а в петербургский — джаз и классика.\n",
        "\n",
        "2. В Москве пропущенных значений оказалось так много, что значение `'unknown'` заняло десятое место среди самых популярных жанров. Значит, пропущенные значения занимают существенную долю в данных и угрожают достоверности исследования.\n",
        "\n",
        "Вечер пятницы не меняет эту картину. Некоторые жанры поднимаются немного выше, другие спускаются, но в целом топ-10 остаётся тем же самым.\n",
        "\n",
        "Таким образом, вторая гипотеза подтвердилась лишь частично:\n",
        "* Пользователи слушают похожую музыку в начале недели и в конце.\n",
        "* Разница между Москвой и Петербургом не слишком выражена. В Москве чаще слушают русскую популярную музыку, в Петербурге — джаз.\n",
        "\n",
        "Однако пропуски в данных ставят под сомнение этот результат. В Москве их так много, что рейтинг топ-10 мог бы выглядеть иначе, если бы не утерянные  данные о жанрах."
      ]
    },
    {
      "cell_type": "markdown",
      "metadata": {
        "deletable": false,
        "editable": false,
        "id": "JolODAqr_Zcu"
      },
      "source": [
        "### Жанровые предпочтения в Москве и Петербурге\n",
        "\n",
        "Гипотеза: Петербург — столица рэпа, музыку этого жанра там слушают чаще, чем в Москве.  А Москва — город контрастов, в котором, тем не менее, преобладает поп-музыка."
      ]
    },
    {
      "cell_type": "markdown",
      "metadata": {
        "deletable": false,
        "editable": false,
        "id": "DlegSvaT_Zcu",
        "tags": [
          "start_task"
        ]
      },
      "source": [
        "**Задание 26**"
      ]
    },
    {
      "cell_type": "code",
      "execution_count": 35,
      "metadata": {
        "deletable": false,
        "id": "r19lIPke_Zcu",
        "colab": {
          "base_uri": "https://localhost:8080/",
          "height": 490
        },
        "outputId": "7330ffd2-61d9-451b-e45c-5aa3fd6e70f5"
      },
      "outputs": [
        {
          "output_type": "execute_result",
          "data": {
            "text/plain": [
              "genre\n",
              "pop            5892\n",
              "dance          4435\n",
              "rock           3965\n",
              "electronic     3786\n",
              "hiphop         2096\n",
              "               ... \n",
              "neoklassik        1\n",
              "mood              1\n",
              "metalcore         1\n",
              "marschmusik       1\n",
              "ïîï               1\n",
              "Name: genre, Length: 267, dtype: int64"
            ],
            "text/html": [
              "<div>\n",
              "<style scoped>\n",
              "    .dataframe tbody tr th:only-of-type {\n",
              "        vertical-align: middle;\n",
              "    }\n",
              "\n",
              "    .dataframe tbody tr th {\n",
              "        vertical-align: top;\n",
              "    }\n",
              "\n",
              "    .dataframe thead th {\n",
              "        text-align: right;\n",
              "    }\n",
              "</style>\n",
              "<table border=\"1\" class=\"dataframe\">\n",
              "  <thead>\n",
              "    <tr style=\"text-align: right;\">\n",
              "      <th></th>\n",
              "      <th>genre</th>\n",
              "    </tr>\n",
              "    <tr>\n",
              "      <th>genre</th>\n",
              "      <th></th>\n",
              "    </tr>\n",
              "  </thead>\n",
              "  <tbody>\n",
              "    <tr>\n",
              "      <th>pop</th>\n",
              "      <td>5892</td>\n",
              "    </tr>\n",
              "    <tr>\n",
              "      <th>dance</th>\n",
              "      <td>4435</td>\n",
              "    </tr>\n",
              "    <tr>\n",
              "      <th>rock</th>\n",
              "      <td>3965</td>\n",
              "    </tr>\n",
              "    <tr>\n",
              "      <th>electronic</th>\n",
              "      <td>3786</td>\n",
              "    </tr>\n",
              "    <tr>\n",
              "      <th>hiphop</th>\n",
              "      <td>2096</td>\n",
              "    </tr>\n",
              "    <tr>\n",
              "      <th>...</th>\n",
              "      <td>...</td>\n",
              "    </tr>\n",
              "    <tr>\n",
              "      <th>neoklassik</th>\n",
              "      <td>1</td>\n",
              "    </tr>\n",
              "    <tr>\n",
              "      <th>mood</th>\n",
              "      <td>1</td>\n",
              "    </tr>\n",
              "    <tr>\n",
              "      <th>metalcore</th>\n",
              "      <td>1</td>\n",
              "    </tr>\n",
              "    <tr>\n",
              "      <th>marschmusik</th>\n",
              "      <td>1</td>\n",
              "    </tr>\n",
              "    <tr>\n",
              "      <th>ïîï</th>\n",
              "      <td>1</td>\n",
              "    </tr>\n",
              "  </tbody>\n",
              "</table>\n",
              "<p>267 rows × 1 columns</p>\n",
              "</div><br><label><b>dtype:</b> int64</label>"
            ]
          },
          "metadata": {},
          "execution_count": 35
        }
      ],
      "source": [
        "# одной строкой: группировка таблицы moscow_general по столбцу 'genre', выбор столбца `genre`, подсчёт числа значений 'genre' методом count(),\n",
        "# сохранение в moscow_genres # сортировка получившегося Series в порядке убывания и сохранение обратно в moscow_genres\n",
        "\n",
        "moscow_genres = moscow_general.groupby('genre')['genre'].count().sort_values(ascending=False)\n",
        "moscow_genres\n"
      ]
    },
    {
      "cell_type": "markdown",
      "metadata": {
        "deletable": false,
        "editable": false,
        "id": "6kMuomxTiIr8",
        "tags": [
          "start_task"
        ]
      },
      "source": [
        "**Задание 27**"
      ]
    },
    {
      "cell_type": "code",
      "execution_count": 36,
      "metadata": {
        "deletable": false,
        "id": "WhCSooF8_Zcv",
        "colab": {
          "base_uri": "https://localhost:8080/",
          "height": 429
        },
        "outputId": "7d711c6c-4a84-4253-f934-eaf490dd7c6c"
      },
      "outputs": [
        {
          "output_type": "execute_result",
          "data": {
            "text/plain": [
              "genre\n",
              "pop            5892\n",
              "dance          4435\n",
              "rock           3965\n",
              "electronic     3786\n",
              "hiphop         2096\n",
              "classical      1616\n",
              "world          1432\n",
              "alternative    1379\n",
              "ruspop         1372\n",
              "rusrap         1161\n",
              "Name: genre, dtype: int64"
            ],
            "text/html": [
              "<div>\n",
              "<style scoped>\n",
              "    .dataframe tbody tr th:only-of-type {\n",
              "        vertical-align: middle;\n",
              "    }\n",
              "\n",
              "    .dataframe tbody tr th {\n",
              "        vertical-align: top;\n",
              "    }\n",
              "\n",
              "    .dataframe thead th {\n",
              "        text-align: right;\n",
              "    }\n",
              "</style>\n",
              "<table border=\"1\" class=\"dataframe\">\n",
              "  <thead>\n",
              "    <tr style=\"text-align: right;\">\n",
              "      <th></th>\n",
              "      <th>genre</th>\n",
              "    </tr>\n",
              "    <tr>\n",
              "      <th>genre</th>\n",
              "      <th></th>\n",
              "    </tr>\n",
              "  </thead>\n",
              "  <tbody>\n",
              "    <tr>\n",
              "      <th>pop</th>\n",
              "      <td>5892</td>\n",
              "    </tr>\n",
              "    <tr>\n",
              "      <th>dance</th>\n",
              "      <td>4435</td>\n",
              "    </tr>\n",
              "    <tr>\n",
              "      <th>rock</th>\n",
              "      <td>3965</td>\n",
              "    </tr>\n",
              "    <tr>\n",
              "      <th>electronic</th>\n",
              "      <td>3786</td>\n",
              "    </tr>\n",
              "    <tr>\n",
              "      <th>hiphop</th>\n",
              "      <td>2096</td>\n",
              "    </tr>\n",
              "    <tr>\n",
              "      <th>classical</th>\n",
              "      <td>1616</td>\n",
              "    </tr>\n",
              "    <tr>\n",
              "      <th>world</th>\n",
              "      <td>1432</td>\n",
              "    </tr>\n",
              "    <tr>\n",
              "      <th>alternative</th>\n",
              "      <td>1379</td>\n",
              "    </tr>\n",
              "    <tr>\n",
              "      <th>ruspop</th>\n",
              "      <td>1372</td>\n",
              "    </tr>\n",
              "    <tr>\n",
              "      <th>rusrap</th>\n",
              "      <td>1161</td>\n",
              "    </tr>\n",
              "  </tbody>\n",
              "</table>\n",
              "</div><br><label><b>dtype:</b> int64</label>"
            ]
          },
          "metadata": {},
          "execution_count": 36
        }
      ],
      "source": [
        "# просмотр первых 10 строк moscow_genres\n",
        "\n",
        "moscow_genres.head(10)"
      ]
    },
    {
      "cell_type": "markdown",
      "metadata": {
        "deletable": false,
        "editable": false,
        "id": "cnPG2vnN_Zcv",
        "tags": [
          "start_task"
        ]
      },
      "source": [
        "**Задание 28**"
      ]
    },
    {
      "cell_type": "code",
      "execution_count": 37,
      "metadata": {
        "deletable": false,
        "id": "gluLIpE7_Zcv"
      },
      "outputs": [],
      "source": [
        "# одной строкой: группировка таблицы spb_general по столбцу 'genre', выбор столбца `genre`, подсчёт числа значений 'genre' методом count(), сохранение в spb_genres\n",
        "# сортировка получившегося Series в порядке убывания и сохранение обратно в spb_genres\n",
        "\n",
        "spb_genres = spb_general.groupby('genre')['genre'].count().sort_values(ascending=False)"
      ]
    },
    {
      "cell_type": "markdown",
      "metadata": {
        "deletable": false,
        "editable": false,
        "id": "5Doha_ODgyQ8",
        "tags": [
          "start_task"
        ]
      },
      "source": [
        "**Задание 29**"
      ]
    },
    {
      "cell_type": "code",
      "execution_count": 38,
      "metadata": {
        "deletable": false,
        "id": "uaGJHjVU_Zcv",
        "colab": {
          "base_uri": "https://localhost:8080/",
          "height": 429
        },
        "outputId": "b9747ce4-8a05-4e97-b5bf-58d022bc7f09"
      },
      "outputs": [
        {
          "output_type": "execute_result",
          "data": {
            "text/plain": [
              "genre\n",
              "pop            2431\n",
              "dance          1932\n",
              "rock           1879\n",
              "electronic     1737\n",
              "hiphop          960\n",
              "alternative     649\n",
              "classical       646\n",
              "rusrap          564\n",
              "ruspop          538\n",
              "world           515\n",
              "Name: genre, dtype: int64"
            ],
            "text/html": [
              "<div>\n",
              "<style scoped>\n",
              "    .dataframe tbody tr th:only-of-type {\n",
              "        vertical-align: middle;\n",
              "    }\n",
              "\n",
              "    .dataframe tbody tr th {\n",
              "        vertical-align: top;\n",
              "    }\n",
              "\n",
              "    .dataframe thead th {\n",
              "        text-align: right;\n",
              "    }\n",
              "</style>\n",
              "<table border=\"1\" class=\"dataframe\">\n",
              "  <thead>\n",
              "    <tr style=\"text-align: right;\">\n",
              "      <th></th>\n",
              "      <th>genre</th>\n",
              "    </tr>\n",
              "    <tr>\n",
              "      <th>genre</th>\n",
              "      <th></th>\n",
              "    </tr>\n",
              "  </thead>\n",
              "  <tbody>\n",
              "    <tr>\n",
              "      <th>pop</th>\n",
              "      <td>2431</td>\n",
              "    </tr>\n",
              "    <tr>\n",
              "      <th>dance</th>\n",
              "      <td>1932</td>\n",
              "    </tr>\n",
              "    <tr>\n",
              "      <th>rock</th>\n",
              "      <td>1879</td>\n",
              "    </tr>\n",
              "    <tr>\n",
              "      <th>electronic</th>\n",
              "      <td>1737</td>\n",
              "    </tr>\n",
              "    <tr>\n",
              "      <th>hiphop</th>\n",
              "      <td>960</td>\n",
              "    </tr>\n",
              "    <tr>\n",
              "      <th>alternative</th>\n",
              "      <td>649</td>\n",
              "    </tr>\n",
              "    <tr>\n",
              "      <th>classical</th>\n",
              "      <td>646</td>\n",
              "    </tr>\n",
              "    <tr>\n",
              "      <th>rusrap</th>\n",
              "      <td>564</td>\n",
              "    </tr>\n",
              "    <tr>\n",
              "      <th>ruspop</th>\n",
              "      <td>538</td>\n",
              "    </tr>\n",
              "    <tr>\n",
              "      <th>world</th>\n",
              "      <td>515</td>\n",
              "    </tr>\n",
              "  </tbody>\n",
              "</table>\n",
              "</div><br><label><b>dtype:</b> int64</label>"
            ]
          },
          "metadata": {},
          "execution_count": 38
        }
      ],
      "source": [
        "# просмотр первых 10 строк spb_genres\n",
        "\n",
        "spb_genres.head(10)"
      ]
    },
    {
      "cell_type": "markdown",
      "metadata": {
        "deletable": false,
        "editable": false,
        "id": "RY51YJYu_Zcv"
      },
      "source": [
        "**Выводы**"
      ]
    },
    {
      "cell_type": "markdown",
      "metadata": {
        "deletable": false,
        "editable": false,
        "id": "nVhnJEm__Zcv"
      },
      "source": [
        "Гипотеза частично подтвердилась:\n",
        "* Поп-музыка — самый популярный жанр в Москве, как и предполагала гипотеза. Более того, в топ-10 жанров встречается близкий жанр — русская популярная музыка.\n",
        "* Вопреки ожиданиям, рэп одинаково популярен в Москве и Петербурге.\n"
      ]
    },
    {
      "cell_type": "markdown",
      "metadata": {
        "deletable": false,
        "editable": false,
        "id": "ykKQ0N65_Zcv"
      },
      "source": [
        "## Итоги исследования"
      ]
    },
    {
      "cell_type": "markdown",
      "metadata": {
        "deletable": false,
        "editable": false,
        "id": "tjUwbHb3_Zcv"
      },
      "source": [
        "Вы проверили три гипотезы и установили:\n",
        "\n",
        "1. День недели по-разному влияет на активность пользователей в Москве и Петербурге.\n",
        "\n",
        "Первая гипотеза полностью подтвердилась.\n",
        "\n",
        "2. Музыкальные предпочтения не сильно меняются в течение недели — будь то Москва или Петербург. Небольшие различия заметны в начале недели, по понедельникам:\n",
        "* в Москве слушают музыку жанра “world”,\n",
        "* в Петербурге — джаз и классику.\n",
        "\n",
        "Таким образом, вторая гипотеза подтвердилась лишь отчасти. Этот результат мог оказаться иным, если бы не пропуски в данных.\n",
        "\n",
        "3. Во вкусах пользователей Москвы и Петербурга больше общего, чем различий. Вопреки ожиданиям, предпочтения жанров в Петербурге напоминают московские.\n",
        "\n",
        "Третья гипотеза не подтвердилась. Если различия в предпочтениях и существуют, на основной массе пользователей они незаметны.\n",
        "\n",
        "**На практике исследования содержат проверки статистических гипотез.**\n",
        "Из части данных одного сервиса невозможно сделать какие-то выводы о всех пользователях сервиса без методов статистики.\n",
        "Проверки статистических гипотез покажут, насколько они достоверны, исходя из имеющихся данных.\n",
        "С методами проверок гипотез вы ещё познакомитесь в следующих темах."
      ]
    }
  ],
  "metadata": {
    "ExecuteTimeLog": [
      {
        "duration": 28,
        "start_time": "2024-07-02T07:59:19.695Z"
      },
      {
        "duration": 10,
        "start_time": "2024-07-02T07:59:25.044Z"
      },
      {
        "duration": 4,
        "start_time": "2024-07-02T08:00:03.367Z"
      },
      {
        "duration": 4,
        "start_time": "2024-07-02T08:05:33.815Z"
      },
      {
        "duration": 10,
        "start_time": "2024-07-02T08:05:37.479Z"
      },
      {
        "duration": 4,
        "start_time": "2024-07-02T08:05:43.245Z"
      },
      {
        "duration": 30,
        "start_time": "2024-07-02T08:06:46.728Z"
      },
      {
        "duration": 64,
        "start_time": "2024-07-02T08:07:08.225Z"
      },
      {
        "duration": 25,
        "start_time": "2024-07-02T08:07:13.611Z"
      },
      {
        "duration": 9,
        "start_time": "2024-07-02T08:08:22.273Z"
      },
      {
        "duration": 30,
        "start_time": "2024-07-02T08:08:29.077Z"
      },
      {
        "duration": 38,
        "start_time": "2024-07-02T08:08:46.241Z"
      },
      {
        "duration": 59,
        "start_time": "2024-07-02T08:09:42.475Z"
      },
      {
        "duration": 7,
        "start_time": "2024-07-02T08:11:32.573Z"
      },
      {
        "duration": 73,
        "start_time": "2024-07-02T08:12:15.657Z"
      },
      {
        "duration": 52,
        "start_time": "2024-07-02T08:12:35.859Z"
      },
      {
        "duration": 5,
        "start_time": "2024-07-02T08:13:46.645Z"
      },
      {
        "duration": 8,
        "start_time": "2024-07-02T08:13:57.328Z"
      },
      {
        "duration": 67,
        "start_time": "2024-07-02T08:14:41.985Z"
      },
      {
        "duration": 61,
        "start_time": "2024-07-02T08:14:55.123Z"
      },
      {
        "duration": 6,
        "start_time": "2024-07-02T08:15:59.960Z"
      },
      {
        "duration": 9,
        "start_time": "2024-07-02T08:16:12.051Z"
      },
      {
        "duration": 14,
        "start_time": "2024-07-02T08:19:43.161Z"
      },
      {
        "duration": 8,
        "start_time": "2024-07-02T08:32:00.224Z"
      },
      {
        "duration": 7,
        "start_time": "2024-07-02T08:34:03.987Z"
      },
      {
        "duration": 9,
        "start_time": "2024-07-02T08:34:21.346Z"
      },
      {
        "duration": 7,
        "start_time": "2024-07-02T08:34:28.386Z"
      },
      {
        "duration": 9,
        "start_time": "2024-07-02T08:34:31.535Z"
      },
      {
        "duration": 8,
        "start_time": "2024-07-02T08:35:06.130Z"
      },
      {
        "duration": 10,
        "start_time": "2024-07-02T08:35:09.718Z"
      },
      {
        "duration": 394,
        "start_time": "2024-07-02T08:35:32.141Z"
      },
      {
        "duration": 60,
        "start_time": "2024-07-02T08:35:32.537Z"
      },
      {
        "duration": 0,
        "start_time": "2024-07-02T08:35:32.599Z"
      },
      {
        "duration": 0,
        "start_time": "2024-07-02T08:35:32.600Z"
      },
      {
        "duration": 0,
        "start_time": "2024-07-02T08:35:32.600Z"
      },
      {
        "duration": 0,
        "start_time": "2024-07-02T08:35:32.602Z"
      },
      {
        "duration": 0,
        "start_time": "2024-07-02T08:35:32.602Z"
      },
      {
        "duration": 0,
        "start_time": "2024-07-02T08:35:32.603Z"
      },
      {
        "duration": 0,
        "start_time": "2024-07-02T08:35:32.604Z"
      },
      {
        "duration": 0,
        "start_time": "2024-07-02T08:35:32.605Z"
      },
      {
        "duration": 0,
        "start_time": "2024-07-02T08:35:32.606Z"
      },
      {
        "duration": 0,
        "start_time": "2024-07-02T08:35:32.606Z"
      },
      {
        "duration": 0,
        "start_time": "2024-07-02T08:35:32.607Z"
      },
      {
        "duration": 0,
        "start_time": "2024-07-02T08:35:32.608Z"
      },
      {
        "duration": 0,
        "start_time": "2024-07-02T08:35:32.609Z"
      },
      {
        "duration": 0,
        "start_time": "2024-07-02T08:35:32.610Z"
      },
      {
        "duration": 0,
        "start_time": "2024-07-02T08:35:32.611Z"
      },
      {
        "duration": 0,
        "start_time": "2024-07-02T08:35:32.637Z"
      },
      {
        "duration": 0,
        "start_time": "2024-07-02T08:35:32.638Z"
      },
      {
        "duration": 0,
        "start_time": "2024-07-02T08:35:32.639Z"
      },
      {
        "duration": 0,
        "start_time": "2024-07-02T08:35:32.640Z"
      },
      {
        "duration": 0,
        "start_time": "2024-07-02T08:35:32.641Z"
      },
      {
        "duration": 1,
        "start_time": "2024-07-02T08:35:32.642Z"
      },
      {
        "duration": 0,
        "start_time": "2024-07-02T08:35:32.643Z"
      },
      {
        "duration": 0,
        "start_time": "2024-07-02T08:35:32.644Z"
      },
      {
        "duration": 0,
        "start_time": "2024-07-02T08:35:32.646Z"
      },
      {
        "duration": 0,
        "start_time": "2024-07-02T08:35:32.647Z"
      },
      {
        "duration": 0,
        "start_time": "2024-07-02T08:35:32.648Z"
      },
      {
        "duration": 0,
        "start_time": "2024-07-02T08:35:32.649Z"
      },
      {
        "duration": 0,
        "start_time": "2024-07-02T08:35:32.650Z"
      },
      {
        "duration": 0,
        "start_time": "2024-07-02T08:35:32.651Z"
      },
      {
        "duration": 0,
        "start_time": "2024-07-02T08:35:32.652Z"
      },
      {
        "duration": 0,
        "start_time": "2024-07-02T08:35:32.653Z"
      },
      {
        "duration": 0,
        "start_time": "2024-07-02T08:35:32.654Z"
      },
      {
        "duration": 0,
        "start_time": "2024-07-02T08:35:32.655Z"
      },
      {
        "duration": 0,
        "start_time": "2024-07-02T08:35:32.656Z"
      },
      {
        "duration": 0,
        "start_time": "2024-07-02T08:35:32.658Z"
      },
      {
        "duration": 0,
        "start_time": "2024-07-02T08:35:32.659Z"
      },
      {
        "duration": 6,
        "start_time": "2024-07-02T08:35:54.705Z"
      },
      {
        "duration": 2,
        "start_time": "2024-07-02T08:36:43.229Z"
      },
      {
        "duration": 7,
        "start_time": "2024-07-02T08:36:44.885Z"
      },
      {
        "duration": 2,
        "start_time": "2024-07-02T08:37:04.698Z"
      },
      {
        "duration": 8,
        "start_time": "2024-07-02T08:37:05.970Z"
      },
      {
        "duration": 2,
        "start_time": "2024-07-02T08:37:26.357Z"
      },
      {
        "duration": 7,
        "start_time": "2024-07-02T08:37:29.553Z"
      },
      {
        "duration": 161,
        "start_time": "2024-07-02T08:37:58.929Z"
      },
      {
        "duration": 18,
        "start_time": "2024-07-02T08:38:02.352Z"
      },
      {
        "duration": 29,
        "start_time": "2024-07-02T08:38:04.234Z"
      },
      {
        "duration": 4,
        "start_time": "2024-07-02T08:38:09.206Z"
      },
      {
        "duration": 11,
        "start_time": "2024-07-02T08:38:10.795Z"
      },
      {
        "duration": 4,
        "start_time": "2024-07-02T08:38:12.553Z"
      },
      {
        "duration": 28,
        "start_time": "2024-07-02T08:38:14.370Z"
      },
      {
        "duration": 36,
        "start_time": "2024-07-02T08:38:15.975Z"
      },
      {
        "duration": 28,
        "start_time": "2024-07-02T08:38:17.316Z"
      },
      {
        "duration": 59,
        "start_time": "2024-07-02T08:38:19.712Z"
      },
      {
        "duration": 88,
        "start_time": "2024-07-02T08:38:21.604Z"
      },
      {
        "duration": 54,
        "start_time": "2024-07-02T08:38:23.512Z"
      },
      {
        "duration": 9,
        "start_time": "2024-07-02T08:38:25.830Z"
      },
      {
        "duration": 8,
        "start_time": "2024-07-02T08:38:30.476Z"
      },
      {
        "duration": 9,
        "start_time": "2024-07-02T08:38:31.990Z"
      },
      {
        "duration": 4191,
        "start_time": "2024-07-02T08:42:38.481Z"
      },
      {
        "duration": 32,
        "start_time": "2024-07-02T08:43:10.988Z"
      },
      {
        "duration": 8,
        "start_time": "2024-07-02T08:48:13.061Z"
      },
      {
        "duration": 10,
        "start_time": "2024-07-02T08:48:55.645Z"
      },
      {
        "duration": 4,
        "start_time": "2024-07-02T08:48:57.363Z"
      },
      {
        "duration": 7,
        "start_time": "2024-07-02T08:49:11.013Z"
      },
      {
        "duration": 8,
        "start_time": "2024-07-02T08:49:16.930Z"
      },
      {
        "duration": 4,
        "start_time": "2024-07-02T08:49:18.691Z"
      },
      {
        "duration": 2,
        "start_time": "2024-07-02T08:49:42.436Z"
      },
      {
        "duration": 163,
        "start_time": "2024-07-02T08:49:43.620Z"
      },
      {
        "duration": 31,
        "start_time": "2024-07-02T08:49:47.148Z"
      },
      {
        "duration": 4,
        "start_time": "2024-07-02T08:49:51.210Z"
      },
      {
        "duration": 9,
        "start_time": "2024-07-02T08:49:54.924Z"
      },
      {
        "duration": 4,
        "start_time": "2024-07-02T08:49:57.083Z"
      },
      {
        "duration": 44,
        "start_time": "2024-07-02T08:50:00.090Z"
      },
      {
        "duration": 28,
        "start_time": "2024-07-02T08:50:03.640Z"
      },
      {
        "duration": 56,
        "start_time": "2024-07-02T08:50:05.124Z"
      },
      {
        "duration": 74,
        "start_time": "2024-07-02T08:50:06.417Z"
      },
      {
        "duration": 54,
        "start_time": "2024-07-02T08:50:08.228Z"
      },
      {
        "duration": 6,
        "start_time": "2024-07-02T08:50:12.524Z"
      },
      {
        "duration": 15,
        "start_time": "2024-07-02T08:50:15.003Z"
      },
      {
        "duration": 110,
        "start_time": "2024-07-02T08:50:18.306Z"
      },
      {
        "duration": 74,
        "start_time": "2024-07-02T08:50:33.195Z"
      },
      {
        "duration": 60,
        "start_time": "2024-07-02T08:50:43.992Z"
      },
      {
        "duration": 12,
        "start_time": "2024-07-02T08:51:01.856Z"
      },
      {
        "duration": 11,
        "start_time": "2024-07-02T08:53:19.951Z"
      },
      {
        "duration": 12,
        "start_time": "2024-07-02T08:53:51.222Z"
      },
      {
        "duration": 58,
        "start_time": "2024-07-02T08:53:57.335Z"
      },
      {
        "duration": 13,
        "start_time": "2024-07-02T08:54:02.757Z"
      },
      {
        "duration": 11,
        "start_time": "2024-07-02T08:55:47.199Z"
      },
      {
        "duration": 7,
        "start_time": "2024-07-02T08:56:36.533Z"
      },
      {
        "duration": 1000,
        "start_time": "2024-07-02T08:56:49.899Z"
      },
      {
        "duration": 4,
        "start_time": "2024-07-02T09:00:41.524Z"
      },
      {
        "duration": 8,
        "start_time": "2024-07-02T09:03:53.999Z"
      },
      {
        "duration": 5,
        "start_time": "2024-07-02T09:04:04.370Z"
      },
      {
        "duration": 7,
        "start_time": "2024-07-02T09:09:11.532Z"
      },
      {
        "duration": 9,
        "start_time": "2024-07-02T09:09:21.977Z"
      },
      {
        "duration": 18,
        "start_time": "2024-07-02T09:09:31.307Z"
      },
      {
        "duration": 19,
        "start_time": "2024-07-02T09:09:42.582Z"
      },
      {
        "duration": 10,
        "start_time": "2024-07-02T09:10:20.060Z"
      },
      {
        "duration": 20,
        "start_time": "2024-07-02T09:12:06.632Z"
      },
      {
        "duration": 25,
        "start_time": "2024-07-02T09:12:16.954Z"
      },
      {
        "duration": 20,
        "start_time": "2024-07-02T09:12:48.415Z"
      },
      {
        "duration": 21,
        "start_time": "2024-07-02T09:13:00.521Z"
      },
      {
        "duration": 21,
        "start_time": "2024-07-02T09:13:23.007Z"
      },
      {
        "duration": 64,
        "start_time": "2024-07-02T10:58:33.649Z"
      },
      {
        "duration": 22,
        "start_time": "2024-07-02T10:59:00.506Z"
      },
      {
        "duration": 12,
        "start_time": "2024-07-02T11:14:09.529Z"
      },
      {
        "duration": 7,
        "start_time": "2024-07-02T11:16:28.505Z"
      },
      {
        "duration": 58,
        "start_time": "2024-07-02T11:24:10.816Z"
      },
      {
        "duration": 3,
        "start_time": "2024-07-02T11:25:19.450Z"
      },
      {
        "duration": 4,
        "start_time": "2024-07-02T11:25:35.540Z"
      },
      {
        "duration": 60,
        "start_time": "2024-07-02T11:26:00.078Z"
      },
      {
        "duration": 8,
        "start_time": "2024-07-02T11:26:17.006Z"
      },
      {
        "duration": 7,
        "start_time": "2024-07-02T11:26:19.747Z"
      },
      {
        "duration": 9,
        "start_time": "2024-07-02T11:26:37.524Z"
      },
      {
        "duration": 8,
        "start_time": "2024-07-02T11:26:57.063Z"
      },
      {
        "duration": 3,
        "start_time": "2024-07-02T11:34:52.050Z"
      },
      {
        "duration": 61,
        "start_time": "2024-07-02T11:37:30.910Z"
      },
      {
        "duration": 30,
        "start_time": "2024-07-02T11:37:37.511Z"
      },
      {
        "duration": 22,
        "start_time": "2024-07-02T11:38:39.629Z"
      },
      {
        "duration": 7,
        "start_time": "2024-07-02T11:40:28.277Z"
      },
      {
        "duration": 7,
        "start_time": "2024-07-02T11:41:31.717Z"
      },
      {
        "duration": 15,
        "start_time": "2024-07-02T11:48:56.837Z"
      },
      {
        "duration": 14,
        "start_time": "2024-07-02T11:49:24.842Z"
      },
      {
        "duration": 17,
        "start_time": "2024-07-02T11:50:20.582Z"
      },
      {
        "duration": 14,
        "start_time": "2024-07-02T11:50:40.650Z"
      },
      {
        "duration": 10,
        "start_time": "2024-07-02T12:01:41.836Z"
      },
      {
        "duration": 5,
        "start_time": "2024-07-02T12:02:26.899Z"
      },
      {
        "duration": 13,
        "start_time": "2024-07-02T12:02:39.254Z"
      },
      {
        "duration": 11,
        "start_time": "2024-07-02T12:06:06.830Z"
      },
      {
        "duration": 20,
        "start_time": "2024-07-02T12:06:12.212Z"
      },
      {
        "duration": 10,
        "start_time": "2024-07-02T12:06:23.346Z"
      },
      {
        "duration": 45,
        "start_time": "2024-07-02T16:06:31.249Z"
      },
      {
        "duration": 5,
        "start_time": "2024-07-02T16:07:11.353Z"
      },
      {
        "duration": 6,
        "start_time": "2024-07-02T16:15:37.312Z"
      },
      {
        "duration": 337,
        "start_time": "2024-07-02T16:15:46.937Z"
      },
      {
        "duration": 428,
        "start_time": "2024-07-02T16:15:49.222Z"
      },
      {
        "duration": 375,
        "start_time": "2024-07-02T16:15:58.394Z"
      },
      {
        "duration": 138,
        "start_time": "2024-07-02T16:15:58.770Z"
      },
      {
        "duration": 14,
        "start_time": "2024-07-02T16:15:58.909Z"
      },
      {
        "duration": 20,
        "start_time": "2024-07-02T16:15:58.924Z"
      },
      {
        "duration": 2,
        "start_time": "2024-07-02T16:15:58.945Z"
      },
      {
        "duration": 14,
        "start_time": "2024-07-02T16:15:58.948Z"
      },
      {
        "duration": 13,
        "start_time": "2024-07-02T16:15:58.962Z"
      },
      {
        "duration": 5,
        "start_time": "2024-07-02T16:15:58.976Z"
      },
      {
        "duration": 29,
        "start_time": "2024-07-02T16:15:58.982Z"
      },
      {
        "duration": 32,
        "start_time": "2024-07-02T16:15:59.013Z"
      },
      {
        "duration": 17,
        "start_time": "2024-07-02T16:15:59.046Z"
      },
      {
        "duration": 64,
        "start_time": "2024-07-02T16:15:59.064Z"
      },
      {
        "duration": 77,
        "start_time": "2024-07-02T16:15:59.129Z"
      },
      {
        "duration": 46,
        "start_time": "2024-07-02T16:15:59.207Z"
      },
      {
        "duration": 8,
        "start_time": "2024-07-02T16:15:59.255Z"
      },
      {
        "duration": 66,
        "start_time": "2024-07-02T16:15:59.264Z"
      },
      {
        "duration": 20,
        "start_time": "2024-07-02T16:15:59.331Z"
      },
      {
        "duration": 31,
        "start_time": "2024-07-02T16:15:59.352Z"
      },
      {
        "duration": 29,
        "start_time": "2024-07-02T16:15:59.384Z"
      },
      {
        "duration": 3,
        "start_time": "2024-07-02T16:15:59.414Z"
      },
      {
        "duration": 16,
        "start_time": "2024-07-02T16:15:59.418Z"
      },
      {
        "duration": 15,
        "start_time": "2024-07-02T16:15:59.435Z"
      },
      {
        "duration": 13,
        "start_time": "2024-07-02T16:15:59.452Z"
      },
      {
        "duration": 19,
        "start_time": "2024-07-02T16:15:59.467Z"
      },
      {
        "duration": 22,
        "start_time": "2024-07-02T16:15:59.488Z"
      },
      {
        "duration": 12,
        "start_time": "2024-07-02T16:15:59.511Z"
      },
      {
        "duration": 24,
        "start_time": "2024-07-02T16:15:59.524Z"
      },
      {
        "duration": 16,
        "start_time": "2024-07-02T16:15:59.550Z"
      },
      {
        "duration": 7,
        "start_time": "2024-07-02T16:15:59.567Z"
      },
      {
        "duration": 67,
        "start_time": "2024-07-02T16:15:59.575Z"
      },
      {
        "duration": 0,
        "start_time": "2024-07-02T16:15:59.643Z"
      },
      {
        "duration": 0,
        "start_time": "2024-07-02T16:15:59.644Z"
      },
      {
        "duration": 0,
        "start_time": "2024-07-02T16:15:59.644Z"
      },
      {
        "duration": 0,
        "start_time": "2024-07-02T16:15:59.645Z"
      },
      {
        "duration": 0,
        "start_time": "2024-07-02T16:15:59.646Z"
      },
      {
        "duration": 0,
        "start_time": "2024-07-02T16:15:59.647Z"
      },
      {
        "duration": 0,
        "start_time": "2024-07-02T16:15:59.648Z"
      },
      {
        "duration": 1,
        "start_time": "2024-07-02T16:15:59.648Z"
      },
      {
        "duration": 15,
        "start_time": "2024-07-02T16:16:24.534Z"
      },
      {
        "duration": 3,
        "start_time": "2024-07-02T16:22:31.077Z"
      },
      {
        "duration": 75,
        "start_time": "2024-07-02T16:23:30.254Z"
      },
      {
        "duration": 3,
        "start_time": "2024-07-02T16:41:06.690Z"
      },
      {
        "duration": 12,
        "start_time": "2024-07-02T16:41:09.714Z"
      },
      {
        "duration": 11,
        "start_time": "2024-07-02T16:52:14.238Z"
      },
      {
        "duration": 9,
        "start_time": "2024-07-02T16:52:18.916Z"
      },
      {
        "duration": 10,
        "start_time": "2024-07-02T16:52:52.293Z"
      },
      {
        "duration": 18,
        "start_time": "2024-07-02T16:52:56.032Z"
      },
      {
        "duration": 3,
        "start_time": "2024-07-02T16:53:00.204Z"
      },
      {
        "duration": 13,
        "start_time": "2024-07-02T16:53:03.657Z"
      },
      {
        "duration": 12,
        "start_time": "2024-07-02T16:53:05.031Z"
      },
      {
        "duration": 11,
        "start_time": "2024-07-02T16:53:05.857Z"
      },
      {
        "duration": 10,
        "start_time": "2024-07-02T16:53:06.900Z"
      },
      {
        "duration": 11,
        "start_time": "2024-07-02T16:53:09.469Z"
      },
      {
        "duration": 378,
        "start_time": "2024-07-02T16:53:27.303Z"
      },
      {
        "duration": 138,
        "start_time": "2024-07-02T16:53:27.682Z"
      },
      {
        "duration": 15,
        "start_time": "2024-07-02T16:53:27.822Z"
      },
      {
        "duration": 21,
        "start_time": "2024-07-02T16:53:27.839Z"
      },
      {
        "duration": 2,
        "start_time": "2024-07-02T16:53:27.861Z"
      },
      {
        "duration": 4,
        "start_time": "2024-07-02T16:53:27.865Z"
      },
      {
        "duration": 34,
        "start_time": "2024-07-02T16:53:27.870Z"
      },
      {
        "duration": 4,
        "start_time": "2024-07-02T16:53:27.906Z"
      },
      {
        "duration": 18,
        "start_time": "2024-07-02T16:53:27.911Z"
      },
      {
        "duration": 31,
        "start_time": "2024-07-02T16:53:27.932Z"
      },
      {
        "duration": 19,
        "start_time": "2024-07-02T16:53:27.964Z"
      },
      {
        "duration": 69,
        "start_time": "2024-07-02T16:53:27.984Z"
      },
      {
        "duration": 87,
        "start_time": "2024-07-02T16:53:28.054Z"
      },
      {
        "duration": 46,
        "start_time": "2024-07-02T16:53:28.143Z"
      },
      {
        "duration": 16,
        "start_time": "2024-07-02T16:53:28.190Z"
      },
      {
        "duration": 14,
        "start_time": "2024-07-02T16:53:28.207Z"
      },
      {
        "duration": 9,
        "start_time": "2024-07-02T16:53:28.222Z"
      },
      {
        "duration": 30,
        "start_time": "2024-07-02T16:53:28.233Z"
      },
      {
        "duration": 19,
        "start_time": "2024-07-02T16:53:28.265Z"
      },
      {
        "duration": 3,
        "start_time": "2024-07-02T16:53:28.285Z"
      },
      {
        "duration": 27,
        "start_time": "2024-07-02T16:53:28.290Z"
      },
      {
        "duration": 17,
        "start_time": "2024-07-02T16:53:28.319Z"
      },
      {
        "duration": 10,
        "start_time": "2024-07-02T16:53:28.337Z"
      },
      {
        "duration": 9,
        "start_time": "2024-07-02T16:53:28.349Z"
      },
      {
        "duration": 14,
        "start_time": "2024-07-02T16:53:28.359Z"
      },
      {
        "duration": 10,
        "start_time": "2024-07-02T16:53:28.374Z"
      },
      {
        "duration": 22,
        "start_time": "2024-07-02T16:53:28.386Z"
      },
      {
        "duration": 17,
        "start_time": "2024-07-02T16:53:28.410Z"
      },
      {
        "duration": 15,
        "start_time": "2024-07-02T16:53:28.429Z"
      },
      {
        "duration": 5,
        "start_time": "2024-07-02T16:53:28.445Z"
      },
      {
        "duration": 23,
        "start_time": "2024-07-02T16:53:28.451Z"
      },
      {
        "duration": 2,
        "start_time": "2024-07-02T16:53:28.475Z"
      },
      {
        "duration": 13,
        "start_time": "2024-07-02T16:53:28.478Z"
      },
      {
        "duration": 4,
        "start_time": "2024-07-02T16:53:28.492Z"
      },
      {
        "duration": 6,
        "start_time": "2024-07-02T16:53:28.497Z"
      },
      {
        "duration": 4,
        "start_time": "2024-07-02T16:53:28.504Z"
      },
      {
        "duration": 5,
        "start_time": "2024-07-02T16:53:28.509Z"
      },
      {
        "duration": 23,
        "start_time": "2024-07-02T16:53:28.515Z"
      },
      {
        "duration": 21,
        "start_time": "2024-07-02T16:57:59.185Z"
      },
      {
        "duration": 15,
        "start_time": "2024-07-02T16:58:10.453Z"
      },
      {
        "duration": 15,
        "start_time": "2024-07-02T16:58:28.776Z"
      },
      {
        "duration": 2,
        "start_time": "2024-07-02T16:58:30.377Z"
      },
      {
        "duration": 13,
        "start_time": "2024-07-02T16:58:46.067Z"
      },
      {
        "duration": 9,
        "start_time": "2024-07-02T16:59:12.048Z"
      },
      {
        "duration": 10,
        "start_time": "2024-07-02T17:00:38.048Z"
      },
      {
        "duration": 15,
        "start_time": "2024-07-02T17:00:40.532Z"
      },
      {
        "duration": 4,
        "start_time": "2024-07-02T17:03:25.896Z"
      },
      {
        "duration": 11,
        "start_time": "2024-07-02T17:03:29.929Z"
      },
      {
        "duration": 329,
        "start_time": "2024-07-02T17:03:39.044Z"
      },
      {
        "duration": 144,
        "start_time": "2024-07-02T17:03:39.375Z"
      },
      {
        "duration": 14,
        "start_time": "2024-07-02T17:03:39.520Z"
      },
      {
        "duration": 21,
        "start_time": "2024-07-02T17:03:39.535Z"
      },
      {
        "duration": 2,
        "start_time": "2024-07-02T17:03:39.557Z"
      },
      {
        "duration": 5,
        "start_time": "2024-07-02T17:03:39.560Z"
      },
      {
        "duration": 11,
        "start_time": "2024-07-02T17:03:39.567Z"
      },
      {
        "duration": 22,
        "start_time": "2024-07-02T17:03:39.579Z"
      },
      {
        "duration": 17,
        "start_time": "2024-07-02T17:03:39.603Z"
      },
      {
        "duration": 34,
        "start_time": "2024-07-02T17:03:39.622Z"
      },
      {
        "duration": 19,
        "start_time": "2024-07-02T17:03:39.658Z"
      },
      {
        "duration": 66,
        "start_time": "2024-07-02T17:03:39.678Z"
      },
      {
        "duration": 85,
        "start_time": "2024-07-02T17:03:39.745Z"
      },
      {
        "duration": 45,
        "start_time": "2024-07-02T17:03:39.831Z"
      },
      {
        "duration": 8,
        "start_time": "2024-07-02T17:03:39.878Z"
      },
      {
        "duration": 24,
        "start_time": "2024-07-02T17:03:39.887Z"
      },
      {
        "duration": 11,
        "start_time": "2024-07-02T17:03:39.912Z"
      },
      {
        "duration": 10,
        "start_time": "2024-07-02T17:03:39.924Z"
      },
      {
        "duration": 16,
        "start_time": "2024-07-02T17:03:39.935Z"
      },
      {
        "duration": 2,
        "start_time": "2024-07-02T17:03:39.953Z"
      },
      {
        "duration": 16,
        "start_time": "2024-07-02T17:03:39.956Z"
      },
      {
        "duration": 34,
        "start_time": "2024-07-02T17:03:39.973Z"
      },
      {
        "duration": 11,
        "start_time": "2024-07-02T17:03:40.008Z"
      },
      {
        "duration": 32,
        "start_time": "2024-07-02T17:03:40.020Z"
      },
      {
        "duration": 19,
        "start_time": "2024-07-02T17:03:40.053Z"
      },
      {
        "duration": 11,
        "start_time": "2024-07-02T17:03:40.073Z"
      },
      {
        "duration": 16,
        "start_time": "2024-07-02T17:03:40.085Z"
      },
      {
        "duration": 22,
        "start_time": "2024-07-02T17:03:40.104Z"
      },
      {
        "duration": 15,
        "start_time": "2024-07-02T17:03:40.127Z"
      },
      {
        "duration": 8,
        "start_time": "2024-07-02T17:03:40.143Z"
      },
      {
        "duration": 15,
        "start_time": "2024-07-02T17:03:40.153Z"
      },
      {
        "duration": 8,
        "start_time": "2024-07-02T17:03:40.169Z"
      },
      {
        "duration": 31,
        "start_time": "2024-07-02T17:03:40.178Z"
      },
      {
        "duration": 9,
        "start_time": "2024-07-02T17:03:40.210Z"
      },
      {
        "duration": 2,
        "start_time": "2024-07-02T17:03:40.220Z"
      },
      {
        "duration": 3,
        "start_time": "2024-07-02T17:03:40.224Z"
      },
      {
        "duration": 6,
        "start_time": "2024-07-02T17:03:40.229Z"
      },
      {
        "duration": 7,
        "start_time": "2024-07-02T17:03:40.236Z"
      },
      {
        "duration": 11,
        "start_time": "2024-07-02T17:04:35.635Z"
      },
      {
        "duration": 9,
        "start_time": "2024-07-02T17:04:36.733Z"
      },
      {
        "duration": 11,
        "start_time": "2024-07-02T17:04:41.703Z"
      },
      {
        "duration": 16,
        "start_time": "2024-07-02T17:05:33.169Z"
      },
      {
        "duration": 12,
        "start_time": "2024-07-02T17:18:40.718Z"
      },
      {
        "duration": 9,
        "start_time": "2024-07-02T17:19:00.409Z"
      },
      {
        "duration": 8,
        "start_time": "2024-07-02T17:19:35.737Z"
      },
      {
        "duration": 14,
        "start_time": "2024-07-02T17:20:25.020Z"
      },
      {
        "duration": 9,
        "start_time": "2024-07-02T17:20:27.146Z"
      },
      {
        "duration": 14,
        "start_time": "2024-07-02T17:20:29.142Z"
      },
      {
        "duration": 11,
        "start_time": "2024-07-02T17:20:31.089Z"
      },
      {
        "duration": 9,
        "start_time": "2024-07-02T18:01:45.325Z"
      },
      {
        "duration": 56,
        "start_time": "2024-07-02T18:02:43.375Z"
      },
      {
        "duration": 7,
        "start_time": "2024-07-02T18:03:46.428Z"
      },
      {
        "duration": 7,
        "start_time": "2024-07-02T18:03:59.501Z"
      },
      {
        "duration": 4,
        "start_time": "2024-07-02T18:04:26.703Z"
      },
      {
        "duration": 7,
        "start_time": "2024-07-02T18:05:10.911Z"
      },
      {
        "duration": 376,
        "start_time": "2024-07-02T18:06:44.998Z"
      },
      {
        "duration": 140,
        "start_time": "2024-07-02T18:06:45.375Z"
      },
      {
        "duration": 14,
        "start_time": "2024-07-02T18:06:45.517Z"
      },
      {
        "duration": 21,
        "start_time": "2024-07-02T18:06:45.532Z"
      },
      {
        "duration": 3,
        "start_time": "2024-07-02T18:06:45.554Z"
      },
      {
        "duration": 22,
        "start_time": "2024-07-02T18:06:45.558Z"
      },
      {
        "duration": 16,
        "start_time": "2024-07-02T18:06:45.581Z"
      },
      {
        "duration": 14,
        "start_time": "2024-07-02T18:06:45.598Z"
      },
      {
        "duration": 25,
        "start_time": "2024-07-02T18:06:45.613Z"
      },
      {
        "duration": 29,
        "start_time": "2024-07-02T18:06:45.640Z"
      },
      {
        "duration": 72,
        "start_time": "2024-07-02T18:06:45.670Z"
      },
      {
        "duration": 108,
        "start_time": "2024-07-02T18:06:45.743Z"
      },
      {
        "duration": 75,
        "start_time": "2024-07-02T18:06:45.853Z"
      },
      {
        "duration": 53,
        "start_time": "2024-07-02T18:06:45.930Z"
      },
      {
        "duration": 20,
        "start_time": "2024-07-02T18:06:45.984Z"
      },
      {
        "duration": 13,
        "start_time": "2024-07-02T18:06:46.005Z"
      },
      {
        "duration": 8,
        "start_time": "2024-07-02T18:06:46.020Z"
      },
      {
        "duration": 9,
        "start_time": "2024-07-02T18:06:46.029Z"
      },
      {
        "duration": 17,
        "start_time": "2024-07-02T18:06:46.039Z"
      },
      {
        "duration": 3,
        "start_time": "2024-07-02T18:06:46.057Z"
      },
      {
        "duration": 48,
        "start_time": "2024-07-02T18:06:46.061Z"
      },
      {
        "duration": 10,
        "start_time": "2024-07-02T18:06:46.110Z"
      },
      {
        "duration": 11,
        "start_time": "2024-07-02T18:06:46.121Z"
      },
      {
        "duration": 9,
        "start_time": "2024-07-02T18:06:46.134Z"
      },
      {
        "duration": 23,
        "start_time": "2024-07-02T18:06:46.144Z"
      },
      {
        "duration": 38,
        "start_time": "2024-07-02T18:06:46.169Z"
      },
      {
        "duration": 8,
        "start_time": "2024-07-02T18:06:46.208Z"
      },
      {
        "duration": 28,
        "start_time": "2024-07-02T18:06:46.220Z"
      },
      {
        "duration": 21,
        "start_time": "2024-07-02T18:06:46.250Z"
      },
      {
        "duration": 5,
        "start_time": "2024-07-02T18:06:46.272Z"
      },
      {
        "duration": 38,
        "start_time": "2024-07-02T18:06:46.278Z"
      },
      {
        "duration": 9,
        "start_time": "2024-07-02T18:06:46.318Z"
      },
      {
        "duration": 13,
        "start_time": "2024-07-02T18:06:46.329Z"
      },
      {
        "duration": 12,
        "start_time": "2024-07-02T18:06:46.343Z"
      },
      {
        "duration": 13,
        "start_time": "2024-07-02T18:06:46.357Z"
      },
      {
        "duration": 2,
        "start_time": "2024-07-02T18:06:46.371Z"
      },
      {
        "duration": 27,
        "start_time": "2024-07-02T18:06:46.374Z"
      },
      {
        "duration": 3,
        "start_time": "2024-07-02T18:06:46.403Z"
      },
      {
        "duration": 72,
        "start_time": "2024-07-02T18:08:23.683Z"
      },
      {
        "duration": 7,
        "start_time": "2024-07-02T18:31:32.614Z"
      },
      {
        "duration": 7,
        "start_time": "2024-07-02T18:31:41.149Z"
      },
      {
        "duration": 8,
        "start_time": "2024-07-02T18:32:42.701Z"
      },
      {
        "duration": 7,
        "start_time": "2024-07-02T18:34:13.144Z"
      },
      {
        "duration": 7,
        "start_time": "2024-07-02T18:34:25.113Z"
      },
      {
        "duration": 393,
        "start_time": "2024-07-02T18:34:32.579Z"
      },
      {
        "duration": 144,
        "start_time": "2024-07-02T18:34:32.974Z"
      },
      {
        "duration": 14,
        "start_time": "2024-07-02T18:34:33.119Z"
      },
      {
        "duration": 22,
        "start_time": "2024-07-02T18:34:33.134Z"
      },
      {
        "duration": 2,
        "start_time": "2024-07-02T18:34:33.157Z"
      },
      {
        "duration": 5,
        "start_time": "2024-07-02T18:34:33.160Z"
      },
      {
        "duration": 10,
        "start_time": "2024-07-02T18:34:33.166Z"
      },
      {
        "duration": 7,
        "start_time": "2024-07-02T18:34:33.177Z"
      },
      {
        "duration": 29,
        "start_time": "2024-07-02T18:34:33.202Z"
      },
      {
        "duration": 25,
        "start_time": "2024-07-02T18:34:33.233Z"
      },
      {
        "duration": 23,
        "start_time": "2024-07-02T18:34:33.259Z"
      },
      {
        "duration": 69,
        "start_time": "2024-07-02T18:34:33.284Z"
      },
      {
        "duration": 90,
        "start_time": "2024-07-02T18:34:33.354Z"
      },
      {
        "duration": 46,
        "start_time": "2024-07-02T18:34:33.445Z"
      },
      {
        "duration": 14,
        "start_time": "2024-07-02T18:34:33.492Z"
      },
      {
        "duration": 13,
        "start_time": "2024-07-02T18:34:33.507Z"
      },
      {
        "duration": 8,
        "start_time": "2024-07-02T18:34:33.522Z"
      },
      {
        "duration": 10,
        "start_time": "2024-07-02T18:34:33.531Z"
      },
      {
        "duration": 17,
        "start_time": "2024-07-02T18:34:33.542Z"
      },
      {
        "duration": 3,
        "start_time": "2024-07-02T18:34:33.560Z"
      },
      {
        "duration": 41,
        "start_time": "2024-07-02T18:34:33.564Z"
      },
      {
        "duration": 11,
        "start_time": "2024-07-02T18:34:33.606Z"
      },
      {
        "duration": 14,
        "start_time": "2024-07-02T18:34:33.618Z"
      },
      {
        "duration": 10,
        "start_time": "2024-07-02T18:34:33.633Z"
      },
      {
        "duration": 11,
        "start_time": "2024-07-02T18:34:33.644Z"
      },
      {
        "duration": 11,
        "start_time": "2024-07-02T18:34:33.657Z"
      },
      {
        "duration": 33,
        "start_time": "2024-07-02T18:34:33.669Z"
      },
      {
        "duration": 20,
        "start_time": "2024-07-02T18:34:33.705Z"
      },
      {
        "duration": 14,
        "start_time": "2024-07-02T18:34:33.726Z"
      },
      {
        "duration": 3,
        "start_time": "2024-07-02T18:34:33.741Z"
      },
      {
        "duration": 17,
        "start_time": "2024-07-02T18:34:33.745Z"
      },
      {
        "duration": 9,
        "start_time": "2024-07-02T18:34:33.763Z"
      },
      {
        "duration": 43,
        "start_time": "2024-07-02T18:34:33.773Z"
      },
      {
        "duration": 12,
        "start_time": "2024-07-02T18:34:33.818Z"
      },
      {
        "duration": 10,
        "start_time": "2024-07-02T18:34:33.831Z"
      },
      {
        "duration": 2,
        "start_time": "2024-07-02T18:34:33.842Z"
      },
      {
        "duration": 4,
        "start_time": "2024-07-02T18:34:33.845Z"
      },
      {
        "duration": 7,
        "start_time": "2024-07-02T18:34:33.850Z"
      },
      {
        "duration": 57,
        "start_time": "2024-07-02T18:35:20.133Z"
      },
      {
        "duration": 360,
        "start_time": "2024-07-02T18:35:25.307Z"
      },
      {
        "duration": 141,
        "start_time": "2024-07-02T18:35:25.669Z"
      },
      {
        "duration": 14,
        "start_time": "2024-07-02T18:35:25.812Z"
      },
      {
        "duration": 38,
        "start_time": "2024-07-02T18:35:25.828Z"
      },
      {
        "duration": 10,
        "start_time": "2024-07-02T18:35:25.869Z"
      },
      {
        "duration": 45,
        "start_time": "2024-07-02T18:35:25.881Z"
      },
      {
        "duration": 38,
        "start_time": "2024-07-02T18:35:25.927Z"
      },
      {
        "duration": 8,
        "start_time": "2024-07-02T18:35:25.967Z"
      },
      {
        "duration": 22,
        "start_time": "2024-07-02T18:35:25.977Z"
      },
      {
        "duration": 34,
        "start_time": "2024-07-02T18:35:26.001Z"
      },
      {
        "duration": 21,
        "start_time": "2024-07-02T18:35:26.036Z"
      },
      {
        "duration": 59,
        "start_time": "2024-07-02T18:35:26.058Z"
      },
      {
        "duration": 85,
        "start_time": "2024-07-02T18:35:26.118Z"
      },
      {
        "duration": 47,
        "start_time": "2024-07-02T18:35:26.207Z"
      },
      {
        "duration": 9,
        "start_time": "2024-07-02T18:35:26.256Z"
      },
      {
        "duration": 32,
        "start_time": "2024-07-02T18:35:26.266Z"
      },
      {
        "duration": 10,
        "start_time": "2024-07-02T18:35:26.299Z"
      },
      {
        "duration": 11,
        "start_time": "2024-07-02T18:35:26.310Z"
      },
      {
        "duration": 18,
        "start_time": "2024-07-02T18:35:26.322Z"
      },
      {
        "duration": 3,
        "start_time": "2024-07-02T18:35:26.341Z"
      },
      {
        "duration": 14,
        "start_time": "2024-07-02T18:35:26.346Z"
      },
      {
        "duration": 11,
        "start_time": "2024-07-02T18:35:26.361Z"
      },
      {
        "duration": 40,
        "start_time": "2024-07-02T18:35:26.373Z"
      },
      {
        "duration": 11,
        "start_time": "2024-07-02T18:35:26.415Z"
      },
      {
        "duration": 13,
        "start_time": "2024-07-02T18:35:26.428Z"
      },
      {
        "duration": 12,
        "start_time": "2024-07-02T18:35:26.442Z"
      },
      {
        "duration": 9,
        "start_time": "2024-07-02T18:35:26.455Z"
      },
      {
        "duration": 48,
        "start_time": "2024-07-02T18:35:26.465Z"
      },
      {
        "duration": 14,
        "start_time": "2024-07-02T18:35:26.514Z"
      },
      {
        "duration": 4,
        "start_time": "2024-07-02T18:35:26.529Z"
      },
      {
        "duration": 15,
        "start_time": "2024-07-02T18:35:26.534Z"
      },
      {
        "duration": 8,
        "start_time": "2024-07-02T18:35:26.550Z"
      },
      {
        "duration": 12,
        "start_time": "2024-07-02T18:35:26.559Z"
      },
      {
        "duration": 40,
        "start_time": "2024-07-02T18:35:26.573Z"
      },
      {
        "duration": 991,
        "start_time": "2024-07-02T18:35:26.614Z"
      },
      {
        "duration": 0,
        "start_time": "2024-07-02T18:35:27.606Z"
      },
      {
        "duration": 0,
        "start_time": "2024-07-02T18:35:27.607Z"
      },
      {
        "duration": 0,
        "start_time": "2024-07-02T18:35:27.608Z"
      },
      {
        "duration": 9,
        "start_time": "2024-07-02T18:36:27.331Z"
      },
      {
        "duration": 366,
        "start_time": "2024-07-02T18:36:33.601Z"
      },
      {
        "duration": 140,
        "start_time": "2024-07-02T18:36:33.968Z"
      },
      {
        "duration": 14,
        "start_time": "2024-07-02T18:36:34.109Z"
      },
      {
        "duration": 23,
        "start_time": "2024-07-02T18:36:34.124Z"
      },
      {
        "duration": 2,
        "start_time": "2024-07-02T18:36:34.148Z"
      },
      {
        "duration": 4,
        "start_time": "2024-07-02T18:36:34.151Z"
      },
      {
        "duration": 8,
        "start_time": "2024-07-02T18:36:34.157Z"
      },
      {
        "duration": 9,
        "start_time": "2024-07-02T18:36:34.167Z"
      },
      {
        "duration": 32,
        "start_time": "2024-07-02T18:36:34.177Z"
      },
      {
        "duration": 34,
        "start_time": "2024-07-02T18:36:34.211Z"
      },
      {
        "duration": 19,
        "start_time": "2024-07-02T18:36:34.246Z"
      },
      {
        "duration": 68,
        "start_time": "2024-07-02T18:36:34.266Z"
      },
      {
        "duration": 75,
        "start_time": "2024-07-02T18:36:34.335Z"
      },
      {
        "duration": 47,
        "start_time": "2024-07-02T18:36:34.413Z"
      },
      {
        "duration": 8,
        "start_time": "2024-07-02T18:36:34.462Z"
      },
      {
        "duration": 33,
        "start_time": "2024-07-02T18:36:34.471Z"
      },
      {
        "duration": 9,
        "start_time": "2024-07-02T18:36:34.506Z"
      },
      {
        "duration": 10,
        "start_time": "2024-07-02T18:36:34.516Z"
      },
      {
        "duration": 18,
        "start_time": "2024-07-02T18:36:34.527Z"
      },
      {
        "duration": 2,
        "start_time": "2024-07-02T18:36:34.546Z"
      },
      {
        "duration": 15,
        "start_time": "2024-07-02T18:36:34.550Z"
      },
      {
        "duration": 64,
        "start_time": "2024-07-02T18:36:34.566Z"
      },
      {
        "duration": 41,
        "start_time": "2024-07-02T18:36:34.631Z"
      },
      {
        "duration": 37,
        "start_time": "2024-07-02T18:36:34.673Z"
      },
      {
        "duration": 16,
        "start_time": "2024-07-02T18:36:34.711Z"
      },
      {
        "duration": 90,
        "start_time": "2024-07-02T18:36:34.729Z"
      },
      {
        "duration": 30,
        "start_time": "2024-07-02T18:36:34.820Z"
      },
      {
        "duration": 31,
        "start_time": "2024-07-02T18:36:34.852Z"
      },
      {
        "duration": 17,
        "start_time": "2024-07-02T18:36:34.884Z"
      },
      {
        "duration": 13,
        "start_time": "2024-07-02T18:36:34.902Z"
      },
      {
        "duration": 33,
        "start_time": "2024-07-02T18:36:34.916Z"
      },
      {
        "duration": 16,
        "start_time": "2024-07-02T18:36:34.951Z"
      },
      {
        "duration": 22,
        "start_time": "2024-07-02T18:36:34.968Z"
      },
      {
        "duration": 24,
        "start_time": "2024-07-02T18:36:34.991Z"
      },
      {
        "duration": 12,
        "start_time": "2024-07-02T18:36:35.016Z"
      },
      {
        "duration": 3,
        "start_time": "2024-07-02T18:36:35.029Z"
      },
      {
        "duration": 21,
        "start_time": "2024-07-02T18:36:35.034Z"
      },
      {
        "duration": 19,
        "start_time": "2024-07-02T18:36:35.056Z"
      },
      {
        "duration": 57,
        "start_time": "2024-07-02T18:41:13.223Z"
      },
      {
        "duration": 7,
        "start_time": "2024-07-02T18:41:27.247Z"
      },
      {
        "duration": 2,
        "start_time": "2024-07-02T18:41:32.489Z"
      },
      {
        "duration": 366,
        "start_time": "2024-07-02T18:41:39.023Z"
      },
      {
        "duration": 142,
        "start_time": "2024-07-02T18:41:39.391Z"
      },
      {
        "duration": 15,
        "start_time": "2024-07-02T18:41:39.534Z"
      },
      {
        "duration": 21,
        "start_time": "2024-07-02T18:41:39.550Z"
      },
      {
        "duration": 2,
        "start_time": "2024-07-02T18:41:39.573Z"
      },
      {
        "duration": 8,
        "start_time": "2024-07-02T18:41:39.576Z"
      },
      {
        "duration": 19,
        "start_time": "2024-07-02T18:41:39.585Z"
      },
      {
        "duration": 10,
        "start_time": "2024-07-02T18:41:39.605Z"
      },
      {
        "duration": 29,
        "start_time": "2024-07-02T18:41:39.616Z"
      },
      {
        "duration": 41,
        "start_time": "2024-07-02T18:41:39.646Z"
      },
      {
        "duration": 22,
        "start_time": "2024-07-02T18:41:39.689Z"
      },
      {
        "duration": 58,
        "start_time": "2024-07-02T18:41:39.712Z"
      },
      {
        "duration": 74,
        "start_time": "2024-07-02T18:41:39.772Z"
      },
      {
        "duration": 46,
        "start_time": "2024-07-02T18:41:39.848Z"
      },
      {
        "duration": 8,
        "start_time": "2024-07-02T18:41:39.902Z"
      },
      {
        "duration": 45,
        "start_time": "2024-07-02T18:41:39.911Z"
      },
      {
        "duration": 28,
        "start_time": "2024-07-02T18:41:39.957Z"
      },
      {
        "duration": 10,
        "start_time": "2024-07-02T18:41:39.987Z"
      },
      {
        "duration": 30,
        "start_time": "2024-07-02T18:41:39.999Z"
      },
      {
        "duration": 38,
        "start_time": "2024-07-02T18:41:40.030Z"
      },
      {
        "duration": 25,
        "start_time": "2024-07-02T18:41:40.070Z"
      },
      {
        "duration": 17,
        "start_time": "2024-07-02T18:41:40.096Z"
      },
      {
        "duration": 12,
        "start_time": "2024-07-02T18:41:40.114Z"
      },
      {
        "duration": 11,
        "start_time": "2024-07-02T18:41:40.127Z"
      },
      {
        "duration": 13,
        "start_time": "2024-07-02T18:41:40.139Z"
      },
      {
        "duration": 11,
        "start_time": "2024-07-02T18:41:40.154Z"
      },
      {
        "duration": 12,
        "start_time": "2024-07-02T18:41:40.167Z"
      },
      {
        "duration": 15,
        "start_time": "2024-07-02T18:41:40.202Z"
      },
      {
        "duration": 25,
        "start_time": "2024-07-02T18:41:40.218Z"
      },
      {
        "duration": 4,
        "start_time": "2024-07-02T18:41:40.244Z"
      },
      {
        "duration": 21,
        "start_time": "2024-07-02T18:41:40.249Z"
      },
      {
        "duration": 10,
        "start_time": "2024-07-02T18:41:40.272Z"
      },
      {
        "duration": 25,
        "start_time": "2024-07-02T18:41:40.283Z"
      },
      {
        "duration": 9,
        "start_time": "2024-07-02T18:41:40.309Z"
      },
      {
        "duration": 15,
        "start_time": "2024-07-02T18:41:40.320Z"
      },
      {
        "duration": 3,
        "start_time": "2024-07-02T18:41:40.336Z"
      },
      {
        "duration": 4,
        "start_time": "2024-07-02T18:41:40.341Z"
      },
      {
        "duration": 2,
        "start_time": "2024-07-02T18:41:40.346Z"
      },
      {
        "duration": 369,
        "start_time": "2024-07-02T18:42:55.365Z"
      },
      {
        "duration": 146,
        "start_time": "2024-07-02T18:42:55.736Z"
      },
      {
        "duration": 18,
        "start_time": "2024-07-02T18:42:55.884Z"
      },
      {
        "duration": 21,
        "start_time": "2024-07-02T18:42:55.903Z"
      },
      {
        "duration": 9,
        "start_time": "2024-07-02T18:42:55.925Z"
      },
      {
        "duration": 4,
        "start_time": "2024-07-02T18:42:55.935Z"
      },
      {
        "duration": 11,
        "start_time": "2024-07-02T18:42:55.940Z"
      },
      {
        "duration": 3,
        "start_time": "2024-07-02T18:42:55.955Z"
      },
      {
        "duration": 44,
        "start_time": "2024-07-02T18:42:55.960Z"
      },
      {
        "duration": 24,
        "start_time": "2024-07-02T18:42:56.007Z"
      },
      {
        "duration": 20,
        "start_time": "2024-07-02T18:42:56.033Z"
      },
      {
        "duration": 78,
        "start_time": "2024-07-02T18:42:56.055Z"
      },
      {
        "duration": 86,
        "start_time": "2024-07-02T18:42:56.134Z"
      },
      {
        "duration": 46,
        "start_time": "2024-07-02T18:42:56.222Z"
      },
      {
        "duration": 9,
        "start_time": "2024-07-02T18:42:56.269Z"
      },
      {
        "duration": 32,
        "start_time": "2024-07-02T18:42:56.279Z"
      },
      {
        "duration": 11,
        "start_time": "2024-07-02T18:42:56.313Z"
      },
      {
        "duration": 13,
        "start_time": "2024-07-02T18:42:56.325Z"
      },
      {
        "duration": 23,
        "start_time": "2024-07-02T18:42:56.340Z"
      },
      {
        "duration": 2,
        "start_time": "2024-07-02T18:42:56.364Z"
      },
      {
        "duration": 14,
        "start_time": "2024-07-02T18:42:56.368Z"
      },
      {
        "duration": 12,
        "start_time": "2024-07-02T18:42:56.401Z"
      },
      {
        "duration": 11,
        "start_time": "2024-07-02T18:42:56.414Z"
      },
      {
        "duration": 11,
        "start_time": "2024-07-02T18:42:56.427Z"
      },
      {
        "duration": 12,
        "start_time": "2024-07-02T18:42:56.439Z"
      },
      {
        "duration": 12,
        "start_time": "2024-07-02T18:42:56.453Z"
      },
      {
        "duration": 35,
        "start_time": "2024-07-02T18:42:56.466Z"
      },
      {
        "duration": 17,
        "start_time": "2024-07-02T18:42:56.503Z"
      },
      {
        "duration": 14,
        "start_time": "2024-07-02T18:42:56.522Z"
      },
      {
        "duration": 3,
        "start_time": "2024-07-02T18:42:56.538Z"
      },
      {
        "duration": 21,
        "start_time": "2024-07-02T18:42:56.543Z"
      },
      {
        "duration": 9,
        "start_time": "2024-07-02T18:42:56.565Z"
      },
      {
        "duration": 35,
        "start_time": "2024-07-02T18:42:56.576Z"
      },
      {
        "duration": 14,
        "start_time": "2024-07-02T18:42:56.613Z"
      },
      {
        "duration": 1047,
        "start_time": "2024-07-02T18:42:56.628Z"
      },
      {
        "duration": 0,
        "start_time": "2024-07-02T18:42:57.676Z"
      },
      {
        "duration": 0,
        "start_time": "2024-07-02T18:42:57.677Z"
      },
      {
        "duration": 0,
        "start_time": "2024-07-02T18:42:57.678Z"
      },
      {
        "duration": 8,
        "start_time": "2024-07-02T18:44:46.006Z"
      },
      {
        "duration": 389,
        "start_time": "2024-07-02T18:45:20.978Z"
      },
      {
        "duration": 145,
        "start_time": "2024-07-02T18:45:21.368Z"
      },
      {
        "duration": 14,
        "start_time": "2024-07-02T18:45:21.514Z"
      },
      {
        "duration": 21,
        "start_time": "2024-07-02T18:45:21.530Z"
      },
      {
        "duration": 2,
        "start_time": "2024-07-02T18:45:21.552Z"
      },
      {
        "duration": 5,
        "start_time": "2024-07-02T18:45:21.556Z"
      },
      {
        "duration": 10,
        "start_time": "2024-07-02T18:45:21.562Z"
      },
      {
        "duration": 7,
        "start_time": "2024-07-02T18:45:21.573Z"
      },
      {
        "duration": 19,
        "start_time": "2024-07-02T18:45:21.601Z"
      },
      {
        "duration": 24,
        "start_time": "2024-07-02T18:45:21.622Z"
      },
      {
        "duration": 27,
        "start_time": "2024-07-02T18:45:21.648Z"
      },
      {
        "duration": 68,
        "start_time": "2024-07-02T18:45:21.676Z"
      },
      {
        "duration": 80,
        "start_time": "2024-07-02T18:45:21.745Z"
      },
      {
        "duration": 45,
        "start_time": "2024-07-02T18:45:21.826Z"
      },
      {
        "duration": 8,
        "start_time": "2024-07-02T18:45:21.872Z"
      },
      {
        "duration": 29,
        "start_time": "2024-07-02T18:45:21.882Z"
      },
      {
        "duration": 15,
        "start_time": "2024-07-02T18:45:21.912Z"
      },
      {
        "duration": 17,
        "start_time": "2024-07-02T18:45:21.929Z"
      },
      {
        "duration": 94,
        "start_time": "2024-07-02T18:45:21.947Z"
      },
      {
        "duration": 3,
        "start_time": "2024-07-02T18:45:22.042Z"
      },
      {
        "duration": 18,
        "start_time": "2024-07-02T18:45:22.047Z"
      },
      {
        "duration": 11,
        "start_time": "2024-07-02T18:45:22.066Z"
      },
      {
        "duration": 38,
        "start_time": "2024-07-02T18:45:22.079Z"
      },
      {
        "duration": 11,
        "start_time": "2024-07-02T18:45:22.118Z"
      },
      {
        "duration": 12,
        "start_time": "2024-07-02T18:45:22.130Z"
      },
      {
        "duration": 11,
        "start_time": "2024-07-02T18:45:22.143Z"
      },
      {
        "duration": 8,
        "start_time": "2024-07-02T18:45:22.155Z"
      },
      {
        "duration": 40,
        "start_time": "2024-07-02T18:45:22.165Z"
      },
      {
        "duration": 20,
        "start_time": "2024-07-02T18:45:22.206Z"
      },
      {
        "duration": 4,
        "start_time": "2024-07-02T18:45:22.228Z"
      },
      {
        "duration": 24,
        "start_time": "2024-07-02T18:45:22.234Z"
      },
      {
        "duration": 22,
        "start_time": "2024-07-02T18:45:22.260Z"
      },
      {
        "duration": 14,
        "start_time": "2024-07-02T18:45:22.284Z"
      },
      {
        "duration": 9,
        "start_time": "2024-07-02T18:45:22.302Z"
      },
      {
        "duration": 6,
        "start_time": "2024-07-02T18:45:22.312Z"
      },
      {
        "duration": 5,
        "start_time": "2024-07-02T18:45:22.320Z"
      },
      {
        "duration": 4,
        "start_time": "2024-07-02T18:45:22.326Z"
      },
      {
        "duration": 6,
        "start_time": "2024-07-02T18:45:22.331Z"
      },
      {
        "duration": 56,
        "start_time": "2024-07-02T18:49:01.462Z"
      },
      {
        "duration": 56,
        "start_time": "2024-07-02T18:49:09.830Z"
      },
      {
        "duration": 52,
        "start_time": "2024-07-02T18:51:54.866Z"
      },
      {
        "duration": 55,
        "start_time": "2024-07-02T18:52:00.398Z"
      },
      {
        "duration": 2,
        "start_time": "2024-07-02T18:52:03.086Z"
      },
      {
        "duration": 7,
        "start_time": "2024-07-02T18:52:06.277Z"
      },
      {
        "duration": 356,
        "start_time": "2024-07-02T18:52:10.629Z"
      },
      {
        "duration": 144,
        "start_time": "2024-07-02T18:52:10.987Z"
      },
      {
        "duration": 14,
        "start_time": "2024-07-02T18:52:11.132Z"
      },
      {
        "duration": 22,
        "start_time": "2024-07-02T18:52:11.148Z"
      },
      {
        "duration": 5,
        "start_time": "2024-07-02T18:52:11.171Z"
      },
      {
        "duration": 19,
        "start_time": "2024-07-02T18:52:11.177Z"
      },
      {
        "duration": 11,
        "start_time": "2024-07-02T18:52:11.198Z"
      },
      {
        "duration": 9,
        "start_time": "2024-07-02T18:52:11.210Z"
      },
      {
        "duration": 23,
        "start_time": "2024-07-02T18:52:11.221Z"
      },
      {
        "duration": 24,
        "start_time": "2024-07-02T18:52:11.247Z"
      },
      {
        "duration": 31,
        "start_time": "2024-07-02T18:52:11.273Z"
      },
      {
        "duration": 58,
        "start_time": "2024-07-02T18:52:11.306Z"
      },
      {
        "duration": 91,
        "start_time": "2024-07-02T18:52:11.366Z"
      },
      {
        "duration": 53,
        "start_time": "2024-07-02T18:52:11.459Z"
      },
      {
        "duration": 9,
        "start_time": "2024-07-02T18:52:11.513Z"
      },
      {
        "duration": 21,
        "start_time": "2024-07-02T18:52:11.523Z"
      },
      {
        "duration": 10,
        "start_time": "2024-07-02T18:52:11.545Z"
      },
      {
        "duration": 10,
        "start_time": "2024-07-02T18:52:11.556Z"
      },
      {
        "duration": 33,
        "start_time": "2024-07-02T18:52:11.568Z"
      },
      {
        "duration": 3,
        "start_time": "2024-07-02T18:52:11.603Z"
      },
      {
        "duration": 13,
        "start_time": "2024-07-02T18:52:11.608Z"
      },
      {
        "duration": 12,
        "start_time": "2024-07-02T18:52:11.623Z"
      },
      {
        "duration": 15,
        "start_time": "2024-07-02T18:52:11.637Z"
      },
      {
        "duration": 11,
        "start_time": "2024-07-02T18:52:11.654Z"
      },
      {
        "duration": 43,
        "start_time": "2024-07-02T18:52:11.666Z"
      },
      {
        "duration": 11,
        "start_time": "2024-07-02T18:52:11.711Z"
      },
      {
        "duration": 8,
        "start_time": "2024-07-02T18:52:11.724Z"
      },
      {
        "duration": 18,
        "start_time": "2024-07-02T18:52:11.735Z"
      },
      {
        "duration": 15,
        "start_time": "2024-07-02T18:52:11.754Z"
      },
      {
        "duration": 3,
        "start_time": "2024-07-02T18:52:11.770Z"
      },
      {
        "duration": 13,
        "start_time": "2024-07-02T18:52:11.801Z"
      },
      {
        "duration": 9,
        "start_time": "2024-07-02T18:52:11.815Z"
      },
      {
        "duration": 84,
        "start_time": "2024-07-02T18:52:11.825Z"
      },
      {
        "duration": 20,
        "start_time": "2024-07-02T18:52:11.911Z"
      },
      {
        "duration": 9,
        "start_time": "2024-07-02T18:52:11.932Z"
      },
      {
        "duration": 2,
        "start_time": "2024-07-02T18:52:11.942Z"
      },
      {
        "duration": 7,
        "start_time": "2024-07-02T18:52:11.945Z"
      },
      {
        "duration": 67,
        "start_time": "2024-07-02T18:52:11.953Z"
      },
      {
        "duration": 74,
        "start_time": "2024-07-02T18:55:10.170Z"
      },
      {
        "duration": 265,
        "start_time": "2024-07-02T18:55:18.791Z"
      },
      {
        "duration": 56,
        "start_time": "2024-07-02T18:55:56.132Z"
      },
      {
        "duration": 362,
        "start_time": "2024-07-02T18:56:04.216Z"
      },
      {
        "duration": 148,
        "start_time": "2024-07-02T18:56:04.580Z"
      },
      {
        "duration": 16,
        "start_time": "2024-07-02T18:56:04.731Z"
      },
      {
        "duration": 23,
        "start_time": "2024-07-02T18:56:04.749Z"
      },
      {
        "duration": 8,
        "start_time": "2024-07-02T18:56:04.773Z"
      },
      {
        "duration": 10,
        "start_time": "2024-07-02T18:56:04.782Z"
      },
      {
        "duration": 22,
        "start_time": "2024-07-02T18:56:04.793Z"
      },
      {
        "duration": 17,
        "start_time": "2024-07-02T18:56:04.816Z"
      },
      {
        "duration": 21,
        "start_time": "2024-07-02T18:56:04.834Z"
      },
      {
        "duration": 28,
        "start_time": "2024-07-02T18:56:04.858Z"
      },
      {
        "duration": 20,
        "start_time": "2024-07-02T18:56:04.888Z"
      },
      {
        "duration": 59,
        "start_time": "2024-07-02T18:56:04.909Z"
      },
      {
        "duration": 94,
        "start_time": "2024-07-02T18:56:04.971Z"
      },
      {
        "duration": 51,
        "start_time": "2024-07-02T18:56:05.067Z"
      },
      {
        "duration": 9,
        "start_time": "2024-07-02T18:56:05.119Z"
      },
      {
        "duration": 28,
        "start_time": "2024-07-02T18:56:05.129Z"
      },
      {
        "duration": 9,
        "start_time": "2024-07-02T18:56:05.158Z"
      },
      {
        "duration": 9,
        "start_time": "2024-07-02T18:56:05.168Z"
      },
      {
        "duration": 25,
        "start_time": "2024-07-02T18:56:05.178Z"
      },
      {
        "duration": 3,
        "start_time": "2024-07-02T18:56:05.204Z"
      },
      {
        "duration": 17,
        "start_time": "2024-07-02T18:56:05.208Z"
      },
      {
        "duration": 12,
        "start_time": "2024-07-02T18:56:05.226Z"
      },
      {
        "duration": 11,
        "start_time": "2024-07-02T18:56:05.240Z"
      },
      {
        "duration": 17,
        "start_time": "2024-07-02T18:56:05.252Z"
      },
      {
        "duration": 40,
        "start_time": "2024-07-02T18:56:05.270Z"
      },
      {
        "duration": 15,
        "start_time": "2024-07-02T18:56:05.311Z"
      },
      {
        "duration": 7,
        "start_time": "2024-07-02T18:56:05.327Z"
      },
      {
        "duration": 15,
        "start_time": "2024-07-02T18:56:05.337Z"
      },
      {
        "duration": 15,
        "start_time": "2024-07-02T18:56:05.353Z"
      },
      {
        "duration": 4,
        "start_time": "2024-07-02T18:56:05.369Z"
      },
      {
        "duration": 39,
        "start_time": "2024-07-02T18:56:05.375Z"
      },
      {
        "duration": 9,
        "start_time": "2024-07-02T18:56:05.416Z"
      },
      {
        "duration": 13,
        "start_time": "2024-07-02T18:56:05.426Z"
      },
      {
        "duration": 8,
        "start_time": "2024-07-02T18:56:05.441Z"
      },
      {
        "duration": 9,
        "start_time": "2024-07-02T18:56:05.450Z"
      },
      {
        "duration": 2,
        "start_time": "2024-07-02T18:56:05.460Z"
      },
      {
        "duration": 39,
        "start_time": "2024-07-02T18:56:05.463Z"
      },
      {
        "duration": 43,
        "start_time": "2024-07-02T18:56:05.503Z"
      },
      {
        "duration": 55,
        "start_time": "2024-07-02T18:56:13.713Z"
      },
      {
        "duration": 2,
        "start_time": "2024-07-02T18:56:15.854Z"
      },
      {
        "duration": 393,
        "start_time": "2024-07-02T18:56:21.557Z"
      },
      {
        "duration": 168,
        "start_time": "2024-07-02T18:56:21.952Z"
      },
      {
        "duration": 13,
        "start_time": "2024-07-02T18:56:22.122Z"
      },
      {
        "duration": 21,
        "start_time": "2024-07-02T18:56:22.136Z"
      },
      {
        "duration": 4,
        "start_time": "2024-07-02T18:56:22.158Z"
      },
      {
        "duration": 19,
        "start_time": "2024-07-02T18:56:22.163Z"
      },
      {
        "duration": 25,
        "start_time": "2024-07-02T18:56:22.183Z"
      },
      {
        "duration": 7,
        "start_time": "2024-07-02T18:56:22.209Z"
      },
      {
        "duration": 28,
        "start_time": "2024-07-02T18:56:22.217Z"
      },
      {
        "duration": 25,
        "start_time": "2024-07-02T18:56:22.247Z"
      },
      {
        "duration": 22,
        "start_time": "2024-07-02T18:56:22.274Z"
      },
      {
        "duration": 61,
        "start_time": "2024-07-02T18:56:22.301Z"
      },
      {
        "duration": 80,
        "start_time": "2024-07-02T18:56:22.364Z"
      },
      {
        "duration": 57,
        "start_time": "2024-07-02T18:56:22.445Z"
      },
      {
        "duration": 9,
        "start_time": "2024-07-02T18:56:22.504Z"
      },
      {
        "duration": 12,
        "start_time": "2024-07-02T18:56:22.515Z"
      },
      {
        "duration": 28,
        "start_time": "2024-07-02T18:56:22.529Z"
      },
      {
        "duration": 24,
        "start_time": "2024-07-02T18:56:22.558Z"
      },
      {
        "duration": 17,
        "start_time": "2024-07-02T18:56:22.583Z"
      },
      {
        "duration": 3,
        "start_time": "2024-07-02T18:56:22.601Z"
      },
      {
        "duration": 17,
        "start_time": "2024-07-02T18:56:22.605Z"
      },
      {
        "duration": 14,
        "start_time": "2024-07-02T18:56:22.623Z"
      },
      {
        "duration": 11,
        "start_time": "2024-07-02T18:56:22.639Z"
      },
      {
        "duration": 10,
        "start_time": "2024-07-02T18:56:22.651Z"
      },
      {
        "duration": 12,
        "start_time": "2024-07-02T18:56:22.662Z"
      },
      {
        "duration": 33,
        "start_time": "2024-07-02T18:56:22.675Z"
      },
      {
        "duration": 7,
        "start_time": "2024-07-02T18:56:22.709Z"
      },
      {
        "duration": 22,
        "start_time": "2024-07-02T18:56:22.719Z"
      },
      {
        "duration": 13,
        "start_time": "2024-07-02T18:56:22.742Z"
      },
      {
        "duration": 3,
        "start_time": "2024-07-02T18:56:22.756Z"
      },
      {
        "duration": 17,
        "start_time": "2024-07-02T18:56:22.760Z"
      },
      {
        "duration": 29,
        "start_time": "2024-07-02T18:56:22.778Z"
      },
      {
        "duration": 19,
        "start_time": "2024-07-02T18:56:22.808Z"
      },
      {
        "duration": 8,
        "start_time": "2024-07-02T18:56:22.828Z"
      },
      {
        "duration": 7,
        "start_time": "2024-07-02T18:56:22.837Z"
      },
      {
        "duration": 1,
        "start_time": "2024-07-02T18:56:22.845Z"
      },
      {
        "duration": 5,
        "start_time": "2024-07-02T18:56:22.848Z"
      },
      {
        "duration": 3,
        "start_time": "2024-07-02T18:56:22.854Z"
      },
      {
        "duration": 4,
        "start_time": "2024-07-02T18:56:52.297Z"
      },
      {
        "duration": 5,
        "start_time": "2024-07-02T18:57:32.337Z"
      },
      {
        "duration": 4,
        "start_time": "2024-07-02T18:57:49.198Z"
      },
      {
        "duration": 35,
        "start_time": "2024-07-02T19:39:04.276Z"
      },
      {
        "duration": 32,
        "start_time": "2024-07-02T19:40:48.958Z"
      },
      {
        "duration": 5,
        "start_time": "2024-07-02T19:59:38.665Z"
      },
      {
        "duration": 13,
        "start_time": "2024-07-02T20:00:43.313Z"
      },
      {
        "duration": 25,
        "start_time": "2024-07-02T20:00:47.952Z"
      },
      {
        "duration": 9,
        "start_time": "2024-07-02T20:04:36.565Z"
      },
      {
        "duration": 10,
        "start_time": "2024-07-02T20:05:11.250Z"
      },
      {
        "duration": 9,
        "start_time": "2024-07-02T20:05:58.475Z"
      },
      {
        "duration": 4,
        "start_time": "2024-07-02T20:14:16.860Z"
      },
      {
        "duration": 34,
        "start_time": "2024-07-02T20:14:36.456Z"
      },
      {
        "duration": 10,
        "start_time": "2024-07-02T20:15:01.965Z"
      },
      {
        "duration": 73,
        "start_time": "2024-07-02T21:27:28.771Z"
      },
      {
        "duration": 7,
        "start_time": "2024-07-02T21:27:58.605Z"
      },
      {
        "duration": 7,
        "start_time": "2024-07-02T21:28:08.589Z"
      },
      {
        "duration": 6,
        "start_time": "2024-07-02T21:30:21.968Z"
      },
      {
        "duration": 6,
        "start_time": "2024-07-02T21:30:23.622Z"
      },
      {
        "duration": 5,
        "start_time": "2024-07-02T21:30:38.022Z"
      },
      {
        "duration": 337,
        "start_time": "2024-07-02T21:31:05.345Z"
      },
      {
        "duration": 141,
        "start_time": "2024-07-02T21:31:05.684Z"
      },
      {
        "duration": 14,
        "start_time": "2024-07-02T21:31:05.826Z"
      },
      {
        "duration": 57,
        "start_time": "2024-07-02T21:31:05.842Z"
      },
      {
        "duration": 8,
        "start_time": "2024-07-02T21:31:05.901Z"
      },
      {
        "duration": 9,
        "start_time": "2024-07-02T21:31:05.910Z"
      },
      {
        "duration": 9,
        "start_time": "2024-07-02T21:31:05.920Z"
      },
      {
        "duration": 4,
        "start_time": "2024-07-02T21:31:05.930Z"
      },
      {
        "duration": 28,
        "start_time": "2024-07-02T21:31:05.935Z"
      },
      {
        "duration": 20,
        "start_time": "2024-07-02T21:31:05.966Z"
      },
      {
        "duration": 17,
        "start_time": "2024-07-02T21:31:05.988Z"
      },
      {
        "duration": 69,
        "start_time": "2024-07-02T21:31:06.007Z"
      },
      {
        "duration": 65,
        "start_time": "2024-07-02T21:31:06.077Z"
      },
      {
        "duration": 50,
        "start_time": "2024-07-02T21:31:06.143Z"
      },
      {
        "duration": 11,
        "start_time": "2024-07-02T21:31:06.194Z"
      },
      {
        "duration": 19,
        "start_time": "2024-07-02T21:31:06.206Z"
      },
      {
        "duration": 9,
        "start_time": "2024-07-02T21:31:06.226Z"
      },
      {
        "duration": 10,
        "start_time": "2024-07-02T21:31:06.236Z"
      },
      {
        "duration": 8,
        "start_time": "2024-07-02T21:31:06.247Z"
      },
      {
        "duration": 2,
        "start_time": "2024-07-02T21:31:06.257Z"
      },
      {
        "duration": 24,
        "start_time": "2024-07-02T21:31:06.260Z"
      },
      {
        "duration": 36,
        "start_time": "2024-07-02T21:31:06.285Z"
      },
      {
        "duration": 14,
        "start_time": "2024-07-02T21:31:06.323Z"
      },
      {
        "duration": 10,
        "start_time": "2024-07-02T21:31:06.338Z"
      },
      {
        "duration": 15,
        "start_time": "2024-07-02T21:31:06.349Z"
      },
      {
        "duration": 10,
        "start_time": "2024-07-02T21:31:06.365Z"
      },
      {
        "duration": 7,
        "start_time": "2024-07-02T21:31:06.377Z"
      },
      {
        "duration": 18,
        "start_time": "2024-07-02T21:31:06.387Z"
      },
      {
        "duration": 15,
        "start_time": "2024-07-02T21:31:06.406Z"
      },
      {
        "duration": 46,
        "start_time": "2024-07-02T21:31:06.422Z"
      },
      {
        "duration": 75,
        "start_time": "2024-07-02T21:31:06.469Z"
      },
      {
        "duration": 9,
        "start_time": "2024-07-02T21:31:06.545Z"
      },
      {
        "duration": 18,
        "start_time": "2024-07-02T21:31:06.556Z"
      },
      {
        "duration": 12,
        "start_time": "2024-07-02T21:31:06.576Z"
      },
      {
        "duration": 9,
        "start_time": "2024-07-02T21:31:06.590Z"
      },
      {
        "duration": 5,
        "start_time": "2024-07-02T21:31:06.600Z"
      },
      {
        "duration": 19,
        "start_time": "2024-07-02T21:31:06.606Z"
      },
      {
        "duration": 4,
        "start_time": "2024-07-02T21:31:06.627Z"
      }
    ],
    "celltoolbar": "Отсутствует",
    "colab": {
      "provenance": []
    },
    "kernelspec": {
      "display_name": "Python 3 (ipykernel)",
      "language": "python",
      "name": "python3"
    },
    "language_info": {
      "codemirror_mode": {
        "name": "ipython",
        "version": 3
      },
      "file_extension": ".py",
      "mimetype": "text/x-python",
      "name": "python",
      "nbconvert_exporter": "python",
      "pygments_lexer": "ipython3",
      "version": "3.9.5"
    },
    "toc": {
      "base_numbering": 1,
      "nav_menu": {
        "height": "215px",
        "width": "403px"
      },
      "number_sections": true,
      "sideBar": true,
      "skip_h1_title": true,
      "title_cell": "Table of Contents",
      "title_sidebar": "Contents",
      "toc_cell": false,
      "toc_position": {
        "height": "calc(100% - 180px)",
        "left": "10px",
        "top": "150px",
        "width": "285.825px"
      },
      "toc_section_display": true,
      "toc_window_display": false
    }
  },
  "nbformat": 4,
  "nbformat_minor": 0
}