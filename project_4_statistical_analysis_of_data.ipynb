{
 "cells": [
  {
   "cell_type": "code",
   "execution_count": 1,
   "id": "72576667",
   "metadata": {},
   "outputs": [],
   "source": [
    "import pandas as pd\n",
    "import matplotlib.pyplot as plt\n",
    "from pylab import rcParams\n",
    "rcParams['figure.figsize'] = 12, 5"
   ]
  },
  {
   "cell_type": "markdown",
   "id": "e07a4fab",
   "metadata": {},
   "source": [
    "Цель проекта:\n",
    "\n",
    "Анализ данных и проверка гипотез, которые помогут бизнесу вырасти.\n",
    "\n",
    "План работы:\n",
    "\n",
    "Шаг 1. Загрузка данных.\n",
    "\n",
    "1.1 Считать csv-файлы с данными.\n",
    "\n",
    "1.2 Вывести первые строчки датафрейма.\n",
    "\n",
    "1.3 Изучить информацию и написать вывод.\n",
    "\n",
    "Шаг 2. Предобратотка данных.\n",
    "\n",
    "2.1 Привести столбец date к типу данных pandas (datetime)\n",
    "\n",
    "2.2 Создать столбец с номером месяца на основе столбца date\n",
    "\n",
    "2.3 Проверить наличие пропусков и дубликатов. Обратока их, если они присутствуют.\n",
    "\n",
    "Шаг 3.Исследовательский анализ данных.\n",
    "\n",
    "Описать и визуализировать общую информацию о пользователях и поездках\n",
    "\n",
    "3.1 частота встречаемости городов;\n",
    "\n",
    "3.2 соотношение пользователей с подпиской и без подписки; \n",
    "\n",
    "3.3 возраст пользователей;\n",
    "\n",
    "3.4 расстояние, которое пользователь преодолел за одну поездку;\n",
    "\n",
    "3.5 продолжительность поездок.\n",
    "\n",
    "Шаг 4. Объединение данных.\n",
    "\n",
    "4.1 Объединить данные о пользователях, поездках и подписках в один датафрейм. Для этого воспользуйтесь методом merge().\n",
    "\n",
    "4.2 Создайть ещё два датафрейма из датафрейма, созданного на этапе 4.1: c данными о пользователях без подписки; с данными о пользователях с подпиской.\n",
    "\n",
    "4.3 Визуализировать информацию о расстоянии и времени поездок для пользователей обеих категорий.\n",
    "\n",
    "Шаг 5. Подсчёт выручки.\n",
    "\n",
    "5.1 Создать датафрейм с агрегированными данными о поездках на основе датафрейма с объединёнными данными из шага 4: найдити суммарное расстояние, количество поездок и суммарное время для каждого пользователя за каждый месяц. 5.2 В этот же датафрейм добавить столбец с помесячной выручкой, которую принёс каждый пользователь.\n",
    "\n",
    "Шаг 6. Проверка гипотез\n",
    "\n",
    "6.1 Тратят ли пользователи с подпиской больше времени на поездки?\n",
    "\n",
    "6.2 Можно ли сказать, что расстояние, которое проезжают пользователи с подпиской за одну поездку, не превышает 3130 метров?\n",
    "\n",
    "6.3. Проверить гипотезу о том, будет ли помесячная выручка от пользователей с подпиской по месяцам выше, чем выручка от пользователей без подписки.\n",
    "\n",
    "6.4. Представьте такую ситуацию: техническая команда сервиса обновила сервера, с которыми взаимодействует мобильное приложение. Она надеется, что из-за этого количество обращений в техподдержку значимо снизилось. Некоторый файл содержит для каждого пользователя данные о количестве обращений до обновления и после него. Какой тест вам понадобился бы для проверки этой гипотезы?\n",
    "\n",
    "7. Выводы по результатам исследования.\n"
   ]
  },
  {
   "cell_type": "markdown",
   "id": "c42cbe00",
   "metadata": {},
   "source": [
    "#### Шаг 1. Загрузка данных"
   ]
  },
  {
   "cell_type": "code",
   "execution_count": 2,
   "id": "eff9f206",
   "metadata": {},
   "outputs": [],
   "source": [
    "users = pd.read_csv('/datasets/users_go.csv')\n",
    "rides = pd.read_csv('/datasets/rides_go.csv')\n",
    "subscriptions = pd.read_csv('/datasets/subscriptions_go.csv')"
   ]
  },
  {
   "cell_type": "code",
   "execution_count": 3,
   "id": "fd6b5793",
   "metadata": {
    "scrolled": true
   },
   "outputs": [
    {
     "data": {
      "text/html": [
       "<div>\n",
       "<style scoped>\n",
       "    .dataframe tbody tr th:only-of-type {\n",
       "        vertical-align: middle;\n",
       "    }\n",
       "\n",
       "    .dataframe tbody tr th {\n",
       "        vertical-align: top;\n",
       "    }\n",
       "\n",
       "    .dataframe thead th {\n",
       "        text-align: right;\n",
       "    }\n",
       "</style>\n",
       "<table border=\"1\" class=\"dataframe\">\n",
       "  <thead>\n",
       "    <tr style=\"text-align: right;\">\n",
       "      <th></th>\n",
       "      <th>user_id</th>\n",
       "      <th>name</th>\n",
       "      <th>age</th>\n",
       "      <th>city</th>\n",
       "      <th>subscription_type</th>\n",
       "    </tr>\n",
       "  </thead>\n",
       "  <tbody>\n",
       "    <tr>\n",
       "      <th>0</th>\n",
       "      <td>1</td>\n",
       "      <td>Кира</td>\n",
       "      <td>22</td>\n",
       "      <td>Тюмень</td>\n",
       "      <td>ultra</td>\n",
       "    </tr>\n",
       "    <tr>\n",
       "      <th>1</th>\n",
       "      <td>2</td>\n",
       "      <td>Станислав</td>\n",
       "      <td>31</td>\n",
       "      <td>Омск</td>\n",
       "      <td>ultra</td>\n",
       "    </tr>\n",
       "    <tr>\n",
       "      <th>2</th>\n",
       "      <td>3</td>\n",
       "      <td>Алексей</td>\n",
       "      <td>20</td>\n",
       "      <td>Москва</td>\n",
       "      <td>ultra</td>\n",
       "    </tr>\n",
       "    <tr>\n",
       "      <th>3</th>\n",
       "      <td>4</td>\n",
       "      <td>Константин</td>\n",
       "      <td>26</td>\n",
       "      <td>Ростов-на-Дону</td>\n",
       "      <td>ultra</td>\n",
       "    </tr>\n",
       "    <tr>\n",
       "      <th>4</th>\n",
       "      <td>5</td>\n",
       "      <td>Адель</td>\n",
       "      <td>28</td>\n",
       "      <td>Омск</td>\n",
       "      <td>ultra</td>\n",
       "    </tr>\n",
       "  </tbody>\n",
       "</table>\n",
       "</div>"
      ],
      "text/plain": [
       "   user_id        name  age            city subscription_type\n",
       "0        1        Кира   22          Тюмень             ultra\n",
       "1        2   Станислав   31            Омск             ultra\n",
       "2        3     Алексей   20          Москва             ultra\n",
       "3        4  Константин   26  Ростов-на-Дону             ultra\n",
       "4        5       Адель   28            Омск             ultra"
      ]
     },
     "execution_count": 3,
     "metadata": {},
     "output_type": "execute_result"
    }
   ],
   "source": [
    "users.head()"
   ]
  },
  {
   "cell_type": "code",
   "execution_count": 4,
   "id": "9f5b7af2",
   "metadata": {
    "scrolled": false
   },
   "outputs": [
    {
     "name": "stdout",
     "output_type": "stream",
     "text": [
      "<class 'pandas.core.frame.DataFrame'>\n",
      "RangeIndex: 1565 entries, 0 to 1564\n",
      "Data columns (total 5 columns):\n",
      " #   Column             Non-Null Count  Dtype \n",
      "---  ------             --------------  ----- \n",
      " 0   user_id            1565 non-null   int64 \n",
      " 1   name               1565 non-null   object\n",
      " 2   age                1565 non-null   int64 \n",
      " 3   city               1565 non-null   object\n",
      " 4   subscription_type  1565 non-null   object\n",
      "dtypes: int64(2), object(3)\n",
      "memory usage: 61.3+ KB\n"
     ]
    }
   ],
   "source": [
    "users.info()"
   ]
  },
  {
   "cell_type": "markdown",
   "id": "644cc120",
   "metadata": {},
   "source": [
    "**Датафрейм users содержит 5 колонок и 1565 строк. Пропущенных значений в датафрейме нет. Столбцов, которые нужно перевести в другой тип объекта нет.**"
   ]
  },
  {
   "cell_type": "code",
   "execution_count": 5,
   "id": "57dd143f",
   "metadata": {},
   "outputs": [
    {
     "data": {
      "text/html": [
       "<div>\n",
       "<style scoped>\n",
       "    .dataframe tbody tr th:only-of-type {\n",
       "        vertical-align: middle;\n",
       "    }\n",
       "\n",
       "    .dataframe tbody tr th {\n",
       "        vertical-align: top;\n",
       "    }\n",
       "\n",
       "    .dataframe thead th {\n",
       "        text-align: right;\n",
       "    }\n",
       "</style>\n",
       "<table border=\"1\" class=\"dataframe\">\n",
       "  <thead>\n",
       "    <tr style=\"text-align: right;\">\n",
       "      <th></th>\n",
       "      <th>user_id</th>\n",
       "      <th>distance</th>\n",
       "      <th>duration</th>\n",
       "      <th>date</th>\n",
       "    </tr>\n",
       "  </thead>\n",
       "  <tbody>\n",
       "    <tr>\n",
       "      <th>0</th>\n",
       "      <td>1</td>\n",
       "      <td>4409.919140</td>\n",
       "      <td>25.599769</td>\n",
       "      <td>2021-01-01</td>\n",
       "    </tr>\n",
       "    <tr>\n",
       "      <th>1</th>\n",
       "      <td>1</td>\n",
       "      <td>2617.592153</td>\n",
       "      <td>15.816871</td>\n",
       "      <td>2021-01-18</td>\n",
       "    </tr>\n",
       "    <tr>\n",
       "      <th>2</th>\n",
       "      <td>1</td>\n",
       "      <td>754.159807</td>\n",
       "      <td>6.232113</td>\n",
       "      <td>2021-04-20</td>\n",
       "    </tr>\n",
       "    <tr>\n",
       "      <th>3</th>\n",
       "      <td>1</td>\n",
       "      <td>2694.783254</td>\n",
       "      <td>18.511000</td>\n",
       "      <td>2021-08-11</td>\n",
       "    </tr>\n",
       "    <tr>\n",
       "      <th>4</th>\n",
       "      <td>1</td>\n",
       "      <td>4028.687306</td>\n",
       "      <td>26.265803</td>\n",
       "      <td>2021-08-28</td>\n",
       "    </tr>\n",
       "  </tbody>\n",
       "</table>\n",
       "</div>"
      ],
      "text/plain": [
       "   user_id     distance   duration        date\n",
       "0        1  4409.919140  25.599769  2021-01-01\n",
       "1        1  2617.592153  15.816871  2021-01-18\n",
       "2        1   754.159807   6.232113  2021-04-20\n",
       "3        1  2694.783254  18.511000  2021-08-11\n",
       "4        1  4028.687306  26.265803  2021-08-28"
      ]
     },
     "execution_count": 5,
     "metadata": {},
     "output_type": "execute_result"
    }
   ],
   "source": [
    "rides.head()"
   ]
  },
  {
   "cell_type": "code",
   "execution_count": 6,
   "id": "50ec9d92",
   "metadata": {
    "scrolled": true
   },
   "outputs": [
    {
     "name": "stdout",
     "output_type": "stream",
     "text": [
      "<class 'pandas.core.frame.DataFrame'>\n",
      "RangeIndex: 18068 entries, 0 to 18067\n",
      "Data columns (total 4 columns):\n",
      " #   Column    Non-Null Count  Dtype  \n",
      "---  ------    --------------  -----  \n",
      " 0   user_id   18068 non-null  int64  \n",
      " 1   distance  18068 non-null  float64\n",
      " 2   duration  18068 non-null  float64\n",
      " 3   date      18068 non-null  object \n",
      "dtypes: float64(2), int64(1), object(1)\n",
      "memory usage: 564.8+ KB\n"
     ]
    }
   ],
   "source": [
    "rides.info()"
   ]
  },
  {
   "cell_type": "code",
   "execution_count": 7,
   "id": "deee6e83",
   "metadata": {
    "scrolled": true
   },
   "outputs": [
    {
     "data": {
      "image/png": "[encoded data removed]",
      "text/plain": [
       "<Figure size 864x360 with 4 Axes>"
      ]
     },
     "metadata": {
      "needs_background": "light"
     },
     "output_type": "display_data"
    }
   ],
   "source": [
    "rides.hist()\n",
    "plt.show()"
   ]
  },
  {
   "cell_type": "markdown",
   "id": "250c119e",
   "metadata": {},
   "source": [
    "**Датафрейм rides содержит 4 колонки и 18068 строк. Пропущенных значений в датафрейме нет. Столбец date необходимо перевести в формат to_datetime.\n",
    "Судя по гистограммам в столбцах duration и distance есть редкие значения и выбросы.\n",
    "Только для этого датафрейма вывел гистрограммы т.к. только тут есть значения, которые могут иметь выбросы.**"
   ]
  },
  {
   "cell_type": "code",
   "execution_count": 8,
   "id": "8e13b53b",
   "metadata": {
    "scrolled": true
   },
   "outputs": [
    {
     "data": {
      "text/html": [
       "<div>\n",
       "<style scoped>\n",
       "    .dataframe tbody tr th:only-of-type {\n",
       "        vertical-align: middle;\n",
       "    }\n",
       "\n",
       "    .dataframe tbody tr th {\n",
       "        vertical-align: top;\n",
       "    }\n",
       "\n",
       "    .dataframe thead th {\n",
       "        text-align: right;\n",
       "    }\n",
       "</style>\n",
       "<table border=\"1\" class=\"dataframe\">\n",
       "  <thead>\n",
       "    <tr style=\"text-align: right;\">\n",
       "      <th></th>\n",
       "      <th>subscription_type</th>\n",
       "      <th>minute_price</th>\n",
       "      <th>start_ride_price</th>\n",
       "      <th>subscription_fee</th>\n",
       "    </tr>\n",
       "  </thead>\n",
       "  <tbody>\n",
       "    <tr>\n",
       "      <th>0</th>\n",
       "      <td>free</td>\n",
       "      <td>8</td>\n",
       "      <td>50</td>\n",
       "      <td>0</td>\n",
       "    </tr>\n",
       "    <tr>\n",
       "      <th>1</th>\n",
       "      <td>ultra</td>\n",
       "      <td>6</td>\n",
       "      <td>0</td>\n",
       "      <td>199</td>\n",
       "    </tr>\n",
       "  </tbody>\n",
       "</table>\n",
       "</div>"
      ],
      "text/plain": [
       "  subscription_type  minute_price  start_ride_price  subscription_fee\n",
       "0              free             8                50                 0\n",
       "1             ultra             6                 0               199"
      ]
     },
     "execution_count": 8,
     "metadata": {},
     "output_type": "execute_result"
    }
   ],
   "source": [
    "subscriptions.head()"
   ]
  },
  {
   "cell_type": "code",
   "execution_count": 9,
   "id": "8a712467",
   "metadata": {},
   "outputs": [
    {
     "name": "stdout",
     "output_type": "stream",
     "text": [
      "<class 'pandas.core.frame.DataFrame'>\n",
      "RangeIndex: 2 entries, 0 to 1\n",
      "Data columns (total 4 columns):\n",
      " #   Column             Non-Null Count  Dtype \n",
      "---  ------             --------------  ----- \n",
      " 0   subscription_type  2 non-null      object\n",
      " 1   minute_price       2 non-null      int64 \n",
      " 2   start_ride_price   2 non-null      int64 \n",
      " 3   subscription_fee   2 non-null      int64 \n",
      "dtypes: int64(3), object(1)\n",
      "memory usage: 192.0+ bytes\n"
     ]
    }
   ],
   "source": [
    "subscriptions.info()"
   ]
  },
  {
   "cell_type": "markdown",
   "id": "f2ca2d79",
   "metadata": {},
   "source": [
    "**Датафрейм subscriptions содержит 4 колоноки и 2 строки. Пропущенных значений в датафрейме нет. Столбцов, которые нужно перевести в другой тип объекта нет.**"
   ]
  },
  {
   "cell_type": "markdown",
   "id": "e95ebca7",
   "metadata": {},
   "source": [
    "#### Шаг 2. Предобработка данных"
   ]
  },
  {
   "cell_type": "markdown",
   "id": "ae36dbdd",
   "metadata": {},
   "source": [
    "Привел столбец date к типу даты pandas."
   ]
  },
  {
   "cell_type": "code",
   "execution_count": 10,
   "id": "af6d202c",
   "metadata": {},
   "outputs": [],
   "source": [
    "rides['date'] = pd.to_datetime(rides['date'], format='%Y-%m-%d')"
   ]
  },
  {
   "cell_type": "code",
   "execution_count": 11,
   "id": "0d60b651",
   "metadata": {
    "scrolled": true
   },
   "outputs": [
    {
     "name": "stdout",
     "output_type": "stream",
     "text": [
      "<class 'pandas.core.frame.DataFrame'>\n",
      "RangeIndex: 18068 entries, 0 to 18067\n",
      "Data columns (total 4 columns):\n",
      " #   Column    Non-Null Count  Dtype         \n",
      "---  ------    --------------  -----         \n",
      " 0   user_id   18068 non-null  int64         \n",
      " 1   distance  18068 non-null  float64       \n",
      " 2   duration  18068 non-null  float64       \n",
      " 3   date      18068 non-null  datetime64[ns]\n",
      "dtypes: datetime64[ns](1), float64(2), int64(1)\n",
      "memory usage: 564.8 KB\n"
     ]
    }
   ],
   "source": [
    "rides.info()"
   ]
  },
  {
   "cell_type": "markdown",
   "id": "9c8eb89a",
   "metadata": {},
   "source": [
    "Создал новый столбец с номером месяца на основе столбца date."
   ]
  },
  {
   "cell_type": "code",
   "execution_count": 12,
   "id": "b375c0e4",
   "metadata": {},
   "outputs": [],
   "source": [
    "rides['month'] = rides['date'].dt.month"
   ]
  },
  {
   "cell_type": "code",
   "execution_count": 13,
   "id": "a2bcbf88",
   "metadata": {
    "scrolled": false
   },
   "outputs": [
    {
     "data": {
      "text/html": [
       "<div>\n",
       "<style scoped>\n",
       "    .dataframe tbody tr th:only-of-type {\n",
       "        vertical-align: middle;\n",
       "    }\n",
       "\n",
       "    .dataframe tbody tr th {\n",
       "        vertical-align: top;\n",
       "    }\n",
       "\n",
       "    .dataframe thead th {\n",
       "        text-align: right;\n",
       "    }\n",
       "</style>\n",
       "<table border=\"1\" class=\"dataframe\">\n",
       "  <thead>\n",
       "    <tr style=\"text-align: right;\">\n",
       "      <th></th>\n",
       "      <th>user_id</th>\n",
       "      <th>distance</th>\n",
       "      <th>duration</th>\n",
       "      <th>date</th>\n",
       "      <th>month</th>\n",
       "    </tr>\n",
       "  </thead>\n",
       "  <tbody>\n",
       "    <tr>\n",
       "      <th>0</th>\n",
       "      <td>1</td>\n",
       "      <td>4409.919140</td>\n",
       "      <td>25.599769</td>\n",
       "      <td>2021-01-01</td>\n",
       "      <td>1</td>\n",
       "    </tr>\n",
       "    <tr>\n",
       "      <th>1</th>\n",
       "      <td>1</td>\n",
       "      <td>2617.592153</td>\n",
       "      <td>15.816871</td>\n",
       "      <td>2021-01-18</td>\n",
       "      <td>1</td>\n",
       "    </tr>\n",
       "    <tr>\n",
       "      <th>2</th>\n",
       "      <td>1</td>\n",
       "      <td>754.159807</td>\n",
       "      <td>6.232113</td>\n",
       "      <td>2021-04-20</td>\n",
       "      <td>4</td>\n",
       "    </tr>\n",
       "    <tr>\n",
       "      <th>3</th>\n",
       "      <td>1</td>\n",
       "      <td>2694.783254</td>\n",
       "      <td>18.511000</td>\n",
       "      <td>2021-08-11</td>\n",
       "      <td>8</td>\n",
       "    </tr>\n",
       "    <tr>\n",
       "      <th>4</th>\n",
       "      <td>1</td>\n",
       "      <td>4028.687306</td>\n",
       "      <td>26.265803</td>\n",
       "      <td>2021-08-28</td>\n",
       "      <td>8</td>\n",
       "    </tr>\n",
       "  </tbody>\n",
       "</table>\n",
       "</div>"
      ],
      "text/plain": [
       "   user_id     distance   duration       date  month\n",
       "0        1  4409.919140  25.599769 2021-01-01      1\n",
       "1        1  2617.592153  15.816871 2021-01-18      1\n",
       "2        1   754.159807   6.232113 2021-04-20      4\n",
       "3        1  2694.783254  18.511000 2021-08-11      8\n",
       "4        1  4028.687306  26.265803 2021-08-28      8"
      ]
     },
     "execution_count": 13,
     "metadata": {},
     "output_type": "execute_result"
    }
   ],
   "source": [
    "rides.head()"
   ]
  },
  {
   "cell_type": "markdown",
   "id": "3c53dc05",
   "metadata": {},
   "source": [
    "Проверяю на  наличие пропущенных значений и дубликатов в датафреймах."
   ]
  },
  {
   "cell_type": "code",
   "execution_count": 14,
   "id": "9fb72bf2",
   "metadata": {
    "scrolled": true
   },
   "outputs": [
    {
     "data": {
      "text/plain": [
       "user_id              0\n",
       "name                 0\n",
       "age                  0\n",
       "city                 0\n",
       "subscription_type    0\n",
       "dtype: int64"
      ]
     },
     "execution_count": 14,
     "metadata": {},
     "output_type": "execute_result"
    }
   ],
   "source": [
    "users.isna().sum()"
   ]
  },
  {
   "cell_type": "code",
   "execution_count": 15,
   "id": "5642f6c5",
   "metadata": {
    "scrolled": true
   },
   "outputs": [
    {
     "data": {
      "text/plain": [
       "31"
      ]
     },
     "execution_count": 15,
     "metadata": {},
     "output_type": "execute_result"
    }
   ],
   "source": [
    "users.duplicated().sum()"
   ]
  },
  {
   "cell_type": "markdown",
   "id": "89c312b3",
   "metadata": {},
   "source": [
    "Имеется 31 дубликат. Проверю сколько процентов от датафрейма занимают дубликаты."
   ]
  },
  {
   "cell_type": "code",
   "execution_count": 16,
   "id": "48d7b431",
   "metadata": {},
   "outputs": [
    {
     "data": {
      "text/plain": [
       "1.9808306709265175"
      ]
     },
     "execution_count": 16,
     "metadata": {},
     "output_type": "execute_result"
    }
   ],
   "source": [
    "users.duplicated().mean()*100"
   ]
  },
  {
   "cell_type": "markdown",
   "id": "317dfd68",
   "metadata": {},
   "source": [
    "Удаляю дубликаты."
   ]
  },
  {
   "cell_type": "code",
   "execution_count": 17,
   "id": "dea1b7ae",
   "metadata": {},
   "outputs": [],
   "source": [
    "users = users.drop_duplicates().reset_index(drop=True)"
   ]
  },
  {
   "cell_type": "code",
   "execution_count": 18,
   "id": "96e221b2",
   "metadata": {},
   "outputs": [
    {
     "data": {
      "text/plain": [
       "0"
      ]
     },
     "execution_count": 18,
     "metadata": {},
     "output_type": "execute_result"
    }
   ],
   "source": [
    "users.duplicated().sum()"
   ]
  },
  {
   "cell_type": "code",
   "execution_count": 19,
   "id": "ccb89b19",
   "metadata": {},
   "outputs": [
    {
     "data": {
      "text/plain": [
       "user_id              0\n",
       "name                 0\n",
       "age                  0\n",
       "city                 0\n",
       "subscription_type    0\n",
       "dtype: int64"
      ]
     },
     "execution_count": 19,
     "metadata": {},
     "output_type": "execute_result"
    }
   ],
   "source": [
    "users.isna().sum()"
   ]
  },
  {
   "cell_type": "code",
   "execution_count": 20,
   "id": "915ff38f",
   "metadata": {},
   "outputs": [
    {
     "data": {
      "text/plain": [
       "user_id     0\n",
       "distance    0\n",
       "duration    0\n",
       "date        0\n",
       "month       0\n",
       "dtype: int64"
      ]
     },
     "execution_count": 20,
     "metadata": {},
     "output_type": "execute_result"
    }
   ],
   "source": [
    "rides.isna().sum()"
   ]
  },
  {
   "cell_type": "code",
   "execution_count": 21,
   "id": "8e2e86cd",
   "metadata": {
    "scrolled": true
   },
   "outputs": [
    {
     "data": {
      "text/plain": [
       "0"
      ]
     },
     "execution_count": 21,
     "metadata": {},
     "output_type": "execute_result"
    }
   ],
   "source": [
    "rides.duplicated().sum()"
   ]
  },
  {
   "cell_type": "code",
   "execution_count": 22,
   "id": "6c063ca1",
   "metadata": {},
   "outputs": [
    {
     "data": {
      "text/plain": [
       "0"
      ]
     },
     "execution_count": 22,
     "metadata": {},
     "output_type": "execute_result"
    }
   ],
   "source": [
    "subscriptions.duplicated().sum()"
   ]
  },
  {
   "cell_type": "code",
   "execution_count": 23,
   "id": "3e616405",
   "metadata": {},
   "outputs": [
    {
     "data": {
      "text/plain": [
       "subscription_type    0\n",
       "minute_price         0\n",
       "start_ride_price     0\n",
       "subscription_fee     0\n",
       "dtype: int64"
      ]
     },
     "execution_count": 23,
     "metadata": {},
     "output_type": "execute_result"
    }
   ],
   "source": [
    "subscriptions.isna().sum()"
   ]
  },
  {
   "cell_type": "markdown",
   "id": "fb742cef",
   "metadata": {},
   "source": [
    "Проверил наличие пропусков и дубликатов в датафреймах. \n",
    "Обнаруженные дубликаты в датафрейме users, были удалены."
   ]
  },
  {
   "cell_type": "markdown",
   "id": "212593c7",
   "metadata": {},
   "source": [
    "#### Шаг 3. Исследовательский анализ данных"
   ]
  },
  {
   "cell_type": "code",
   "execution_count": 24,
   "id": "e8e2a910",
   "metadata": {},
   "outputs": [
    {
     "data": {
      "text/plain": [
       "Пятигорск         219\n",
       "Екатеринбург      204\n",
       "Ростов-на-Дону    198\n",
       "Краснодар         193\n",
       "Сочи              189\n",
       "Омск              183\n",
       "Тюмень            180\n",
       "Москва            168\n",
       "Name: city, dtype: int64"
      ]
     },
     "execution_count": 24,
     "metadata": {},
     "output_type": "execute_result"
    }
   ],
   "source": [
    "users['city'].value_counts()"
   ]
  },
  {
   "cell_type": "code",
   "execution_count": 25,
   "id": "e3a4274c",
   "metadata": {
    "scrolled": false
   },
   "outputs": [
    {
     "data": {
      "image/png": "[encoded data removed]",
      "text/plain": [
       "<Figure size 864x360 with 1 Axes>"
      ]
     },
     "metadata": {
      "needs_background": "light"
     },
     "output_type": "display_data"
    }
   ],
   "source": [
    "users['city'].value_counts(ascending=True).plot.bar()\n",
    "plt.xlabel('Город')\n",
    "plt.ylabel('Количество')\n",
    "plt.title('Частота встречаемости городов')\n",
    "plt.show()"
   ]
  },
  {
   "cell_type": "markdown",
   "id": "7ad0d898",
   "metadata": {},
   "source": [
    "Чаще всего встречается город Пятигорск с 219 пользователями. Самый менее встречающийся город Москва с 168 пользователями. Такое соотношение может быть связано с большей конкуренцией в крупных горадах."
   ]
  },
  {
   "cell_type": "code",
   "execution_count": 26,
   "id": "ac127250",
   "metadata": {},
   "outputs": [
    {
     "data": {
      "image/png": "[encoded data removed]",
      "text/plain": [
       "<Figure size 576x576 with 1 Axes>"
      ]
     },
     "metadata": {},
     "output_type": "display_data"
    }
   ],
   "source": [
    "users['subscription_type'].value_counts()\\\n",
    ".plot(kind='pie', autopct='%1.1f%%', figsize = (8, 8), wedgeprops={'edgecolor': 'black', 'linewidth': 2})\n",
    "plt.title('Соотношение пользователей с подпиской и без подписки')\n",
    "plt.show()"
   ]
  },
  {
   "cell_type": "markdown",
   "id": "eafbd670",
   "metadata": {},
   "source": [
    "На круговой диаграмме показано соотношение пользователей с подпиской (ultra) и без подписки (free). Несмотря на то, что пользователи без подписки составляют около 54.4% от общего числа пользователей, а пользователи с подпиской — около 45.6%. Это подтверждает, что хотя количество пользователей без подписки больше, разрыв незначителен, и обе группы представлены почти равномерно."
   ]
  },
  {
   "cell_type": "code",
   "execution_count": 27,
   "id": "003705d6",
   "metadata": {
    "scrolled": true
   },
   "outputs": [
    {
     "data": {
      "image/png": "[encoded data removed]",
      "text/plain": [
       "<Figure size 864x360 with 1 Axes>"
      ]
     },
     "metadata": {
      "needs_background": "light"
     },
     "output_type": "display_data"
    }
   ],
   "source": [
    "users['age'].hist(bins=30, edgecolor='black')\n",
    "plt.title('Распределение возраста пользователей')\n",
    "plt.xlabel('Возраст')\n",
    "plt.ylabel('Количество пользователей')\n",
    "plt.xticks(range(10,46,2))\n",
    "plt.show()"
   ]
  },
  {
   "cell_type": "markdown",
   "id": "b8072d62",
   "metadata": {},
   "source": [
    "На гистограмме видно, что основная масса пользователей в возрасте от 20 до 30 лет."
   ]
  },
  {
   "cell_type": "code",
   "execution_count": 28,
   "id": "c687e255",
   "metadata": {},
   "outputs": [
    {
     "data": {
      "image/png": "[encoded data removed]",
      "text/plain": [
       "<Figure size 864x360 with 1 Axes>"
      ]
     },
     "metadata": {
      "needs_background": "light"
     },
     "output_type": "display_data"
    }
   ],
   "source": [
    "users.boxplot('age')\n",
    "plt.title('Диаграмма размаха возраста пользователей')\n",
    "plt.ylabel('Возраст')\n",
    "plt.yticks(range(15,50,2))\n",
    "plt.show()"
   ]
  },
  {
   "cell_type": "code",
   "execution_count": 29,
   "id": "56bc2e02",
   "metadata": {
    "scrolled": true
   },
   "outputs": [
    {
     "data": {
      "text/plain": [
       "count    1534.000000\n",
       "mean       24.903520\n",
       "std         4.572367\n",
       "min        12.000000\n",
       "25%        22.000000\n",
       "50%        25.000000\n",
       "75%        28.000000\n",
       "max        43.000000\n",
       "Name: age, dtype: float64"
      ]
     },
     "execution_count": 29,
     "metadata": {},
     "output_type": "execute_result"
    }
   ],
   "source": [
    "users['age'].describe()"
   ]
  },
  {
   "cell_type": "code",
   "execution_count": 30,
   "id": "47438d18",
   "metadata": {
    "scrolled": true
   },
   "outputs": [
    {
     "data": {
      "image/png": "[encoded data removed]",
      "text/plain": [
       "<Figure size 864x360 with 1 Axes>"
      ]
     },
     "metadata": {
      "needs_background": "light"
     },
     "output_type": "display_data"
    }
   ],
   "source": [
    "rides['distance'].hist(bins=30, edgecolor='black')\n",
    "plt.title('Расстояние, которое пользватель преодолел за одну поездку')\n",
    "plt.xlabel('Расстояние в метрах')\n",
    "plt.ylabel('Количество поездок')\n",
    "plt.show()"
   ]
  },
  {
   "cell_type": "markdown",
   "id": "38702283",
   "metadata": {},
   "source": [
    "На гистограмме видно, что в основом пользователи проезжают от 2700 до 3300 метров за одну поездку."
   ]
  },
  {
   "cell_type": "code",
   "execution_count": 31,
   "id": "12ff65bf",
   "metadata": {},
   "outputs": [
    {
     "data": {
      "image/png": "[encoded data removed]",
      "text/plain": [
       "<Figure size 864x360 with 1 Axes>"
      ]
     },
     "metadata": {
      "needs_background": "light"
     },
     "output_type": "display_data"
    }
   ],
   "source": [
    "rides.boxplot('distance')\n",
    "plt.title('Расстояние, которое пользватель преодолел за одну поездку')\n",
    "plt.ylabel('Расстояние в метрах')\n",
    "plt.yticks(range(0,7000,500))\n",
    "plt.show()"
   ]
  },
  {
   "cell_type": "code",
   "execution_count": 32,
   "id": "6a13f2ae",
   "metadata": {},
   "outputs": [],
   "source": [
    "#import numpy as np"
   ]
  },
  {
   "cell_type": "code",
   "execution_count": 33,
   "id": "ed596739",
   "metadata": {},
   "outputs": [],
   "source": [
    "#rides['duration'] = np.ceil(rides['duration'])"
   ]
  },
  {
   "cell_type": "code",
   "execution_count": 34,
   "id": "ffd5d616",
   "metadata": {
    "scrolled": true
   },
   "outputs": [
    {
     "data": {
      "image/png": "[encoded data removed]",
      "text/plain": [
       "<Figure size 864x360 with 1 Axes>"
      ]
     },
     "metadata": {
      "needs_background": "light"
     },
     "output_type": "display_data"
    }
   ],
   "source": [
    "rides['duration'].hist(bins = 20, edgecolor='black')\n",
    "plt.title('Продолжительность сессии')\n",
    "plt.xlabel('Время в минутах')\n",
    "plt.ylabel('Количество поездок')\n",
    "plt.xticks(range(0,40,2))\n",
    "plt.show()"
   ]
  },
  {
   "cell_type": "markdown",
   "id": "b54257d6",
   "metadata": {},
   "source": [
    "Наиболее типичное время от 17 до 21 минуты."
   ]
  },
  {
   "cell_type": "code",
   "execution_count": 35,
   "id": "7f858c57",
   "metadata": {},
   "outputs": [
    {
     "data": {
      "image/png": "[encoded data removed]",
      "text/plain": [
       "<Figure size 864x360 with 1 Axes>"
      ]
     },
     "metadata": {
      "needs_background": "light"
     },
     "output_type": "display_data"
    }
   ],
   "source": [
    "rides.boxplot('duration')\n",
    "plt.title('Продолжительность сессии')\n",
    "plt.ylabel('Время в минутах')\n",
    "plt.yticks(range(0,45,5))\n",
    "plt.show()"
   ]
  },
  {
   "cell_type": "markdown",
   "id": "4346bd20",
   "metadata": {},
   "source": [
    "По итогам исследования данных выявлены следующие ключевые аспекты:\n",
    "\n",
    "Частота встречаемости городов: Чаще всего встречается город Пятигорск с 219 пользователями. Самый менее встречающийся город Москва с 168 пользователями. Такое соотношение может быть связано с большей конкуренцией в крупных горадах.\n",
    "\n",
    "Соотношение пользователей с подпиской и без: несмотря на то, что количество пользователей без подписки больше (54%),чем с подпиской (46%) разрыв незначителен, и обе группы представлены почти равномерно.\n",
    "\n",
    "Возрастная структура пользователей: Основная часть пользователей находится в возрасте от 20 до 30 лет.\n",
    "\n",
    "Расстояние, которое пользватель преодолел за одну поездку: в основом пользователи проезжают от 2700 до 3300 метров за одну поездку.\n",
    "\n",
    "Продолжительность поездок: Большинство поездок длится от 17 до 21 минуты, с пиком около 19 минут. \n",
    "\n"
   ]
  },
  {
   "cell_type": "markdown",
   "id": "4ef51331",
   "metadata": {},
   "source": [
    "#### Шаг 4. Объединение данных"
   ]
  },
  {
   "cell_type": "markdown",
   "id": "e2be1ace",
   "metadata": {},
   "source": [
    "**Объединяю данные о пользователях, поездках и подписках в один датафрейм.**"
   ]
  },
  {
   "cell_type": "code",
   "execution_count": 36,
   "id": "6bf288b5",
   "metadata": {},
   "outputs": [
    {
     "data": {
      "text/html": [
       "<div>\n",
       "<style scoped>\n",
       "    .dataframe tbody tr th:only-of-type {\n",
       "        vertical-align: middle;\n",
       "    }\n",
       "\n",
       "    .dataframe tbody tr th {\n",
       "        vertical-align: top;\n",
       "    }\n",
       "\n",
       "    .dataframe thead th {\n",
       "        text-align: right;\n",
       "    }\n",
       "</style>\n",
       "<table border=\"1\" class=\"dataframe\">\n",
       "  <thead>\n",
       "    <tr style=\"text-align: right;\">\n",
       "      <th></th>\n",
       "      <th>user_id</th>\n",
       "      <th>name</th>\n",
       "      <th>age</th>\n",
       "      <th>city</th>\n",
       "      <th>subscription_type</th>\n",
       "    </tr>\n",
       "  </thead>\n",
       "  <tbody>\n",
       "    <tr>\n",
       "      <th>0</th>\n",
       "      <td>1</td>\n",
       "      <td>Кира</td>\n",
       "      <td>22</td>\n",
       "      <td>Тюмень</td>\n",
       "      <td>ultra</td>\n",
       "    </tr>\n",
       "    <tr>\n",
       "      <th>1</th>\n",
       "      <td>2</td>\n",
       "      <td>Станислав</td>\n",
       "      <td>31</td>\n",
       "      <td>Омск</td>\n",
       "      <td>ultra</td>\n",
       "    </tr>\n",
       "    <tr>\n",
       "      <th>2</th>\n",
       "      <td>3</td>\n",
       "      <td>Алексей</td>\n",
       "      <td>20</td>\n",
       "      <td>Москва</td>\n",
       "      <td>ultra</td>\n",
       "    </tr>\n",
       "    <tr>\n",
       "      <th>3</th>\n",
       "      <td>4</td>\n",
       "      <td>Константин</td>\n",
       "      <td>26</td>\n",
       "      <td>Ростов-на-Дону</td>\n",
       "      <td>ultra</td>\n",
       "    </tr>\n",
       "    <tr>\n",
       "      <th>4</th>\n",
       "      <td>5</td>\n",
       "      <td>Адель</td>\n",
       "      <td>28</td>\n",
       "      <td>Омск</td>\n",
       "      <td>ultra</td>\n",
       "    </tr>\n",
       "  </tbody>\n",
       "</table>\n",
       "</div>"
      ],
      "text/plain": [
       "   user_id        name  age            city subscription_type\n",
       "0        1        Кира   22          Тюмень             ultra\n",
       "1        2   Станислав   31            Омск             ultra\n",
       "2        3     Алексей   20          Москва             ultra\n",
       "3        4  Константин   26  Ростов-на-Дону             ultra\n",
       "4        5       Адель   28            Омск             ultra"
      ]
     },
     "execution_count": 36,
     "metadata": {},
     "output_type": "execute_result"
    }
   ],
   "source": [
    "users.head()"
   ]
  },
  {
   "cell_type": "code",
   "execution_count": 37,
   "id": "98c61c31",
   "metadata": {},
   "outputs": [
    {
     "data": {
      "text/html": [
       "<div>\n",
       "<style scoped>\n",
       "    .dataframe tbody tr th:only-of-type {\n",
       "        vertical-align: middle;\n",
       "    }\n",
       "\n",
       "    .dataframe tbody tr th {\n",
       "        vertical-align: top;\n",
       "    }\n",
       "\n",
       "    .dataframe thead th {\n",
       "        text-align: right;\n",
       "    }\n",
       "</style>\n",
       "<table border=\"1\" class=\"dataframe\">\n",
       "  <thead>\n",
       "    <tr style=\"text-align: right;\">\n",
       "      <th></th>\n",
       "      <th>user_id</th>\n",
       "      <th>distance</th>\n",
       "      <th>duration</th>\n",
       "      <th>date</th>\n",
       "      <th>month</th>\n",
       "    </tr>\n",
       "  </thead>\n",
       "  <tbody>\n",
       "    <tr>\n",
       "      <th>0</th>\n",
       "      <td>1</td>\n",
       "      <td>4409.919140</td>\n",
       "      <td>25.599769</td>\n",
       "      <td>2021-01-01</td>\n",
       "      <td>1</td>\n",
       "    </tr>\n",
       "    <tr>\n",
       "      <th>1</th>\n",
       "      <td>1</td>\n",
       "      <td>2617.592153</td>\n",
       "      <td>15.816871</td>\n",
       "      <td>2021-01-18</td>\n",
       "      <td>1</td>\n",
       "    </tr>\n",
       "    <tr>\n",
       "      <th>2</th>\n",
       "      <td>1</td>\n",
       "      <td>754.159807</td>\n",
       "      <td>6.232113</td>\n",
       "      <td>2021-04-20</td>\n",
       "      <td>4</td>\n",
       "    </tr>\n",
       "    <tr>\n",
       "      <th>3</th>\n",
       "      <td>1</td>\n",
       "      <td>2694.783254</td>\n",
       "      <td>18.511000</td>\n",
       "      <td>2021-08-11</td>\n",
       "      <td>8</td>\n",
       "    </tr>\n",
       "    <tr>\n",
       "      <th>4</th>\n",
       "      <td>1</td>\n",
       "      <td>4028.687306</td>\n",
       "      <td>26.265803</td>\n",
       "      <td>2021-08-28</td>\n",
       "      <td>8</td>\n",
       "    </tr>\n",
       "  </tbody>\n",
       "</table>\n",
       "</div>"
      ],
      "text/plain": [
       "   user_id     distance   duration       date  month\n",
       "0        1  4409.919140  25.599769 2021-01-01      1\n",
       "1        1  2617.592153  15.816871 2021-01-18      1\n",
       "2        1   754.159807   6.232113 2021-04-20      4\n",
       "3        1  2694.783254  18.511000 2021-08-11      8\n",
       "4        1  4028.687306  26.265803 2021-08-28      8"
      ]
     },
     "execution_count": 37,
     "metadata": {},
     "output_type": "execute_result"
    }
   ],
   "source": [
    "rides.head()"
   ]
  },
  {
   "cell_type": "code",
   "execution_count": 38,
   "id": "8eda994a",
   "metadata": {},
   "outputs": [
    {
     "data": {
      "text/plain": [
       "(18068, 5)"
      ]
     },
     "execution_count": 38,
     "metadata": {},
     "output_type": "execute_result"
    }
   ],
   "source": [
    "rides.shape"
   ]
  },
  {
   "cell_type": "code",
   "execution_count": 39,
   "id": "6bcf370b",
   "metadata": {
    "scrolled": true
   },
   "outputs": [
    {
     "data": {
      "text/html": [
       "<div>\n",
       "<style scoped>\n",
       "    .dataframe tbody tr th:only-of-type {\n",
       "        vertical-align: middle;\n",
       "    }\n",
       "\n",
       "    .dataframe tbody tr th {\n",
       "        vertical-align: top;\n",
       "    }\n",
       "\n",
       "    .dataframe thead th {\n",
       "        text-align: right;\n",
       "    }\n",
       "</style>\n",
       "<table border=\"1\" class=\"dataframe\">\n",
       "  <thead>\n",
       "    <tr style=\"text-align: right;\">\n",
       "      <th></th>\n",
       "      <th>subscription_type</th>\n",
       "      <th>minute_price</th>\n",
       "      <th>start_ride_price</th>\n",
       "      <th>subscription_fee</th>\n",
       "    </tr>\n",
       "  </thead>\n",
       "  <tbody>\n",
       "    <tr>\n",
       "      <th>0</th>\n",
       "      <td>free</td>\n",
       "      <td>8</td>\n",
       "      <td>50</td>\n",
       "      <td>0</td>\n",
       "    </tr>\n",
       "    <tr>\n",
       "      <th>1</th>\n",
       "      <td>ultra</td>\n",
       "      <td>6</td>\n",
       "      <td>0</td>\n",
       "      <td>199</td>\n",
       "    </tr>\n",
       "  </tbody>\n",
       "</table>\n",
       "</div>"
      ],
      "text/plain": [
       "  subscription_type  minute_price  start_ride_price  subscription_fee\n",
       "0              free             8                50                 0\n",
       "1             ultra             6                 0               199"
      ]
     },
     "execution_count": 39,
     "metadata": {},
     "output_type": "execute_result"
    }
   ],
   "source": [
    "subscriptions.head()"
   ]
  },
  {
   "cell_type": "code",
   "execution_count": 40,
   "id": "b15d7e3f",
   "metadata": {
    "scrolled": true
   },
   "outputs": [
    {
     "data": {
      "text/html": [
       "<div>\n",
       "<style scoped>\n",
       "    .dataframe tbody tr th:only-of-type {\n",
       "        vertical-align: middle;\n",
       "    }\n",
       "\n",
       "    .dataframe tbody tr th {\n",
       "        vertical-align: top;\n",
       "    }\n",
       "\n",
       "    .dataframe thead th {\n",
       "        text-align: right;\n",
       "    }\n",
       "</style>\n",
       "<table border=\"1\" class=\"dataframe\">\n",
       "  <thead>\n",
       "    <tr style=\"text-align: right;\">\n",
       "      <th></th>\n",
       "      <th>user_id</th>\n",
       "      <th>name</th>\n",
       "      <th>age</th>\n",
       "      <th>city</th>\n",
       "      <th>subscription_type</th>\n",
       "      <th>distance</th>\n",
       "      <th>duration</th>\n",
       "      <th>date</th>\n",
       "      <th>month</th>\n",
       "    </tr>\n",
       "  </thead>\n",
       "  <tbody>\n",
       "    <tr>\n",
       "      <th>0</th>\n",
       "      <td>1</td>\n",
       "      <td>Кира</td>\n",
       "      <td>22</td>\n",
       "      <td>Тюмень</td>\n",
       "      <td>ultra</td>\n",
       "      <td>4409.919140</td>\n",
       "      <td>25.599769</td>\n",
       "      <td>2021-01-01</td>\n",
       "      <td>1</td>\n",
       "    </tr>\n",
       "    <tr>\n",
       "      <th>1</th>\n",
       "      <td>1</td>\n",
       "      <td>Кира</td>\n",
       "      <td>22</td>\n",
       "      <td>Тюмень</td>\n",
       "      <td>ultra</td>\n",
       "      <td>2617.592153</td>\n",
       "      <td>15.816871</td>\n",
       "      <td>2021-01-18</td>\n",
       "      <td>1</td>\n",
       "    </tr>\n",
       "    <tr>\n",
       "      <th>2</th>\n",
       "      <td>1</td>\n",
       "      <td>Кира</td>\n",
       "      <td>22</td>\n",
       "      <td>Тюмень</td>\n",
       "      <td>ultra</td>\n",
       "      <td>754.159807</td>\n",
       "      <td>6.232113</td>\n",
       "      <td>2021-04-20</td>\n",
       "      <td>4</td>\n",
       "    </tr>\n",
       "    <tr>\n",
       "      <th>3</th>\n",
       "      <td>1</td>\n",
       "      <td>Кира</td>\n",
       "      <td>22</td>\n",
       "      <td>Тюмень</td>\n",
       "      <td>ultra</td>\n",
       "      <td>2694.783254</td>\n",
       "      <td>18.511000</td>\n",
       "      <td>2021-08-11</td>\n",
       "      <td>8</td>\n",
       "    </tr>\n",
       "    <tr>\n",
       "      <th>4</th>\n",
       "      <td>1</td>\n",
       "      <td>Кира</td>\n",
       "      <td>22</td>\n",
       "      <td>Тюмень</td>\n",
       "      <td>ultra</td>\n",
       "      <td>4028.687306</td>\n",
       "      <td>26.265803</td>\n",
       "      <td>2021-08-28</td>\n",
       "      <td>8</td>\n",
       "    </tr>\n",
       "  </tbody>\n",
       "</table>\n",
       "</div>"
      ],
      "text/plain": [
       "   user_id  name  age    city subscription_type     distance   duration  \\\n",
       "0        1  Кира   22  Тюмень             ultra  4409.919140  25.599769   \n",
       "1        1  Кира   22  Тюмень             ultra  2617.592153  15.816871   \n",
       "2        1  Кира   22  Тюмень             ultra   754.159807   6.232113   \n",
       "3        1  Кира   22  Тюмень             ultra  2694.783254  18.511000   \n",
       "4        1  Кира   22  Тюмень             ultra  4028.687306  26.265803   \n",
       "\n",
       "        date  month  \n",
       "0 2021-01-01      1  \n",
       "1 2021-01-18      1  \n",
       "2 2021-04-20      4  \n",
       "3 2021-08-11      8  \n",
       "4 2021-08-28      8  "
      ]
     },
     "execution_count": 40,
     "metadata": {},
     "output_type": "execute_result"
    }
   ],
   "source": [
    "merge_data = pd.merge(users, rides, on='user_id')\n",
    "merge_data.head()"
   ]
  },
  {
   "cell_type": "code",
   "execution_count": 41,
   "id": "5683ffd5",
   "metadata": {
    "scrolled": true
   },
   "outputs": [
    {
     "data": {
      "text/html": [
       "<div>\n",
       "<style scoped>\n",
       "    .dataframe tbody tr th:only-of-type {\n",
       "        vertical-align: middle;\n",
       "    }\n",
       "\n",
       "    .dataframe tbody tr th {\n",
       "        vertical-align: top;\n",
       "    }\n",
       "\n",
       "    .dataframe thead th {\n",
       "        text-align: right;\n",
       "    }\n",
       "</style>\n",
       "<table border=\"1\" class=\"dataframe\">\n",
       "  <thead>\n",
       "    <tr style=\"text-align: right;\">\n",
       "      <th></th>\n",
       "      <th>user_id</th>\n",
       "      <th>name</th>\n",
       "      <th>age</th>\n",
       "      <th>city</th>\n",
       "      <th>subscription_type</th>\n",
       "      <th>distance</th>\n",
       "      <th>duration</th>\n",
       "      <th>date</th>\n",
       "      <th>month</th>\n",
       "      <th>minute_price</th>\n",
       "      <th>start_ride_price</th>\n",
       "      <th>subscription_fee</th>\n",
       "    </tr>\n",
       "  </thead>\n",
       "  <tbody>\n",
       "    <tr>\n",
       "      <th>0</th>\n",
       "      <td>1</td>\n",
       "      <td>Кира</td>\n",
       "      <td>22</td>\n",
       "      <td>Тюмень</td>\n",
       "      <td>ultra</td>\n",
       "      <td>4409.919140</td>\n",
       "      <td>25.599769</td>\n",
       "      <td>2021-01-01</td>\n",
       "      <td>1</td>\n",
       "      <td>6</td>\n",
       "      <td>0</td>\n",
       "      <td>199</td>\n",
       "    </tr>\n",
       "    <tr>\n",
       "      <th>1</th>\n",
       "      <td>1</td>\n",
       "      <td>Кира</td>\n",
       "      <td>22</td>\n",
       "      <td>Тюмень</td>\n",
       "      <td>ultra</td>\n",
       "      <td>2617.592153</td>\n",
       "      <td>15.816871</td>\n",
       "      <td>2021-01-18</td>\n",
       "      <td>1</td>\n",
       "      <td>6</td>\n",
       "      <td>0</td>\n",
       "      <td>199</td>\n",
       "    </tr>\n",
       "    <tr>\n",
       "      <th>2</th>\n",
       "      <td>1</td>\n",
       "      <td>Кира</td>\n",
       "      <td>22</td>\n",
       "      <td>Тюмень</td>\n",
       "      <td>ultra</td>\n",
       "      <td>754.159807</td>\n",
       "      <td>6.232113</td>\n",
       "      <td>2021-04-20</td>\n",
       "      <td>4</td>\n",
       "      <td>6</td>\n",
       "      <td>0</td>\n",
       "      <td>199</td>\n",
       "    </tr>\n",
       "    <tr>\n",
       "      <th>3</th>\n",
       "      <td>1</td>\n",
       "      <td>Кира</td>\n",
       "      <td>22</td>\n",
       "      <td>Тюмень</td>\n",
       "      <td>ultra</td>\n",
       "      <td>2694.783254</td>\n",
       "      <td>18.511000</td>\n",
       "      <td>2021-08-11</td>\n",
       "      <td>8</td>\n",
       "      <td>6</td>\n",
       "      <td>0</td>\n",
       "      <td>199</td>\n",
       "    </tr>\n",
       "    <tr>\n",
       "      <th>4</th>\n",
       "      <td>1</td>\n",
       "      <td>Кира</td>\n",
       "      <td>22</td>\n",
       "      <td>Тюмень</td>\n",
       "      <td>ultra</td>\n",
       "      <td>4028.687306</td>\n",
       "      <td>26.265803</td>\n",
       "      <td>2021-08-28</td>\n",
       "      <td>8</td>\n",
       "      <td>6</td>\n",
       "      <td>0</td>\n",
       "      <td>199</td>\n",
       "    </tr>\n",
       "  </tbody>\n",
       "</table>\n",
       "</div>"
      ],
      "text/plain": [
       "   user_id  name  age    city subscription_type     distance   duration  \\\n",
       "0        1  Кира   22  Тюмень             ultra  4409.919140  25.599769   \n",
       "1        1  Кира   22  Тюмень             ultra  2617.592153  15.816871   \n",
       "2        1  Кира   22  Тюмень             ultra   754.159807   6.232113   \n",
       "3        1  Кира   22  Тюмень             ultra  2694.783254  18.511000   \n",
       "4        1  Кира   22  Тюмень             ultra  4028.687306  26.265803   \n",
       "\n",
       "        date  month  minute_price  start_ride_price  subscription_fee  \n",
       "0 2021-01-01      1             6                 0               199  \n",
       "1 2021-01-18      1             6                 0               199  \n",
       "2 2021-04-20      4             6                 0               199  \n",
       "3 2021-08-11      8             6                 0               199  \n",
       "4 2021-08-28      8             6                 0               199  "
      ]
     },
     "execution_count": 41,
     "metadata": {},
     "output_type": "execute_result"
    }
   ],
   "source": [
    "merge_data = pd.merge(merge_data, subscriptions, on='subscription_type')\n",
    "merge_data.head()"
   ]
  },
  {
   "cell_type": "code",
   "execution_count": 42,
   "id": "15abe98c",
   "metadata": {},
   "outputs": [
    {
     "data": {
      "text/plain": [
       "(18068, 12)"
      ]
     },
     "execution_count": 42,
     "metadata": {},
     "output_type": "execute_result"
    }
   ],
   "source": [
    "merge_data.shape"
   ]
  },
  {
   "cell_type": "markdown",
   "id": "1d9f3f9b",
   "metadata": {},
   "source": [
    "Создал датафрейм с данными о пользователях с подпиской."
   ]
  },
  {
   "cell_type": "code",
   "execution_count": 43,
   "id": "bc658483",
   "metadata": {
    "scrolled": false
   },
   "outputs": [
    {
     "data": {
      "text/html": [
       "<div>\n",
       "<style scoped>\n",
       "    .dataframe tbody tr th:only-of-type {\n",
       "        vertical-align: middle;\n",
       "    }\n",
       "\n",
       "    .dataframe tbody tr th {\n",
       "        vertical-align: top;\n",
       "    }\n",
       "\n",
       "    .dataframe thead th {\n",
       "        text-align: right;\n",
       "    }\n",
       "</style>\n",
       "<table border=\"1\" class=\"dataframe\">\n",
       "  <thead>\n",
       "    <tr style=\"text-align: right;\">\n",
       "      <th></th>\n",
       "      <th>user_id</th>\n",
       "      <th>name</th>\n",
       "      <th>age</th>\n",
       "      <th>city</th>\n",
       "      <th>subscription_type</th>\n",
       "      <th>distance</th>\n",
       "      <th>duration</th>\n",
       "      <th>date</th>\n",
       "      <th>month</th>\n",
       "      <th>minute_price</th>\n",
       "      <th>start_ride_price</th>\n",
       "      <th>subscription_fee</th>\n",
       "    </tr>\n",
       "  </thead>\n",
       "  <tbody>\n",
       "    <tr>\n",
       "      <th>0</th>\n",
       "      <td>1</td>\n",
       "      <td>Кира</td>\n",
       "      <td>22</td>\n",
       "      <td>Тюмень</td>\n",
       "      <td>ultra</td>\n",
       "      <td>4409.919140</td>\n",
       "      <td>25.599769</td>\n",
       "      <td>2021-01-01</td>\n",
       "      <td>1</td>\n",
       "      <td>6</td>\n",
       "      <td>0</td>\n",
       "      <td>199</td>\n",
       "    </tr>\n",
       "    <tr>\n",
       "      <th>1</th>\n",
       "      <td>1</td>\n",
       "      <td>Кира</td>\n",
       "      <td>22</td>\n",
       "      <td>Тюмень</td>\n",
       "      <td>ultra</td>\n",
       "      <td>2617.592153</td>\n",
       "      <td>15.816871</td>\n",
       "      <td>2021-01-18</td>\n",
       "      <td>1</td>\n",
       "      <td>6</td>\n",
       "      <td>0</td>\n",
       "      <td>199</td>\n",
       "    </tr>\n",
       "    <tr>\n",
       "      <th>2</th>\n",
       "      <td>1</td>\n",
       "      <td>Кира</td>\n",
       "      <td>22</td>\n",
       "      <td>Тюмень</td>\n",
       "      <td>ultra</td>\n",
       "      <td>754.159807</td>\n",
       "      <td>6.232113</td>\n",
       "      <td>2021-04-20</td>\n",
       "      <td>4</td>\n",
       "      <td>6</td>\n",
       "      <td>0</td>\n",
       "      <td>199</td>\n",
       "    </tr>\n",
       "    <tr>\n",
       "      <th>3</th>\n",
       "      <td>1</td>\n",
       "      <td>Кира</td>\n",
       "      <td>22</td>\n",
       "      <td>Тюмень</td>\n",
       "      <td>ultra</td>\n",
       "      <td>2694.783254</td>\n",
       "      <td>18.511000</td>\n",
       "      <td>2021-08-11</td>\n",
       "      <td>8</td>\n",
       "      <td>6</td>\n",
       "      <td>0</td>\n",
       "      <td>199</td>\n",
       "    </tr>\n",
       "    <tr>\n",
       "      <th>4</th>\n",
       "      <td>1</td>\n",
       "      <td>Кира</td>\n",
       "      <td>22</td>\n",
       "      <td>Тюмень</td>\n",
       "      <td>ultra</td>\n",
       "      <td>4028.687306</td>\n",
       "      <td>26.265803</td>\n",
       "      <td>2021-08-28</td>\n",
       "      <td>8</td>\n",
       "      <td>6</td>\n",
       "      <td>0</td>\n",
       "      <td>199</td>\n",
       "    </tr>\n",
       "  </tbody>\n",
       "</table>\n",
       "</div>"
      ],
      "text/plain": [
       "   user_id  name  age    city subscription_type     distance   duration  \\\n",
       "0        1  Кира   22  Тюмень             ultra  4409.919140  25.599769   \n",
       "1        1  Кира   22  Тюмень             ultra  2617.592153  15.816871   \n",
       "2        1  Кира   22  Тюмень             ultra   754.159807   6.232113   \n",
       "3        1  Кира   22  Тюмень             ultra  2694.783254  18.511000   \n",
       "4        1  Кира   22  Тюмень             ultra  4028.687306  26.265803   \n",
       "\n",
       "        date  month  minute_price  start_ride_price  subscription_fee  \n",
       "0 2021-01-01      1             6                 0               199  \n",
       "1 2021-01-18      1             6                 0               199  \n",
       "2 2021-04-20      4             6                 0               199  \n",
       "3 2021-08-11      8             6                 0               199  \n",
       "4 2021-08-28      8             6                 0               199  "
      ]
     },
     "execution_count": 43,
     "metadata": {},
     "output_type": "execute_result"
    }
   ],
   "source": [
    "subscription_ultra = merge_data[merge_data['subscription_type'] == 'ultra']\n",
    "subscription_ultra.head()"
   ]
  },
  {
   "cell_type": "markdown",
   "id": "9b9d96f0",
   "metadata": {},
   "source": [
    "Создал датафрейм с данными о пользователях без подписки."
   ]
  },
  {
   "cell_type": "code",
   "execution_count": 44,
   "id": "ab627fb7",
   "metadata": {
    "scrolled": true
   },
   "outputs": [
    {
     "data": {
      "text/html": [
       "<div>\n",
       "<style scoped>\n",
       "    .dataframe tbody tr th:only-of-type {\n",
       "        vertical-align: middle;\n",
       "    }\n",
       "\n",
       "    .dataframe tbody tr th {\n",
       "        vertical-align: top;\n",
       "    }\n",
       "\n",
       "    .dataframe thead th {\n",
       "        text-align: right;\n",
       "    }\n",
       "</style>\n",
       "<table border=\"1\" class=\"dataframe\">\n",
       "  <thead>\n",
       "    <tr style=\"text-align: right;\">\n",
       "      <th></th>\n",
       "      <th>user_id</th>\n",
       "      <th>name</th>\n",
       "      <th>age</th>\n",
       "      <th>city</th>\n",
       "      <th>subscription_type</th>\n",
       "      <th>distance</th>\n",
       "      <th>duration</th>\n",
       "      <th>date</th>\n",
       "      <th>month</th>\n",
       "      <th>minute_price</th>\n",
       "      <th>start_ride_price</th>\n",
       "      <th>subscription_fee</th>\n",
       "    </tr>\n",
       "  </thead>\n",
       "  <tbody>\n",
       "    <tr>\n",
       "      <th>6500</th>\n",
       "      <td>700</td>\n",
       "      <td>Айдар</td>\n",
       "      <td>22</td>\n",
       "      <td>Омск</td>\n",
       "      <td>free</td>\n",
       "      <td>2515.690719</td>\n",
       "      <td>14.944286</td>\n",
       "      <td>2021-01-02</td>\n",
       "      <td>1</td>\n",
       "      <td>8</td>\n",
       "      <td>50</td>\n",
       "      <td>0</td>\n",
       "    </tr>\n",
       "    <tr>\n",
       "      <th>6501</th>\n",
       "      <td>700</td>\n",
       "      <td>Айдар</td>\n",
       "      <td>22</td>\n",
       "      <td>Омск</td>\n",
       "      <td>free</td>\n",
       "      <td>846.932642</td>\n",
       "      <td>16.234663</td>\n",
       "      <td>2021-02-01</td>\n",
       "      <td>2</td>\n",
       "      <td>8</td>\n",
       "      <td>50</td>\n",
       "      <td>0</td>\n",
       "    </tr>\n",
       "    <tr>\n",
       "      <th>6502</th>\n",
       "      <td>700</td>\n",
       "      <td>Айдар</td>\n",
       "      <td>22</td>\n",
       "      <td>Омск</td>\n",
       "      <td>free</td>\n",
       "      <td>4004.434142</td>\n",
       "      <td>20.016628</td>\n",
       "      <td>2021-02-04</td>\n",
       "      <td>2</td>\n",
       "      <td>8</td>\n",
       "      <td>50</td>\n",
       "      <td>0</td>\n",
       "    </tr>\n",
       "    <tr>\n",
       "      <th>6503</th>\n",
       "      <td>700</td>\n",
       "      <td>Айдар</td>\n",
       "      <td>22</td>\n",
       "      <td>Омск</td>\n",
       "      <td>free</td>\n",
       "      <td>1205.911290</td>\n",
       "      <td>9.782872</td>\n",
       "      <td>2021-02-10</td>\n",
       "      <td>2</td>\n",
       "      <td>8</td>\n",
       "      <td>50</td>\n",
       "      <td>0</td>\n",
       "    </tr>\n",
       "    <tr>\n",
       "      <th>6504</th>\n",
       "      <td>700</td>\n",
       "      <td>Айдар</td>\n",
       "      <td>22</td>\n",
       "      <td>Омск</td>\n",
       "      <td>free</td>\n",
       "      <td>3047.379435</td>\n",
       "      <td>17.427673</td>\n",
       "      <td>2021-02-14</td>\n",
       "      <td>2</td>\n",
       "      <td>8</td>\n",
       "      <td>50</td>\n",
       "      <td>0</td>\n",
       "    </tr>\n",
       "  </tbody>\n",
       "</table>\n",
       "</div>"
      ],
      "text/plain": [
       "      user_id   name  age  city subscription_type     distance   duration  \\\n",
       "6500      700  Айдар   22  Омск              free  2515.690719  14.944286   \n",
       "6501      700  Айдар   22  Омск              free   846.932642  16.234663   \n",
       "6502      700  Айдар   22  Омск              free  4004.434142  20.016628   \n",
       "6503      700  Айдар   22  Омск              free  1205.911290   9.782872   \n",
       "6504      700  Айдар   22  Омск              free  3047.379435  17.427673   \n",
       "\n",
       "           date  month  minute_price  start_ride_price  subscription_fee  \n",
       "6500 2021-01-02      1             8                50                 0  \n",
       "6501 2021-02-01      2             8                50                 0  \n",
       "6502 2021-02-04      2             8                50                 0  \n",
       "6503 2021-02-10      2             8                50                 0  \n",
       "6504 2021-02-14      2             8                50                 0  "
      ]
     },
     "execution_count": 44,
     "metadata": {},
     "output_type": "execute_result"
    }
   ],
   "source": [
    "subscription_free = merge_data[merge_data['subscription_type'] == 'free']\n",
    "subscription_free.head()"
   ]
  },
  {
   "cell_type": "code",
   "execution_count": 45,
   "id": "8bca21e1",
   "metadata": {
    "scrolled": true
   },
   "outputs": [
    {
     "data": {
      "image/png": "[encoded data removed]",
      "text/plain": [
       "<Figure size 864x360 with 1 Axes>"
      ]
     },
     "metadata": {
      "needs_background": "light"
     },
     "output_type": "display_data"
    }
   ],
   "source": [
    "subscription_ultra['distance'].hist(bins=30, label = 'ultra', alpha=0.5, color='blue')\n",
    "subscription_free['distance'].hist(bins=30, label = 'free', alpha=0.5, color='green')\n",
    "plt.title('Расстояние, которое пользватель преодолел за одну поездку')\n",
    "plt.xlabel('Расстояние в метрах')\n",
    "plt.ylabel('Количество поездок')\n",
    "plt.legend()\n",
    "plt.show()"
   ]
  },
  {
   "cell_type": "markdown",
   "id": "a6d845fe",
   "metadata": {},
   "source": [
    "Сходства:\n",
    "\n",
    "Большинство поездок для обоих тарифов укладывается в диапазон от 2000 до 4000 метров.\n",
    "\n",
    "Различия:\n",
    "\n",
    "В тарифе \"free\" больше коротких поездок (до 2000 метров), чем в тарифе \"ultra\".\n",
    "\n",
    "Пользователи тарифа \"ultra\" совершают немного больше поездок на большие расстояния (свыше 5000 метров), чем пользователи тарифа \"free\".\n"
   ]
  },
  {
   "cell_type": "code",
   "execution_count": 46,
   "id": "3ccf5405",
   "metadata": {
    "scrolled": true
   },
   "outputs": [
    {
     "data": {
      "image/png": "[encoded data removed]",
      "text/plain": [
       "<Figure size 864x360 with 1 Axes>"
      ]
     },
     "metadata": {
      "needs_background": "light"
     },
     "output_type": "display_data"
    }
   ],
   "source": [
    "subscription_ultra['duration'].hist(bins=30, label = 'ultra', alpha=0.5, color='blue')\n",
    "subscription_free['duration'].hist(bins=30, label = 'free', alpha=0.5, color='green')\n",
    "plt.title('Продолжительность сессии')\n",
    "plt.xlabel('Время в минутах')\n",
    "plt.ylabel('Количество поездок')\n",
    "plt.legend()\n",
    "plt.show()"
   ]
  },
  {
   "cell_type": "markdown",
   "id": "a07e2f81",
   "metadata": {},
   "source": [
    "Сходства:\n",
    "\n",
    "Пик продолжительности поездок для обоих тарифов приходится на интервал 15-20 минут.\n",
    "\n",
    "Большинство поездок для обоих тарифов укладывается в диапазон от 10 до 25 минут.\n",
    "\n",
    "Различия:\n",
    "\n",
    "Тариф \"free\" имеет более выраженную плотность в коротких поездках (до 10 минут), чем тариф \"ultra\".\n",
    "\n",
    "В тарифе \"ultra\" наблюдаются единичные поездки, превышающие 35 минут, что практически отсутствует в тарифе \"free\".\n"
   ]
  },
  {
   "cell_type": "markdown",
   "id": "5c530364",
   "metadata": {},
   "source": [
    "Оба тарифа показывают схожее распределение как по продолжительности сессий, так и по пройденному расстоянию за одну поездку.\n",
    "\n",
    "Основная масса поездок имеет продолжительность около 15-20 минут и расстояние около 3000 метров.\n",
    "\n",
    "Тариф \"ultra\" имеет небольшое количество более продолжительных поездок (как по времени, так и по расстоянию) по сравнению с тарифом \"free\".\n",
    "\n",
    "В среднем, для тарифа \"free\" количество коротких поездок (как по времени, так и по расстоянию) несколько выше, чем для тарифа \"ultra\".\n",
    "\n"
   ]
  },
  {
   "cell_type": "markdown",
   "id": "ad219ad0",
   "metadata": {},
   "source": [
    "#### Шаг 5. Подсчёт выручки"
   ]
  },
  {
   "cell_type": "markdown",
   "id": "30ae3bc4",
   "metadata": {},
   "source": [
    "Создал датафрейм на основе merge_data. Нашел суммарное расстояние, количество поездок и суммарное время для каждого пользователя за каждый месяц."
   ]
  },
  {
   "cell_type": "code",
   "execution_count": 47,
   "id": "2eba50ef",
   "metadata": {},
   "outputs": [
    {
     "data": {
      "text/html": [
       "<div>\n",
       "<style scoped>\n",
       "    .dataframe tbody tr th:only-of-type {\n",
       "        vertical-align: middle;\n",
       "    }\n",
       "\n",
       "    .dataframe tbody tr th {\n",
       "        vertical-align: top;\n",
       "    }\n",
       "\n",
       "    .dataframe thead th {\n",
       "        text-align: right;\n",
       "    }\n",
       "</style>\n",
       "<table border=\"1\" class=\"dataframe\">\n",
       "  <thead>\n",
       "    <tr style=\"text-align: right;\">\n",
       "      <th></th>\n",
       "      <th>user_id</th>\n",
       "      <th>name</th>\n",
       "      <th>age</th>\n",
       "      <th>city</th>\n",
       "      <th>subscription_type</th>\n",
       "      <th>distance</th>\n",
       "      <th>duration</th>\n",
       "      <th>date</th>\n",
       "      <th>month</th>\n",
       "      <th>minute_price</th>\n",
       "      <th>start_ride_price</th>\n",
       "      <th>subscription_fee</th>\n",
       "    </tr>\n",
       "  </thead>\n",
       "  <tbody>\n",
       "    <tr>\n",
       "      <th>0</th>\n",
       "      <td>1</td>\n",
       "      <td>Кира</td>\n",
       "      <td>22</td>\n",
       "      <td>Тюмень</td>\n",
       "      <td>ultra</td>\n",
       "      <td>4409.919140</td>\n",
       "      <td>26.0</td>\n",
       "      <td>2021-01-01</td>\n",
       "      <td>1</td>\n",
       "      <td>6</td>\n",
       "      <td>0</td>\n",
       "      <td>199</td>\n",
       "    </tr>\n",
       "    <tr>\n",
       "      <th>1</th>\n",
       "      <td>1</td>\n",
       "      <td>Кира</td>\n",
       "      <td>22</td>\n",
       "      <td>Тюмень</td>\n",
       "      <td>ultra</td>\n",
       "      <td>2617.592153</td>\n",
       "      <td>16.0</td>\n",
       "      <td>2021-01-18</td>\n",
       "      <td>1</td>\n",
       "      <td>6</td>\n",
       "      <td>0</td>\n",
       "      <td>199</td>\n",
       "    </tr>\n",
       "    <tr>\n",
       "      <th>2</th>\n",
       "      <td>1</td>\n",
       "      <td>Кира</td>\n",
       "      <td>22</td>\n",
       "      <td>Тюмень</td>\n",
       "      <td>ultra</td>\n",
       "      <td>754.159807</td>\n",
       "      <td>7.0</td>\n",
       "      <td>2021-04-20</td>\n",
       "      <td>4</td>\n",
       "      <td>6</td>\n",
       "      <td>0</td>\n",
       "      <td>199</td>\n",
       "    </tr>\n",
       "    <tr>\n",
       "      <th>3</th>\n",
       "      <td>1</td>\n",
       "      <td>Кира</td>\n",
       "      <td>22</td>\n",
       "      <td>Тюмень</td>\n",
       "      <td>ultra</td>\n",
       "      <td>2694.783254</td>\n",
       "      <td>19.0</td>\n",
       "      <td>2021-08-11</td>\n",
       "      <td>8</td>\n",
       "      <td>6</td>\n",
       "      <td>0</td>\n",
       "      <td>199</td>\n",
       "    </tr>\n",
       "    <tr>\n",
       "      <th>4</th>\n",
       "      <td>1</td>\n",
       "      <td>Кира</td>\n",
       "      <td>22</td>\n",
       "      <td>Тюмень</td>\n",
       "      <td>ultra</td>\n",
       "      <td>4028.687306</td>\n",
       "      <td>27.0</td>\n",
       "      <td>2021-08-28</td>\n",
       "      <td>8</td>\n",
       "      <td>6</td>\n",
       "      <td>0</td>\n",
       "      <td>199</td>\n",
       "    </tr>\n",
       "  </tbody>\n",
       "</table>\n",
       "</div>"
      ],
      "text/plain": [
       "   user_id  name  age    city subscription_type     distance  duration  \\\n",
       "0        1  Кира   22  Тюмень             ultra  4409.919140      26.0   \n",
       "1        1  Кира   22  Тюмень             ultra  2617.592153      16.0   \n",
       "2        1  Кира   22  Тюмень             ultra   754.159807       7.0   \n",
       "3        1  Кира   22  Тюмень             ultra  2694.783254      19.0   \n",
       "4        1  Кира   22  Тюмень             ultra  4028.687306      27.0   \n",
       "\n",
       "        date  month  minute_price  start_ride_price  subscription_fee  \n",
       "0 2021-01-01      1             6                 0               199  \n",
       "1 2021-01-18      1             6                 0               199  \n",
       "2 2021-04-20      4             6                 0               199  \n",
       "3 2021-08-11      8             6                 0               199  \n",
       "4 2021-08-28      8             6                 0               199  "
      ]
     },
     "execution_count": 47,
     "metadata": {},
     "output_type": "execute_result"
    }
   ],
   "source": [
    "import numpy as np\n",
    "\n",
    "merge_data['duration'] =  np.ceil(merge_data['duration'])\n",
    "\n",
    "merge_data.head()"
   ]
  },
  {
   "cell_type": "code",
   "execution_count": 48,
   "id": "ea132e50",
   "metadata": {
    "scrolled": false
   },
   "outputs": [
    {
     "data": {
      "text/html": [
       "<div>\n",
       "<style scoped>\n",
       "    .dataframe tbody tr th:only-of-type {\n",
       "        vertical-align: middle;\n",
       "    }\n",
       "\n",
       "    .dataframe tbody tr th {\n",
       "        vertical-align: top;\n",
       "    }\n",
       "\n",
       "    .dataframe thead th {\n",
       "        text-align: right;\n",
       "    }\n",
       "</style>\n",
       "<table border=\"1\" class=\"dataframe\">\n",
       "  <thead>\n",
       "    <tr style=\"text-align: right;\">\n",
       "      <th></th>\n",
       "      <th>user_id</th>\n",
       "      <th>month</th>\n",
       "      <th>total_distance</th>\n",
       "      <th>total_duration</th>\n",
       "      <th>trip_count</th>\n",
       "      <th>subscription_type</th>\n",
       "      <th>subscription_fee</th>\n",
       "      <th>start_ride_price</th>\n",
       "      <th>minute_price</th>\n",
       "    </tr>\n",
       "  </thead>\n",
       "  <tbody>\n",
       "    <tr>\n",
       "      <th>0</th>\n",
       "      <td>1</td>\n",
       "      <td>1</td>\n",
       "      <td>7027.511294</td>\n",
       "      <td>42.0</td>\n",
       "      <td>2</td>\n",
       "      <td>ultra</td>\n",
       "      <td>199</td>\n",
       "      <td>0</td>\n",
       "      <td>6</td>\n",
       "    </tr>\n",
       "    <tr>\n",
       "      <th>1</th>\n",
       "      <td>1</td>\n",
       "      <td>4</td>\n",
       "      <td>754.159807</td>\n",
       "      <td>7.0</td>\n",
       "      <td>1</td>\n",
       "      <td>ultra</td>\n",
       "      <td>199</td>\n",
       "      <td>0</td>\n",
       "      <td>6</td>\n",
       "    </tr>\n",
       "    <tr>\n",
       "      <th>2</th>\n",
       "      <td>1</td>\n",
       "      <td>8</td>\n",
       "      <td>6723.470560</td>\n",
       "      <td>46.0</td>\n",
       "      <td>2</td>\n",
       "      <td>ultra</td>\n",
       "      <td>199</td>\n",
       "      <td>0</td>\n",
       "      <td>6</td>\n",
       "    </tr>\n",
       "    <tr>\n",
       "      <th>3</th>\n",
       "      <td>1</td>\n",
       "      <td>10</td>\n",
       "      <td>5809.911100</td>\n",
       "      <td>32.0</td>\n",
       "      <td>2</td>\n",
       "      <td>ultra</td>\n",
       "      <td>199</td>\n",
       "      <td>0</td>\n",
       "      <td>6</td>\n",
       "    </tr>\n",
       "    <tr>\n",
       "      <th>4</th>\n",
       "      <td>1</td>\n",
       "      <td>11</td>\n",
       "      <td>7003.499363</td>\n",
       "      <td>56.0</td>\n",
       "      <td>3</td>\n",
       "      <td>ultra</td>\n",
       "      <td>199</td>\n",
       "      <td>0</td>\n",
       "      <td>6</td>\n",
       "    </tr>\n",
       "  </tbody>\n",
       "</table>\n",
       "</div>"
      ],
      "text/plain": [
       "   user_id  month  total_distance  total_duration  trip_count  \\\n",
       "0        1      1     7027.511294            42.0           2   \n",
       "1        1      4      754.159807             7.0           1   \n",
       "2        1      8     6723.470560            46.0           2   \n",
       "3        1     10     5809.911100            32.0           2   \n",
       "4        1     11     7003.499363            56.0           3   \n",
       "\n",
       "  subscription_type  subscription_fee  start_ride_price  minute_price  \n",
       "0             ultra               199                 0             6  \n",
       "1             ultra               199                 0             6  \n",
       "2             ultra               199                 0             6  \n",
       "3             ultra               199                 0             6  \n",
       "4             ultra               199                 0             6  "
      ]
     },
     "execution_count": 48,
     "metadata": {},
     "output_type": "execute_result"
    }
   ],
   "source": [
    "df_revenue = merge_data.groupby(['user_id', 'month']) \\\n",
    "    .agg(total_distance=('distance', 'sum'),\n",
    "         total_duration=('duration', 'sum'),\n",
    "         trip_count=('distance', 'count'),\n",
    "         subscription_type=('subscription_type', 'first'),\n",
    "         subscription_fee=('subscription_fee', 'first'),\n",
    "         start_ride_price=('start_ride_price', 'first'),\n",
    "         minute_price=('minute_price', 'first')\n",
    "         ) \\\n",
    "    .reset_index()\n",
    "\n",
    "df_revenue.head()"
   ]
  },
  {
   "cell_type": "code",
   "execution_count": 49,
   "id": "d46e8d65",
   "metadata": {},
   "outputs": [],
   "source": [
    "#import numpy as np\n",
    "\n",
    "#df_revenue['total_duration'] =  np.ceil(df_revenue['total_duration'])\n",
    "\n",
    "#df_revenue.head()"
   ]
  },
  {
   "cell_type": "markdown",
   "id": "f611093f",
   "metadata": {
    "scrolled": false
   },
   "source": [
    "В этот же датафрейм добавил столбец с помесячной выручкой, которую принёс каждый пользователь"
   ]
  },
  {
   "cell_type": "code",
   "execution_count": 50,
   "id": "dc7a5230",
   "metadata": {},
   "outputs": [],
   "source": [
    "df_revenue['monthly_revenue'] = \\\n",
    "(df_revenue['start_ride_price']*df_revenue['trip_count']) + \\\n",
    "(df_revenue['minute_price']*df_revenue['total_duration']) + \\\n",
    "df_revenue['subscription_fee']"
   ]
  },
  {
   "cell_type": "code",
   "execution_count": 51,
   "id": "61b45f2d",
   "metadata": {
    "scrolled": false
   },
   "outputs": [
    {
     "data": {
      "text/html": [
       "<div>\n",
       "<style scoped>\n",
       "    .dataframe tbody tr th:only-of-type {\n",
       "        vertical-align: middle;\n",
       "    }\n",
       "\n",
       "    .dataframe tbody tr th {\n",
       "        vertical-align: top;\n",
       "    }\n",
       "\n",
       "    .dataframe thead th {\n",
       "        text-align: right;\n",
       "    }\n",
       "</style>\n",
       "<table border=\"1\" class=\"dataframe\">\n",
       "  <thead>\n",
       "    <tr style=\"text-align: right;\">\n",
       "      <th></th>\n",
       "      <th>user_id</th>\n",
       "      <th>month</th>\n",
       "      <th>total_distance</th>\n",
       "      <th>total_duration</th>\n",
       "      <th>trip_count</th>\n",
       "      <th>subscription_type</th>\n",
       "      <th>subscription_fee</th>\n",
       "      <th>start_ride_price</th>\n",
       "      <th>minute_price</th>\n",
       "      <th>monthly_revenue</th>\n",
       "    </tr>\n",
       "  </thead>\n",
       "  <tbody>\n",
       "    <tr>\n",
       "      <th>0</th>\n",
       "      <td>1</td>\n",
       "      <td>1</td>\n",
       "      <td>7027.511294</td>\n",
       "      <td>42.0</td>\n",
       "      <td>2</td>\n",
       "      <td>ultra</td>\n",
       "      <td>199</td>\n",
       "      <td>0</td>\n",
       "      <td>6</td>\n",
       "      <td>451.0</td>\n",
       "    </tr>\n",
       "    <tr>\n",
       "      <th>1</th>\n",
       "      <td>1</td>\n",
       "      <td>4</td>\n",
       "      <td>754.159807</td>\n",
       "      <td>7.0</td>\n",
       "      <td>1</td>\n",
       "      <td>ultra</td>\n",
       "      <td>199</td>\n",
       "      <td>0</td>\n",
       "      <td>6</td>\n",
       "      <td>241.0</td>\n",
       "    </tr>\n",
       "    <tr>\n",
       "      <th>2</th>\n",
       "      <td>1</td>\n",
       "      <td>8</td>\n",
       "      <td>6723.470560</td>\n",
       "      <td>46.0</td>\n",
       "      <td>2</td>\n",
       "      <td>ultra</td>\n",
       "      <td>199</td>\n",
       "      <td>0</td>\n",
       "      <td>6</td>\n",
       "      <td>475.0</td>\n",
       "    </tr>\n",
       "    <tr>\n",
       "      <th>3</th>\n",
       "      <td>1</td>\n",
       "      <td>10</td>\n",
       "      <td>5809.911100</td>\n",
       "      <td>32.0</td>\n",
       "      <td>2</td>\n",
       "      <td>ultra</td>\n",
       "      <td>199</td>\n",
       "      <td>0</td>\n",
       "      <td>6</td>\n",
       "      <td>391.0</td>\n",
       "    </tr>\n",
       "    <tr>\n",
       "      <th>4</th>\n",
       "      <td>1</td>\n",
       "      <td>11</td>\n",
       "      <td>7003.499363</td>\n",
       "      <td>56.0</td>\n",
       "      <td>3</td>\n",
       "      <td>ultra</td>\n",
       "      <td>199</td>\n",
       "      <td>0</td>\n",
       "      <td>6</td>\n",
       "      <td>535.0</td>\n",
       "    </tr>\n",
       "  </tbody>\n",
       "</table>\n",
       "</div>"
      ],
      "text/plain": [
       "   user_id  month  total_distance  total_duration  trip_count  \\\n",
       "0        1      1     7027.511294            42.0           2   \n",
       "1        1      4      754.159807             7.0           1   \n",
       "2        1      8     6723.470560            46.0           2   \n",
       "3        1     10     5809.911100            32.0           2   \n",
       "4        1     11     7003.499363            56.0           3   \n",
       "\n",
       "  subscription_type  subscription_fee  start_ride_price  minute_price  \\\n",
       "0             ultra               199                 0             6   \n",
       "1             ultra               199                 0             6   \n",
       "2             ultra               199                 0             6   \n",
       "3             ultra               199                 0             6   \n",
       "4             ultra               199                 0             6   \n",
       "\n",
       "   monthly_revenue  \n",
       "0            451.0  \n",
       "1            241.0  \n",
       "2            475.0  \n",
       "3            391.0  \n",
       "4            535.0  "
      ]
     },
     "execution_count": 51,
     "metadata": {},
     "output_type": "execute_result"
    }
   ],
   "source": [
    "df_revenue.head()"
   ]
  },
  {
   "cell_type": "markdown",
   "id": "41545ac0",
   "metadata": {},
   "source": [
    "#### Шаг 6. Проверка гипотез"
   ]
  },
  {
   "cell_type": "markdown",
   "id": "babf1d1a",
   "metadata": {},
   "source": [
    "**Важно понять, тратят ли пользователи с подпиской больше времени на поездки? Если да, то пользователи с подпиской могут быть «выгоднее» для компании. Проверьте гипотезу. Используйте исходные данные о продолжительности каждой сессии — отдельно для подписчиков и тех, у кого нет подписки.**\n",
    "\n",
    "Нулевая гипотеза (H0):\n",
    "Среднее время, затрачиваемое на поездки пользователями с подпиской, не отличается от среднего времени, затрачиваемого пользователями без подписки.\n",
    "\n",
    "Альтернативная гипотеза (H1):\n",
    "Среднее время, затрачиваемое на поездки пользователями с подпиской, больше среднего времени, затрачиваемого пользователями без подписки.\n",
    "\n",
    "Гипотеза о равенстве средних двух генеральных совокупностей."
   ]
  },
  {
   "cell_type": "code",
   "execution_count": 52,
   "id": "23ea867b",
   "metadata": {},
   "outputs": [],
   "source": [
    "import scipy.stats as st"
   ]
  },
  {
   "cell_type": "code",
   "execution_count": 53,
   "id": "8c07fd38",
   "metadata": {},
   "outputs": [
    {
     "name": "stdout",
     "output_type": "stream",
     "text": [
      "p-value: 1.2804098316645618e-34\n",
      "Отвергаем нулевую гипотезу.\n"
     ]
    }
   ],
   "source": [
    "alpha = 0.05\n",
    "\n",
    "results = st.ttest_ind(subscription_ultra['duration'], subscription_free['duration'], alternative='greater')\n",
    "\n",
    "print(f'p-value: {results.pvalue}')\n",
    "\n",
    "if results.pvalue < alpha:\n",
    "    print('Отвергаем нулевую гипотезу.')\n",
    "else:\n",
    "    print('Нет оснований отвергнуть нулевую гипотезу.')"
   ]
  },
  {
   "cell_type": "markdown",
   "id": "24fd1b12",
   "metadata": {},
   "source": [
    "Есть основания говорить, что пользователи с подпиской  тратят больше времени на поездки."
   ]
  },
  {
   "cell_type": "markdown",
   "id": "ab242b2d",
   "metadata": {},
   "source": [
    "**Расстояние одной поездки в 3130 метров — оптимальное с точки зрения износа самоката. Можно ли сказать, что среднее расстояние, которое проезжают пользователи с подпиской за одну поездку, не превышает 3130 метров?**\n",
    "\n",
    "Нулевая гипотеза (H0):\n",
    "Расстояние одной поездки 3130 метров.\n",
    "\n",
    "Альтернативная гипотеза (H1):\n",
    "Расстояние одной поездки больше 3130 метров.\n",
    "\n",
    "Проверка односторонней гипотезы."
   ]
  },
  {
   "cell_type": "code",
   "execution_count": 54,
   "id": "05d80e96",
   "metadata": {
    "scrolled": true
   },
   "outputs": [
    {
     "name": "stdout",
     "output_type": "stream",
     "text": [
      "p-значение: 0.9195368847849785\n",
      "Не получилось отвергнуть нулевую гипотезу.\n"
     ]
    }
   ],
   "source": [
    "distance = 3130\n",
    "\n",
    "alpha = 0.05\n",
    "\n",
    "results = st.ttest_1samp(subscription_ultra['distance'], distance,\n",
    "    alternative='greater')\n",
    "\n",
    "print('p-значение:', results.pvalue ) \n",
    "\n",
    "if (results.pvalue < alpha):\n",
    "    print('Отвергаем нулевую гипотезу')\n",
    "else:\n",
    "    print('Не получилось отвергнуть нулевую гипотезу.')\n",
    "\n"
   ]
  },
  {
   "cell_type": "markdown",
   "id": "cd54fb7c",
   "metadata": {},
   "source": [
    "Есть основания говорить, что пользователи с подпиской проезжают в среднем  3130 метров."
   ]
  },
  {
   "cell_type": "markdown",
   "id": "8a1a7b56",
   "metadata": {},
   "source": [
    "**Проверьте гипотезу о том, будет ли помесячная выручка от пользователей с подпиской по месяцам выше, чем выручка от пользователей без подписки**\n",
    "\n",
    "Нулевая гипотеза (H0):\n",
    "Помесячная выручка от пользователей с подпиской равна помесячной выручка от пользователей без подписки.\n",
    "\n",
    "Альтернативная гипотеза (H1):\n",
    "Помесячная выручка от пользователей с подпиской по месяцам выше, чем выручка от пользователей без подписки.\n",
    "\n",
    "Гипотеза о равенстве средних двух генеральных совокупностей.\n"
   ]
  },
  {
   "cell_type": "code",
   "execution_count": 55,
   "id": "e4b8bbda",
   "metadata": {},
   "outputs": [
    {
     "name": "stdout",
     "output_type": "stream",
     "text": [
      "p-value: 1.8850394384715216e-31\n",
      "Отвергаем нулевую гипотезу.\n"
     ]
    }
   ],
   "source": [
    "alpha = 0.05\n",
    "\n",
    "results = st.ttest_ind(df_revenue.loc[df_revenue['subscription_type'] == 'ultra','monthly_revenue'], \\\n",
    "                       df_revenue.loc[df_revenue['subscription_type'] == 'free','monthly_revenue'], \\\n",
    "                      alternative='greater')\n",
    "\n",
    "print(f'p-value: {results.pvalue}')\n",
    "\n",
    "if results.pvalue < alpha:\n",
    "    print('Отвергаем нулевую гипотезу.')\n",
    "else:\n",
    "    print('Нет оснований отвергнуть нулевую гипотезу. ')"
   ]
  },
  {
   "cell_type": "markdown",
   "id": "1388bf6d",
   "metadata": {},
   "source": [
    "Помесячная выручка от пользователей с подпиской по месяцам выше, чем выручка от пользователей без подписки."
   ]
  },
  {
   "cell_type": "markdown",
   "id": "b6a93e11",
   "metadata": {},
   "source": [
    "**Представьте такую ситуацию: техническая команда сервиса обновила сервера, с которыми взаимодействует мобильное приложение. Она надеется, что из-за этого количество обращений в техподдержку значимо снизилось. Некоторый файл содержит для каждого пользователя данные о количестве обращений до обновления и после него. Какой тест вам понадобился бы для проверки этой гипотезы?**\n",
    "\n",
    "Нулевая гипотеза (H0): Количество обращений не изменилось или увеличилось после обновления серверов.\n",
    "\n",
    "Альтернативная гипотеза (H1): Количество обращений снизилось после обновления серверов\n",
    "\n",
    "Ответ: Гипотеза о равенстве средних для зависимых (парных) выборок.\n",
    "\n",
    "Если указать alternative='greater', проверится правосторонняя гипотеза, что истинное среднее генеральной совокупности до изменения больше, чем истинное среднее генеральной совокупности после изменения.\n",
    "\n",
    "Пример такого теста:"
   ]
  },
  {
   "cell_type": "code",
   "execution_count": 56,
   "id": "a6f5f0ce",
   "metadata": {
    "scrolled": true
   },
   "outputs": [
    {
     "name": "stdout",
     "output_type": "stream",
     "text": [
      "p-значение: 7.294735614724296e-07\n",
      "Отвергаем нулевую гипотезу.\n"
     ]
    }
   ],
   "source": [
    "appeals_before = [12, 15, 14, 10, 13, 16, 14, 11, 12, 14]\n",
    "appeals_after = [10, 13, 12, 8, 11, 14, 13, 9, 11, 13]\n",
    "\n",
    "alpha = 0.05\n",
    "\n",
    "results = st.ttest_rel(appeals_before, appeals_after, alternative='greater')\n",
    "\n",
    "print('p-значение:', results.pvalue)\n",
    "\n",
    "if results.pvalue < alpha: \n",
    "    print('Отвергаем нулевую гипотезу.')\n",
    "else:\n",
    "    print('Не получилось отвергнуть нулевую гипотезу.')"
   ]
  },
  {
   "cell_type": "markdown",
   "id": "d5349ec1",
   "metadata": {},
   "source": [
    "Есть основания полагать, что количество обращений снизилось после обновления серверов."
   ]
  },
  {
   "cell_type": "markdown",
   "id": "c8232abd",
   "metadata": {},
   "source": [
    "#### Шаг 7. Выводы по результатам исследования:\n",
    "\n",
    "Обработка данных:\n",
    "\n",
    "Выполнена качественная очистка данных, включающая удаление дубликатов, корректную типизацию данных и предобработку.\n",
    "\n",
    "Анализ данных:\n",
    "\n",
    "Проведен всесторонний исследовательский анализ данных, в результате которого выявлены основные распределения и выбросы. Были обнаружены редкие значения и аномалии, которые следует учитывать в дальнейшем моделировании и принятии управленческих решений.\n",
    "\n",
    "Проверка гипотез:\n",
    "\n",
    "Время на поездки пользователей с подпиской:Есть основания говорить, что пользователи с подпиской тратят больше времени на поездки.\n",
    "\n",
    "Среднее расстояние одной поездки для пользователей с подпиской: Есть основания говорить, что пользователи с подпиской проезжают в среднем 3130 метров.\n",
    "\n",
    "\n",
    "\n",
    "Помесячная выручка от пользователей с подпиской по месяцам выше, чем выручка от пользователей без подписки: Помесячная выручка от пользователей с подпиской по месяцам выше, чем выручка от пользователей без подписки.\n",
    "\n",
    "Рекомендации:\n",
    "\n",
    "Маркетинговые усилия: Рекомендуется усилить маркетинговые кампании, направленные на привлечение новых подписчиков, акцентируя внимание на преимуществах подписки, таких как большее количество поездок, длительные поездки, и экономическая выгода.\n",
    "\n",
    "Развитие системы поощрений: Учитывая, что пользователи с подпиской приносят большую помесячную выручку, стоит усилить программы лояльности, предоставляя дополнительные преимущества и бонусы для подписчиков. Например, можно внедрить накопительные скидки или эксклюзивные предложения для подписчиков, что может стимулировать рост числа подписок и удержание текущих пользователей.\n",
    "\n",
    "Поскольку пользователи с подпиской тратят больше времени на поездки, можно рассмотреть возможность создания специальных предложений для таких пользователей, например, скидок на долгосрочные поездки или введения бонусов за использование сервиса в определенные часы.\n",
    "\n",
    "\n",
    " \n",
    " "
   ]
  },
  {
   "cell_type": "code",
   "execution_count": null,
   "id": "1b801e80",
   "metadata": {},
   "outputs": [],
   "source": []
  }
 ],
 "metadata": {
  "ExecuteTimeLog": [
   {
    "duration": 53,
    "start_time": "2024-08-19T20:55:22.525Z"
   },
   {
    "duration": 357,
    "start_time": "2024-08-19T20:55:45.716Z"
   },
   {
    "duration": 383,
    "start_time": "2024-08-19T20:55:51.546Z"
   },
   {
    "duration": 91,
    "start_time": "2024-08-19T20:55:51.931Z"
   },
   {
    "duration": 34,
    "start_time": "2024-08-19T20:56:00.636Z"
   },
   {
    "duration": 48,
    "start_time": "2024-08-19T20:56:08.747Z"
   },
   {
    "duration": 390,
    "start_time": "2024-08-19T20:56:51.211Z"
   },
   {
    "duration": 14,
    "start_time": "2024-08-19T20:57:02.141Z"
   },
   {
    "duration": 15,
    "start_time": "2024-08-19T20:57:10.212Z"
   },
   {
    "duration": 9,
    "start_time": "2024-08-19T21:00:34.286Z"
   },
   {
    "duration": 10,
    "start_time": "2024-08-19T21:00:40.109Z"
   },
   {
    "duration": 688,
    "start_time": "2024-08-19T21:00:45.798Z"
   },
   {
    "duration": 3,
    "start_time": "2024-08-19T21:02:18.806Z"
   },
   {
    "duration": 346,
    "start_time": "2024-08-19T21:02:19.457Z"
   },
   {
    "duration": 8,
    "start_time": "2024-08-19T21:03:01.456Z"
   },
   {
    "duration": 10,
    "start_time": "2024-08-19T21:03:07.879Z"
   },
   {
    "duration": 8,
    "start_time": "2024-08-19T21:04:41.444Z"
   },
   {
    "duration": 9,
    "start_time": "2024-08-19T21:04:47.112Z"
   },
   {
    "duration": 5,
    "start_time": "2024-08-19T21:04:52.744Z"
   },
   {
    "duration": 8,
    "start_time": "2024-08-19T21:04:57.183Z"
   },
   {
    "duration": 6,
    "start_time": "2024-08-19T21:05:05.624Z"
   },
   {
    "duration": 6,
    "start_time": "2024-08-19T21:05:21.328Z"
   },
   {
    "duration": 10,
    "start_time": "2024-08-19T21:05:25.767Z"
   },
   {
    "duration": 5,
    "start_time": "2024-08-19T21:05:34.720Z"
   },
   {
    "duration": 375,
    "start_time": "2024-08-19T21:06:20.196Z"
   },
   {
    "duration": 76,
    "start_time": "2024-08-19T21:06:20.573Z"
   },
   {
    "duration": 13,
    "start_time": "2024-08-19T21:06:20.651Z"
   },
   {
    "duration": 14,
    "start_time": "2024-08-19T21:06:20.666Z"
   },
   {
    "duration": 10,
    "start_time": "2024-08-19T21:06:20.682Z"
   },
   {
    "duration": 10,
    "start_time": "2024-08-19T21:06:20.693Z"
   },
   {
    "duration": 207,
    "start_time": "2024-08-19T21:06:20.705Z"
   },
   {
    "duration": 314,
    "start_time": "2024-08-19T21:06:20.913Z"
   },
   {
    "duration": 7,
    "start_time": "2024-08-19T21:06:21.228Z"
   },
   {
    "duration": 18,
    "start_time": "2024-08-19T21:06:21.236Z"
   },
   {
    "duration": 29,
    "start_time": "2024-08-19T21:06:21.255Z"
   },
   {
    "duration": 10,
    "start_time": "2024-08-19T21:06:21.286Z"
   },
   {
    "duration": 4,
    "start_time": "2024-08-19T21:06:21.297Z"
   },
   {
    "duration": 10,
    "start_time": "2024-08-19T21:06:21.303Z"
   },
   {
    "duration": 17,
    "start_time": "2024-08-19T21:06:21.314Z"
   },
   {
    "duration": 25,
    "start_time": "2024-08-19T21:06:21.333Z"
   },
   {
    "duration": 7,
    "start_time": "2024-08-19T21:06:21.360Z"
   },
   {
    "duration": 16,
    "start_time": "2024-08-19T21:06:21.368Z"
   },
   {
    "duration": 9,
    "start_time": "2024-08-19T21:06:21.386Z"
   },
   {
    "duration": 410,
    "start_time": "2024-08-19T21:06:40.664Z"
   },
   {
    "duration": 77,
    "start_time": "2024-08-19T21:06:41.075Z"
   },
   {
    "duration": 13,
    "start_time": "2024-08-19T21:06:41.153Z"
   },
   {
    "duration": 9,
    "start_time": "2024-08-19T21:06:41.168Z"
   },
   {
    "duration": 11,
    "start_time": "2024-08-19T21:06:41.179Z"
   },
   {
    "duration": 16,
    "start_time": "2024-08-19T21:06:41.191Z"
   },
   {
    "duration": 205,
    "start_time": "2024-08-19T21:06:41.209Z"
   },
   {
    "duration": 317,
    "start_time": "2024-08-19T21:06:41.415Z"
   },
   {
    "duration": 7,
    "start_time": "2024-08-19T21:06:41.733Z"
   },
   {
    "duration": 11,
    "start_time": "2024-08-19T21:06:41.742Z"
   },
   {
    "duration": 15,
    "start_time": "2024-08-19T21:06:41.754Z"
   },
   {
    "duration": 18,
    "start_time": "2024-08-19T21:06:41.770Z"
   },
   {
    "duration": 4,
    "start_time": "2024-08-19T21:06:41.790Z"
   },
   {
    "duration": 18,
    "start_time": "2024-08-19T21:06:41.795Z"
   },
   {
    "duration": 29,
    "start_time": "2024-08-19T21:06:41.818Z"
   },
   {
    "duration": 7,
    "start_time": "2024-08-19T21:06:41.849Z"
   },
   {
    "duration": 7,
    "start_time": "2024-08-19T21:06:41.858Z"
   },
   {
    "duration": 5,
    "start_time": "2024-08-19T21:06:41.866Z"
   },
   {
    "duration": 7,
    "start_time": "2024-08-19T21:06:41.872Z"
   },
   {
    "duration": 5,
    "start_time": "2024-08-19T21:07:05.113Z"
   },
   {
    "duration": 8,
    "start_time": "2024-08-19T21:07:12.112Z"
   },
   {
    "duration": 5,
    "start_time": "2024-08-19T21:07:17.321Z"
   },
   {
    "duration": 160,
    "start_time": "2024-08-19T21:07:39.440Z"
   },
   {
    "duration": 161,
    "start_time": "2024-08-19T21:07:48.513Z"
   },
   {
    "duration": 201,
    "start_time": "2024-08-19T21:08:08.077Z"
   },
   {
    "duration": 149,
    "start_time": "2024-08-19T21:08:18.442Z"
   },
   {
    "duration": 143,
    "start_time": "2024-08-19T21:09:52.689Z"
   },
   {
    "duration": 153,
    "start_time": "2024-08-19T21:10:42.748Z"
   },
   {
    "duration": 147,
    "start_time": "2024-08-19T21:10:51.650Z"
   },
   {
    "duration": 65,
    "start_time": "2024-08-19T21:15:27.717Z"
   },
   {
    "duration": 413,
    "start_time": "2024-08-19T21:15:53.455Z"
   },
   {
    "duration": 76,
    "start_time": "2024-08-19T21:15:53.870Z"
   },
   {
    "duration": 14,
    "start_time": "2024-08-19T21:15:53.948Z"
   },
   {
    "duration": 12,
    "start_time": "2024-08-19T21:15:53.963Z"
   },
   {
    "duration": 8,
    "start_time": "2024-08-19T21:15:53.976Z"
   },
   {
    "duration": 9,
    "start_time": "2024-08-19T21:15:53.985Z"
   },
   {
    "duration": 204,
    "start_time": "2024-08-19T21:15:53.996Z"
   },
   {
    "duration": 320,
    "start_time": "2024-08-19T21:15:54.201Z"
   },
   {
    "duration": 7,
    "start_time": "2024-08-19T21:15:54.522Z"
   },
   {
    "duration": 11,
    "start_time": "2024-08-19T21:15:54.530Z"
   },
   {
    "duration": 7,
    "start_time": "2024-08-19T21:15:54.542Z"
   },
   {
    "duration": 9,
    "start_time": "2024-08-19T21:15:54.550Z"
   },
   {
    "duration": 25,
    "start_time": "2024-08-19T21:15:54.560Z"
   },
   {
    "duration": 8,
    "start_time": "2024-08-19T21:15:54.588Z"
   },
   {
    "duration": 15,
    "start_time": "2024-08-19T21:15:54.598Z"
   },
   {
    "duration": 77,
    "start_time": "2024-08-19T21:15:54.615Z"
   },
   {
    "duration": 0,
    "start_time": "2024-08-19T21:15:54.694Z"
   },
   {
    "duration": 0,
    "start_time": "2024-08-19T21:15:54.695Z"
   },
   {
    "duration": 0,
    "start_time": "2024-08-19T21:15:54.696Z"
   },
   {
    "duration": 0,
    "start_time": "2024-08-19T21:15:54.697Z"
   },
   {
    "duration": 0,
    "start_time": "2024-08-19T21:15:54.698Z"
   },
   {
    "duration": 0,
    "start_time": "2024-08-19T21:15:54.699Z"
   },
   {
    "duration": 0,
    "start_time": "2024-08-19T21:15:54.700Z"
   },
   {
    "duration": 0,
    "start_time": "2024-08-19T21:15:54.701Z"
   },
   {
    "duration": 416,
    "start_time": "2024-08-19T21:16:23.162Z"
   },
   {
    "duration": 75,
    "start_time": "2024-08-19T21:16:23.579Z"
   },
   {
    "duration": 13,
    "start_time": "2024-08-19T21:16:23.656Z"
   },
   {
    "duration": 49,
    "start_time": "2024-08-19T21:16:23.671Z"
   },
   {
    "duration": 9,
    "start_time": "2024-08-19T21:16:23.722Z"
   },
   {
    "duration": 22,
    "start_time": "2024-08-19T21:16:23.732Z"
   },
   {
    "duration": 225,
    "start_time": "2024-08-19T21:16:23.755Z"
   },
   {
    "duration": 318,
    "start_time": "2024-08-19T21:16:23.982Z"
   },
   {
    "duration": 7,
    "start_time": "2024-08-19T21:16:24.301Z"
   },
   {
    "duration": 30,
    "start_time": "2024-08-19T21:16:24.310Z"
   },
   {
    "duration": 8,
    "start_time": "2024-08-19T21:16:24.341Z"
   },
   {
    "duration": 27,
    "start_time": "2024-08-19T21:16:24.350Z"
   },
   {
    "duration": 4,
    "start_time": "2024-08-19T21:16:24.378Z"
   },
   {
    "duration": 7,
    "start_time": "2024-08-19T21:16:24.384Z"
   },
   {
    "duration": 6,
    "start_time": "2024-08-19T21:16:24.393Z"
   },
   {
    "duration": 8,
    "start_time": "2024-08-19T21:16:24.400Z"
   },
   {
    "duration": 5,
    "start_time": "2024-08-19T21:16:24.409Z"
   },
   {
    "duration": 9,
    "start_time": "2024-08-19T21:16:24.415Z"
   },
   {
    "duration": 5,
    "start_time": "2024-08-19T21:16:24.425Z"
   },
   {
    "duration": 6,
    "start_time": "2024-08-19T21:16:24.431Z"
   },
   {
    "duration": 6,
    "start_time": "2024-08-19T21:16:24.438Z"
   },
   {
    "duration": 42,
    "start_time": "2024-08-19T21:16:24.445Z"
   },
   {
    "duration": 5,
    "start_time": "2024-08-19T21:16:24.489Z"
   },
   {
    "duration": 165,
    "start_time": "2024-08-19T21:16:24.495Z"
   },
   {
    "duration": 593,
    "start_time": "2024-08-19T21:18:07.647Z"
   },
   {
    "duration": 76,
    "start_time": "2024-08-19T21:18:08.242Z"
   },
   {
    "duration": 9,
    "start_time": "2024-08-19T21:18:08.320Z"
   },
   {
    "duration": 13,
    "start_time": "2024-08-19T21:18:08.331Z"
   },
   {
    "duration": 15,
    "start_time": "2024-08-19T21:18:08.345Z"
   },
   {
    "duration": 11,
    "start_time": "2024-08-19T21:18:08.361Z"
   },
   {
    "duration": 304,
    "start_time": "2024-08-19T21:18:08.373Z"
   },
   {
    "duration": 7,
    "start_time": "2024-08-19T21:18:08.681Z"
   },
   {
    "duration": 9,
    "start_time": "2024-08-19T21:18:08.689Z"
   },
   {
    "duration": 6,
    "start_time": "2024-08-19T21:18:08.700Z"
   },
   {
    "duration": 8,
    "start_time": "2024-08-19T21:18:08.708Z"
   },
   {
    "duration": 4,
    "start_time": "2024-08-19T21:18:08.717Z"
   },
   {
    "duration": 14,
    "start_time": "2024-08-19T21:18:08.722Z"
   },
   {
    "duration": 56,
    "start_time": "2024-08-19T21:18:08.738Z"
   },
   {
    "duration": 15,
    "start_time": "2024-08-19T21:18:08.796Z"
   },
   {
    "duration": 5,
    "start_time": "2024-08-19T21:18:08.813Z"
   },
   {
    "duration": 5,
    "start_time": "2024-08-19T21:18:08.819Z"
   },
   {
    "duration": 6,
    "start_time": "2024-08-19T21:18:08.825Z"
   },
   {
    "duration": 10,
    "start_time": "2024-08-19T21:18:08.832Z"
   },
   {
    "duration": 6,
    "start_time": "2024-08-19T21:18:08.844Z"
   },
   {
    "duration": 8,
    "start_time": "2024-08-19T21:18:08.851Z"
   },
   {
    "duration": 23,
    "start_time": "2024-08-19T21:18:08.860Z"
   },
   {
    "duration": 159,
    "start_time": "2024-08-19T21:18:08.884Z"
   },
   {
    "duration": 575,
    "start_time": "2024-08-19T21:18:16.430Z"
   },
   {
    "duration": 593,
    "start_time": "2024-08-19T21:18:26.152Z"
   },
   {
    "duration": 74,
    "start_time": "2024-08-19T21:18:26.747Z"
   },
   {
    "duration": 11,
    "start_time": "2024-08-19T21:18:26.822Z"
   },
   {
    "duration": 10,
    "start_time": "2024-08-19T21:18:26.834Z"
   },
   {
    "duration": 15,
    "start_time": "2024-08-19T21:18:26.846Z"
   },
   {
    "duration": 13,
    "start_time": "2024-08-19T21:18:26.862Z"
   },
   {
    "duration": 315,
    "start_time": "2024-08-19T21:18:26.877Z"
   },
   {
    "duration": 7,
    "start_time": "2024-08-19T21:18:27.194Z"
   },
   {
    "duration": 12,
    "start_time": "2024-08-19T21:18:27.203Z"
   },
   {
    "duration": 10,
    "start_time": "2024-08-19T21:18:27.216Z"
   },
   {
    "duration": 9,
    "start_time": "2024-08-19T21:18:27.227Z"
   },
   {
    "duration": 4,
    "start_time": "2024-08-19T21:18:27.237Z"
   },
   {
    "duration": 7,
    "start_time": "2024-08-19T21:18:27.243Z"
   },
   {
    "duration": 35,
    "start_time": "2024-08-19T21:18:27.252Z"
   },
   {
    "duration": 16,
    "start_time": "2024-08-19T21:18:27.288Z"
   },
   {
    "duration": 18,
    "start_time": "2024-08-19T21:18:27.305Z"
   },
   {
    "duration": 12,
    "start_time": "2024-08-19T21:18:27.324Z"
   },
   {
    "duration": 12,
    "start_time": "2024-08-19T21:18:27.338Z"
   },
   {
    "duration": 6,
    "start_time": "2024-08-19T21:18:27.351Z"
   },
   {
    "duration": 6,
    "start_time": "2024-08-19T21:18:27.358Z"
   },
   {
    "duration": 6,
    "start_time": "2024-08-19T21:18:27.366Z"
   },
   {
    "duration": 9,
    "start_time": "2024-08-19T21:18:27.374Z"
   },
   {
    "duration": 161,
    "start_time": "2024-08-19T21:18:27.384Z"
   },
   {
    "duration": 156,
    "start_time": "2024-08-19T21:19:00.582Z"
   },
   {
    "duration": 582,
    "start_time": "2024-08-19T21:19:06.913Z"
   },
   {
    "duration": 74,
    "start_time": "2024-08-19T21:19:07.497Z"
   },
   {
    "duration": 11,
    "start_time": "2024-08-19T21:19:07.573Z"
   },
   {
    "duration": 10,
    "start_time": "2024-08-19T21:19:07.585Z"
   },
   {
    "duration": 19,
    "start_time": "2024-08-19T21:19:07.597Z"
   },
   {
    "duration": 9,
    "start_time": "2024-08-19T21:19:07.618Z"
   },
   {
    "duration": 345,
    "start_time": "2024-08-19T21:19:07.628Z"
   },
   {
    "duration": 7,
    "start_time": "2024-08-19T21:19:07.981Z"
   },
   {
    "duration": 26,
    "start_time": "2024-08-19T21:19:07.989Z"
   },
   {
    "duration": 6,
    "start_time": "2024-08-19T21:19:08.016Z"
   },
   {
    "duration": 9,
    "start_time": "2024-08-19T21:19:08.023Z"
   },
   {
    "duration": 4,
    "start_time": "2024-08-19T21:19:08.033Z"
   },
   {
    "duration": 8,
    "start_time": "2024-08-19T21:19:08.038Z"
   },
   {
    "duration": 24,
    "start_time": "2024-08-19T21:19:08.048Z"
   },
   {
    "duration": 11,
    "start_time": "2024-08-19T21:19:08.073Z"
   },
   {
    "duration": 6,
    "start_time": "2024-08-19T21:19:08.085Z"
   },
   {
    "duration": 6,
    "start_time": "2024-08-19T21:19:08.092Z"
   },
   {
    "duration": 6,
    "start_time": "2024-08-19T21:19:08.100Z"
   },
   {
    "duration": 5,
    "start_time": "2024-08-19T21:19:08.107Z"
   },
   {
    "duration": 5,
    "start_time": "2024-08-19T21:19:08.114Z"
   },
   {
    "duration": 7,
    "start_time": "2024-08-19T21:19:08.120Z"
   },
   {
    "duration": 4,
    "start_time": "2024-08-19T21:19:08.128Z"
   },
   {
    "duration": 178,
    "start_time": "2024-08-19T21:19:08.133Z"
   },
   {
    "duration": 5,
    "start_time": "2024-08-19T21:22:42.032Z"
   },
   {
    "duration": 5,
    "start_time": "2024-08-19T21:23:34.912Z"
   },
   {
    "duration": 156,
    "start_time": "2024-08-19T21:23:41.697Z"
   },
   {
    "duration": 69,
    "start_time": "2024-08-19T21:26:39.873Z"
   },
   {
    "duration": 267,
    "start_time": "2024-08-19T21:27:01.595Z"
   },
   {
    "duration": 150,
    "start_time": "2024-08-19T21:27:34.363Z"
   },
   {
    "duration": 160,
    "start_time": "2024-08-19T21:27:50.315Z"
   },
   {
    "duration": 216,
    "start_time": "2024-08-19T21:28:38.611Z"
   },
   {
    "duration": 164,
    "start_time": "2024-08-19T21:28:50.381Z"
   },
   {
    "duration": 152,
    "start_time": "2024-08-19T21:29:09.867Z"
   },
   {
    "duration": 322,
    "start_time": "2024-08-19T21:31:33.300Z"
   },
   {
    "duration": 6,
    "start_time": "2024-08-19T21:31:46.484Z"
   },
   {
    "duration": 101,
    "start_time": "2024-08-19T21:32:04.156Z"
   },
   {
    "duration": 13,
    "start_time": "2024-08-19T21:32:18.372Z"
   },
   {
    "duration": 101,
    "start_time": "2024-08-19T21:32:58.408Z"
   },
   {
    "duration": 787,
    "start_time": "2024-08-20T03:07:11.108Z"
   },
   {
    "duration": 315,
    "start_time": "2024-08-20T03:07:11.897Z"
   },
   {
    "duration": 13,
    "start_time": "2024-08-20T03:07:12.214Z"
   },
   {
    "duration": 12,
    "start_time": "2024-08-20T03:07:12.228Z"
   },
   {
    "duration": 12,
    "start_time": "2024-08-20T03:07:12.243Z"
   },
   {
    "duration": 26,
    "start_time": "2024-08-20T03:07:12.257Z"
   },
   {
    "duration": 390,
    "start_time": "2024-08-20T03:07:12.285Z"
   },
   {
    "duration": 7,
    "start_time": "2024-08-20T03:07:12.676Z"
   },
   {
    "duration": 19,
    "start_time": "2024-08-20T03:07:12.685Z"
   },
   {
    "duration": 12,
    "start_time": "2024-08-20T03:07:12.705Z"
   },
   {
    "duration": 11,
    "start_time": "2024-08-20T03:07:12.719Z"
   },
   {
    "duration": 21,
    "start_time": "2024-08-20T03:07:12.732Z"
   },
   {
    "duration": 14,
    "start_time": "2024-08-20T03:07:12.755Z"
   },
   {
    "duration": 6,
    "start_time": "2024-08-20T03:07:12.772Z"
   },
   {
    "duration": 6,
    "start_time": "2024-08-20T03:07:12.780Z"
   },
   {
    "duration": 7,
    "start_time": "2024-08-20T03:07:12.787Z"
   },
   {
    "duration": 36,
    "start_time": "2024-08-20T03:07:12.795Z"
   },
   {
    "duration": 6,
    "start_time": "2024-08-20T03:07:12.832Z"
   },
   {
    "duration": 6,
    "start_time": "2024-08-20T03:07:12.840Z"
   },
   {
    "duration": 6,
    "start_time": "2024-08-20T03:07:12.853Z"
   },
   {
    "duration": 11,
    "start_time": "2024-08-20T03:07:12.860Z"
   },
   {
    "duration": 9,
    "start_time": "2024-08-20T03:07:12.872Z"
   },
   {
    "duration": 7,
    "start_time": "2024-08-20T03:07:12.882Z"
   },
   {
    "duration": 203,
    "start_time": "2024-08-20T03:07:12.891Z"
   },
   {
    "duration": 5,
    "start_time": "2024-08-20T03:07:13.096Z"
   },
   {
    "duration": 6,
    "start_time": "2024-08-20T03:14:41.081Z"
   },
   {
    "duration": 5,
    "start_time": "2024-08-20T03:16:13.466Z"
   },
   {
    "duration": 158,
    "start_time": "2024-08-20T03:27:40.282Z"
   },
   {
    "duration": 242,
    "start_time": "2024-08-20T03:27:56.082Z"
   },
   {
    "duration": 175,
    "start_time": "2024-08-20T03:28:13.675Z"
   },
   {
    "duration": 6,
    "start_time": "2024-08-20T03:28:30.204Z"
   },
   {
    "duration": 77,
    "start_time": "2024-08-20T05:53:44.605Z"
   },
   {
    "duration": 7,
    "start_time": "2024-08-20T05:53:57.993Z"
   },
   {
    "duration": 19,
    "start_time": "2024-08-20T05:54:12.409Z"
   },
   {
    "duration": 25,
    "start_time": "2024-08-20T05:54:33.324Z"
   },
   {
    "duration": 6,
    "start_time": "2024-08-20T05:54:45.210Z"
   },
   {
    "duration": 8,
    "start_time": "2024-08-20T06:06:57.175Z"
   },
   {
    "duration": 686,
    "start_time": "2024-08-20T06:07:01.946Z"
   },
   {
    "duration": 71,
    "start_time": "2024-08-20T06:07:02.634Z"
   },
   {
    "duration": 13,
    "start_time": "2024-08-20T06:07:02.708Z"
   },
   {
    "duration": 24,
    "start_time": "2024-08-20T06:07:02.723Z"
   },
   {
    "duration": 30,
    "start_time": "2024-08-20T06:07:02.749Z"
   },
   {
    "duration": 27,
    "start_time": "2024-08-20T06:07:02.780Z"
   },
   {
    "duration": 403,
    "start_time": "2024-08-20T06:07:02.809Z"
   },
   {
    "duration": 8,
    "start_time": "2024-08-20T06:07:03.214Z"
   },
   {
    "duration": 14,
    "start_time": "2024-08-20T06:07:03.224Z"
   },
   {
    "duration": 7,
    "start_time": "2024-08-20T06:07:03.254Z"
   },
   {
    "duration": 11,
    "start_time": "2024-08-20T06:07:03.263Z"
   },
   {
    "duration": 5,
    "start_time": "2024-08-20T06:07:03.275Z"
   },
   {
    "duration": 16,
    "start_time": "2024-08-20T06:07:03.283Z"
   },
   {
    "duration": 18,
    "start_time": "2024-08-20T06:07:03.302Z"
   },
   {
    "duration": 34,
    "start_time": "2024-08-20T06:07:03.322Z"
   },
   {
    "duration": 24,
    "start_time": "2024-08-20T06:07:03.357Z"
   },
   {
    "duration": 45,
    "start_time": "2024-08-20T06:07:03.383Z"
   },
   {
    "duration": 6,
    "start_time": "2024-08-20T06:07:03.429Z"
   },
   {
    "duration": 6,
    "start_time": "2024-08-20T06:07:03.437Z"
   },
   {
    "duration": 6,
    "start_time": "2024-08-20T06:07:03.444Z"
   },
   {
    "duration": 9,
    "start_time": "2024-08-20T06:07:03.451Z"
   },
   {
    "duration": 7,
    "start_time": "2024-08-20T06:07:03.461Z"
   },
   {
    "duration": 4,
    "start_time": "2024-08-20T06:07:03.469Z"
   },
   {
    "duration": 22,
    "start_time": "2024-08-20T06:07:03.475Z"
   },
   {
    "duration": 6,
    "start_time": "2024-08-20T06:07:03.498Z"
   },
   {
    "duration": 185,
    "start_time": "2024-08-20T06:07:03.505Z"
   },
   {
    "duration": 6,
    "start_time": "2024-08-20T06:07:03.692Z"
   },
   {
    "duration": 49,
    "start_time": "2024-08-20T06:07:03.700Z"
   },
   {
    "duration": 8,
    "start_time": "2024-08-20T06:07:51.703Z"
   },
   {
    "duration": 610,
    "start_time": "2024-08-20T06:07:55.484Z"
   },
   {
    "duration": 71,
    "start_time": "2024-08-20T06:07:56.096Z"
   },
   {
    "duration": 11,
    "start_time": "2024-08-20T06:07:56.168Z"
   },
   {
    "duration": 11,
    "start_time": "2024-08-20T06:07:56.181Z"
   },
   {
    "duration": 14,
    "start_time": "2024-08-20T06:07:56.194Z"
   },
   {
    "duration": 13,
    "start_time": "2024-08-20T06:07:56.210Z"
   },
   {
    "duration": 403,
    "start_time": "2024-08-20T06:07:56.224Z"
   },
   {
    "duration": 7,
    "start_time": "2024-08-20T06:07:56.628Z"
   },
   {
    "duration": 78,
    "start_time": "2024-08-20T06:07:56.637Z"
   },
   {
    "duration": 11,
    "start_time": "2024-08-20T06:07:56.717Z"
   },
   {
    "duration": 12,
    "start_time": "2024-08-20T06:07:56.730Z"
   },
   {
    "duration": 5,
    "start_time": "2024-08-20T06:07:56.745Z"
   },
   {
    "duration": 9,
    "start_time": "2024-08-20T06:07:56.752Z"
   },
   {
    "duration": 6,
    "start_time": "2024-08-20T06:07:56.765Z"
   },
   {
    "duration": 7,
    "start_time": "2024-08-20T06:07:56.772Z"
   },
   {
    "duration": 12,
    "start_time": "2024-08-20T06:07:56.781Z"
   },
   {
    "duration": 6,
    "start_time": "2024-08-20T06:07:56.795Z"
   },
   {
    "duration": 5,
    "start_time": "2024-08-20T06:07:56.802Z"
   },
   {
    "duration": 45,
    "start_time": "2024-08-20T06:07:56.808Z"
   },
   {
    "duration": 6,
    "start_time": "2024-08-20T06:07:56.855Z"
   },
   {
    "duration": 7,
    "start_time": "2024-08-20T06:07:56.863Z"
   },
   {
    "duration": 10,
    "start_time": "2024-08-20T06:07:56.871Z"
   },
   {
    "duration": 5,
    "start_time": "2024-08-20T06:07:56.883Z"
   },
   {
    "duration": 6,
    "start_time": "2024-08-20T06:07:56.890Z"
   },
   {
    "duration": 6,
    "start_time": "2024-08-20T06:07:56.898Z"
   },
   {
    "duration": 204,
    "start_time": "2024-08-20T06:07:56.905Z"
   },
   {
    "duration": 6,
    "start_time": "2024-08-20T06:07:57.111Z"
   },
   {
    "duration": 6,
    "start_time": "2024-08-20T06:07:57.119Z"
   },
   {
    "duration": 11,
    "start_time": "2024-08-20T06:25:16.450Z"
   },
   {
    "duration": 12,
    "start_time": "2024-08-20T06:25:32.040Z"
   },
   {
    "duration": 9,
    "start_time": "2024-08-20T06:25:51.584Z"
   },
   {
    "duration": 8,
    "start_time": "2024-08-20T06:25:56.970Z"
   },
   {
    "duration": 7,
    "start_time": "2024-08-20T06:26:03.015Z"
   },
   {
    "duration": 4,
    "start_time": "2024-08-20T06:26:08.999Z"
   },
   {
    "duration": 6,
    "start_time": "2024-08-20T06:27:19.370Z"
   },
   {
    "duration": 81,
    "start_time": "2024-08-20T07:31:30.137Z"
   },
   {
    "duration": 23,
    "start_time": "2024-08-20T07:31:42.633Z"
   },
   {
    "duration": 6,
    "start_time": "2024-08-20T07:32:05.633Z"
   },
   {
    "duration": 7,
    "start_time": "2024-08-20T07:33:12.056Z"
   },
   {
    "duration": 167,
    "start_time": "2024-08-20T08:52:40.529Z"
   },
   {
    "duration": 7,
    "start_time": "2024-08-20T08:55:52.578Z"
   },
   {
    "duration": 7,
    "start_time": "2024-08-20T08:58:42.754Z"
   },
   {
    "duration": 14,
    "start_time": "2024-08-20T09:00:16.665Z"
   },
   {
    "duration": 169,
    "start_time": "2024-08-20T09:00:22.355Z"
   },
   {
    "duration": 82,
    "start_time": "2024-08-20T09:00:26.203Z"
   },
   {
    "duration": 90,
    "start_time": "2024-08-20T09:00:54.907Z"
   },
   {
    "duration": 6,
    "start_time": "2024-08-20T09:03:12.539Z"
   },
   {
    "duration": 6,
    "start_time": "2024-08-20T09:03:30.140Z"
   },
   {
    "duration": 10,
    "start_time": "2024-08-20T09:03:37.426Z"
   },
   {
    "duration": 7,
    "start_time": "2024-08-20T09:03:43.395Z"
   },
   {
    "duration": 79,
    "start_time": "2024-08-20T09:04:03.684Z"
   },
   {
    "duration": 3,
    "start_time": "2024-08-20T09:04:08.227Z"
   },
   {
    "duration": 4,
    "start_time": "2024-08-20T09:04:12.835Z"
   },
   {
    "duration": 6,
    "start_time": "2024-08-20T09:04:30.004Z"
   },
   {
    "duration": 6,
    "start_time": "2024-08-20T09:05:28.349Z"
   },
   {
    "duration": 3,
    "start_time": "2024-08-20T09:05:34.984Z"
   },
   {
    "duration": 4,
    "start_time": "2024-08-20T09:05:39.596Z"
   },
   {
    "duration": 531,
    "start_time": "2024-08-20T09:05:56.725Z"
   },
   {
    "duration": 1054,
    "start_time": "2024-08-20T09:06:03.064Z"
   },
   {
    "duration": 94,
    "start_time": "2024-08-20T09:06:21.087Z"
   },
   {
    "duration": 70,
    "start_time": "2024-08-20T09:06:57.342Z"
   },
   {
    "duration": 90,
    "start_time": "2024-08-20T09:07:03.277Z"
   },
   {
    "duration": 99,
    "start_time": "2024-08-20T09:07:25.830Z"
   },
   {
    "duration": 625,
    "start_time": "2024-08-20T09:08:45.114Z"
   },
   {
    "duration": 72,
    "start_time": "2024-08-20T09:08:45.741Z"
   },
   {
    "duration": 11,
    "start_time": "2024-08-20T09:08:45.815Z"
   },
   {
    "duration": 19,
    "start_time": "2024-08-20T09:08:45.827Z"
   },
   {
    "duration": 11,
    "start_time": "2024-08-20T09:08:45.848Z"
   },
   {
    "duration": 21,
    "start_time": "2024-08-20T09:08:45.860Z"
   },
   {
    "duration": 386,
    "start_time": "2024-08-20T09:08:45.883Z"
   },
   {
    "duration": 7,
    "start_time": "2024-08-20T09:08:46.271Z"
   },
   {
    "duration": 16,
    "start_time": "2024-08-20T09:08:46.280Z"
   },
   {
    "duration": 13,
    "start_time": "2024-08-20T09:08:46.298Z"
   },
   {
    "duration": 15,
    "start_time": "2024-08-20T09:08:46.313Z"
   },
   {
    "duration": 6,
    "start_time": "2024-08-20T09:08:46.329Z"
   },
   {
    "duration": 26,
    "start_time": "2024-08-20T09:08:46.337Z"
   },
   {
    "duration": 60,
    "start_time": "2024-08-20T09:08:46.366Z"
   },
   {
    "duration": 11,
    "start_time": "2024-08-20T09:08:46.428Z"
   },
   {
    "duration": 7,
    "start_time": "2024-08-20T09:08:46.441Z"
   },
   {
    "duration": 6,
    "start_time": "2024-08-20T09:08:46.450Z"
   },
   {
    "duration": 14,
    "start_time": "2024-08-20T09:08:46.458Z"
   },
   {
    "duration": 6,
    "start_time": "2024-08-20T09:08:46.474Z"
   },
   {
    "duration": 9,
    "start_time": "2024-08-20T09:08:46.482Z"
   },
   {
    "duration": 8,
    "start_time": "2024-08-20T09:08:46.492Z"
   },
   {
    "duration": 10,
    "start_time": "2024-08-20T09:08:46.502Z"
   },
   {
    "duration": 6,
    "start_time": "2024-08-20T09:08:46.514Z"
   },
   {
    "duration": 6,
    "start_time": "2024-08-20T09:08:46.521Z"
   },
   {
    "duration": 170,
    "start_time": "2024-08-20T09:08:46.554Z"
   },
   {
    "duration": 108,
    "start_time": "2024-08-20T09:08:46.726Z"
   },
   {
    "duration": 8,
    "start_time": "2024-08-20T09:10:06.103Z"
   },
   {
    "duration": 6,
    "start_time": "2024-08-20T09:10:21.598Z"
   },
   {
    "duration": 4,
    "start_time": "2024-08-20T09:10:31.216Z"
   },
   {
    "duration": 212,
    "start_time": "2024-08-20T09:10:43.336Z"
   },
   {
    "duration": 177,
    "start_time": "2024-08-20T09:10:57.755Z"
   },
   {
    "duration": 182,
    "start_time": "2024-08-20T09:11:06.275Z"
   },
   {
    "duration": 174,
    "start_time": "2024-08-20T09:11:26.660Z"
   },
   {
    "duration": 79,
    "start_time": "2024-08-20T09:11:43.432Z"
   },
   {
    "duration": 9,
    "start_time": "2024-08-20T09:11:46.849Z"
   },
   {
    "duration": 8,
    "start_time": "2024-08-20T09:11:51.858Z"
   },
   {
    "duration": 8,
    "start_time": "2024-08-20T09:13:41.860Z"
   },
   {
    "duration": 163,
    "start_time": "2024-08-20T09:14:20.121Z"
   },
   {
    "duration": 15,
    "start_time": "2024-08-20T09:16:05.739Z"
   },
   {
    "duration": 16,
    "start_time": "2024-08-20T09:16:08.249Z"
   },
   {
    "duration": 14,
    "start_time": "2024-08-20T09:16:26.651Z"
   },
   {
    "duration": 215,
    "start_time": "2024-08-20T09:16:46.531Z"
   },
   {
    "duration": 185,
    "start_time": "2024-08-20T09:21:31.781Z"
   },
   {
    "duration": 183,
    "start_time": "2024-08-20T09:21:56.431Z"
   },
   {
    "duration": 134,
    "start_time": "2024-08-20T09:22:22.222Z"
   },
   {
    "duration": 102,
    "start_time": "2024-08-20T09:22:31.390Z"
   },
   {
    "duration": 5,
    "start_time": "2024-08-20T09:26:53.041Z"
   },
   {
    "duration": 9,
    "start_time": "2024-08-20T09:27:16.623Z"
   },
   {
    "duration": 4,
    "start_time": "2024-08-20T09:27:39.520Z"
   },
   {
    "duration": 8,
    "start_time": "2024-08-20T09:27:41.497Z"
   },
   {
    "duration": 10,
    "start_time": "2024-08-20T09:27:54.128Z"
   },
   {
    "duration": 104,
    "start_time": "2024-08-20T09:28:42.089Z"
   },
   {
    "duration": 6,
    "start_time": "2024-08-20T09:28:56.625Z"
   },
   {
    "duration": 6,
    "start_time": "2024-08-20T09:29:47.585Z"
   },
   {
    "duration": 662,
    "start_time": "2024-08-20T09:29:53.792Z"
   },
   {
    "duration": 73,
    "start_time": "2024-08-20T09:29:54.456Z"
   },
   {
    "duration": 13,
    "start_time": "2024-08-20T09:29:54.531Z"
   },
   {
    "duration": 12,
    "start_time": "2024-08-20T09:29:54.545Z"
   },
   {
    "duration": 10,
    "start_time": "2024-08-20T09:29:54.559Z"
   },
   {
    "duration": 21,
    "start_time": "2024-08-20T09:29:54.571Z"
   },
   {
    "duration": 404,
    "start_time": "2024-08-20T09:29:54.594Z"
   },
   {
    "duration": 9,
    "start_time": "2024-08-20T09:29:54.999Z"
   },
   {
    "duration": 14,
    "start_time": "2024-08-20T09:29:55.010Z"
   },
   {
    "duration": 11,
    "start_time": "2024-08-20T09:29:55.026Z"
   },
   {
    "duration": 11,
    "start_time": "2024-08-20T09:29:55.052Z"
   },
   {
    "duration": 5,
    "start_time": "2024-08-20T09:29:55.065Z"
   },
   {
    "duration": 20,
    "start_time": "2024-08-20T09:29:55.071Z"
   },
   {
    "duration": 9,
    "start_time": "2024-08-20T09:29:55.094Z"
   },
   {
    "duration": 12,
    "start_time": "2024-08-20T09:29:55.104Z"
   },
   {
    "duration": 7,
    "start_time": "2024-08-20T09:29:55.118Z"
   },
   {
    "duration": 27,
    "start_time": "2024-08-20T09:29:55.126Z"
   },
   {
    "duration": 7,
    "start_time": "2024-08-20T09:29:55.155Z"
   },
   {
    "duration": 16,
    "start_time": "2024-08-20T09:29:55.164Z"
   },
   {
    "duration": 7,
    "start_time": "2024-08-20T09:29:55.181Z"
   },
   {
    "duration": 10,
    "start_time": "2024-08-20T09:29:55.190Z"
   },
   {
    "duration": 5,
    "start_time": "2024-08-20T09:29:55.202Z"
   },
   {
    "duration": 9,
    "start_time": "2024-08-20T09:29:55.209Z"
   },
   {
    "duration": 35,
    "start_time": "2024-08-20T09:29:55.220Z"
   },
   {
    "duration": 191,
    "start_time": "2024-08-20T09:29:55.256Z"
   },
   {
    "duration": 111,
    "start_time": "2024-08-20T09:29:55.448Z"
   },
   {
    "duration": 266,
    "start_time": "2024-08-20T09:29:55.561Z"
   },
   {
    "duration": 5,
    "start_time": "2024-08-20T09:30:33.434Z"
   },
   {
    "duration": 7,
    "start_time": "2024-08-20T09:30:41.313Z"
   },
   {
    "duration": 73,
    "start_time": "2024-08-20T09:30:59.401Z"
   },
   {
    "duration": 8,
    "start_time": "2024-08-20T09:31:03.846Z"
   },
   {
    "duration": 868,
    "start_time": "2024-08-20T09:32:09.202Z"
   },
   {
    "duration": 73,
    "start_time": "2024-08-20T09:32:10.072Z"
   },
   {
    "duration": 12,
    "start_time": "2024-08-20T09:32:10.147Z"
   },
   {
    "duration": 12,
    "start_time": "2024-08-20T09:32:10.161Z"
   },
   {
    "duration": 10,
    "start_time": "2024-08-20T09:32:10.176Z"
   },
   {
    "duration": 14,
    "start_time": "2024-08-20T09:32:10.188Z"
   },
   {
    "duration": 442,
    "start_time": "2024-08-20T09:32:10.205Z"
   },
   {
    "duration": 10,
    "start_time": "2024-08-20T09:32:10.649Z"
   },
   {
    "duration": 22,
    "start_time": "2024-08-20T09:32:10.661Z"
   },
   {
    "duration": 22,
    "start_time": "2024-08-20T09:32:10.685Z"
   },
   {
    "duration": 19,
    "start_time": "2024-08-20T09:32:10.711Z"
   },
   {
    "duration": 5,
    "start_time": "2024-08-20T09:32:10.732Z"
   },
   {
    "duration": 14,
    "start_time": "2024-08-20T09:32:10.739Z"
   },
   {
    "duration": 6,
    "start_time": "2024-08-20T09:32:10.756Z"
   },
   {
    "duration": 13,
    "start_time": "2024-08-20T09:32:10.764Z"
   },
   {
    "duration": 17,
    "start_time": "2024-08-20T09:32:10.778Z"
   },
   {
    "duration": 7,
    "start_time": "2024-08-20T09:32:10.797Z"
   },
   {
    "duration": 7,
    "start_time": "2024-08-20T09:32:10.805Z"
   },
   {
    "duration": 7,
    "start_time": "2024-08-20T09:32:10.814Z"
   },
   {
    "duration": 31,
    "start_time": "2024-08-20T09:32:10.823Z"
   },
   {
    "duration": 16,
    "start_time": "2024-08-20T09:32:10.856Z"
   },
   {
    "duration": 5,
    "start_time": "2024-08-20T09:32:10.874Z"
   },
   {
    "duration": 19,
    "start_time": "2024-08-20T09:32:10.881Z"
   },
   {
    "duration": 6,
    "start_time": "2024-08-20T09:32:10.902Z"
   },
   {
    "duration": 197,
    "start_time": "2024-08-20T09:32:10.910Z"
   },
   {
    "duration": 118,
    "start_time": "2024-08-20T09:32:11.108Z"
   },
   {
    "duration": 268,
    "start_time": "2024-08-20T09:32:11.227Z"
   },
   {
    "duration": 4,
    "start_time": "2024-08-20T09:32:11.497Z"
   },
   {
    "duration": 16,
    "start_time": "2024-08-20T09:32:11.502Z"
   },
   {
    "duration": 20,
    "start_time": "2024-08-20T09:32:11.520Z"
   },
   {
    "duration": 111,
    "start_time": "2024-08-20T09:32:36.331Z"
   },
   {
    "duration": 190,
    "start_time": "2024-08-20T09:32:59.972Z"
   },
   {
    "duration": 178,
    "start_time": "2024-08-20T09:33:07.008Z"
   },
   {
    "duration": 101,
    "start_time": "2024-08-20T09:33:38.591Z"
   },
   {
    "duration": 139,
    "start_time": "2024-08-20T09:34:14.993Z"
   },
   {
    "duration": 124,
    "start_time": "2024-08-20T09:34:24.104Z"
   },
   {
    "duration": 137,
    "start_time": "2024-08-20T09:34:34.948Z"
   },
   {
    "duration": 175,
    "start_time": "2024-08-20T09:36:47.410Z"
   },
   {
    "duration": 73,
    "start_time": "2024-08-20T09:39:47.268Z"
   },
   {
    "duration": 65,
    "start_time": "2024-08-20T09:39:53.850Z"
   },
   {
    "duration": 83,
    "start_time": "2024-08-20T09:40:12.849Z"
   },
   {
    "duration": 72,
    "start_time": "2024-08-20T09:40:27.017Z"
   },
   {
    "duration": 63,
    "start_time": "2024-08-20T09:40:31.246Z"
   },
   {
    "duration": 182,
    "start_time": "2024-08-20T09:40:39.060Z"
   },
   {
    "duration": 254,
    "start_time": "2024-08-20T09:40:43.192Z"
   },
   {
    "duration": 374,
    "start_time": "2024-08-20T09:41:01.502Z"
   },
   {
    "duration": 211,
    "start_time": "2024-08-20T09:41:18.502Z"
   },
   {
    "duration": 105,
    "start_time": "2024-08-20T09:41:39.005Z"
   },
   {
    "duration": 248,
    "start_time": "2024-08-20T09:41:46.454Z"
   },
   {
    "duration": 179,
    "start_time": "2024-08-20T09:41:54.833Z"
   },
   {
    "duration": 178,
    "start_time": "2024-08-20T09:42:02.675Z"
   },
   {
    "duration": 220,
    "start_time": "2024-08-20T09:42:17.632Z"
   },
   {
    "duration": 149,
    "start_time": "2024-08-20T09:42:31.399Z"
   },
   {
    "duration": 151,
    "start_time": "2024-08-20T09:42:40.073Z"
   },
   {
    "duration": 8,
    "start_time": "2024-08-20T09:46:53.114Z"
   },
   {
    "duration": 4,
    "start_time": "2024-08-20T09:46:55.881Z"
   },
   {
    "duration": 5,
    "start_time": "2024-08-20T09:46:56.667Z"
   },
   {
    "duration": 4,
    "start_time": "2024-08-20T09:47:07.906Z"
   },
   {
    "duration": 5,
    "start_time": "2024-08-20T09:47:11.515Z"
   },
   {
    "duration": 271,
    "start_time": "2024-08-20T09:47:40.194Z"
   },
   {
    "duration": 233,
    "start_time": "2024-08-20T09:47:50.420Z"
   },
   {
    "duration": 217,
    "start_time": "2024-08-20T09:47:59.027Z"
   },
   {
    "duration": 6,
    "start_time": "2024-08-20T09:48:42.315Z"
   },
   {
    "duration": 8,
    "start_time": "2024-08-20T09:48:44.178Z"
   },
   {
    "duration": 667,
    "start_time": "2024-08-20T09:49:23.356Z"
   },
   {
    "duration": 72,
    "start_time": "2024-08-20T09:49:24.025Z"
   },
   {
    "duration": 11,
    "start_time": "2024-08-20T09:49:24.099Z"
   },
   {
    "duration": 20,
    "start_time": "2024-08-20T09:49:24.112Z"
   },
   {
    "duration": 8,
    "start_time": "2024-08-20T09:49:24.135Z"
   },
   {
    "duration": 15,
    "start_time": "2024-08-20T09:49:24.145Z"
   },
   {
    "duration": 408,
    "start_time": "2024-08-20T09:49:24.161Z"
   },
   {
    "duration": 7,
    "start_time": "2024-08-20T09:49:24.571Z"
   },
   {
    "duration": 30,
    "start_time": "2024-08-20T09:49:24.580Z"
   },
   {
    "duration": 8,
    "start_time": "2024-08-20T09:49:24.612Z"
   },
   {
    "duration": 12,
    "start_time": "2024-08-20T09:49:24.622Z"
   },
   {
    "duration": 20,
    "start_time": "2024-08-20T09:49:24.635Z"
   },
   {
    "duration": 9,
    "start_time": "2024-08-20T09:49:24.657Z"
   },
   {
    "duration": 5,
    "start_time": "2024-08-20T09:49:24.669Z"
   },
   {
    "duration": 5,
    "start_time": "2024-08-20T09:49:24.676Z"
   },
   {
    "duration": 8,
    "start_time": "2024-08-20T09:49:24.683Z"
   },
   {
    "duration": 5,
    "start_time": "2024-08-20T09:49:24.692Z"
   },
   {
    "duration": 6,
    "start_time": "2024-08-20T09:49:24.699Z"
   },
   {
    "duration": 6,
    "start_time": "2024-08-20T09:49:24.707Z"
   },
   {
    "duration": 62,
    "start_time": "2024-08-20T09:49:24.714Z"
   },
   {
    "duration": 9,
    "start_time": "2024-08-20T09:49:24.777Z"
   },
   {
    "duration": 5,
    "start_time": "2024-08-20T09:49:24.787Z"
   },
   {
    "duration": 7,
    "start_time": "2024-08-20T09:49:24.794Z"
   },
   {
    "duration": 7,
    "start_time": "2024-08-20T09:49:24.803Z"
   },
   {
    "duration": 212,
    "start_time": "2024-08-20T09:49:24.812Z"
   },
   {
    "duration": 105,
    "start_time": "2024-08-20T09:49:25.026Z"
   },
   {
    "duration": 285,
    "start_time": "2024-08-20T09:49:25.132Z"
   },
   {
    "duration": 166,
    "start_time": "2024-08-20T09:49:25.419Z"
   },
   {
    "duration": 78,
    "start_time": "2024-08-20T09:49:25.587Z"
   },
   {
    "duration": 0,
    "start_time": "2024-08-20T09:49:25.666Z"
   },
   {
    "duration": 0,
    "start_time": "2024-08-20T09:49:25.668Z"
   },
   {
    "duration": 0,
    "start_time": "2024-08-20T09:49:25.669Z"
   },
   {
    "duration": 0,
    "start_time": "2024-08-20T09:49:25.670Z"
   },
   {
    "duration": 9,
    "start_time": "2024-08-20T09:49:39.660Z"
   },
   {
    "duration": 5,
    "start_time": "2024-08-20T09:50:41.615Z"
   },
   {
    "duration": 6,
    "start_time": "2024-08-20T09:50:53.460Z"
   },
   {
    "duration": 6,
    "start_time": "2024-08-20T09:50:56.987Z"
   },
   {
    "duration": 8,
    "start_time": "2024-08-20T09:50:57.436Z"
   },
   {
    "duration": 647,
    "start_time": "2024-08-20T09:51:24.472Z"
   },
   {
    "duration": 71,
    "start_time": "2024-08-20T09:51:25.121Z"
   },
   {
    "duration": 12,
    "start_time": "2024-08-20T09:51:25.193Z"
   },
   {
    "duration": 10,
    "start_time": "2024-08-20T09:51:25.207Z"
   },
   {
    "duration": 8,
    "start_time": "2024-08-20T09:51:25.220Z"
   },
   {
    "duration": 12,
    "start_time": "2024-08-20T09:51:25.229Z"
   },
   {
    "duration": 376,
    "start_time": "2024-08-20T09:51:25.243Z"
   },
   {
    "duration": 8,
    "start_time": "2024-08-20T09:51:25.620Z"
   },
   {
    "duration": 54,
    "start_time": "2024-08-20T09:51:25.629Z"
   },
   {
    "duration": 7,
    "start_time": "2024-08-20T09:51:25.685Z"
   },
   {
    "duration": 10,
    "start_time": "2024-08-20T09:51:25.694Z"
   },
   {
    "duration": 5,
    "start_time": "2024-08-20T09:51:25.707Z"
   },
   {
    "duration": 13,
    "start_time": "2024-08-20T09:51:25.713Z"
   },
   {
    "duration": 10,
    "start_time": "2024-08-20T09:51:25.729Z"
   },
   {
    "duration": 14,
    "start_time": "2024-08-20T09:51:25.740Z"
   },
   {
    "duration": 7,
    "start_time": "2024-08-20T09:51:25.755Z"
   },
   {
    "duration": 5,
    "start_time": "2024-08-20T09:51:25.764Z"
   },
   {
    "duration": 6,
    "start_time": "2024-08-20T09:51:25.771Z"
   },
   {
    "duration": 8,
    "start_time": "2024-08-20T09:51:25.778Z"
   },
   {
    "duration": 7,
    "start_time": "2024-08-20T09:51:25.788Z"
   },
   {
    "duration": 17,
    "start_time": "2024-08-20T09:51:25.796Z"
   },
   {
    "duration": 5,
    "start_time": "2024-08-20T09:51:25.815Z"
   },
   {
    "duration": 33,
    "start_time": "2024-08-20T09:51:25.821Z"
   },
   {
    "duration": 7,
    "start_time": "2024-08-20T09:51:25.856Z"
   },
   {
    "duration": 191,
    "start_time": "2024-08-20T09:51:25.864Z"
   },
   {
    "duration": 108,
    "start_time": "2024-08-20T09:51:26.057Z"
   },
   {
    "duration": 312,
    "start_time": "2024-08-20T09:51:26.167Z"
   },
   {
    "duration": 175,
    "start_time": "2024-08-20T09:51:26.481Z"
   },
   {
    "duration": 5,
    "start_time": "2024-08-20T09:51:26.657Z"
   },
   {
    "duration": 6,
    "start_time": "2024-08-20T09:51:26.664Z"
   },
   {
    "duration": 8,
    "start_time": "2024-08-20T09:51:26.672Z"
   },
   {
    "duration": 6,
    "start_time": "2024-08-20T09:53:52.820Z"
   },
   {
    "duration": 663,
    "start_time": "2024-08-20T09:54:08.850Z"
   },
   {
    "duration": 73,
    "start_time": "2024-08-20T09:54:09.516Z"
   },
   {
    "duration": 13,
    "start_time": "2024-08-20T09:54:09.591Z"
   },
   {
    "duration": 13,
    "start_time": "2024-08-20T09:54:09.605Z"
   },
   {
    "duration": 35,
    "start_time": "2024-08-20T09:54:09.620Z"
   },
   {
    "duration": 30,
    "start_time": "2024-08-20T09:54:09.656Z"
   },
   {
    "duration": 389,
    "start_time": "2024-08-20T09:54:09.688Z"
   },
   {
    "duration": 7,
    "start_time": "2024-08-20T09:54:10.079Z"
   },
   {
    "duration": 13,
    "start_time": "2024-08-20T09:54:10.087Z"
   },
   {
    "duration": 13,
    "start_time": "2024-08-20T09:54:10.102Z"
   },
   {
    "duration": 10,
    "start_time": "2024-08-20T09:54:10.117Z"
   },
   {
    "duration": 28,
    "start_time": "2024-08-20T09:54:10.129Z"
   },
   {
    "duration": 10,
    "start_time": "2024-08-20T09:54:10.158Z"
   },
   {
    "duration": 5,
    "start_time": "2024-08-20T09:54:10.171Z"
   },
   {
    "duration": 5,
    "start_time": "2024-08-20T09:54:10.178Z"
   },
   {
    "duration": 5,
    "start_time": "2024-08-20T09:54:10.185Z"
   },
   {
    "duration": 6,
    "start_time": "2024-08-20T09:54:10.191Z"
   },
   {
    "duration": 28,
    "start_time": "2024-08-20T09:54:10.198Z"
   },
   {
    "duration": 28,
    "start_time": "2024-08-20T09:54:10.228Z"
   },
   {
    "duration": 7,
    "start_time": "2024-08-20T09:54:10.257Z"
   },
   {
    "duration": 12,
    "start_time": "2024-08-20T09:54:10.265Z"
   },
   {
    "duration": 5,
    "start_time": "2024-08-20T09:54:10.279Z"
   },
   {
    "duration": 9,
    "start_time": "2024-08-20T09:54:10.286Z"
   },
   {
    "duration": 6,
    "start_time": "2024-08-20T09:54:10.297Z"
   },
   {
    "duration": 205,
    "start_time": "2024-08-20T09:54:10.305Z"
   },
   {
    "duration": 103,
    "start_time": "2024-08-20T09:54:10.512Z"
   },
   {
    "duration": 293,
    "start_time": "2024-08-20T09:54:10.617Z"
   },
   {
    "duration": 176,
    "start_time": "2024-08-20T09:54:10.912Z"
   },
   {
    "duration": 5,
    "start_time": "2024-08-20T09:54:11.090Z"
   },
   {
    "duration": 10,
    "start_time": "2024-08-20T09:54:11.097Z"
   },
   {
    "duration": 9,
    "start_time": "2024-08-20T09:54:11.109Z"
   },
   {
    "duration": 73,
    "start_time": "2024-08-20T09:56:59.677Z"
   },
   {
    "duration": 15,
    "start_time": "2024-08-20T09:57:03.831Z"
   },
   {
    "duration": 19,
    "start_time": "2024-08-20T09:58:18.178Z"
   },
   {
    "duration": 6,
    "start_time": "2024-08-20T10:02:49.993Z"
   },
   {
    "duration": 150,
    "start_time": "2024-08-20T10:02:58.722Z"
   },
   {
    "duration": 197,
    "start_time": "2024-08-20T10:04:15.218Z"
   },
   {
    "duration": 159,
    "start_time": "2024-08-20T10:04:28.018Z"
   },
   {
    "duration": 207,
    "start_time": "2024-08-20T10:04:43.314Z"
   },
   {
    "duration": 202,
    "start_time": "2024-08-20T10:05:29.438Z"
   },
   {
    "duration": 213,
    "start_time": "2024-08-20T10:05:40.331Z"
   },
   {
    "duration": 10,
    "start_time": "2024-08-20T10:06:24.578Z"
   },
   {
    "duration": 8,
    "start_time": "2024-08-20T10:06:54.766Z"
   },
   {
    "duration": 5,
    "start_time": "2024-08-20T10:07:02.844Z"
   },
   {
    "duration": 149,
    "start_time": "2024-08-20T10:07:35.940Z"
   },
   {
    "duration": 146,
    "start_time": "2024-08-20T10:08:12.005Z"
   },
   {
    "duration": 202,
    "start_time": "2024-08-20T10:09:23.597Z"
   },
   {
    "duration": 261,
    "start_time": "2024-08-20T10:12:10.846Z"
   },
   {
    "duration": 232,
    "start_time": "2024-08-20T10:12:27.254Z"
   },
   {
    "duration": 170,
    "start_time": "2024-08-20T10:12:32.455Z"
   },
   {
    "duration": 1065,
    "start_time": "2024-08-20T10:13:46.120Z"
   },
   {
    "duration": 5,
    "start_time": "2024-08-20T10:13:56.055Z"
   },
   {
    "duration": 202,
    "start_time": "2024-08-20T10:14:51.720Z"
   },
   {
    "duration": 5,
    "start_time": "2024-08-20T10:15:11.816Z"
   },
   {
    "duration": 642,
    "start_time": "2024-08-20T10:15:18.908Z"
   },
   {
    "duration": 72,
    "start_time": "2024-08-20T10:15:19.552Z"
   },
   {
    "duration": 11,
    "start_time": "2024-08-20T10:15:19.626Z"
   },
   {
    "duration": 13,
    "start_time": "2024-08-20T10:15:19.639Z"
   },
   {
    "duration": 14,
    "start_time": "2024-08-20T10:15:19.654Z"
   },
   {
    "duration": 32,
    "start_time": "2024-08-20T10:15:19.670Z"
   },
   {
    "duration": 398,
    "start_time": "2024-08-20T10:15:19.705Z"
   },
   {
    "duration": 6,
    "start_time": "2024-08-20T10:15:20.105Z"
   },
   {
    "duration": 9,
    "start_time": "2024-08-20T10:15:20.113Z"
   },
   {
    "duration": 6,
    "start_time": "2024-08-20T10:15:20.125Z"
   },
   {
    "duration": 28,
    "start_time": "2024-08-20T10:15:20.132Z"
   },
   {
    "duration": 26,
    "start_time": "2024-08-20T10:15:20.161Z"
   },
   {
    "duration": 9,
    "start_time": "2024-08-20T10:15:20.188Z"
   },
   {
    "duration": 20,
    "start_time": "2024-08-20T10:15:20.199Z"
   },
   {
    "duration": 10,
    "start_time": "2024-08-20T10:15:20.221Z"
   },
   {
    "duration": 21,
    "start_time": "2024-08-20T10:15:20.233Z"
   },
   {
    "duration": 29,
    "start_time": "2024-08-20T10:15:20.256Z"
   },
   {
    "duration": 7,
    "start_time": "2024-08-20T10:15:20.287Z"
   },
   {
    "duration": 6,
    "start_time": "2024-08-20T10:15:20.296Z"
   },
   {
    "duration": 8,
    "start_time": "2024-08-20T10:15:20.304Z"
   },
   {
    "duration": 8,
    "start_time": "2024-08-20T10:15:20.314Z"
   },
   {
    "duration": 19,
    "start_time": "2024-08-20T10:15:20.324Z"
   },
   {
    "duration": 11,
    "start_time": "2024-08-20T10:15:20.345Z"
   },
   {
    "duration": 8,
    "start_time": "2024-08-20T10:15:20.357Z"
   },
   {
    "duration": 205,
    "start_time": "2024-08-20T10:15:20.366Z"
   },
   {
    "duration": 112,
    "start_time": "2024-08-20T10:15:20.573Z"
   },
   {
    "duration": 312,
    "start_time": "2024-08-20T10:15:20.687Z"
   },
   {
    "duration": 181,
    "start_time": "2024-08-20T10:15:21.004Z"
   },
   {
    "duration": 6,
    "start_time": "2024-08-20T10:15:21.188Z"
   },
   {
    "duration": 8,
    "start_time": "2024-08-20T10:15:21.195Z"
   },
   {
    "duration": 8,
    "start_time": "2024-08-20T10:15:21.205Z"
   },
   {
    "duration": 251,
    "start_time": "2024-08-20T10:15:21.215Z"
   },
   {
    "duration": 176,
    "start_time": "2024-08-20T10:15:21.467Z"
   },
   {
    "duration": 12,
    "start_time": "2024-08-20T10:15:21.645Z"
   },
   {
    "duration": 7,
    "start_time": "2024-08-20T10:16:47.512Z"
   },
   {
    "duration": 219,
    "start_time": "2024-08-20T10:17:07.153Z"
   },
   {
    "duration": 659,
    "start_time": "2024-08-20T10:18:04.113Z"
   },
   {
    "duration": 73,
    "start_time": "2024-08-20T10:18:04.774Z"
   },
   {
    "duration": 13,
    "start_time": "2024-08-20T10:18:04.849Z"
   },
   {
    "duration": 38,
    "start_time": "2024-08-20T10:18:04.864Z"
   },
   {
    "duration": 10,
    "start_time": "2024-08-20T10:18:04.905Z"
   },
   {
    "duration": 27,
    "start_time": "2024-08-20T10:18:04.917Z"
   },
   {
    "duration": 400,
    "start_time": "2024-08-20T10:18:04.946Z"
   },
   {
    "duration": 11,
    "start_time": "2024-08-20T10:18:05.348Z"
   },
   {
    "duration": 15,
    "start_time": "2024-08-20T10:18:05.361Z"
   },
   {
    "duration": 21,
    "start_time": "2024-08-20T10:18:05.378Z"
   },
   {
    "duration": 13,
    "start_time": "2024-08-20T10:18:05.401Z"
   },
   {
    "duration": 5,
    "start_time": "2024-08-20T10:18:05.415Z"
   },
   {
    "duration": 32,
    "start_time": "2024-08-20T10:18:05.422Z"
   },
   {
    "duration": 26,
    "start_time": "2024-08-20T10:18:05.458Z"
   },
   {
    "duration": 18,
    "start_time": "2024-08-20T10:18:05.485Z"
   },
   {
    "duration": 8,
    "start_time": "2024-08-20T10:18:05.504Z"
   },
   {
    "duration": 15,
    "start_time": "2024-08-20T10:18:05.514Z"
   },
   {
    "duration": 12,
    "start_time": "2024-08-20T10:18:05.531Z"
   },
   {
    "duration": 10,
    "start_time": "2024-08-20T10:18:05.545Z"
   },
   {
    "duration": 31,
    "start_time": "2024-08-20T10:18:05.557Z"
   },
   {
    "duration": 15,
    "start_time": "2024-08-20T10:18:05.590Z"
   },
   {
    "duration": 5,
    "start_time": "2024-08-20T10:18:05.607Z"
   },
   {
    "duration": 26,
    "start_time": "2024-08-20T10:18:05.614Z"
   },
   {
    "duration": 27,
    "start_time": "2024-08-20T10:18:05.641Z"
   },
   {
    "duration": 222,
    "start_time": "2024-08-20T10:18:05.670Z"
   },
   {
    "duration": 110,
    "start_time": "2024-08-20T10:18:05.893Z"
   },
   {
    "duration": 309,
    "start_time": "2024-08-20T10:18:06.004Z"
   },
   {
    "duration": 171,
    "start_time": "2024-08-20T10:18:06.315Z"
   },
   {
    "duration": 5,
    "start_time": "2024-08-20T10:18:06.487Z"
   },
   {
    "duration": 33,
    "start_time": "2024-08-20T10:18:06.493Z"
   },
   {
    "duration": 21,
    "start_time": "2024-08-20T10:18:06.528Z"
   },
   {
    "duration": 198,
    "start_time": "2024-08-20T10:18:06.551Z"
   },
   {
    "duration": 170,
    "start_time": "2024-08-20T10:18:06.752Z"
   },
   {
    "duration": 6,
    "start_time": "2024-08-20T10:18:06.923Z"
   },
   {
    "duration": 22,
    "start_time": "2024-08-20T10:18:06.931Z"
   },
   {
    "duration": 172,
    "start_time": "2024-08-20T10:18:06.955Z"
   },
   {
    "duration": 660,
    "start_time": "2024-08-20T10:18:23.851Z"
   },
   {
    "duration": 71,
    "start_time": "2024-08-20T10:18:24.513Z"
   },
   {
    "duration": 12,
    "start_time": "2024-08-20T10:18:24.587Z"
   },
   {
    "duration": 10,
    "start_time": "2024-08-20T10:18:24.601Z"
   },
   {
    "duration": 16,
    "start_time": "2024-08-20T10:18:24.613Z"
   },
   {
    "duration": 77,
    "start_time": "2024-08-20T10:18:24.630Z"
   },
   {
    "duration": 391,
    "start_time": "2024-08-20T10:18:24.709Z"
   },
   {
    "duration": 7,
    "start_time": "2024-08-20T10:18:25.101Z"
   },
   {
    "duration": 9,
    "start_time": "2024-08-20T10:18:25.110Z"
   },
   {
    "duration": 7,
    "start_time": "2024-08-20T10:18:25.120Z"
   },
   {
    "duration": 29,
    "start_time": "2024-08-20T10:18:25.128Z"
   },
   {
    "duration": 4,
    "start_time": "2024-08-20T10:18:25.159Z"
   },
   {
    "duration": 9,
    "start_time": "2024-08-20T10:18:25.166Z"
   },
   {
    "duration": 5,
    "start_time": "2024-08-20T10:18:25.176Z"
   },
   {
    "duration": 6,
    "start_time": "2024-08-20T10:18:25.183Z"
   },
   {
    "duration": 5,
    "start_time": "2024-08-20T10:18:25.191Z"
   },
   {
    "duration": 8,
    "start_time": "2024-08-20T10:18:25.198Z"
   },
   {
    "duration": 13,
    "start_time": "2024-08-20T10:18:25.207Z"
   },
   {
    "duration": 6,
    "start_time": "2024-08-20T10:18:25.253Z"
   },
   {
    "duration": 6,
    "start_time": "2024-08-20T10:18:25.261Z"
   },
   {
    "duration": 8,
    "start_time": "2024-08-20T10:18:25.268Z"
   },
   {
    "duration": 5,
    "start_time": "2024-08-20T10:18:25.277Z"
   },
   {
    "duration": 8,
    "start_time": "2024-08-20T10:18:25.283Z"
   },
   {
    "duration": 5,
    "start_time": "2024-08-20T10:18:25.292Z"
   },
   {
    "duration": 201,
    "start_time": "2024-08-20T10:18:25.298Z"
   },
   {
    "duration": 104,
    "start_time": "2024-08-20T10:18:25.501Z"
   },
   {
    "duration": 293,
    "start_time": "2024-08-20T10:18:25.607Z"
   },
   {
    "duration": 170,
    "start_time": "2024-08-20T10:18:25.902Z"
   },
   {
    "duration": 5,
    "start_time": "2024-08-20T10:18:26.074Z"
   },
   {
    "duration": 7,
    "start_time": "2024-08-20T10:18:26.081Z"
   },
   {
    "duration": 9,
    "start_time": "2024-08-20T10:18:26.090Z"
   },
   {
    "duration": 228,
    "start_time": "2024-08-20T10:18:26.100Z"
   },
   {
    "duration": 172,
    "start_time": "2024-08-20T10:18:26.330Z"
   },
   {
    "duration": 6,
    "start_time": "2024-08-20T10:18:26.504Z"
   },
   {
    "duration": 20,
    "start_time": "2024-08-20T10:18:26.512Z"
   },
   {
    "duration": 159,
    "start_time": "2024-08-20T10:18:26.534Z"
   },
   {
    "duration": 196,
    "start_time": "2024-08-20T10:30:47.564Z"
   },
   {
    "duration": 195,
    "start_time": "2024-08-20T10:31:05.096Z"
   },
   {
    "duration": 137,
    "start_time": "2024-08-20T10:40:42.995Z"
   },
   {
    "duration": 551,
    "start_time": "2024-08-20T11:43:02.802Z"
   },
   {
    "duration": 5,
    "start_time": "2024-08-20T11:43:37.062Z"
   },
   {
    "duration": 7,
    "start_time": "2024-08-20T11:45:33.827Z"
   },
   {
    "duration": 5,
    "start_time": "2024-08-20T11:45:45.436Z"
   },
   {
    "duration": 6,
    "start_time": "2024-08-20T11:46:05.499Z"
   },
   {
    "duration": 8,
    "start_time": "2024-08-20T11:46:13.666Z"
   },
   {
    "duration": 6,
    "start_time": "2024-08-20T11:46:34.652Z"
   },
   {
    "duration": 679,
    "start_time": "2024-08-20T11:46:40.032Z"
   },
   {
    "duration": 73,
    "start_time": "2024-08-20T11:46:40.713Z"
   },
   {
    "duration": 11,
    "start_time": "2024-08-20T11:46:40.787Z"
   },
   {
    "duration": 28,
    "start_time": "2024-08-20T11:46:40.799Z"
   },
   {
    "duration": 9,
    "start_time": "2024-08-20T11:46:40.829Z"
   },
   {
    "duration": 14,
    "start_time": "2024-08-20T11:46:40.839Z"
   },
   {
    "duration": 407,
    "start_time": "2024-08-20T11:46:40.855Z"
   },
   {
    "duration": 8,
    "start_time": "2024-08-20T11:46:41.264Z"
   },
   {
    "duration": 10,
    "start_time": "2024-08-20T11:46:41.273Z"
   },
   {
    "duration": 7,
    "start_time": "2024-08-20T11:46:41.285Z"
   },
   {
    "duration": 9,
    "start_time": "2024-08-20T11:46:41.294Z"
   },
   {
    "duration": 4,
    "start_time": "2024-08-20T11:46:41.305Z"
   },
   {
    "duration": 10,
    "start_time": "2024-08-20T11:46:41.310Z"
   },
   {
    "duration": 5,
    "start_time": "2024-08-20T11:46:41.356Z"
   },
   {
    "duration": 11,
    "start_time": "2024-08-20T11:46:41.363Z"
   },
   {
    "duration": 10,
    "start_time": "2024-08-20T11:46:41.375Z"
   },
   {
    "duration": 5,
    "start_time": "2024-08-20T11:46:41.387Z"
   },
   {
    "duration": 6,
    "start_time": "2024-08-20T11:46:41.393Z"
   },
   {
    "duration": 5,
    "start_time": "2024-08-20T11:46:41.400Z"
   },
   {
    "duration": 6,
    "start_time": "2024-08-20T11:46:41.407Z"
   },
   {
    "duration": 39,
    "start_time": "2024-08-20T11:46:41.414Z"
   },
   {
    "duration": 5,
    "start_time": "2024-08-20T11:46:41.455Z"
   },
   {
    "duration": 9,
    "start_time": "2024-08-20T11:46:41.461Z"
   },
   {
    "duration": 14,
    "start_time": "2024-08-20T11:46:41.472Z"
   },
   {
    "duration": 176,
    "start_time": "2024-08-20T11:46:41.487Z"
   },
   {
    "duration": 104,
    "start_time": "2024-08-20T11:46:41.664Z"
   },
   {
    "duration": 293,
    "start_time": "2024-08-20T11:46:41.770Z"
   },
   {
    "duration": 181,
    "start_time": "2024-08-20T11:46:42.065Z"
   },
   {
    "duration": 9,
    "start_time": "2024-08-20T11:46:42.247Z"
   },
   {
    "duration": 16,
    "start_time": "2024-08-20T11:46:42.257Z"
   },
   {
    "duration": 7,
    "start_time": "2024-08-20T11:46:42.275Z"
   },
   {
    "duration": 216,
    "start_time": "2024-08-20T11:46:42.284Z"
   },
   {
    "duration": 176,
    "start_time": "2024-08-20T11:46:42.502Z"
   },
   {
    "duration": 5,
    "start_time": "2024-08-20T11:46:42.680Z"
   },
   {
    "duration": 24,
    "start_time": "2024-08-20T11:46:42.687Z"
   },
   {
    "duration": 156,
    "start_time": "2024-08-20T11:46:42.712Z"
   },
   {
    "duration": 205,
    "start_time": "2024-08-20T11:46:42.870Z"
   },
   {
    "duration": 149,
    "start_time": "2024-08-20T11:46:43.076Z"
   },
   {
    "duration": 7,
    "start_time": "2024-08-20T11:46:43.227Z"
   },
   {
    "duration": 6,
    "start_time": "2024-08-20T13:18:04.966Z"
   },
   {
    "duration": 671,
    "start_time": "2024-08-20T13:18:10.238Z"
   },
   {
    "duration": 73,
    "start_time": "2024-08-20T13:18:10.911Z"
   },
   {
    "duration": 11,
    "start_time": "2024-08-20T13:18:10.985Z"
   },
   {
    "duration": 10,
    "start_time": "2024-08-20T13:18:10.998Z"
   },
   {
    "duration": 17,
    "start_time": "2024-08-20T13:18:11.009Z"
   },
   {
    "duration": 22,
    "start_time": "2024-08-20T13:18:11.028Z"
   },
   {
    "duration": 386,
    "start_time": "2024-08-20T13:18:11.052Z"
   },
   {
    "duration": 14,
    "start_time": "2024-08-20T13:18:11.439Z"
   },
   {
    "duration": 41,
    "start_time": "2024-08-20T13:18:11.455Z"
   },
   {
    "duration": 14,
    "start_time": "2024-08-20T13:18:11.499Z"
   },
   {
    "duration": 8,
    "start_time": "2024-08-20T13:18:11.515Z"
   },
   {
    "duration": 10,
    "start_time": "2024-08-20T13:18:11.524Z"
   },
   {
    "duration": 5,
    "start_time": "2024-08-20T13:18:11.536Z"
   },
   {
    "duration": 8,
    "start_time": "2024-08-20T13:18:11.543Z"
   },
   {
    "duration": 16,
    "start_time": "2024-08-20T13:18:11.553Z"
   },
   {
    "duration": 6,
    "start_time": "2024-08-20T13:18:11.571Z"
   },
   {
    "duration": 8,
    "start_time": "2024-08-20T13:18:11.578Z"
   },
   {
    "duration": 7,
    "start_time": "2024-08-20T13:18:11.588Z"
   },
   {
    "duration": 16,
    "start_time": "2024-08-20T13:18:11.597Z"
   },
   {
    "duration": 6,
    "start_time": "2024-08-20T13:18:11.615Z"
   },
   {
    "duration": 47,
    "start_time": "2024-08-20T13:18:11.622Z"
   },
   {
    "duration": 10,
    "start_time": "2024-08-20T13:18:11.671Z"
   },
   {
    "duration": 5,
    "start_time": "2024-08-20T13:18:11.683Z"
   },
   {
    "duration": 13,
    "start_time": "2024-08-20T13:18:11.689Z"
   },
   {
    "duration": 8,
    "start_time": "2024-08-20T13:18:11.704Z"
   },
   {
    "duration": 187,
    "start_time": "2024-08-20T13:18:11.713Z"
   },
   {
    "duration": 115,
    "start_time": "2024-08-20T13:18:11.902Z"
   },
   {
    "duration": 309,
    "start_time": "2024-08-20T13:18:12.021Z"
   },
   {
    "duration": 183,
    "start_time": "2024-08-20T13:18:12.333Z"
   },
   {
    "duration": 7,
    "start_time": "2024-08-20T13:18:12.518Z"
   },
   {
    "duration": 80,
    "start_time": "2024-08-20T13:18:12.527Z"
   },
   {
    "duration": 10,
    "start_time": "2024-08-20T13:18:12.609Z"
   },
   {
    "duration": 204,
    "start_time": "2024-08-20T13:18:12.620Z"
   },
   {
    "duration": 175,
    "start_time": "2024-08-20T13:18:12.825Z"
   },
   {
    "duration": 6,
    "start_time": "2024-08-20T13:18:13.001Z"
   },
   {
    "duration": 52,
    "start_time": "2024-08-20T13:18:13.008Z"
   },
   {
    "duration": 228,
    "start_time": "2024-08-20T13:18:13.061Z"
   },
   {
    "duration": 201,
    "start_time": "2024-08-20T13:18:13.291Z"
   },
   {
    "duration": 155,
    "start_time": "2024-08-20T13:18:13.494Z"
   },
   {
    "duration": 15,
    "start_time": "2024-08-20T13:18:37.903Z"
   },
   {
    "duration": 652,
    "start_time": "2024-08-20T13:23:18.772Z"
   },
   {
    "duration": 70,
    "start_time": "2024-08-20T13:23:19.425Z"
   },
   {
    "duration": 12,
    "start_time": "2024-08-20T13:23:19.497Z"
   },
   {
    "duration": 10,
    "start_time": "2024-08-20T13:23:19.511Z"
   },
   {
    "duration": 9,
    "start_time": "2024-08-20T13:23:19.523Z"
   },
   {
    "duration": 11,
    "start_time": "2024-08-20T13:23:19.533Z"
   },
   {
    "duration": 405,
    "start_time": "2024-08-20T13:23:19.545Z"
   },
   {
    "duration": 7,
    "start_time": "2024-08-20T13:23:19.952Z"
   },
   {
    "duration": 10,
    "start_time": "2024-08-20T13:23:19.961Z"
   },
   {
    "duration": 7,
    "start_time": "2024-08-20T13:23:19.973Z"
   },
   {
    "duration": 10,
    "start_time": "2024-08-20T13:23:19.981Z"
   },
   {
    "duration": 7,
    "start_time": "2024-08-20T13:23:19.992Z"
   },
   {
    "duration": 9,
    "start_time": "2024-08-20T13:23:20.000Z"
   },
   {
    "duration": 45,
    "start_time": "2024-08-20T13:23:20.012Z"
   },
   {
    "duration": 12,
    "start_time": "2024-08-20T13:23:20.058Z"
   },
   {
    "duration": 6,
    "start_time": "2024-08-20T13:23:20.071Z"
   },
   {
    "duration": 4,
    "start_time": "2024-08-20T13:23:20.079Z"
   },
   {
    "duration": 12,
    "start_time": "2024-08-20T13:23:20.085Z"
   },
   {
    "duration": 10,
    "start_time": "2024-08-20T13:23:20.098Z"
   },
   {
    "duration": 12,
    "start_time": "2024-08-20T13:23:20.110Z"
   },
   {
    "duration": 8,
    "start_time": "2024-08-20T13:23:20.123Z"
   },
   {
    "duration": 5,
    "start_time": "2024-08-20T13:23:20.153Z"
   },
   {
    "duration": 7,
    "start_time": "2024-08-20T13:23:20.160Z"
   },
   {
    "duration": 6,
    "start_time": "2024-08-20T13:23:20.169Z"
   },
   {
    "duration": 201,
    "start_time": "2024-08-20T13:23:20.177Z"
   },
   {
    "duration": 110,
    "start_time": "2024-08-20T13:23:20.380Z"
   },
   {
    "duration": 306,
    "start_time": "2024-08-20T13:23:20.492Z"
   },
   {
    "duration": 205,
    "start_time": "2024-08-20T13:23:20.800Z"
   },
   {
    "duration": 6,
    "start_time": "2024-08-20T13:23:21.006Z"
   },
   {
    "duration": 7,
    "start_time": "2024-08-20T13:23:21.013Z"
   },
   {
    "duration": 13,
    "start_time": "2024-08-20T13:23:21.022Z"
   },
   {
    "duration": 234,
    "start_time": "2024-08-20T13:23:21.037Z"
   },
   {
    "duration": 193,
    "start_time": "2024-08-20T13:23:21.273Z"
   },
   {
    "duration": 5,
    "start_time": "2024-08-20T13:23:21.468Z"
   },
   {
    "duration": 19,
    "start_time": "2024-08-20T13:23:21.474Z"
   },
   {
    "duration": 172,
    "start_time": "2024-08-20T13:23:21.495Z"
   },
   {
    "duration": 214,
    "start_time": "2024-08-20T13:23:21.669Z"
   },
   {
    "duration": 153,
    "start_time": "2024-08-20T13:23:21.885Z"
   },
   {
    "duration": 21,
    "start_time": "2024-08-20T13:23:22.039Z"
   },
   {
    "duration": 6,
    "start_time": "2024-08-20T13:24:48.382Z"
   },
   {
    "duration": 76,
    "start_time": "2024-08-20T13:26:42.887Z"
   },
   {
    "duration": 9,
    "start_time": "2024-08-20T13:27:12.437Z"
   },
   {
    "duration": 3,
    "start_time": "2024-08-20T13:28:30.030Z"
   },
   {
    "duration": 6,
    "start_time": "2024-08-20T13:28:33.641Z"
   },
   {
    "duration": 652,
    "start_time": "2024-08-20T13:29:23.691Z"
   },
   {
    "duration": 72,
    "start_time": "2024-08-20T13:29:24.345Z"
   },
   {
    "duration": 12,
    "start_time": "2024-08-20T13:29:24.419Z"
   },
   {
    "duration": 28,
    "start_time": "2024-08-20T13:29:24.432Z"
   },
   {
    "duration": 8,
    "start_time": "2024-08-20T13:29:24.462Z"
   },
   {
    "duration": 11,
    "start_time": "2024-08-20T13:29:24.472Z"
   },
   {
    "duration": 400,
    "start_time": "2024-08-20T13:29:24.485Z"
   },
   {
    "duration": 9,
    "start_time": "2024-08-20T13:29:24.886Z"
   },
   {
    "duration": 18,
    "start_time": "2024-08-20T13:29:24.897Z"
   },
   {
    "duration": 12,
    "start_time": "2024-08-20T13:29:24.917Z"
   },
   {
    "duration": 10,
    "start_time": "2024-08-20T13:29:24.931Z"
   },
   {
    "duration": 5,
    "start_time": "2024-08-20T13:29:24.953Z"
   },
   {
    "duration": 10,
    "start_time": "2024-08-20T13:29:24.959Z"
   },
   {
    "duration": 7,
    "start_time": "2024-08-20T13:29:24.972Z"
   },
   {
    "duration": 7,
    "start_time": "2024-08-20T13:29:24.981Z"
   },
   {
    "duration": 6,
    "start_time": "2024-08-20T13:29:24.989Z"
   },
   {
    "duration": 5,
    "start_time": "2024-08-20T13:29:24.996Z"
   },
   {
    "duration": 12,
    "start_time": "2024-08-20T13:29:25.002Z"
   },
   {
    "duration": 41,
    "start_time": "2024-08-20T13:29:25.016Z"
   },
   {
    "duration": 28,
    "start_time": "2024-08-20T13:29:25.059Z"
   },
   {
    "duration": 71,
    "start_time": "2024-08-20T13:29:25.089Z"
   },
   {
    "duration": 5,
    "start_time": "2024-08-20T13:29:25.161Z"
   },
   {
    "duration": 24,
    "start_time": "2024-08-20T13:29:25.167Z"
   },
   {
    "duration": 6,
    "start_time": "2024-08-20T13:29:25.193Z"
   },
   {
    "duration": 171,
    "start_time": "2024-08-20T13:29:25.200Z"
   },
   {
    "duration": 104,
    "start_time": "2024-08-20T13:29:25.372Z"
   },
   {
    "duration": 298,
    "start_time": "2024-08-20T13:29:25.477Z"
   },
   {
    "duration": 176,
    "start_time": "2024-08-20T13:29:25.777Z"
   },
   {
    "duration": 8,
    "start_time": "2024-08-20T13:29:25.955Z"
   },
   {
    "duration": 6,
    "start_time": "2024-08-20T13:29:25.966Z"
   },
   {
    "duration": 9,
    "start_time": "2024-08-20T13:29:25.974Z"
   },
   {
    "duration": 233,
    "start_time": "2024-08-20T13:29:25.985Z"
   },
   {
    "duration": 181,
    "start_time": "2024-08-20T13:29:26.220Z"
   },
   {
    "duration": 5,
    "start_time": "2024-08-20T13:29:26.403Z"
   },
   {
    "duration": 13,
    "start_time": "2024-08-20T13:29:26.410Z"
   },
   {
    "duration": 174,
    "start_time": "2024-08-20T13:29:26.424Z"
   },
   {
    "duration": 4,
    "start_time": "2024-08-20T13:29:26.600Z"
   },
   {
    "duration": 179,
    "start_time": "2024-08-20T13:29:26.605Z"
   },
   {
    "duration": 132,
    "start_time": "2024-08-20T13:29:26.786Z"
   },
   {
    "duration": 139,
    "start_time": "2024-08-20T13:29:35.935Z"
   },
   {
    "duration": 158,
    "start_time": "2024-08-20T13:31:44.359Z"
   },
   {
    "duration": 147,
    "start_time": "2024-08-20T13:32:04.259Z"
   },
   {
    "duration": 6,
    "start_time": "2024-08-20T13:33:32.820Z"
   },
   {
    "duration": 7,
    "start_time": "2024-08-20T13:34:20.620Z"
   },
   {
    "duration": 136,
    "start_time": "2024-08-20T13:34:24.417Z"
   },
   {
    "duration": 77,
    "start_time": "2024-08-20T13:36:51.157Z"
   },
   {
    "duration": 65,
    "start_time": "2024-08-20T13:36:56.650Z"
   },
   {
    "duration": 183,
    "start_time": "2024-08-20T13:37:15.488Z"
   },
   {
    "duration": 660,
    "start_time": "2024-08-20T13:37:30.971Z"
   },
   {
    "duration": 82,
    "start_time": "2024-08-20T13:37:31.633Z"
   },
   {
    "duration": 21,
    "start_time": "2024-08-20T13:37:31.717Z"
   },
   {
    "duration": 13,
    "start_time": "2024-08-20T13:37:31.741Z"
   },
   {
    "duration": 15,
    "start_time": "2024-08-20T13:37:31.756Z"
   },
   {
    "duration": 28,
    "start_time": "2024-08-20T13:37:31.773Z"
   },
   {
    "duration": 386,
    "start_time": "2024-08-20T13:37:31.803Z"
   },
   {
    "duration": 8,
    "start_time": "2024-08-20T13:37:32.191Z"
   },
   {
    "duration": 11,
    "start_time": "2024-08-20T13:37:32.200Z"
   },
   {
    "duration": 14,
    "start_time": "2024-08-20T13:37:32.212Z"
   },
   {
    "duration": 27,
    "start_time": "2024-08-20T13:37:32.228Z"
   },
   {
    "duration": 5,
    "start_time": "2024-08-20T13:37:32.257Z"
   },
   {
    "duration": 23,
    "start_time": "2024-08-20T13:37:32.264Z"
   },
   {
    "duration": 8,
    "start_time": "2024-08-20T13:37:32.291Z"
   },
   {
    "duration": 12,
    "start_time": "2024-08-20T13:37:32.300Z"
   },
   {
    "duration": 24,
    "start_time": "2024-08-20T13:37:32.314Z"
   },
   {
    "duration": 7,
    "start_time": "2024-08-20T13:37:32.340Z"
   },
   {
    "duration": 31,
    "start_time": "2024-08-20T13:37:32.349Z"
   },
   {
    "duration": 11,
    "start_time": "2024-08-20T13:37:32.382Z"
   },
   {
    "duration": 7,
    "start_time": "2024-08-20T13:37:32.394Z"
   },
   {
    "duration": 14,
    "start_time": "2024-08-20T13:37:32.403Z"
   },
   {
    "duration": 42,
    "start_time": "2024-08-20T13:37:32.418Z"
   },
   {
    "duration": 57,
    "start_time": "2024-08-20T13:37:32.461Z"
   },
   {
    "duration": 8,
    "start_time": "2024-08-20T13:37:32.519Z"
   },
   {
    "duration": 211,
    "start_time": "2024-08-20T13:37:32.529Z"
   },
   {
    "duration": 112,
    "start_time": "2024-08-20T13:37:32.741Z"
   },
   {
    "duration": 291,
    "start_time": "2024-08-20T13:37:32.857Z"
   },
   {
    "duration": 171,
    "start_time": "2024-08-20T13:37:33.150Z"
   },
   {
    "duration": 6,
    "start_time": "2024-08-20T13:37:33.322Z"
   },
   {
    "duration": 12,
    "start_time": "2024-08-20T13:37:33.329Z"
   },
   {
    "duration": 28,
    "start_time": "2024-08-20T13:37:33.343Z"
   },
   {
    "duration": 199,
    "start_time": "2024-08-20T13:37:33.373Z"
   },
   {
    "duration": 181,
    "start_time": "2024-08-20T13:37:33.574Z"
   },
   {
    "duration": 6,
    "start_time": "2024-08-20T13:37:33.757Z"
   },
   {
    "duration": 34,
    "start_time": "2024-08-20T13:37:33.765Z"
   },
   {
    "duration": 163,
    "start_time": "2024-08-20T13:37:33.801Z"
   },
   {
    "duration": 3,
    "start_time": "2024-08-20T13:37:33.966Z"
   },
   {
    "duration": 165,
    "start_time": "2024-08-20T13:37:33.971Z"
   },
   {
    "duration": 150,
    "start_time": "2024-08-20T13:37:34.138Z"
   },
   {
    "duration": 7,
    "start_time": "2024-08-20T13:37:34.290Z"
   },
   {
    "duration": 7,
    "start_time": "2024-08-20T13:37:34.300Z"
   },
   {
    "duration": 160,
    "start_time": "2024-08-20T13:37:34.309Z"
   },
   {
    "duration": 169,
    "start_time": "2024-08-20T13:41:56.723Z"
   },
   {
    "duration": 690,
    "start_time": "2024-08-20T13:42:22.393Z"
   },
   {
    "duration": 71,
    "start_time": "2024-08-20T13:42:23.085Z"
   },
   {
    "duration": 11,
    "start_time": "2024-08-20T13:42:23.158Z"
   },
   {
    "duration": 57,
    "start_time": "2024-08-20T13:42:23.171Z"
   },
   {
    "duration": 12,
    "start_time": "2024-08-20T13:42:23.230Z"
   },
   {
    "duration": 12,
    "start_time": "2024-08-20T13:42:23.244Z"
   },
   {
    "duration": 390,
    "start_time": "2024-08-20T13:42:23.257Z"
   },
   {
    "duration": 10,
    "start_time": "2024-08-20T13:42:23.649Z"
   },
   {
    "duration": 45,
    "start_time": "2024-08-20T13:42:23.660Z"
   },
   {
    "duration": 18,
    "start_time": "2024-08-20T13:42:23.706Z"
   },
   {
    "duration": 10,
    "start_time": "2024-08-20T13:42:23.726Z"
   },
   {
    "duration": 5,
    "start_time": "2024-08-20T13:42:23.739Z"
   },
   {
    "duration": 10,
    "start_time": "2024-08-20T13:42:23.746Z"
   },
   {
    "duration": 8,
    "start_time": "2024-08-20T13:42:23.759Z"
   },
   {
    "duration": 23,
    "start_time": "2024-08-20T13:42:23.768Z"
   },
   {
    "duration": 6,
    "start_time": "2024-08-20T13:42:23.793Z"
   },
   {
    "duration": 18,
    "start_time": "2024-08-20T13:42:23.800Z"
   },
   {
    "duration": 7,
    "start_time": "2024-08-20T13:42:23.820Z"
   },
   {
    "duration": 6,
    "start_time": "2024-08-20T13:42:23.828Z"
   },
   {
    "duration": 7,
    "start_time": "2024-08-20T13:42:23.835Z"
   },
   {
    "duration": 17,
    "start_time": "2024-08-20T13:42:23.843Z"
   },
   {
    "duration": 5,
    "start_time": "2024-08-20T13:42:23.862Z"
   },
   {
    "duration": 17,
    "start_time": "2024-08-20T13:42:23.870Z"
   },
   {
    "duration": 10,
    "start_time": "2024-08-20T13:42:23.889Z"
   },
   {
    "duration": 193,
    "start_time": "2024-08-20T13:42:23.901Z"
   },
   {
    "duration": 111,
    "start_time": "2024-08-20T13:42:24.096Z"
   },
   {
    "duration": 302,
    "start_time": "2024-08-20T13:42:24.209Z"
   },
   {
    "duration": 169,
    "start_time": "2024-08-20T13:42:24.513Z"
   },
   {
    "duration": 5,
    "start_time": "2024-08-20T13:42:24.684Z"
   },
   {
    "duration": 6,
    "start_time": "2024-08-20T13:42:24.691Z"
   },
   {
    "duration": 12,
    "start_time": "2024-08-20T13:42:24.699Z"
   },
   {
    "duration": 185,
    "start_time": "2024-08-20T13:42:24.712Z"
   },
   {
    "duration": 206,
    "start_time": "2024-08-20T13:42:24.898Z"
   },
   {
    "duration": 171,
    "start_time": "2024-08-20T13:42:25.106Z"
   },
   {
    "duration": 6,
    "start_time": "2024-08-20T13:42:25.279Z"
   },
   {
    "duration": 7,
    "start_time": "2024-08-20T13:42:25.287Z"
   },
   {
    "duration": 198,
    "start_time": "2024-08-20T13:42:25.295Z"
   },
   {
    "duration": 3,
    "start_time": "2024-08-20T13:42:25.495Z"
   },
   {
    "duration": 190,
    "start_time": "2024-08-20T13:42:25.499Z"
   },
   {
    "duration": 144,
    "start_time": "2024-08-20T13:42:25.690Z"
   },
   {
    "duration": 6,
    "start_time": "2024-08-20T13:42:25.838Z"
   },
   {
    "duration": 6,
    "start_time": "2024-08-20T13:42:25.854Z"
   },
   {
    "duration": 148,
    "start_time": "2024-08-20T13:42:25.862Z"
   },
   {
    "duration": 613,
    "start_time": "2024-08-20T13:42:48.985Z"
   },
   {
    "duration": 70,
    "start_time": "2024-08-20T13:42:49.600Z"
   },
   {
    "duration": 10,
    "start_time": "2024-08-20T13:42:49.671Z"
   },
   {
    "duration": 25,
    "start_time": "2024-08-20T13:42:49.683Z"
   },
   {
    "duration": 30,
    "start_time": "2024-08-20T13:42:49.710Z"
   },
   {
    "duration": 17,
    "start_time": "2024-08-20T13:42:49.741Z"
   },
   {
    "duration": 410,
    "start_time": "2024-08-20T13:42:49.759Z"
   },
   {
    "duration": 8,
    "start_time": "2024-08-20T13:42:50.170Z"
   },
   {
    "duration": 29,
    "start_time": "2024-08-20T13:42:50.179Z"
   },
   {
    "duration": 26,
    "start_time": "2024-08-20T13:42:50.210Z"
   },
   {
    "duration": 27,
    "start_time": "2024-08-20T13:42:50.237Z"
   },
   {
    "duration": 23,
    "start_time": "2024-08-20T13:42:50.266Z"
   },
   {
    "duration": 43,
    "start_time": "2024-08-20T13:42:50.290Z"
   },
   {
    "duration": 6,
    "start_time": "2024-08-20T13:42:50.337Z"
   },
   {
    "duration": 8,
    "start_time": "2024-08-20T13:42:50.345Z"
   },
   {
    "duration": 7,
    "start_time": "2024-08-20T13:42:50.355Z"
   },
   {
    "duration": 15,
    "start_time": "2024-08-20T13:42:50.363Z"
   },
   {
    "duration": 16,
    "start_time": "2024-08-20T13:42:50.379Z"
   },
   {
    "duration": 12,
    "start_time": "2024-08-20T13:42:50.397Z"
   },
   {
    "duration": 16,
    "start_time": "2024-08-20T13:42:50.411Z"
   },
   {
    "duration": 9,
    "start_time": "2024-08-20T13:42:50.428Z"
   },
   {
    "duration": 15,
    "start_time": "2024-08-20T13:42:50.439Z"
   },
   {
    "duration": 7,
    "start_time": "2024-08-20T13:42:50.456Z"
   },
   {
    "duration": 5,
    "start_time": "2024-08-20T13:42:50.465Z"
   },
   {
    "duration": 185,
    "start_time": "2024-08-20T13:42:50.471Z"
   },
   {
    "duration": 102,
    "start_time": "2024-08-20T13:42:50.658Z"
   },
   {
    "duration": 288,
    "start_time": "2024-08-20T13:42:50.761Z"
   },
   {
    "duration": 164,
    "start_time": "2024-08-20T13:42:51.051Z"
   },
   {
    "duration": 5,
    "start_time": "2024-08-20T13:42:51.217Z"
   },
   {
    "duration": 13,
    "start_time": "2024-08-20T13:42:51.223Z"
   },
   {
    "duration": 22,
    "start_time": "2024-08-20T13:42:51.237Z"
   },
   {
    "duration": 168,
    "start_time": "2024-08-20T13:42:51.260Z"
   },
   {
    "duration": 203,
    "start_time": "2024-08-20T13:42:51.429Z"
   },
   {
    "duration": 183,
    "start_time": "2024-08-20T13:42:51.633Z"
   },
   {
    "duration": 6,
    "start_time": "2024-08-20T13:42:51.818Z"
   },
   {
    "duration": 7,
    "start_time": "2024-08-20T13:42:51.825Z"
   },
   {
    "duration": 179,
    "start_time": "2024-08-20T13:42:51.833Z"
   },
   {
    "duration": 4,
    "start_time": "2024-08-20T13:42:52.013Z"
   },
   {
    "duration": 160,
    "start_time": "2024-08-20T13:42:52.018Z"
   },
   {
    "duration": 157,
    "start_time": "2024-08-20T13:42:52.179Z"
   },
   {
    "duration": 5,
    "start_time": "2024-08-20T13:42:52.340Z"
   },
   {
    "duration": 12,
    "start_time": "2024-08-20T13:42:52.346Z"
   },
   {
    "duration": 153,
    "start_time": "2024-08-20T13:42:52.359Z"
   },
   {
    "duration": 136,
    "start_time": "2024-08-20T13:43:19.464Z"
   },
   {
    "duration": 126,
    "start_time": "2024-08-20T13:43:26.116Z"
   },
   {
    "duration": 205,
    "start_time": "2024-08-20T13:43:31.455Z"
   },
   {
    "duration": 122,
    "start_time": "2024-08-20T13:44:04.606Z"
   },
   {
    "duration": 148,
    "start_time": "2024-08-20T13:44:23.039Z"
   },
   {
    "duration": 151,
    "start_time": "2024-08-20T13:44:40.542Z"
   },
   {
    "duration": 593,
    "start_time": "2024-08-20T13:44:47.909Z"
   },
   {
    "duration": 74,
    "start_time": "2024-08-20T13:44:48.503Z"
   },
   {
    "duration": 11,
    "start_time": "2024-08-20T13:44:48.578Z"
   },
   {
    "duration": 33,
    "start_time": "2024-08-20T13:44:48.591Z"
   },
   {
    "duration": 9,
    "start_time": "2024-08-20T13:44:48.626Z"
   },
   {
    "duration": 12,
    "start_time": "2024-08-20T13:44:48.637Z"
   },
   {
    "duration": 375,
    "start_time": "2024-08-20T13:44:48.651Z"
   },
   {
    "duration": 7,
    "start_time": "2024-08-20T13:44:49.028Z"
   },
   {
    "duration": 23,
    "start_time": "2024-08-20T13:44:49.036Z"
   },
   {
    "duration": 7,
    "start_time": "2024-08-20T13:44:49.061Z"
   },
   {
    "duration": 9,
    "start_time": "2024-08-20T13:44:49.070Z"
   },
   {
    "duration": 4,
    "start_time": "2024-08-20T13:44:49.081Z"
   },
   {
    "duration": 20,
    "start_time": "2024-08-20T13:44:49.086Z"
   },
   {
    "duration": 6,
    "start_time": "2024-08-20T13:44:49.109Z"
   },
   {
    "duration": 6,
    "start_time": "2024-08-20T13:44:49.117Z"
   },
   {
    "duration": 32,
    "start_time": "2024-08-20T13:44:49.125Z"
   },
   {
    "duration": 59,
    "start_time": "2024-08-20T13:44:49.159Z"
   },
   {
    "duration": 5,
    "start_time": "2024-08-20T13:44:49.220Z"
   },
   {
    "duration": 7,
    "start_time": "2024-08-20T13:44:49.227Z"
   },
   {
    "duration": 8,
    "start_time": "2024-08-20T13:44:49.235Z"
   },
   {
    "duration": 7,
    "start_time": "2024-08-20T13:44:49.244Z"
   },
   {
    "duration": 4,
    "start_time": "2024-08-20T13:44:49.253Z"
   },
   {
    "duration": 17,
    "start_time": "2024-08-20T13:44:49.258Z"
   },
   {
    "duration": 6,
    "start_time": "2024-08-20T13:44:49.276Z"
   },
   {
    "duration": 174,
    "start_time": "2024-08-20T13:44:49.284Z"
   },
   {
    "duration": 103,
    "start_time": "2024-08-20T13:44:49.460Z"
   },
   {
    "duration": 294,
    "start_time": "2024-08-20T13:44:49.565Z"
   },
   {
    "duration": 175,
    "start_time": "2024-08-20T13:44:49.861Z"
   },
   {
    "duration": 5,
    "start_time": "2024-08-20T13:44:50.037Z"
   },
   {
    "duration": 6,
    "start_time": "2024-08-20T13:44:50.053Z"
   },
   {
    "duration": 10,
    "start_time": "2024-08-20T13:44:50.060Z"
   },
   {
    "duration": 141,
    "start_time": "2024-08-20T13:44:50.072Z"
   },
   {
    "duration": 212,
    "start_time": "2024-08-20T13:44:50.215Z"
   },
   {
    "duration": 169,
    "start_time": "2024-08-20T13:44:50.429Z"
   },
   {
    "duration": 6,
    "start_time": "2024-08-20T13:44:50.599Z"
   },
   {
    "duration": 84,
    "start_time": "2024-08-20T13:44:50.607Z"
   },
   {
    "duration": 168,
    "start_time": "2024-08-20T13:44:50.693Z"
   },
   {
    "duration": 4,
    "start_time": "2024-08-20T13:44:50.863Z"
   },
   {
    "duration": 161,
    "start_time": "2024-08-20T13:44:50.868Z"
   },
   {
    "duration": 138,
    "start_time": "2024-08-20T13:44:51.031Z"
   },
   {
    "duration": 5,
    "start_time": "2024-08-20T13:44:51.172Z"
   },
   {
    "duration": 70,
    "start_time": "2024-08-20T13:44:51.179Z"
   },
   {
    "duration": 147,
    "start_time": "2024-08-20T13:44:51.251Z"
   },
   {
    "duration": 10,
    "start_time": "2024-08-20T16:17:02.943Z"
   },
   {
    "duration": 8,
    "start_time": "2024-08-20T16:17:13.815Z"
   },
   {
    "duration": 69,
    "start_time": "2024-08-20T16:17:31.926Z"
   },
   {
    "duration": 6,
    "start_time": "2024-08-20T16:17:54.986Z"
   },
   {
    "duration": 17,
    "start_time": "2024-08-20T16:21:53.607Z"
   },
   {
    "duration": 26,
    "start_time": "2024-08-20T16:22:10.705Z"
   },
   {
    "duration": 17,
    "start_time": "2024-08-20T16:22:37.041Z"
   },
   {
    "duration": 22,
    "start_time": "2024-08-20T16:23:48.138Z"
   },
   {
    "duration": 10,
    "start_time": "2024-08-20T16:26:51.579Z"
   },
   {
    "duration": 7,
    "start_time": "2024-08-20T16:26:57.187Z"
   },
   {
    "duration": 17,
    "start_time": "2024-08-20T16:27:00.940Z"
   },
   {
    "duration": 19,
    "start_time": "2024-08-20T16:27:17.386Z"
   },
   {
    "duration": 5,
    "start_time": "2024-08-20T16:27:45.100Z"
   },
   {
    "duration": 20,
    "start_time": "2024-08-20T16:27:49.811Z"
   },
   {
    "duration": 14,
    "start_time": "2024-08-20T16:27:55.924Z"
   },
   {
    "duration": 14,
    "start_time": "2024-08-20T16:28:01.549Z"
   },
   {
    "duration": 20,
    "start_time": "2024-08-20T16:28:07.779Z"
   },
   {
    "duration": 16,
    "start_time": "2024-08-20T16:28:14.525Z"
   },
   {
    "duration": 13,
    "start_time": "2024-08-20T16:28:48.909Z"
   },
   {
    "duration": 91,
    "start_time": "2024-08-20T16:30:22.966Z"
   },
   {
    "duration": 193,
    "start_time": "2024-08-20T16:30:34.357Z"
   },
   {
    "duration": 154,
    "start_time": "2024-08-20T16:31:46.958Z"
   },
   {
    "duration": 270,
    "start_time": "2024-08-20T16:32:05.839Z"
   },
   {
    "duration": 159,
    "start_time": "2024-08-20T16:32:19.574Z"
   },
   {
    "duration": 152,
    "start_time": "2024-08-20T16:32:47.256Z"
   },
   {
    "duration": 171,
    "start_time": "2024-08-20T16:32:57.610Z"
   },
   {
    "duration": 159,
    "start_time": "2024-08-20T16:33:03.712Z"
   },
   {
    "duration": 180,
    "start_time": "2024-08-20T16:33:12.134Z"
   },
   {
    "duration": 12,
    "start_time": "2024-08-20T17:01:45.629Z"
   },
   {
    "duration": 12,
    "start_time": "2024-08-20T17:02:22.964Z"
   },
   {
    "duration": 592,
    "start_time": "2024-08-20T17:02:27.012Z"
   },
   {
    "duration": 68,
    "start_time": "2024-08-20T17:02:27.606Z"
   },
   {
    "duration": 11,
    "start_time": "2024-08-20T17:02:27.676Z"
   },
   {
    "duration": 10,
    "start_time": "2024-08-20T17:02:27.689Z"
   },
   {
    "duration": 8,
    "start_time": "2024-08-20T17:02:27.701Z"
   },
   {
    "duration": 10,
    "start_time": "2024-08-20T17:02:27.711Z"
   },
   {
    "duration": 378,
    "start_time": "2024-08-20T17:02:27.723Z"
   },
   {
    "duration": 7,
    "start_time": "2024-08-20T17:02:28.102Z"
   },
   {
    "duration": 9,
    "start_time": "2024-08-20T17:02:28.111Z"
   },
   {
    "duration": 7,
    "start_time": "2024-08-20T17:02:28.121Z"
   },
   {
    "duration": 29,
    "start_time": "2024-08-20T17:02:28.129Z"
   },
   {
    "duration": 5,
    "start_time": "2024-08-20T17:02:28.159Z"
   },
   {
    "duration": 8,
    "start_time": "2024-08-20T17:02:28.165Z"
   },
   {
    "duration": 6,
    "start_time": "2024-08-20T17:02:28.176Z"
   },
   {
    "duration": 9,
    "start_time": "2024-08-20T17:02:28.183Z"
   },
   {
    "duration": 5,
    "start_time": "2024-08-20T17:02:28.194Z"
   },
   {
    "duration": 16,
    "start_time": "2024-08-20T17:02:28.200Z"
   },
   {
    "duration": 6,
    "start_time": "2024-08-20T17:02:28.217Z"
   },
   {
    "duration": 33,
    "start_time": "2024-08-20T17:02:28.224Z"
   },
   {
    "duration": 23,
    "start_time": "2024-08-20T17:02:28.258Z"
   },
   {
    "duration": 8,
    "start_time": "2024-08-20T17:02:28.283Z"
   },
   {
    "duration": 5,
    "start_time": "2024-08-20T17:02:28.292Z"
   },
   {
    "duration": 6,
    "start_time": "2024-08-20T17:02:28.298Z"
   },
   {
    "duration": 6,
    "start_time": "2024-08-20T17:02:28.305Z"
   },
   {
    "duration": 185,
    "start_time": "2024-08-20T17:02:28.312Z"
   },
   {
    "duration": 103,
    "start_time": "2024-08-20T17:02:28.499Z"
   },
   {
    "duration": 277,
    "start_time": "2024-08-20T17:02:28.604Z"
   },
   {
    "duration": 186,
    "start_time": "2024-08-20T17:02:28.883Z"
   },
   {
    "duration": 5,
    "start_time": "2024-08-20T17:02:29.071Z"
   },
   {
    "duration": 6,
    "start_time": "2024-08-20T17:02:29.078Z"
   },
   {
    "duration": 8,
    "start_time": "2024-08-20T17:02:29.085Z"
   },
   {
    "duration": 139,
    "start_time": "2024-08-20T17:02:29.095Z"
   },
   {
    "duration": 197,
    "start_time": "2024-08-20T17:02:29.236Z"
   },
   {
    "duration": 158,
    "start_time": "2024-08-20T17:02:29.434Z"
   },
   {
    "duration": 6,
    "start_time": "2024-08-20T17:02:29.594Z"
   },
   {
    "duration": 12,
    "start_time": "2024-08-20T17:02:29.602Z"
   },
   {
    "duration": 162,
    "start_time": "2024-08-20T17:02:29.615Z"
   },
   {
    "duration": 4,
    "start_time": "2024-08-20T17:02:29.779Z"
   },
   {
    "duration": 199,
    "start_time": "2024-08-20T17:02:29.784Z"
   },
   {
    "duration": 136,
    "start_time": "2024-08-20T17:02:29.985Z"
   },
   {
    "duration": 5,
    "start_time": "2024-08-20T17:02:30.125Z"
   },
   {
    "duration": 11,
    "start_time": "2024-08-20T17:02:30.132Z"
   },
   {
    "duration": 124,
    "start_time": "2024-08-20T17:02:30.153Z"
   },
   {
    "duration": 10,
    "start_time": "2024-08-20T17:02:30.279Z"
   },
   {
    "duration": 32,
    "start_time": "2024-08-20T17:02:30.291Z"
   },
   {
    "duration": 23,
    "start_time": "2024-08-20T17:02:30.325Z"
   },
   {
    "duration": 32,
    "start_time": "2024-08-20T17:02:30.349Z"
   },
   {
    "duration": 17,
    "start_time": "2024-08-20T17:02:30.382Z"
   },
   {
    "duration": 15,
    "start_time": "2024-08-20T17:02:30.401Z"
   },
   {
    "duration": 21,
    "start_time": "2024-08-20T17:02:30.418Z"
   },
   {
    "duration": 181,
    "start_time": "2024-08-20T17:02:30.440Z"
   },
   {
    "duration": 159,
    "start_time": "2024-08-20T17:02:30.623Z"
   },
   {
    "duration": 247,
    "start_time": "2024-08-20T17:02:30.783Z"
   },
   {
    "duration": 164,
    "start_time": "2024-08-20T17:02:31.032Z"
   },
   {
    "duration": 12,
    "start_time": "2024-08-20T17:02:31.198Z"
   },
   {
    "duration": 43,
    "start_time": "2024-08-20T17:02:31.211Z"
   },
   {
    "duration": 67,
    "start_time": "2024-08-20T17:04:39.136Z"
   },
   {
    "duration": 1514,
    "start_time": "2024-08-20T17:04:47.152Z"
   },
   {
    "duration": 366,
    "start_time": "2024-08-20T17:05:15.560Z"
   },
   {
    "duration": 369,
    "start_time": "2024-08-20T17:05:39.736Z"
   },
   {
    "duration": 19,
    "start_time": "2024-08-20T17:06:21.778Z"
   },
   {
    "duration": 18,
    "start_time": "2024-08-20T17:06:49.824Z"
   },
   {
    "duration": 100,
    "start_time": "2024-08-20T17:07:10.859Z"
   },
   {
    "duration": 7,
    "start_time": "2024-08-20T17:07:22.743Z"
   },
   {
    "duration": 21,
    "start_time": "2024-08-20T17:07:40.697Z"
   },
   {
    "duration": 7,
    "start_time": "2024-08-20T17:07:48.352Z"
   },
   {
    "duration": 7,
    "start_time": "2024-08-20T17:08:30.898Z"
   },
   {
    "duration": 19,
    "start_time": "2024-08-20T17:08:37.930Z"
   },
   {
    "duration": 17,
    "start_time": "2024-08-20T17:08:41.488Z"
   },
   {
    "duration": 71,
    "start_time": "2024-08-20T17:08:51.305Z"
   },
   {
    "duration": 29,
    "start_time": "2024-08-20T17:08:58.097Z"
   },
   {
    "duration": 20,
    "start_time": "2024-08-20T17:09:19.050Z"
   },
   {
    "duration": 7,
    "start_time": "2024-08-20T17:10:54.772Z"
   },
   {
    "duration": 14,
    "start_time": "2024-08-20T17:10:59.044Z"
   },
   {
    "duration": 13,
    "start_time": "2024-08-20T17:11:00.593Z"
   },
   {
    "duration": 20,
    "start_time": "2024-08-20T17:11:46.155Z"
   },
   {
    "duration": 22,
    "start_time": "2024-08-20T17:11:47.074Z"
   },
   {
    "duration": 14,
    "start_time": "2024-08-20T17:11:49.246Z"
   },
   {
    "duration": 12,
    "start_time": "2024-08-20T17:12:16.877Z"
   },
   {
    "duration": 13,
    "start_time": "2024-08-20T17:12:17.266Z"
   },
   {
    "duration": 71,
    "start_time": "2024-08-21T04:08:22.182Z"
   },
   {
    "duration": 269,
    "start_time": "2024-08-21T04:08:35.784Z"
   },
   {
    "duration": 60,
    "start_time": "2024-08-21T04:09:55.167Z"
   },
   {
    "duration": 48,
    "start_time": "2024-08-21T04:10:45.689Z"
   },
   {
    "duration": 7,
    "start_time": "2024-08-21T04:11:13.497Z"
   },
   {
    "duration": 827,
    "start_time": "2024-08-21T04:11:20.129Z"
   },
   {
    "duration": 419,
    "start_time": "2024-08-21T04:11:20.958Z"
   },
   {
    "duration": 12,
    "start_time": "2024-08-21T04:11:21.378Z"
   },
   {
    "duration": 11,
    "start_time": "2024-08-21T04:11:21.391Z"
   },
   {
    "duration": 14,
    "start_time": "2024-08-21T04:11:21.404Z"
   },
   {
    "duration": 17,
    "start_time": "2024-08-21T04:11:21.420Z"
   },
   {
    "duration": 393,
    "start_time": "2024-08-21T04:11:21.438Z"
   },
   {
    "duration": 7,
    "start_time": "2024-08-21T04:11:21.832Z"
   },
   {
    "duration": 10,
    "start_time": "2024-08-21T04:11:21.851Z"
   },
   {
    "duration": 15,
    "start_time": "2024-08-21T04:11:21.863Z"
   },
   {
    "duration": 10,
    "start_time": "2024-08-21T04:11:21.879Z"
   },
   {
    "duration": 5,
    "start_time": "2024-08-21T04:11:21.890Z"
   },
   {
    "duration": 9,
    "start_time": "2024-08-21T04:11:21.896Z"
   },
   {
    "duration": 6,
    "start_time": "2024-08-21T04:11:21.907Z"
   },
   {
    "duration": 38,
    "start_time": "2024-08-21T04:11:21.915Z"
   },
   {
    "duration": 6,
    "start_time": "2024-08-21T04:11:21.954Z"
   },
   {
    "duration": 4,
    "start_time": "2024-08-21T04:11:21.962Z"
   },
   {
    "duration": 7,
    "start_time": "2024-08-21T04:11:21.967Z"
   },
   {
    "duration": 5,
    "start_time": "2024-08-21T04:11:21.975Z"
   },
   {
    "duration": 8,
    "start_time": "2024-08-21T04:11:21.982Z"
   },
   {
    "duration": 13,
    "start_time": "2024-08-21T04:11:21.991Z"
   },
   {
    "duration": 4,
    "start_time": "2024-08-21T04:11:22.005Z"
   },
   {
    "duration": 9,
    "start_time": "2024-08-21T04:11:22.011Z"
   },
   {
    "duration": 7,
    "start_time": "2024-08-21T04:11:22.051Z"
   },
   {
    "duration": 205,
    "start_time": "2024-08-21T04:11:22.059Z"
   },
   {
    "duration": 109,
    "start_time": "2024-08-21T04:11:22.266Z"
   },
   {
    "duration": 293,
    "start_time": "2024-08-21T04:11:22.377Z"
   },
   {
    "duration": 170,
    "start_time": "2024-08-21T04:11:22.671Z"
   },
   {
    "duration": 10,
    "start_time": "2024-08-21T04:11:22.843Z"
   },
   {
    "duration": 13,
    "start_time": "2024-08-21T04:11:22.854Z"
   },
   {
    "duration": 8,
    "start_time": "2024-08-21T04:11:22.868Z"
   },
   {
    "duration": 143,
    "start_time": "2024-08-21T04:11:22.877Z"
   },
   {
    "duration": 213,
    "start_time": "2024-08-21T04:11:23.022Z"
   },
   {
    "duration": 183,
    "start_time": "2024-08-21T04:11:23.236Z"
   },
   {
    "duration": 6,
    "start_time": "2024-08-21T04:11:23.420Z"
   },
   {
    "duration": 7,
    "start_time": "2024-08-21T04:11:23.427Z"
   },
   {
    "duration": 186,
    "start_time": "2024-08-21T04:11:23.435Z"
   },
   {
    "duration": 4,
    "start_time": "2024-08-21T04:11:23.623Z"
   },
   {
    "duration": 200,
    "start_time": "2024-08-21T04:11:23.628Z"
   },
   {
    "duration": 174,
    "start_time": "2024-08-21T04:11:23.829Z"
   },
   {
    "duration": 5,
    "start_time": "2024-08-21T04:11:24.007Z"
   },
   {
    "duration": 6,
    "start_time": "2024-08-21T04:11:24.013Z"
   },
   {
    "duration": 146,
    "start_time": "2024-08-21T04:11:24.020Z"
   },
   {
    "duration": 9,
    "start_time": "2024-08-21T04:11:24.167Z"
   },
   {
    "duration": 9,
    "start_time": "2024-08-21T04:11:24.177Z"
   },
   {
    "duration": 7,
    "start_time": "2024-08-21T04:11:24.187Z"
   },
   {
    "duration": 17,
    "start_time": "2024-08-21T04:11:24.195Z"
   },
   {
    "duration": 47,
    "start_time": "2024-08-21T04:11:24.214Z"
   },
   {
    "duration": 16,
    "start_time": "2024-08-21T04:11:24.262Z"
   },
   {
    "duration": 14,
    "start_time": "2024-08-21T04:11:24.280Z"
   },
   {
    "duration": 206,
    "start_time": "2024-08-21T04:11:24.296Z"
   },
   {
    "duration": 167,
    "start_time": "2024-08-21T04:11:24.503Z"
   },
   {
    "duration": 264,
    "start_time": "2024-08-21T04:11:24.672Z"
   },
   {
    "duration": 164,
    "start_time": "2024-08-21T04:11:24.937Z"
   },
   {
    "duration": 12,
    "start_time": "2024-08-21T04:11:25.103Z"
   },
   {
    "duration": 93,
    "start_time": "2024-08-21T04:11:25.116Z"
   },
   {
    "duration": 0,
    "start_time": "2024-08-21T04:11:25.211Z"
   },
   {
    "duration": 25,
    "start_time": "2024-08-21T04:11:37.105Z"
   },
   {
    "duration": 15,
    "start_time": "2024-08-21T04:15:13.365Z"
   },
   {
    "duration": 24,
    "start_time": "2024-08-21T04:15:24.004Z"
   },
   {
    "duration": 21,
    "start_time": "2024-08-21T04:15:28.331Z"
   },
   {
    "duration": 22,
    "start_time": "2024-08-21T04:15:43.739Z"
   },
   {
    "duration": 22,
    "start_time": "2024-08-21T04:15:54.499Z"
   },
   {
    "duration": 22,
    "start_time": "2024-08-21T04:15:58.108Z"
   },
   {
    "duration": 68,
    "start_time": "2024-08-21T04:16:35.773Z"
   },
   {
    "duration": 16,
    "start_time": "2024-08-21T04:17:36.988Z"
   },
   {
    "duration": 20,
    "start_time": "2024-08-21T04:17:43.317Z"
   },
   {
    "duration": 13,
    "start_time": "2024-08-21T04:18:55.750Z"
   },
   {
    "duration": 17,
    "start_time": "2024-08-21T04:24:53.129Z"
   },
   {
    "duration": 16,
    "start_time": "2024-08-21T04:25:13.042Z"
   },
   {
    "duration": 25,
    "start_time": "2024-08-21T04:25:16.618Z"
   },
   {
    "duration": 23,
    "start_time": "2024-08-21T04:25:21.577Z"
   },
   {
    "duration": 7,
    "start_time": "2024-08-21T04:31:49.933Z"
   },
   {
    "duration": 9,
    "start_time": "2024-08-21T04:32:07.903Z"
   },
   {
    "duration": 3,
    "start_time": "2024-08-21T12:27:44.155Z"
   },
   {
    "duration": 646,
    "start_time": "2024-08-21T12:29:14.145Z"
   },
   {
    "duration": 77,
    "start_time": "2024-08-21T12:29:14.793Z"
   },
   {
    "duration": 12,
    "start_time": "2024-08-21T12:29:14.872Z"
   },
   {
    "duration": 24,
    "start_time": "2024-08-21T12:29:14.885Z"
   },
   {
    "duration": 8,
    "start_time": "2024-08-21T12:29:14.911Z"
   },
   {
    "duration": 31,
    "start_time": "2024-08-21T12:29:14.920Z"
   },
   {
    "duration": 393,
    "start_time": "2024-08-21T12:29:14.952Z"
   },
   {
    "duration": 7,
    "start_time": "2024-08-21T12:29:15.346Z"
   },
   {
    "duration": 45,
    "start_time": "2024-08-21T12:29:15.355Z"
   },
   {
    "duration": 7,
    "start_time": "2024-08-21T12:29:15.402Z"
   },
   {
    "duration": 10,
    "start_time": "2024-08-21T12:29:15.410Z"
   },
   {
    "duration": 4,
    "start_time": "2024-08-21T12:29:15.422Z"
   },
   {
    "duration": 23,
    "start_time": "2024-08-21T12:29:15.428Z"
   },
   {
    "duration": 6,
    "start_time": "2024-08-21T12:29:15.454Z"
   },
   {
    "duration": 5,
    "start_time": "2024-08-21T12:29:15.461Z"
   },
   {
    "duration": 5,
    "start_time": "2024-08-21T12:29:15.468Z"
   },
   {
    "duration": 6,
    "start_time": "2024-08-21T12:29:15.474Z"
   },
   {
    "duration": 7,
    "start_time": "2024-08-21T12:29:15.481Z"
   },
   {
    "duration": 10,
    "start_time": "2024-08-21T12:29:15.489Z"
   },
   {
    "duration": 5,
    "start_time": "2024-08-21T12:29:15.501Z"
   },
   {
    "duration": 45,
    "start_time": "2024-08-21T12:29:15.508Z"
   },
   {
    "duration": 5,
    "start_time": "2024-08-21T12:29:15.554Z"
   },
   {
    "duration": 5,
    "start_time": "2024-08-21T12:29:15.561Z"
   },
   {
    "duration": 6,
    "start_time": "2024-08-21T12:29:15.568Z"
   },
   {
    "duration": 195,
    "start_time": "2024-08-21T12:29:15.576Z"
   },
   {
    "duration": 126,
    "start_time": "2024-08-21T12:29:15.772Z"
   },
   {
    "duration": 297,
    "start_time": "2024-08-21T12:29:15.900Z"
   },
   {
    "duration": 175,
    "start_time": "2024-08-21T12:29:16.199Z"
   },
   {
    "duration": 5,
    "start_time": "2024-08-21T12:29:16.376Z"
   },
   {
    "duration": 12,
    "start_time": "2024-08-21T12:29:16.382Z"
   },
   {
    "duration": 9,
    "start_time": "2024-08-21T12:29:16.395Z"
   },
   {
    "duration": 149,
    "start_time": "2024-08-21T12:29:16.405Z"
   },
   {
    "duration": 210,
    "start_time": "2024-08-21T12:29:16.555Z"
   },
   {
    "duration": 178,
    "start_time": "2024-08-21T12:29:16.766Z"
   },
   {
    "duration": 9,
    "start_time": "2024-08-21T12:29:16.946Z"
   },
   {
    "duration": 19,
    "start_time": "2024-08-21T12:29:16.956Z"
   },
   {
    "duration": 176,
    "start_time": "2024-08-21T12:29:16.977Z"
   },
   {
    "duration": 2,
    "start_time": "2024-08-21T12:29:17.155Z"
   },
   {
    "duration": 38,
    "start_time": "2024-08-21T12:29:17.158Z"
   },
   {
    "duration": 178,
    "start_time": "2024-08-21T12:29:17.197Z"
   },
   {
    "duration": 147,
    "start_time": "2024-08-21T12:29:17.378Z"
   },
   {
    "duration": 6,
    "start_time": "2024-08-21T12:29:17.526Z"
   },
   {
    "duration": 18,
    "start_time": "2024-08-21T12:29:17.534Z"
   },
   {
    "duration": 140,
    "start_time": "2024-08-21T12:29:17.553Z"
   },
   {
    "duration": 9,
    "start_time": "2024-08-21T12:29:17.694Z"
   },
   {
    "duration": 12,
    "start_time": "2024-08-21T12:29:17.705Z"
   },
   {
    "duration": 7,
    "start_time": "2024-08-21T12:29:17.719Z"
   },
   {
    "duration": 34,
    "start_time": "2024-08-21T12:29:17.728Z"
   },
   {
    "duration": 17,
    "start_time": "2024-08-21T12:29:17.764Z"
   },
   {
    "duration": 17,
    "start_time": "2024-08-21T12:29:17.783Z"
   },
   {
    "duration": 16,
    "start_time": "2024-08-21T12:29:17.802Z"
   },
   {
    "duration": 192,
    "start_time": "2024-08-21T12:29:17.852Z"
   },
   {
    "duration": 174,
    "start_time": "2024-08-21T12:29:18.045Z"
   },
   {
    "duration": 284,
    "start_time": "2024-08-21T12:29:18.221Z"
   },
   {
    "duration": 281,
    "start_time": "2024-08-21T12:29:18.507Z"
   },
   {
    "duration": 13,
    "start_time": "2024-08-21T12:29:18.790Z"
   },
   {
    "duration": 42,
    "start_time": "2024-08-21T12:29:18.804Z"
   },
   {
    "duration": 7,
    "start_time": "2024-08-21T12:29:18.848Z"
   },
   {
    "duration": 9,
    "start_time": "2024-08-21T12:29:18.856Z"
   },
   {
    "duration": 7,
    "start_time": "2024-08-21T12:30:11.903Z"
   },
   {
    "duration": 616,
    "start_time": "2024-08-21T12:30:16.603Z"
   },
   {
    "duration": 78,
    "start_time": "2024-08-21T12:30:17.221Z"
   },
   {
    "duration": 13,
    "start_time": "2024-08-21T12:30:17.301Z"
   },
   {
    "duration": 12,
    "start_time": "2024-08-21T12:30:17.316Z"
   },
   {
    "duration": 58,
    "start_time": "2024-08-21T12:30:17.330Z"
   },
   {
    "duration": 11,
    "start_time": "2024-08-21T12:30:17.390Z"
   },
   {
    "duration": 400,
    "start_time": "2024-08-21T12:30:17.403Z"
   },
   {
    "duration": 7,
    "start_time": "2024-08-21T12:30:17.805Z"
   },
   {
    "duration": 13,
    "start_time": "2024-08-21T12:30:17.814Z"
   },
   {
    "duration": 26,
    "start_time": "2024-08-21T12:30:17.828Z"
   },
   {
    "duration": 11,
    "start_time": "2024-08-21T12:30:17.856Z"
   },
   {
    "duration": 5,
    "start_time": "2024-08-21T12:30:17.868Z"
   },
   {
    "duration": 9,
    "start_time": "2024-08-21T12:30:17.875Z"
   },
   {
    "duration": 6,
    "start_time": "2024-08-21T12:30:17.887Z"
   },
   {
    "duration": 7,
    "start_time": "2024-08-21T12:30:17.895Z"
   },
   {
    "duration": 7,
    "start_time": "2024-08-21T12:30:17.904Z"
   },
   {
    "duration": 6,
    "start_time": "2024-08-21T12:30:17.952Z"
   },
   {
    "duration": 7,
    "start_time": "2024-08-21T12:30:17.959Z"
   },
   {
    "duration": 20,
    "start_time": "2024-08-21T12:30:17.968Z"
   },
   {
    "duration": 7,
    "start_time": "2024-08-21T12:30:17.990Z"
   },
   {
    "duration": 9,
    "start_time": "2024-08-21T12:30:17.998Z"
   },
   {
    "duration": 14,
    "start_time": "2024-08-21T12:30:18.008Z"
   },
   {
    "duration": 29,
    "start_time": "2024-08-21T12:30:18.024Z"
   },
   {
    "duration": 12,
    "start_time": "2024-08-21T12:30:18.055Z"
   },
   {
    "duration": 191,
    "start_time": "2024-08-21T12:30:18.069Z"
   },
   {
    "duration": 114,
    "start_time": "2024-08-21T12:30:18.262Z"
   },
   {
    "duration": 317,
    "start_time": "2024-08-21T12:30:18.378Z"
   },
   {
    "duration": 188,
    "start_time": "2024-08-21T12:30:18.696Z"
   },
   {
    "duration": 5,
    "start_time": "2024-08-21T12:30:18.886Z"
   },
   {
    "duration": 6,
    "start_time": "2024-08-21T12:30:18.893Z"
   },
   {
    "duration": 8,
    "start_time": "2024-08-21T12:30:18.900Z"
   },
   {
    "duration": 147,
    "start_time": "2024-08-21T12:30:18.910Z"
   },
   {
    "duration": 215,
    "start_time": "2024-08-21T12:30:19.059Z"
   },
   {
    "duration": 181,
    "start_time": "2024-08-21T12:30:19.276Z"
   },
   {
    "duration": 5,
    "start_time": "2024-08-21T12:30:19.459Z"
   },
   {
    "duration": 10,
    "start_time": "2024-08-21T12:30:19.466Z"
   },
   {
    "duration": 189,
    "start_time": "2024-08-21T12:30:19.478Z"
   },
   {
    "duration": 2,
    "start_time": "2024-08-21T12:30:19.669Z"
   },
   {
    "duration": 5,
    "start_time": "2024-08-21T12:30:19.673Z"
   },
   {
    "duration": 177,
    "start_time": "2024-08-21T12:30:19.680Z"
   },
   {
    "duration": 153,
    "start_time": "2024-08-21T12:30:19.861Z"
   },
   {
    "duration": 6,
    "start_time": "2024-08-21T12:30:20.016Z"
   },
   {
    "duration": 12,
    "start_time": "2024-08-21T12:30:20.023Z"
   },
   {
    "duration": 142,
    "start_time": "2024-08-21T12:30:20.037Z"
   },
   {
    "duration": 9,
    "start_time": "2024-08-21T12:30:20.180Z"
   },
   {
    "duration": 23,
    "start_time": "2024-08-21T12:30:20.190Z"
   },
   {
    "duration": 18,
    "start_time": "2024-08-21T12:30:20.214Z"
   },
   {
    "duration": 23,
    "start_time": "2024-08-21T12:30:20.234Z"
   },
   {
    "duration": 18,
    "start_time": "2024-08-21T12:30:20.258Z"
   },
   {
    "duration": 15,
    "start_time": "2024-08-21T12:30:20.278Z"
   },
   {
    "duration": 15,
    "start_time": "2024-08-21T12:30:20.295Z"
   },
   {
    "duration": 217,
    "start_time": "2024-08-21T12:30:20.312Z"
   },
   {
    "duration": 166,
    "start_time": "2024-08-21T12:30:20.531Z"
   },
   {
    "duration": 268,
    "start_time": "2024-08-21T12:30:20.698Z"
   },
   {
    "duration": 170,
    "start_time": "2024-08-21T12:30:20.967Z"
   },
   {
    "duration": 17,
    "start_time": "2024-08-21T12:30:21.139Z"
   },
   {
    "duration": 99,
    "start_time": "2024-08-21T12:30:21.158Z"
   },
   {
    "duration": 7,
    "start_time": "2024-08-21T12:30:21.259Z"
   },
   {
    "duration": 9,
    "start_time": "2024-08-21T12:30:21.267Z"
   },
   {
    "duration": 783,
    "start_time": "2024-08-22T05:36:23.874Z"
   },
   {
    "duration": 368,
    "start_time": "2024-08-22T05:36:24.659Z"
   },
   {
    "duration": 11,
    "start_time": "2024-08-22T05:36:25.029Z"
   },
   {
    "duration": 11,
    "start_time": "2024-08-22T05:36:25.042Z"
   },
   {
    "duration": 7,
    "start_time": "2024-08-22T05:36:25.054Z"
   },
   {
    "duration": 11,
    "start_time": "2024-08-22T05:36:25.063Z"
   },
   {
    "duration": 356,
    "start_time": "2024-08-22T05:36:25.075Z"
   },
   {
    "duration": 7,
    "start_time": "2024-08-22T05:36:25.432Z"
   },
   {
    "duration": 10,
    "start_time": "2024-08-22T05:36:25.441Z"
   },
   {
    "duration": 13,
    "start_time": "2024-08-22T05:36:25.453Z"
   },
   {
    "duration": 26,
    "start_time": "2024-08-22T05:36:25.468Z"
   },
   {
    "duration": 5,
    "start_time": "2024-08-22T05:36:25.495Z"
   },
   {
    "duration": 8,
    "start_time": "2024-08-22T05:36:25.501Z"
   },
   {
    "duration": 5,
    "start_time": "2024-08-22T05:36:25.511Z"
   },
   {
    "duration": 6,
    "start_time": "2024-08-22T05:36:25.518Z"
   },
   {
    "duration": 5,
    "start_time": "2024-08-22T05:36:25.525Z"
   },
   {
    "duration": 4,
    "start_time": "2024-08-22T05:36:25.531Z"
   },
   {
    "duration": 5,
    "start_time": "2024-08-22T05:36:25.536Z"
   },
   {
    "duration": 6,
    "start_time": "2024-08-22T05:36:25.543Z"
   },
   {
    "duration": 42,
    "start_time": "2024-08-22T05:36:25.550Z"
   },
   {
    "duration": 10,
    "start_time": "2024-08-22T05:36:25.593Z"
   },
   {
    "duration": 3,
    "start_time": "2024-08-22T05:36:25.605Z"
   },
   {
    "duration": 5,
    "start_time": "2024-08-22T05:36:25.610Z"
   },
   {
    "duration": 5,
    "start_time": "2024-08-22T05:36:25.616Z"
   },
   {
    "duration": 139,
    "start_time": "2024-08-22T05:36:25.622Z"
   },
   {
    "duration": 155,
    "start_time": "2024-08-22T05:36:25.762Z"
   },
   {
    "duration": 216,
    "start_time": "2024-08-22T05:36:25.918Z"
   },
   {
    "duration": 159,
    "start_time": "2024-08-22T05:36:26.136Z"
   },
   {
    "duration": 5,
    "start_time": "2024-08-22T05:36:26.297Z"
   },
   {
    "duration": 6,
    "start_time": "2024-08-22T05:36:26.303Z"
   },
   {
    "duration": 8,
    "start_time": "2024-08-22T05:36:26.310Z"
   },
   {
    "duration": 137,
    "start_time": "2024-08-22T05:36:26.320Z"
   },
   {
    "duration": 189,
    "start_time": "2024-08-22T05:36:26.458Z"
   },
   {
    "duration": 164,
    "start_time": "2024-08-22T05:36:26.649Z"
   },
   {
    "duration": 6,
    "start_time": "2024-08-22T05:36:26.814Z"
   },
   {
    "duration": 6,
    "start_time": "2024-08-22T05:36:26.821Z"
   },
   {
    "duration": 165,
    "start_time": "2024-08-22T05:36:26.828Z"
   },
   {
    "duration": 2,
    "start_time": "2024-08-22T05:36:26.994Z"
   },
   {
    "duration": 5,
    "start_time": "2024-08-22T05:36:26.997Z"
   },
   {
    "duration": 154,
    "start_time": "2024-08-22T05:36:27.003Z"
   },
   {
    "duration": 132,
    "start_time": "2024-08-22T05:36:27.161Z"
   },
   {
    "duration": 5,
    "start_time": "2024-08-22T05:36:27.295Z"
   },
   {
    "duration": 8,
    "start_time": "2024-08-22T05:36:27.301Z"
   },
   {
    "duration": 129,
    "start_time": "2024-08-22T05:36:27.311Z"
   },
   {
    "duration": 7,
    "start_time": "2024-08-22T05:36:27.441Z"
   },
   {
    "duration": 8,
    "start_time": "2024-08-22T05:36:27.450Z"
   },
   {
    "duration": 6,
    "start_time": "2024-08-22T05:36:27.460Z"
   },
   {
    "duration": 32,
    "start_time": "2024-08-22T05:36:27.468Z"
   },
   {
    "duration": 14,
    "start_time": "2024-08-22T05:36:27.501Z"
   },
   {
    "duration": 14,
    "start_time": "2024-08-22T05:36:27.516Z"
   },
   {
    "duration": 12,
    "start_time": "2024-08-22T05:36:27.531Z"
   },
   {
    "duration": 195,
    "start_time": "2024-08-22T05:36:27.545Z"
   },
   {
    "duration": 220,
    "start_time": "2024-08-22T05:36:27.741Z"
   },
   {
    "duration": 174,
    "start_time": "2024-08-22T05:36:27.963Z"
   },
   {
    "duration": 164,
    "start_time": "2024-08-22T05:36:28.138Z"
   },
   {
    "duration": 13,
    "start_time": "2024-08-22T05:36:28.303Z"
   },
   {
    "duration": 22,
    "start_time": "2024-08-22T05:36:28.318Z"
   },
   {
    "duration": 6,
    "start_time": "2024-08-22T05:36:28.341Z"
   },
   {
    "duration": 14,
    "start_time": "2024-08-22T05:36:28.349Z"
   },
   {
    "duration": 665,
    "start_time": "2024-08-22T05:38:01.469Z"
   },
   {
    "duration": 72,
    "start_time": "2024-08-22T05:38:02.136Z"
   },
   {
    "duration": 11,
    "start_time": "2024-08-22T05:38:02.209Z"
   },
   {
    "duration": 11,
    "start_time": "2024-08-22T05:38:02.221Z"
   },
   {
    "duration": 11,
    "start_time": "2024-08-22T05:38:02.234Z"
   },
   {
    "duration": 19,
    "start_time": "2024-08-22T05:38:02.246Z"
   },
   {
    "duration": 380,
    "start_time": "2024-08-22T05:38:02.266Z"
   },
   {
    "duration": 7,
    "start_time": "2024-08-22T05:38:02.648Z"
   },
   {
    "duration": 13,
    "start_time": "2024-08-22T05:38:02.656Z"
   },
   {
    "duration": 28,
    "start_time": "2024-08-22T05:38:02.670Z"
   },
   {
    "duration": 49,
    "start_time": "2024-08-22T05:38:02.700Z"
   },
   {
    "duration": 4,
    "start_time": "2024-08-22T05:38:02.750Z"
   },
   {
    "duration": 9,
    "start_time": "2024-08-22T05:38:02.756Z"
   },
   {
    "duration": 21,
    "start_time": "2024-08-22T05:38:02.767Z"
   },
   {
    "duration": 6,
    "start_time": "2024-08-22T05:38:02.790Z"
   },
   {
    "duration": 10,
    "start_time": "2024-08-22T05:38:02.797Z"
   },
   {
    "duration": 36,
    "start_time": "2024-08-22T05:38:02.808Z"
   },
   {
    "duration": 12,
    "start_time": "2024-08-22T05:38:02.846Z"
   },
   {
    "duration": 6,
    "start_time": "2024-08-22T05:38:02.859Z"
   },
   {
    "duration": 6,
    "start_time": "2024-08-22T05:38:02.866Z"
   },
   {
    "duration": 25,
    "start_time": "2024-08-22T05:38:02.873Z"
   },
   {
    "duration": 13,
    "start_time": "2024-08-22T05:38:02.900Z"
   },
   {
    "duration": 31,
    "start_time": "2024-08-22T05:38:02.914Z"
   },
   {
    "duration": 27,
    "start_time": "2024-08-22T05:38:02.947Z"
   },
   {
    "duration": 80,
    "start_time": "2024-08-22T05:38:02.975Z"
   },
   {
    "duration": 0,
    "start_time": "2024-08-22T05:38:03.057Z"
   },
   {
    "duration": 0,
    "start_time": "2024-08-22T05:38:03.058Z"
   },
   {
    "duration": 0,
    "start_time": "2024-08-22T05:38:03.059Z"
   },
   {
    "duration": 0,
    "start_time": "2024-08-22T05:38:03.061Z"
   },
   {
    "duration": 0,
    "start_time": "2024-08-22T05:38:03.062Z"
   },
   {
    "duration": 0,
    "start_time": "2024-08-22T05:38:03.063Z"
   },
   {
    "duration": 0,
    "start_time": "2024-08-22T05:38:03.064Z"
   },
   {
    "duration": 0,
    "start_time": "2024-08-22T05:38:03.065Z"
   },
   {
    "duration": 0,
    "start_time": "2024-08-22T05:38:03.066Z"
   },
   {
    "duration": 0,
    "start_time": "2024-08-22T05:38:03.067Z"
   },
   {
    "duration": 0,
    "start_time": "2024-08-22T05:38:03.068Z"
   },
   {
    "duration": 0,
    "start_time": "2024-08-22T05:38:03.069Z"
   },
   {
    "duration": 0,
    "start_time": "2024-08-22T05:38:03.070Z"
   },
   {
    "duration": 0,
    "start_time": "2024-08-22T05:38:03.071Z"
   },
   {
    "duration": 0,
    "start_time": "2024-08-22T05:38:03.071Z"
   },
   {
    "duration": 0,
    "start_time": "2024-08-22T05:38:03.072Z"
   },
   {
    "duration": 0,
    "start_time": "2024-08-22T05:38:03.073Z"
   },
   {
    "duration": 0,
    "start_time": "2024-08-22T05:38:03.074Z"
   },
   {
    "duration": 0,
    "start_time": "2024-08-22T05:38:03.075Z"
   },
   {
    "duration": 0,
    "start_time": "2024-08-22T05:38:03.076Z"
   },
   {
    "duration": 0,
    "start_time": "2024-08-22T05:38:03.077Z"
   },
   {
    "duration": 0,
    "start_time": "2024-08-22T05:38:03.078Z"
   },
   {
    "duration": 0,
    "start_time": "2024-08-22T05:38:03.079Z"
   },
   {
    "duration": 0,
    "start_time": "2024-08-22T05:38:03.080Z"
   },
   {
    "duration": 0,
    "start_time": "2024-08-22T05:38:03.081Z"
   },
   {
    "duration": 0,
    "start_time": "2024-08-22T05:38:03.082Z"
   },
   {
    "duration": 0,
    "start_time": "2024-08-22T05:38:03.082Z"
   },
   {
    "duration": 0,
    "start_time": "2024-08-22T05:38:03.083Z"
   },
   {
    "duration": 0,
    "start_time": "2024-08-22T05:38:03.084Z"
   },
   {
    "duration": 0,
    "start_time": "2024-08-22T05:38:03.085Z"
   },
   {
    "duration": 0,
    "start_time": "2024-08-22T05:38:03.086Z"
   },
   {
    "duration": 0,
    "start_time": "2024-08-22T05:38:03.087Z"
   },
   {
    "duration": 0,
    "start_time": "2024-08-22T05:38:03.088Z"
   },
   {
    "duration": 0,
    "start_time": "2024-08-22T05:38:03.089Z"
   },
   {
    "duration": 595,
    "start_time": "2024-08-22T05:38:37.244Z"
   },
   {
    "duration": 79,
    "start_time": "2024-08-22T05:38:37.841Z"
   },
   {
    "duration": 10,
    "start_time": "2024-08-22T05:38:37.922Z"
   },
   {
    "duration": 12,
    "start_time": "2024-08-22T05:38:37.933Z"
   },
   {
    "duration": 8,
    "start_time": "2024-08-22T05:38:37.946Z"
   },
   {
    "duration": 11,
    "start_time": "2024-08-22T05:38:37.955Z"
   },
   {
    "duration": 396,
    "start_time": "2024-08-22T05:38:37.967Z"
   },
   {
    "duration": 7,
    "start_time": "2024-08-22T05:38:38.365Z"
   },
   {
    "duration": 17,
    "start_time": "2024-08-22T05:38:38.389Z"
   },
   {
    "duration": 13,
    "start_time": "2024-08-22T05:38:38.407Z"
   },
   {
    "duration": 18,
    "start_time": "2024-08-22T05:38:38.421Z"
   },
   {
    "duration": 5,
    "start_time": "2024-08-22T05:38:38.440Z"
   },
   {
    "duration": 7,
    "start_time": "2024-08-22T05:38:38.447Z"
   },
   {
    "duration": 11,
    "start_time": "2024-08-22T05:38:38.458Z"
   },
   {
    "duration": 22,
    "start_time": "2024-08-22T05:38:38.471Z"
   },
   {
    "duration": 7,
    "start_time": "2024-08-22T05:38:38.501Z"
   },
   {
    "duration": 15,
    "start_time": "2024-08-22T05:38:38.509Z"
   },
   {
    "duration": 9,
    "start_time": "2024-08-22T05:38:38.526Z"
   },
   {
    "duration": 23,
    "start_time": "2024-08-22T05:38:38.537Z"
   },
   {
    "duration": 14,
    "start_time": "2024-08-22T05:38:38.562Z"
   },
   {
    "duration": 8,
    "start_time": "2024-08-22T05:38:38.578Z"
   },
   {
    "duration": 11,
    "start_time": "2024-08-22T05:38:38.588Z"
   },
   {
    "duration": 8,
    "start_time": "2024-08-22T05:38:38.601Z"
   },
   {
    "duration": 13,
    "start_time": "2024-08-22T05:38:38.610Z"
   },
   {
    "duration": 59,
    "start_time": "2024-08-22T05:38:38.624Z"
   },
   {
    "duration": 0,
    "start_time": "2024-08-22T05:38:38.685Z"
   },
   {
    "duration": 0,
    "start_time": "2024-08-22T05:38:38.686Z"
   },
   {
    "duration": 0,
    "start_time": "2024-08-22T05:38:38.688Z"
   },
   {
    "duration": 0,
    "start_time": "2024-08-22T05:38:38.689Z"
   },
   {
    "duration": 0,
    "start_time": "2024-08-22T05:38:38.695Z"
   },
   {
    "duration": 0,
    "start_time": "2024-08-22T05:38:38.696Z"
   },
   {
    "duration": 0,
    "start_time": "2024-08-22T05:38:38.697Z"
   },
   {
    "duration": 0,
    "start_time": "2024-08-22T05:38:38.698Z"
   },
   {
    "duration": 0,
    "start_time": "2024-08-22T05:38:38.700Z"
   },
   {
    "duration": 0,
    "start_time": "2024-08-22T05:38:38.701Z"
   },
   {
    "duration": 1,
    "start_time": "2024-08-22T05:38:38.702Z"
   },
   {
    "duration": 0,
    "start_time": "2024-08-22T05:38:38.704Z"
   },
   {
    "duration": 0,
    "start_time": "2024-08-22T05:38:38.705Z"
   },
   {
    "duration": 0,
    "start_time": "2024-08-22T05:38:38.706Z"
   },
   {
    "duration": 0,
    "start_time": "2024-08-22T05:38:38.707Z"
   },
   {
    "duration": 0,
    "start_time": "2024-08-22T05:38:38.708Z"
   },
   {
    "duration": 0,
    "start_time": "2024-08-22T05:38:38.709Z"
   },
   {
    "duration": 0,
    "start_time": "2024-08-22T05:38:38.710Z"
   },
   {
    "duration": 0,
    "start_time": "2024-08-22T05:38:38.711Z"
   },
   {
    "duration": 0,
    "start_time": "2024-08-22T05:38:38.711Z"
   },
   {
    "duration": 0,
    "start_time": "2024-08-22T05:38:38.712Z"
   },
   {
    "duration": 0,
    "start_time": "2024-08-22T05:38:38.713Z"
   },
   {
    "duration": 0,
    "start_time": "2024-08-22T05:38:38.714Z"
   },
   {
    "duration": 0,
    "start_time": "2024-08-22T05:38:38.715Z"
   },
   {
    "duration": 0,
    "start_time": "2024-08-22T05:38:38.716Z"
   },
   {
    "duration": 0,
    "start_time": "2024-08-22T05:38:38.717Z"
   },
   {
    "duration": 0,
    "start_time": "2024-08-22T05:38:38.718Z"
   },
   {
    "duration": 0,
    "start_time": "2024-08-22T05:38:38.719Z"
   },
   {
    "duration": 0,
    "start_time": "2024-08-22T05:38:38.720Z"
   },
   {
    "duration": 0,
    "start_time": "2024-08-22T05:38:38.721Z"
   },
   {
    "duration": 0,
    "start_time": "2024-08-22T05:38:38.722Z"
   },
   {
    "duration": 0,
    "start_time": "2024-08-22T05:38:38.723Z"
   },
   {
    "duration": 0,
    "start_time": "2024-08-22T05:38:38.724Z"
   },
   {
    "duration": 0,
    "start_time": "2024-08-22T05:38:38.725Z"
   },
   {
    "duration": 51,
    "start_time": "2024-08-22T05:38:51.564Z"
   },
   {
    "duration": 90,
    "start_time": "2024-08-22T05:39:00.159Z"
   },
   {
    "duration": 135,
    "start_time": "2024-08-22T05:39:04.327Z"
   },
   {
    "duration": 150,
    "start_time": "2024-08-22T05:39:10.903Z"
   },
   {
    "duration": 587,
    "start_time": "2024-08-22T05:40:06.451Z"
   },
   {
    "duration": 71,
    "start_time": "2024-08-22T05:40:07.040Z"
   },
   {
    "duration": 11,
    "start_time": "2024-08-22T05:40:07.113Z"
   },
   {
    "duration": 10,
    "start_time": "2024-08-22T05:40:07.125Z"
   },
   {
    "duration": 9,
    "start_time": "2024-08-22T05:40:07.137Z"
   },
   {
    "duration": 10,
    "start_time": "2024-08-22T05:40:07.147Z"
   },
   {
    "duration": 373,
    "start_time": "2024-08-22T05:40:07.159Z"
   },
   {
    "duration": 7,
    "start_time": "2024-08-22T05:40:07.534Z"
   },
   {
    "duration": 11,
    "start_time": "2024-08-22T05:40:07.542Z"
   },
   {
    "duration": 7,
    "start_time": "2024-08-22T05:40:07.555Z"
   },
   {
    "duration": 27,
    "start_time": "2024-08-22T05:40:07.563Z"
   },
   {
    "duration": 4,
    "start_time": "2024-08-22T05:40:07.592Z"
   },
   {
    "duration": 16,
    "start_time": "2024-08-22T05:40:07.598Z"
   },
   {
    "duration": 6,
    "start_time": "2024-08-22T05:40:07.617Z"
   },
   {
    "duration": 8,
    "start_time": "2024-08-22T05:40:07.624Z"
   },
   {
    "duration": 6,
    "start_time": "2024-08-22T05:40:07.633Z"
   },
   {
    "duration": 4,
    "start_time": "2024-08-22T05:40:07.640Z"
   },
   {
    "duration": 5,
    "start_time": "2024-08-22T05:40:07.646Z"
   },
   {
    "duration": 6,
    "start_time": "2024-08-22T05:40:07.652Z"
   },
   {
    "duration": 6,
    "start_time": "2024-08-22T05:40:07.690Z"
   },
   {
    "duration": 27,
    "start_time": "2024-08-22T05:40:07.697Z"
   },
   {
    "duration": 4,
    "start_time": "2024-08-22T05:40:07.726Z"
   },
   {
    "duration": 5,
    "start_time": "2024-08-22T05:40:07.732Z"
   },
   {
    "duration": 5,
    "start_time": "2024-08-22T05:40:07.739Z"
   },
   {
    "duration": 161,
    "start_time": "2024-08-22T05:40:07.746Z"
   },
   {
    "duration": 100,
    "start_time": "2024-08-22T05:40:07.908Z"
   },
   {
    "duration": 294,
    "start_time": "2024-08-22T05:40:08.010Z"
   },
   {
    "duration": 163,
    "start_time": "2024-08-22T05:40:08.306Z"
   },
   {
    "duration": 5,
    "start_time": "2024-08-22T05:40:08.470Z"
   },
   {
    "duration": 13,
    "start_time": "2024-08-22T05:40:08.477Z"
   },
   {
    "duration": 33,
    "start_time": "2024-08-22T05:40:08.492Z"
   },
   {
    "duration": 118,
    "start_time": "2024-08-22T05:40:08.526Z"
   },
   {
    "duration": 194,
    "start_time": "2024-08-22T05:40:08.646Z"
   },
   {
    "duration": 168,
    "start_time": "2024-08-22T05:40:08.841Z"
   },
   {
    "duration": 5,
    "start_time": "2024-08-22T05:40:09.011Z"
   },
   {
    "duration": 8,
    "start_time": "2024-08-22T05:40:09.017Z"
   },
   {
    "duration": 165,
    "start_time": "2024-08-22T05:40:09.026Z"
   },
   {
    "duration": 2,
    "start_time": "2024-08-22T05:40:09.193Z"
   },
   {
    "duration": 24,
    "start_time": "2024-08-22T05:40:09.197Z"
   },
   {
    "duration": 140,
    "start_time": "2024-08-22T05:40:09.223Z"
   },
   {
    "duration": 133,
    "start_time": "2024-08-22T05:40:09.366Z"
   },
   {
    "duration": 5,
    "start_time": "2024-08-22T05:40:09.501Z"
   },
   {
    "duration": 16,
    "start_time": "2024-08-22T05:40:09.507Z"
   },
   {
    "duration": 124,
    "start_time": "2024-08-22T05:40:09.525Z"
   },
   {
    "duration": 10,
    "start_time": "2024-08-22T05:40:09.650Z"
   },
   {
    "duration": 9,
    "start_time": "2024-08-22T05:40:09.661Z"
   },
   {
    "duration": 30,
    "start_time": "2024-08-22T05:40:09.672Z"
   },
   {
    "duration": 24,
    "start_time": "2024-08-22T05:40:09.704Z"
   },
   {
    "duration": 18,
    "start_time": "2024-08-22T05:40:09.730Z"
   },
   {
    "duration": 16,
    "start_time": "2024-08-22T05:40:09.750Z"
   },
   {
    "duration": 32,
    "start_time": "2024-08-22T05:40:09.767Z"
   },
   {
    "duration": 183,
    "start_time": "2024-08-22T05:40:09.801Z"
   },
   {
    "duration": 147,
    "start_time": "2024-08-22T05:40:09.989Z"
   },
   {
    "duration": 263,
    "start_time": "2024-08-22T05:40:10.138Z"
   },
   {
    "duration": 158,
    "start_time": "2024-08-22T05:40:10.402Z"
   },
   {
    "duration": 13,
    "start_time": "2024-08-22T05:40:10.561Z"
   },
   {
    "duration": 34,
    "start_time": "2024-08-22T05:40:10.575Z"
   },
   {
    "duration": 7,
    "start_time": "2024-08-22T05:40:10.611Z"
   },
   {
    "duration": 8,
    "start_time": "2024-08-22T05:40:10.620Z"
   },
   {
    "duration": 424,
    "start_time": "2024-08-22T05:50:17.046Z"
   },
   {
    "duration": 2,
    "start_time": "2024-08-22T05:50:21.700Z"
   },
   {
    "duration": 1393,
    "start_time": "2024-08-22T05:52:22.757Z"
   },
   {
    "duration": 850,
    "start_time": "2024-08-22T05:52:42.485Z"
   },
   {
    "duration": 1259,
    "start_time": "2024-08-22T05:53:01.304Z"
   },
   {
    "duration": 1377,
    "start_time": "2024-08-22T05:53:08.104Z"
   },
   {
    "duration": 1552,
    "start_time": "2024-08-22T05:53:15.927Z"
   },
   {
    "duration": 1353,
    "start_time": "2024-08-22T05:55:22.832Z"
   },
   {
    "duration": 1685,
    "start_time": "2024-08-22T05:56:57.255Z"
   },
   {
    "duration": 3,
    "start_time": "2024-08-22T05:57:11.199Z"
   },
   {
    "duration": 1682,
    "start_time": "2024-08-22T05:57:12.188Z"
   },
   {
    "duration": 1664,
    "start_time": "2024-08-22T05:57:28.056Z"
   },
   {
    "duration": 1673,
    "start_time": "2024-08-22T05:57:39.879Z"
   },
   {
    "duration": 1733,
    "start_time": "2024-08-22T06:03:01.443Z"
   },
   {
    "duration": 1319,
    "start_time": "2024-08-22T06:03:11.181Z"
   },
   {
    "duration": 1846,
    "start_time": "2024-08-22T06:03:27.251Z"
   },
   {
    "duration": 2,
    "start_time": "2024-08-22T06:03:34.858Z"
   },
   {
    "duration": 1733,
    "start_time": "2024-08-22T06:03:36.018Z"
   },
   {
    "duration": 4,
    "start_time": "2024-08-22T08:34:26.731Z"
   },
   {
    "duration": 59,
    "start_time": "2024-08-22T08:36:40.316Z"
   },
   {
    "duration": 558,
    "start_time": "2024-08-22T08:36:59.148Z"
   },
   {
    "duration": 73,
    "start_time": "2024-08-22T08:36:59.707Z"
   },
   {
    "duration": 12,
    "start_time": "2024-08-22T08:36:59.781Z"
   },
   {
    "duration": 25,
    "start_time": "2024-08-22T08:36:59.794Z"
   },
   {
    "duration": 20,
    "start_time": "2024-08-22T08:36:59.821Z"
   },
   {
    "duration": 19,
    "start_time": "2024-08-22T08:36:59.842Z"
   },
   {
    "duration": 360,
    "start_time": "2024-08-22T08:36:59.863Z"
   },
   {
    "duration": 10,
    "start_time": "2024-08-22T08:37:00.225Z"
   },
   {
    "duration": 46,
    "start_time": "2024-08-22T08:37:00.236Z"
   },
   {
    "duration": 31,
    "start_time": "2024-08-22T08:37:00.283Z"
   },
   {
    "duration": 35,
    "start_time": "2024-08-22T08:37:00.316Z"
   },
   {
    "duration": 8,
    "start_time": "2024-08-22T08:37:00.352Z"
   },
   {
    "duration": 15,
    "start_time": "2024-08-22T08:37:00.361Z"
   },
   {
    "duration": 11,
    "start_time": "2024-08-22T08:37:00.379Z"
   },
   {
    "duration": 13,
    "start_time": "2024-08-22T08:37:00.392Z"
   },
   {
    "duration": 14,
    "start_time": "2024-08-22T08:37:00.406Z"
   },
   {
    "duration": 8,
    "start_time": "2024-08-22T08:37:00.422Z"
   },
   {
    "duration": 17,
    "start_time": "2024-08-22T08:37:00.432Z"
   },
   {
    "duration": 26,
    "start_time": "2024-08-22T08:37:00.451Z"
   },
   {
    "duration": 19,
    "start_time": "2024-08-22T08:37:00.479Z"
   },
   {
    "duration": 9,
    "start_time": "2024-08-22T08:37:00.499Z"
   },
   {
    "duration": 12,
    "start_time": "2024-08-22T08:37:00.510Z"
   },
   {
    "duration": 8,
    "start_time": "2024-08-22T08:37:00.524Z"
   },
   {
    "duration": 26,
    "start_time": "2024-08-22T08:37:00.533Z"
   },
   {
    "duration": 153,
    "start_time": "2024-08-22T08:37:00.560Z"
   },
   {
    "duration": 104,
    "start_time": "2024-08-22T08:37:00.715Z"
   },
   {
    "duration": 269,
    "start_time": "2024-08-22T08:37:00.821Z"
   },
   {
    "duration": 157,
    "start_time": "2024-08-22T08:37:01.091Z"
   },
   {
    "duration": 5,
    "start_time": "2024-08-22T08:37:01.249Z"
   },
   {
    "duration": 32,
    "start_time": "2024-08-22T08:37:01.256Z"
   },
   {
    "duration": 23,
    "start_time": "2024-08-22T08:37:01.290Z"
   },
   {
    "duration": 127,
    "start_time": "2024-08-22T08:37:01.315Z"
   },
   {
    "duration": 191,
    "start_time": "2024-08-22T08:37:01.444Z"
   },
   {
    "duration": 165,
    "start_time": "2024-08-22T08:37:01.637Z"
   },
   {
    "duration": 7,
    "start_time": "2024-08-22T08:37:01.804Z"
   },
   {
    "duration": 23,
    "start_time": "2024-08-22T08:37:01.812Z"
   },
   {
    "duration": 167,
    "start_time": "2024-08-22T08:37:01.837Z"
   },
   {
    "duration": 2,
    "start_time": "2024-08-22T08:37:02.006Z"
   },
   {
    "duration": 13,
    "start_time": "2024-08-22T08:37:02.010Z"
   },
   {
    "duration": 161,
    "start_time": "2024-08-22T08:37:02.024Z"
   },
   {
    "duration": 129,
    "start_time": "2024-08-22T08:37:02.191Z"
   },
   {
    "duration": 6,
    "start_time": "2024-08-22T08:37:02.322Z"
   },
   {
    "duration": 17,
    "start_time": "2024-08-22T08:37:02.330Z"
   },
   {
    "duration": 127,
    "start_time": "2024-08-22T08:37:02.348Z"
   },
   {
    "duration": 14,
    "start_time": "2024-08-22T08:37:02.476Z"
   },
   {
    "duration": 43,
    "start_time": "2024-08-22T08:37:02.492Z"
   },
   {
    "duration": 20,
    "start_time": "2024-08-22T08:37:02.537Z"
   },
   {
    "duration": 25,
    "start_time": "2024-08-22T08:37:02.558Z"
   },
   {
    "duration": 17,
    "start_time": "2024-08-22T08:37:02.584Z"
   },
   {
    "duration": 20,
    "start_time": "2024-08-22T08:37:02.602Z"
   },
   {
    "duration": 25,
    "start_time": "2024-08-22T08:37:02.624Z"
   },
   {
    "duration": 169,
    "start_time": "2024-08-22T08:37:02.651Z"
   },
   {
    "duration": 151,
    "start_time": "2024-08-22T08:37:02.822Z"
   },
   {
    "duration": 243,
    "start_time": "2024-08-22T08:37:02.975Z"
   },
   {
    "duration": 179,
    "start_time": "2024-08-22T08:37:03.220Z"
   },
   {
    "duration": 12,
    "start_time": "2024-08-22T08:37:03.401Z"
   },
   {
    "duration": 46,
    "start_time": "2024-08-22T08:37:03.415Z"
   },
   {
    "duration": 6,
    "start_time": "2024-08-22T08:37:03.463Z"
   },
   {
    "duration": 44,
    "start_time": "2024-08-22T08:37:03.470Z"
   },
   {
    "duration": 380,
    "start_time": "2024-08-22T08:37:03.515Z"
   },
   {
    "duration": 60,
    "start_time": "2024-08-22T08:37:03.896Z"
   },
   {
    "duration": 5,
    "start_time": "2024-08-22T08:37:07.541Z"
   },
   {
    "duration": 6,
    "start_time": "2024-08-22T09:22:52.677Z"
   },
   {
    "duration": 86,
    "start_time": "2024-08-22T09:25:20.954Z"
   },
   {
    "duration": 6,
    "start_time": "2024-08-22T09:37:25.387Z"
   },
   {
    "duration": 30,
    "start_time": "2024-08-22T09:45:28.231Z"
   },
   {
    "duration": 7,
    "start_time": "2024-08-22T09:45:51.995Z"
   },
   {
    "duration": 9,
    "start_time": "2024-08-22T09:45:55.247Z"
   },
   {
    "duration": 3,
    "start_time": "2024-08-22T09:50:40.146Z"
   },
   {
    "duration": 4,
    "start_time": "2024-08-22T09:50:43.938Z"
   },
   {
    "duration": 27,
    "start_time": "2024-08-22T09:50:51.891Z"
   },
   {
    "duration": 16,
    "start_time": "2024-08-22T09:50:54.097Z"
   },
   {
    "duration": 9,
    "start_time": "2024-08-22T09:50:55.762Z"
   },
   {
    "duration": 1255,
    "start_time": "2024-08-22T09:53:24.779Z"
   },
   {
    "duration": 9,
    "start_time": "2024-08-22T09:57:10.748Z"
   },
   {
    "duration": 13,
    "start_time": "2024-08-22T09:57:17.486Z"
   },
   {
    "duration": 28,
    "start_time": "2024-08-22T10:14:09.578Z"
   },
   {
    "duration": 7,
    "start_time": "2024-08-22T10:14:10.343Z"
   },
   {
    "duration": 8,
    "start_time": "2024-08-22T10:14:12.674Z"
   },
   {
    "duration": 11,
    "start_time": "2024-08-22T10:14:15.313Z"
   },
   {
    "duration": 16,
    "start_time": "2024-08-22T10:14:22.516Z"
   },
   {
    "duration": 96,
    "start_time": "2024-08-22T10:17:29.223Z"
   },
   {
    "duration": 10,
    "start_time": "2024-08-22T10:17:45.193Z"
   },
   {
    "duration": 10,
    "start_time": "2024-08-22T10:17:50.588Z"
   },
   {
    "duration": 10,
    "start_time": "2024-08-22T10:18:04.647Z"
   },
   {
    "duration": 842,
    "start_time": "2024-08-22T10:18:23.399Z"
   },
   {
    "duration": 14,
    "start_time": "2024-08-22T10:18:47.035Z"
   },
   {
    "duration": 10,
    "start_time": "2024-08-22T10:18:56.982Z"
   },
   {
    "duration": 894,
    "start_time": "2024-08-22T10:19:06.841Z"
   },
   {
    "duration": 14,
    "start_time": "2024-08-22T10:19:21.152Z"
   },
   {
    "duration": 7,
    "start_time": "2024-08-22T10:19:37.673Z"
   },
   {
    "duration": 843,
    "start_time": "2024-08-22T10:19:48.586Z"
   },
   {
    "duration": 16,
    "start_time": "2024-08-22T10:21:13.981Z"
   },
   {
    "duration": 8,
    "start_time": "2024-08-22T10:21:35.533Z"
   },
   {
    "duration": 10,
    "start_time": "2024-08-22T10:21:40.889Z"
   },
   {
    "duration": 7,
    "start_time": "2024-08-22T10:21:47.945Z"
   },
   {
    "duration": 8,
    "start_time": "2024-08-22T10:22:05.993Z"
   },
   {
    "duration": 66,
    "start_time": "2024-08-22T10:22:30.045Z"
   },
   {
    "duration": 7,
    "start_time": "2024-08-22T10:22:34.480Z"
   },
   {
    "duration": 15,
    "start_time": "2024-08-22T10:22:43.942Z"
   },
   {
    "duration": 56,
    "start_time": "2024-08-22T10:24:26.047Z"
   },
   {
    "duration": 71,
    "start_time": "2024-08-22T10:24:58.414Z"
   },
   {
    "duration": 7,
    "start_time": "2024-08-22T10:25:20.579Z"
   },
   {
    "duration": 619,
    "start_time": "2024-08-22T10:26:30.181Z"
   },
   {
    "duration": 72,
    "start_time": "2024-08-22T10:26:30.802Z"
   },
   {
    "duration": 11,
    "start_time": "2024-08-22T10:26:30.875Z"
   },
   {
    "duration": 31,
    "start_time": "2024-08-22T10:26:30.888Z"
   },
   {
    "duration": 21,
    "start_time": "2024-08-22T10:26:30.921Z"
   },
   {
    "duration": 31,
    "start_time": "2024-08-22T10:26:30.944Z"
   },
   {
    "duration": 348,
    "start_time": "2024-08-22T10:26:30.977Z"
   },
   {
    "duration": 6,
    "start_time": "2024-08-22T10:26:31.327Z"
   },
   {
    "duration": 11,
    "start_time": "2024-08-22T10:26:31.335Z"
   },
   {
    "duration": 11,
    "start_time": "2024-08-22T10:26:31.348Z"
   },
   {
    "duration": 20,
    "start_time": "2024-08-22T10:26:31.360Z"
   },
   {
    "duration": 9,
    "start_time": "2024-08-22T10:26:31.381Z"
   },
   {
    "duration": 8,
    "start_time": "2024-08-22T10:26:31.392Z"
   },
   {
    "duration": 21,
    "start_time": "2024-08-22T10:26:31.402Z"
   },
   {
    "duration": 5,
    "start_time": "2024-08-22T10:26:31.424Z"
   },
   {
    "duration": 5,
    "start_time": "2024-08-22T10:26:31.430Z"
   },
   {
    "duration": 4,
    "start_time": "2024-08-22T10:26:31.436Z"
   },
   {
    "duration": 5,
    "start_time": "2024-08-22T10:26:31.441Z"
   },
   {
    "duration": 4,
    "start_time": "2024-08-22T10:26:31.448Z"
   },
   {
    "duration": 73,
    "start_time": "2024-08-22T10:26:31.454Z"
   },
   {
    "duration": 7,
    "start_time": "2024-08-22T10:26:31.528Z"
   },
   {
    "duration": 12,
    "start_time": "2024-08-22T10:26:31.537Z"
   },
   {
    "duration": 10,
    "start_time": "2024-08-22T10:26:31.551Z"
   },
   {
    "duration": 10,
    "start_time": "2024-08-22T10:26:31.563Z"
   },
   {
    "duration": 144,
    "start_time": "2024-08-22T10:26:31.574Z"
   },
   {
    "duration": 101,
    "start_time": "2024-08-22T10:26:31.720Z"
   },
   {
    "duration": 273,
    "start_time": "2024-08-22T10:26:31.823Z"
   },
   {
    "duration": 161,
    "start_time": "2024-08-22T10:26:32.097Z"
   },
   {
    "duration": 4,
    "start_time": "2024-08-22T10:26:32.260Z"
   },
   {
    "duration": 12,
    "start_time": "2024-08-22T10:26:32.266Z"
   },
   {
    "duration": 14,
    "start_time": "2024-08-22T10:26:32.279Z"
   },
   {
    "duration": 133,
    "start_time": "2024-08-22T10:26:32.294Z"
   },
   {
    "duration": 193,
    "start_time": "2024-08-22T10:26:32.429Z"
   },
   {
    "duration": 160,
    "start_time": "2024-08-22T10:26:32.624Z"
   },
   {
    "duration": 5,
    "start_time": "2024-08-22T10:26:32.789Z"
   },
   {
    "duration": 11,
    "start_time": "2024-08-22T10:26:32.796Z"
   },
   {
    "duration": 191,
    "start_time": "2024-08-22T10:26:32.808Z"
   },
   {
    "duration": 3,
    "start_time": "2024-08-22T10:26:33.000Z"
   },
   {
    "duration": 19,
    "start_time": "2024-08-22T10:26:33.004Z"
   },
   {
    "duration": 149,
    "start_time": "2024-08-22T10:26:33.025Z"
   },
   {
    "duration": 148,
    "start_time": "2024-08-22T10:26:33.179Z"
   },
   {
    "duration": 5,
    "start_time": "2024-08-22T10:26:33.329Z"
   },
   {
    "duration": 14,
    "start_time": "2024-08-22T10:26:33.335Z"
   },
   {
    "duration": 120,
    "start_time": "2024-08-22T10:26:33.350Z"
   },
   {
    "duration": 17,
    "start_time": "2024-08-22T10:26:33.472Z"
   },
   {
    "duration": 37,
    "start_time": "2024-08-22T10:26:33.491Z"
   },
   {
    "duration": 7,
    "start_time": "2024-08-22T10:26:33.530Z"
   },
   {
    "duration": 18,
    "start_time": "2024-08-22T10:26:33.538Z"
   },
   {
    "duration": 16,
    "start_time": "2024-08-22T10:26:33.557Z"
   },
   {
    "duration": 19,
    "start_time": "2024-08-22T10:26:33.574Z"
   },
   {
    "duration": 14,
    "start_time": "2024-08-22T10:26:33.595Z"
   },
   {
    "duration": 178,
    "start_time": "2024-08-22T10:26:33.611Z"
   },
   {
    "duration": 152,
    "start_time": "2024-08-22T10:26:33.791Z"
   },
   {
    "duration": 233,
    "start_time": "2024-08-22T10:26:33.944Z"
   },
   {
    "duration": 152,
    "start_time": "2024-08-22T10:26:34.179Z"
   },
   {
    "duration": 13,
    "start_time": "2024-08-22T10:26:34.333Z"
   },
   {
    "duration": 42,
    "start_time": "2024-08-22T10:26:34.348Z"
   },
   {
    "duration": 7,
    "start_time": "2024-08-22T10:26:34.392Z"
   },
   {
    "duration": 18,
    "start_time": "2024-08-22T10:26:34.400Z"
   },
   {
    "duration": 372,
    "start_time": "2024-08-22T10:26:34.419Z"
   },
   {
    "duration": 5,
    "start_time": "2024-08-22T10:26:34.792Z"
   },
   {
    "duration": 12,
    "start_time": "2024-08-22T10:26:34.798Z"
   },
   {
    "duration": 17,
    "start_time": "2024-08-22T10:26:34.811Z"
   },
   {
    "duration": 6,
    "start_time": "2024-08-22T10:40:04.393Z"
   },
   {
    "duration": 158,
    "start_time": "2024-08-22T10:40:06.331Z"
   },
   {
    "duration": 633,
    "start_time": "2024-08-22T10:40:15.567Z"
   },
   {
    "duration": 70,
    "start_time": "2024-08-22T10:40:16.202Z"
   },
   {
    "duration": 13,
    "start_time": "2024-08-22T10:40:16.273Z"
   },
   {
    "duration": 17,
    "start_time": "2024-08-22T10:40:16.288Z"
   },
   {
    "duration": 22,
    "start_time": "2024-08-22T10:40:16.307Z"
   },
   {
    "duration": 9,
    "start_time": "2024-08-22T10:40:16.330Z"
   },
   {
    "duration": 403,
    "start_time": "2024-08-22T10:40:16.340Z"
   },
   {
    "duration": 6,
    "start_time": "2024-08-22T10:40:16.744Z"
   },
   {
    "duration": 46,
    "start_time": "2024-08-22T10:40:16.751Z"
   },
   {
    "duration": 17,
    "start_time": "2024-08-22T10:40:16.800Z"
   },
   {
    "duration": 10,
    "start_time": "2024-08-22T10:40:16.818Z"
   },
   {
    "duration": 4,
    "start_time": "2024-08-22T10:40:16.829Z"
   },
   {
    "duration": 15,
    "start_time": "2024-08-22T10:40:16.834Z"
   },
   {
    "duration": 5,
    "start_time": "2024-08-22T10:40:16.851Z"
   },
   {
    "duration": 14,
    "start_time": "2024-08-22T10:40:16.858Z"
   },
   {
    "duration": 6,
    "start_time": "2024-08-22T10:40:16.889Z"
   },
   {
    "duration": 5,
    "start_time": "2024-08-22T10:40:16.896Z"
   },
   {
    "duration": 9,
    "start_time": "2024-08-22T10:40:16.902Z"
   },
   {
    "duration": 5,
    "start_time": "2024-08-22T10:40:16.912Z"
   },
   {
    "duration": 8,
    "start_time": "2024-08-22T10:40:16.918Z"
   },
   {
    "duration": 11,
    "start_time": "2024-08-22T10:40:16.927Z"
   },
   {
    "duration": 5,
    "start_time": "2024-08-22T10:40:16.939Z"
   },
   {
    "duration": 17,
    "start_time": "2024-08-22T10:40:16.945Z"
   },
   {
    "duration": 26,
    "start_time": "2024-08-22T10:40:16.964Z"
   },
   {
    "duration": 153,
    "start_time": "2024-08-22T10:40:16.992Z"
   },
   {
    "duration": 104,
    "start_time": "2024-08-22T10:40:17.146Z"
   },
   {
    "duration": 265,
    "start_time": "2024-08-22T10:40:17.251Z"
   },
   {
    "duration": 148,
    "start_time": "2024-08-22T10:40:17.519Z"
   },
   {
    "duration": 5,
    "start_time": "2024-08-22T10:40:17.668Z"
   },
   {
    "duration": 16,
    "start_time": "2024-08-22T10:40:17.674Z"
   },
   {
    "duration": 7,
    "start_time": "2024-08-22T10:40:17.692Z"
   },
   {
    "duration": 125,
    "start_time": "2024-08-22T10:40:17.700Z"
   },
   {
    "duration": 186,
    "start_time": "2024-08-22T10:40:17.826Z"
   },
   {
    "duration": 166,
    "start_time": "2024-08-22T10:40:18.013Z"
   },
   {
    "duration": 10,
    "start_time": "2024-08-22T10:40:18.180Z"
   },
   {
    "duration": 13,
    "start_time": "2024-08-22T10:40:18.192Z"
   },
   {
    "duration": 161,
    "start_time": "2024-08-22T10:40:18.207Z"
   },
   {
    "duration": 2,
    "start_time": "2024-08-22T10:40:18.370Z"
   },
   {
    "duration": 6,
    "start_time": "2024-08-22T10:40:18.373Z"
   },
   {
    "duration": 142,
    "start_time": "2024-08-22T10:40:18.380Z"
   },
   {
    "duration": 130,
    "start_time": "2024-08-22T10:40:18.523Z"
   },
   {
    "duration": 5,
    "start_time": "2024-08-22T10:40:18.654Z"
   },
   {
    "duration": 8,
    "start_time": "2024-08-22T10:40:18.660Z"
   },
   {
    "duration": 141,
    "start_time": "2024-08-22T10:40:18.670Z"
   },
   {
    "duration": 8,
    "start_time": "2024-08-22T10:40:18.812Z"
   },
   {
    "duration": 12,
    "start_time": "2024-08-22T10:40:18.821Z"
   },
   {
    "duration": 12,
    "start_time": "2024-08-22T10:40:18.834Z"
   },
   {
    "duration": 19,
    "start_time": "2024-08-22T10:40:18.847Z"
   },
   {
    "duration": 24,
    "start_time": "2024-08-22T10:40:18.868Z"
   },
   {
    "duration": 14,
    "start_time": "2024-08-22T10:40:18.893Z"
   },
   {
    "duration": 14,
    "start_time": "2024-08-22T10:40:18.909Z"
   },
   {
    "duration": 190,
    "start_time": "2024-08-22T10:40:18.924Z"
   },
   {
    "duration": 150,
    "start_time": "2024-08-22T10:40:19.115Z"
   },
   {
    "duration": 237,
    "start_time": "2024-08-22T10:40:19.266Z"
   },
   {
    "duration": 162,
    "start_time": "2024-08-22T10:40:19.505Z"
   },
   {
    "duration": 16,
    "start_time": "2024-08-22T10:40:19.668Z"
   },
   {
    "duration": 34,
    "start_time": "2024-08-22T10:40:19.690Z"
   },
   {
    "duration": 7,
    "start_time": "2024-08-22T10:40:19.726Z"
   },
   {
    "duration": 10,
    "start_time": "2024-08-22T10:40:19.735Z"
   },
   {
    "duration": 435,
    "start_time": "2024-08-22T10:40:19.747Z"
   },
   {
    "duration": 8,
    "start_time": "2024-08-22T10:40:20.184Z"
   },
   {
    "duration": 35,
    "start_time": "2024-08-22T10:40:20.193Z"
   },
   {
    "duration": 21,
    "start_time": "2024-08-22T10:40:20.231Z"
   },
   {
    "duration": 216,
    "start_time": "2024-08-22T10:45:19.235Z"
   },
   {
    "duration": 176,
    "start_time": "2024-08-22T10:45:25.461Z"
   },
   {
    "duration": 144,
    "start_time": "2024-08-22T10:45:32.911Z"
   },
   {
    "duration": 219,
    "start_time": "2024-08-22T10:46:45.380Z"
   },
   {
    "duration": 149,
    "start_time": "2024-08-22T10:46:51.381Z"
   },
   {
    "duration": 164,
    "start_time": "2024-08-22T11:00:34.338Z"
   },
   {
    "duration": 159,
    "start_time": "2024-08-22T11:01:58.632Z"
   },
   {
    "duration": 182,
    "start_time": "2024-08-22T11:02:17.173Z"
   },
   {
    "duration": 172,
    "start_time": "2024-08-22T11:02:23.852Z"
   },
   {
    "duration": 568,
    "start_time": "2024-08-22T11:03:26.938Z"
   },
   {
    "duration": 73,
    "start_time": "2024-08-22T11:03:27.508Z"
   },
   {
    "duration": 11,
    "start_time": "2024-08-22T11:03:27.583Z"
   },
   {
    "duration": 19,
    "start_time": "2024-08-22T11:03:27.596Z"
   },
   {
    "duration": 21,
    "start_time": "2024-08-22T11:03:27.618Z"
   },
   {
    "duration": 29,
    "start_time": "2024-08-22T11:03:27.640Z"
   },
   {
    "duration": 346,
    "start_time": "2024-08-22T11:03:27.670Z"
   },
   {
    "duration": 7,
    "start_time": "2024-08-22T11:03:28.017Z"
   },
   {
    "duration": 10,
    "start_time": "2024-08-22T11:03:28.026Z"
   },
   {
    "duration": 13,
    "start_time": "2024-08-22T11:03:28.037Z"
   },
   {
    "duration": 22,
    "start_time": "2024-08-22T11:03:28.051Z"
   },
   {
    "duration": 4,
    "start_time": "2024-08-22T11:03:28.074Z"
   },
   {
    "duration": 8,
    "start_time": "2024-08-22T11:03:28.089Z"
   },
   {
    "duration": 21,
    "start_time": "2024-08-22T11:03:28.100Z"
   },
   {
    "duration": 9,
    "start_time": "2024-08-22T11:03:28.123Z"
   },
   {
    "duration": 9,
    "start_time": "2024-08-22T11:03:28.134Z"
   },
   {
    "duration": 12,
    "start_time": "2024-08-22T11:03:28.144Z"
   },
   {
    "duration": 7,
    "start_time": "2024-08-22T11:03:28.158Z"
   },
   {
    "duration": 5,
    "start_time": "2024-08-22T11:03:28.166Z"
   },
   {
    "duration": 13,
    "start_time": "2024-08-22T11:03:28.172Z"
   },
   {
    "duration": 7,
    "start_time": "2024-08-22T11:03:28.189Z"
   },
   {
    "duration": 10,
    "start_time": "2024-08-22T11:03:28.197Z"
   },
   {
    "duration": 7,
    "start_time": "2024-08-22T11:03:28.208Z"
   },
   {
    "duration": 6,
    "start_time": "2024-08-22T11:03:28.216Z"
   },
   {
    "duration": 163,
    "start_time": "2024-08-22T11:03:28.223Z"
   },
   {
    "duration": 101,
    "start_time": "2024-08-22T11:03:28.388Z"
   },
   {
    "duration": 263,
    "start_time": "2024-08-22T11:03:28.491Z"
   },
   {
    "duration": 165,
    "start_time": "2024-08-22T11:03:28.756Z"
   },
   {
    "duration": 5,
    "start_time": "2024-08-22T11:03:28.922Z"
   },
   {
    "duration": 17,
    "start_time": "2024-08-22T11:03:28.929Z"
   },
   {
    "duration": 9,
    "start_time": "2024-08-22T11:03:28.947Z"
   },
   {
    "duration": 124,
    "start_time": "2024-08-22T11:03:28.957Z"
   },
   {
    "duration": 152,
    "start_time": "2024-08-22T11:03:29.082Z"
   },
   {
    "duration": 202,
    "start_time": "2024-08-22T11:03:29.235Z"
   },
   {
    "duration": 157,
    "start_time": "2024-08-22T11:03:29.438Z"
   },
   {
    "duration": 5,
    "start_time": "2024-08-22T11:03:29.596Z"
   },
   {
    "duration": 17,
    "start_time": "2024-08-22T11:03:29.603Z"
   },
   {
    "duration": 151,
    "start_time": "2024-08-22T11:03:29.621Z"
   },
   {
    "duration": 176,
    "start_time": "2024-08-22T11:03:29.773Z"
   },
   {
    "duration": 2,
    "start_time": "2024-08-22T11:03:29.950Z"
   },
   {
    "duration": 16,
    "start_time": "2024-08-22T11:03:29.956Z"
   },
   {
    "duration": 170,
    "start_time": "2024-08-22T11:03:29.974Z"
   },
   {
    "duration": 157,
    "start_time": "2024-08-22T11:03:30.145Z"
   },
   {
    "duration": 5,
    "start_time": "2024-08-22T11:03:30.303Z"
   },
   {
    "duration": 43,
    "start_time": "2024-08-22T11:03:30.310Z"
   },
   {
    "duration": 130,
    "start_time": "2024-08-22T11:03:30.354Z"
   },
   {
    "duration": 7,
    "start_time": "2024-08-22T11:03:30.489Z"
   },
   {
    "duration": 10,
    "start_time": "2024-08-22T11:03:30.498Z"
   },
   {
    "duration": 8,
    "start_time": "2024-08-22T11:03:30.509Z"
   },
   {
    "duration": 20,
    "start_time": "2024-08-22T11:03:30.519Z"
   },
   {
    "duration": 15,
    "start_time": "2024-08-22T11:03:30.541Z"
   },
   {
    "duration": 35,
    "start_time": "2024-08-22T11:03:30.557Z"
   },
   {
    "duration": 81,
    "start_time": "2024-08-22T11:03:30.594Z"
   },
   {
    "duration": 175,
    "start_time": "2024-08-22T11:03:30.676Z"
   },
   {
    "duration": 142,
    "start_time": "2024-08-22T11:03:30.853Z"
   },
   {
    "duration": 165,
    "start_time": "2024-08-22T11:03:30.996Z"
   },
   {
    "duration": 149,
    "start_time": "2024-08-22T11:03:31.162Z"
   },
   {
    "duration": 12,
    "start_time": "2024-08-22T11:03:31.313Z"
   },
   {
    "duration": 25,
    "start_time": "2024-08-22T11:03:31.327Z"
   },
   {
    "duration": 6,
    "start_time": "2024-08-22T11:03:31.353Z"
   },
   {
    "duration": 8,
    "start_time": "2024-08-22T11:03:31.361Z"
   },
   {
    "duration": 396,
    "start_time": "2024-08-22T11:03:31.390Z"
   },
   {
    "duration": 5,
    "start_time": "2024-08-22T11:03:31.788Z"
   },
   {
    "duration": 16,
    "start_time": "2024-08-22T11:03:31.794Z"
   },
   {
    "duration": 20,
    "start_time": "2024-08-22T11:03:31.811Z"
   },
   {
    "duration": 121,
    "start_time": "2024-08-22T11:04:51.190Z"
   },
   {
    "duration": 176,
    "start_time": "2024-08-22T11:04:56.797Z"
   },
   {
    "duration": 147,
    "start_time": "2024-08-22T11:04:59.835Z"
   },
   {
    "duration": 6,
    "start_time": "2024-08-22T11:05:12.292Z"
   },
   {
    "duration": 150,
    "start_time": "2024-08-22T11:05:12.949Z"
   },
   {
    "duration": 180,
    "start_time": "2024-08-22T11:05:32.275Z"
   },
   {
    "duration": 179,
    "start_time": "2024-08-22T11:06:11.806Z"
   },
   {
    "duration": 568,
    "start_time": "2024-08-22T11:06:15.625Z"
   },
   {
    "duration": 72,
    "start_time": "2024-08-22T11:06:16.195Z"
   },
   {
    "duration": 10,
    "start_time": "2024-08-22T11:06:16.269Z"
   },
   {
    "duration": 11,
    "start_time": "2024-08-22T11:06:16.281Z"
   },
   {
    "duration": 14,
    "start_time": "2024-08-22T11:06:16.293Z"
   },
   {
    "duration": 22,
    "start_time": "2024-08-22T11:06:16.309Z"
   },
   {
    "duration": 402,
    "start_time": "2024-08-22T11:06:16.333Z"
   },
   {
    "duration": 7,
    "start_time": "2024-08-22T11:06:16.737Z"
   },
   {
    "duration": 18,
    "start_time": "2024-08-22T11:06:16.745Z"
   },
   {
    "duration": 7,
    "start_time": "2024-08-22T11:06:16.765Z"
   },
   {
    "duration": 9,
    "start_time": "2024-08-22T11:06:16.789Z"
   },
   {
    "duration": 8,
    "start_time": "2024-08-22T11:06:16.800Z"
   },
   {
    "duration": 13,
    "start_time": "2024-08-22T11:06:16.809Z"
   },
   {
    "duration": 7,
    "start_time": "2024-08-22T11:06:16.823Z"
   },
   {
    "duration": 19,
    "start_time": "2024-08-22T11:06:16.832Z"
   },
   {
    "duration": 7,
    "start_time": "2024-08-22T11:06:16.890Z"
   },
   {
    "duration": 6,
    "start_time": "2024-08-22T11:06:16.899Z"
   },
   {
    "duration": 6,
    "start_time": "2024-08-22T11:06:16.907Z"
   },
   {
    "duration": 12,
    "start_time": "2024-08-22T11:06:16.915Z"
   },
   {
    "duration": 7,
    "start_time": "2024-08-22T11:06:16.928Z"
   },
   {
    "duration": 7,
    "start_time": "2024-08-22T11:06:16.937Z"
   },
   {
    "duration": 44,
    "start_time": "2024-08-22T11:06:16.946Z"
   },
   {
    "duration": 5,
    "start_time": "2024-08-22T11:06:16.992Z"
   },
   {
    "duration": 13,
    "start_time": "2024-08-22T11:06:16.998Z"
   },
   {
    "duration": 159,
    "start_time": "2024-08-22T11:06:17.012Z"
   },
   {
    "duration": 96,
    "start_time": "2024-08-22T11:06:17.172Z"
   },
   {
    "duration": 264,
    "start_time": "2024-08-22T11:06:17.270Z"
   },
   {
    "duration": 155,
    "start_time": "2024-08-22T11:06:17.537Z"
   },
   {
    "duration": 5,
    "start_time": "2024-08-22T11:06:17.693Z"
   },
   {
    "duration": 8,
    "start_time": "2024-08-22T11:06:17.699Z"
   },
   {
    "duration": 8,
    "start_time": "2024-08-22T11:06:17.709Z"
   },
   {
    "duration": 138,
    "start_time": "2024-08-22T11:06:17.718Z"
   },
   {
    "duration": 150,
    "start_time": "2024-08-22T11:06:17.858Z"
   },
   {
    "duration": 200,
    "start_time": "2024-08-22T11:06:18.009Z"
   },
   {
    "duration": 162,
    "start_time": "2024-08-22T11:06:18.210Z"
   },
   {
    "duration": 5,
    "start_time": "2024-08-22T11:06:18.373Z"
   },
   {
    "duration": 6,
    "start_time": "2024-08-22T11:06:18.389Z"
   },
   {
    "duration": 173,
    "start_time": "2024-08-22T11:06:18.396Z"
   },
   {
    "duration": 166,
    "start_time": "2024-08-22T11:06:18.571Z"
   },
   {
    "duration": 3,
    "start_time": "2024-08-22T11:06:18.739Z"
   },
   {
    "duration": 10,
    "start_time": "2024-08-22T11:06:18.743Z"
   },
   {
    "duration": 203,
    "start_time": "2024-08-22T11:06:18.754Z"
   },
   {
    "duration": 138,
    "start_time": "2024-08-22T11:06:18.958Z"
   },
   {
    "duration": 5,
    "start_time": "2024-08-22T11:06:19.098Z"
   },
   {
    "duration": 6,
    "start_time": "2024-08-22T11:06:19.104Z"
   },
   {
    "duration": 165,
    "start_time": "2024-08-22T11:06:19.112Z"
   },
   {
    "duration": 253,
    "start_time": "2024-08-22T11:06:19.278Z"
   },
   {
    "duration": 7,
    "start_time": "2024-08-22T11:06:19.533Z"
   },
   {
    "duration": 9,
    "start_time": "2024-08-22T11:06:19.541Z"
   },
   {
    "duration": 59,
    "start_time": "2024-08-22T11:06:19.551Z"
   },
   {
    "duration": 21,
    "start_time": "2024-08-22T11:06:19.612Z"
   },
   {
    "duration": 16,
    "start_time": "2024-08-22T11:06:19.634Z"
   },
   {
    "duration": 14,
    "start_time": "2024-08-22T11:06:19.652Z"
   },
   {
    "duration": 18,
    "start_time": "2024-08-22T11:06:19.667Z"
   },
   {
    "duration": 172,
    "start_time": "2024-08-22T11:06:19.686Z"
   },
   {
    "duration": 145,
    "start_time": "2024-08-22T11:06:19.860Z"
   },
   {
    "duration": 167,
    "start_time": "2024-08-22T11:06:20.007Z"
   },
   {
    "duration": 180,
    "start_time": "2024-08-22T11:06:20.176Z"
   },
   {
    "duration": 12,
    "start_time": "2024-08-22T11:06:20.358Z"
   },
   {
    "duration": 59,
    "start_time": "2024-08-22T11:06:20.372Z"
   },
   {
    "duration": 10,
    "start_time": "2024-08-22T11:06:20.432Z"
   },
   {
    "duration": 21,
    "start_time": "2024-08-22T11:06:20.443Z"
   },
   {
    "duration": 425,
    "start_time": "2024-08-22T11:06:20.465Z"
   },
   {
    "duration": 5,
    "start_time": "2024-08-22T11:06:20.892Z"
   },
   {
    "duration": 7,
    "start_time": "2024-08-22T11:06:20.898Z"
   },
   {
    "duration": 37,
    "start_time": "2024-08-22T11:06:20.907Z"
   },
   {
    "duration": 233,
    "start_time": "2024-08-22T11:07:37.014Z"
   },
   {
    "duration": 121,
    "start_time": "2024-08-22T11:09:46.000Z"
   },
   {
    "duration": 516,
    "start_time": "2024-08-22T11:21:47.305Z"
   },
   {
    "duration": 5,
    "start_time": "2024-08-22T11:24:47.514Z"
   },
   {
    "duration": 6,
    "start_time": "2024-08-22T11:33:26.574Z"
   },
   {
    "duration": 4,
    "start_time": "2024-08-22T11:35:30.253Z"
   },
   {
    "duration": 5,
    "start_time": "2024-08-22T11:35:32.876Z"
   },
   {
    "duration": 99,
    "start_time": "2024-08-22T11:35:42.404Z"
   },
   {
    "duration": 12,
    "start_time": "2024-08-22T11:36:10.677Z"
   },
   {
    "duration": 12,
    "start_time": "2024-08-22T11:36:16.325Z"
   },
   {
    "duration": 7,
    "start_time": "2024-08-22T11:36:57.135Z"
   },
   {
    "duration": 6,
    "start_time": "2024-08-22T11:37:30.827Z"
   },
   {
    "duration": 6,
    "start_time": "2024-08-22T11:40:35.127Z"
   },
   {
    "duration": 6,
    "start_time": "2024-08-22T11:41:15.359Z"
   },
   {
    "duration": 7,
    "start_time": "2024-08-22T11:44:45.650Z"
   },
   {
    "duration": 5,
    "start_time": "2024-08-22T11:54:02.669Z"
   },
   {
    "duration": 4,
    "start_time": "2024-08-22T11:58:56.264Z"
   },
   {
    "duration": 5,
    "start_time": "2024-08-22T12:02:17.721Z"
   },
   {
    "duration": 5,
    "start_time": "2024-08-22T12:03:20.923Z"
   },
   {
    "duration": 5,
    "start_time": "2024-08-22T12:10:24.149Z"
   },
   {
    "duration": 5,
    "start_time": "2024-08-22T12:14:37.453Z"
   },
   {
    "duration": 4,
    "start_time": "2024-08-22T12:22:52.764Z"
   },
   {
    "duration": 17,
    "start_time": "2024-08-22T12:25:17.413Z"
   },
   {
    "duration": 15,
    "start_time": "2024-08-22T12:25:30.333Z"
   },
   {
    "duration": 14,
    "start_time": "2024-08-22T12:28:48.822Z"
   },
   {
    "duration": 15,
    "start_time": "2024-08-22T12:29:14.454Z"
   },
   {
    "duration": 14,
    "start_time": "2024-08-22T12:29:22.503Z"
   },
   {
    "duration": 6,
    "start_time": "2024-08-22T12:30:23.271Z"
   },
   {
    "duration": 4,
    "start_time": "2024-08-22T12:30:41.767Z"
   },
   {
    "duration": 15,
    "start_time": "2024-08-22T12:31:01.944Z"
   },
   {
    "duration": 3,
    "start_time": "2024-08-22T12:31:47.706Z"
   },
   {
    "duration": 3,
    "start_time": "2024-08-22T12:31:53.095Z"
   },
   {
    "duration": 15,
    "start_time": "2024-08-22T12:31:59.096Z"
   },
   {
    "duration": 637,
    "start_time": "2024-08-22T12:32:11.762Z"
   },
   {
    "duration": 72,
    "start_time": "2024-08-22T12:32:12.400Z"
   },
   {
    "duration": 11,
    "start_time": "2024-08-22T12:32:12.473Z"
   },
   {
    "duration": 22,
    "start_time": "2024-08-22T12:32:12.485Z"
   },
   {
    "duration": 9,
    "start_time": "2024-08-22T12:32:12.510Z"
   },
   {
    "duration": 13,
    "start_time": "2024-08-22T12:32:12.520Z"
   },
   {
    "duration": 355,
    "start_time": "2024-08-22T12:32:12.534Z"
   },
   {
    "duration": 7,
    "start_time": "2024-08-22T12:32:12.891Z"
   },
   {
    "duration": 29,
    "start_time": "2024-08-22T12:32:12.899Z"
   },
   {
    "duration": 6,
    "start_time": "2024-08-22T12:32:12.930Z"
   },
   {
    "duration": 9,
    "start_time": "2024-08-22T12:32:12.938Z"
   },
   {
    "duration": 4,
    "start_time": "2024-08-22T12:32:12.948Z"
   },
   {
    "duration": 14,
    "start_time": "2024-08-22T12:32:12.954Z"
   },
   {
    "duration": 5,
    "start_time": "2024-08-22T12:32:12.971Z"
   },
   {
    "duration": 13,
    "start_time": "2024-08-22T12:32:12.977Z"
   },
   {
    "duration": 19,
    "start_time": "2024-08-22T12:32:12.992Z"
   },
   {
    "duration": 17,
    "start_time": "2024-08-22T12:32:13.012Z"
   },
   {
    "duration": 5,
    "start_time": "2024-08-22T12:32:13.030Z"
   },
   {
    "duration": 5,
    "start_time": "2024-08-22T12:32:13.037Z"
   },
   {
    "duration": 5,
    "start_time": "2024-08-22T12:32:13.043Z"
   },
   {
    "duration": 8,
    "start_time": "2024-08-22T12:32:13.050Z"
   },
   {
    "duration": 31,
    "start_time": "2024-08-22T12:32:13.059Z"
   },
   {
    "duration": 6,
    "start_time": "2024-08-22T12:32:13.091Z"
   },
   {
    "duration": 13,
    "start_time": "2024-08-22T12:32:13.098Z"
   },
   {
    "duration": 177,
    "start_time": "2024-08-22T12:32:13.112Z"
   },
   {
    "duration": 100,
    "start_time": "2024-08-22T12:32:13.291Z"
   },
   {
    "duration": 265,
    "start_time": "2024-08-22T12:32:13.393Z"
   },
   {
    "duration": 161,
    "start_time": "2024-08-22T12:32:13.659Z"
   },
   {
    "duration": 5,
    "start_time": "2024-08-22T12:32:13.821Z"
   },
   {
    "duration": 6,
    "start_time": "2024-08-22T12:32:13.827Z"
   },
   {
    "duration": 13,
    "start_time": "2024-08-22T12:32:13.834Z"
   },
   {
    "duration": 141,
    "start_time": "2024-08-22T12:32:13.848Z"
   },
   {
    "duration": 155,
    "start_time": "2024-08-22T12:32:13.991Z"
   },
   {
    "duration": 195,
    "start_time": "2024-08-22T12:32:14.148Z"
   },
   {
    "duration": 161,
    "start_time": "2024-08-22T12:32:14.344Z"
   },
   {
    "duration": 5,
    "start_time": "2024-08-22T12:32:14.507Z"
   },
   {
    "duration": 7,
    "start_time": "2024-08-22T12:32:14.513Z"
   },
   {
    "duration": 173,
    "start_time": "2024-08-22T12:32:14.522Z"
   },
   {
    "duration": 174,
    "start_time": "2024-08-22T12:32:14.696Z"
   },
   {
    "duration": 2,
    "start_time": "2024-08-22T12:32:14.872Z"
   },
   {
    "duration": 12,
    "start_time": "2024-08-22T12:32:14.878Z"
   },
   {
    "duration": 203,
    "start_time": "2024-08-22T12:32:14.892Z"
   },
   {
    "duration": 136,
    "start_time": "2024-08-22T12:32:15.097Z"
   },
   {
    "duration": 6,
    "start_time": "2024-08-22T12:32:15.234Z"
   },
   {
    "duration": 19,
    "start_time": "2024-08-22T12:32:15.241Z"
   },
   {
    "duration": 212,
    "start_time": "2024-08-22T12:32:15.262Z"
   },
   {
    "duration": 249,
    "start_time": "2024-08-22T12:32:15.476Z"
   },
   {
    "duration": 8,
    "start_time": "2024-08-22T12:32:15.726Z"
   },
   {
    "duration": 11,
    "start_time": "2024-08-22T12:32:15.735Z"
   },
   {
    "duration": 6,
    "start_time": "2024-08-22T12:32:15.747Z"
   },
   {
    "duration": 43,
    "start_time": "2024-08-22T12:32:15.754Z"
   },
   {
    "duration": 15,
    "start_time": "2024-08-22T12:32:15.798Z"
   },
   {
    "duration": 19,
    "start_time": "2024-08-22T12:32:15.814Z"
   },
   {
    "duration": 39,
    "start_time": "2024-08-22T12:32:15.834Z"
   },
   {
    "duration": 165,
    "start_time": "2024-08-22T12:32:15.875Z"
   },
   {
    "duration": 160,
    "start_time": "2024-08-22T12:32:16.042Z"
   },
   {
    "duration": 170,
    "start_time": "2024-08-22T12:32:16.203Z"
   },
   {
    "duration": 204,
    "start_time": "2024-08-22T12:32:16.375Z"
   },
   {
    "duration": 33,
    "start_time": "2024-08-22T12:32:16.581Z"
   },
   {
    "duration": 6,
    "start_time": "2024-08-22T12:32:16.615Z"
   },
   {
    "duration": 8,
    "start_time": "2024-08-22T12:32:16.623Z"
   },
   {
    "duration": 585,
    "start_time": "2024-08-22T12:32:16.633Z"
   },
   {
    "duration": 5,
    "start_time": "2024-08-22T12:32:17.219Z"
   },
   {
    "duration": 8,
    "start_time": "2024-08-22T12:32:17.225Z"
   },
   {
    "duration": 111,
    "start_time": "2024-08-22T12:32:17.235Z"
   },
   {
    "duration": 0,
    "start_time": "2024-08-22T12:32:17.348Z"
   },
   {
    "duration": 0,
    "start_time": "2024-08-22T12:32:17.349Z"
   },
   {
    "duration": 18,
    "start_time": "2024-08-22T12:32:33.089Z"
   },
   {
    "duration": 681,
    "start_time": "2024-08-22T12:32:37.050Z"
   },
   {
    "duration": 71,
    "start_time": "2024-08-22T12:32:37.734Z"
   },
   {
    "duration": 11,
    "start_time": "2024-08-22T12:32:37.807Z"
   },
   {
    "duration": 34,
    "start_time": "2024-08-22T12:32:37.819Z"
   },
   {
    "duration": 8,
    "start_time": "2024-08-22T12:32:37.855Z"
   },
   {
    "duration": 10,
    "start_time": "2024-08-22T12:32:37.865Z"
   },
   {
    "duration": 370,
    "start_time": "2024-08-22T12:32:37.877Z"
   },
   {
    "duration": 7,
    "start_time": "2024-08-22T12:32:38.249Z"
   },
   {
    "duration": 10,
    "start_time": "2024-08-22T12:32:38.258Z"
   },
   {
    "duration": 25,
    "start_time": "2024-08-22T12:32:38.269Z"
   },
   {
    "duration": 23,
    "start_time": "2024-08-22T12:32:38.296Z"
   },
   {
    "duration": 32,
    "start_time": "2024-08-22T12:32:38.321Z"
   },
   {
    "duration": 23,
    "start_time": "2024-08-22T12:32:38.355Z"
   },
   {
    "duration": 11,
    "start_time": "2024-08-22T12:32:38.381Z"
   },
   {
    "duration": 19,
    "start_time": "2024-08-22T12:32:38.394Z"
   },
   {
    "duration": 13,
    "start_time": "2024-08-22T12:32:38.414Z"
   },
   {
    "duration": 4,
    "start_time": "2024-08-22T12:32:38.428Z"
   },
   {
    "duration": 20,
    "start_time": "2024-08-22T12:32:38.433Z"
   },
   {
    "duration": 8,
    "start_time": "2024-08-22T12:32:38.454Z"
   },
   {
    "duration": 12,
    "start_time": "2024-08-22T12:32:38.464Z"
   },
   {
    "duration": 14,
    "start_time": "2024-08-22T12:32:38.477Z"
   },
   {
    "duration": 4,
    "start_time": "2024-08-22T12:32:38.492Z"
   },
   {
    "duration": 22,
    "start_time": "2024-08-22T12:32:38.497Z"
   },
   {
    "duration": 29,
    "start_time": "2024-08-22T12:32:38.521Z"
   },
   {
    "duration": 167,
    "start_time": "2024-08-22T12:32:38.552Z"
   },
   {
    "duration": 107,
    "start_time": "2024-08-22T12:32:38.720Z"
   },
   {
    "duration": 268,
    "start_time": "2024-08-22T12:32:38.829Z"
   },
   {
    "duration": 158,
    "start_time": "2024-08-22T12:32:39.098Z"
   },
   {
    "duration": 4,
    "start_time": "2024-08-22T12:32:39.258Z"
   },
   {
    "duration": 7,
    "start_time": "2024-08-22T12:32:39.263Z"
   },
   {
    "duration": 23,
    "start_time": "2024-08-22T12:32:39.271Z"
   },
   {
    "duration": 130,
    "start_time": "2024-08-22T12:32:39.295Z"
   },
   {
    "duration": 158,
    "start_time": "2024-08-22T12:32:39.426Z"
   },
   {
    "duration": 204,
    "start_time": "2024-08-22T12:32:39.590Z"
   },
   {
    "duration": 159,
    "start_time": "2024-08-22T12:32:39.796Z"
   },
   {
    "duration": 5,
    "start_time": "2024-08-22T12:32:39.957Z"
   },
   {
    "duration": 6,
    "start_time": "2024-08-22T12:32:39.963Z"
   },
   {
    "duration": 168,
    "start_time": "2024-08-22T12:32:39.970Z"
   },
   {
    "duration": 212,
    "start_time": "2024-08-22T12:32:40.140Z"
   },
   {
    "duration": 3,
    "start_time": "2024-08-22T12:32:40.354Z"
   },
   {
    "duration": 4,
    "start_time": "2024-08-22T12:32:40.362Z"
   },
   {
    "duration": 209,
    "start_time": "2024-08-22T12:32:40.368Z"
   },
   {
    "duration": 142,
    "start_time": "2024-08-22T12:32:40.579Z"
   },
   {
    "duration": 5,
    "start_time": "2024-08-22T12:32:40.723Z"
   },
   {
    "duration": 11,
    "start_time": "2024-08-22T12:32:40.730Z"
   },
   {
    "duration": 160,
    "start_time": "2024-08-22T12:32:40.742Z"
   },
   {
    "duration": 241,
    "start_time": "2024-08-22T12:32:40.904Z"
   },
   {
    "duration": 8,
    "start_time": "2024-08-22T12:32:41.146Z"
   },
   {
    "duration": 11,
    "start_time": "2024-08-22T12:32:41.155Z"
   },
   {
    "duration": 7,
    "start_time": "2024-08-22T12:32:41.168Z"
   },
   {
    "duration": 15,
    "start_time": "2024-08-22T12:32:41.189Z"
   },
   {
    "duration": 30,
    "start_time": "2024-08-22T12:32:41.206Z"
   },
   {
    "duration": 32,
    "start_time": "2024-08-22T12:32:41.237Z"
   },
   {
    "duration": 12,
    "start_time": "2024-08-22T12:32:41.270Z"
   },
   {
    "duration": 163,
    "start_time": "2024-08-22T12:32:41.284Z"
   },
   {
    "duration": 157,
    "start_time": "2024-08-22T12:32:41.449Z"
   },
   {
    "duration": 172,
    "start_time": "2024-08-22T12:32:41.608Z"
   },
   {
    "duration": 165,
    "start_time": "2024-08-22T12:32:41.781Z"
   },
   {
    "duration": 27,
    "start_time": "2024-08-22T12:32:41.947Z"
   },
   {
    "duration": 19,
    "start_time": "2024-08-22T12:32:41.976Z"
   },
   {
    "duration": 38,
    "start_time": "2024-08-22T12:32:41.996Z"
   },
   {
    "duration": 413,
    "start_time": "2024-08-22T12:32:42.035Z"
   },
   {
    "duration": 5,
    "start_time": "2024-08-22T12:32:42.450Z"
   },
   {
    "duration": 5,
    "start_time": "2024-08-22T12:32:42.456Z"
   },
   {
    "duration": 111,
    "start_time": "2024-08-22T12:32:42.463Z"
   },
   {
    "duration": 0,
    "start_time": "2024-08-22T12:32:42.576Z"
   },
   {
    "duration": 0,
    "start_time": "2024-08-22T12:32:42.578Z"
   },
   {
    "duration": 14,
    "start_time": "2024-08-22T12:41:27.349Z"
   },
   {
    "duration": 11,
    "start_time": "2024-08-22T12:41:43.277Z"
   },
   {
    "duration": 13,
    "start_time": "2024-08-22T12:41:55.485Z"
   },
   {
    "duration": 63,
    "start_time": "2024-08-22T12:43:06.165Z"
   },
   {
    "duration": 66,
    "start_time": "2024-08-22T12:43:21.737Z"
   },
   {
    "duration": 61,
    "start_time": "2024-08-22T12:43:31.205Z"
   },
   {
    "duration": 5,
    "start_time": "2024-08-22T12:43:42.645Z"
   },
   {
    "duration": 5,
    "start_time": "2024-08-22T12:44:21.954Z"
   },
   {
    "duration": 5,
    "start_time": "2024-08-22T12:46:14.167Z"
   },
   {
    "duration": 8,
    "start_time": "2024-08-22T12:49:27.631Z"
   },
   {
    "duration": 8,
    "start_time": "2024-08-22T12:50:43.656Z"
   },
   {
    "duration": 6,
    "start_time": "2024-08-22T12:50:57.770Z"
   },
   {
    "duration": 6,
    "start_time": "2024-08-22T12:51:06.175Z"
   },
   {
    "duration": 4,
    "start_time": "2024-08-22T12:51:48.434Z"
   },
   {
    "duration": 6,
    "start_time": "2024-08-22T12:52:43.073Z"
   },
   {
    "duration": 1494,
    "start_time": "2024-08-22T13:54:04.678Z"
   },
   {
    "duration": 1570,
    "start_time": "2024-08-22T13:54:17.298Z"
   },
   {
    "duration": 10,
    "start_time": "2024-08-22T14:28:17.662Z"
   },
   {
    "duration": 8,
    "start_time": "2024-08-22T14:29:01.281Z"
   },
   {
    "duration": 3,
    "start_time": "2024-08-22T14:29:12.248Z"
   },
   {
    "duration": 10,
    "start_time": "2024-08-22T14:29:15.505Z"
   },
   {
    "duration": 4,
    "start_time": "2024-08-22T14:29:23.873Z"
   },
   {
    "duration": 815,
    "start_time": "2024-08-22T20:05:50.635Z"
   },
   {
    "duration": 308,
    "start_time": "2024-08-22T20:05:51.453Z"
   },
   {
    "duration": 12,
    "start_time": "2024-08-22T20:05:51.763Z"
   },
   {
    "duration": 11,
    "start_time": "2024-08-22T20:05:51.777Z"
   },
   {
    "duration": 16,
    "start_time": "2024-08-22T20:05:51.791Z"
   },
   {
    "duration": 22,
    "start_time": "2024-08-22T20:05:51.809Z"
   },
   {
    "duration": 402,
    "start_time": "2024-08-22T20:05:51.833Z"
   },
   {
    "duration": 8,
    "start_time": "2024-08-22T20:05:52.236Z"
   },
   {
    "duration": 17,
    "start_time": "2024-08-22T20:05:52.245Z"
   },
   {
    "duration": 14,
    "start_time": "2024-08-22T20:05:52.264Z"
   },
   {
    "duration": 24,
    "start_time": "2024-08-22T20:05:52.279Z"
   },
   {
    "duration": 5,
    "start_time": "2024-08-22T20:05:52.305Z"
   },
   {
    "duration": 11,
    "start_time": "2024-08-22T20:05:52.312Z"
   },
   {
    "duration": 6,
    "start_time": "2024-08-22T20:05:52.326Z"
   },
   {
    "duration": 8,
    "start_time": "2024-08-22T20:05:52.353Z"
   },
   {
    "duration": 11,
    "start_time": "2024-08-22T20:05:52.362Z"
   },
   {
    "duration": 6,
    "start_time": "2024-08-22T20:05:52.375Z"
   },
   {
    "duration": 9,
    "start_time": "2024-08-22T20:05:52.383Z"
   },
   {
    "duration": 25,
    "start_time": "2024-08-22T20:05:52.393Z"
   },
   {
    "duration": 8,
    "start_time": "2024-08-22T20:05:52.420Z"
   },
   {
    "duration": 35,
    "start_time": "2024-08-22T20:05:52.429Z"
   },
   {
    "duration": 9,
    "start_time": "2024-08-22T20:05:52.465Z"
   },
   {
    "duration": 30,
    "start_time": "2024-08-22T20:05:52.475Z"
   },
   {
    "duration": 16,
    "start_time": "2024-08-22T20:05:52.506Z"
   },
   {
    "duration": 156,
    "start_time": "2024-08-22T20:05:52.524Z"
   },
   {
    "duration": 101,
    "start_time": "2024-08-22T20:05:52.682Z"
   },
   {
    "duration": 290,
    "start_time": "2024-08-22T20:05:52.785Z"
   },
   {
    "duration": 170,
    "start_time": "2024-08-22T20:05:53.077Z"
   },
   {
    "duration": 6,
    "start_time": "2024-08-22T20:05:53.249Z"
   },
   {
    "duration": 11,
    "start_time": "2024-08-22T20:05:53.257Z"
   },
   {
    "duration": 10,
    "start_time": "2024-08-22T20:05:53.270Z"
   },
   {
    "duration": 141,
    "start_time": "2024-08-22T20:05:53.282Z"
   },
   {
    "duration": 174,
    "start_time": "2024-08-22T20:05:53.424Z"
   },
   {
    "duration": 215,
    "start_time": "2024-08-22T20:05:53.600Z"
   },
   {
    "duration": 175,
    "start_time": "2024-08-22T20:05:53.816Z"
   },
   {
    "duration": 5,
    "start_time": "2024-08-22T20:05:53.992Z"
   },
   {
    "duration": 20,
    "start_time": "2024-08-22T20:05:53.999Z"
   },
   {
    "duration": 170,
    "start_time": "2024-08-22T20:05:54.021Z"
   },
   {
    "duration": 194,
    "start_time": "2024-08-22T20:05:54.193Z"
   },
   {
    "duration": 2,
    "start_time": "2024-08-22T20:05:54.389Z"
   },
   {
    "duration": 3,
    "start_time": "2024-08-22T20:05:54.395Z"
   },
   {
    "duration": 266,
    "start_time": "2024-08-22T20:05:54.399Z"
   },
   {
    "duration": 134,
    "start_time": "2024-08-22T20:05:54.667Z"
   },
   {
    "duration": 6,
    "start_time": "2024-08-22T20:05:54.802Z"
   },
   {
    "duration": 17,
    "start_time": "2024-08-22T20:05:54.810Z"
   },
   {
    "duration": 164,
    "start_time": "2024-08-22T20:05:54.828Z"
   },
   {
    "duration": 256,
    "start_time": "2024-08-22T20:05:54.994Z"
   },
   {
    "duration": 8,
    "start_time": "2024-08-22T20:05:55.253Z"
   },
   {
    "duration": 14,
    "start_time": "2024-08-22T20:05:55.263Z"
   },
   {
    "duration": 8,
    "start_time": "2024-08-22T20:05:55.279Z"
   },
   {
    "duration": 18,
    "start_time": "2024-08-22T20:05:55.288Z"
   },
   {
    "duration": 17,
    "start_time": "2024-08-22T20:05:55.307Z"
   },
   {
    "duration": 15,
    "start_time": "2024-08-22T20:05:55.353Z"
   },
   {
    "duration": 13,
    "start_time": "2024-08-22T20:05:55.369Z"
   },
   {
    "duration": 188,
    "start_time": "2024-08-22T20:05:55.384Z"
   },
   {
    "duration": 168,
    "start_time": "2024-08-22T20:05:55.573Z"
   },
   {
    "duration": 197,
    "start_time": "2024-08-22T20:05:55.743Z"
   },
   {
    "duration": 166,
    "start_time": "2024-08-22T20:05:55.941Z"
   },
   {
    "duration": 29,
    "start_time": "2024-08-22T20:05:56.109Z"
   },
   {
    "duration": 18,
    "start_time": "2024-08-22T20:05:56.140Z"
   },
   {
    "duration": 13,
    "start_time": "2024-08-22T20:05:56.159Z"
   },
   {
    "duration": 398,
    "start_time": "2024-08-22T20:05:56.173Z"
   },
   {
    "duration": 5,
    "start_time": "2024-08-22T20:05:56.573Z"
   },
   {
    "duration": 9,
    "start_time": "2024-08-22T20:05:56.580Z"
   },
   {
    "duration": 11,
    "start_time": "2024-08-22T20:05:56.591Z"
   },
   {
    "duration": 5,
    "start_time": "2024-08-22T20:05:56.604Z"
   },
   {
    "duration": 14,
    "start_time": "2024-08-22T20:05:56.610Z"
   },
   {
    "duration": 8,
    "start_time": "2024-08-22T20:05:56.626Z"
   },
   {
    "duration": 67,
    "start_time": "2024-08-22T20:07:17.753Z"
   },
   {
    "duration": 2,
    "start_time": "2024-08-22T20:07:22.217Z"
   },
   {
    "duration": 4,
    "start_time": "2024-08-22T20:08:19.210Z"
   },
   {
    "duration": 5,
    "start_time": "2024-08-22T20:10:44.843Z"
   },
   {
    "duration": 4,
    "start_time": "2024-08-22T20:10:48.682Z"
   },
   {
    "duration": 5,
    "start_time": "2024-08-22T20:10:54.722Z"
   },
   {
    "duration": 5,
    "start_time": "2024-08-22T20:11:14.294Z"
   },
   {
    "duration": 49,
    "start_time": "2024-08-23T08:38:15.187Z"
   },
   {
    "duration": 7,
    "start_time": "2024-08-23T08:38:20.265Z"
   },
   {
    "duration": 826,
    "start_time": "2024-08-23T08:38:33.705Z"
   },
   {
    "duration": 274,
    "start_time": "2024-08-23T08:38:34.533Z"
   },
   {
    "duration": 13,
    "start_time": "2024-08-23T08:38:34.808Z"
   },
   {
    "duration": 11,
    "start_time": "2024-08-23T08:38:34.822Z"
   },
   {
    "duration": 15,
    "start_time": "2024-08-23T08:38:34.835Z"
   },
   {
    "duration": 18,
    "start_time": "2024-08-23T08:38:34.852Z"
   },
   {
    "duration": 409,
    "start_time": "2024-08-23T08:38:34.872Z"
   },
   {
    "duration": 8,
    "start_time": "2024-08-23T08:38:35.283Z"
   },
   {
    "duration": 12,
    "start_time": "2024-08-23T08:38:35.293Z"
   },
   {
    "duration": 9,
    "start_time": "2024-08-23T08:38:35.306Z"
   },
   {
    "duration": 31,
    "start_time": "2024-08-23T08:38:35.316Z"
   },
   {
    "duration": 12,
    "start_time": "2024-08-23T08:38:35.349Z"
   },
   {
    "duration": 29,
    "start_time": "2024-08-23T08:38:35.363Z"
   },
   {
    "duration": 10,
    "start_time": "2024-08-23T08:38:35.397Z"
   },
   {
    "duration": 14,
    "start_time": "2024-08-23T08:38:35.408Z"
   },
   {
    "duration": 6,
    "start_time": "2024-08-23T08:38:35.423Z"
   },
   {
    "duration": 5,
    "start_time": "2024-08-23T08:38:35.431Z"
   },
   {
    "duration": 19,
    "start_time": "2024-08-23T08:38:35.438Z"
   },
   {
    "duration": 10,
    "start_time": "2024-08-23T08:38:35.459Z"
   },
   {
    "duration": 17,
    "start_time": "2024-08-23T08:38:35.470Z"
   },
   {
    "duration": 22,
    "start_time": "2024-08-23T08:38:35.489Z"
   },
   {
    "duration": 82,
    "start_time": "2024-08-23T08:38:35.513Z"
   },
   {
    "duration": 27,
    "start_time": "2024-08-23T08:38:35.597Z"
   },
   {
    "duration": 34,
    "start_time": "2024-08-23T08:38:35.626Z"
   },
   {
    "duration": 278,
    "start_time": "2024-08-23T08:38:35.662Z"
   },
   {
    "duration": 109,
    "start_time": "2024-08-23T08:38:35.942Z"
   },
   {
    "duration": 301,
    "start_time": "2024-08-23T08:38:36.053Z"
   },
   {
    "duration": 159,
    "start_time": "2024-08-23T08:38:36.356Z"
   },
   {
    "duration": 6,
    "start_time": "2024-08-23T08:38:36.516Z"
   },
   {
    "duration": 9,
    "start_time": "2024-08-23T08:38:36.523Z"
   },
   {
    "duration": 31,
    "start_time": "2024-08-23T08:38:36.533Z"
   },
   {
    "duration": 116,
    "start_time": "2024-08-23T08:38:36.566Z"
   },
   {
    "duration": 149,
    "start_time": "2024-08-23T08:38:36.684Z"
   },
   {
    "duration": 200,
    "start_time": "2024-08-23T08:38:36.835Z"
   },
   {
    "duration": 188,
    "start_time": "2024-08-23T08:38:37.037Z"
   },
   {
    "duration": 6,
    "start_time": "2024-08-23T08:38:37.227Z"
   },
   {
    "duration": 15,
    "start_time": "2024-08-23T08:38:37.234Z"
   },
   {
    "duration": 163,
    "start_time": "2024-08-23T08:38:37.250Z"
   },
   {
    "duration": 182,
    "start_time": "2024-08-23T08:38:37.415Z"
   },
   {
    "duration": 2,
    "start_time": "2024-08-23T08:38:37.599Z"
   },
   {
    "duration": 23,
    "start_time": "2024-08-23T08:38:37.605Z"
   },
   {
    "duration": 224,
    "start_time": "2024-08-23T08:38:37.629Z"
   },
   {
    "duration": 139,
    "start_time": "2024-08-23T08:38:37.855Z"
   },
   {
    "duration": 6,
    "start_time": "2024-08-23T08:38:37.995Z"
   },
   {
    "duration": 18,
    "start_time": "2024-08-23T08:38:38.002Z"
   },
   {
    "duration": 159,
    "start_time": "2024-08-23T08:38:38.022Z"
   },
   {
    "duration": 257,
    "start_time": "2024-08-23T08:38:38.182Z"
   },
   {
    "duration": 9,
    "start_time": "2024-08-23T08:38:38.446Z"
   },
   {
    "duration": 19,
    "start_time": "2024-08-23T08:38:38.456Z"
   },
   {
    "duration": 9,
    "start_time": "2024-08-23T08:38:38.477Z"
   },
   {
    "duration": 16,
    "start_time": "2024-08-23T08:38:38.488Z"
   },
   {
    "duration": 15,
    "start_time": "2024-08-23T08:38:38.506Z"
   },
   {
    "duration": 35,
    "start_time": "2024-08-23T08:38:38.523Z"
   },
   {
    "duration": 14,
    "start_time": "2024-08-23T08:38:38.560Z"
   },
   {
    "duration": 192,
    "start_time": "2024-08-23T08:38:38.575Z"
   },
   {
    "duration": 153,
    "start_time": "2024-08-23T08:38:38.769Z"
   },
   {
    "duration": 197,
    "start_time": "2024-08-23T08:38:38.924Z"
   },
   {
    "duration": 159,
    "start_time": "2024-08-23T08:38:39.123Z"
   },
   {
    "duration": 30,
    "start_time": "2024-08-23T08:38:39.283Z"
   },
   {
    "duration": 7,
    "start_time": "2024-08-23T08:38:39.315Z"
   },
   {
    "duration": 29,
    "start_time": "2024-08-23T08:38:39.324Z"
   },
   {
    "duration": 422,
    "start_time": "2024-08-23T08:38:39.354Z"
   },
   {
    "duration": 6,
    "start_time": "2024-08-23T08:38:39.777Z"
   },
   {
    "duration": 13,
    "start_time": "2024-08-23T08:38:39.784Z"
   },
   {
    "duration": 8,
    "start_time": "2024-08-23T08:38:39.799Z"
   },
   {
    "duration": 8,
    "start_time": "2024-08-23T08:38:39.809Z"
   },
   {
    "duration": 25,
    "start_time": "2024-08-23T08:38:39.818Z"
   },
   {
    "duration": 17,
    "start_time": "2024-08-23T08:38:39.845Z"
   },
   {
    "duration": 5,
    "start_time": "2024-08-23T08:42:30.490Z"
   },
   {
    "duration": 3,
    "start_time": "2024-08-23T08:43:55.407Z"
   },
   {
    "duration": 6,
    "start_time": "2024-08-23T08:43:55.844Z"
   },
   {
    "duration": 5,
    "start_time": "2024-08-23T08:46:20.647Z"
   },
   {
    "duration": 6,
    "start_time": "2024-08-23T08:46:51.470Z"
   },
   {
    "duration": 4,
    "start_time": "2024-08-23T08:48:47.358Z"
   },
   {
    "duration": 5,
    "start_time": "2024-08-23T08:48:52.942Z"
   },
   {
    "duration": 5,
    "start_time": "2024-08-23T08:49:44.748Z"
   },
   {
    "duration": 6,
    "start_time": "2024-08-23T08:50:51.151Z"
   },
   {
    "duration": 8,
    "start_time": "2024-08-23T08:51:28.999Z"
   },
   {
    "duration": 5,
    "start_time": "2024-08-23T08:52:23.110Z"
   },
   {
    "duration": 7,
    "start_time": "2024-08-23T08:55:51.642Z"
   },
   {
    "duration": 794,
    "start_time": "2024-08-23T13:37:05.496Z"
   },
   {
    "duration": 351,
    "start_time": "2024-08-23T13:37:06.292Z"
   },
   {
    "duration": 13,
    "start_time": "2024-08-23T13:37:06.645Z"
   },
   {
    "duration": 11,
    "start_time": "2024-08-23T13:37:06.660Z"
   },
   {
    "duration": 9,
    "start_time": "2024-08-23T13:37:06.672Z"
   },
   {
    "duration": 12,
    "start_time": "2024-08-23T13:37:06.682Z"
   },
   {
    "duration": 429,
    "start_time": "2024-08-23T13:37:06.695Z"
   },
   {
    "duration": 8,
    "start_time": "2024-08-23T13:37:07.125Z"
   },
   {
    "duration": 27,
    "start_time": "2024-08-23T13:37:07.135Z"
   },
   {
    "duration": 13,
    "start_time": "2024-08-23T13:37:07.165Z"
   },
   {
    "duration": 11,
    "start_time": "2024-08-23T13:37:07.180Z"
   },
   {
    "duration": 4,
    "start_time": "2024-08-23T13:37:07.193Z"
   },
   {
    "duration": 36,
    "start_time": "2024-08-23T13:37:07.199Z"
   },
   {
    "duration": 6,
    "start_time": "2024-08-23T13:37:07.236Z"
   },
   {
    "duration": 9,
    "start_time": "2024-08-23T13:37:07.244Z"
   },
   {
    "duration": 7,
    "start_time": "2024-08-23T13:37:07.255Z"
   },
   {
    "duration": 5,
    "start_time": "2024-08-23T13:37:07.263Z"
   },
   {
    "duration": 7,
    "start_time": "2024-08-23T13:37:07.269Z"
   },
   {
    "duration": 5,
    "start_time": "2024-08-23T13:37:07.278Z"
   },
   {
    "duration": 16,
    "start_time": "2024-08-23T13:37:07.285Z"
   },
   {
    "duration": 18,
    "start_time": "2024-08-23T13:37:07.303Z"
   },
   {
    "duration": 31,
    "start_time": "2024-08-23T13:37:07.322Z"
   },
   {
    "duration": 6,
    "start_time": "2024-08-23T13:37:07.355Z"
   },
   {
    "duration": 12,
    "start_time": "2024-08-23T13:37:07.362Z"
   },
   {
    "duration": 178,
    "start_time": "2024-08-23T13:37:07.376Z"
   },
   {
    "duration": 112,
    "start_time": "2024-08-23T13:37:07.556Z"
   },
   {
    "duration": 304,
    "start_time": "2024-08-23T13:37:07.669Z"
   },
   {
    "duration": 178,
    "start_time": "2024-08-23T13:37:07.977Z"
   },
   {
    "duration": 5,
    "start_time": "2024-08-23T13:37:08.157Z"
   },
   {
    "duration": 5,
    "start_time": "2024-08-23T13:37:08.164Z"
   },
   {
    "duration": 10,
    "start_time": "2024-08-23T13:37:08.171Z"
   },
   {
    "duration": 147,
    "start_time": "2024-08-23T13:37:08.182Z"
   },
   {
    "duration": 171,
    "start_time": "2024-08-23T13:37:08.331Z"
   },
   {
    "duration": 210,
    "start_time": "2024-08-23T13:37:08.504Z"
   },
   {
    "duration": 174,
    "start_time": "2024-08-23T13:37:08.715Z"
   },
   {
    "duration": 6,
    "start_time": "2024-08-23T13:37:08.890Z"
   },
   {
    "duration": 10,
    "start_time": "2024-08-23T13:37:08.897Z"
   },
   {
    "duration": 178,
    "start_time": "2024-08-23T13:37:08.908Z"
   },
   {
    "duration": 218,
    "start_time": "2024-08-23T13:37:09.088Z"
   },
   {
    "duration": 3,
    "start_time": "2024-08-23T13:37:09.307Z"
   },
   {
    "duration": 42,
    "start_time": "2024-08-23T13:37:09.311Z"
   },
   {
    "duration": 224,
    "start_time": "2024-08-23T13:37:09.354Z"
   },
   {
    "duration": 151,
    "start_time": "2024-08-23T13:37:09.579Z"
   },
   {
    "duration": 6,
    "start_time": "2024-08-23T13:37:09.732Z"
   },
   {
    "duration": 3,
    "start_time": "2024-08-23T13:37:09.752Z"
   },
   {
    "duration": 181,
    "start_time": "2024-08-23T13:37:09.757Z"
   },
   {
    "duration": 255,
    "start_time": "2024-08-23T13:37:09.940Z"
   },
   {
    "duration": 9,
    "start_time": "2024-08-23T13:37:10.196Z"
   },
   {
    "duration": 8,
    "start_time": "2024-08-23T13:37:10.207Z"
   },
   {
    "duration": 6,
    "start_time": "2024-08-23T13:37:10.217Z"
   },
   {
    "duration": 42,
    "start_time": "2024-08-23T13:37:10.224Z"
   },
   {
    "duration": 17,
    "start_time": "2024-08-23T13:37:10.267Z"
   },
   {
    "duration": 14,
    "start_time": "2024-08-23T13:37:10.286Z"
   },
   {
    "duration": 15,
    "start_time": "2024-08-23T13:37:10.302Z"
   },
   {
    "duration": 232,
    "start_time": "2024-08-23T13:37:10.318Z"
   },
   {
    "duration": 178,
    "start_time": "2024-08-23T13:37:10.552Z"
   },
   {
    "duration": 201,
    "start_time": "2024-08-23T13:37:10.732Z"
   },
   {
    "duration": 168,
    "start_time": "2024-08-23T13:37:10.935Z"
   },
   {
    "duration": 30,
    "start_time": "2024-08-23T13:37:11.104Z"
   },
   {
    "duration": 22,
    "start_time": "2024-08-23T13:37:11.135Z"
   },
   {
    "duration": 10,
    "start_time": "2024-08-23T13:37:11.158Z"
   },
   {
    "duration": 442,
    "start_time": "2024-08-23T13:37:11.170Z"
   },
   {
    "duration": 7,
    "start_time": "2024-08-23T13:37:11.614Z"
   },
   {
    "duration": 6,
    "start_time": "2024-08-23T13:37:11.622Z"
   },
   {
    "duration": 25,
    "start_time": "2024-08-23T13:37:11.630Z"
   },
   {
    "duration": 6,
    "start_time": "2024-08-23T13:37:11.656Z"
   },
   {
    "duration": 614,
    "start_time": "2024-08-23T13:37:41.996Z"
   },
   {
    "duration": 70,
    "start_time": "2024-08-23T13:37:42.612Z"
   },
   {
    "duration": 11,
    "start_time": "2024-08-23T13:37:42.684Z"
   },
   {
    "duration": 11,
    "start_time": "2024-08-23T13:37:42.697Z"
   },
   {
    "duration": 66,
    "start_time": "2024-08-23T13:37:42.710Z"
   },
   {
    "duration": 11,
    "start_time": "2024-08-23T13:37:42.778Z"
   },
   {
    "duration": 396,
    "start_time": "2024-08-23T13:37:42.790Z"
   },
   {
    "duration": 8,
    "start_time": "2024-08-23T13:37:43.187Z"
   },
   {
    "duration": 12,
    "start_time": "2024-08-23T13:37:43.197Z"
   },
   {
    "duration": 8,
    "start_time": "2024-08-23T13:37:43.210Z"
   },
   {
    "duration": 34,
    "start_time": "2024-08-23T13:37:43.219Z"
   },
   {
    "duration": 5,
    "start_time": "2024-08-23T13:37:43.254Z"
   },
   {
    "duration": 8,
    "start_time": "2024-08-23T13:37:43.261Z"
   },
   {
    "duration": 7,
    "start_time": "2024-08-23T13:37:43.272Z"
   },
   {
    "duration": 14,
    "start_time": "2024-08-23T13:37:43.280Z"
   },
   {
    "duration": 5,
    "start_time": "2024-08-23T13:37:43.296Z"
   },
   {
    "duration": 9,
    "start_time": "2024-08-23T13:37:43.302Z"
   },
   {
    "duration": 5,
    "start_time": "2024-08-23T13:37:43.313Z"
   },
   {
    "duration": 5,
    "start_time": "2024-08-23T13:37:43.320Z"
   },
   {
    "duration": 6,
    "start_time": "2024-08-23T13:37:43.352Z"
   },
   {
    "duration": 7,
    "start_time": "2024-08-23T13:37:43.359Z"
   },
   {
    "duration": 4,
    "start_time": "2024-08-23T13:37:43.368Z"
   },
   {
    "duration": 5,
    "start_time": "2024-08-23T13:37:43.373Z"
   },
   {
    "duration": 7,
    "start_time": "2024-08-23T13:37:43.380Z"
   },
   {
    "duration": 199,
    "start_time": "2024-08-23T13:37:43.389Z"
   },
   {
    "duration": 111,
    "start_time": "2024-08-23T13:37:43.590Z"
   },
   {
    "duration": 336,
    "start_time": "2024-08-23T13:37:43.702Z"
   },
   {
    "duration": 183,
    "start_time": "2024-08-23T13:37:44.039Z"
   },
   {
    "duration": 6,
    "start_time": "2024-08-23T13:37:44.224Z"
   },
   {
    "duration": 16,
    "start_time": "2024-08-23T13:37:44.232Z"
   },
   {
    "duration": 10,
    "start_time": "2024-08-23T13:37:44.252Z"
   },
   {
    "duration": 141,
    "start_time": "2024-08-23T13:37:44.264Z"
   },
   {
    "duration": 162,
    "start_time": "2024-08-23T13:37:44.407Z"
   },
   {
    "duration": 212,
    "start_time": "2024-08-23T13:37:44.571Z"
   },
   {
    "duration": 178,
    "start_time": "2024-08-23T13:37:44.785Z"
   },
   {
    "duration": 6,
    "start_time": "2024-08-23T13:37:44.964Z"
   },
   {
    "duration": 73,
    "start_time": "2024-08-23T13:37:44.971Z"
   },
   {
    "duration": 241,
    "start_time": "2024-08-23T13:37:45.046Z"
   },
   {
    "duration": 210,
    "start_time": "2024-08-23T13:37:45.289Z"
   },
   {
    "duration": 3,
    "start_time": "2024-08-23T13:37:45.500Z"
   },
   {
    "duration": 3,
    "start_time": "2024-08-23T13:37:45.508Z"
   },
   {
    "duration": 231,
    "start_time": "2024-08-23T13:37:45.512Z"
   },
   {
    "duration": 152,
    "start_time": "2024-08-23T13:37:45.752Z"
   },
   {
    "duration": 5,
    "start_time": "2024-08-23T13:37:45.905Z"
   },
   {
    "duration": 5,
    "start_time": "2024-08-23T13:37:45.912Z"
   },
   {
    "duration": 197,
    "start_time": "2024-08-23T13:37:45.918Z"
   },
   {
    "duration": 255,
    "start_time": "2024-08-23T13:37:46.116Z"
   },
   {
    "duration": 9,
    "start_time": "2024-08-23T13:37:46.372Z"
   },
   {
    "duration": 9,
    "start_time": "2024-08-23T13:37:46.382Z"
   },
   {
    "duration": 28,
    "start_time": "2024-08-23T13:37:46.393Z"
   },
   {
    "duration": 29,
    "start_time": "2024-08-23T13:37:46.423Z"
   },
   {
    "duration": 18,
    "start_time": "2024-08-23T13:37:46.453Z"
   },
   {
    "duration": 15,
    "start_time": "2024-08-23T13:37:46.472Z"
   },
   {
    "duration": 14,
    "start_time": "2024-08-23T13:37:46.488Z"
   },
   {
    "duration": 242,
    "start_time": "2024-08-23T13:37:46.503Z"
   },
   {
    "duration": 186,
    "start_time": "2024-08-23T13:37:46.746Z"
   },
   {
    "duration": 207,
    "start_time": "2024-08-23T13:37:46.934Z"
   },
   {
    "duration": 168,
    "start_time": "2024-08-23T13:37:47.143Z"
   },
   {
    "duration": 42,
    "start_time": "2024-08-23T13:37:47.314Z"
   },
   {
    "duration": 8,
    "start_time": "2024-08-23T13:37:47.358Z"
   },
   {
    "duration": 15,
    "start_time": "2024-08-23T13:37:47.367Z"
   },
   {
    "duration": 416,
    "start_time": "2024-08-23T13:37:47.383Z"
   },
   {
    "duration": 7,
    "start_time": "2024-08-23T13:37:47.800Z"
   },
   {
    "duration": 7,
    "start_time": "2024-08-23T13:37:47.809Z"
   },
   {
    "duration": 35,
    "start_time": "2024-08-23T13:37:47.817Z"
   },
   {
    "duration": 6,
    "start_time": "2024-08-23T13:37:47.853Z"
   },
   {
    "duration": 24,
    "start_time": "2024-08-23T13:38:13.888Z"
   },
   {
    "duration": 20,
    "start_time": "2024-08-23T13:38:53.660Z"
   },
   {
    "duration": 14,
    "start_time": "2024-08-23T13:43:55.504Z"
   },
   {
    "duration": 702,
    "start_time": "2024-08-23T13:44:42.240Z"
   },
   {
    "duration": 72,
    "start_time": "2024-08-23T13:44:42.944Z"
   },
   {
    "duration": 12,
    "start_time": "2024-08-23T13:44:43.017Z"
   },
   {
    "duration": 10,
    "start_time": "2024-08-23T13:44:43.031Z"
   },
   {
    "duration": 12,
    "start_time": "2024-08-23T13:44:43.043Z"
   },
   {
    "duration": 20,
    "start_time": "2024-08-23T13:44:43.056Z"
   },
   {
    "duration": 380,
    "start_time": "2024-08-23T13:44:43.078Z"
   },
   {
    "duration": 7,
    "start_time": "2024-08-23T13:44:43.459Z"
   },
   {
    "duration": 14,
    "start_time": "2024-08-23T13:44:43.468Z"
   },
   {
    "duration": 8,
    "start_time": "2024-08-23T13:44:43.485Z"
   },
   {
    "duration": 15,
    "start_time": "2024-08-23T13:44:43.495Z"
   },
   {
    "duration": 8,
    "start_time": "2024-08-23T13:44:43.512Z"
   },
   {
    "duration": 35,
    "start_time": "2024-08-23T13:44:43.522Z"
   },
   {
    "duration": 6,
    "start_time": "2024-08-23T13:44:43.560Z"
   },
   {
    "duration": 6,
    "start_time": "2024-08-23T13:44:43.568Z"
   },
   {
    "duration": 6,
    "start_time": "2024-08-23T13:44:43.575Z"
   },
   {
    "duration": 5,
    "start_time": "2024-08-23T13:44:43.583Z"
   },
   {
    "duration": 9,
    "start_time": "2024-08-23T13:44:43.590Z"
   },
   {
    "duration": 12,
    "start_time": "2024-08-23T13:44:43.601Z"
   },
   {
    "duration": 39,
    "start_time": "2024-08-23T13:44:43.614Z"
   },
   {
    "duration": 8,
    "start_time": "2024-08-23T13:44:43.655Z"
   },
   {
    "duration": 4,
    "start_time": "2024-08-23T13:44:43.665Z"
   },
   {
    "duration": 6,
    "start_time": "2024-08-23T13:44:43.671Z"
   },
   {
    "duration": 10,
    "start_time": "2024-08-23T13:44:43.678Z"
   },
   {
    "duration": 192,
    "start_time": "2024-08-23T13:44:43.689Z"
   },
   {
    "duration": 153,
    "start_time": "2024-08-23T13:44:43.883Z"
   },
   {
    "duration": 296,
    "start_time": "2024-08-23T13:44:44.038Z"
   },
   {
    "duration": 165,
    "start_time": "2024-08-23T13:44:44.338Z"
   },
   {
    "duration": 5,
    "start_time": "2024-08-23T13:44:44.504Z"
   },
   {
    "duration": 59,
    "start_time": "2024-08-23T13:44:44.511Z"
   },
   {
    "duration": 9,
    "start_time": "2024-08-23T13:44:44.571Z"
   },
   {
    "duration": 126,
    "start_time": "2024-08-23T13:44:44.582Z"
   },
   {
    "duration": 169,
    "start_time": "2024-08-23T13:44:44.710Z"
   },
   {
    "duration": 218,
    "start_time": "2024-08-23T13:44:44.880Z"
   },
   {
    "duration": 184,
    "start_time": "2024-08-23T13:44:45.100Z"
   },
   {
    "duration": 5,
    "start_time": "2024-08-23T13:44:45.286Z"
   },
   {
    "duration": 18,
    "start_time": "2024-08-23T13:44:45.294Z"
   },
   {
    "duration": 202,
    "start_time": "2024-08-23T13:44:45.314Z"
   },
   {
    "duration": 220,
    "start_time": "2024-08-23T13:44:45.518Z"
   },
   {
    "duration": 2,
    "start_time": "2024-08-23T13:44:45.740Z"
   },
   {
    "duration": 12,
    "start_time": "2024-08-23T13:44:45.751Z"
   },
   {
    "duration": 214,
    "start_time": "2024-08-23T13:44:45.764Z"
   },
   {
    "duration": 155,
    "start_time": "2024-08-23T13:44:45.980Z"
   },
   {
    "duration": 5,
    "start_time": "2024-08-23T13:44:46.136Z"
   },
   {
    "duration": 11,
    "start_time": "2024-08-23T13:44:46.142Z"
   },
   {
    "duration": 178,
    "start_time": "2024-08-23T13:44:46.154Z"
   },
   {
    "duration": 267,
    "start_time": "2024-08-23T13:44:46.333Z"
   },
   {
    "duration": 9,
    "start_time": "2024-08-23T13:44:46.601Z"
   },
   {
    "duration": 31,
    "start_time": "2024-08-23T13:44:46.611Z"
   },
   {
    "duration": 9,
    "start_time": "2024-08-23T13:44:46.644Z"
   },
   {
    "duration": 19,
    "start_time": "2024-08-23T13:44:46.655Z"
   },
   {
    "duration": 18,
    "start_time": "2024-08-23T13:44:46.675Z"
   },
   {
    "duration": 20,
    "start_time": "2024-08-23T13:44:46.694Z"
   },
   {
    "duration": 40,
    "start_time": "2024-08-23T13:44:46.715Z"
   },
   {
    "duration": 49,
    "start_time": "2024-08-23T13:44:46.756Z"
   },
   {
    "duration": 198,
    "start_time": "2024-08-23T13:44:46.806Z"
   },
   {
    "duration": 186,
    "start_time": "2024-08-23T13:44:47.005Z"
   },
   {
    "duration": 192,
    "start_time": "2024-08-23T13:44:47.193Z"
   },
   {
    "duration": 171,
    "start_time": "2024-08-23T13:44:47.387Z"
   },
   {
    "duration": 30,
    "start_time": "2024-08-23T13:44:47.559Z"
   },
   {
    "duration": 7,
    "start_time": "2024-08-23T13:44:47.591Z"
   },
   {
    "duration": 9,
    "start_time": "2024-08-23T13:44:47.600Z"
   },
   {
    "duration": 44,
    "start_time": "2024-08-23T13:44:47.611Z"
   },
   {
    "duration": 409,
    "start_time": "2024-08-23T13:44:47.657Z"
   },
   {
    "duration": 6,
    "start_time": "2024-08-23T13:44:48.067Z"
   },
   {
    "duration": 7,
    "start_time": "2024-08-23T13:44:48.074Z"
   },
   {
    "duration": 8,
    "start_time": "2024-08-23T13:44:48.082Z"
   },
   {
    "duration": 5,
    "start_time": "2024-08-23T13:44:48.091Z"
   },
   {
    "duration": 685,
    "start_time": "2024-08-23T13:45:52.723Z"
   },
   {
    "duration": 70,
    "start_time": "2024-08-23T13:45:53.410Z"
   },
   {
    "duration": 12,
    "start_time": "2024-08-23T13:45:53.482Z"
   },
   {
    "duration": 11,
    "start_time": "2024-08-23T13:45:53.496Z"
   },
   {
    "duration": 10,
    "start_time": "2024-08-23T13:45:53.509Z"
   },
   {
    "duration": 12,
    "start_time": "2024-08-23T13:45:53.520Z"
   },
   {
    "duration": 467,
    "start_time": "2024-08-23T13:45:53.533Z"
   },
   {
    "duration": 9,
    "start_time": "2024-08-23T13:45:54.002Z"
   },
   {
    "duration": 12,
    "start_time": "2024-08-23T13:45:54.012Z"
   },
   {
    "duration": 30,
    "start_time": "2024-08-23T13:45:54.025Z"
   },
   {
    "duration": 23,
    "start_time": "2024-08-23T13:45:54.056Z"
   },
   {
    "duration": 4,
    "start_time": "2024-08-23T13:45:54.081Z"
   },
   {
    "duration": 14,
    "start_time": "2024-08-23T13:45:54.087Z"
   },
   {
    "duration": 6,
    "start_time": "2024-08-23T13:45:54.104Z"
   },
   {
    "duration": 5,
    "start_time": "2024-08-23T13:45:54.112Z"
   },
   {
    "duration": 8,
    "start_time": "2024-08-23T13:45:54.119Z"
   },
   {
    "duration": 6,
    "start_time": "2024-08-23T13:45:54.152Z"
   },
   {
    "duration": 7,
    "start_time": "2024-08-23T13:45:54.159Z"
   },
   {
    "duration": 6,
    "start_time": "2024-08-23T13:45:54.167Z"
   },
   {
    "duration": 6,
    "start_time": "2024-08-23T13:45:54.174Z"
   },
   {
    "duration": 8,
    "start_time": "2024-08-23T13:45:54.181Z"
   },
   {
    "duration": 5,
    "start_time": "2024-08-23T13:45:54.190Z"
   },
   {
    "duration": 19,
    "start_time": "2024-08-23T13:45:54.196Z"
   },
   {
    "duration": 38,
    "start_time": "2024-08-23T13:45:54.217Z"
   },
   {
    "duration": 165,
    "start_time": "2024-08-23T13:45:54.257Z"
   },
   {
    "duration": 109,
    "start_time": "2024-08-23T13:45:54.424Z"
   },
   {
    "duration": 289,
    "start_time": "2024-08-23T13:45:54.535Z"
   },
   {
    "duration": 195,
    "start_time": "2024-08-23T13:45:54.827Z"
   },
   {
    "duration": 5,
    "start_time": "2024-08-23T13:45:55.023Z"
   },
   {
    "duration": 7,
    "start_time": "2024-08-23T13:45:55.030Z"
   },
   {
    "duration": 14,
    "start_time": "2024-08-23T13:45:55.039Z"
   },
   {
    "duration": 141,
    "start_time": "2024-08-23T13:45:55.055Z"
   },
   {
    "duration": 176,
    "start_time": "2024-08-23T13:45:55.198Z"
   },
   {
    "duration": 220,
    "start_time": "2024-08-23T13:45:55.375Z"
   },
   {
    "duration": 181,
    "start_time": "2024-08-23T13:45:55.596Z"
   },
   {
    "duration": 5,
    "start_time": "2024-08-23T13:45:55.778Z"
   },
   {
    "duration": 3,
    "start_time": "2024-08-23T13:45:55.785Z"
   },
   {
    "duration": 185,
    "start_time": "2024-08-23T13:45:55.789Z"
   },
   {
    "duration": 218,
    "start_time": "2024-08-23T13:45:55.976Z"
   },
   {
    "duration": 3,
    "start_time": "2024-08-23T13:45:56.196Z"
   },
   {
    "duration": 4,
    "start_time": "2024-08-23T13:45:56.203Z"
   },
   {
    "duration": 237,
    "start_time": "2024-08-23T13:45:56.208Z"
   },
   {
    "duration": 144,
    "start_time": "2024-08-23T13:45:56.447Z"
   },
   {
    "duration": 6,
    "start_time": "2024-08-23T13:45:56.593Z"
   },
   {
    "duration": 2,
    "start_time": "2024-08-23T13:45:56.601Z"
   },
   {
    "duration": 193,
    "start_time": "2024-08-23T13:45:56.604Z"
   },
   {
    "duration": 267,
    "start_time": "2024-08-23T13:45:56.799Z"
   },
   {
    "duration": 9,
    "start_time": "2024-08-23T13:45:57.067Z"
   },
   {
    "duration": 82,
    "start_time": "2024-08-23T13:45:57.077Z"
   },
   {
    "duration": 8,
    "start_time": "2024-08-23T13:45:57.160Z"
   },
   {
    "duration": 19,
    "start_time": "2024-08-23T13:45:57.169Z"
   },
   {
    "duration": 19,
    "start_time": "2024-08-23T13:45:57.189Z"
   },
   {
    "duration": 44,
    "start_time": "2024-08-23T13:45:57.209Z"
   },
   {
    "duration": 16,
    "start_time": "2024-08-23T13:45:57.255Z"
   },
   {
    "duration": 15,
    "start_time": "2024-08-23T13:45:57.272Z"
   },
   {
    "duration": 201,
    "start_time": "2024-08-23T13:45:57.288Z"
   },
   {
    "duration": 184,
    "start_time": "2024-08-23T13:45:57.490Z"
   },
   {
    "duration": 201,
    "start_time": "2024-08-23T13:45:57.676Z"
   },
   {
    "duration": 169,
    "start_time": "2024-08-23T13:45:57.879Z"
   },
   {
    "duration": 31,
    "start_time": "2024-08-23T13:45:58.052Z"
   },
   {
    "duration": 7,
    "start_time": "2024-08-23T13:45:58.085Z"
   },
   {
    "duration": 10,
    "start_time": "2024-08-23T13:45:58.093Z"
   },
   {
    "duration": 24,
    "start_time": "2024-08-23T13:45:58.104Z"
   },
   {
    "duration": 440,
    "start_time": "2024-08-23T13:45:58.129Z"
   },
   {
    "duration": 6,
    "start_time": "2024-08-23T13:45:58.570Z"
   },
   {
    "duration": 14,
    "start_time": "2024-08-23T13:45:58.578Z"
   },
   {
    "duration": 20,
    "start_time": "2024-08-23T13:45:58.593Z"
   },
   {
    "duration": 6,
    "start_time": "2024-08-23T13:45:58.615Z"
   },
   {
    "duration": 28,
    "start_time": "2024-08-23T13:49:20.672Z"
   },
   {
    "duration": 29,
    "start_time": "2024-08-23T13:49:21.607Z"
   },
   {
    "duration": 30,
    "start_time": "2024-08-23T13:49:22.295Z"
   },
   {
    "duration": 24,
    "start_time": "2024-08-23T13:49:27.222Z"
   },
   {
    "duration": 16,
    "start_time": "2024-08-23T13:49:29.573Z"
   },
   {
    "duration": 30,
    "start_time": "2024-08-23T13:49:34.361Z"
   },
   {
    "duration": 8,
    "start_time": "2024-08-23T13:49:35.374Z"
   },
   {
    "duration": 10,
    "start_time": "2024-08-23T13:49:35.902Z"
   },
   {
    "duration": 20,
    "start_time": "2024-08-23T13:49:37.326Z"
   },
   {
    "duration": 12,
    "start_time": "2024-08-23T13:49:40.342Z"
   },
   {
    "duration": 681,
    "start_time": "2024-08-23T13:55:36.232Z"
   },
   {
    "duration": 72,
    "start_time": "2024-08-23T13:55:36.915Z"
   },
   {
    "duration": 12,
    "start_time": "2024-08-23T13:55:36.989Z"
   },
   {
    "duration": 12,
    "start_time": "2024-08-23T13:55:37.003Z"
   },
   {
    "duration": 23,
    "start_time": "2024-08-23T13:55:37.017Z"
   },
   {
    "duration": 15,
    "start_time": "2024-08-23T13:55:37.041Z"
   },
   {
    "duration": 389,
    "start_time": "2024-08-23T13:55:37.058Z"
   },
   {
    "duration": 7,
    "start_time": "2024-08-23T13:55:37.451Z"
   },
   {
    "duration": 14,
    "start_time": "2024-08-23T13:55:37.460Z"
   },
   {
    "duration": 9,
    "start_time": "2024-08-23T13:55:37.476Z"
   },
   {
    "duration": 18,
    "start_time": "2024-08-23T13:55:37.487Z"
   },
   {
    "duration": 6,
    "start_time": "2024-08-23T13:55:37.507Z"
   },
   {
    "duration": 40,
    "start_time": "2024-08-23T13:55:37.515Z"
   },
   {
    "duration": 7,
    "start_time": "2024-08-23T13:55:37.560Z"
   },
   {
    "duration": 9,
    "start_time": "2024-08-23T13:55:37.568Z"
   },
   {
    "duration": 7,
    "start_time": "2024-08-23T13:55:37.579Z"
   },
   {
    "duration": 14,
    "start_time": "2024-08-23T13:55:37.587Z"
   },
   {
    "duration": 7,
    "start_time": "2024-08-23T13:55:37.603Z"
   },
   {
    "duration": 6,
    "start_time": "2024-08-23T13:55:37.612Z"
   },
   {
    "duration": 39,
    "start_time": "2024-08-23T13:55:37.620Z"
   },
   {
    "duration": 9,
    "start_time": "2024-08-23T13:55:37.660Z"
   },
   {
    "duration": 5,
    "start_time": "2024-08-23T13:55:37.671Z"
   },
   {
    "duration": 23,
    "start_time": "2024-08-23T13:55:37.678Z"
   },
   {
    "duration": 10,
    "start_time": "2024-08-23T13:55:37.703Z"
   },
   {
    "duration": 187,
    "start_time": "2024-08-23T13:55:37.715Z"
   },
   {
    "duration": 111,
    "start_time": "2024-08-23T13:55:37.904Z"
   },
   {
    "duration": 297,
    "start_time": "2024-08-23T13:55:38.017Z"
   },
   {
    "duration": 171,
    "start_time": "2024-08-23T13:55:38.316Z"
   },
   {
    "duration": 4,
    "start_time": "2024-08-23T13:55:38.489Z"
   },
   {
    "duration": 11,
    "start_time": "2024-08-23T13:55:38.495Z"
   },
   {
    "duration": 12,
    "start_time": "2024-08-23T13:55:38.509Z"
   },
   {
    "duration": 147,
    "start_time": "2024-08-23T13:55:38.523Z"
   },
   {
    "duration": 170,
    "start_time": "2024-08-23T13:55:38.672Z"
   },
   {
    "duration": 211,
    "start_time": "2024-08-23T13:55:38.852Z"
   },
   {
    "duration": 185,
    "start_time": "2024-08-23T13:55:39.064Z"
   },
   {
    "duration": 5,
    "start_time": "2024-08-23T13:55:39.252Z"
   },
   {
    "duration": 8,
    "start_time": "2024-08-23T13:55:39.258Z"
   },
   {
    "duration": 180,
    "start_time": "2024-08-23T13:55:39.267Z"
   },
   {
    "duration": 190,
    "start_time": "2024-08-23T13:55:39.449Z"
   },
   {
    "duration": 2,
    "start_time": "2024-08-23T13:55:39.641Z"
   },
   {
    "duration": 4,
    "start_time": "2024-08-23T13:55:39.652Z"
   },
   {
    "duration": 228,
    "start_time": "2024-08-23T13:55:39.657Z"
   },
   {
    "duration": 148,
    "start_time": "2024-08-23T13:55:39.887Z"
   },
   {
    "duration": 6,
    "start_time": "2024-08-23T13:55:40.037Z"
   },
   {
    "duration": 7,
    "start_time": "2024-08-23T13:55:40.053Z"
   },
   {
    "duration": 191,
    "start_time": "2024-08-23T13:55:40.061Z"
   },
   {
    "duration": 273,
    "start_time": "2024-08-23T13:55:40.254Z"
   },
   {
    "duration": 9,
    "start_time": "2024-08-23T13:55:40.529Z"
   },
   {
    "duration": 14,
    "start_time": "2024-08-23T13:55:40.552Z"
   },
   {
    "duration": 42,
    "start_time": "2024-08-23T13:55:40.568Z"
   },
   {
    "duration": 18,
    "start_time": "2024-08-23T13:55:40.611Z"
   },
   {
    "duration": 18,
    "start_time": "2024-08-23T13:55:40.631Z"
   },
   {
    "duration": 15,
    "start_time": "2024-08-23T13:55:40.651Z"
   },
   {
    "duration": 15,
    "start_time": "2024-08-23T13:55:40.668Z"
   },
   {
    "duration": 205,
    "start_time": "2024-08-23T13:55:40.685Z"
   },
   {
    "duration": 172,
    "start_time": "2024-08-23T13:55:40.892Z"
   },
   {
    "duration": 188,
    "start_time": "2024-08-23T13:55:41.066Z"
   },
   {
    "duration": 175,
    "start_time": "2024-08-23T13:55:41.256Z"
   },
   {
    "duration": 38,
    "start_time": "2024-08-23T13:55:41.433Z"
   },
   {
    "duration": 6,
    "start_time": "2024-08-23T13:55:41.473Z"
   },
   {
    "duration": 34,
    "start_time": "2024-08-23T13:55:41.481Z"
   },
   {
    "duration": 451,
    "start_time": "2024-08-23T13:55:41.517Z"
   },
   {
    "duration": 5,
    "start_time": "2024-08-23T13:55:41.970Z"
   },
   {
    "duration": 26,
    "start_time": "2024-08-23T13:55:41.977Z"
   },
   {
    "duration": 8,
    "start_time": "2024-08-23T13:55:42.004Z"
   },
   {
    "duration": 17,
    "start_time": "2024-08-23T13:55:42.014Z"
   },
   {
    "duration": 48,
    "start_time": "2024-08-23T14:25:09.851Z"
   },
   {
    "duration": 806,
    "start_time": "2024-08-23T14:25:14.519Z"
   },
   {
    "duration": 351,
    "start_time": "2024-08-23T14:25:15.327Z"
   },
   {
    "duration": 12,
    "start_time": "2024-08-23T14:25:15.680Z"
   },
   {
    "duration": 23,
    "start_time": "2024-08-23T14:25:15.694Z"
   },
   {
    "duration": 15,
    "start_time": "2024-08-23T14:25:15.719Z"
   },
   {
    "duration": 17,
    "start_time": "2024-08-23T14:25:15.735Z"
   },
   {
    "duration": 379,
    "start_time": "2024-08-23T14:25:15.754Z"
   },
   {
    "duration": 7,
    "start_time": "2024-08-23T14:25:16.134Z"
   },
   {
    "duration": 39,
    "start_time": "2024-08-23T14:25:16.143Z"
   },
   {
    "duration": 7,
    "start_time": "2024-08-23T14:25:16.184Z"
   },
   {
    "duration": 16,
    "start_time": "2024-08-23T14:25:16.192Z"
   },
   {
    "duration": 5,
    "start_time": "2024-08-23T14:25:16.209Z"
   },
   {
    "duration": 8,
    "start_time": "2024-08-23T14:25:16.215Z"
   },
   {
    "duration": 17,
    "start_time": "2024-08-23T14:25:16.224Z"
   },
   {
    "duration": 5,
    "start_time": "2024-08-23T14:25:16.243Z"
   },
   {
    "duration": 5,
    "start_time": "2024-08-23T14:25:16.249Z"
   },
   {
    "duration": 25,
    "start_time": "2024-08-23T14:25:16.255Z"
   },
   {
    "duration": 16,
    "start_time": "2024-08-23T14:25:16.282Z"
   },
   {
    "duration": 8,
    "start_time": "2024-08-23T14:25:16.299Z"
   },
   {
    "duration": 12,
    "start_time": "2024-08-23T14:25:16.309Z"
   },
   {
    "duration": 8,
    "start_time": "2024-08-23T14:25:16.322Z"
   },
   {
    "duration": 5,
    "start_time": "2024-08-23T14:25:16.331Z"
   },
   {
    "duration": 7,
    "start_time": "2024-08-23T14:25:16.337Z"
   },
   {
    "duration": 6,
    "start_time": "2024-08-23T14:25:16.345Z"
   },
   {
    "duration": 167,
    "start_time": "2024-08-23T14:25:16.352Z"
   },
   {
    "duration": 107,
    "start_time": "2024-08-23T14:25:16.521Z"
   },
   {
    "duration": 279,
    "start_time": "2024-08-23T14:25:16.630Z"
   },
   {
    "duration": 170,
    "start_time": "2024-08-23T14:25:16.913Z"
   },
   {
    "duration": 3,
    "start_time": "2024-08-23T14:25:17.084Z"
   },
   {
    "duration": 11,
    "start_time": "2024-08-23T14:25:17.088Z"
   },
   {
    "duration": 19,
    "start_time": "2024-08-23T14:25:17.100Z"
   },
   {
    "duration": 127,
    "start_time": "2024-08-23T14:25:17.120Z"
   },
   {
    "duration": 198,
    "start_time": "2024-08-23T14:25:17.249Z"
   },
   {
    "duration": 206,
    "start_time": "2024-08-23T14:25:17.449Z"
   },
   {
    "duration": 167,
    "start_time": "2024-08-23T14:25:17.656Z"
   },
   {
    "duration": 2,
    "start_time": "2024-08-23T14:25:17.824Z"
   },
   {
    "duration": 4,
    "start_time": "2024-08-23T14:25:17.827Z"
   },
   {
    "duration": 176,
    "start_time": "2024-08-23T14:25:17.833Z"
   },
   {
    "duration": 201,
    "start_time": "2024-08-23T14:25:18.011Z"
   },
   {
    "duration": 3,
    "start_time": "2024-08-23T14:25:18.213Z"
   },
   {
    "duration": 15,
    "start_time": "2024-08-23T14:25:18.217Z"
   },
   {
    "duration": 204,
    "start_time": "2024-08-23T14:25:18.233Z"
   },
   {
    "duration": 136,
    "start_time": "2024-08-23T14:25:18.438Z"
   },
   {
    "duration": 3,
    "start_time": "2024-08-23T14:25:18.575Z"
   },
   {
    "duration": 4,
    "start_time": "2024-08-23T14:25:18.579Z"
   },
   {
    "duration": 177,
    "start_time": "2024-08-23T14:25:18.584Z"
   },
   {
    "duration": 247,
    "start_time": "2024-08-23T14:25:18.762Z"
   },
   {
    "duration": 8,
    "start_time": "2024-08-23T14:25:19.011Z"
   },
   {
    "duration": 12,
    "start_time": "2024-08-23T14:25:19.020Z"
   },
   {
    "duration": 9,
    "start_time": "2024-08-23T14:25:19.033Z"
   },
   {
    "duration": 24,
    "start_time": "2024-08-23T14:25:19.044Z"
   },
   {
    "duration": 15,
    "start_time": "2024-08-23T14:25:19.069Z"
   },
   {
    "duration": 33,
    "start_time": "2024-08-23T14:25:19.086Z"
   },
   {
    "duration": 13,
    "start_time": "2024-08-23T14:25:19.121Z"
   },
   {
    "duration": 178,
    "start_time": "2024-08-23T14:25:19.135Z"
   },
   {
    "duration": 174,
    "start_time": "2024-08-23T14:25:19.315Z"
   },
   {
    "duration": 191,
    "start_time": "2024-08-23T14:25:19.491Z"
   },
   {
    "duration": 160,
    "start_time": "2024-08-23T14:25:19.684Z"
   },
   {
    "duration": 29,
    "start_time": "2024-08-23T14:25:19.845Z"
   },
   {
    "duration": 6,
    "start_time": "2024-08-23T14:25:19.876Z"
   },
   {
    "duration": 30,
    "start_time": "2024-08-23T14:25:19.884Z"
   },
   {
    "duration": 403,
    "start_time": "2024-08-23T14:25:19.915Z"
   },
   {
    "duration": 6,
    "start_time": "2024-08-23T14:25:20.319Z"
   },
   {
    "duration": 9,
    "start_time": "2024-08-23T14:25:20.326Z"
   },
   {
    "duration": 9,
    "start_time": "2024-08-23T14:25:20.337Z"
   },
   {
    "duration": 7,
    "start_time": "2024-08-23T14:25:20.347Z"
   },
   {
    "duration": 613,
    "start_time": "2024-08-23T14:50:26.525Z"
   },
   {
    "duration": 70,
    "start_time": "2024-08-23T14:50:27.140Z"
   },
   {
    "duration": 11,
    "start_time": "2024-08-23T14:50:27.212Z"
   },
   {
    "duration": 30,
    "start_time": "2024-08-23T14:50:27.224Z"
   },
   {
    "duration": 23,
    "start_time": "2024-08-23T14:50:27.256Z"
   },
   {
    "duration": 53,
    "start_time": "2024-08-23T14:50:27.280Z"
   },
   {
    "duration": 378,
    "start_time": "2024-08-23T14:50:27.335Z"
   },
   {
    "duration": 7,
    "start_time": "2024-08-23T14:50:27.715Z"
   },
   {
    "duration": 10,
    "start_time": "2024-08-23T14:50:27.723Z"
   },
   {
    "duration": 11,
    "start_time": "2024-08-23T14:50:27.734Z"
   },
   {
    "duration": 10,
    "start_time": "2024-08-23T14:50:27.746Z"
   },
   {
    "duration": 4,
    "start_time": "2024-08-23T14:50:27.757Z"
   },
   {
    "duration": 7,
    "start_time": "2024-08-23T14:50:27.762Z"
   },
   {
    "duration": 39,
    "start_time": "2024-08-23T14:50:27.772Z"
   },
   {
    "duration": 5,
    "start_time": "2024-08-23T14:50:27.812Z"
   },
   {
    "duration": 8,
    "start_time": "2024-08-23T14:50:27.818Z"
   },
   {
    "duration": 21,
    "start_time": "2024-08-23T14:50:27.827Z"
   },
   {
    "duration": 8,
    "start_time": "2024-08-23T14:50:27.850Z"
   },
   {
    "duration": 7,
    "start_time": "2024-08-23T14:50:27.859Z"
   },
   {
    "duration": 16,
    "start_time": "2024-08-23T14:50:27.867Z"
   },
   {
    "duration": 27,
    "start_time": "2024-08-23T14:50:27.885Z"
   },
   {
    "duration": 4,
    "start_time": "2024-08-23T14:50:27.914Z"
   },
   {
    "duration": 6,
    "start_time": "2024-08-23T14:50:27.919Z"
   },
   {
    "duration": 6,
    "start_time": "2024-08-23T14:50:27.926Z"
   },
   {
    "duration": 165,
    "start_time": "2024-08-23T14:50:27.934Z"
   },
   {
    "duration": 98,
    "start_time": "2024-08-23T14:50:28.100Z"
   },
   {
    "duration": 274,
    "start_time": "2024-08-23T14:50:28.206Z"
   },
   {
    "duration": 168,
    "start_time": "2024-08-23T14:50:28.481Z"
   },
   {
    "duration": 8,
    "start_time": "2024-08-23T14:50:28.651Z"
   },
   {
    "duration": 210,
    "start_time": "2024-08-23T14:50:28.660Z"
   },
   {
    "duration": 191,
    "start_time": "2024-08-23T14:50:28.871Z"
   },
   {
    "duration": 2,
    "start_time": "2024-08-23T14:50:29.064Z"
   },
   {
    "duration": 7,
    "start_time": "2024-08-23T14:50:29.067Z"
   },
   {
    "duration": 224,
    "start_time": "2024-08-23T14:50:29.075Z"
   },
   {
    "duration": 138,
    "start_time": "2024-08-23T14:50:29.300Z"
   },
   {
    "duration": 8,
    "start_time": "2024-08-23T14:50:29.439Z"
   },
   {
    "duration": 11,
    "start_time": "2024-08-23T14:50:29.448Z"
   },
   {
    "duration": 7,
    "start_time": "2024-08-23T14:50:29.460Z"
   },
   {
    "duration": 17,
    "start_time": "2024-08-23T14:50:29.468Z"
   },
   {
    "duration": 17,
    "start_time": "2024-08-23T14:50:29.507Z"
   },
   {
    "duration": 15,
    "start_time": "2024-08-23T14:50:29.527Z"
   },
   {
    "duration": 14,
    "start_time": "2024-08-23T14:50:29.543Z"
   },
   {
    "duration": 184,
    "start_time": "2024-08-23T14:50:29.558Z"
   },
   {
    "duration": 179,
    "start_time": "2024-08-23T14:50:29.744Z"
   },
   {
    "duration": 193,
    "start_time": "2024-08-23T14:50:29.925Z"
   },
   {
    "duration": 161,
    "start_time": "2024-08-23T14:50:30.120Z"
   },
   {
    "duration": 40,
    "start_time": "2024-08-23T14:50:30.283Z"
   },
   {
    "duration": 23,
    "start_time": "2024-08-23T14:50:30.325Z"
   },
   {
    "duration": 24,
    "start_time": "2024-08-23T14:50:30.350Z"
   },
   {
    "duration": 501,
    "start_time": "2024-08-23T14:50:30.375Z"
   },
   {
    "duration": 5,
    "start_time": "2024-08-23T14:50:30.877Z"
   },
   {
    "duration": 47,
    "start_time": "2024-08-23T14:50:30.884Z"
   },
   {
    "duration": 46,
    "start_time": "2024-08-23T14:50:30.932Z"
   },
   {
    "duration": 15,
    "start_time": "2024-08-23T14:50:30.979Z"
   },
   {
    "duration": 25,
    "start_time": "2024-08-23T14:58:29.686Z"
   },
   {
    "duration": 24,
    "start_time": "2024-08-23T14:58:52.860Z"
   },
   {
    "duration": 13,
    "start_time": "2024-08-23T15:00:19.134Z"
   },
   {
    "duration": 14,
    "start_time": "2024-08-23T15:00:34.046Z"
   },
   {
    "duration": 23,
    "start_time": "2024-08-23T15:01:27.037Z"
   },
   {
    "duration": 23,
    "start_time": "2024-08-23T15:01:40.839Z"
   },
   {
    "duration": 22,
    "start_time": "2024-08-23T15:03:38.001Z"
   },
   {
    "duration": 9,
    "start_time": "2024-08-23T15:03:52.376Z"
   },
   {
    "duration": 14,
    "start_time": "2024-08-23T15:04:01.296Z"
   },
   {
    "duration": 8,
    "start_time": "2024-08-23T15:04:13.928Z"
   },
   {
    "duration": 11,
    "start_time": "2024-08-23T15:46:06.141Z"
   },
   {
    "duration": 10,
    "start_time": "2024-08-23T15:47:14.724Z"
   },
   {
    "duration": 17,
    "start_time": "2024-08-23T15:47:23.293Z"
   },
   {
    "duration": 11,
    "start_time": "2024-08-23T15:47:34.005Z"
   },
   {
    "duration": 26,
    "start_time": "2024-08-23T15:47:58.172Z"
   },
   {
    "duration": 9,
    "start_time": "2024-08-23T15:48:37.086Z"
   },
   {
    "duration": 9,
    "start_time": "2024-08-23T15:48:40.180Z"
   },
   {
    "duration": 24,
    "start_time": "2024-08-23T15:48:46.613Z"
   },
   {
    "duration": 96,
    "start_time": "2024-08-23T15:52:23.912Z"
   },
   {
    "duration": 10,
    "start_time": "2024-08-23T15:52:26.801Z"
   },
   {
    "duration": 3,
    "start_time": "2024-08-23T15:52:28.320Z"
   },
   {
    "duration": 3,
    "start_time": "2024-08-23T15:52:36.032Z"
   },
   {
    "duration": 3,
    "start_time": "2024-08-23T15:52:43.049Z"
   },
   {
    "duration": 21,
    "start_time": "2024-08-23T15:58:03.195Z"
   },
   {
    "duration": 29,
    "start_time": "2024-08-23T15:58:11.579Z"
   },
   {
    "duration": 40,
    "start_time": "2024-08-23T15:58:17.316Z"
   },
   {
    "duration": 8,
    "start_time": "2024-08-23T16:02:13.764Z"
   },
   {
    "duration": 23,
    "start_time": "2024-08-23T16:02:17.877Z"
   },
   {
    "duration": 16,
    "start_time": "2024-08-23T16:02:30.193Z"
   },
   {
    "duration": 18,
    "start_time": "2024-08-23T16:03:32.142Z"
   },
   {
    "duration": 4,
    "start_time": "2024-08-23T16:04:03.614Z"
   },
   {
    "duration": 4,
    "start_time": "2024-08-23T16:04:41.478Z"
   },
   {
    "duration": 9,
    "start_time": "2024-08-23T16:08:14.983Z"
   },
   {
    "duration": 219,
    "start_time": "2024-08-23T16:08:39.232Z"
   },
   {
    "duration": 275,
    "start_time": "2024-08-23T16:11:26.593Z"
   },
   {
    "duration": 257,
    "start_time": "2024-08-23T16:12:45.395Z"
   },
   {
    "duration": 381,
    "start_time": "2024-08-23T16:12:58.091Z"
   },
   {
    "duration": 245,
    "start_time": "2024-08-23T16:13:36.034Z"
   },
   {
    "duration": 242,
    "start_time": "2024-08-23T16:13:56.955Z"
   },
   {
    "duration": 251,
    "start_time": "2024-08-23T16:14:05.778Z"
   },
   {
    "duration": 254,
    "start_time": "2024-08-23T16:14:14.465Z"
   },
   {
    "duration": 218,
    "start_time": "2024-08-23T16:15:12.364Z"
   },
   {
    "duration": 323,
    "start_time": "2024-08-23T16:15:25.866Z"
   },
   {
    "duration": 255,
    "start_time": "2024-08-23T16:17:59.478Z"
   },
   {
    "duration": 258,
    "start_time": "2024-08-23T16:18:16.181Z"
   },
   {
    "duration": 247,
    "start_time": "2024-08-23T16:19:27.414Z"
   },
   {
    "duration": 264,
    "start_time": "2024-08-23T16:19:35.594Z"
   },
   {
    "duration": 10,
    "start_time": "2024-08-23T16:33:18.485Z"
   },
   {
    "duration": 29,
    "start_time": "2024-08-23T16:38:19.225Z"
   },
   {
    "duration": 10,
    "start_time": "2024-08-23T16:38:28.952Z"
   },
   {
    "duration": 10,
    "start_time": "2024-08-23T16:46:46.347Z"
   },
   {
    "duration": 21,
    "start_time": "2024-08-23T16:46:56.332Z"
   },
   {
    "duration": 36,
    "start_time": "2024-08-23T16:47:01.910Z"
   },
   {
    "duration": 76,
    "start_time": "2024-08-23T16:47:11.796Z"
   },
   {
    "duration": 36,
    "start_time": "2024-08-23T16:47:15.243Z"
   },
   {
    "duration": 56,
    "start_time": "2024-08-23T18:46:09.860Z"
   },
   {
    "duration": 67,
    "start_time": "2024-08-23T18:46:15.802Z"
   },
   {
    "duration": 54,
    "start_time": "2024-08-23T18:46:48.423Z"
   },
   {
    "duration": 62,
    "start_time": "2024-08-23T18:46:59.226Z"
   },
   {
    "duration": 38,
    "start_time": "2024-08-23T18:47:28.171Z"
   },
   {
    "duration": 63,
    "start_time": "2024-08-23T18:47:41.682Z"
   },
   {
    "duration": 56,
    "start_time": "2024-08-23T18:47:47.588Z"
   },
   {
    "duration": 21,
    "start_time": "2024-08-23T18:47:52.796Z"
   },
   {
    "duration": 13,
    "start_time": "2024-08-23T18:48:33.147Z"
   },
   {
    "duration": 29,
    "start_time": "2024-08-23T18:48:59.363Z"
   },
   {
    "duration": 30,
    "start_time": "2024-08-23T18:49:13.949Z"
   },
   {
    "duration": 30,
    "start_time": "2024-08-23T18:49:31.435Z"
   },
   {
    "duration": 34,
    "start_time": "2024-08-23T18:49:47.635Z"
   },
   {
    "duration": 21,
    "start_time": "2024-08-23T18:50:26.571Z"
   },
   {
    "duration": 23,
    "start_time": "2024-08-23T21:00:25.044Z"
   },
   {
    "duration": 31,
    "start_time": "2024-08-23T21:00:30.340Z"
   },
   {
    "duration": 577,
    "start_time": "2024-08-23T21:00:37.770Z"
   },
   {
    "duration": 69,
    "start_time": "2024-08-23T21:00:38.350Z"
   },
   {
    "duration": 10,
    "start_time": "2024-08-23T21:00:38.421Z"
   },
   {
    "duration": 9,
    "start_time": "2024-08-23T21:00:38.433Z"
   },
   {
    "duration": 13,
    "start_time": "2024-08-23T21:00:38.443Z"
   },
   {
    "duration": 11,
    "start_time": "2024-08-23T21:00:38.457Z"
   },
   {
    "duration": 395,
    "start_time": "2024-08-23T21:00:38.469Z"
   },
   {
    "duration": 7,
    "start_time": "2024-08-23T21:00:38.865Z"
   },
   {
    "duration": 14,
    "start_time": "2024-08-23T21:00:38.874Z"
   },
   {
    "duration": 19,
    "start_time": "2024-08-23T21:00:38.889Z"
   },
   {
    "duration": 9,
    "start_time": "2024-08-23T21:00:38.910Z"
   },
   {
    "duration": 9,
    "start_time": "2024-08-23T21:00:38.921Z"
   },
   {
    "duration": 11,
    "start_time": "2024-08-23T21:00:38.932Z"
   },
   {
    "duration": 6,
    "start_time": "2024-08-23T21:00:38.944Z"
   },
   {
    "duration": 11,
    "start_time": "2024-08-23T21:00:38.952Z"
   },
   {
    "duration": 16,
    "start_time": "2024-08-23T21:00:38.965Z"
   },
   {
    "duration": 42,
    "start_time": "2024-08-23T21:00:38.983Z"
   },
   {
    "duration": 6,
    "start_time": "2024-08-23T21:00:39.026Z"
   },
   {
    "duration": 5,
    "start_time": "2024-08-23T21:00:39.034Z"
   },
   {
    "duration": 16,
    "start_time": "2024-08-23T21:00:39.040Z"
   },
   {
    "duration": 9,
    "start_time": "2024-08-23T21:00:39.058Z"
   },
   {
    "duration": 13,
    "start_time": "2024-08-23T21:00:39.069Z"
   },
   {
    "duration": 10,
    "start_time": "2024-08-23T21:00:39.083Z"
   },
   {
    "duration": 40,
    "start_time": "2024-08-23T21:00:39.094Z"
   },
   {
    "duration": 155,
    "start_time": "2024-08-23T21:00:39.135Z"
   },
   {
    "duration": 95,
    "start_time": "2024-08-23T21:00:39.292Z"
   },
   {
    "duration": 272,
    "start_time": "2024-08-23T21:00:39.390Z"
   },
   {
    "duration": 159,
    "start_time": "2024-08-23T21:00:39.663Z"
   },
   {
    "duration": 7,
    "start_time": "2024-08-23T21:00:39.824Z"
   },
   {
    "duration": 198,
    "start_time": "2024-08-23T21:00:39.832Z"
   },
   {
    "duration": 165,
    "start_time": "2024-08-23T21:00:40.031Z"
   },
   {
    "duration": 2,
    "start_time": "2024-08-23T21:00:40.197Z"
   },
   {
    "duration": 25,
    "start_time": "2024-08-23T21:00:40.201Z"
   },
   {
    "duration": 195,
    "start_time": "2024-08-23T21:00:40.228Z"
   },
   {
    "duration": 127,
    "start_time": "2024-08-23T21:00:40.425Z"
   },
   {
    "duration": 7,
    "start_time": "2024-08-23T21:00:40.553Z"
   },
   {
    "duration": 9,
    "start_time": "2024-08-23T21:00:40.561Z"
   },
   {
    "duration": 5,
    "start_time": "2024-08-23T21:00:40.571Z"
   },
   {
    "duration": 31,
    "start_time": "2024-08-23T21:00:40.577Z"
   },
   {
    "duration": 37,
    "start_time": "2024-08-23T21:00:40.609Z"
   },
   {
    "duration": 25,
    "start_time": "2024-08-23T21:00:40.647Z"
   },
   {
    "duration": 3,
    "start_time": "2024-08-23T21:00:40.673Z"
   },
   {
    "duration": 17,
    "start_time": "2024-08-23T21:00:40.677Z"
   },
   {
    "duration": 16,
    "start_time": "2024-08-23T21:00:40.695Z"
   },
   {
    "duration": 242,
    "start_time": "2024-08-23T21:00:40.712Z"
   },
   {
    "duration": 277,
    "start_time": "2024-08-23T21:00:40.955Z"
   },
   {
    "duration": 10,
    "start_time": "2024-08-23T21:00:41.234Z"
   },
   {
    "duration": 25,
    "start_time": "2024-08-23T21:00:41.246Z"
   },
   {
    "duration": 8,
    "start_time": "2024-08-23T21:00:41.273Z"
   },
   {
    "duration": 24,
    "start_time": "2024-08-23T21:00:41.283Z"
   },
   {
    "duration": 9,
    "start_time": "2024-08-23T21:00:41.308Z"
   },
   {
    "duration": 434,
    "start_time": "2024-08-23T21:00:41.319Z"
   },
   {
    "duration": 5,
    "start_time": "2024-08-23T21:00:41.755Z"
   },
   {
    "duration": 12,
    "start_time": "2024-08-23T21:00:41.761Z"
   },
   {
    "duration": 981,
    "start_time": "2024-08-23T21:00:41.775Z"
   },
   {
    "duration": 0,
    "start_time": "2024-08-23T21:00:42.758Z"
   },
   {
    "duration": 22,
    "start_time": "2024-08-23T21:10:47.591Z"
   },
   {
    "duration": 22,
    "start_time": "2024-08-23T21:10:53.570Z"
   },
   {
    "duration": 35,
    "start_time": "2024-08-23T21:10:56.745Z"
   },
   {
    "duration": 29,
    "start_time": "2024-08-23T21:11:05.510Z"
   },
   {
    "duration": 30,
    "start_time": "2024-08-23T21:11:15.322Z"
   },
   {
    "duration": 16,
    "start_time": "2024-08-23T21:11:57.474Z"
   },
   {
    "duration": 31,
    "start_time": "2024-08-23T21:12:15.237Z"
   },
   {
    "duration": 884,
    "start_time": "2024-08-23T21:12:16.353Z"
   },
   {
    "duration": 863,
    "start_time": "2024-08-23T21:12:35.186Z"
   },
   {
    "duration": 868,
    "start_time": "2024-08-23T21:12:54.471Z"
   },
   {
    "duration": 28,
    "start_time": "2024-08-23T21:14:09.038Z"
   },
   {
    "duration": 1124,
    "start_time": "2024-08-23T21:14:19.580Z"
   },
   {
    "duration": 16,
    "start_time": "2024-08-23T21:14:31.382Z"
   },
   {
    "duration": 11,
    "start_time": "2024-08-23T21:14:55.861Z"
   },
   {
    "duration": 31,
    "start_time": "2024-08-23T21:18:14.745Z"
   },
   {
    "duration": 31,
    "start_time": "2024-08-23T21:18:17.816Z"
   },
   {
    "duration": 28,
    "start_time": "2024-08-23T21:18:35.519Z"
   },
   {
    "duration": 28,
    "start_time": "2024-08-23T21:18:45.774Z"
   },
   {
    "duration": 33,
    "start_time": "2024-08-23T21:19:45.864Z"
   },
   {
    "duration": 66,
    "start_time": "2024-08-23T21:20:09.961Z"
   },
   {
    "duration": 32,
    "start_time": "2024-08-23T21:20:15.464Z"
   },
   {
    "duration": 9,
    "start_time": "2024-08-23T21:21:11.336Z"
   },
   {
    "duration": 10,
    "start_time": "2024-08-23T21:21:15.577Z"
   },
   {
    "duration": 10,
    "start_time": "2024-08-23T21:21:20.762Z"
   },
   {
    "duration": 10,
    "start_time": "2024-08-23T21:22:25.947Z"
   },
   {
    "duration": 5,
    "start_time": "2024-08-23T21:22:44.859Z"
   },
   {
    "duration": 11,
    "start_time": "2024-08-23T21:22:46.539Z"
   },
   {
    "duration": 580,
    "start_time": "2024-08-23T21:25:15.528Z"
   },
   {
    "duration": 69,
    "start_time": "2024-08-23T21:25:16.110Z"
   },
   {
    "duration": 12,
    "start_time": "2024-08-23T21:25:16.180Z"
   },
   {
    "duration": 12,
    "start_time": "2024-08-23T21:25:16.193Z"
   },
   {
    "duration": 8,
    "start_time": "2024-08-23T21:25:16.207Z"
   },
   {
    "duration": 11,
    "start_time": "2024-08-23T21:25:16.217Z"
   },
   {
    "duration": 352,
    "start_time": "2024-08-23T21:25:16.229Z"
   },
   {
    "duration": 6,
    "start_time": "2024-08-23T21:25:16.583Z"
   },
   {
    "duration": 24,
    "start_time": "2024-08-23T21:25:16.590Z"
   },
   {
    "duration": 6,
    "start_time": "2024-08-23T21:25:16.616Z"
   },
   {
    "duration": 7,
    "start_time": "2024-08-23T21:25:16.624Z"
   },
   {
    "duration": 3,
    "start_time": "2024-08-23T21:25:16.633Z"
   },
   {
    "duration": 10,
    "start_time": "2024-08-23T21:25:16.638Z"
   },
   {
    "duration": 14,
    "start_time": "2024-08-23T21:25:16.650Z"
   },
   {
    "duration": 29,
    "start_time": "2024-08-23T21:25:16.665Z"
   },
   {
    "duration": 12,
    "start_time": "2024-08-23T21:25:16.695Z"
   },
   {
    "duration": 5,
    "start_time": "2024-08-23T21:25:16.708Z"
   },
   {
    "duration": 6,
    "start_time": "2024-08-23T21:25:16.714Z"
   },
   {
    "duration": 5,
    "start_time": "2024-08-23T21:25:16.721Z"
   },
   {
    "duration": 5,
    "start_time": "2024-08-23T21:25:16.727Z"
   },
   {
    "duration": 7,
    "start_time": "2024-08-23T21:25:16.733Z"
   },
   {
    "duration": 4,
    "start_time": "2024-08-23T21:25:16.741Z"
   },
   {
    "duration": 5,
    "start_time": "2024-08-23T21:25:16.746Z"
   },
   {
    "duration": 22,
    "start_time": "2024-08-23T21:25:16.752Z"
   },
   {
    "duration": 163,
    "start_time": "2024-08-23T21:25:16.775Z"
   },
   {
    "duration": 98,
    "start_time": "2024-08-23T21:25:16.940Z"
   },
   {
    "duration": 274,
    "start_time": "2024-08-23T21:25:17.040Z"
   },
   {
    "duration": 170,
    "start_time": "2024-08-23T21:25:17.316Z"
   },
   {
    "duration": 7,
    "start_time": "2024-08-23T21:25:17.487Z"
   },
   {
    "duration": 196,
    "start_time": "2024-08-23T21:25:17.495Z"
   },
   {
    "duration": 177,
    "start_time": "2024-08-23T21:25:17.692Z"
   },
   {
    "duration": 2,
    "start_time": "2024-08-23T21:25:17.871Z"
   },
   {
    "duration": 7,
    "start_time": "2024-08-23T21:25:17.874Z"
   },
   {
    "duration": 208,
    "start_time": "2024-08-23T21:25:17.882Z"
   },
   {
    "duration": 126,
    "start_time": "2024-08-23T21:25:18.091Z"
   },
   {
    "duration": 7,
    "start_time": "2024-08-23T21:25:18.219Z"
   },
   {
    "duration": 10,
    "start_time": "2024-08-23T21:25:18.227Z"
   },
   {
    "duration": 13,
    "start_time": "2024-08-23T21:25:18.239Z"
   },
   {
    "duration": 9,
    "start_time": "2024-08-23T21:25:18.253Z"
   },
   {
    "duration": 17,
    "start_time": "2024-08-23T21:25:18.263Z"
   },
   {
    "duration": 34,
    "start_time": "2024-08-23T21:25:18.283Z"
   },
   {
    "duration": 3,
    "start_time": "2024-08-23T21:25:18.319Z"
   },
   {
    "duration": 19,
    "start_time": "2024-08-23T21:25:18.323Z"
   },
   {
    "duration": 13,
    "start_time": "2024-08-23T21:25:18.343Z"
   },
   {
    "duration": 258,
    "start_time": "2024-08-23T21:25:18.357Z"
   },
   {
    "duration": 252,
    "start_time": "2024-08-23T21:25:18.617Z"
   },
   {
    "duration": 11,
    "start_time": "2024-08-23T21:25:18.870Z"
   },
   {
    "duration": 46,
    "start_time": "2024-08-23T21:25:18.883Z"
   },
   {
    "duration": 9,
    "start_time": "2024-08-23T21:25:18.931Z"
   },
   {
    "duration": 15,
    "start_time": "2024-08-23T21:25:18.941Z"
   },
   {
    "duration": 11,
    "start_time": "2024-08-23T21:25:18.958Z"
   },
   {
    "duration": 482,
    "start_time": "2024-08-23T21:25:18.970Z"
   },
   {
    "duration": 6,
    "start_time": "2024-08-23T21:25:19.453Z"
   },
   {
    "duration": 9,
    "start_time": "2024-08-23T21:25:19.460Z"
   },
   {
    "duration": 25,
    "start_time": "2024-08-23T21:25:19.470Z"
   },
   {
    "duration": 6,
    "start_time": "2024-08-23T21:25:19.497Z"
   },
   {
    "duration": 5,
    "start_time": "2024-08-23T21:30:11.097Z"
   },
   {
    "duration": 5,
    "start_time": "2024-08-23T21:30:14.730Z"
   },
   {
    "duration": 7,
    "start_time": "2024-08-23T21:31:06.492Z"
   },
   {
    "duration": 581,
    "start_time": "2024-08-23T21:34:13.922Z"
   },
   {
    "duration": 68,
    "start_time": "2024-08-23T21:34:14.505Z"
   },
   {
    "duration": 11,
    "start_time": "2024-08-23T21:34:14.576Z"
   },
   {
    "duration": 23,
    "start_time": "2024-08-23T21:34:14.589Z"
   },
   {
    "duration": 31,
    "start_time": "2024-08-23T21:34:14.613Z"
   },
   {
    "duration": 39,
    "start_time": "2024-08-23T21:34:14.645Z"
   },
   {
    "duration": 385,
    "start_time": "2024-08-23T21:34:14.686Z"
   },
   {
    "duration": 6,
    "start_time": "2024-08-23T21:34:15.073Z"
   },
   {
    "duration": 25,
    "start_time": "2024-08-23T21:34:15.081Z"
   },
   {
    "duration": 31,
    "start_time": "2024-08-23T21:34:15.108Z"
   },
   {
    "duration": 19,
    "start_time": "2024-08-23T21:34:15.140Z"
   },
   {
    "duration": 26,
    "start_time": "2024-08-23T21:34:15.161Z"
   },
   {
    "duration": 20,
    "start_time": "2024-08-23T21:34:15.190Z"
   },
   {
    "duration": 33,
    "start_time": "2024-08-23T21:34:15.211Z"
   },
   {
    "duration": 33,
    "start_time": "2024-08-23T21:34:15.246Z"
   },
   {
    "duration": 17,
    "start_time": "2024-08-23T21:34:15.280Z"
   },
   {
    "duration": 21,
    "start_time": "2024-08-23T21:34:15.299Z"
   },
   {
    "duration": 26,
    "start_time": "2024-08-23T21:34:15.322Z"
   },
   {
    "duration": 23,
    "start_time": "2024-08-23T21:34:15.349Z"
   },
   {
    "duration": 17,
    "start_time": "2024-08-23T21:34:15.373Z"
   },
   {
    "duration": 24,
    "start_time": "2024-08-23T21:34:15.392Z"
   },
   {
    "duration": 38,
    "start_time": "2024-08-23T21:34:15.417Z"
   },
   {
    "duration": 24,
    "start_time": "2024-08-23T21:34:15.456Z"
   },
   {
    "duration": 30,
    "start_time": "2024-08-23T21:34:15.481Z"
   },
   {
    "duration": 148,
    "start_time": "2024-08-23T21:34:15.513Z"
   },
   {
    "duration": 95,
    "start_time": "2024-08-23T21:34:15.663Z"
   },
   {
    "duration": 257,
    "start_time": "2024-08-23T21:34:15.760Z"
   },
   {
    "duration": 151,
    "start_time": "2024-08-23T21:34:16.018Z"
   },
   {
    "duration": 7,
    "start_time": "2024-08-23T21:34:16.170Z"
   },
   {
    "duration": 184,
    "start_time": "2024-08-23T21:34:16.179Z"
   },
   {
    "duration": 150,
    "start_time": "2024-08-23T21:34:16.365Z"
   },
   {
    "duration": 2,
    "start_time": "2024-08-23T21:34:16.517Z"
   },
   {
    "duration": 25,
    "start_time": "2024-08-23T21:34:16.521Z"
   },
   {
    "duration": 219,
    "start_time": "2024-08-23T21:34:16.547Z"
   },
   {
    "duration": 127,
    "start_time": "2024-08-23T21:34:16.767Z"
   },
   {
    "duration": 12,
    "start_time": "2024-08-23T21:34:16.896Z"
   },
   {
    "duration": 24,
    "start_time": "2024-08-23T21:34:16.910Z"
   },
   {
    "duration": 16,
    "start_time": "2024-08-23T21:34:16.936Z"
   },
   {
    "duration": 18,
    "start_time": "2024-08-23T21:34:16.954Z"
   },
   {
    "duration": 24,
    "start_time": "2024-08-23T21:34:16.977Z"
   },
   {
    "duration": 26,
    "start_time": "2024-08-23T21:34:17.003Z"
   },
   {
    "duration": 4,
    "start_time": "2024-08-23T21:34:17.031Z"
   },
   {
    "duration": 29,
    "start_time": "2024-08-23T21:34:17.036Z"
   },
   {
    "duration": 26,
    "start_time": "2024-08-23T21:34:17.066Z"
   },
   {
    "duration": 262,
    "start_time": "2024-08-23T21:34:17.093Z"
   },
   {
    "duration": 278,
    "start_time": "2024-08-23T21:34:17.356Z"
   },
   {
    "duration": 12,
    "start_time": "2024-08-23T21:34:17.636Z"
   },
   {
    "duration": 44,
    "start_time": "2024-08-23T21:34:17.650Z"
   },
   {
    "duration": 19,
    "start_time": "2024-08-23T21:34:17.696Z"
   },
   {
    "duration": 29,
    "start_time": "2024-08-23T21:34:17.716Z"
   },
   {
    "duration": 26,
    "start_time": "2024-08-23T21:34:17.746Z"
   },
   {
    "duration": 485,
    "start_time": "2024-08-23T21:34:17.774Z"
   },
   {
    "duration": 5,
    "start_time": "2024-08-23T21:34:18.260Z"
   },
   {
    "duration": 28,
    "start_time": "2024-08-23T21:34:18.267Z"
   },
   {
    "duration": 12,
    "start_time": "2024-08-23T21:34:18.297Z"
   },
   {
    "duration": 25,
    "start_time": "2024-08-23T21:34:18.311Z"
   },
   {
    "duration": 630,
    "start_time": "2024-08-23T23:06:26.654Z"
   },
   {
    "duration": 277,
    "start_time": "2024-08-23T23:06:27.286Z"
   },
   {
    "duration": 11,
    "start_time": "2024-08-23T23:06:27.564Z"
   },
   {
    "duration": 11,
    "start_time": "2024-08-23T23:06:27.577Z"
   },
   {
    "duration": 41,
    "start_time": "2024-08-23T23:06:27.590Z"
   },
   {
    "duration": 18,
    "start_time": "2024-08-23T23:06:27.633Z"
   },
   {
    "duration": 387,
    "start_time": "2024-08-23T23:06:27.653Z"
   },
   {
    "duration": 9,
    "start_time": "2024-08-23T23:06:28.042Z"
   },
   {
    "duration": 15,
    "start_time": "2024-08-23T23:06:28.052Z"
   },
   {
    "duration": 7,
    "start_time": "2024-08-23T23:06:28.068Z"
   },
   {
    "duration": 9,
    "start_time": "2024-08-23T23:06:28.076Z"
   },
   {
    "duration": 4,
    "start_time": "2024-08-23T23:06:28.086Z"
   },
   {
    "duration": 8,
    "start_time": "2024-08-23T23:06:28.092Z"
   },
   {
    "duration": 5,
    "start_time": "2024-08-23T23:06:28.104Z"
   },
   {
    "duration": 41,
    "start_time": "2024-08-23T23:06:28.111Z"
   },
   {
    "duration": 6,
    "start_time": "2024-08-23T23:06:28.153Z"
   },
   {
    "duration": 5,
    "start_time": "2024-08-23T23:06:28.160Z"
   },
   {
    "duration": 6,
    "start_time": "2024-08-23T23:06:28.166Z"
   },
   {
    "duration": 5,
    "start_time": "2024-08-23T23:06:28.173Z"
   },
   {
    "duration": 6,
    "start_time": "2024-08-23T23:06:28.180Z"
   },
   {
    "duration": 14,
    "start_time": "2024-08-23T23:06:28.187Z"
   },
   {
    "duration": 5,
    "start_time": "2024-08-23T23:06:28.202Z"
   },
   {
    "duration": 7,
    "start_time": "2024-08-23T23:06:28.247Z"
   },
   {
    "duration": 48,
    "start_time": "2024-08-23T23:06:28.256Z"
   },
   {
    "duration": 149,
    "start_time": "2024-08-23T23:06:28.306Z"
   },
   {
    "duration": 102,
    "start_time": "2024-08-23T23:06:28.457Z"
   },
   {
    "duration": 270,
    "start_time": "2024-08-23T23:06:28.561Z"
   },
   {
    "duration": 158,
    "start_time": "2024-08-23T23:06:28.833Z"
   },
   {
    "duration": 9,
    "start_time": "2024-08-23T23:06:28.993Z"
   },
   {
    "duration": 245,
    "start_time": "2024-08-23T23:06:29.004Z"
   },
   {
    "duration": 163,
    "start_time": "2024-08-23T23:06:29.251Z"
   },
   {
    "duration": 3,
    "start_time": "2024-08-23T23:06:29.416Z"
   },
   {
    "duration": 10,
    "start_time": "2024-08-23T23:06:29.420Z"
   },
   {
    "duration": 220,
    "start_time": "2024-08-23T23:06:29.432Z"
   },
   {
    "duration": 130,
    "start_time": "2024-08-23T23:06:29.654Z"
   },
   {
    "duration": 8,
    "start_time": "2024-08-23T23:06:29.785Z"
   },
   {
    "duration": 8,
    "start_time": "2024-08-23T23:06:29.794Z"
   },
   {
    "duration": 4,
    "start_time": "2024-08-23T23:06:29.804Z"
   },
   {
    "duration": 7,
    "start_time": "2024-08-23T23:06:29.810Z"
   },
   {
    "duration": 17,
    "start_time": "2024-08-23T23:06:29.847Z"
   },
   {
    "duration": 17,
    "start_time": "2024-08-23T23:06:29.869Z"
   },
   {
    "duration": 4,
    "start_time": "2024-08-23T23:06:29.888Z"
   },
   {
    "duration": 21,
    "start_time": "2024-08-23T23:06:29.894Z"
   },
   {
    "duration": 41,
    "start_time": "2024-08-23T23:06:29.917Z"
   },
   {
    "duration": 269,
    "start_time": "2024-08-23T23:06:29.960Z"
   },
   {
    "duration": 278,
    "start_time": "2024-08-23T23:06:30.231Z"
   },
   {
    "duration": 12,
    "start_time": "2024-08-23T23:06:30.511Z"
   },
   {
    "duration": 52,
    "start_time": "2024-08-23T23:06:30.525Z"
   },
   {
    "duration": 10,
    "start_time": "2024-08-23T23:06:30.578Z"
   },
   {
    "duration": 27,
    "start_time": "2024-08-23T23:06:30.590Z"
   },
   {
    "duration": 17,
    "start_time": "2024-08-23T23:06:30.619Z"
   },
   {
    "duration": 495,
    "start_time": "2024-08-23T23:06:30.637Z"
   },
   {
    "duration": 6,
    "start_time": "2024-08-23T23:06:31.133Z"
   },
   {
    "duration": 5,
    "start_time": "2024-08-23T23:06:31.146Z"
   },
   {
    "duration": 9,
    "start_time": "2024-08-23T23:06:31.153Z"
   },
   {
    "duration": 5,
    "start_time": "2024-08-23T23:06:31.163Z"
   },
   {
    "duration": 4,
    "start_time": "2024-08-23T23:14:26.846Z"
   },
   {
    "duration": 35,
    "start_time": "2024-08-23T23:14:30.665Z"
   },
   {
    "duration": 7,
    "start_time": "2024-08-23T23:14:35.133Z"
   },
   {
    "duration": 11,
    "start_time": "2024-08-23T23:14:35.694Z"
   },
   {
    "duration": 8,
    "start_time": "2024-08-23T23:14:39.513Z"
   },
   {
    "duration": 650,
    "start_time": "2024-08-23T23:14:56.109Z"
   },
   {
    "duration": 68,
    "start_time": "2024-08-23T23:14:56.761Z"
   },
   {
    "duration": 11,
    "start_time": "2024-08-23T23:14:56.831Z"
   },
   {
    "duration": 11,
    "start_time": "2024-08-23T23:14:56.844Z"
   },
   {
    "duration": 9,
    "start_time": "2024-08-23T23:14:56.856Z"
   },
   {
    "duration": 10,
    "start_time": "2024-08-23T23:14:56.866Z"
   },
   {
    "duration": 379,
    "start_time": "2024-08-23T23:14:56.878Z"
   },
   {
    "duration": 7,
    "start_time": "2024-08-23T23:14:57.259Z"
   },
   {
    "duration": 20,
    "start_time": "2024-08-23T23:14:57.268Z"
   },
   {
    "duration": 31,
    "start_time": "2024-08-23T23:14:57.291Z"
   },
   {
    "duration": 11,
    "start_time": "2024-08-23T23:14:57.324Z"
   },
   {
    "duration": 10,
    "start_time": "2024-08-23T23:14:57.336Z"
   },
   {
    "duration": 8,
    "start_time": "2024-08-23T23:14:57.348Z"
   },
   {
    "duration": 6,
    "start_time": "2024-08-23T23:14:57.358Z"
   },
   {
    "duration": 19,
    "start_time": "2024-08-23T23:14:57.365Z"
   },
   {
    "duration": 6,
    "start_time": "2024-08-23T23:14:57.386Z"
   },
   {
    "duration": 9,
    "start_time": "2024-08-23T23:14:57.393Z"
   },
   {
    "duration": 5,
    "start_time": "2024-08-23T23:14:57.404Z"
   },
   {
    "duration": 7,
    "start_time": "2024-08-23T23:14:57.410Z"
   },
   {
    "duration": 30,
    "start_time": "2024-08-23T23:14:57.418Z"
   },
   {
    "duration": 10,
    "start_time": "2024-08-23T23:14:57.449Z"
   },
   {
    "duration": 6,
    "start_time": "2024-08-23T23:14:57.460Z"
   },
   {
    "duration": 17,
    "start_time": "2024-08-23T23:14:57.467Z"
   },
   {
    "duration": 9,
    "start_time": "2024-08-23T23:14:57.486Z"
   },
   {
    "duration": 149,
    "start_time": "2024-08-23T23:14:57.497Z"
   },
   {
    "duration": 107,
    "start_time": "2024-08-23T23:14:57.648Z"
   },
   {
    "duration": 287,
    "start_time": "2024-08-23T23:14:57.756Z"
   },
   {
    "duration": 157,
    "start_time": "2024-08-23T23:14:58.049Z"
   },
   {
    "duration": 7,
    "start_time": "2024-08-23T23:14:58.208Z"
   },
   {
    "duration": 218,
    "start_time": "2024-08-23T23:14:58.217Z"
   },
   {
    "duration": 160,
    "start_time": "2024-08-23T23:14:58.436Z"
   },
   {
    "duration": 2,
    "start_time": "2024-08-23T23:14:58.598Z"
   },
   {
    "duration": 12,
    "start_time": "2024-08-23T23:14:58.601Z"
   },
   {
    "duration": 208,
    "start_time": "2024-08-23T23:14:58.614Z"
   },
   {
    "duration": 133,
    "start_time": "2024-08-23T23:14:58.823Z"
   },
   {
    "duration": 8,
    "start_time": "2024-08-23T23:14:58.958Z"
   },
   {
    "duration": 37,
    "start_time": "2024-08-23T23:14:58.967Z"
   },
   {
    "duration": 8,
    "start_time": "2024-08-23T23:14:59.006Z"
   },
   {
    "duration": 7,
    "start_time": "2024-08-23T23:14:59.016Z"
   },
   {
    "duration": 17,
    "start_time": "2024-08-23T23:14:59.025Z"
   },
   {
    "duration": 20,
    "start_time": "2024-08-23T23:14:59.043Z"
   },
   {
    "duration": 4,
    "start_time": "2024-08-23T23:14:59.065Z"
   },
   {
    "duration": 17,
    "start_time": "2024-08-23T23:14:59.070Z"
   },
   {
    "duration": 15,
    "start_time": "2024-08-23T23:14:59.088Z"
   },
   {
    "duration": 282,
    "start_time": "2024-08-23T23:14:59.105Z"
   },
   {
    "duration": 279,
    "start_time": "2024-08-23T23:14:59.389Z"
   },
   {
    "duration": 12,
    "start_time": "2024-08-23T23:14:59.670Z"
   },
   {
    "duration": 44,
    "start_time": "2024-08-23T23:14:59.684Z"
   },
   {
    "duration": 23,
    "start_time": "2024-08-23T23:14:59.730Z"
   },
   {
    "duration": 6,
    "start_time": "2024-08-23T23:14:59.755Z"
   },
   {
    "duration": 11,
    "start_time": "2024-08-23T23:14:59.762Z"
   },
   {
    "duration": 515,
    "start_time": "2024-08-23T23:14:59.774Z"
   },
   {
    "duration": 5,
    "start_time": "2024-08-23T23:15:00.291Z"
   },
   {
    "duration": 71,
    "start_time": "2024-08-23T23:15:00.298Z"
   },
   {
    "duration": 22,
    "start_time": "2024-08-23T23:15:00.371Z"
   },
   {
    "duration": 41,
    "start_time": "2024-08-23T23:15:00.395Z"
   },
   {
    "duration": 583,
    "start_time": "2024-08-23T23:17:47.295Z"
   },
   {
    "duration": 69,
    "start_time": "2024-08-23T23:17:47.880Z"
   },
   {
    "duration": 12,
    "start_time": "2024-08-23T23:17:47.950Z"
   },
   {
    "duration": 24,
    "start_time": "2024-08-23T23:17:47.963Z"
   },
   {
    "duration": 32,
    "start_time": "2024-08-23T23:17:47.989Z"
   },
   {
    "duration": 11,
    "start_time": "2024-08-23T23:17:48.022Z"
   },
   {
    "duration": 377,
    "start_time": "2024-08-23T23:17:48.035Z"
   },
   {
    "duration": 7,
    "start_time": "2024-08-23T23:17:48.414Z"
   },
   {
    "duration": 10,
    "start_time": "2024-08-23T23:17:48.422Z"
   },
   {
    "duration": 18,
    "start_time": "2024-08-23T23:17:48.434Z"
   },
   {
    "duration": 19,
    "start_time": "2024-08-23T23:17:48.453Z"
   },
   {
    "duration": 5,
    "start_time": "2024-08-23T23:17:48.473Z"
   },
   {
    "duration": 12,
    "start_time": "2024-08-23T23:17:48.479Z"
   },
   {
    "duration": 5,
    "start_time": "2024-08-23T23:17:48.494Z"
   },
   {
    "duration": 6,
    "start_time": "2024-08-23T23:17:48.500Z"
   },
   {
    "duration": 17,
    "start_time": "2024-08-23T23:17:48.507Z"
   },
   {
    "duration": 21,
    "start_time": "2024-08-23T23:17:48.526Z"
   },
   {
    "duration": 6,
    "start_time": "2024-08-23T23:17:48.548Z"
   },
   {
    "duration": 6,
    "start_time": "2024-08-23T23:17:48.555Z"
   },
   {
    "duration": 6,
    "start_time": "2024-08-23T23:17:48.562Z"
   },
   {
    "duration": 7,
    "start_time": "2024-08-23T23:17:48.569Z"
   },
   {
    "duration": 5,
    "start_time": "2024-08-23T23:17:48.577Z"
   },
   {
    "duration": 5,
    "start_time": "2024-08-23T23:17:48.583Z"
   },
   {
    "duration": 6,
    "start_time": "2024-08-23T23:17:48.590Z"
   },
   {
    "duration": 186,
    "start_time": "2024-08-23T23:17:48.597Z"
   },
   {
    "duration": 103,
    "start_time": "2024-08-23T23:17:48.785Z"
   },
   {
    "duration": 276,
    "start_time": "2024-08-23T23:17:48.890Z"
   },
   {
    "duration": 158,
    "start_time": "2024-08-23T23:17:49.167Z"
   },
   {
    "duration": 7,
    "start_time": "2024-08-23T23:17:49.326Z"
   },
   {
    "duration": 199,
    "start_time": "2024-08-23T23:17:49.335Z"
   },
   {
    "duration": 187,
    "start_time": "2024-08-23T23:17:49.536Z"
   },
   {
    "duration": 2,
    "start_time": "2024-08-23T23:17:49.725Z"
   },
   {
    "duration": 4,
    "start_time": "2024-08-23T23:17:49.729Z"
   },
   {
    "duration": 210,
    "start_time": "2024-08-23T23:17:49.748Z"
   },
   {
    "duration": 147,
    "start_time": "2024-08-23T23:17:49.959Z"
   },
   {
    "duration": 9,
    "start_time": "2024-08-23T23:17:50.107Z"
   },
   {
    "duration": 10,
    "start_time": "2024-08-23T23:17:50.117Z"
   },
   {
    "duration": 19,
    "start_time": "2024-08-23T23:17:50.129Z"
   },
   {
    "duration": 10,
    "start_time": "2024-08-23T23:17:50.150Z"
   },
   {
    "duration": 38,
    "start_time": "2024-08-23T23:17:50.161Z"
   },
   {
    "duration": 17,
    "start_time": "2024-08-23T23:17:50.204Z"
   },
   {
    "duration": 4,
    "start_time": "2024-08-23T23:17:50.223Z"
   },
   {
    "duration": 24,
    "start_time": "2024-08-23T23:17:50.229Z"
   },
   {
    "duration": 14,
    "start_time": "2024-08-23T23:17:50.254Z"
   },
   {
    "duration": 316,
    "start_time": "2024-08-23T23:17:50.269Z"
   },
   {
    "duration": 270,
    "start_time": "2024-08-23T23:17:50.586Z"
   },
   {
    "duration": 12,
    "start_time": "2024-08-23T23:17:50.857Z"
   },
   {
    "duration": 34,
    "start_time": "2024-08-23T23:17:50.871Z"
   },
   {
    "duration": 10,
    "start_time": "2024-08-23T23:17:50.907Z"
   },
   {
    "duration": 30,
    "start_time": "2024-08-23T23:17:50.919Z"
   },
   {
    "duration": 86,
    "start_time": "2024-08-23T23:17:50.950Z"
   },
   {
    "duration": 483,
    "start_time": "2024-08-23T23:17:51.038Z"
   },
   {
    "duration": 5,
    "start_time": "2024-08-23T23:17:51.522Z"
   },
   {
    "duration": 16,
    "start_time": "2024-08-23T23:17:51.529Z"
   },
   {
    "duration": 8,
    "start_time": "2024-08-23T23:17:51.546Z"
   },
   {
    "duration": 21,
    "start_time": "2024-08-23T23:17:51.556Z"
   },
   {
    "duration": 291,
    "start_time": "2024-08-24T05:48:13.134Z"
   },
   {
    "duration": 858,
    "start_time": "2024-08-24T05:48:18.543Z"
   },
   {
    "duration": 285,
    "start_time": "2024-08-24T05:48:19.404Z"
   },
   {
    "duration": 12,
    "start_time": "2024-08-24T05:48:19.691Z"
   },
   {
    "duration": 13,
    "start_time": "2024-08-24T05:48:19.705Z"
   },
   {
    "duration": 16,
    "start_time": "2024-08-24T05:48:19.720Z"
   },
   {
    "duration": 11,
    "start_time": "2024-08-24T05:48:19.737Z"
   },
   {
    "duration": 407,
    "start_time": "2024-08-24T05:48:19.750Z"
   },
   {
    "duration": 10,
    "start_time": "2024-08-24T05:48:20.159Z"
   },
   {
    "duration": 11,
    "start_time": "2024-08-24T05:48:20.171Z"
   },
   {
    "duration": 7,
    "start_time": "2024-08-24T05:48:20.184Z"
   },
   {
    "duration": 11,
    "start_time": "2024-08-24T05:48:20.192Z"
   },
   {
    "duration": 10,
    "start_time": "2024-08-24T05:48:20.205Z"
   },
   {
    "duration": 8,
    "start_time": "2024-08-24T05:48:20.216Z"
   },
   {
    "duration": 39,
    "start_time": "2024-08-24T05:48:20.227Z"
   },
   {
    "duration": 10,
    "start_time": "2024-08-24T05:48:20.269Z"
   },
   {
    "duration": 9,
    "start_time": "2024-08-24T05:48:20.282Z"
   },
   {
    "duration": 5,
    "start_time": "2024-08-24T05:48:20.293Z"
   },
   {
    "duration": 6,
    "start_time": "2024-08-24T05:48:20.299Z"
   },
   {
    "duration": 5,
    "start_time": "2024-08-24T05:48:20.307Z"
   },
   {
    "duration": 9,
    "start_time": "2024-08-24T05:48:20.314Z"
   },
   {
    "duration": 48,
    "start_time": "2024-08-24T05:48:20.325Z"
   },
   {
    "duration": 24,
    "start_time": "2024-08-24T05:48:20.375Z"
   },
   {
    "duration": 7,
    "start_time": "2024-08-24T05:48:20.401Z"
   },
   {
    "duration": 9,
    "start_time": "2024-08-24T05:48:20.410Z"
   },
   {
    "duration": 171,
    "start_time": "2024-08-24T05:48:20.421Z"
   },
   {
    "duration": 111,
    "start_time": "2024-08-24T05:48:20.594Z"
   },
   {
    "duration": 317,
    "start_time": "2024-08-24T05:48:20.707Z"
   },
   {
    "duration": 182,
    "start_time": "2024-08-24T05:48:21.026Z"
   },
   {
    "duration": 8,
    "start_time": "2024-08-24T05:48:21.210Z"
   },
   {
    "duration": 216,
    "start_time": "2024-08-24T05:48:21.219Z"
   },
   {
    "duration": 184,
    "start_time": "2024-08-24T05:48:21.438Z"
   },
   {
    "duration": 4,
    "start_time": "2024-08-24T05:48:21.623Z"
   },
   {
    "duration": 5,
    "start_time": "2024-08-24T05:48:21.628Z"
   },
   {
    "duration": 267,
    "start_time": "2024-08-24T05:48:21.635Z"
   },
   {
    "duration": 157,
    "start_time": "2024-08-24T05:48:21.904Z"
   },
   {
    "duration": 12,
    "start_time": "2024-08-24T05:48:22.065Z"
   },
   {
    "duration": 10,
    "start_time": "2024-08-24T05:48:22.079Z"
   },
   {
    "duration": 4,
    "start_time": "2024-08-24T05:48:22.090Z"
   },
   {
    "duration": 8,
    "start_time": "2024-08-24T05:48:22.095Z"
   },
   {
    "duration": 18,
    "start_time": "2024-08-24T05:48:22.105Z"
   },
   {
    "duration": 58,
    "start_time": "2024-08-24T05:48:22.127Z"
   },
   {
    "duration": 5,
    "start_time": "2024-08-24T05:48:22.187Z"
   },
   {
    "duration": 18,
    "start_time": "2024-08-24T05:48:22.193Z"
   },
   {
    "duration": 14,
    "start_time": "2024-08-24T05:48:22.213Z"
   },
   {
    "duration": 345,
    "start_time": "2024-08-24T05:48:22.229Z"
   },
   {
    "duration": 291,
    "start_time": "2024-08-24T05:48:22.576Z"
   },
   {
    "duration": 15,
    "start_time": "2024-08-24T05:48:22.868Z"
   },
   {
    "duration": 72,
    "start_time": "2024-08-24T05:48:22.886Z"
   },
   {
    "duration": 45,
    "start_time": "2024-08-24T05:48:22.960Z"
   },
   {
    "duration": 12,
    "start_time": "2024-08-24T05:48:23.007Z"
   },
   {
    "duration": 6,
    "start_time": "2024-08-24T05:48:23.020Z"
   },
   {
    "duration": 11,
    "start_time": "2024-08-24T05:48:23.028Z"
   },
   {
    "duration": 527,
    "start_time": "2024-08-24T05:48:23.040Z"
   },
   {
    "duration": 7,
    "start_time": "2024-08-24T05:48:23.569Z"
   },
   {
    "duration": 6,
    "start_time": "2024-08-24T05:48:23.577Z"
   },
   {
    "duration": 8,
    "start_time": "2024-08-24T05:48:23.585Z"
   },
   {
    "duration": 5,
    "start_time": "2024-08-24T05:48:23.595Z"
   },
   {
    "duration": 620,
    "start_time": "2024-08-24T05:50:04.220Z"
   },
   {
    "duration": 77,
    "start_time": "2024-08-24T05:50:04.841Z"
   },
   {
    "duration": 12,
    "start_time": "2024-08-24T05:50:04.920Z"
   },
   {
    "duration": 35,
    "start_time": "2024-08-24T05:50:04.934Z"
   },
   {
    "duration": 13,
    "start_time": "2024-08-24T05:50:04.971Z"
   },
   {
    "duration": 10,
    "start_time": "2024-08-24T05:50:04.986Z"
   },
   {
    "duration": 407,
    "start_time": "2024-08-24T05:50:04.997Z"
   },
   {
    "duration": 7,
    "start_time": "2024-08-24T05:50:05.406Z"
   },
   {
    "duration": 51,
    "start_time": "2024-08-24T05:50:05.414Z"
   },
   {
    "duration": 34,
    "start_time": "2024-08-24T05:50:05.468Z"
   },
   {
    "duration": 19,
    "start_time": "2024-08-24T05:50:05.503Z"
   },
   {
    "duration": 5,
    "start_time": "2024-08-24T05:50:05.523Z"
   },
   {
    "duration": 9,
    "start_time": "2024-08-24T05:50:05.529Z"
   },
   {
    "duration": 17,
    "start_time": "2024-08-24T05:50:05.539Z"
   },
   {
    "duration": 16,
    "start_time": "2024-08-24T05:50:05.558Z"
   },
   {
    "duration": 11,
    "start_time": "2024-08-24T05:50:05.577Z"
   },
   {
    "duration": 6,
    "start_time": "2024-08-24T05:50:05.589Z"
   },
   {
    "duration": 14,
    "start_time": "2024-08-24T05:50:05.596Z"
   },
   {
    "duration": 27,
    "start_time": "2024-08-24T05:50:05.611Z"
   },
   {
    "duration": 31,
    "start_time": "2024-08-24T05:50:05.640Z"
   },
   {
    "duration": 12,
    "start_time": "2024-08-24T05:50:05.673Z"
   },
   {
    "duration": 5,
    "start_time": "2024-08-24T05:50:05.687Z"
   },
   {
    "duration": 14,
    "start_time": "2024-08-24T05:50:05.694Z"
   },
   {
    "duration": 11,
    "start_time": "2024-08-24T05:50:05.710Z"
   },
   {
    "duration": 190,
    "start_time": "2024-08-24T05:50:05.722Z"
   },
   {
    "duration": 114,
    "start_time": "2024-08-24T05:50:05.913Z"
   },
   {
    "duration": 317,
    "start_time": "2024-08-24T05:50:06.030Z"
   },
   {
    "duration": 195,
    "start_time": "2024-08-24T05:50:06.352Z"
   },
   {
    "duration": 17,
    "start_time": "2024-08-24T05:50:06.549Z"
   },
   {
    "duration": 221,
    "start_time": "2024-08-24T05:50:06.568Z"
   },
   {
    "duration": 183,
    "start_time": "2024-08-24T05:50:06.790Z"
   },
   {
    "duration": 3,
    "start_time": "2024-08-24T05:50:06.975Z"
   },
   {
    "duration": 3,
    "start_time": "2024-08-24T05:50:06.980Z"
   },
   {
    "duration": 236,
    "start_time": "2024-08-24T05:50:06.985Z"
   },
   {
    "duration": 142,
    "start_time": "2024-08-24T05:50:07.223Z"
   },
   {
    "duration": 15,
    "start_time": "2024-08-24T05:50:07.367Z"
   },
   {
    "duration": 46,
    "start_time": "2024-08-24T05:50:07.383Z"
   },
   {
    "duration": 17,
    "start_time": "2024-08-24T05:50:07.431Z"
   },
   {
    "duration": 16,
    "start_time": "2024-08-24T05:50:07.449Z"
   },
   {
    "duration": 23,
    "start_time": "2024-08-24T05:50:07.467Z"
   },
   {
    "duration": 18,
    "start_time": "2024-08-24T05:50:07.491Z"
   },
   {
    "duration": 4,
    "start_time": "2024-08-24T05:50:07.510Z"
   },
   {
    "duration": 21,
    "start_time": "2024-08-24T05:50:07.515Z"
   },
   {
    "duration": 46,
    "start_time": "2024-08-24T05:50:07.538Z"
   },
   {
    "duration": 288,
    "start_time": "2024-08-24T05:50:07.585Z"
   },
   {
    "duration": 336,
    "start_time": "2024-08-24T05:50:07.876Z"
   },
   {
    "duration": 14,
    "start_time": "2024-08-24T05:50:08.213Z"
   },
   {
    "duration": 22,
    "start_time": "2024-08-24T05:50:08.228Z"
   },
   {
    "duration": 46,
    "start_time": "2024-08-24T05:50:08.252Z"
   },
   {
    "duration": 3,
    "start_time": "2024-08-24T05:50:08.300Z"
   },
   {
    "duration": 8,
    "start_time": "2024-08-24T05:50:08.304Z"
   },
   {
    "duration": 15,
    "start_time": "2024-08-24T05:50:08.314Z"
   },
   {
    "duration": 518,
    "start_time": "2024-08-24T05:50:08.331Z"
   },
   {
    "duration": 5,
    "start_time": "2024-08-24T05:50:08.851Z"
   },
   {
    "duration": 9,
    "start_time": "2024-08-24T05:50:08.858Z"
   },
   {
    "duration": 10,
    "start_time": "2024-08-24T05:50:08.868Z"
   },
   {
    "duration": 6,
    "start_time": "2024-08-24T05:50:08.879Z"
   },
   {
    "duration": 6,
    "start_time": "2024-08-24T05:53:41.446Z"
   },
   {
    "duration": 6,
    "start_time": "2024-08-24T05:54:03.827Z"
   },
   {
    "duration": 10,
    "start_time": "2024-08-24T05:54:29.596Z"
   },
   {
    "duration": 640,
    "start_time": "2024-08-24T05:56:47.798Z"
   },
   {
    "duration": 78,
    "start_time": "2024-08-24T05:56:48.440Z"
   },
   {
    "duration": 13,
    "start_time": "2024-08-24T05:56:48.522Z"
   },
   {
    "duration": 27,
    "start_time": "2024-08-24T05:56:48.537Z"
   },
   {
    "duration": 41,
    "start_time": "2024-08-24T05:56:48.566Z"
   },
   {
    "duration": 42,
    "start_time": "2024-08-24T05:56:48.608Z"
   },
   {
    "duration": 532,
    "start_time": "2024-08-24T05:56:48.652Z"
   },
   {
    "duration": 8,
    "start_time": "2024-08-24T05:56:49.185Z"
   },
   {
    "duration": 27,
    "start_time": "2024-08-24T05:56:49.194Z"
   },
   {
    "duration": 23,
    "start_time": "2024-08-24T05:56:49.223Z"
   },
   {
    "duration": 16,
    "start_time": "2024-08-24T05:56:49.247Z"
   },
   {
    "duration": 41,
    "start_time": "2024-08-24T05:56:49.264Z"
   },
   {
    "duration": 32,
    "start_time": "2024-08-24T05:56:49.308Z"
   },
   {
    "duration": 30,
    "start_time": "2024-08-24T05:56:49.341Z"
   },
   {
    "duration": 19,
    "start_time": "2024-08-24T05:56:49.373Z"
   },
   {
    "duration": 55,
    "start_time": "2024-08-24T05:56:49.394Z"
   },
   {
    "duration": 22,
    "start_time": "2024-08-24T05:56:49.451Z"
   },
   {
    "duration": 19,
    "start_time": "2024-08-24T05:56:49.475Z"
   },
   {
    "duration": 14,
    "start_time": "2024-08-24T05:56:49.496Z"
   },
   {
    "duration": 38,
    "start_time": "2024-08-24T05:56:49.512Z"
   },
   {
    "duration": 13,
    "start_time": "2024-08-24T05:56:49.552Z"
   },
   {
    "duration": 27,
    "start_time": "2024-08-24T05:56:49.567Z"
   },
   {
    "duration": 22,
    "start_time": "2024-08-24T05:56:49.596Z"
   },
   {
    "duration": 13,
    "start_time": "2024-08-24T05:56:49.620Z"
   },
   {
    "duration": 194,
    "start_time": "2024-08-24T05:56:49.635Z"
   },
   {
    "duration": 106,
    "start_time": "2024-08-24T05:56:49.831Z"
   },
   {
    "duration": 297,
    "start_time": "2024-08-24T05:56:49.939Z"
   },
   {
    "duration": 206,
    "start_time": "2024-08-24T05:56:50.238Z"
   },
   {
    "duration": 7,
    "start_time": "2024-08-24T05:56:50.446Z"
   },
   {
    "duration": 206,
    "start_time": "2024-08-24T05:56:50.454Z"
   },
   {
    "duration": 194,
    "start_time": "2024-08-24T05:56:50.664Z"
   },
   {
    "duration": 2,
    "start_time": "2024-08-24T05:56:50.864Z"
   },
   {
    "duration": 7,
    "start_time": "2024-08-24T05:56:50.868Z"
   },
   {
    "duration": 225,
    "start_time": "2024-08-24T05:56:50.877Z"
   },
   {
    "duration": 141,
    "start_time": "2024-08-24T05:56:51.103Z"
   },
   {
    "duration": 8,
    "start_time": "2024-08-24T05:56:51.245Z"
   },
   {
    "duration": 12,
    "start_time": "2024-08-24T05:56:51.255Z"
   },
   {
    "duration": 5,
    "start_time": "2024-08-24T05:56:51.268Z"
   },
   {
    "duration": 8,
    "start_time": "2024-08-24T05:56:51.274Z"
   },
   {
    "duration": 37,
    "start_time": "2024-08-24T05:56:51.286Z"
   },
   {
    "duration": 27,
    "start_time": "2024-08-24T05:56:51.324Z"
   },
   {
    "duration": 4,
    "start_time": "2024-08-24T05:56:51.352Z"
   },
   {
    "duration": 17,
    "start_time": "2024-08-24T05:56:51.357Z"
   },
   {
    "duration": 12,
    "start_time": "2024-08-24T05:56:51.376Z"
   },
   {
    "duration": 316,
    "start_time": "2024-08-24T05:56:51.389Z"
   },
   {
    "duration": 290,
    "start_time": "2024-08-24T05:56:51.707Z"
   },
   {
    "duration": 13,
    "start_time": "2024-08-24T05:56:51.999Z"
   },
   {
    "duration": 62,
    "start_time": "2024-08-24T05:56:52.014Z"
   },
   {
    "duration": 2,
    "start_time": "2024-08-24T05:56:52.078Z"
   },
   {
    "duration": 11,
    "start_time": "2024-08-24T05:56:52.082Z"
   },
   {
    "duration": 16,
    "start_time": "2024-08-24T05:56:52.095Z"
   },
   {
    "duration": 546,
    "start_time": "2024-08-24T05:56:52.113Z"
   },
   {
    "duration": 8,
    "start_time": "2024-08-24T05:56:52.660Z"
   },
   {
    "duration": 8,
    "start_time": "2024-08-24T05:56:52.669Z"
   },
   {
    "duration": 10,
    "start_time": "2024-08-24T05:56:52.678Z"
   },
   {
    "duration": 7,
    "start_time": "2024-08-24T05:56:52.690Z"
   },
   {
    "duration": 808,
    "start_time": "2024-08-25T05:10:32.003Z"
   },
   {
    "duration": 287,
    "start_time": "2024-08-25T05:10:32.813Z"
   },
   {
    "duration": 12,
    "start_time": "2024-08-25T05:10:33.101Z"
   },
   {
    "duration": 28,
    "start_time": "2024-08-25T05:10:33.115Z"
   },
   {
    "duration": 17,
    "start_time": "2024-08-25T05:10:33.145Z"
   },
   {
    "duration": 14,
    "start_time": "2024-08-25T05:10:33.164Z"
   },
   {
    "duration": 391,
    "start_time": "2024-08-25T05:10:33.180Z"
   },
   {
    "duration": 7,
    "start_time": "2024-08-25T05:10:33.573Z"
   },
   {
    "duration": 19,
    "start_time": "2024-08-25T05:10:33.581Z"
   },
   {
    "duration": 15,
    "start_time": "2024-08-25T05:10:33.602Z"
   },
   {
    "duration": 10,
    "start_time": "2024-08-25T05:10:33.619Z"
   },
   {
    "duration": 6,
    "start_time": "2024-08-25T05:10:33.631Z"
   },
   {
    "duration": 33,
    "start_time": "2024-08-25T05:10:33.639Z"
   },
   {
    "duration": 10,
    "start_time": "2024-08-25T05:10:33.675Z"
   },
   {
    "duration": 7,
    "start_time": "2024-08-25T05:10:33.687Z"
   },
   {
    "duration": 12,
    "start_time": "2024-08-25T05:10:33.695Z"
   },
   {
    "duration": 5,
    "start_time": "2024-08-25T05:10:33.708Z"
   },
   {
    "duration": 6,
    "start_time": "2024-08-25T05:10:33.714Z"
   },
   {
    "duration": 6,
    "start_time": "2024-08-25T05:10:33.721Z"
   },
   {
    "duration": 39,
    "start_time": "2024-08-25T05:10:33.729Z"
   },
   {
    "duration": 8,
    "start_time": "2024-08-25T05:10:33.769Z"
   },
   {
    "duration": 5,
    "start_time": "2024-08-25T05:10:33.779Z"
   },
   {
    "duration": 6,
    "start_time": "2024-08-25T05:10:33.785Z"
   },
   {
    "duration": 7,
    "start_time": "2024-08-25T05:10:33.792Z"
   },
   {
    "duration": 184,
    "start_time": "2024-08-25T05:10:33.801Z"
   },
   {
    "duration": 101,
    "start_time": "2024-08-25T05:10:33.987Z"
   },
   {
    "duration": 281,
    "start_time": "2024-08-25T05:10:34.090Z"
   },
   {
    "duration": 162,
    "start_time": "2024-08-25T05:10:34.373Z"
   },
   {
    "duration": 7,
    "start_time": "2024-08-25T05:10:34.537Z"
   },
   {
    "duration": 209,
    "start_time": "2024-08-25T05:10:34.545Z"
   },
   {
    "duration": 173,
    "start_time": "2024-08-25T05:10:34.755Z"
   },
   {
    "duration": 3,
    "start_time": "2024-08-25T05:10:34.930Z"
   },
   {
    "duration": 20,
    "start_time": "2024-08-25T05:10:34.934Z"
   },
   {
    "duration": 234,
    "start_time": "2024-08-25T05:10:34.955Z"
   },
   {
    "duration": 143,
    "start_time": "2024-08-25T05:10:35.190Z"
   },
   {
    "duration": 8,
    "start_time": "2024-08-25T05:10:35.335Z"
   },
   {
    "duration": 32,
    "start_time": "2024-08-25T05:10:35.344Z"
   },
   {
    "duration": 15,
    "start_time": "2024-08-25T05:10:35.377Z"
   },
   {
    "duration": 23,
    "start_time": "2024-08-25T05:10:35.393Z"
   },
   {
    "duration": 24,
    "start_time": "2024-08-25T05:10:35.417Z"
   },
   {
    "duration": 20,
    "start_time": "2024-08-25T05:10:35.445Z"
   },
   {
    "duration": 8,
    "start_time": "2024-08-25T05:10:35.467Z"
   },
   {
    "duration": 80,
    "start_time": "2024-08-25T05:10:35.477Z"
   },
   {
    "duration": 16,
    "start_time": "2024-08-25T05:10:35.559Z"
   },
   {
    "duration": 283,
    "start_time": "2024-08-25T05:10:35.577Z"
   },
   {
    "duration": 286,
    "start_time": "2024-08-25T05:10:35.861Z"
   },
   {
    "duration": 17,
    "start_time": "2024-08-25T05:10:36.149Z"
   },
   {
    "duration": 38,
    "start_time": "2024-08-25T05:10:36.167Z"
   },
   {
    "duration": 2,
    "start_time": "2024-08-25T05:10:36.207Z"
   },
   {
    "duration": 29,
    "start_time": "2024-08-25T05:10:36.210Z"
   },
   {
    "duration": 44,
    "start_time": "2024-08-25T05:10:36.240Z"
   },
   {
    "duration": 472,
    "start_time": "2024-08-25T05:10:36.286Z"
   },
   {
    "duration": 7,
    "start_time": "2024-08-25T05:10:36.760Z"
   },
   {
    "duration": 14,
    "start_time": "2024-08-25T05:10:36.768Z"
   },
   {
    "duration": 10,
    "start_time": "2024-08-25T05:10:36.783Z"
   },
   {
    "duration": 25,
    "start_time": "2024-08-25T05:10:36.795Z"
   },
   {
    "duration": 615,
    "start_time": "2024-08-25T05:12:33.096Z"
   },
   {
    "duration": 67,
    "start_time": "2024-08-25T05:12:33.713Z"
   },
   {
    "duration": 12,
    "start_time": "2024-08-25T05:12:33.782Z"
   },
   {
    "duration": 11,
    "start_time": "2024-08-25T05:12:33.796Z"
   },
   {
    "duration": 27,
    "start_time": "2024-08-25T05:12:33.809Z"
   },
   {
    "duration": 23,
    "start_time": "2024-08-25T05:12:33.838Z"
   },
   {
    "duration": 378,
    "start_time": "2024-08-25T05:12:33.863Z"
   },
   {
    "duration": 6,
    "start_time": "2024-08-25T05:12:34.243Z"
   },
   {
    "duration": 18,
    "start_time": "2024-08-25T05:12:34.251Z"
   },
   {
    "duration": 60,
    "start_time": "2024-08-25T05:12:34.270Z"
   },
   {
    "duration": 10,
    "start_time": "2024-08-25T05:12:34.331Z"
   },
   {
    "duration": 14,
    "start_time": "2024-08-25T05:12:34.342Z"
   },
   {
    "duration": 9,
    "start_time": "2024-08-25T05:12:34.357Z"
   },
   {
    "duration": 8,
    "start_time": "2024-08-25T05:12:34.369Z"
   },
   {
    "duration": 5,
    "start_time": "2024-08-25T05:12:34.379Z"
   },
   {
    "duration": 5,
    "start_time": "2024-08-25T05:12:34.386Z"
   },
   {
    "duration": 5,
    "start_time": "2024-08-25T05:12:34.392Z"
   },
   {
    "duration": 6,
    "start_time": "2024-08-25T05:12:34.398Z"
   },
   {
    "duration": 13,
    "start_time": "2024-08-25T05:12:34.405Z"
   },
   {
    "duration": 10,
    "start_time": "2024-08-25T05:12:34.420Z"
   },
   {
    "duration": 34,
    "start_time": "2024-08-25T05:12:34.432Z"
   },
   {
    "duration": 5,
    "start_time": "2024-08-25T05:12:34.468Z"
   },
   {
    "duration": 13,
    "start_time": "2024-08-25T05:12:34.474Z"
   },
   {
    "duration": 9,
    "start_time": "2024-08-25T05:12:34.488Z"
   },
   {
    "duration": 173,
    "start_time": "2024-08-25T05:12:34.498Z"
   },
   {
    "duration": 107,
    "start_time": "2024-08-25T05:12:34.673Z"
   },
   {
    "duration": 296,
    "start_time": "2024-08-25T05:12:34.782Z"
   },
   {
    "duration": 162,
    "start_time": "2024-08-25T05:12:35.080Z"
   },
   {
    "duration": 8,
    "start_time": "2024-08-25T05:12:35.243Z"
   },
   {
    "duration": 267,
    "start_time": "2024-08-25T05:12:35.265Z"
   },
   {
    "duration": 167,
    "start_time": "2024-08-25T05:12:35.533Z"
   },
   {
    "duration": 3,
    "start_time": "2024-08-25T05:12:35.701Z"
   },
   {
    "duration": 9,
    "start_time": "2024-08-25T05:12:35.705Z"
   },
   {
    "duration": 228,
    "start_time": "2024-08-25T05:12:35.715Z"
   },
   {
    "duration": 134,
    "start_time": "2024-08-25T05:12:35.945Z"
   },
   {
    "duration": 8,
    "start_time": "2024-08-25T05:12:36.080Z"
   },
   {
    "duration": 15,
    "start_time": "2024-08-25T05:12:36.089Z"
   },
   {
    "duration": 6,
    "start_time": "2024-08-25T05:12:36.106Z"
   },
   {
    "duration": 8,
    "start_time": "2024-08-25T05:12:36.113Z"
   },
   {
    "duration": 17,
    "start_time": "2024-08-25T05:12:36.122Z"
   },
   {
    "duration": 17,
    "start_time": "2024-08-25T05:12:36.165Z"
   },
   {
    "duration": 3,
    "start_time": "2024-08-25T05:12:36.184Z"
   },
   {
    "duration": 21,
    "start_time": "2024-08-25T05:12:36.189Z"
   },
   {
    "duration": 14,
    "start_time": "2024-08-25T05:12:36.211Z"
   },
   {
    "duration": 287,
    "start_time": "2024-08-25T05:12:36.226Z"
   },
   {
    "duration": 295,
    "start_time": "2024-08-25T05:12:36.514Z"
   },
   {
    "duration": 13,
    "start_time": "2024-08-25T05:12:36.811Z"
   },
   {
    "duration": 51,
    "start_time": "2024-08-25T05:12:36.825Z"
   },
   {
    "duration": 2,
    "start_time": "2024-08-25T05:12:36.878Z"
   },
   {
    "duration": 9,
    "start_time": "2024-08-25T05:12:36.882Z"
   },
   {
    "duration": 27,
    "start_time": "2024-08-25T05:12:36.892Z"
   },
   {
    "duration": 528,
    "start_time": "2024-08-25T05:12:36.921Z"
   },
   {
    "duration": 14,
    "start_time": "2024-08-25T05:12:37.451Z"
   },
   {
    "duration": 6,
    "start_time": "2024-08-25T05:12:37.466Z"
   },
   {
    "duration": 79,
    "start_time": "2024-08-25T05:12:37.473Z"
   },
   {
    "duration": 20,
    "start_time": "2024-08-25T05:12:37.554Z"
   }
  ],
  "kernelspec": {
   "display_name": "Python 3 (ipykernel)",
   "language": "python",
   "name": "python3"
  },
  "language_info": {
   "codemirror_mode": {
    "name": "ipython",
    "version": 3
   },
   "file_extension": ".py",
   "mimetype": "text/x-python",
   "name": "python",
   "nbconvert_exporter": "python",
   "pygments_lexer": "ipython3",
   "version": "3.9.5"
  },
  "toc": {
   "base_numbering": 1,
   "nav_menu": {},
   "number_sections": true,
   "sideBar": true,
   "skip_h1_title": true,
   "title_cell": "Table of Contents",
   "title_sidebar": "Contents",
   "toc_cell": false,
   "toc_position": {
    "height": "calc(100% - 180px)",
    "left": "10px",
    "top": "150px",
    "width": "384px"
   },
   "toc_section_display": true,
   "toc_window_display": true
  }
 },
 "nbformat": 4,
 "nbformat_minor": 5
}
